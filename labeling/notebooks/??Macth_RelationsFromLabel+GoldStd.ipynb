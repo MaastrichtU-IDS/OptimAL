{
 "cells": [
  {
   "cell_type": "code",
   "execution_count": 1,
   "metadata": {},
   "outputs": [],
   "source": [
    "import pandas as pd"
   ]
  },
  {
   "cell_type": "code",
   "execution_count": 2,
   "metadata": {},
   "outputs": [],
   "source": [
    "gold_std = pd.read_csv(\"../drugindication_ml/data/input/unified-gold-standard-umls.txt\", sep=\"\\t\")"
   ]
  },
  {
   "cell_type": "code",
   "execution_count": 3,
   "metadata": {},
   "outputs": [
    {
     "data": {
      "text/html": [
       "<div>\n",
       "<style scoped>\n",
       "    .dataframe tbody tr th:only-of-type {\n",
       "        vertical-align: middle;\n",
       "    }\n",
       "\n",
       "    .dataframe tbody tr th {\n",
       "        vertical-align: top;\n",
       "    }\n",
       "\n",
       "    .dataframe thead th {\n",
       "        text-align: right;\n",
       "    }\n",
       "</style>\n",
       "<table border=\"1\" class=\"dataframe\">\n",
       "  <thead>\n",
       "    <tr style=\"text-align: right;\">\n",
       "      <th></th>\n",
       "      <th>Drug</th>\n",
       "      <th>Disease</th>\n",
       "    </tr>\n",
       "  </thead>\n",
       "  <tbody>\n",
       "    <tr>\n",
       "      <th>0</th>\n",
       "      <td>DB06768</td>\n",
       "      <td>C0085074</td>\n",
       "    </tr>\n",
       "    <tr>\n",
       "      <th>1</th>\n",
       "      <td>DB00013</td>\n",
       "      <td>C0042487</td>\n",
       "    </tr>\n",
       "    <tr>\n",
       "      <th>2</th>\n",
       "      <td>DB01620</td>\n",
       "      <td>C0242429</td>\n",
       "    </tr>\n",
       "    <tr>\n",
       "      <th>3</th>\n",
       "      <td>DB00564</td>\n",
       "      <td>C0234974</td>\n",
       "    </tr>\n",
       "    <tr>\n",
       "      <th>4</th>\n",
       "      <td>DB01380</td>\n",
       "      <td>C2937222</td>\n",
       "    </tr>\n",
       "  </tbody>\n",
       "</table>\n",
       "</div>"
      ],
      "text/plain": [
       "      Drug   Disease\n",
       "0  DB06768  C0085074\n",
       "1  DB00013  C0042487\n",
       "2  DB01620  C0242429\n",
       "3  DB00564  C0234974\n",
       "4  DB01380  C2937222"
      ]
     },
     "execution_count": 3,
     "metadata": {},
     "output_type": "execute_result"
    }
   ],
   "source": [
    "gold_std.head()"
   ]
  },
  {
   "cell_type": "code",
   "execution_count": 12,
   "metadata": {},
   "outputs": [
    {
     "data": {
      "text/plain": [
       "8951"
      ]
     },
     "execution_count": 12,
     "metadata": {},
     "output_type": "execute_result"
    }
   ],
   "source": [
    "len(gold_std.drop_duplicates(['Drug','Disease']))"
   ]
  },
  {
   "cell_type": "code",
   "execution_count": 4,
   "metadata": {},
   "outputs": [
    {
     "data": {
      "text/html": [
       "<div>\n",
       "<style scoped>\n",
       "    .dataframe tbody tr th:only-of-type {\n",
       "        vertical-align: middle;\n",
       "    }\n",
       "\n",
       "    .dataframe tbody tr th {\n",
       "        vertical-align: top;\n",
       "    }\n",
       "\n",
       "    .dataframe thead th {\n",
       "        text-align: right;\n",
       "    }\n",
       "</style>\n",
       "<table border=\"1\" class=\"dataframe\">\n",
       "  <thead>\n",
       "    <tr style=\"text-align: right;\">\n",
       "      <th></th>\n",
       "      <th>Label_ID</th>\n",
       "      <th>From</th>\n",
       "      <th>To</th>\n",
       "      <th>Type</th>\n",
       "      <th>Annotation</th>\n",
       "      <th>Context</th>\n",
       "      <th>DO_ID</th>\n",
       "      <th>Drug</th>\n",
       "      <th>DrugName</th>\n",
       "      <th>Disease</th>\n",
       "    </tr>\n",
       "  </thead>\n",
       "  <tbody>\n",
       "    <tr>\n",
       "      <th>0</th>\n",
       "      <td>00dd39bc-874e-4250-935d-99882ca0e558.xml</td>\n",
       "      <td>138</td>\n",
       "      <td>143</td>\n",
       "      <td>PREF</td>\n",
       "      <td>ASTHMA</td>\n",
       "      <td>Montelukast sodium is a leukotriene receptor a...</td>\n",
       "      <td>DOID:2841</td>\n",
       "      <td>DB00471</td>\n",
       "      <td>MONTELUKAST</td>\n",
       "      <td>C0004096</td>\n",
       "    </tr>\n",
       "    <tr>\n",
       "      <th>1</th>\n",
       "      <td>00dd39bc-874e-4250-935d-99882ca0e558.xml</td>\n",
       "      <td>138</td>\n",
       "      <td>143</td>\n",
       "      <td>PREF</td>\n",
       "      <td>ASTHMA</td>\n",
       "      <td>Montelukast sodium is a leukotriene receptor a...</td>\n",
       "      <td>DOID:2841</td>\n",
       "      <td>DB00471</td>\n",
       "      <td>MONTELUKAST</td>\n",
       "      <td>C0038218</td>\n",
       "    </tr>\n",
       "    <tr>\n",
       "      <th>2</th>\n",
       "      <td>00dd39bc-874e-4250-935d-99882ca0e558.xml</td>\n",
       "      <td>138</td>\n",
       "      <td>143</td>\n",
       "      <td>PREF</td>\n",
       "      <td>ASTHMA</td>\n",
       "      <td>Montelukast sodium is a leukotriene receptor a...</td>\n",
       "      <td>DOID:2841</td>\n",
       "      <td>DB00471</td>\n",
       "      <td>MONTELUKAST</td>\n",
       "      <td>C0155877</td>\n",
       "    </tr>\n",
       "    <tr>\n",
       "      <th>3</th>\n",
       "      <td>00dd39bc-874e-4250-935d-99882ca0e558.xml</td>\n",
       "      <td>138</td>\n",
       "      <td>143</td>\n",
       "      <td>PREF</td>\n",
       "      <td>ASTHMA</td>\n",
       "      <td>Montelukast sodium is a leukotriene receptor a...</td>\n",
       "      <td>DOID:2841</td>\n",
       "      <td>DB00471</td>\n",
       "      <td>MONTELUKAST</td>\n",
       "      <td>C0155880</td>\n",
       "    </tr>\n",
       "    <tr>\n",
       "      <th>4</th>\n",
       "      <td>00dd39bc-874e-4250-935d-99882ca0e558.xml</td>\n",
       "      <td>138</td>\n",
       "      <td>143</td>\n",
       "      <td>PREF</td>\n",
       "      <td>ASTHMA</td>\n",
       "      <td>Montelukast sodium is a leukotriene receptor a...</td>\n",
       "      <td>DOID:2841</td>\n",
       "      <td>DB00471</td>\n",
       "      <td>MONTELUKAST</td>\n",
       "      <td>C0694548</td>\n",
       "    </tr>\n",
       "  </tbody>\n",
       "</table>\n",
       "</div>"
      ],
      "text/plain": [
       "                                   Label_ID  From   To  Type Annotation  \\\n",
       "0  00dd39bc-874e-4250-935d-99882ca0e558.xml   138  143  PREF     ASTHMA   \n",
       "1  00dd39bc-874e-4250-935d-99882ca0e558.xml   138  143  PREF     ASTHMA   \n",
       "2  00dd39bc-874e-4250-935d-99882ca0e558.xml   138  143  PREF     ASTHMA   \n",
       "3  00dd39bc-874e-4250-935d-99882ca0e558.xml   138  143  PREF     ASTHMA   \n",
       "4  00dd39bc-874e-4250-935d-99882ca0e558.xml   138  143  PREF     ASTHMA   \n",
       "\n",
       "                                             Context      DO_ID     Drug  \\\n",
       "0  Montelukast sodium is a leukotriene receptor a...  DOID:2841  DB00471   \n",
       "1  Montelukast sodium is a leukotriene receptor a...  DOID:2841  DB00471   \n",
       "2  Montelukast sodium is a leukotriene receptor a...  DOID:2841  DB00471   \n",
       "3  Montelukast sodium is a leukotriene receptor a...  DOID:2841  DB00471   \n",
       "4  Montelukast sodium is a leukotriene receptor a...  DOID:2841  DB00471   \n",
       "\n",
       "      DrugName   Disease  \n",
       "0  MONTELUKAST  C0004096  \n",
       "1  MONTELUKAST  C0038218  \n",
       "2  MONTELUKAST  C0155877  \n",
       "3  MONTELUKAST  C0155880  \n",
       "4  MONTELUKAST  C0694548  "
      ]
     },
     "execution_count": 4,
     "metadata": {},
     "output_type": "execute_result"
    }
   ],
   "source": [
    "unlabeled_df = pd.read_csv(\"../data/output/final_unlabeled.csv\")\n",
    "unlabeled_df.head()"
   ]
  },
  {
   "cell_type": "code",
   "execution_count": 15,
   "metadata": {},
   "outputs": [
    {
     "data": {
      "text/plain": [
       "6876"
      ]
     },
     "execution_count": 15,
     "metadata": {},
     "output_type": "execute_result"
    }
   ],
   "source": [
    "len(unlabeled_df.drop_duplicates(['Drug','Disease']))"
   ]
  },
  {
   "cell_type": "code",
   "execution_count": 5,
   "metadata": {},
   "outputs": [],
   "source": [
    "merged_df = unlabeled_df.merge(gold_std, on=['Drug','Disease'], how='inner')"
   ]
  },
  {
   "cell_type": "code",
   "execution_count": 7,
   "metadata": {},
   "outputs": [
    {
     "data": {
      "text/plain": [
       "3688"
      ]
     },
     "execution_count": 7,
     "metadata": {},
     "output_type": "execute_result"
    }
   ],
   "source": [
    "len(merged_df)"
   ]
  },
  {
   "cell_type": "code",
   "execution_count": 11,
   "metadata": {},
   "outputs": [
    {
     "data": {
      "text/plain": [
       "294"
      ]
     },
     "execution_count": 11,
     "metadata": {},
     "output_type": "execute_result"
    }
   ],
   "source": [
    "len(merged_df.drop_duplicates(['Drug','Disease']))"
   ]
  },
  {
   "cell_type": "code",
   "execution_count": 17,
   "metadata": {},
   "outputs": [],
   "source": [
    "merged_df.drop_duplicates(['Drug','Disease'], inplace=True)"
   ]
  },
  {
   "cell_type": "code",
   "execution_count": 18,
   "metadata": {},
   "outputs": [
    {
     "data": {
      "text/html": [
       "<div>\n",
       "<style scoped>\n",
       "    .dataframe tbody tr th:only-of-type {\n",
       "        vertical-align: middle;\n",
       "    }\n",
       "\n",
       "    .dataframe tbody tr th {\n",
       "        vertical-align: top;\n",
       "    }\n",
       "\n",
       "    .dataframe thead th {\n",
       "        text-align: right;\n",
       "    }\n",
       "</style>\n",
       "<table border=\"1\" class=\"dataframe\">\n",
       "  <thead>\n",
       "    <tr style=\"text-align: right;\">\n",
       "      <th></th>\n",
       "      <th>Label_ID</th>\n",
       "      <th>From</th>\n",
       "      <th>To</th>\n",
       "      <th>Type</th>\n",
       "      <th>Annotation</th>\n",
       "      <th>Context</th>\n",
       "      <th>DO_ID</th>\n",
       "      <th>Drug</th>\n",
       "      <th>DrugName</th>\n",
       "      <th>Disease</th>\n",
       "    </tr>\n",
       "  </thead>\n",
       "  <tbody>\n",
       "    <tr>\n",
       "      <th>0</th>\n",
       "      <td>00dd39bc-874e-4250-935d-99882ca0e558.xml</td>\n",
       "      <td>138</td>\n",
       "      <td>143</td>\n",
       "      <td>PREF</td>\n",
       "      <td>ASTHMA</td>\n",
       "      <td>Montelukast sodium is a leukotriene receptor a...</td>\n",
       "      <td>DOID:2841</td>\n",
       "      <td>DB00471</td>\n",
       "      <td>MONTELUKAST</td>\n",
       "      <td>C0004096</td>\n",
       "    </tr>\n",
       "    <tr>\n",
       "      <th>40</th>\n",
       "      <td>00dd39bc-874e-4250-935d-99882ca0e558.xml</td>\n",
       "      <td>138</td>\n",
       "      <td>143</td>\n",
       "      <td>PREF</td>\n",
       "      <td>ASTHMA</td>\n",
       "      <td>Montelukast sodium is a leukotriene receptor a...</td>\n",
       "      <td>DOID:2841</td>\n",
       "      <td>DB00471</td>\n",
       "      <td>MONTELUKAST</td>\n",
       "      <td>C0155877</td>\n",
       "    </tr>\n",
       "    <tr>\n",
       "      <th>80</th>\n",
       "      <td>00dd39bc-874e-4250-935d-99882ca0e558.xml</td>\n",
       "      <td>138</td>\n",
       "      <td>143</td>\n",
       "      <td>PREF</td>\n",
       "      <td>ASTHMA</td>\n",
       "      <td>Montelukast sodium is a leukotriene receptor a...</td>\n",
       "      <td>DOID:2841</td>\n",
       "      <td>DB00471</td>\n",
       "      <td>MONTELUKAST</td>\n",
       "      <td>C0155880</td>\n",
       "    </tr>\n",
       "    <tr>\n",
       "      <th>120</th>\n",
       "      <td>016d65c3-fff2-4e0c-9025-e2083cfa6a1f.xml</td>\n",
       "      <td>1608</td>\n",
       "      <td>1613</td>\n",
       "      <td>PREF</td>\n",
       "      <td>ASTHMA</td>\n",
       "      <td>Prednisone tablets, USP are indicated in the f...</td>\n",
       "      <td>DOID:2841</td>\n",
       "      <td>DB00635</td>\n",
       "      <td>PREDNISONE</td>\n",
       "      <td>C0004096</td>\n",
       "    </tr>\n",
       "    <tr>\n",
       "      <th>131</th>\n",
       "      <td>0b14ed15-5ed0-4d84-adc2-1af54fb921e3.xml</td>\n",
       "      <td>328</td>\n",
       "      <td>333</td>\n",
       "      <td>PREF</td>\n",
       "      <td>ASTHMA</td>\n",
       "      <td>When oral therapy is not feasible, and the str...</td>\n",
       "      <td>DOID:2841</td>\n",
       "      <td>DB00959</td>\n",
       "      <td>METHYLPREDNISOLONE</td>\n",
       "      <td>C0004096</td>\n",
       "    </tr>\n",
       "  </tbody>\n",
       "</table>\n",
       "</div>"
      ],
      "text/plain": [
       "                                     Label_ID  From    To  Type Annotation  \\\n",
       "0    00dd39bc-874e-4250-935d-99882ca0e558.xml   138   143  PREF     ASTHMA   \n",
       "40   00dd39bc-874e-4250-935d-99882ca0e558.xml   138   143  PREF     ASTHMA   \n",
       "80   00dd39bc-874e-4250-935d-99882ca0e558.xml   138   143  PREF     ASTHMA   \n",
       "120  016d65c3-fff2-4e0c-9025-e2083cfa6a1f.xml  1608  1613  PREF     ASTHMA   \n",
       "131  0b14ed15-5ed0-4d84-adc2-1af54fb921e3.xml   328   333  PREF     ASTHMA   \n",
       "\n",
       "                                               Context      DO_ID     Drug  \\\n",
       "0    Montelukast sodium is a leukotriene receptor a...  DOID:2841  DB00471   \n",
       "40   Montelukast sodium is a leukotriene receptor a...  DOID:2841  DB00471   \n",
       "80   Montelukast sodium is a leukotriene receptor a...  DOID:2841  DB00471   \n",
       "120  Prednisone tablets, USP are indicated in the f...  DOID:2841  DB00635   \n",
       "131  When oral therapy is not feasible, and the str...  DOID:2841  DB00959   \n",
       "\n",
       "               DrugName   Disease  \n",
       "0           MONTELUKAST  C0004096  \n",
       "40          MONTELUKAST  C0155877  \n",
       "80          MONTELUKAST  C0155880  \n",
       "120          PREDNISONE  C0004096  \n",
       "131  METHYLPREDNISOLONE  C0004096  "
      ]
     },
     "execution_count": 18,
     "metadata": {},
     "output_type": "execute_result"
    }
   ],
   "source": [
    "merged_df.head()"
   ]
  },
  {
   "cell_type": "code",
   "execution_count": 20,
   "metadata": {},
   "outputs": [],
   "source": [
    "merged_df.to_csv('../data/output/positive_examples_for_crowd.csv',index=False)"
   ]
  },
  {
   "cell_type": "code",
   "execution_count": 21,
   "metadata": {},
   "outputs": [],
   "source": [
    "unlabeled_df.drop_duplicates(['Drug','Disease']).to_csv('../data/output/unlabeled_for_crowd.csv', index=False)"
   ]
  },
  {
   "cell_type": "code",
   "execution_count": null,
   "metadata": {},
   "outputs": [],
   "source": []
  }
 ],
 "metadata": {
  "kernelspec": {
   "display_name": "Python 3",
   "language": "python",
   "name": "python3"
  },
  "language_info": {
   "codemirror_mode": {
    "name": "ipython",
    "version": 3
   },
   "file_extension": ".py",
   "mimetype": "text/x-python",
   "name": "python",
   "nbconvert_exporter": "python",
   "pygments_lexer": "ipython3",
   "version": "3.8.3"
  }
 },
 "nbformat": 4,
 "nbformat_minor": 4
}
