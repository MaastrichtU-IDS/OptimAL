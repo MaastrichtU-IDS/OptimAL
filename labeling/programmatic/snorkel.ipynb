{
 "cells": [
  {
   "cell_type": "code",
   "execution_count": 1,
   "metadata": {},
   "outputs": [],
   "source": [
    "## Use conda\n",
    "## conda create --yes -n snorkel-env python=3.6\n",
    "## conda activate snorkel-env\n",
    "\n",
    "# We specify PyTorch here to ensure compatibility, but it may not be necessary.\n",
    "## conda install pytorch==1.1.0 -c pytorch\n",
    "## conda install snorkel==0.9.0 -c conda-forge\n",
    "## conda install -c conda-forge jupyterlab\n",
    "import snorkel"
   ]
  },
  {
   "cell_type": "code",
   "execution_count": 2,
   "metadata": {},
   "outputs": [],
   "source": [
    "import pandas as pd"
   ]
  },
  {
   "cell_type": "code",
   "execution_count": 3,
   "metadata": {},
   "outputs": [
    {
     "data": {
      "text/html": [
       "<div>\n",
       "<style scoped>\n",
       "    .dataframe tbody tr th:only-of-type {\n",
       "        vertical-align: middle;\n",
       "    }\n",
       "\n",
       "    .dataframe tbody tr th {\n",
       "        vertical-align: top;\n",
       "    }\n",
       "\n",
       "    .dataframe thead th {\n",
       "        text-align: right;\n",
       "    }\n",
       "</style>\n",
       "<table border=\"1\" class=\"dataframe\">\n",
       "  <thead>\n",
       "    <tr style=\"text-align: right;\">\n",
       "      <th></th>\n",
       "      <th>Unnamed: 0</th>\n",
       "      <th>DB_ID</th>\n",
       "      <th>DO_ID</th>\n",
       "      <th>disease</th>\n",
       "      <th>Label_ID</th>\n",
       "      <th>relation</th>\n",
       "      <th>Section</th>\n",
       "      <th>Set_ID</th>\n",
       "      <th>Drug_Brand_Name</th>\n",
       "      <th>Active_ingredient</th>\n",
       "      <th>UNII_ID</th>\n",
       "      <th>Context</th>\n",
       "      <th>WordCount</th>\n",
       "      <th>Drug_name</th>\n",
       "    </tr>\n",
       "  </thead>\n",
       "  <tbody>\n",
       "    <tr>\n",
       "      <th>1384</th>\n",
       "      <td>3205</td>\n",
       "      <td>DB00232</td>\n",
       "      <td>DOID_2983</td>\n",
       "      <td>anuria</td>\n",
       "      <td>41d6b92e-b9f4-4bcf-9f66-9a36c8e79181.xml</td>\n",
       "      <td>relief</td>\n",
       "      <td>Contraindications</td>\n",
       "      <td>4910dad2-c533-4232-85bf-e6b0235379c2</td>\n",
       "      <td>Methyclothiazide</td>\n",
       "      <td>METHYCLOTHIAZIDE</td>\n",
       "      <td>L3H46UAC61</td>\n",
       "      <td>Methyclothiazide tablets are contraindicated i...</td>\n",
       "      <td>23</td>\n",
       "      <td>Methyclothiazide</td>\n",
       "    </tr>\n",
       "  </tbody>\n",
       "</table>\n",
       "</div>"
      ],
      "text/plain": [
       "      Unnamed: 0    DB_ID      DO_ID disease  \\\n",
       "1384        3205  DB00232  DOID_2983  anuria   \n",
       "\n",
       "                                      Label_ID relation            Section  \\\n",
       "1384  41d6b92e-b9f4-4bcf-9f66-9a36c8e79181.xml   relief  Contraindications   \n",
       "\n",
       "                                    Set_ID   Drug_Brand_Name  \\\n",
       "1384  4910dad2-c533-4232-85bf-e6b0235379c2  Methyclothiazide   \n",
       "\n",
       "     Active_ingredient     UNII_ID  \\\n",
       "1384  METHYCLOTHIAZIDE  L3H46UAC61   \n",
       "\n",
       "                                                Context  WordCount  \\\n",
       "1384  Methyclothiazide tablets are contraindicated i...         23   \n",
       "\n",
       "             Drug_name  \n",
       "1384  Methyclothiazide  "
      ]
     },
     "execution_count": 3,
     "metadata": {},
     "output_type": "execute_result"
    }
   ],
   "source": [
    "crowd_df_1 =pd.read_csv('../data/crowd/match_crowd_data.csv')\n",
    "crowd_df_1.sample()"
   ]
  },
  {
   "cell_type": "code",
   "execution_count": 4,
   "metadata": {},
   "outputs": [
    {
     "data": {
      "text/html": [
       "<div>\n",
       "<style scoped>\n",
       "    .dataframe tbody tr th:only-of-type {\n",
       "        vertical-align: middle;\n",
       "    }\n",
       "\n",
       "    .dataframe tbody tr th {\n",
       "        vertical-align: top;\n",
       "    }\n",
       "\n",
       "    .dataframe thead th {\n",
       "        text-align: right;\n",
       "    }\n",
       "</style>\n",
       "<table border=\"1\" class=\"dataframe\">\n",
       "  <thead>\n",
       "    <tr style=\"text-align: right;\">\n",
       "      <th></th>\n",
       "      <th>DB_ID</th>\n",
       "      <th>DO_ID</th>\n",
       "      <th>disease</th>\n",
       "      <th>Label_ID</th>\n",
       "      <th>Set_ID</th>\n",
       "      <th>relation</th>\n",
       "      <th>Drug_name</th>\n",
       "      <th>Context</th>\n",
       "      <th>Section</th>\n",
       "    </tr>\n",
       "  </thead>\n",
       "  <tbody>\n",
       "    <tr>\n",
       "      <th>1334</th>\n",
       "      <td>DB09080</td>\n",
       "      <td>DOID_2841</td>\n",
       "      <td>asthma</td>\n",
       "      <td>395efad5-f92f-4958-dbc9-deae88e9e032.xml</td>\n",
       "      <td>5d9a5433-857e-44ea-b3d6-2a400ca0cef5</td>\n",
       "      <td>contraindication</td>\n",
       "      <td>Olodaterol</td>\n",
       "      <td>All LABA are contraindicated in patients with ...</td>\n",
       "      <td>Contraindications</td>\n",
       "    </tr>\n",
       "  </tbody>\n",
       "</table>\n",
       "</div>"
      ],
      "text/plain": [
       "        DB_ID      DO_ID disease                                  Label_ID  \\\n",
       "1334  DB09080  DOID_2841  asthma  395efad5-f92f-4958-dbc9-deae88e9e032.xml   \n",
       "\n",
       "                                    Set_ID          relation   Drug_name  \\\n",
       "1334  5d9a5433-857e-44ea-b3d6-2a400ca0cef5  contraindication  Olodaterol   \n",
       "\n",
       "                                                Context            Section  \n",
       "1334  All LABA are contraindicated in patients with ...  Contraindications  "
      ]
     },
     "execution_count": 4,
     "metadata": {},
     "output_type": "execute_result"
    }
   ],
   "source": [
    "\n",
    "crowd_df_1 = crowd_df_1[['DB_ID', 'DO_ID','disease', 'Label_ID','Set_ID', 'relation', 'Drug_name', 'Context','Section' ]]\n",
    "crowd_df_1.sample()"
   ]
  },
  {
   "cell_type": "code",
   "execution_count": 5,
   "metadata": {},
   "outputs": [
    {
     "data": {
      "text/html": [
       "<div>\n",
       "<style scoped>\n",
       "    .dataframe tbody tr th:only-of-type {\n",
       "        vertical-align: middle;\n",
       "    }\n",
       "\n",
       "    .dataframe tbody tr th {\n",
       "        vertical-align: top;\n",
       "    }\n",
       "\n",
       "    .dataframe thead th {\n",
       "        text-align: right;\n",
       "    }\n",
       "</style>\n",
       "<table border=\"1\" class=\"dataframe\">\n",
       "  <thead>\n",
       "    <tr style=\"text-align: right;\">\n",
       "      <th></th>\n",
       "      <th>DB_ID</th>\n",
       "      <th>DO_ID</th>\n",
       "      <th>disease</th>\n",
       "      <th>Label_ID</th>\n",
       "      <th>Set_ID</th>\n",
       "      <th>relation</th>\n",
       "      <th>Drug_name</th>\n",
       "      <th>Context</th>\n",
       "      <th>Section</th>\n",
       "    </tr>\n",
       "  </thead>\n",
       "  <tbody>\n",
       "    <tr>\n",
       "      <th>105</th>\n",
       "      <td>DB00959</td>\n",
       "      <td>DOID_2377</td>\n",
       "      <td>multiple sclerosis</td>\n",
       "      <td>2b544c6a-963c-4054-8eb1-6f093004efe7.xml</td>\n",
       "      <td>9ff2ec25-57b5-4466-b51f-1d4bb924e34f</td>\n",
       "      <td>relief</td>\n",
       "      <td>METHYLPREDNISOLONE</td>\n",
       "      <td>Methylprednisolone tablets, USP are indicated ...</td>\n",
       "      <td>Indications</td>\n",
       "    </tr>\n",
       "  </tbody>\n",
       "</table>\n",
       "</div>"
      ],
      "text/plain": [
       "       DB_ID      DO_ID             disease  \\\n",
       "105  DB00959  DOID_2377  multiple sclerosis   \n",
       "\n",
       "                                     Label_ID  \\\n",
       "105  2b544c6a-963c-4054-8eb1-6f093004efe7.xml   \n",
       "\n",
       "                                   Set_ID relation           Drug_name  \\\n",
       "105  9ff2ec25-57b5-4466-b51f-1d4bb924e34f   relief  METHYLPREDNISOLONE   \n",
       "\n",
       "                                               Context      Section  \n",
       "105  Methylprednisolone tablets, USP are indicated ...  Indications  "
      ]
     },
     "execution_count": 5,
     "metadata": {},
     "output_type": "execute_result"
    }
   ],
   "source": [
    "crowd_df_plus = pd.read_csv('../data/crowd/crowd_2nd.csv')\n",
    "crowd_df_plus = crowd_df_plus[['DB_ID', 'DO_ID','disease', 'Label_ID', 'Set_ID','relation', 'Drug_name', 'Context','Section' ]]\n",
    "crowd_df_plus.sample()"
   ]
  },
  {
   "cell_type": "code",
   "execution_count": 6,
   "metadata": {},
   "outputs": [
    {
     "data": {
      "text/plain": [
       "2185"
      ]
     },
     "execution_count": 6,
     "metadata": {},
     "output_type": "execute_result"
    }
   ],
   "source": [
    "\n",
    "crowd_df = crowd_df_1.append(crowd_df_plus)\n",
    "len(crowd_df)"
   ]
  },
  {
   "cell_type": "code",
   "execution_count": 7,
   "metadata": {},
   "outputs": [
    {
     "data": {
      "text/plain": [
       "2162"
      ]
     },
     "execution_count": 7,
     "metadata": {},
     "output_type": "execute_result"
    }
   ],
   "source": [
    "crowd_df= crowd_df.drop_duplicates(subset=['Label_ID','DO_ID','Section'], keep='last')\n",
    "len(crowd_df)"
   ]
  },
  {
   "cell_type": "code",
   "execution_count": 8,
   "metadata": {},
   "outputs": [
    {
     "data": {
      "text/plain": [
       "54040"
      ]
     },
     "execution_count": 8,
     "metadata": {},
     "output_type": "execute_result"
    }
   ],
   "source": [
    "unlabeled_df  = pd.read_csv('../data/unlabeled/raw_cleaned.csv')\n",
    "unlabeled_df = unlabeled_df[['DB_ID', 'DO_ID','disease', 'Label_ID', 'DrugName', 'Context','Section' ]]\n",
    "len(unlabeled_df)"
   ]
  },
  {
   "cell_type": "code",
   "execution_count": 9,
   "metadata": {},
   "outputs": [],
   "source": [
    "unlabeled_df= unlabeled_df.rename(columns={'DrugName':'Drug_name'})"
   ]
  },
  {
   "cell_type": "code",
   "execution_count": 10,
   "metadata": {},
   "outputs": [
    {
     "data": {
      "text/plain": [
       "39810"
      ]
     },
     "execution_count": 10,
     "metadata": {},
     "output_type": "execute_result"
    }
   ],
   "source": [
    "unlabeled_df.drop_duplicates(subset=['Context','DO_ID'], keep='first', inplace=True)\n",
    "len(unlabeled_df)"
   ]
  },
  {
   "cell_type": "code",
   "execution_count": 11,
   "metadata": {},
   "outputs": [
    {
     "data": {
      "text/html": [
       "<div>\n",
       "<style scoped>\n",
       "    .dataframe tbody tr th:only-of-type {\n",
       "        vertical-align: middle;\n",
       "    }\n",
       "\n",
       "    .dataframe tbody tr th {\n",
       "        vertical-align: top;\n",
       "    }\n",
       "\n",
       "    .dataframe thead th {\n",
       "        text-align: right;\n",
       "    }\n",
       "</style>\n",
       "<table border=\"1\" class=\"dataframe\">\n",
       "  <thead>\n",
       "    <tr style=\"text-align: right;\">\n",
       "      <th></th>\n",
       "      <th>DB_ID</th>\n",
       "      <th>DO_ID</th>\n",
       "      <th>disease</th>\n",
       "      <th>Label_ID</th>\n",
       "      <th>Set_ID</th>\n",
       "      <th>relation</th>\n",
       "      <th>Drug_name</th>\n",
       "      <th>Context</th>\n",
       "      <th>Section</th>\n",
       "    </tr>\n",
       "  </thead>\n",
       "  <tbody>\n",
       "    <tr>\n",
       "      <th>116</th>\n",
       "      <td>DB00461</td>\n",
       "      <td>DOID_7148</td>\n",
       "      <td>RHEUMATOID ARTHRITIS</td>\n",
       "      <td>a34aebce-f0b6-4341-8c7f-49bdd1c06fe9.xml</td>\n",
       "      <td>c3f72a74-1966-4a68-bd2d-692d41d05066</td>\n",
       "      <td>Indication: Symptomatic Relief</td>\n",
       "      <td>Nabumetone</td>\n",
       "      <td>Carefully consider the potential benefits and ...</td>\n",
       "      <td>Indications</td>\n",
       "    </tr>\n",
       "  </tbody>\n",
       "</table>\n",
       "</div>"
      ],
      "text/plain": [
       "       DB_ID      DO_ID               disease  \\\n",
       "116  DB00461  DOID_7148  RHEUMATOID ARTHRITIS   \n",
       "\n",
       "                                     Label_ID  \\\n",
       "116  a34aebce-f0b6-4341-8c7f-49bdd1c06fe9.xml   \n",
       "\n",
       "                                   Set_ID                        relation  \\\n",
       "116  c3f72a74-1966-4a68-bd2d-692d41d05066  Indication: Symptomatic Relief   \n",
       "\n",
       "      Drug_name                                            Context  \\\n",
       "116  Nabumetone  Carefully consider the potential benefits and ...   \n",
       "\n",
       "         Section  \n",
       "116  Indications  "
      ]
     },
     "execution_count": 11,
     "metadata": {},
     "output_type": "execute_result"
    }
   ],
   "source": [
    "experts = pd.read_csv('../data/expert/clean_expert_resolved.csv')\n",
    "experts = experts[['DB_ID', 'DO_ID','disease', 'Label_ID', 'Set_ID','relation', 'Drug_name', 'Context','Section']]\n",
    "experts.sample()"
   ]
  },
  {
   "cell_type": "code",
   "execution_count": 12,
   "metadata": {},
   "outputs": [
    {
     "data": {
      "text/plain": [
       "284"
      ]
     },
     "execution_count": 12,
     "metadata": {},
     "output_type": "execute_result"
    }
   ],
   "source": [
    "len(experts)"
   ]
  },
  {
   "cell_type": "code",
   "execution_count": 13,
   "metadata": {},
   "outputs": [],
   "source": [
    "def rep(text):\n",
    "    a = text.replace('Contraindication', 'contraindication')\n",
    "    b = a.replace('Indication: Treatment', 'treatment')\n",
    "    c = b.replace('Indication: Symptomatic Relief', 'relief')\n",
    "    d = c.replace('Effect', 'effect')\n",
    "    return d\n",
    "\n",
    "def lower (x):\n",
    "    return x.lower()\n",
    "\n",
    "# remove punctuation\n",
    "def remove_symbols(x):\n",
    "    for char in x:\n",
    "            if char not in ['1','2','3','4','5','6','7','8','9','q','Q','w','W', 'e','E','r','R','t','T','y','Y','U','u','i','I','O','o','P','p','A','a','S','s','D','d','F','f','G','g','H','h','J','j','K','k','L','l','Z','z','X','x','C','c','V','v','B','b','N','n','M','m']:\n",
    "                x = x.replace(char, ' ')\n",
    "    return x\n",
    "\n",
    "def check(x, text):\n",
    "    return x in text\n",
    "\n",
    "def remove_xml_symbols(text):\n",
    "    text1 = text.replace('\\n', '  ')\n",
    "    clean_text = text1.replace('\\r', '  ')\n",
    "    return clean_text\n",
    "\n",
    "def remove_spaces(text):\n",
    "    clean_text = ' '.join(text.split())\n",
    "    return clean_text\n",
    "\n",
    "experts['relation'] =experts['relation'].apply(rep)\n",
    "\n",
    "experts['Context'] = experts['Context'].apply(remove_xml_symbols)\n",
    "experts['Context'] = experts['Context'].apply(remove_symbols)\n",
    "experts['Context'] = experts['Context'].apply(remove_spaces)\n",
    "experts['Context'] = experts['Context'].apply(lower)\n",
    "\n",
    "experts['disease'] = experts['disease'].apply(remove_xml_symbols)\n",
    "experts['disease'] = experts['disease'].apply(remove_symbols)\n",
    "experts['disease'] = experts['disease'].apply(remove_spaces)\n",
    "experts['disease'] = experts['disease'].apply(lower)\n"
   ]
  },
  {
   "cell_type": "code",
   "execution_count": 14,
   "metadata": {},
   "outputs": [],
   "source": [
    "crowd_df['Context'] = crowd_df['Context'].apply(remove_xml_symbols)\n",
    "crowd_df['Context'] = crowd_df['Context'].apply(remove_symbols)\n",
    "crowd_df['Context'] = crowd_df['Context'].apply(remove_spaces)\n",
    "crowd_df['Context'] = crowd_df['Context'].apply(lower)\n",
    "\n",
    "crowd_df['disease'] = crowd_df['disease'].apply(remove_xml_symbols)\n",
    "crowd_df['disease'] = crowd_df['disease'].apply(remove_symbols)\n",
    "crowd_df['disease'] = crowd_df['disease'].apply(remove_spaces)\n",
    "crowd_df['disease'] = crowd_df['disease'].apply(lower)\n",
    "\n"
   ]
  },
  {
   "cell_type": "code",
   "execution_count": 15,
   "metadata": {},
   "outputs": [
    {
     "data": {
      "text/html": [
       "<div>\n",
       "<style scoped>\n",
       "    .dataframe tbody tr th:only-of-type {\n",
       "        vertical-align: middle;\n",
       "    }\n",
       "\n",
       "    .dataframe tbody tr th {\n",
       "        vertical-align: top;\n",
       "    }\n",
       "\n",
       "    .dataframe thead th {\n",
       "        text-align: right;\n",
       "    }\n",
       "</style>\n",
       "<table border=\"1\" class=\"dataframe\">\n",
       "  <thead>\n",
       "    <tr style=\"text-align: right;\">\n",
       "      <th></th>\n",
       "      <th>DB_ID</th>\n",
       "      <th>DO_ID</th>\n",
       "      <th>disease</th>\n",
       "      <th>Label_ID</th>\n",
       "      <th>Set_ID</th>\n",
       "      <th>relation</th>\n",
       "      <th>Drug_name</th>\n",
       "      <th>Context</th>\n",
       "      <th>Section</th>\n",
       "    </tr>\n",
       "  </thead>\n",
       "  <tbody>\n",
       "    <tr>\n",
       "      <th>496</th>\n",
       "      <td>DB00669</td>\n",
       "      <td>DOID_3393</td>\n",
       "      <td>coronary artery disease</td>\n",
       "      <td>c7b7632b-aaaa-41d3-9b3f-dd59e0d4c0e3.xml</td>\n",
       "      <td>a1b60c11-9c87-4400-86dd-2c28284298d9</td>\n",
       "      <td>contraindication</td>\n",
       "      <td>SUMATRIPTAN</td>\n",
       "      <td>sumatriptan tablets are contraindicated in pat...</td>\n",
       "      <td>Contraindication</td>\n",
       "    </tr>\n",
       "    <tr>\n",
       "      <th>616</th>\n",
       "      <td>DB06402</td>\n",
       "      <td>DOID_874</td>\n",
       "      <td>bacterial pneumonia</td>\n",
       "      <td>848f842a-bac0-4694-8705-24f8ba5a90fc.xml</td>\n",
       "      <td>c09655ea-7af5-4443-a769-86e416214f59</td>\n",
       "      <td>treatment</td>\n",
       "      <td>Telavancin</td>\n",
       "      <td>vibativ is a lipoglycopeptide antibacterial dr...</td>\n",
       "      <td>Indications</td>\n",
       "    </tr>\n",
       "  </tbody>\n",
       "</table>\n",
       "</div>"
      ],
      "text/plain": [
       "       DB_ID      DO_ID                  disease  \\\n",
       "496  DB00669  DOID_3393  coronary artery disease   \n",
       "616  DB06402   DOID_874      bacterial pneumonia   \n",
       "\n",
       "                                     Label_ID  \\\n",
       "496  c7b7632b-aaaa-41d3-9b3f-dd59e0d4c0e3.xml   \n",
       "616  848f842a-bac0-4694-8705-24f8ba5a90fc.xml   \n",
       "\n",
       "                                   Set_ID          relation    Drug_name  \\\n",
       "496  a1b60c11-9c87-4400-86dd-2c28284298d9  contraindication  SUMATRIPTAN   \n",
       "616  c09655ea-7af5-4443-a769-86e416214f59         treatment   Telavancin   \n",
       "\n",
       "                                               Context           Section  \n",
       "496  sumatriptan tablets are contraindicated in pat...  Contraindication  \n",
       "616  vibativ is a lipoglycopeptide antibacterial dr...       Indications  "
      ]
     },
     "execution_count": 15,
     "metadata": {},
     "output_type": "execute_result"
    }
   ],
   "source": [
    "crowd_df.sample(2)"
   ]
  },
  {
   "cell_type": "code",
   "execution_count": 16,
   "metadata": {},
   "outputs": [
    {
     "data": {
      "text/html": [
       "<div>\n",
       "<style scoped>\n",
       "    .dataframe tbody tr th:only-of-type {\n",
       "        vertical-align: middle;\n",
       "    }\n",
       "\n",
       "    .dataframe tbody tr th {\n",
       "        vertical-align: top;\n",
       "    }\n",
       "\n",
       "    .dataframe thead th {\n",
       "        text-align: right;\n",
       "    }\n",
       "</style>\n",
       "<table border=\"1\" class=\"dataframe\">\n",
       "  <thead>\n",
       "    <tr style=\"text-align: right;\">\n",
       "      <th></th>\n",
       "      <th>DB_ID</th>\n",
       "      <th>DO_ID</th>\n",
       "      <th>disease</th>\n",
       "      <th>Label_ID</th>\n",
       "      <th>Set_ID</th>\n",
       "      <th>relation</th>\n",
       "      <th>Drug_name</th>\n",
       "      <th>Context</th>\n",
       "      <th>Section</th>\n",
       "    </tr>\n",
       "  </thead>\n",
       "  <tbody>\n",
       "    <tr>\n",
       "      <th>283</th>\n",
       "      <td>DB01142</td>\n",
       "      <td>DOID_1686</td>\n",
       "      <td>glaucoma</td>\n",
       "      <td>5205d855-ccf4-4d3f-be11-bda7476a62a3.xml</td>\n",
       "      <td>1bec1223-5239-4eb6-a9e8-62444106d2c0</td>\n",
       "      <td>contraindication</td>\n",
       "      <td>Doxepin</td>\n",
       "      <td>hypersensitivity to doxepin hydrochloride inac...</td>\n",
       "      <td>Contraindications</td>\n",
       "    </tr>\n",
       "    <tr>\n",
       "      <th>272</th>\n",
       "      <td>DB00696</td>\n",
       "      <td>DOID_3393</td>\n",
       "      <td>coronary heart disease</td>\n",
       "      <td>6ac058ea-d4f4-4fcd-83e1-5f2adb8652e6.xml</td>\n",
       "      <td>1bfd4827-5123-4dbb-8f94-7b097f5bfd5c</td>\n",
       "      <td>contraindication</td>\n",
       "      <td>Ergotamine</td>\n",
       "      <td>coadministration of ergotamine with potent cyp...</td>\n",
       "      <td>Contraindications</td>\n",
       "    </tr>\n",
       "    <tr>\n",
       "      <th>237</th>\n",
       "      <td>DB09462</td>\n",
       "      <td>DOID_417</td>\n",
       "      <td>autoimmune disease</td>\n",
       "      <td>fb54abb5-85cd-485f-9542-a2742a31bf72.xml</td>\n",
       "      <td>9c75abf7-b941-4615-b059-bcc41c64d612</td>\n",
       "      <td>contraindication</td>\n",
       "      <td>Glycerin</td>\n",
       "      <td>do not administer in the presence of diseases ...</td>\n",
       "      <td>Contraindications</td>\n",
       "    </tr>\n",
       "    <tr>\n",
       "      <th>215</th>\n",
       "      <td>DB00951</td>\n",
       "      <td>DOID_848</td>\n",
       "      <td>arthritis</td>\n",
       "      <td>75907d04-0c9d-4a6a-b8c0-7d88ab5ad337.xml</td>\n",
       "      <td>db8a3ae7-fb5b-47a9-a9f7-f57cd90501c2</td>\n",
       "      <td>effect</td>\n",
       "      <td>Isoniazid</td>\n",
       "      <td>isoniazid is contraindicated in patients who d...</td>\n",
       "      <td>Contraindications</td>\n",
       "    </tr>\n",
       "  </tbody>\n",
       "</table>\n",
       "</div>"
      ],
      "text/plain": [
       "       DB_ID      DO_ID                 disease  \\\n",
       "283  DB01142  DOID_1686                glaucoma   \n",
       "272  DB00696  DOID_3393  coronary heart disease   \n",
       "237  DB09462   DOID_417      autoimmune disease   \n",
       "215  DB00951   DOID_848               arthritis   \n",
       "\n",
       "                                     Label_ID  \\\n",
       "283  5205d855-ccf4-4d3f-be11-bda7476a62a3.xml   \n",
       "272  6ac058ea-d4f4-4fcd-83e1-5f2adb8652e6.xml   \n",
       "237  fb54abb5-85cd-485f-9542-a2742a31bf72.xml   \n",
       "215  75907d04-0c9d-4a6a-b8c0-7d88ab5ad337.xml   \n",
       "\n",
       "                                   Set_ID          relation   Drug_name  \\\n",
       "283  1bec1223-5239-4eb6-a9e8-62444106d2c0  contraindication     Doxepin   \n",
       "272  1bfd4827-5123-4dbb-8f94-7b097f5bfd5c  contraindication  Ergotamine   \n",
       "237  9c75abf7-b941-4615-b059-bcc41c64d612  contraindication    Glycerin   \n",
       "215  db8a3ae7-fb5b-47a9-a9f7-f57cd90501c2            effect   Isoniazid   \n",
       "\n",
       "                                               Context            Section  \n",
       "283  hypersensitivity to doxepin hydrochloride inac...  Contraindications  \n",
       "272  coadministration of ergotamine with potent cyp...  Contraindications  \n",
       "237  do not administer in the presence of diseases ...  Contraindications  \n",
       "215  isoniazid is contraindicated in patients who d...  Contraindications  "
      ]
     },
     "execution_count": 16,
     "metadata": {},
     "output_type": "execute_result"
    }
   ],
   "source": [
    "test_df = experts\n",
    "test_df.sample(4)"
   ]
  },
  {
   "cell_type": "code",
   "execution_count": 17,
   "metadata": {},
   "outputs": [
    {
     "data": {
      "text/plain": [
       "282"
      ]
     },
     "execution_count": 17,
     "metadata": {},
     "output_type": "execute_result"
    }
   ],
   "source": [
    "experts = experts.drop_duplicates(subset=['Context','DO_ID'], keep='last')\n",
    "len(experts)"
   ]
  },
  {
   "cell_type": "code",
   "execution_count": 18,
   "metadata": {},
   "outputs": [],
   "source": [
    "on_col =['DO_ID', 'Label_ID', 'Set_ID','Section']\n"
   ]
  },
  {
   "cell_type": "code",
   "execution_count": 19,
   "metadata": {},
   "outputs": [
    {
     "data": {
      "text/plain": [
       "1881"
      ]
     },
     "execution_count": 19,
     "metadata": {},
     "output_type": "execute_result"
    }
   ],
   "source": [
    "train_df = crowd_df[~crowd_df[on_col].apply(tuple,1).isin(experts[on_col].apply(tuple,1))]\n",
    "len(train_df)"
   ]
  },
  {
   "cell_type": "code",
   "execution_count": 20,
   "metadata": {},
   "outputs": [
    {
     "data": {
      "text/plain": [
       "281"
      ]
     },
     "execution_count": 20,
     "metadata": {},
     "output_type": "execute_result"
    }
   ],
   "source": [
    "test_df =crowd_df.merge(experts[on_col], on=on_col)\n",
    "len(test_df)"
   ]
  },
  {
   "cell_type": "code",
   "execution_count": 21,
   "metadata": {},
   "outputs": [
    {
     "data": {
      "text/html": [
       "<div>\n",
       "<style scoped>\n",
       "    .dataframe tbody tr th:only-of-type {\n",
       "        vertical-align: middle;\n",
       "    }\n",
       "\n",
       "    .dataframe tbody tr th {\n",
       "        vertical-align: top;\n",
       "    }\n",
       "\n",
       "    .dataframe thead th {\n",
       "        text-align: right;\n",
       "    }\n",
       "</style>\n",
       "<table border=\"1\" class=\"dataframe\">\n",
       "  <thead>\n",
       "    <tr style=\"text-align: right;\">\n",
       "      <th></th>\n",
       "      <th>DB_ID</th>\n",
       "      <th>DO_ID</th>\n",
       "      <th>disease</th>\n",
       "      <th>Label_ID</th>\n",
       "      <th>Set_ID</th>\n",
       "      <th>relation</th>\n",
       "      <th>Drug_name</th>\n",
       "      <th>Context</th>\n",
       "      <th>Section</th>\n",
       "    </tr>\n",
       "  </thead>\n",
       "  <tbody>\n",
       "    <tr>\n",
       "      <th>0</th>\n",
       "      <td>DB00657</td>\n",
       "      <td>DOID_10824</td>\n",
       "      <td>malignant hypertension</td>\n",
       "      <td>976f404f-4857-4bad-9a3c-9bf3d5ca9f5b.xml</td>\n",
       "      <td>c6822ce4-e741-4366-b72a-5f5146354f97</td>\n",
       "      <td>treatment</td>\n",
       "      <td>Mecamylamine</td>\n",
       "      <td>for the management of moderately severe to sev...</td>\n",
       "      <td>Indications</td>\n",
       "    </tr>\n",
       "    <tr>\n",
       "      <th>1</th>\n",
       "      <td>DB00401</td>\n",
       "      <td>DOID_10763</td>\n",
       "      <td>hypertension</td>\n",
       "      <td>ce733b39-7857-4538-92d6-1c68a4e4eb75.xml</td>\n",
       "      <td>a6a8a8ba-3966-4f37-a58b-44d3b05bdc4e</td>\n",
       "      <td>treatment</td>\n",
       "      <td>Nisoldipine</td>\n",
       "      <td>nisoldipine extended release tablets are indic...</td>\n",
       "      <td>Indications</td>\n",
       "    </tr>\n",
       "    <tr>\n",
       "      <th>2</th>\n",
       "      <td>DB00612</td>\n",
       "      <td>DOID_10763</td>\n",
       "      <td>hypertension</td>\n",
       "      <td>c818c38d-ee37-4ceb-b078-611483b4f743.xml</td>\n",
       "      <td>c818c38d-ee37-4ceb-b078-611483b4f743</td>\n",
       "      <td>treatment</td>\n",
       "      <td>Bisoprolol</td>\n",
       "      <td>bisoprolol fumarate tablets usp are indicated ...</td>\n",
       "      <td>Indications</td>\n",
       "    </tr>\n",
       "    <tr>\n",
       "      <th>3</th>\n",
       "      <td>DB00960</td>\n",
       "      <td>DOID_10763</td>\n",
       "      <td>hypertension</td>\n",
       "      <td>d4078b63-30ad-435b-a081-4d90562962b5.xml</td>\n",
       "      <td>b5a5a1e9-ee9b-41b1-b2d5-5f5834b816a7</td>\n",
       "      <td>treatment</td>\n",
       "      <td>Pindolol</td>\n",
       "      <td>pindolol tablets are indicated in the manageme...</td>\n",
       "      <td>Indications</td>\n",
       "    </tr>\n",
       "    <tr>\n",
       "      <th>4</th>\n",
       "      <td>DB00876</td>\n",
       "      <td>DOID_10763</td>\n",
       "      <td>hypertension</td>\n",
       "      <td>ab531d28-345b-4113-9fde-00cd63ad5b1a.xml</td>\n",
       "      <td>64fbc500-3b77-4c9c-8576-b3ec5f6655a5</td>\n",
       "      <td>treatment</td>\n",
       "      <td>Eprosartan</td>\n",
       "      <td>eprosartan mesylate tablets are indicated for ...</td>\n",
       "      <td>Indications</td>\n",
       "    </tr>\n",
       "  </tbody>\n",
       "</table>\n",
       "</div>"
      ],
      "text/plain": [
       "     DB_ID       DO_ID                 disease  \\\n",
       "0  DB00657  DOID_10824  malignant hypertension   \n",
       "1  DB00401  DOID_10763            hypertension   \n",
       "2  DB00612  DOID_10763            hypertension   \n",
       "3  DB00960  DOID_10763            hypertension   \n",
       "4  DB00876  DOID_10763            hypertension   \n",
       "\n",
       "                                   Label_ID  \\\n",
       "0  976f404f-4857-4bad-9a3c-9bf3d5ca9f5b.xml   \n",
       "1  ce733b39-7857-4538-92d6-1c68a4e4eb75.xml   \n",
       "2  c818c38d-ee37-4ceb-b078-611483b4f743.xml   \n",
       "3  d4078b63-30ad-435b-a081-4d90562962b5.xml   \n",
       "4  ab531d28-345b-4113-9fde-00cd63ad5b1a.xml   \n",
       "\n",
       "                                 Set_ID   relation     Drug_name  \\\n",
       "0  c6822ce4-e741-4366-b72a-5f5146354f97  treatment  Mecamylamine   \n",
       "1  a6a8a8ba-3966-4f37-a58b-44d3b05bdc4e  treatment   Nisoldipine   \n",
       "2  c818c38d-ee37-4ceb-b078-611483b4f743  treatment    Bisoprolol   \n",
       "3  b5a5a1e9-ee9b-41b1-b2d5-5f5834b816a7  treatment      Pindolol   \n",
       "4  64fbc500-3b77-4c9c-8576-b3ec5f6655a5  treatment    Eprosartan   \n",
       "\n",
       "                                             Context      Section  \n",
       "0  for the management of moderately severe to sev...  Indications  \n",
       "1  nisoldipine extended release tablets are indic...  Indications  \n",
       "2  bisoprolol fumarate tablets usp are indicated ...  Indications  \n",
       "3  pindolol tablets are indicated in the manageme...  Indications  \n",
       "4  eprosartan mesylate tablets are indicated for ...  Indications  "
      ]
     },
     "execution_count": 21,
     "metadata": {},
     "output_type": "execute_result"
    }
   ],
   "source": [
    "test_df.head()"
   ]
  },
  {
   "cell_type": "code",
   "execution_count": 22,
   "metadata": {},
   "outputs": [
    {
     "name": "stdout",
     "output_type": "stream",
     "text": [
      "41691\n",
      "40516\n"
     ]
    },
    {
     "name": "stderr",
     "output_type": "stream",
     "text": [
      "/Users/remzicelebi/opt/anaconda3/envs/snorkel-env/lib/python3.6/site-packages/pandas/core/frame.py:7138: FutureWarning: Sorting because non-concatenation axis is not aligned. A future version\n",
      "of pandas will change to not sort by default.\n",
      "\n",
      "To accept the future behavior, pass 'sort=False'.\n",
      "\n",
      "To retain the current behavior and silence the warning, pass 'sort=True'.\n",
      "\n",
      "  sort=sort,\n"
     ]
    }
   ],
   "source": [
    "train_df =unlabeled_df.append(train_df)\n",
    "print (len(train_df))\n",
    "train_df.drop_duplicates(subset=['Context','DO_ID'], keep='last', inplace=True)\n",
    "print (len(train_df))"
   ]
  },
  {
   "cell_type": "code",
   "execution_count": 23,
   "metadata": {},
   "outputs": [],
   "source": [
    "dev_df = test_df"
   ]
  },
  {
   "cell_type": "code",
   "execution_count": 24,
   "metadata": {},
   "outputs": [],
   "source": [
    "import numpy as np\n",
    "indx = dev_df.sample(140).index\n",
    "dev_df.loc[indx,'relation'] = np.nan\n",
    "#temp_df['relation'] = "
   ]
  },
  {
   "cell_type": "code",
   "execution_count": 25,
   "metadata": {},
   "outputs": [
    {
     "data": {
      "text/html": [
       "<div>\n",
       "<style scoped>\n",
       "    .dataframe tbody tr th:only-of-type {\n",
       "        vertical-align: middle;\n",
       "    }\n",
       "\n",
       "    .dataframe tbody tr th {\n",
       "        vertical-align: top;\n",
       "    }\n",
       "\n",
       "    .dataframe thead th {\n",
       "        text-align: right;\n",
       "    }\n",
       "</style>\n",
       "<table border=\"1\" class=\"dataframe\">\n",
       "  <thead>\n",
       "    <tr style=\"text-align: right;\">\n",
       "      <th></th>\n",
       "      <th>DB_ID</th>\n",
       "      <th>DO_ID</th>\n",
       "      <th>disease</th>\n",
       "      <th>Label_ID</th>\n",
       "      <th>Set_ID</th>\n",
       "      <th>relation</th>\n",
       "      <th>Drug_name</th>\n",
       "      <th>Context</th>\n",
       "      <th>Section</th>\n",
       "    </tr>\n",
       "  </thead>\n",
       "  <tbody>\n",
       "    <tr>\n",
       "      <th>190</th>\n",
       "      <td>DB00986</td>\n",
       "      <td>DOID_1686</td>\n",
       "      <td>glaucoma</td>\n",
       "      <td>d0729857-b70a-4f86-8c5e-3b5b96e6123e.xml</td>\n",
       "      <td>d200bd44-9856-4104-a29e-a4cca3db6737</td>\n",
       "      <td>NaN</td>\n",
       "      <td>Glycopyrronium</td>\n",
       "      <td>cuvposa is contraindicated in patients with me...</td>\n",
       "      <td>Contraindications</td>\n",
       "    </tr>\n",
       "    <tr>\n",
       "      <th>271</th>\n",
       "      <td>DB01579</td>\n",
       "      <td>DOID_1686</td>\n",
       "      <td>glaucoma</td>\n",
       "      <td>281377de-81c3-4fec-96e9-7b426190c3f9.xml</td>\n",
       "      <td>34682387-2323-4b66-b166-59aec55f45f5</td>\n",
       "      <td>NaN</td>\n",
       "      <td>Phendimetrazine</td>\n",
       "      <td>known hypersensitivity or idiosyncratic reacti...</td>\n",
       "      <td>Contraindications</td>\n",
       "    </tr>\n",
       "    <tr>\n",
       "      <th>191</th>\n",
       "      <td>DB00202</td>\n",
       "      <td>DOID_0060319</td>\n",
       "      <td>cardiac arrest</td>\n",
       "      <td>f03f24d8-b519-44b2-bfd1-a9e91498448e.xml</td>\n",
       "      <td>c06156ae-b889-4250-bc85-1435b2635829</td>\n",
       "      <td>NaN</td>\n",
       "      <td>Succinylcholine</td>\n",
       "      <td>succinylcholine is contraindicated in persons ...</td>\n",
       "      <td>Contraindications</td>\n",
       "    </tr>\n",
       "    <tr>\n",
       "      <th>35</th>\n",
       "      <td>DB00457</td>\n",
       "      <td>DOID_10763</td>\n",
       "      <td>hypertension</td>\n",
       "      <td>e64473aa-3115-46d0-94d0-362e48e6ad38.xml</td>\n",
       "      <td>35c7aa71-6171-4ba5-916c-384c28e5f5c1</td>\n",
       "      <td>treatment</td>\n",
       "      <td>Prazosin</td>\n",
       "      <td>prazosin hydrochloride capsules usp is indicat...</td>\n",
       "      <td>Indications</td>\n",
       "    </tr>\n",
       "    <tr>\n",
       "      <th>250</th>\n",
       "      <td>DB00880</td>\n",
       "      <td>DOID_2983</td>\n",
       "      <td>anuria</td>\n",
       "      <td>1dab3243-f1dc-467d-b341-72aea14a0cce.xml</td>\n",
       "      <td>5046a4d7-7742-4f19-930a-2582cb41474e</td>\n",
       "      <td>NaN</td>\n",
       "      <td>Chlorothiazide</td>\n",
       "      <td>anuria hypersensitivity to any component of th...</td>\n",
       "      <td>Contraindications</td>\n",
       "    </tr>\n",
       "    <tr>\n",
       "      <th>154</th>\n",
       "      <td>DB00307</td>\n",
       "      <td>DOID_0060058</td>\n",
       "      <td>lymphoma</td>\n",
       "      <td>8102cbe3-c43e-4e49-bd13-2acbe511c093.xml</td>\n",
       "      <td>d7fc7c7b-2ecf-4543-8bb4-9b4415d66613</td>\n",
       "      <td>NaN</td>\n",
       "      <td>Bexarotene</td>\n",
       "      <td>bexarotene capsules are indicated for the trea...</td>\n",
       "      <td>Indications</td>\n",
       "    </tr>\n",
       "    <tr>\n",
       "      <th>123</th>\n",
       "      <td>DB00749</td>\n",
       "      <td>DOID_7148</td>\n",
       "      <td>rheumatoid arthritis</td>\n",
       "      <td>8bc073da-7e01-4e0f-91bf-e5440b31bd1f.xml</td>\n",
       "      <td>0c5f8631-f013-4bbb-b610-0a8a1311844e</td>\n",
       "      <td>relief</td>\n",
       "      <td>Etodolac</td>\n",
       "      <td>carefully consider the potential benefits and ...</td>\n",
       "      <td>Indications</td>\n",
       "    </tr>\n",
       "    <tr>\n",
       "      <th>93</th>\n",
       "      <td>DB00734</td>\n",
       "      <td>DOID_5419</td>\n",
       "      <td>schizophrenia</td>\n",
       "      <td>c031d46a-1f80-4600-ab2e-ff0b6e267e2a.xml</td>\n",
       "      <td>f0c765e9-edc1-4944-a4e6-91b82a29a8d7</td>\n",
       "      <td>treatment</td>\n",
       "      <td>Risperidone</td>\n",
       "      <td>enter section text here treatment of schizophr...</td>\n",
       "      <td>Indications</td>\n",
       "    </tr>\n",
       "    <tr>\n",
       "      <th>235</th>\n",
       "      <td>DB00524</td>\n",
       "      <td>DOID_2983</td>\n",
       "      <td>anuria</td>\n",
       "      <td>20d39fb1-12c2-4010-8010-ef55d8f48a08.xml</td>\n",
       "      <td>78105e5c-5d36-426c-9f79-f2e085460b75</td>\n",
       "      <td>contraindication</td>\n",
       "      <td>Metolazone</td>\n",
       "      <td>anuria hepatic coma or precoma known allergy o...</td>\n",
       "      <td>Contraindications</td>\n",
       "    </tr>\n",
       "    <tr>\n",
       "      <th>218</th>\n",
       "      <td>DB00367</td>\n",
       "      <td>DOID_10616</td>\n",
       "      <td>acute cervicitis</td>\n",
       "      <td>56207206-c9df-41bd-beda-58a97e4a8624.xml</td>\n",
       "      <td>aaf0eb2a-f88a-4f26-a445-0fd30176c326</td>\n",
       "      <td>NaN</td>\n",
       "      <td>Levonorgestrel</td>\n",
       "      <td>the use of liletta is contraindicated when one...</td>\n",
       "      <td>Contraindications</td>\n",
       "    </tr>\n",
       "  </tbody>\n",
       "</table>\n",
       "</div>"
      ],
      "text/plain": [
       "       DB_ID         DO_ID               disease  \\\n",
       "190  DB00986     DOID_1686              glaucoma   \n",
       "271  DB01579     DOID_1686              glaucoma   \n",
       "191  DB00202  DOID_0060319        cardiac arrest   \n",
       "35   DB00457    DOID_10763          hypertension   \n",
       "250  DB00880     DOID_2983                anuria   \n",
       "154  DB00307  DOID_0060058              lymphoma   \n",
       "123  DB00749     DOID_7148  rheumatoid arthritis   \n",
       "93   DB00734     DOID_5419         schizophrenia   \n",
       "235  DB00524     DOID_2983                anuria   \n",
       "218  DB00367    DOID_10616      acute cervicitis   \n",
       "\n",
       "                                     Label_ID  \\\n",
       "190  d0729857-b70a-4f86-8c5e-3b5b96e6123e.xml   \n",
       "271  281377de-81c3-4fec-96e9-7b426190c3f9.xml   \n",
       "191  f03f24d8-b519-44b2-bfd1-a9e91498448e.xml   \n",
       "35   e64473aa-3115-46d0-94d0-362e48e6ad38.xml   \n",
       "250  1dab3243-f1dc-467d-b341-72aea14a0cce.xml   \n",
       "154  8102cbe3-c43e-4e49-bd13-2acbe511c093.xml   \n",
       "123  8bc073da-7e01-4e0f-91bf-e5440b31bd1f.xml   \n",
       "93   c031d46a-1f80-4600-ab2e-ff0b6e267e2a.xml   \n",
       "235  20d39fb1-12c2-4010-8010-ef55d8f48a08.xml   \n",
       "218  56207206-c9df-41bd-beda-58a97e4a8624.xml   \n",
       "\n",
       "                                   Set_ID          relation        Drug_name  \\\n",
       "190  d200bd44-9856-4104-a29e-a4cca3db6737               NaN   Glycopyrronium   \n",
       "271  34682387-2323-4b66-b166-59aec55f45f5               NaN  Phendimetrazine   \n",
       "191  c06156ae-b889-4250-bc85-1435b2635829               NaN  Succinylcholine   \n",
       "35   35c7aa71-6171-4ba5-916c-384c28e5f5c1         treatment         Prazosin   \n",
       "250  5046a4d7-7742-4f19-930a-2582cb41474e               NaN   Chlorothiazide   \n",
       "154  d7fc7c7b-2ecf-4543-8bb4-9b4415d66613               NaN       Bexarotene   \n",
       "123  0c5f8631-f013-4bbb-b610-0a8a1311844e            relief         Etodolac   \n",
       "93   f0c765e9-edc1-4944-a4e6-91b82a29a8d7         treatment      Risperidone   \n",
       "235  78105e5c-5d36-426c-9f79-f2e085460b75  contraindication       Metolazone   \n",
       "218  aaf0eb2a-f88a-4f26-a445-0fd30176c326               NaN   Levonorgestrel   \n",
       "\n",
       "                                               Context            Section  \n",
       "190  cuvposa is contraindicated in patients with me...  Contraindications  \n",
       "271  known hypersensitivity or idiosyncratic reacti...  Contraindications  \n",
       "191  succinylcholine is contraindicated in persons ...  Contraindications  \n",
       "35   prazosin hydrochloride capsules usp is indicat...        Indications  \n",
       "250  anuria hypersensitivity to any component of th...  Contraindications  \n",
       "154  bexarotene capsules are indicated for the trea...        Indications  \n",
       "123  carefully consider the potential benefits and ...        Indications  \n",
       "93   enter section text here treatment of schizophr...        Indications  \n",
       "235  anuria hepatic coma or precoma known allergy o...  Contraindications  \n",
       "218  the use of liletta is contraindicated when one...  Contraindications  "
      ]
     },
     "execution_count": 25,
     "metadata": {},
     "output_type": "execute_result"
    }
   ],
   "source": [
    "dev_df.sample(10)"
   ]
  },
  {
   "cell_type": "code",
   "execution_count": 26,
   "metadata": {},
   "outputs": [
    {
     "data": {
      "text/plain": [
       "40516"
      ]
     },
     "execution_count": 26,
     "metadata": {},
     "output_type": "execute_result"
    }
   ],
   "source": [
    "len(train_df)"
   ]
  },
  {
   "cell_type": "code",
   "execution_count": 27,
   "metadata": {},
   "outputs": [
    {
     "data": {
      "text/html": [
       "<div>\n",
       "<style scoped>\n",
       "    .dataframe tbody tr th:only-of-type {\n",
       "        vertical-align: middle;\n",
       "    }\n",
       "\n",
       "    .dataframe tbody tr th {\n",
       "        vertical-align: top;\n",
       "    }\n",
       "\n",
       "    .dataframe thead th {\n",
       "        text-align: right;\n",
       "    }\n",
       "</style>\n",
       "<table border=\"1\" class=\"dataframe\">\n",
       "  <thead>\n",
       "    <tr style=\"text-align: right;\">\n",
       "      <th></th>\n",
       "      <th>relation_x</th>\n",
       "      <th>relation_y</th>\n",
       "    </tr>\n",
       "  </thead>\n",
       "  <tbody>\n",
       "    <tr>\n",
       "      <th>0</th>\n",
       "      <td>NaN</td>\n",
       "      <td>treatment</td>\n",
       "    </tr>\n",
       "    <tr>\n",
       "      <th>1</th>\n",
       "      <td>treatment</td>\n",
       "      <td>treatment</td>\n",
       "    </tr>\n",
       "    <tr>\n",
       "      <th>2</th>\n",
       "      <td>NaN</td>\n",
       "      <td>treatment</td>\n",
       "    </tr>\n",
       "    <tr>\n",
       "      <th>3</th>\n",
       "      <td>treatment</td>\n",
       "      <td>treatment</td>\n",
       "    </tr>\n",
       "    <tr>\n",
       "      <th>4</th>\n",
       "      <td>NaN</td>\n",
       "      <td>treatment</td>\n",
       "    </tr>\n",
       "    <tr>\n",
       "      <th>...</th>\n",
       "      <td>...</td>\n",
       "      <td>...</td>\n",
       "    </tr>\n",
       "    <tr>\n",
       "      <th>276</th>\n",
       "      <td>NaN</td>\n",
       "      <td>contraindication</td>\n",
       "    </tr>\n",
       "    <tr>\n",
       "      <th>277</th>\n",
       "      <td>effect</td>\n",
       "      <td>contraindication</td>\n",
       "    </tr>\n",
       "    <tr>\n",
       "      <th>278</th>\n",
       "      <td>NaN</td>\n",
       "      <td>contraindication</td>\n",
       "    </tr>\n",
       "    <tr>\n",
       "      <th>279</th>\n",
       "      <td>relief</td>\n",
       "      <td>contraindication</td>\n",
       "    </tr>\n",
       "    <tr>\n",
       "      <th>280</th>\n",
       "      <td>effect</td>\n",
       "      <td>contraindication</td>\n",
       "    </tr>\n",
       "  </tbody>\n",
       "</table>\n",
       "<p>281 rows × 2 columns</p>\n",
       "</div>"
      ],
      "text/plain": [
       "    relation_x        relation_y\n",
       "0          NaN         treatment\n",
       "1    treatment         treatment\n",
       "2          NaN         treatment\n",
       "3    treatment         treatment\n",
       "4          NaN         treatment\n",
       "..         ...               ...\n",
       "276        NaN  contraindication\n",
       "277     effect  contraindication\n",
       "278        NaN  contraindication\n",
       "279     relief  contraindication\n",
       "280     effect  contraindication\n",
       "\n",
       "[281 rows x 2 columns]"
      ]
     },
     "execution_count": 27,
     "metadata": {},
     "output_type": "execute_result"
    }
   ],
   "source": [
    "dev_df.merge(experts, on=['Label_ID','DO_ID'])[['relation_x','relation_y']]"
   ]
  },
  {
   "cell_type": "code",
   "execution_count": 28,
   "metadata": {},
   "outputs": [],
   "source": [
    "Y_dev = dev_df.merge(experts, on=['Label_ID','DO_ID'])['relation_y']"
   ]
  },
  {
   "cell_type": "code",
   "execution_count": 29,
   "metadata": {},
   "outputs": [],
   "source": [
    "classes_y = {\n",
    "'effect': 0,\n",
    "'contraindication': 1,\n",
    "'relief': 2,\n",
    "'treatment':3 \n",
    "}\n",
    "Y_dev =Y_dev.map(classes_y)"
   ]
  },
  {
   "cell_type": "code",
   "execution_count": 30,
   "metadata": {},
   "outputs": [],
   "source": [
    "from snorkel.labeling import LFAnalysis"
   ]
  },
  {
   "cell_type": "code",
   "execution_count": 31,
   "metadata": {},
   "outputs": [],
   "source": [
    "my_phrases = { 'effect': \n",
    "[\"hypersensitivity reactions\",\n",
    "\"associated with the risk of\",\n",
    "\"to the risk of\",\n",
    "\"a high risk for\",\n",
    "\"a high risk of\",\n",
    "\"high incidence of\", \n",
    "\"higher incidence of\", \n",
    "\" cause \",\n",
    "\" causes \",\n",
    "\"symptoms occure\",\n",
    "\"teratogenic\",\n",
    "\"site reaction\",\n",
    "\"the risk of development\",\n",
    "\"is associated with a risk of\",\n",
    "\"symptoms of the poisoning\",\n",
    "\"symptoms of poisoning\" \n",
    "],\n",
    "\n",
    " 'contraindication': \n",
    "[\"not administrated to\",\n",
    "\"contraindicated in\",\n",
    "\"contraindicatedin\",\n",
    "\"should not be used\",\n",
    "\"is contraindication for\",\n",
    "\"is contraindication when\",\n",
    "\"is contraindicated when\",\n",
    "\"must not be used for\",\n",
    "\"do not administer\",\n",
    "\"should not initiate\",\n",
    "\"not be administered to\",\n",
    "\"do not initiate patients\",\n",
    "\"contraindication for\",\n",
    "\"should not be given\",\n",
    "\"do not use\"],\n",
    "              \n",
    " 'relief': \n",
    "[\"relief of the signs\",\n",
    "\"relief of signs\",\n",
    "\"relief of symptoms\",\n",
    "\"relief of the symptoms\",\n",
    "\"help\",\n",
    "\"helps\",\n",
    "\"relief of signs and symptoms of\",\n",
    "\"reduction of symptoms of\",\n",
    "\"treatment of the symptoms of\",\n",
    "\"for the relief\",\n",
    "\"management of the signs and symptoms of\"], \n",
    "\n",
    " 'treatment':\n",
    "[\" indicated for the treatment of\",\n",
    "\" indicated in the management of\",\n",
    "\" indicated for the management of\",\n",
    "\"for the management of\",\n",
    "\"management of\",\n",
    "\" indicated for the maintenance of remission\", \n",
    "\"or the treatment of\",\n",
    "\"in the treatment of\",\n",
    "\" indicated as\",\n",
    "\" indicated in\",\n",
    "\"be effective\",\n",
    "\"active treatment of\",\n",
    "\" indicated for\",\n",
    "\"treatment of\",\n",
    "\" indicated as an adjunct\",\n",
    "\" indicated for use in the treatment of\", \n",
    "\" indicated for the intermittent treatment\", \n",
    "\" indicated to reduce the rate of\",\n",
    "\" indicated for the rapid control\",\n",
    "\" indicated for the control\",\n",
    "\"reduce the risk of\",\n",
    "\" indicated as adjunctive treatment\",\n",
    "\"for the treatment of\",\n",
    "\" indicated as an adjunct\"]\n",
    "           }\n",
    "\n",
    "phrases = pd.DataFrame({ key:pd.Series(value) for key, value in my_phrases.items() })\n",
    "\n",
    "effect = { 'phrases': \n",
    "[\"hypersensitivity reactions\",\n",
    "\"associated with the risk of\",\n",
    "\"to the risk of\",\n",
    "\"a high risk for\",\n",
    "\"a high risk of\",\n",
    "\"high incidence of\", \n",
    "\"higher incidence of\", \n",
    "\" cause \",\n",
    "\" causes \",\n",
    "\"symptoms occure\",\n",
    "\"teratogenic\",\n",
    "\"site reaction\",\n",
    "\"the risk of development\",\n",
    "\"is associated with a risk of\",\n",
    "\"symptoms of the poisoning\",\n",
    "\"symptoms of poisoning\" \n",
    "]}\n",
    "effect_df = pd.DataFrame(effect)\n",
    "\n",
    " \n",
    "contraindication = {'phrases': \n",
    "[\"not administrated to\",\n",
    "\"contraindicated in\",\n",
    "\"contraindicatedin\",\n",
    "\"should not be used\",\n",
    "\"is contraindication for\",\n",
    "\"is contraindication when\",\n",
    "\"is contraindicated when\",\n",
    "\"must not be used for\",\n",
    "\"do not administer\",\n",
    "\"should not initiate\",\n",
    "\"not be administered to\",\n",
    "\"do not initiate patients\",\n",
    "\"contraindication for\",\n",
    "\"should not be given\",\n",
    "\"do not use\"]}\n",
    "contraindication_df = pd.DataFrame(contraindication)\n",
    "              \n",
    "relief = {'phrases': \n",
    "[\"relief of the signs\",\n",
    "\"relief of signs\",\n",
    "\"relief of symptoms\",\n",
    "\"relief of the symptoms\",\n",
    "\"help\",\n",
    "\"helps\",\n",
    "\"relief of signs and symptoms of\",\n",
    "\"reduction of symptoms of\",\n",
    "\"treatment of the symptoms of\",\n",
    "\"for the relief\",\n",
    "\"management of the signs and symptoms of\"]} \n",
    "relief_df = pd.DataFrame(relief)\n",
    "\n",
    "treatment = {'phrases':\n",
    "[\" indicated for the treatment of\",\n",
    "\" indicated in the management of\",\n",
    "\" indicated for the management of\",\n",
    "\"for the management of\",\n",
    "\"management of\",\n",
    "\" indicated for the maintenance of remission\", \n",
    "\"or the treatment of\",\n",
    "\"in the treatment of\",\n",
    "\" indicated as\",\n",
    "\" indicated in\",\n",
    "\"be effective\",\n",
    "\"active treatment of\",\n",
    "\" indicated for\",\n",
    "\"treatment of\",\n",
    "\" indicated as an adjunct\",\n",
    "\" indicated for use in the treatment of\", \n",
    "\" indicated for the intermittent treatment\", \n",
    "\" indicated to reduce the rate of\",\n",
    "\" indicated for the rapid control\",\n",
    "\" indicated for the control\",\n",
    "\"reduce the risk of\",\n",
    "\" indicated as adjunctive treatment\",\n",
    "\"for the treatment of\"]}\n",
    "treatment_df = pd.DataFrame(treatment)"
   ]
  },
  {
   "cell_type": "code",
   "execution_count": 32,
   "metadata": {},
   "outputs": [],
   "source": [
    "from snorkel.labeling import labeling_function\n",
    "from snorkel.preprocess import preprocessor\n",
    "\n",
    "\n",
    "def check(x, string):\n",
    "    return x in string\n",
    "\n",
    "\n",
    "def find_phrases(text):\n",
    "    # Find which phrases appear in the sentence\n",
    "    class_effect = effect_df['phrases'].apply(lambda num : check(num,text))\n",
    "    class_contraindication = contraindication_df['phrases'].apply(lambda num : check(num,text))\n",
    "    class_relief = relief_df['phrases'].apply(lambda num : check(num,text))\n",
    "    class_treatment = treatment_df['phrases'].apply(lambda num : check(num,text))\n",
    "    \n",
    "    #Create a dataset from them\n",
    "    classes = {\n",
    "    'effect': class_effect,\n",
    "    'contraindication': class_contraindication,\n",
    "    'relief': class_relief,\n",
    "    'treatment':class_treatment \n",
    "    }\n",
    "\n",
    "    classes = pd.DataFrame(classes)\n",
    "    \n",
    "    a = class_effect.index[class_effect == True].tolist()\n",
    "    b = class_contraindication.index[class_contraindication == True].tolist()\n",
    "    c = class_relief.index[class_relief == True].tolist()\n",
    "    d = class_treatment.index[class_treatment == True].tolist()\n",
    "    return classes, a, b, c, d\n",
    "                                                 \n",
    "\n",
    "# return the position of a phrase/word in a sentence\n",
    "def pos_of_phrase(string, substring):\n",
    "    substring_length = len(substring)    \n",
    "    def recurse(locations_found, start):\n",
    "        location = string.find(substring, start)\n",
    "        if location != -1:\n",
    "            return recurse(locations_found + [location], location+substring_length)\n",
    "        else:\n",
    "            return locations_found\n",
    "\n",
    "    return recurse([], 0)\n",
    "\n",
    "# return the minimum distance of all phrase/word from the target disease\n",
    "def get_diff_of_pos(classes, column, pos, string):\n",
    "    name = classes.columns[column]\n",
    "    my_col = classes[name]\n",
    "    x = [k for k,v in enumerate(my_col) if v == True]\n",
    "    \n",
    "    candidate = []\n",
    "    distances = []\n",
    "    for i in range(len(x)):\n",
    "        word = phrases[classes.columns[column]][x[i]]\n",
    "        \n",
    "        for i in range(len(pos_of_phrase(string, word))):\n",
    "            distances.append( abs(pos -   pos_of_phrase(string, word)[i]) )\n",
    "\n",
    "    return min(distances)\n",
    "\n",
    "\n",
    "@labeling_function()\n",
    "def phrases_claas(x):\n",
    "    \n",
    "    text = x.Context\n",
    "\n",
    "    classes, a, b, c, d =find_phrases(text)\n",
    "\n",
    "\n",
    "    # Check if you have unique class and label based on that \n",
    "    if len(a)!=0 and len(b)==len(c)==len(d)==0:\n",
    "        #print('effect')\n",
    "        return RELATION_CLASSES['effect']\n",
    "    elif len(b)!=0 and len(a)==len(c)==len(d)==0:\n",
    "        #print('contraindication')\n",
    "        return RELATION_CLASSES['contraindication']\n",
    "    elif len(c)!=0 and len(a)==len(b)==len(d)==0:\n",
    "        #print('relief')\n",
    "        return  RELATION_CLASSES['relief']\n",
    "    elif len(d)!=0 and len(a)==len(b)==len(c)==0:\n",
    "        #print('treatment')\n",
    "        return  RELATION_CLASSES['treatment']\n",
    "    elif len(a)==len(b)==len(c)==len(d)==0:\n",
    "        #print('IDK')\n",
    "        return ABSTAIN\n",
    "    return ABSTAIN\n",
    "\n",
    "@labeling_function()\n",
    "def phrase_closeness(x):\n",
    "    text = x.Context\n",
    "    pos1 = text.find(x.disease)\n",
    "    dis_len = len(x.disease)\n",
    "    classes, a, b, c, d = find_phrases(text)\n",
    "    \n",
    "    minDist = len(text.split())\n",
    "    category = ABSTAIN\n",
    "    for class_,found_phrases in {'effect':a, 'contraindication':b, 'relief':c, 'treatment':d}.items():\n",
    "        for phrase_index in found_phrases:\n",
    "            phrase =phrases.loc[phrase_index,class_]\n",
    "            pos2 = text.find(phrase)\n",
    "            phr_len = len(phrase)\n",
    "            if pos1 > pos2:\n",
    "                span = text[pos2+phr_len:pos1]\n",
    "            else:\n",
    "                span = text[pos1+dis_len:pos2]\n",
    "            words = span.split()\n",
    "            distance = len(words)\n",
    "            if minDist > distance:\n",
    "                minDist = distance\n",
    "                category = class_\n",
    "    \n",
    "    if category == ABSTAIN:\n",
    "        return ABSTAIN\n",
    "    return RELATION_CLASSES[category]\n",
    "\n",
    "@labeling_function()\n",
    "def crowd(x):\n",
    "    #print (x.relation_type)\n",
    "    if x.relation in RELATION_CLASSES:\n",
    "        return RELATION_CLASSES[x.relation]\n",
    "    return ABSTAIN\n"
   ]
  },
  {
   "cell_type": "code",
   "execution_count": 33,
   "metadata": {},
   "outputs": [
    {
     "data": {
      "text/plain": [
       "{'effect': 0, 'contraindication': 1, 'relief': 2, 'treatment': 3}"
      ]
     },
     "execution_count": 33,
     "metadata": {},
     "output_type": "execute_result"
    }
   ],
   "source": [
    "ABSTAIN = -1\n",
    "\n",
    "RELATION_CLASSES = {\n",
    "'effect': 0,\n",
    "'contraindication': 1,\n",
    "'relief': 2,\n",
    "'treatment':3 \n",
    "} \n",
    "RELATION_CLASSES"
   ]
  },
  {
   "cell_type": "code",
   "execution_count": 34,
   "metadata": {},
   "outputs": [],
   "source": [
    "from snorkel.labeling import PandasLFApplier\n",
    "\n",
    "lfs = [crowd, phrases_claas, phrase_closeness]\n",
    "applier = PandasLFApplier(lfs)"
   ]
  },
  {
   "cell_type": "code",
   "execution_count": 35,
   "metadata": {
    "scrolled": true
   },
   "outputs": [
    {
     "name": "stderr",
     "output_type": "stream",
     "text": [
      "100%|██████████| 40516/40516 [04:44<00:00, 142.32it/s]\n"
     ]
    }
   ],
   "source": [
    "L_train = applier.apply(train_df)"
   ]
  },
  {
   "cell_type": "code",
   "execution_count": 36,
   "metadata": {
    "scrolled": true
   },
   "outputs": [
    {
     "name": "stderr",
     "output_type": "stream",
     "text": [
      "100%|██████████| 281/281 [00:02<00:00, 127.40it/s]\n"
     ]
    }
   ],
   "source": [
    "L_dev = applier.apply(dev_df)"
   ]
  },
  {
   "cell_type": "code",
   "execution_count": 37,
   "metadata": {},
   "outputs": [
    {
     "data": {
      "text/plain": [
       "array([3, 0, 2, 1])"
      ]
     },
     "execution_count": 37,
     "metadata": {},
     "output_type": "execute_result"
    }
   ],
   "source": [
    "Y_dev.unique()"
   ]
  },
  {
   "cell_type": "code",
   "execution_count": 38,
   "metadata": {},
   "outputs": [],
   "source": [
    "from snorkel.labeling import LabelModel\n",
    "# Train LabelModel.\n",
    "label_model = LabelModel(cardinality=4, verbose=True)\n",
    "label_model.fit(L_train, n_epochs=100, seed=123, log_freq=20, l2=0.1, lr=0.01)"
   ]
  },
  {
   "cell_type": "code",
   "execution_count": 41,
   "metadata": {},
   "outputs": [],
   "source": [
    "from snorkel.analysis import metric_score\n",
    "\n",
    "preds_dev = label_model.predict(L_dev)"
   ]
  },
  {
   "cell_type": "code",
   "execution_count": 44,
   "metadata": {},
   "outputs": [
    {
     "data": {
      "text/plain": [
       "0.8149466192170819"
      ]
     },
     "execution_count": 44,
     "metadata": {},
     "output_type": "execute_result"
    }
   ],
   "source": [
    "acc = metric_score(Y_dev, preds_dev, probs=None, metric=\"accuracy\")\n",
    "acc"
   ]
  },
  {
   "cell_type": "code",
   "execution_count": 45,
   "metadata": {},
   "outputs": [
    {
     "data": {
      "text/html": [
       "<div>\n",
       "<style scoped>\n",
       "    .dataframe tbody tr th:only-of-type {\n",
       "        vertical-align: middle;\n",
       "    }\n",
       "\n",
       "    .dataframe tbody tr th {\n",
       "        vertical-align: top;\n",
       "    }\n",
       "\n",
       "    .dataframe thead th {\n",
       "        text-align: right;\n",
       "    }\n",
       "</style>\n",
       "<table border=\"1\" class=\"dataframe\">\n",
       "  <thead>\n",
       "    <tr style=\"text-align: right;\">\n",
       "      <th></th>\n",
       "      <th>j</th>\n",
       "      <th>Polarity</th>\n",
       "      <th>Coverage</th>\n",
       "      <th>Overlaps</th>\n",
       "      <th>Conflicts</th>\n",
       "      <th>Correct</th>\n",
       "      <th>Incorrect</th>\n",
       "      <th>Emp. Acc.</th>\n",
       "    </tr>\n",
       "  </thead>\n",
       "  <tbody>\n",
       "    <tr>\n",
       "      <th>crowd</th>\n",
       "      <td>0</td>\n",
       "      <td>[0, 1, 2, 3]</td>\n",
       "      <td>0.501779</td>\n",
       "      <td>0.466192</td>\n",
       "      <td>0.192171</td>\n",
       "      <td>86</td>\n",
       "      <td>55</td>\n",
       "      <td>0.609929</td>\n",
       "    </tr>\n",
       "    <tr>\n",
       "      <th>phrases_claas</th>\n",
       "      <td>1</td>\n",
       "      <td>[0, 1, 2, 3]</td>\n",
       "      <td>0.576512</td>\n",
       "      <td>0.576512</td>\n",
       "      <td>0.124555</td>\n",
       "      <td>142</td>\n",
       "      <td>20</td>\n",
       "      <td>0.876543</td>\n",
       "    </tr>\n",
       "    <tr>\n",
       "      <th>phrase_closeness</th>\n",
       "      <td>2</td>\n",
       "      <td>[0, 1, 2, 3]</td>\n",
       "      <td>0.946619</td>\n",
       "      <td>0.758007</td>\n",
       "      <td>0.192171</td>\n",
       "      <td>219</td>\n",
       "      <td>47</td>\n",
       "      <td>0.823308</td>\n",
       "    </tr>\n",
       "  </tbody>\n",
       "</table>\n",
       "</div>"
      ],
      "text/plain": [
       "                  j      Polarity  Coverage  Overlaps  Conflicts  Correct  \\\n",
       "crowd             0  [0, 1, 2, 3]  0.501779  0.466192   0.192171       86   \n",
       "phrases_claas     1  [0, 1, 2, 3]  0.576512  0.576512   0.124555      142   \n",
       "phrase_closeness  2  [0, 1, 2, 3]  0.946619  0.758007   0.192171      219   \n",
       "\n",
       "                  Incorrect  Emp. Acc.  \n",
       "crowd                    55   0.609929  \n",
       "phrases_claas            20   0.876543  \n",
       "phrase_closeness         47   0.823308  "
      ]
     },
     "execution_count": 45,
     "metadata": {},
     "output_type": "execute_result"
    }
   ],
   "source": [
    "LFAnalysis(L_dev, lfs).lf_summary(Y_dev.values).head()"
   ]
  },
  {
   "cell_type": "markdown",
   "metadata": {},
   "source": [
    "# New"
   ]
  },
  {
   "cell_type": "code",
   "execution_count": 46,
   "metadata": {},
   "outputs": [],
   "source": [
    "from snorkel.labeling import filter_unlabeled_dataframe\n",
    "\n",
    "probs_train = label_model.predict_proba(L_train)\n",
    "pred_train =label_model.predict(L_train)\n",
    "df_train_filtered, probs_train_filtered = filter_unlabeled_dataframe(\n",
    "    X=train_df, y=pred_train, L=L_train\n",
    ")"
   ]
  },
  {
   "cell_type": "code",
   "execution_count": 47,
   "metadata": {},
   "outputs": [
    {
     "name": "stderr",
     "output_type": "stream",
     "text": [
      "/Users/remzicelebi/opt/anaconda3/envs/snorkel-env/lib/python3.6/site-packages/ipykernel_launcher.py:1: SettingWithCopyWarning: \n",
      "A value is trying to be set on a copy of a slice from a DataFrame.\n",
      "Try using .loc[row_indexer,col_indexer] = value instead\n",
      "\n",
      "See the caveats in the documentation: http://pandas.pydata.org/pandas-docs/stable/user_guide/indexing.html#returning-a-view-versus-a-copy\n",
      "  \"\"\"Entry point for launching an IPython kernel.\n"
     ]
    }
   ],
   "source": [
    "df_train_filtered['noisy_labels'] =probs_train_filtered "
   ]
  },
  {
   "cell_type": "code",
   "execution_count": 48,
   "metadata": {},
   "outputs": [
    {
     "name": "stderr",
     "output_type": "stream",
     "text": [
      "/Users/remzicelebi/opt/anaconda3/envs/snorkel-env/lib/python3.6/site-packages/pandas/core/generic.py:5208: SettingWithCopyWarning: \n",
      "A value is trying to be set on a copy of a slice from a DataFrame.\n",
      "Try using .loc[row_indexer,col_indexer] = value instead\n",
      "\n",
      "See the caveats in the documentation: http://pandas.pydata.org/pandas-docs/stable/user_guide/indexing.html#returning-a-view-versus-a-copy\n",
      "  self[name] = value\n"
     ]
    }
   ],
   "source": [
    "df_train_filtered.relation = df_train_filtered.relation.replace(RELATION_CLASSES)"
   ]
  },
  {
   "cell_type": "code",
   "execution_count": 49,
   "metadata": {},
   "outputs": [
    {
     "name": "stderr",
     "output_type": "stream",
     "text": [
      "/Users/remzicelebi/opt/anaconda3/envs/snorkel-env/lib/python3.6/site-packages/pandas/core/frame.py:4238: SettingWithCopyWarning: \n",
      "A value is trying to be set on a copy of a slice from a DataFrame\n",
      "\n",
      "See the caveats in the documentation: http://pandas.pydata.org/pandas-docs/stable/user_guide/indexing.html#returning-a-view-versus-a-copy\n",
      "  return super().rename(**kwargs)\n"
     ]
    }
   ],
   "source": [
    "df_train_filtered.rename(columns={'relation':'crowd_label'}, inplace=True)\n",
    "df_train_filtered.to_csv('train_data.csv',index=False)"
   ]
  },
  {
   "cell_type": "code",
   "execution_count": 50,
   "metadata": {},
   "outputs": [],
   "source": [
    "test_df['noisy_labels']= preds_dev"
   ]
  },
  {
   "cell_type": "code",
   "execution_count": 51,
   "metadata": {},
   "outputs": [],
   "source": [
    "test_df['label']= Y_dev\n",
    "test_df.rename(columns={'relation':'crowd_label'}, inplace=True)\n",
    "test_df.to_csv('test_data.csv',index=False)"
   ]
  },
  {
   "cell_type": "code",
   "execution_count": 52,
   "metadata": {},
   "outputs": [
    {
     "data": {
      "text/plain": [
       "38772"
      ]
     },
     "execution_count": 52,
     "metadata": {},
     "output_type": "execute_result"
    }
   ],
   "source": [
    "len(df_train_filtered)"
   ]
  },
  {
   "cell_type": "code",
   "execution_count": null,
   "metadata": {},
   "outputs": [],
   "source": []
  }
 ],
 "metadata": {
  "kernelspec": {
   "display_name": "Python 3",
   "language": "python",
   "name": "python3"
  },
  "language_info": {
   "codemirror_mode": {
    "name": "ipython",
    "version": 3
   },
   "file_extension": ".py",
   "mimetype": "text/x-python",
   "name": "python",
   "nbconvert_exporter": "python",
   "pygments_lexer": "ipython3",
   "version": "3.6.12"
  }
 },
 "nbformat": 4,
 "nbformat_minor": 4
}
