{
 "cells": [
  {
   "cell_type": "code",
   "execution_count": 1,
   "metadata": {},
   "outputs": [
    {
     "name": "stdout",
     "output_type": "stream",
     "text": [
      "Requirement already satisfied: snorkel==0.9.3 in /Users/remzicelebi/opt/anaconda3/envs/snorkel-env/lib/python3.6/site-packages (0.9.3)\n",
      "Requirement already satisfied: tensorboardX<2.0,>=1.6 in /Users/remzicelebi/opt/anaconda3/envs/snorkel-env/lib/python3.6/site-packages (from snorkel==0.9.3) (1.9)\n",
      "Requirement already satisfied: tqdm<5.0.0,>=4.33.0 in /Users/remzicelebi/opt/anaconda3/envs/snorkel-env/lib/python3.6/site-packages (from snorkel==0.9.3) (4.51.0)\n",
      "Requirement already satisfied: numpy<2.0.0,>=1.16.0 in /Users/remzicelebi/opt/anaconda3/envs/snorkel-env/lib/python3.6/site-packages (from snorkel==0.9.3) (1.19.2)\n",
      "Requirement already satisfied: torch<1.2.0,>=1.1.0 in /Users/remzicelebi/opt/anaconda3/envs/snorkel-env/lib/python3.6/site-packages (from snorkel==0.9.3) (1.1.0)\n",
      "Requirement already satisfied: networkx<2.4,>=2.2 in /Users/remzicelebi/opt/anaconda3/envs/snorkel-env/lib/python3.6/site-packages (from snorkel==0.9.3) (2.3)\n",
      "Requirement already satisfied: pandas<0.26.0,>=0.25.0 in /Users/remzicelebi/opt/anaconda3/envs/snorkel-env/lib/python3.6/site-packages (from snorkel==0.9.3) (0.25.3)\n",
      "Requirement already satisfied: munkres==1.1.2 in /Users/remzicelebi/opt/anaconda3/envs/snorkel-env/lib/python3.6/site-packages (from snorkel==0.9.3) (1.1.2)\n",
      "Requirement already satisfied: scipy<2.0.0,>=1.2.0 in /Users/remzicelebi/opt/anaconda3/envs/snorkel-env/lib/python3.6/site-packages (from snorkel==0.9.3) (1.5.2)\n",
      "Requirement already satisfied: scikit-learn<0.22.0,>=0.20.2 in /Users/remzicelebi/opt/anaconda3/envs/snorkel-env/lib/python3.6/site-packages (from snorkel==0.9.3) (0.21.3)\n",
      "Requirement already satisfied: six in /Users/remzicelebi/opt/anaconda3/envs/snorkel-env/lib/python3.6/site-packages (from tensorboardX<2.0,>=1.6->snorkel==0.9.3) (1.15.0)\n",
      "Requirement already satisfied: protobuf>=3.8.0 in /Users/remzicelebi/opt/anaconda3/envs/snorkel-env/lib/python3.6/site-packages (from tensorboardX<2.0,>=1.6->snorkel==0.9.3) (3.12.3)\n",
      "Requirement already satisfied: decorator>=4.3.0 in /Users/remzicelebi/opt/anaconda3/envs/snorkel-env/lib/python3.6/site-packages (from networkx<2.4,>=2.2->snorkel==0.9.3) (4.4.2)\n",
      "Requirement already satisfied: pytz>=2017.2 in /Users/remzicelebi/opt/anaconda3/envs/snorkel-env/lib/python3.6/site-packages (from pandas<0.26.0,>=0.25.0->snorkel==0.9.3) (2020.1)\n",
      "Requirement already satisfied: python-dateutil>=2.6.1 in /Users/remzicelebi/opt/anaconda3/envs/snorkel-env/lib/python3.6/site-packages (from pandas<0.26.0,>=0.25.0->snorkel==0.9.3) (2.8.1)\n",
      "Requirement already satisfied: joblib>=0.11 in /Users/remzicelebi/opt/anaconda3/envs/snorkel-env/lib/python3.6/site-packages (from scikit-learn<0.22.0,>=0.20.2->snorkel==0.9.3) (0.17.0)\n",
      "Requirement already satisfied: setuptools in /Users/remzicelebi/opt/anaconda3/envs/snorkel-env/lib/python3.6/site-packages (from protobuf>=3.8.0->tensorboardX<2.0,>=1.6->snorkel==0.9.3) (50.3.0.post20201006)\n"
     ]
    }
   ],
   "source": [
    "## use conda\n",
    "## conda create --yes -n snorkel-env python=3.6\n",
    "## conda activate snorkel-env\n",
    "\n",
    "# We specify PyTorch here to ensure compatibility, but it may not be necessary.\n",
    "## conda install pytorch==1.1.0 -c pytorch\n",
    "## conda install snorkel==0.9.0 -c conda-forge\n",
    "## conda install -c conda-forge jupyterlab\n",
    "## jupyter notebook \n",
    "!pip install snorkel==0.9.3"
   ]
  },
  {
   "cell_type": "code",
   "execution_count": 2,
   "metadata": {},
   "outputs": [],
   "source": [
    "import snorkel"
   ]
  },
  {
   "cell_type": "code",
   "execution_count": 3,
   "metadata": {},
   "outputs": [],
   "source": [
    "import pandas as pd"
   ]
  },
  {
   "cell_type": "code",
   "execution_count": 4,
   "metadata": {},
   "outputs": [
    {
     "data": {
      "text/html": [
       "<div>\n",
       "<style scoped>\n",
       "    .dataframe tbody tr th:only-of-type {\n",
       "        vertical-align: middle;\n",
       "    }\n",
       "\n",
       "    .dataframe tbody tr th {\n",
       "        vertical-align: top;\n",
       "    }\n",
       "\n",
       "    .dataframe thead th {\n",
       "        text-align: right;\n",
       "    }\n",
       "</style>\n",
       "<table border=\"1\" class=\"dataframe\">\n",
       "  <thead>\n",
       "    <tr style=\"text-align: right;\">\n",
       "      <th></th>\n",
       "      <th>disease</th>\n",
       "      <th>DO_ID</th>\n",
       "      <th>DB_ID</th>\n",
       "      <th>DrugName</th>\n",
       "      <th>Set_ID</th>\n",
       "      <th>Context</th>\n",
       "      <th>Section</th>\n",
       "    </tr>\n",
       "  </thead>\n",
       "  <tbody>\n",
       "    <tr>\n",
       "      <th>0</th>\n",
       "      <td>paraganglioma</td>\n",
       "      <td>DOID_0050773</td>\n",
       "      <td>DB00752</td>\n",
       "      <td>TRANYLCYPROMINE</td>\n",
       "      <td>b72d8187-dfcc-4ea0-b5e9-c0be95b69a27</td>\n",
       "      <td>concomitant use or use in rapid succession wit...</td>\n",
       "      <td>Contraindication</td>\n",
       "    </tr>\n",
       "    <tr>\n",
       "      <th>1</th>\n",
       "      <td>syndrome</td>\n",
       "      <td>DOID_225</td>\n",
       "      <td>DB00752</td>\n",
       "      <td>TRANYLCYPROMINE</td>\n",
       "      <td>b72d8187-dfcc-4ea0-b5e9-c0be95b69a27</td>\n",
       "      <td>concomitant use or use in rapid succession wit...</td>\n",
       "      <td>Contraindication</td>\n",
       "    </tr>\n",
       "    <tr>\n",
       "      <th>2</th>\n",
       "      <td>hay fever</td>\n",
       "      <td>DOID_4481</td>\n",
       "      <td>DB00752</td>\n",
       "      <td>TRANYLCYPROMINE</td>\n",
       "      <td>b72d8187-dfcc-4ea0-b5e9-c0be95b69a27</td>\n",
       "      <td>concomitant use or use in rapid succession wit...</td>\n",
       "      <td>Contraindication</td>\n",
       "    </tr>\n",
       "    <tr>\n",
       "      <th>3</th>\n",
       "      <td>paraganglioma</td>\n",
       "      <td>DOID_0050773</td>\n",
       "      <td>DB00752</td>\n",
       "      <td>TRANYLCYPROMINE</td>\n",
       "      <td>6a0b609b-0625-4c26-91a1-59ee3ece3ddf</td>\n",
       "      <td>concomitant use or use in rapid succession wit...</td>\n",
       "      <td>Contraindication</td>\n",
       "    </tr>\n",
       "    <tr>\n",
       "      <th>4</th>\n",
       "      <td>syndrome</td>\n",
       "      <td>DOID_225</td>\n",
       "      <td>DB00752</td>\n",
       "      <td>TRANYLCYPROMINE</td>\n",
       "      <td>6a0b609b-0625-4c26-91a1-59ee3ece3ddf</td>\n",
       "      <td>concomitant use or use in rapid succession wit...</td>\n",
       "      <td>Contraindication</td>\n",
       "    </tr>\n",
       "  </tbody>\n",
       "</table>\n",
       "</div>"
      ],
      "text/plain": [
       "         disease         DO_ID    DB_ID         DrugName  \\\n",
       "0  paraganglioma  DOID_0050773  DB00752  TRANYLCYPROMINE   \n",
       "1       syndrome      DOID_225  DB00752  TRANYLCYPROMINE   \n",
       "2      hay fever     DOID_4481  DB00752  TRANYLCYPROMINE   \n",
       "3  paraganglioma  DOID_0050773  DB00752  TRANYLCYPROMINE   \n",
       "4       syndrome      DOID_225  DB00752  TRANYLCYPROMINE   \n",
       "\n",
       "                                 Set_ID  \\\n",
       "0  b72d8187-dfcc-4ea0-b5e9-c0be95b69a27   \n",
       "1  b72d8187-dfcc-4ea0-b5e9-c0be95b69a27   \n",
       "2  b72d8187-dfcc-4ea0-b5e9-c0be95b69a27   \n",
       "3  6a0b609b-0625-4c26-91a1-59ee3ece3ddf   \n",
       "4  6a0b609b-0625-4c26-91a1-59ee3ece3ddf   \n",
       "\n",
       "                                             Context           Section  \n",
       "0  concomitant use or use in rapid succession wit...  Contraindication  \n",
       "1  concomitant use or use in rapid succession wit...  Contraindication  \n",
       "2  concomitant use or use in rapid succession wit...  Contraindication  \n",
       "3  concomitant use or use in rapid succession wit...  Contraindication  \n",
       "4  concomitant use or use in rapid succession wit...  Contraindication  "
      ]
     },
     "execution_count": 4,
     "metadata": {},
     "output_type": "execute_result"
    }
   ],
   "source": [
    "unlabeled_df  = pd.read_csv('../data/unlabeled/raw_cleaned.csv')\n",
    "unlabeled_df = unlabeled_df[['disease','DO_ID','DB_ID','DrugName','Set_ID','Context','Section']]\n",
    "unlabeled_df.head()"
   ]
  },
  {
   "cell_type": "code",
   "execution_count": 5,
   "metadata": {},
   "outputs": [
    {
     "data": {
      "text/html": [
       "<div>\n",
       "<style scoped>\n",
       "    .dataframe tbody tr th:only-of-type {\n",
       "        vertical-align: middle;\n",
       "    }\n",
       "\n",
       "    .dataframe tbody tr th {\n",
       "        vertical-align: top;\n",
       "    }\n",
       "\n",
       "    .dataframe thead th {\n",
       "        text-align: right;\n",
       "    }\n",
       "</style>\n",
       "<table border=\"1\" class=\"dataframe\">\n",
       "  <thead>\n",
       "    <tr style=\"text-align: right;\">\n",
       "      <th></th>\n",
       "      <th>disease</th>\n",
       "      <th>DO_ID</th>\n",
       "      <th>DB_ID</th>\n",
       "      <th>Drug_name</th>\n",
       "      <th>Label_ID</th>\n",
       "      <th>Set_ID</th>\n",
       "      <th>Context</th>\n",
       "      <th>Section</th>\n",
       "      <th>relation</th>\n",
       "    </tr>\n",
       "  </thead>\n",
       "  <tbody>\n",
       "    <tr>\n",
       "      <th>0</th>\n",
       "      <td>hypertension</td>\n",
       "      <td>DOID_10763</td>\n",
       "      <td>DB00657</td>\n",
       "      <td>Mecamylamine</td>\n",
       "      <td>976f404f-4857-4bad-9a3c-9bf3d5ca9f5b.xml</td>\n",
       "      <td>c6822ce4-e741-4366-b72a-5f5146354f97</td>\n",
       "      <td>For the management of moderately severe to sev...</td>\n",
       "      <td>Indications</td>\n",
       "      <td>treatment</td>\n",
       "    </tr>\n",
       "    <tr>\n",
       "      <th>1</th>\n",
       "      <td>malignant hypertension</td>\n",
       "      <td>DOID_10824</td>\n",
       "      <td>DB00657</td>\n",
       "      <td>Mecamylamine</td>\n",
       "      <td>976f404f-4857-4bad-9a3c-9bf3d5ca9f5b.xml</td>\n",
       "      <td>c6822ce4-e741-4366-b72a-5f5146354f97</td>\n",
       "      <td>For the management of moderately severe to sev...</td>\n",
       "      <td>Indications</td>\n",
       "      <td>treatment</td>\n",
       "    </tr>\n",
       "    <tr>\n",
       "      <th>2</th>\n",
       "      <td>hypertension</td>\n",
       "      <td>DOID_10763</td>\n",
       "      <td>DB00401</td>\n",
       "      <td>Nisoldipine</td>\n",
       "      <td>ce733b39-7857-4538-92d6-1c68a4e4eb75.xml</td>\n",
       "      <td>a6a8a8ba-3966-4f37-a58b-44d3b05bdc4e</td>\n",
       "      <td>Nisoldipine extended-release tablets are indic...</td>\n",
       "      <td>Indications</td>\n",
       "      <td>treatment</td>\n",
       "    </tr>\n",
       "    <tr>\n",
       "      <th>3</th>\n",
       "      <td>hypertension</td>\n",
       "      <td>DOID_10763</td>\n",
       "      <td>DB00612</td>\n",
       "      <td>Bisoprolol</td>\n",
       "      <td>c818c38d-ee37-4ceb-b078-611483b4f743.xml</td>\n",
       "      <td>c818c38d-ee37-4ceb-b078-611483b4f743</td>\n",
       "      <td>Bisoprolol fumarate tablets, USP are indicated...</td>\n",
       "      <td>Indications</td>\n",
       "      <td>treatment</td>\n",
       "    </tr>\n",
       "    <tr>\n",
       "      <th>4</th>\n",
       "      <td>hypertension</td>\n",
       "      <td>DOID_10763</td>\n",
       "      <td>DB00960</td>\n",
       "      <td>Pindolol</td>\n",
       "      <td>d4078b63-30ad-435b-a081-4d90562962b5.xml</td>\n",
       "      <td>b5a5a1e9-ee9b-41b1-b2d5-5f5834b816a7</td>\n",
       "      <td>Pindolol tablets are indicated in the manageme...</td>\n",
       "      <td>Indications</td>\n",
       "      <td>treatment</td>\n",
       "    </tr>\n",
       "  </tbody>\n",
       "</table>\n",
       "</div>"
      ],
      "text/plain": [
       "                  disease       DO_ID    DB_ID     Drug_name  \\\n",
       "0            hypertension  DOID_10763  DB00657  Mecamylamine   \n",
       "1  malignant hypertension  DOID_10824  DB00657  Mecamylamine   \n",
       "2            hypertension  DOID_10763  DB00401   Nisoldipine   \n",
       "3            hypertension  DOID_10763  DB00612    Bisoprolol   \n",
       "4            hypertension  DOID_10763  DB00960      Pindolol   \n",
       "\n",
       "                                   Label_ID  \\\n",
       "0  976f404f-4857-4bad-9a3c-9bf3d5ca9f5b.xml   \n",
       "1  976f404f-4857-4bad-9a3c-9bf3d5ca9f5b.xml   \n",
       "2  ce733b39-7857-4538-92d6-1c68a4e4eb75.xml   \n",
       "3  c818c38d-ee37-4ceb-b078-611483b4f743.xml   \n",
       "4  d4078b63-30ad-435b-a081-4d90562962b5.xml   \n",
       "\n",
       "                                 Set_ID  \\\n",
       "0  c6822ce4-e741-4366-b72a-5f5146354f97   \n",
       "1  c6822ce4-e741-4366-b72a-5f5146354f97   \n",
       "2  a6a8a8ba-3966-4f37-a58b-44d3b05bdc4e   \n",
       "3  c818c38d-ee37-4ceb-b078-611483b4f743   \n",
       "4  b5a5a1e9-ee9b-41b1-b2d5-5f5834b816a7   \n",
       "\n",
       "                                             Context      Section   relation  \n",
       "0  For the management of moderately severe to sev...  Indications  treatment  \n",
       "1  For the management of moderately severe to sev...  Indications  treatment  \n",
       "2  Nisoldipine extended-release tablets are indic...  Indications  treatment  \n",
       "3  Bisoprolol fumarate tablets, USP are indicated...  Indications  treatment  \n",
       "4  Pindolol tablets are indicated in the manageme...  Indications  treatment  "
      ]
     },
     "execution_count": 5,
     "metadata": {},
     "output_type": "execute_result"
    }
   ],
   "source": [
    "crowd1_df =pd.read_csv('../data/crowd/match_crowd_data.csv')\n",
    "#crowd1_df.head()\n",
    "crowd1_df = crowd1_df[['disease','DO_ID','DB_ID','Drug_name','Label_ID','Set_ID','Context','Section','relation']]\n",
    "crowd1_df.head()"
   ]
  },
  {
   "cell_type": "code",
   "execution_count": 6,
   "metadata": {},
   "outputs": [
    {
     "data": {
      "text/html": [
       "<div>\n",
       "<style scoped>\n",
       "    .dataframe tbody tr th:only-of-type {\n",
       "        vertical-align: middle;\n",
       "    }\n",
       "\n",
       "    .dataframe tbody tr th {\n",
       "        vertical-align: top;\n",
       "    }\n",
       "\n",
       "    .dataframe thead th {\n",
       "        text-align: right;\n",
       "    }\n",
       "</style>\n",
       "<table border=\"1\" class=\"dataframe\">\n",
       "  <thead>\n",
       "    <tr style=\"text-align: right;\">\n",
       "      <th></th>\n",
       "      <th>disease</th>\n",
       "      <th>DO_ID</th>\n",
       "      <th>DB_ID</th>\n",
       "      <th>Drug_name</th>\n",
       "      <th>Label_ID</th>\n",
       "      <th>Set_ID</th>\n",
       "      <th>Context</th>\n",
       "      <th>Section</th>\n",
       "      <th>relation</th>\n",
       "    </tr>\n",
       "  </thead>\n",
       "  <tbody>\n",
       "    <tr>\n",
       "      <th>0</th>\n",
       "      <td>thrombocytopenia</td>\n",
       "      <td>DOID_1588</td>\n",
       "      <td>DB05332</td>\n",
       "      <td>ROMIPLOSTIM</td>\n",
       "      <td>0065c77d-0a8e-48d8-8f1f-fc78f6cacc41.xml</td>\n",
       "      <td>c45f9a58-37c1-4f76-8e36-97d38c577037</td>\n",
       "      <td>Nplate is indicated for the treatment of throm...</td>\n",
       "      <td>Indications</td>\n",
       "      <td>treatment</td>\n",
       "    </tr>\n",
       "    <tr>\n",
       "      <th>1</th>\n",
       "      <td>urinary tract infection</td>\n",
       "      <td>DOID_13148</td>\n",
       "      <td>DB04272</td>\n",
       "      <td>ANHYDROUS CITRIC ACID</td>\n",
       "      <td>01c62b42-cd67-4a44-8ac9-7daa079ce528.xml</td>\n",
       "      <td>39f46084-fc4b-4bfc-91cb-9be7e647655a</td>\n",
       "      <td>Patients with hyperkalemia (or who have condit...</td>\n",
       "      <td>Contraindication</td>\n",
       "      <td>contraindication</td>\n",
       "    </tr>\n",
       "    <tr>\n",
       "      <th>2</th>\n",
       "      <td>hypertension</td>\n",
       "      <td>DOID_10763</td>\n",
       "      <td>DB00177</td>\n",
       "      <td>VALSARTAN</td>\n",
       "      <td>02359e00-234a-4d27-a824-65dcb8cf3482.xml</td>\n",
       "      <td>fb3ef419-fb3b-4a40-9151-938741d26ade</td>\n",
       "      <td>Valsartan tablets are an angiotensin II recept...</td>\n",
       "      <td>Indications</td>\n",
       "      <td>treatment</td>\n",
       "    </tr>\n",
       "    <tr>\n",
       "      <th>3</th>\n",
       "      <td>rhabdomyosarcoma</td>\n",
       "      <td>DOID_3247</td>\n",
       "      <td>DB00970</td>\n",
       "      <td>DACTINOMYCIN</td>\n",
       "      <td>028310eb-7a34-470d-9041-cee58fd3622c.xml</td>\n",
       "      <td>5dc19443-1bac-4bb4-893e-e791b72b3d26</td>\n",
       "      <td>Dactinomycin for injection is an actinomycin i...</td>\n",
       "      <td>Indications</td>\n",
       "      <td>treatment</td>\n",
       "    </tr>\n",
       "    <tr>\n",
       "      <th>4</th>\n",
       "      <td>rosacea</td>\n",
       "      <td>DOID_8881</td>\n",
       "      <td>DB00916</td>\n",
       "      <td>METRONIDAZOLE</td>\n",
       "      <td>030c1db3-fbce-4963-bc60-7438d927c8b4.xml</td>\n",
       "      <td>970a767a-7a65-4cdf-84fe-4dbe0a77b80a</td>\n",
       "      <td>Metronidazole topical lotion is indicated for ...</td>\n",
       "      <td>Indications</td>\n",
       "      <td>treatment</td>\n",
       "    </tr>\n",
       "  </tbody>\n",
       "</table>\n",
       "</div>"
      ],
      "text/plain": [
       "                   disease       DO_ID    DB_ID              Drug_name  \\\n",
       "0         thrombocytopenia   DOID_1588  DB05332            ROMIPLOSTIM   \n",
       "1  urinary tract infection  DOID_13148  DB04272  ANHYDROUS CITRIC ACID   \n",
       "2             hypertension  DOID_10763  DB00177              VALSARTAN   \n",
       "3         rhabdomyosarcoma   DOID_3247  DB00970           DACTINOMYCIN   \n",
       "4                  rosacea   DOID_8881  DB00916          METRONIDAZOLE   \n",
       "\n",
       "                                   Label_ID  \\\n",
       "0  0065c77d-0a8e-48d8-8f1f-fc78f6cacc41.xml   \n",
       "1  01c62b42-cd67-4a44-8ac9-7daa079ce528.xml   \n",
       "2  02359e00-234a-4d27-a824-65dcb8cf3482.xml   \n",
       "3  028310eb-7a34-470d-9041-cee58fd3622c.xml   \n",
       "4  030c1db3-fbce-4963-bc60-7438d927c8b4.xml   \n",
       "\n",
       "                                 Set_ID  \\\n",
       "0  c45f9a58-37c1-4f76-8e36-97d38c577037   \n",
       "1  39f46084-fc4b-4bfc-91cb-9be7e647655a   \n",
       "2  fb3ef419-fb3b-4a40-9151-938741d26ade   \n",
       "3  5dc19443-1bac-4bb4-893e-e791b72b3d26   \n",
       "4  970a767a-7a65-4cdf-84fe-4dbe0a77b80a   \n",
       "\n",
       "                                             Context           Section  \\\n",
       "0  Nplate is indicated for the treatment of throm...       Indications   \n",
       "1  Patients with hyperkalemia (or who have condit...  Contraindication   \n",
       "2  Valsartan tablets are an angiotensin II recept...       Indications   \n",
       "3  Dactinomycin for injection is an actinomycin i...       Indications   \n",
       "4  Metronidazole topical lotion is indicated for ...       Indications   \n",
       "\n",
       "           relation  \n",
       "0         treatment  \n",
       "1  contraindication  \n",
       "2         treatment  \n",
       "3         treatment  \n",
       "4         treatment  "
      ]
     },
     "execution_count": 6,
     "metadata": {},
     "output_type": "execute_result"
    }
   ],
   "source": [
    "crowd2_df =pd.read_csv('../data/crowd/crowd_2nd.csv')\n",
    "crowd2_df = crowd2_df[['disease','DO_ID','DB_ID','Drug_name','Label_ID','Set_ID','Context','Section','relation']]\n",
    "crowd2_df.head()"
   ]
  },
  {
   "cell_type": "code",
   "execution_count": 7,
   "metadata": {},
   "outputs": [
    {
     "data": {
      "text/plain": [
       "(1574, 611)"
      ]
     },
     "execution_count": 7,
     "metadata": {},
     "output_type": "execute_result"
    }
   ],
   "source": [
    "len(crowd1_df),len(crowd2_df)"
   ]
  },
  {
   "cell_type": "code",
   "execution_count": 8,
   "metadata": {},
   "outputs": [
    {
     "data": {
      "text/plain": [
       "2185"
      ]
     },
     "execution_count": 8,
     "metadata": {},
     "output_type": "execute_result"
    }
   ],
   "source": [
    "crowd_df = crowd1_df.append(crowd2_df)\n",
    "len(crowd_df)"
   ]
  },
  {
   "cell_type": "code",
   "execution_count": 9,
   "metadata": {},
   "outputs": [],
   "source": [
    "#crowd_df[crowd_df.duplicated(subset=['Label_ID','DO_ID','Section'], keep=False)].sort_values(by=['Label_ID','DO_ID'])"
   ]
  },
  {
   "cell_type": "code",
   "execution_count": 10,
   "metadata": {},
   "outputs": [
    {
     "data": {
      "text/plain": [
       "2162"
      ]
     },
     "execution_count": 10,
     "metadata": {},
     "output_type": "execute_result"
    }
   ],
   "source": [
    "#crowd_df= crowd_df.drop_duplicates(subset=['Label_ID','DO_ID','Section'], keep='last')\n",
    "crowd_df= crowd_df.drop_duplicates(subset=['Label_ID','DO_ID','Section'], keep='last')\n",
    "len(crowd_df)"
   ]
  },
  {
   "cell_type": "code",
   "execution_count": 11,
   "metadata": {},
   "outputs": [
    {
     "name": "stderr",
     "output_type": "stream",
     "text": [
      "/Users/remzicelebi/opt/anaconda3/envs/snorkel-env/lib/python3.6/site-packages/pandas/core/frame.py:7138: FutureWarning: Sorting because non-concatenation axis is not aligned. A future version\n",
      "of pandas will change to not sort by default.\n",
      "\n",
      "To accept the future behavior, pass 'sort=False'.\n",
      "\n",
      "To retain the current behavior and silence the warning, pass 'sort=True'.\n",
      "\n",
      "  sort=sort,\n"
     ]
    }
   ],
   "source": [
    "unlabeled_df= unlabeled_df.rename(columns={'DrugName':'Drug_name'}).append(crowd_df,'sort=False')"
   ]
  },
  {
   "cell_type": "code",
   "execution_count": 12,
   "metadata": {},
   "outputs": [],
   "source": [
    "unlabeled_df.drop_duplicates(subset=['Set_ID','DO_ID'], keep='last', inplace=True)"
   ]
  },
  {
   "cell_type": "code",
   "execution_count": 13,
   "metadata": {},
   "outputs": [
    {
     "data": {
      "text/html": [
       "<div>\n",
       "<style scoped>\n",
       "    .dataframe tbody tr th:only-of-type {\n",
       "        vertical-align: middle;\n",
       "    }\n",
       "\n",
       "    .dataframe tbody tr th {\n",
       "        vertical-align: top;\n",
       "    }\n",
       "\n",
       "    .dataframe thead th {\n",
       "        text-align: right;\n",
       "    }\n",
       "</style>\n",
       "<table border=\"1\" class=\"dataframe\">\n",
       "  <thead>\n",
       "    <tr style=\"text-align: right;\">\n",
       "      <th></th>\n",
       "      <th>DO_ID</th>\n",
       "      <th>DB_ID</th>\n",
       "      <th>Drug_name</th>\n",
       "      <th>Set_ID</th>\n",
       "      <th>Context</th>\n",
       "      <th>Section</th>\n",
       "      <th>relation</th>\n",
       "    </tr>\n",
       "  </thead>\n",
       "  <tbody>\n",
       "    <tr>\n",
       "      <th>0</th>\n",
       "      <td>DOID_10763</td>\n",
       "      <td>DB00401</td>\n",
       "      <td>Nisoldipine</td>\n",
       "      <td>a6a8a8ba-3966-4f37-a58b-44d3b05bdc4e</td>\n",
       "      <td>Nisoldipine extended-release tablets are indic...</td>\n",
       "      <td>Indications</td>\n",
       "      <td>Indication: Treatment</td>\n",
       "    </tr>\n",
       "    <tr>\n",
       "      <th>1</th>\n",
       "      <td>DOID_10763</td>\n",
       "      <td>DB00612</td>\n",
       "      <td>Bisoprolol</td>\n",
       "      <td>c818c38d-ee37-4ceb-b078-611483b4f743</td>\n",
       "      <td>Bisoprolol fumarate tablets, USP are indicated...</td>\n",
       "      <td>Indications</td>\n",
       "      <td>Indication: Treatment</td>\n",
       "    </tr>\n",
       "    <tr>\n",
       "      <th>2</th>\n",
       "      <td>DOID_10763</td>\n",
       "      <td>DB00960</td>\n",
       "      <td>Pindolol</td>\n",
       "      <td>b5a5a1e9-ee9b-41b1-b2d5-5f5834b816a7</td>\n",
       "      <td>Pindolol tablets are indicated in the manageme...</td>\n",
       "      <td>Indications</td>\n",
       "      <td>Indication: Treatment</td>\n",
       "    </tr>\n",
       "    <tr>\n",
       "      <th>3</th>\n",
       "      <td>DOID_10763</td>\n",
       "      <td>DB00876</td>\n",
       "      <td>Eprosartan</td>\n",
       "      <td>64fbc500-3b77-4c9c-8576-b3ec5f6655a5</td>\n",
       "      <td>Eprosartan mesylate tablets are indicated for ...</td>\n",
       "      <td>Indications</td>\n",
       "      <td>Indication: Treatment</td>\n",
       "    </tr>\n",
       "    <tr>\n",
       "      <th>4</th>\n",
       "      <td>DOID_10763</td>\n",
       "      <td>DB00598</td>\n",
       "      <td>Labetalol</td>\n",
       "      <td>f81baebd-424d-4d39-893c-d9d622377c53</td>\n",
       "      <td>Labetalol hydrochloride tablets, USP are indic...</td>\n",
       "      <td>Indications</td>\n",
       "      <td>Indication: Treatment</td>\n",
       "    </tr>\n",
       "  </tbody>\n",
       "</table>\n",
       "</div>"
      ],
      "text/plain": [
       "        DO_ID    DB_ID    Drug_name                                Set_ID  \\\n",
       "0  DOID_10763  DB00401  Nisoldipine  a6a8a8ba-3966-4f37-a58b-44d3b05bdc4e   \n",
       "1  DOID_10763  DB00612   Bisoprolol  c818c38d-ee37-4ceb-b078-611483b4f743   \n",
       "2  DOID_10763  DB00960     Pindolol  b5a5a1e9-ee9b-41b1-b2d5-5f5834b816a7   \n",
       "3  DOID_10763  DB00876   Eprosartan  64fbc500-3b77-4c9c-8576-b3ec5f6655a5   \n",
       "4  DOID_10763  DB00598    Labetalol  f81baebd-424d-4d39-893c-d9d622377c53   \n",
       "\n",
       "                                             Context      Section  \\\n",
       "0  Nisoldipine extended-release tablets are indic...  Indications   \n",
       "1  Bisoprolol fumarate tablets, USP are indicated...  Indications   \n",
       "2  Pindolol tablets are indicated in the manageme...  Indications   \n",
       "3  Eprosartan mesylate tablets are indicated for ...  Indications   \n",
       "4  Labetalol hydrochloride tablets, USP are indic...  Indications   \n",
       "\n",
       "                relation  \n",
       "0  Indication: Treatment  \n",
       "1  Indication: Treatment  \n",
       "2  Indication: Treatment  \n",
       "3  Indication: Treatment  \n",
       "4  Indication: Treatment  "
      ]
     },
     "execution_count": 13,
     "metadata": {},
     "output_type": "execute_result"
    }
   ],
   "source": [
    "test_df =pd.read_csv('../data/expert/clean_expert_resolved_all.csv')\n",
    "test_df = test_df[['DO_ID','DB_ID','Drug_name','Set_ID','Context','Section','relation']]\n",
    "test_df.head()"
   ]
  },
  {
   "cell_type": "code",
   "execution_count": 14,
   "metadata": {},
   "outputs": [
    {
     "data": {
      "text/plain": [
       "358"
      ]
     },
     "execution_count": 14,
     "metadata": {},
     "output_type": "execute_result"
    }
   ],
   "source": [
    "len(test_df)"
   ]
  },
  {
   "cell_type": "code",
   "execution_count": 15,
   "metadata": {},
   "outputs": [
    {
     "name": "stderr",
     "output_type": "stream",
     "text": [
      "/Users/remzicelebi/opt/anaconda3/envs/snorkel-env/lib/python3.6/site-packages/ipykernel_launcher.py:1: FutureWarning: Sorting because non-concatenation axis is not aligned. A future version\n",
      "of pandas will change to not sort by default.\n",
      "\n",
      "To accept the future behavior, pass 'sort=False'.\n",
      "\n",
      "To retain the current behavior and silence the warning, pass 'sort=True'.\n",
      "\n",
      "  \"\"\"Entry point for launching an IPython kernel.\n"
     ]
    }
   ],
   "source": [
    "diff = pd.concat([unlabeled_df,test_df])\n",
    "diff  = diff.reset_index(drop=True)"
   ]
  },
  {
   "cell_type": "code",
   "execution_count": 16,
   "metadata": {},
   "outputs": [],
   "source": [
    "diff_gpby = diff.groupby(['Set_ID','DO_ID'])"
   ]
  },
  {
   "cell_type": "code",
   "execution_count": 17,
   "metadata": {},
   "outputs": [],
   "source": [
    "idx = [d.index[0] for g,d in diff_gpby if len(d) == 1]"
   ]
  },
  {
   "cell_type": "code",
   "execution_count": 18,
   "metadata": {},
   "outputs": [],
   "source": [
    "idx_val = [d.index[0] for g,d in diff_gpby if len(d) > 1]"
   ]
  },
  {
   "cell_type": "code",
   "execution_count": 19,
   "metadata": {},
   "outputs": [],
   "source": [
    "train_df = diff.iloc[idx]"
   ]
  },
  {
   "cell_type": "code",
   "execution_count": 20,
   "metadata": {},
   "outputs": [
    {
     "data": {
      "text/plain": [
       "54357"
      ]
     },
     "execution_count": 20,
     "metadata": {},
     "output_type": "execute_result"
    }
   ],
   "source": [
    "len(train_df)"
   ]
  },
  {
   "cell_type": "code",
   "execution_count": 21,
   "metadata": {},
   "outputs": [
    {
     "data": {
      "text/plain": [
       "357"
      ]
     },
     "execution_count": 21,
     "metadata": {},
     "output_type": "execute_result"
    }
   ],
   "source": [
    "dev_df = diff.iloc[idx_val]\n",
    "len(dev_df)"
   ]
  },
  {
   "cell_type": "code",
   "execution_count": 22,
   "metadata": {},
   "outputs": [
    {
     "data": {
      "text/plain": [
       "relief              121\n",
       "treatment           118\n",
       "effect               82\n",
       "contraindication     35\n",
       "Name: relation, dtype: int64"
      ]
     },
     "execution_count": 22,
     "metadata": {},
     "output_type": "execute_result"
    }
   ],
   "source": [
    "dev_df.relation.value_counts()"
   ]
  },
  {
   "cell_type": "code",
   "execution_count": 23,
   "metadata": {},
   "outputs": [],
   "source": [
    "Y_dev = dev_df.merge(test_df, on=['Set_ID','DO_ID'])['relation_y']"
   ]
  },
  {
   "cell_type": "code",
   "execution_count": 24,
   "metadata": {},
   "outputs": [
    {
     "data": {
      "text/plain": [
       "Contraindication                  132\n",
       "Indication: Treatment             121\n",
       "Indication: Symptomatic Relief     65\n",
       "Effect                             39\n",
       "Name: relation_y, dtype: int64"
      ]
     },
     "execution_count": 24,
     "metadata": {},
     "output_type": "execute_result"
    }
   ],
   "source": [
    "Y_dev.value_counts()"
   ]
  },
  {
   "cell_type": "code",
   "execution_count": 25,
   "metadata": {},
   "outputs": [],
   "source": [
    "classes_y = {\n",
    "'Effect': 0,\n",
    "'Contraindication': 1,\n",
    "'Indication: Symptomatic Relief': 2,\n",
    "'Indication: Treatment':3 \n",
    "}\n",
    "Y_dev =Y_dev.map(classes_y)"
   ]
  },
  {
   "cell_type": "code",
   "execution_count": 26,
   "metadata": {},
   "outputs": [],
   "source": [
    "from snorkel.labeling import LabelingFunction\n",
    "\n"
   ]
  },
  {
   "cell_type": "code",
   "execution_count": 27,
   "metadata": {},
   "outputs": [],
   "source": [
    "from snorkel.labeling import PandasLFApplier"
   ]
  },
  {
   "cell_type": "code",
   "execution_count": 28,
   "metadata": {},
   "outputs": [],
   "source": [
    "from snorkel.labeling import LFAnalysis"
   ]
  },
  {
   "cell_type": "code",
   "execution_count": 29,
   "metadata": {},
   "outputs": [
    {
     "data": {
      "text/html": [
       "<div>\n",
       "<style scoped>\n",
       "    .dataframe tbody tr th:only-of-type {\n",
       "        vertical-align: middle;\n",
       "    }\n",
       "\n",
       "    .dataframe tbody tr th {\n",
       "        vertical-align: top;\n",
       "    }\n",
       "\n",
       "    .dataframe thead th {\n",
       "        text-align: right;\n",
       "    }\n",
       "</style>\n",
       "<table border=\"1\" class=\"dataframe\">\n",
       "  <thead>\n",
       "    <tr style=\"text-align: right;\">\n",
       "      <th></th>\n",
       "      <th>effect</th>\n",
       "      <th>contraindication</th>\n",
       "      <th>relief</th>\n",
       "      <th>treatment</th>\n",
       "    </tr>\n",
       "  </thead>\n",
       "  <tbody>\n",
       "    <tr>\n",
       "      <th>0</th>\n",
       "      <td>hypersensitivity reactions</td>\n",
       "      <td>not administrated to</td>\n",
       "      <td>relief of the signs</td>\n",
       "      <td>indicated for the treatment of</td>\n",
       "    </tr>\n",
       "    <tr>\n",
       "      <th>1</th>\n",
       "      <td>associated with the risk of</td>\n",
       "      <td>contraindicated in</td>\n",
       "      <td>relief of signs</td>\n",
       "      <td>indicated in the management of</td>\n",
       "    </tr>\n",
       "    <tr>\n",
       "      <th>2</th>\n",
       "      <td>to the risk of</td>\n",
       "      <td>contraindicatedin</td>\n",
       "      <td>relief of symptoms</td>\n",
       "      <td>indicated for the management of</td>\n",
       "    </tr>\n",
       "    <tr>\n",
       "      <th>3</th>\n",
       "      <td>a high risk for</td>\n",
       "      <td>should not be used</td>\n",
       "      <td>relief of the symptoms</td>\n",
       "      <td>for the management of</td>\n",
       "    </tr>\n",
       "    <tr>\n",
       "      <th>4</th>\n",
       "      <td>a high risk of</td>\n",
       "      <td>is contraindication for</td>\n",
       "      <td>help</td>\n",
       "      <td>management of</td>\n",
       "    </tr>\n",
       "    <tr>\n",
       "      <th>5</th>\n",
       "      <td>high incidence of</td>\n",
       "      <td>is contraindication when</td>\n",
       "      <td>helps</td>\n",
       "      <td>indicated for the maintenance of remission</td>\n",
       "    </tr>\n",
       "    <tr>\n",
       "      <th>6</th>\n",
       "      <td>higher incidence of</td>\n",
       "      <td>is contraindicated when</td>\n",
       "      <td>relief of signs and symptoms of</td>\n",
       "      <td>or the treatment of</td>\n",
       "    </tr>\n",
       "    <tr>\n",
       "      <th>7</th>\n",
       "      <td>cause</td>\n",
       "      <td>must not be used for</td>\n",
       "      <td>reduction of symptoms of</td>\n",
       "      <td>in the treatment of</td>\n",
       "    </tr>\n",
       "    <tr>\n",
       "      <th>8</th>\n",
       "      <td>causes</td>\n",
       "      <td>do not administer</td>\n",
       "      <td>treatment of the symptoms of</td>\n",
       "      <td>indicated as</td>\n",
       "    </tr>\n",
       "    <tr>\n",
       "      <th>9</th>\n",
       "      <td>symptoms occure</td>\n",
       "      <td>should not initiate</td>\n",
       "      <td>for the relief</td>\n",
       "      <td>indicated in</td>\n",
       "    </tr>\n",
       "    <tr>\n",
       "      <th>10</th>\n",
       "      <td>teratogenic</td>\n",
       "      <td>not be administered to</td>\n",
       "      <td>management of the signs and symptoms of</td>\n",
       "      <td>be effective</td>\n",
       "    </tr>\n",
       "    <tr>\n",
       "      <th>11</th>\n",
       "      <td>site reaction</td>\n",
       "      <td>do not initiate patients</td>\n",
       "      <td>NaN</td>\n",
       "      <td>active treatment of</td>\n",
       "    </tr>\n",
       "    <tr>\n",
       "      <th>12</th>\n",
       "      <td>the risk of development</td>\n",
       "      <td>contraindication for</td>\n",
       "      <td>NaN</td>\n",
       "      <td>indicated for</td>\n",
       "    </tr>\n",
       "    <tr>\n",
       "      <th>13</th>\n",
       "      <td>is associated with a risk of</td>\n",
       "      <td>should not be given</td>\n",
       "      <td>NaN</td>\n",
       "      <td>treatment of</td>\n",
       "    </tr>\n",
       "    <tr>\n",
       "      <th>14</th>\n",
       "      <td>symptoms of the poisoning</td>\n",
       "      <td>do not use</td>\n",
       "      <td>NaN</td>\n",
       "      <td>indicated as an adjunct</td>\n",
       "    </tr>\n",
       "    <tr>\n",
       "      <th>15</th>\n",
       "      <td>symptoms of poisoning</td>\n",
       "      <td>NaN</td>\n",
       "      <td>NaN</td>\n",
       "      <td>indicated for use in the treatment of</td>\n",
       "    </tr>\n",
       "    <tr>\n",
       "      <th>16</th>\n",
       "      <td>NaN</td>\n",
       "      <td>NaN</td>\n",
       "      <td>NaN</td>\n",
       "      <td>indicated for the intermittent treatment</td>\n",
       "    </tr>\n",
       "    <tr>\n",
       "      <th>17</th>\n",
       "      <td>NaN</td>\n",
       "      <td>NaN</td>\n",
       "      <td>NaN</td>\n",
       "      <td>indicated to reduce the rate of</td>\n",
       "    </tr>\n",
       "    <tr>\n",
       "      <th>18</th>\n",
       "      <td>NaN</td>\n",
       "      <td>NaN</td>\n",
       "      <td>NaN</td>\n",
       "      <td>indicated for the rapid control</td>\n",
       "    </tr>\n",
       "    <tr>\n",
       "      <th>19</th>\n",
       "      <td>NaN</td>\n",
       "      <td>NaN</td>\n",
       "      <td>NaN</td>\n",
       "      <td>indicated for the control</td>\n",
       "    </tr>\n",
       "    <tr>\n",
       "      <th>20</th>\n",
       "      <td>NaN</td>\n",
       "      <td>NaN</td>\n",
       "      <td>NaN</td>\n",
       "      <td>reduce the risk of</td>\n",
       "    </tr>\n",
       "    <tr>\n",
       "      <th>21</th>\n",
       "      <td>NaN</td>\n",
       "      <td>NaN</td>\n",
       "      <td>NaN</td>\n",
       "      <td>indicated as adjunctive treatment</td>\n",
       "    </tr>\n",
       "    <tr>\n",
       "      <th>22</th>\n",
       "      <td>NaN</td>\n",
       "      <td>NaN</td>\n",
       "      <td>NaN</td>\n",
       "      <td>for the treatment of</td>\n",
       "    </tr>\n",
       "    <tr>\n",
       "      <th>23</th>\n",
       "      <td>NaN</td>\n",
       "      <td>NaN</td>\n",
       "      <td>NaN</td>\n",
       "      <td>indicated as an adjunct</td>\n",
       "    </tr>\n",
       "  </tbody>\n",
       "</table>\n",
       "</div>"
      ],
      "text/plain": [
       "                          effect          contraindication  \\\n",
       "0     hypersensitivity reactions      not administrated to   \n",
       "1    associated with the risk of        contraindicated in   \n",
       "2                 to the risk of         contraindicatedin   \n",
       "3                a high risk for        should not be used   \n",
       "4                 a high risk of   is contraindication for   \n",
       "5              high incidence of  is contraindication when   \n",
       "6            higher incidence of   is contraindicated when   \n",
       "7                         cause       must not be used for   \n",
       "8                        causes          do not administer   \n",
       "9                symptoms occure       should not initiate   \n",
       "10                   teratogenic    not be administered to   \n",
       "11                 site reaction  do not initiate patients   \n",
       "12       the risk of development      contraindication for   \n",
       "13  is associated with a risk of       should not be given   \n",
       "14     symptoms of the poisoning                do not use   \n",
       "15         symptoms of poisoning                       NaN   \n",
       "16                           NaN                       NaN   \n",
       "17                           NaN                       NaN   \n",
       "18                           NaN                       NaN   \n",
       "19                           NaN                       NaN   \n",
       "20                           NaN                       NaN   \n",
       "21                           NaN                       NaN   \n",
       "22                           NaN                       NaN   \n",
       "23                           NaN                       NaN   \n",
       "\n",
       "                                     relief  \\\n",
       "0                       relief of the signs   \n",
       "1                           relief of signs   \n",
       "2                        relief of symptoms   \n",
       "3                    relief of the symptoms   \n",
       "4                                      help   \n",
       "5                                     helps   \n",
       "6           relief of signs and symptoms of   \n",
       "7                  reduction of symptoms of   \n",
       "8              treatment of the symptoms of   \n",
       "9                            for the relief   \n",
       "10  management of the signs and symptoms of   \n",
       "11                                      NaN   \n",
       "12                                      NaN   \n",
       "13                                      NaN   \n",
       "14                                      NaN   \n",
       "15                                      NaN   \n",
       "16                                      NaN   \n",
       "17                                      NaN   \n",
       "18                                      NaN   \n",
       "19                                      NaN   \n",
       "20                                      NaN   \n",
       "21                                      NaN   \n",
       "22                                      NaN   \n",
       "23                                      NaN   \n",
       "\n",
       "                                      treatment  \n",
       "0                indicated for the treatment of  \n",
       "1                indicated in the management of  \n",
       "2               indicated for the management of  \n",
       "3                         for the management of  \n",
       "4                                 management of  \n",
       "5    indicated for the maintenance of remission  \n",
       "6                           or the treatment of  \n",
       "7                           in the treatment of  \n",
       "8                                  indicated as  \n",
       "9                                  indicated in  \n",
       "10                                 be effective  \n",
       "11                          active treatment of  \n",
       "12                                indicated for  \n",
       "13                                 treatment of  \n",
       "14                      indicated as an adjunct  \n",
       "15        indicated for use in the treatment of  \n",
       "16     indicated for the intermittent treatment  \n",
       "17              indicated to reduce the rate of  \n",
       "18              indicated for the rapid control  \n",
       "19                    indicated for the control  \n",
       "20                           reduce the risk of  \n",
       "21            indicated as adjunctive treatment  \n",
       "22                         for the treatment of  \n",
       "23                      indicated as an adjunct  "
      ]
     },
     "execution_count": 29,
     "metadata": {},
     "output_type": "execute_result"
    }
   ],
   "source": [
    "my_phrases = { 'effect': \n",
    "[\"hypersensitivity reactions\",\n",
    "\"associated with the risk of\",\n",
    "\"to the risk of\",\n",
    "\"a high risk for\",\n",
    "\"a high risk of\",\n",
    "\"high incidence of\", \n",
    "\"higher incidence of\", \n",
    "\" cause \",\n",
    "\" causes \",\n",
    "\"symptoms occure\",\n",
    "\"teratogenic\",\n",
    "\"site reaction\",\n",
    "\"the risk of development\",\n",
    "\"is associated with a risk of\",\n",
    "\"symptoms of the poisoning\",\n",
    "\"symptoms of poisoning\" \n",
    "],\n",
    "\n",
    " 'contraindication': \n",
    "[\"not administrated to\",\n",
    "\"contraindicated in\",\n",
    "\"contraindicatedin\",\n",
    "\"should not be used\",\n",
    "\"is contraindication for\",\n",
    "\"is contraindication when\",\n",
    "\"is contraindicated when\",\n",
    "\"must not be used for\",\n",
    "\"do not administer\",\n",
    "\"should not initiate\",\n",
    "\"not be administered to\",\n",
    "\"do not initiate patients\",\n",
    "\"contraindication for\",\n",
    "\"should not be given\",\n",
    "\"do not use\"],\n",
    "              \n",
    " 'relief': \n",
    "[\"relief of the signs\",\n",
    "\"relief of signs\",\n",
    "\"relief of symptoms\",\n",
    "\"relief of the symptoms\",\n",
    "\"help\",\n",
    "\"helps\",\n",
    "\"relief of signs and symptoms of\",\n",
    "\"reduction of symptoms of\",\n",
    "\"treatment of the symptoms of\",\n",
    "\"for the relief\",\n",
    "\"management of the signs and symptoms of\"], \n",
    "\n",
    " 'treatment':\n",
    "[\" indicated for the treatment of\",\n",
    "\" indicated in the management of\",\n",
    "\" indicated for the management of\",\n",
    "\"for the management of\",\n",
    "\"management of\",\n",
    "\" indicated for the maintenance of remission\", \n",
    "\"or the treatment of\",\n",
    "\"in the treatment of\",\n",
    "\" indicated as\",\n",
    "\" indicated in\",\n",
    "\"be effective\",\n",
    "\"active treatment of\",\n",
    "\" indicated for\",\n",
    "\"treatment of\",\n",
    "\" indicated as an adjunct\",\n",
    "\" indicated for use in the treatment of\", \n",
    "\" indicated for the intermittent treatment\", \n",
    "\" indicated to reduce the rate of\",\n",
    "\" indicated for the rapid control\",\n",
    "\" indicated for the control\",\n",
    "\"reduce the risk of\",\n",
    "\" indicated as adjunctive treatment\",\n",
    "\"for the treatment of\",\n",
    "\" indicated as an adjunct\"]\n",
    "           }\n",
    "\n",
    "phrases = pd.DataFrame({ key:pd.Series(value) for key, value in my_phrases.items() })\n",
    "\n",
    "phrases"
   ]
  },
  {
   "cell_type": "code",
   "execution_count": 30,
   "metadata": {},
   "outputs": [],
   "source": [
    "effect = { 'phrases': \n",
    "[\"hypersensitivity reactions\",\n",
    "\"associated with the risk of\",\n",
    "\"to the risk of\",\n",
    "\"a high risk for\",\n",
    "\"a high risk of\",\n",
    "\"high incidence of\", \n",
    "\"higher incidence of\", \n",
    "\" cause \",\n",
    "\" causes \",\n",
    "\"symptoms occure\",\n",
    "\"teratogenic\",\n",
    "\"site reaction\",\n",
    "\"the risk of development\",\n",
    "\"is associated with a risk of\",\n",
    "\"symptoms of the poisoning\",\n",
    "\"symptoms of poisoning\" \n",
    "]}\n",
    "effect_df = pd.DataFrame(effect)\n",
    "\n",
    " \n",
    "contraindication = {'phrases': \n",
    "[\"not administrated to\",\n",
    "\"contraindicated in\",\n",
    "\"contraindicatedin\",\n",
    "\"should not be used\",\n",
    "\"is contraindication for\",\n",
    "\"is contraindication when\",\n",
    "\"is contraindicated when\",\n",
    "\"must not be used for\",\n",
    "\"do not administer\",\n",
    "\"should not initiate\",\n",
    "\"not be administered to\",\n",
    "\"do not initiate patients\",\n",
    "\"contraindication for\",\n",
    "\"should not be given\",\n",
    "\"do not use\"]}\n",
    "contraindication_df = pd.DataFrame(contraindication)\n",
    "              \n",
    "relief = {'phrases': \n",
    "[\"relief of the signs\",\n",
    "\"relief of signs\",\n",
    "\"relief of symptoms\",\n",
    "\"relief of the symptoms\",\n",
    "\"help\",\n",
    "\"helps\",\n",
    "\"relief of signs and symptoms of\",\n",
    "\"reduction of symptoms of\",\n",
    "\"treatment of the symptoms of\",\n",
    "\"for the relief\",\n",
    "\"management of the signs and symptoms of\"]} \n",
    "relief_df = pd.DataFrame(relief)\n",
    "\n",
    "treatment = {'phrases':\n",
    "[\" indicated for the treatment of\",\n",
    "\" indicated in the management of\",\n",
    "\" indicated for the management of\",\n",
    "\"for the management of\",\n",
    "\"management of\",\n",
    "\" indicated for the maintenance of remission\", \n",
    "\"or the treatment of\",\n",
    "\"in the treatment of\",\n",
    "\" indicated as\",\n",
    "\" indicated in\",\n",
    "\"be effective\",\n",
    "\"active treatment of\",\n",
    "\" indicated for\",\n",
    "\"treatment of\",\n",
    "\" indicated as an adjunct\",\n",
    "\" indicated for use in the treatment of\", \n",
    "\" indicated for the intermittent treatment\", \n",
    "\" indicated to reduce the rate of\",\n",
    "\" indicated for the rapid control\",\n",
    "\" indicated for the control\",\n",
    "\"reduce the risk of\",\n",
    "\" indicated as adjunctive treatment\",\n",
    "\"for the treatment of\"]}\n",
    "treatment_df = pd.DataFrame(treatment)"
   ]
  },
  {
   "cell_type": "code",
   "execution_count": 31,
   "metadata": {},
   "outputs": [],
   "source": [
    "\n",
    "from snorkel.labeling import labeling_function\n",
    "from snorkel.preprocess import preprocessor\n",
    "\n",
    "\n",
    "def check(x, string):\n",
    "    return x in string\n",
    "\n",
    "\n",
    "def find_phrases(text):\n",
    "    # Find which phrases appear in the sentence\n",
    "    class_effect = effect_df['phrases'].apply(lambda num : check(num,text))\n",
    "    class_contraindication = contraindication_df['phrases'].apply(lambda num : check(num,text))\n",
    "    class_relief = relief_df['phrases'].apply(lambda num : check(num,text))\n",
    "    class_treatment = treatment_df['phrases'].apply(lambda num : check(num,text))\n",
    "    \n",
    "    #Create a dataset from them\n",
    "    classes = {\n",
    "    'effect': class_effect,\n",
    "    'contraindication': class_contraindication,\n",
    "    'relief': class_relief,\n",
    "    'treatment':class_treatment \n",
    "    }\n",
    "\n",
    "    classes = pd.DataFrame(classes)\n",
    "    \n",
    "    a = class_effect.index[class_effect == True].tolist()\n",
    "    b = class_contraindication.index[class_contraindication == True].tolist()\n",
    "    c = class_relief.index[class_relief == True].tolist()\n",
    "    d = class_treatment.index[class_treatment == True].tolist()\n",
    "    return classes, a, b, c, d\n",
    "                                                 \n",
    "\n",
    "# return the position of a phrase/word in a sentence\n",
    "def pos_of_phrase(string, substring):\n",
    "    substring_length = len(substring)    \n",
    "    def recurse(locations_found, start):\n",
    "        location = string.find(substring, start)\n",
    "        if location != -1:\n",
    "            return recurse(locations_found + [location], location+substring_length)\n",
    "        else:\n",
    "            return locations_found\n",
    "\n",
    "    return recurse([], 0)\n",
    "\n",
    "# return the minimum distance of all phrase/word from the target disease\n",
    "def get_diff_of_pos(classes, column, pos, string):\n",
    "    name = classes.columns[column]\n",
    "    my_col = classes[name]\n",
    "    x = [k for k,v in enumerate(my_col) if v == True]\n",
    "    \n",
    "    candidate = []\n",
    "    distances = []\n",
    "    for i in range(len(x)):\n",
    "        word = phrases[classes.columns[column]][x[i]]\n",
    "        \n",
    "        for i in range(len(pos_of_phrase(string, word))):\n",
    "            distances.append( abs(pos -   pos_of_phrase(string, word)[i]) )\n",
    "\n",
    "    return min(distances)\n",
    "\n",
    "\n",
    "@labeling_function()\n",
    "def phrase_occur(x):\n",
    "    \n",
    "    text = x.Context\n",
    "\n",
    "    classes, a, b, c, d =find_phrases(text)\n",
    "\n",
    "\n",
    "    # Check if you have unique class and label based on that \n",
    "    if len(a)!=0 and len(b)==len(c)==len(d)==0:\n",
    "        #print('effect')\n",
    "        return RELATION_CLASSES['effect']\n",
    "    elif len(b)!=0 and len(a)==len(c)==len(d)==0:\n",
    "        #print('contraindication')\n",
    "        return RELATION_CLASSES['contraindication']\n",
    "    elif len(c)!=0 and len(a)==len(b)==len(d)==0:\n",
    "        #print('relief')\n",
    "        return  RELATION_CLASSES['relief']\n",
    "    elif len(d)!=0 and len(a)==len(b)==len(c)==0:\n",
    "        #print('treatment')\n",
    "        return  RELATION_CLASSES['treatment']\n",
    "    elif len(a)==len(b)==len(c)==len(d)==0:\n",
    "        #print('IDK')\n",
    "        return ABSTAIN\n",
    "    return ABSTAIN\n",
    "\n",
    "@labeling_function()\n",
    "def phrase_closeness(x):\n",
    "    text = x.Context\n",
    "    pos1 = text.find(x.disease)\n",
    "    dis_len = len(x.disease)\n",
    "    classes, a, b, c, d = find_phrases(text)\n",
    "    \n",
    "    minDist = len(text.split())\n",
    "    category = ABSTAIN\n",
    "    for class_,found_phrases in {'effect':a, 'contraindication':b, 'relief':c, 'treatment':d}.items():\n",
    "        for phrase_index in found_phrases:\n",
    "            phrase =phrases.loc[phrase_index,class_]\n",
    "            pos2 = text.find(phrase)\n",
    "            phr_len = len(phrase)\n",
    "            if pos1 > pos2:\n",
    "                span = text[pos2+phr_len:pos1]\n",
    "            else:\n",
    "                span = text[pos1+dis_len:pos2]\n",
    "            words = span.split()\n",
    "            distance = len(words)\n",
    "            if minDist > distance:\n",
    "                minDist = distance\n",
    "                category = class_\n",
    "    \n",
    "    if category == ABSTAIN:\n",
    "        return ABSTAIN\n",
    "    return RELATION_CLASSES[category]\n",
    "\n",
    "@labeling_function()\n",
    "def crowd(x):\n",
    "    #print (x.relation_type)\n",
    "    if x.relation in RELATION_CLASSES:\n",
    "        return RELATION_CLASSES[x.relation]\n",
    "    return ABSTAIN"
   ]
  },
  {
   "cell_type": "code",
   "execution_count": 32,
   "metadata": {},
   "outputs": [
    {
     "data": {
      "text/plain": [
       "array(['treatment', 'effect', 'relief', 'contraindication', nan],\n",
       "      dtype=object)"
      ]
     },
     "execution_count": 32,
     "metadata": {},
     "output_type": "execute_result"
    }
   ],
   "source": [
    "dev_df.relation.unique()"
   ]
  },
  {
   "cell_type": "code",
   "execution_count": 69,
   "metadata": {},
   "outputs": [
    {
     "data": {
      "text/plain": [
       "{'effect': 0, 'contraindication': 1, 'relief': 2, 'treatment': 3}"
      ]
     },
     "execution_count": 69,
     "metadata": {},
     "output_type": "execute_result"
    }
   ],
   "source": [
    "ABSTAIN = -1\n",
    "\n",
    "RELATION_CLASSES = {\n",
    "'effect': 0,\n",
    "'contraindication': 1,\n",
    "'relief': 2,\n",
    "'treatment':3 \n",
    "} \n",
    "RELATION_CLASSES"
   ]
  },
  {
   "cell_type": "code",
   "execution_count": 72,
   "metadata": {},
   "outputs": [],
   "source": [
    "lfs = [crowd, phrase_occur, phrase_closeness]\n",
    "applier = PandasLFApplier(lfs)"
   ]
  },
  {
   "cell_type": "code",
   "execution_count": null,
   "metadata": {},
   "outputs": [],
   "source": [
    "L_train = applier.apply(train_df)"
   ]
  },
  {
   "cell_type": "code",
   "execution_count": 74,
   "metadata": {},
   "outputs": [
    {
     "name": "stderr",
     "output_type": "stream",
     "text": [
      "\n",
      "  0%|          | 0/358 [00:00<?, ?it/s]\u001b[A\n",
      "  4%|▎         | 13/358 [00:00<00:02, 124.79it/s]\u001b[A\n",
      "  7%|▋         | 26/358 [00:00<00:02, 125.52it/s]\u001b[A\n",
      " 11%|█         | 39/358 [00:00<00:02, 124.70it/s]\u001b[A\n",
      " 15%|█▍        | 52/358 [00:00<00:02, 124.60it/s]\u001b[A\n",
      " 18%|█▊        | 64/358 [00:00<00:02, 123.08it/s]\u001b[A\n",
      " 22%|██▏       | 77/358 [00:00<00:02, 124.53it/s]\u001b[A\n",
      " 25%|██▌       | 90/358 [00:00<00:02, 124.39it/s]\u001b[A\n",
      " 29%|██▉       | 103/358 [00:00<00:02, 124.57it/s]\u001b[A\n",
      " 32%|███▏      | 116/358 [00:00<00:01, 124.33it/s]\u001b[A\n",
      " 36%|███▌      | 128/358 [00:01<00:01, 122.79it/s]\u001b[A\n",
      " 40%|███▉      | 142/358 [00:01<00:01, 125.46it/s]\u001b[A\n",
      " 43%|████▎     | 155/358 [00:01<00:01, 123.61it/s]\u001b[A\n",
      " 47%|████▋     | 168/358 [00:01<00:01, 123.48it/s]\u001b[A\n",
      " 51%|█████     | 181/358 [00:01<00:01, 124.15it/s]\u001b[A\n",
      " 54%|█████▍    | 195/358 [00:01<00:01, 126.62it/s]\u001b[A\n",
      " 58%|█████▊    | 208/358 [00:01<00:01, 126.95it/s]\u001b[A\n",
      " 62%|██████▏   | 221/358 [00:01<00:01, 127.39it/s]\u001b[A\n",
      " 65%|██████▌   | 234/358 [00:01<00:00, 127.33it/s]\u001b[A\n",
      " 69%|██████▉   | 247/358 [00:01<00:00, 127.47it/s]\u001b[A\n",
      " 73%|███████▎  | 260/358 [00:02<00:00, 127.52it/s]\u001b[A\n",
      " 76%|███████▋  | 273/358 [00:02<00:00, 127.23it/s]\u001b[A\n",
      " 80%|███████▉  | 286/358 [00:02<00:00, 127.37it/s]\u001b[A\n",
      " 84%|████████▎ | 299/358 [00:02<00:00, 127.43it/s]\u001b[A\n",
      " 87%|████████▋ | 312/358 [00:02<00:00, 127.21it/s]\u001b[A\n",
      " 91%|█████████ | 325/358 [00:02<00:00, 126.92it/s]\u001b[A\n",
      " 94%|█████████▍| 338/358 [00:02<00:00, 127.80it/s]\u001b[A\n",
      "100%|██████████| 358/358 [00:02<00:00, 125.53it/s]\u001b[A\n"
     ]
    }
   ],
   "source": [
    "L_dev = applier.apply(dev_df)"
   ]
  },
  {
   "cell_type": "code",
   "execution_count": 75,
   "metadata": {},
   "outputs": [
    {
     "data": {
      "text/plain": [
       "array([3, 0, 2, 1])"
      ]
     },
     "execution_count": 75,
     "metadata": {},
     "output_type": "execute_result"
    }
   ],
   "source": [
    "Y_dev.unique()"
   ]
  },
  {
   "cell_type": "code",
   "execution_count": 76,
   "metadata": {},
   "outputs": [],
   "source": [
    "\n",
    "from snorkel.labeling import LabelModel\n",
    "# Train LabelModel.\n",
    "label_model = LabelModel(cardinality=4, verbose=True)\n",
    "label_model.fit(L_train, n_epochs=100, seed=123, log_freq=20, l2=0.1, lr=0.01)"
   ]
  },
  {
   "cell_type": "code",
   "execution_count": 83,
   "metadata": {},
   "outputs": [],
   "source": [
    "label_model.fit(L_train, Y_dev, n_epochs=5000, log_freq=500, seed=12345)"
   ]
  },
  {
   "cell_type": "code",
   "execution_count": 86,
   "metadata": {},
   "outputs": [
    {
     "name": "stdout",
     "output_type": "stream",
     "text": [
      "Label model f1 score: 0.643495192430824\n",
      "Label model roc-auc: 0.7067039106145251\n"
     ]
    }
   ],
   "source": [
    "from snorkel.analysis import metric_score\n",
    "from snorkel.utils import probs_to_preds\n",
    "\n",
    "probs_dev = label_model.predict_proba(L_dev)\n",
    "preds_dev = probs_to_preds(probs_dev)\n",
    "print(\n",
    "    f\"Label model f1 score: {metric_score(Y_dev, preds_dev, probs=probs_dev, metric='f1_macro')}\"\n",
    ")\n",
    "print(\n",
    "    f\"Label model roc-auc: {metric_score(Y_dev, preds_dev, probs=probs_dev, metric='accuracy')}\"\n",
    ")"
   ]
  },
  {
   "cell_type": "code",
   "execution_count": 103,
   "metadata": {},
   "outputs": [],
   "source": [
    "from snorkel.labeling import filter_unlabeled_dataframe\n",
    "\n",
    "probs_train = label_model.predict_proba(L_train)\n",
    "pred_train =label_model.predict(L_train)\n",
    "df_train_filtered, probs_train_filtered = filter_unlabeled_dataframe(\n",
    "    X=train_df, y=pred_train, L=L_train\n",
    ")"
   ]
  },
  {
   "cell_type": "code",
   "execution_count": 105,
   "metadata": {},
   "outputs": [
    {
     "name": "stderr",
     "output_type": "stream",
     "text": [
      "/opt/conda/lib/python3.7/site-packages/ipykernel_launcher.py:1: SettingWithCopyWarning: \n",
      "A value is trying to be set on a copy of a slice from a DataFrame.\n",
      "Try using .loc[row_indexer,col_indexer] = value instead\n",
      "\n",
      "See the caveats in the documentation: http://pandas.pydata.org/pandas-docs/stable/user_guide/indexing.html#returning-a-view-versus-a-copy\n",
      "  \"\"\"Entry point for launching an IPython kernel.\n"
     ]
    }
   ],
   "source": [
    "df_train_filtered['noisy_labels'] =probs_train_filtered "
   ]
  },
  {
   "cell_type": "code",
   "execution_count": 108,
   "metadata": {},
   "outputs": [
    {
     "name": "stderr",
     "output_type": "stream",
     "text": [
      "/home/jovyan/.local/lib/python3.7/site-packages/pandas/core/generic.py:5208: SettingWithCopyWarning: \n",
      "A value is trying to be set on a copy of a slice from a DataFrame.\n",
      "Try using .loc[row_indexer,col_indexer] = value instead\n",
      "\n",
      "See the caveats in the documentation: http://pandas.pydata.org/pandas-docs/stable/user_guide/indexing.html#returning-a-view-versus-a-copy\n",
      "  self[name] = value\n"
     ]
    }
   ],
   "source": [
    "df_train_filtered.relation = df_train_filtered.relation.replace(RELATION_CLASSES)"
   ]
  },
  {
   "cell_type": "code",
   "execution_count": 111,
   "metadata": {},
   "outputs": [
    {
     "name": "stderr",
     "output_type": "stream",
     "text": [
      "/home/jovyan/.local/lib/python3.7/site-packages/pandas/core/frame.py:4238: SettingWithCopyWarning: \n",
      "A value is trying to be set on a copy of a slice from a DataFrame\n",
      "\n",
      "See the caveats in the documentation: http://pandas.pydata.org/pandas-docs/stable/user_guide/indexing.html#returning-a-view-versus-a-copy\n",
      "  return super().rename(**kwargs)\n"
     ]
    }
   ],
   "source": [
    "df_train_filtered.rename(columns={'relation':'crowd_label'}, inplace=True)"
   ]
  },
  {
   "cell_type": "code",
   "execution_count": 112,
   "metadata": {},
   "outputs": [],
   "source": [
    "df_train_filtered.to_csv('train_data.csv',index=False)"
   ]
  },
  {
   "cell_type": "code",
   "execution_count": null,
   "metadata": {},
   "outputs": [],
   "source": [
    "df_train_filtered"
   ]
  },
  {
   "cell_type": "code",
   "execution_count": 114,
   "metadata": {},
   "outputs": [],
   "source": [
    "test_df['label']= Y_dev"
   ]
  },
  {
   "cell_type": "code",
   "execution_count": 116,
   "metadata": {},
   "outputs": [],
   "source": [
    "test_df.rename(columns={'relation':'crowd_label'}, inplace=True)"
   ]
  },
  {
   "cell_type": "code",
   "execution_count": 117,
   "metadata": {},
   "outputs": [
    {
     "data": {
      "text/html": [
       "<div>\n",
       "<style scoped>\n",
       "    .dataframe tbody tr th:only-of-type {\n",
       "        vertical-align: middle;\n",
       "    }\n",
       "\n",
       "    .dataframe tbody tr th {\n",
       "        vertical-align: top;\n",
       "    }\n",
       "\n",
       "    .dataframe thead th {\n",
       "        text-align: right;\n",
       "    }\n",
       "</style>\n",
       "<table border=\"1\" class=\"dataframe\">\n",
       "  <thead>\n",
       "    <tr style=\"text-align: right;\">\n",
       "      <th></th>\n",
       "      <th>DO_ID</th>\n",
       "      <th>DB_ID</th>\n",
       "      <th>Drug_name</th>\n",
       "      <th>Set_ID</th>\n",
       "      <th>Context</th>\n",
       "      <th>Section</th>\n",
       "      <th>crowd_label</th>\n",
       "      <th>label</th>\n",
       "    </tr>\n",
       "  </thead>\n",
       "  <tbody>\n",
       "    <tr>\n",
       "      <th>0</th>\n",
       "      <td>DOID_10763</td>\n",
       "      <td>DB00401</td>\n",
       "      <td>Nisoldipine</td>\n",
       "      <td>a6a8a8ba-3966-4f37-a58b-44d3b05bdc4e</td>\n",
       "      <td>Nisoldipine extended-release tablets are indic...</td>\n",
       "      <td>Indications</td>\n",
       "      <td>Indication: Treatment</td>\n",
       "      <td>3</td>\n",
       "    </tr>\n",
       "    <tr>\n",
       "      <th>1</th>\n",
       "      <td>DOID_10763</td>\n",
       "      <td>DB00612</td>\n",
       "      <td>Bisoprolol</td>\n",
       "      <td>c818c38d-ee37-4ceb-b078-611483b4f743</td>\n",
       "      <td>Bisoprolol fumarate tablets, USP are indicated...</td>\n",
       "      <td>Indications</td>\n",
       "      <td>Indication: Treatment</td>\n",
       "      <td>0</td>\n",
       "    </tr>\n",
       "    <tr>\n",
       "      <th>2</th>\n",
       "      <td>DOID_10763</td>\n",
       "      <td>DB00960</td>\n",
       "      <td>Pindolol</td>\n",
       "      <td>b5a5a1e9-ee9b-41b1-b2d5-5f5834b816a7</td>\n",
       "      <td>Pindolol tablets are indicated in the manageme...</td>\n",
       "      <td>Indications</td>\n",
       "      <td>Indication: Treatment</td>\n",
       "      <td>3</td>\n",
       "    </tr>\n",
       "    <tr>\n",
       "      <th>3</th>\n",
       "      <td>DOID_10763</td>\n",
       "      <td>DB00876</td>\n",
       "      <td>Eprosartan</td>\n",
       "      <td>64fbc500-3b77-4c9c-8576-b3ec5f6655a5</td>\n",
       "      <td>Eprosartan mesylate tablets are indicated for ...</td>\n",
       "      <td>Indications</td>\n",
       "      <td>Indication: Treatment</td>\n",
       "      <td>0</td>\n",
       "    </tr>\n",
       "    <tr>\n",
       "      <th>4</th>\n",
       "      <td>DOID_10763</td>\n",
       "      <td>DB00598</td>\n",
       "      <td>Labetalol</td>\n",
       "      <td>f81baebd-424d-4d39-893c-d9d622377c53</td>\n",
       "      <td>Labetalol hydrochloride tablets, USP are indic...</td>\n",
       "      <td>Indications</td>\n",
       "      <td>Indication: Treatment</td>\n",
       "      <td>2</td>\n",
       "    </tr>\n",
       "  </tbody>\n",
       "</table>\n",
       "</div>"
      ],
      "text/plain": [
       "        DO_ID    DB_ID    Drug_name                                Set_ID  \\\n",
       "0  DOID_10763  DB00401  Nisoldipine  a6a8a8ba-3966-4f37-a58b-44d3b05bdc4e   \n",
       "1  DOID_10763  DB00612   Bisoprolol  c818c38d-ee37-4ceb-b078-611483b4f743   \n",
       "2  DOID_10763  DB00960     Pindolol  b5a5a1e9-ee9b-41b1-b2d5-5f5834b816a7   \n",
       "3  DOID_10763  DB00876   Eprosartan  64fbc500-3b77-4c9c-8576-b3ec5f6655a5   \n",
       "4  DOID_10763  DB00598    Labetalol  f81baebd-424d-4d39-893c-d9d622377c53   \n",
       "\n",
       "                                             Context      Section  \\\n",
       "0  Nisoldipine extended-release tablets are indic...  Indications   \n",
       "1  Bisoprolol fumarate tablets, USP are indicated...  Indications   \n",
       "2  Pindolol tablets are indicated in the manageme...  Indications   \n",
       "3  Eprosartan mesylate tablets are indicated for ...  Indications   \n",
       "4  Labetalol hydrochloride tablets, USP are indic...  Indications   \n",
       "\n",
       "             crowd_label  label  \n",
       "0  Indication: Treatment      3  \n",
       "1  Indication: Treatment      0  \n",
       "2  Indication: Treatment      3  \n",
       "3  Indication: Treatment      0  \n",
       "4  Indication: Treatment      2  "
      ]
     },
     "execution_count": 117,
     "metadata": {},
     "output_type": "execute_result"
    }
   ],
   "source": [
    "test_df.head()"
   ]
  },
  {
   "cell_type": "code",
   "execution_count": 118,
   "metadata": {},
   "outputs": [],
   "source": [
    "test_df.to_csv('test_data.csv',index=False)"
   ]
  },
  {
   "cell_type": "code",
   "execution_count": 91,
   "metadata": {},
   "outputs": [
    {
     "name": "stdout",
     "output_type": "stream",
     "text": [
      "\u001b[33mWARNING: The directory '/home/jovyan/.cache/pip/http' or its parent directory is not owned by the current user and the cache has been disabled. Please check the permissions and owner of that directory. If executing pip with sudo, you may want sudo's -H flag.\u001b[0m\n",
      "\u001b[33mWARNING: The directory '/home/jovyan/.cache/pip' or its parent directory is not owned by the current user and caching wheels has been disabled. check the permissions and owner of that directory. If executing pip with sudo, you may want sudo's -H flag.\u001b[0m\n",
      "Collecting tensorflow==1.14.0\n",
      "\u001b[?25l  Downloading https://files.pythonhosted.org/packages/f4/28/96efba1a516cdacc2e2d6d081f699c001d414cc8ca3250e6d59ae657eb2b/tensorflow-1.14.0-cp37-cp37m-manylinux1_x86_64.whl (109.3MB)\n",
      "\u001b[K     |████████████████████████████████| 109.3MB 18.3MB/s eta 0:00:01   |███                             | 10.4MB 3.4MB/s eta 0:00:30     |███▏                            | 10.7MB 3.4MB/s eta 0:00:29     |███▏                            | 11.0MB 3.4MB/s eta 0:00:29     |███▉                            | 13.0MB 7.0MB/s eta 0:00:14     |████▏                           | 14.1MB 7.0MB/s eta 0:00:14     |████▏                           | 14.3MB 7.0MB/s eta 0:00:14     |████▌                           | 15.5MB 7.0MB/s eta 0:00:14     |████▋                           | 15.7MB 7.0MB/s eta 0:00:14     |████▋                           | 15.8MB 7.0MB/s eta 0:00:14     |█████                           | 17.4MB 6.3MB/s eta 0:00:15     |█████▌                          | 18.7MB 6.3MB/s eta 0:00:15     |██████▊                         | 23.1MB 3.4MB/s eta 0:00:26     |█████████▍                      | 32.2MB 3.9MB/s eta 0:00:20     |██████████▍                     | 35.3MB 5.0MB/s eta 0:00:15     |██████████▋                     | 36.1MB 5.0MB/s eta 0:00:15     |██████████▋                     | 36.4MB 5.0MB/s eta 0:00:15     |███████████▏                    | 38.0MB 2.6MB/s eta 0:00:27     |███████████▏                    | 38.2MB 2.6MB/s eta 0:00:27     |███████████▍                    | 38.7MB 2.6MB/s eta 0:00:27     |███████████▋                    | 39.8MB 2.6MB/s eta 0:00:27     |███████████▊                    | 40.1MB 2.6MB/s eta 0:00:27     |███████████▉                    | 40.4MB 2.6MB/s eta 0:00:27     |████████████▎                   | 41.9MB 2.6MB/s eta 0:00:26     |█████████████▋                  | 46.3MB 2.4MB/s eta 0:00:27     |██████████████▎                 | 48.7MB 9.3MB/s eta 0:00:07     |██████████████▋                 | 49.8MB 9.3MB/s eta 0:00:07     |██████████████▉                 | 50.5MB 9.3MB/s eta 0:00:07     |███████████████                 | 50.9MB 9.3MB/s eta 0:00:07     |███████████████▏                | 51.9MB 9.3MB/s eta 0:00:07     |███████████████▍                | 52.5MB 9.3MB/s eta 0:00:07     |███████████████▍                | 52.7MB 9.3MB/s eta 0:00:07     |███████████████▋                | 53.3MB 9.3MB/s eta 0:00:07     |████████████████                | 54.9MB 6.0MB/s eta 0:00:10     |████████████████▏               | 55.1MB 6.0MB/s eta 0:00:10     |███████████████████▉            | 67.6MB 5.1MB/s eta 0:00:09     |████████████████████            | 68.6MB 5.1MB/s eta 0:00:09     |████████████████████▍           | 69.4MB 5.1MB/s eta 0:00:08     |████████████████████▍           | 69.6MB 7.4MB/s eta 0:00:06     |█████████████████████▉          | 74.4MB 7.4MB/s eta 0:00:05     |███████████████████████▎        | 79.4MB 5.7MB/s eta 0:00:06     |███████████████████████▎        | 79.6MB 5.7MB/s eta 0:00:06     |███████████████████████▍        | 80.0MB 5.7MB/s eta 0:00:06     |████████████████████████▏       | 82.6MB 7.0MB/s eta 0:00:04     |████████████████████████████▊   | 97.9MB 6.7MB/s eta 0:00:02     |█████████████████████████████▏  | 99.7MB 3.6MB/s eta 0:00:03     |█████████████████████████████▌  | 100.7MB 3.6MB/s eta 0:00:03     |█████████████████████████████▋  | 100.9MB 3.6MB/s eta 0:00:03     |██████████████████████████████▏ | 102.9MB 3.6MB/s eta 0:00:02     |██████████████████████████████▋ | 104.4MB 3.6MB/s eta 0:00:02\n",
      "\u001b[?25hCollecting astor>=0.6.0\n",
      "  Downloading https://files.pythonhosted.org/packages/c3/88/97eef84f48fa04fbd6750e62dcceafba6c63c81b7ac1420856c8dcc0a3f9/astor-0.8.1-py2.py3-none-any.whl\n",
      "Requirement already satisfied: numpy<2.0,>=1.14.5 in /opt/conda/lib/python3.7/site-packages (from tensorflow==1.14.0) (1.16.2)\n",
      "Collecting termcolor>=1.1.0\n",
      "  Downloading https://files.pythonhosted.org/packages/8a/48/a76be51647d0eb9f10e2a4511bf3ffb8cc1e6b14e9e4fab46173aa79f981/termcolor-1.1.0.tar.gz\n",
      "Collecting keras-applications>=1.0.6\n",
      "\u001b[?25l  Downloading https://files.pythonhosted.org/packages/71/e3/19762fdfc62877ae9102edf6342d71b28fbfd9dea3d2f96a882ce099b03f/Keras_Applications-1.0.8-py3-none-any.whl (50kB)\n",
      "\u001b[K     |████████████████████████████████| 51kB 20.7MB/s eta 0:00:01\n",
      "\u001b[?25hCollecting wrapt>=1.11.1\n",
      "  Downloading https://files.pythonhosted.org/packages/23/84/323c2415280bc4fc880ac5050dddfb3c8062c2552b34c2e512eb4aa68f79/wrapt-1.11.2.tar.gz\n",
      "Collecting tensorboard<1.15.0,>=1.14.0\n",
      "\u001b[?25l  Downloading https://files.pythonhosted.org/packages/91/2d/2ed263449a078cd9c8a9ba50ebd50123adf1f8cfbea1492f9084169b89d9/tensorboard-1.14.0-py3-none-any.whl (3.1MB)\n",
      "\u001b[K     |████████████████████████████████| 3.2MB 15.6MB/s eta 0:00:01     |███████████████████             | 1.9MB 15.6MB/s eta 0:00:01\n",
      "\u001b[?25hRequirement already satisfied: wheel>=0.26 in /opt/conda/lib/python3.7/site-packages (from tensorflow==1.14.0) (0.33.6)\n",
      "Requirement already satisfied: six>=1.10.0 in /opt/conda/lib/python3.7/site-packages (from tensorflow==1.14.0) (1.13.0)\n",
      "Collecting tensorflow-estimator<1.15.0rc0,>=1.14.0rc0\n",
      "\u001b[?25l  Downloading https://files.pythonhosted.org/packages/3c/d5/21860a5b11caf0678fbc8319341b0ae21a07156911132e0e71bffed0510d/tensorflow_estimator-1.14.0-py2.py3-none-any.whl (488kB)\n",
      "\u001b[K     |████████████████████████████████| 491kB 6.0MB/s eta 0:00:01\n",
      "\u001b[?25hCollecting grpcio>=1.8.6\n",
      "\u001b[?25l  Downloading https://files.pythonhosted.org/packages/bc/b3/0052e38c640d52b710e235b15821cc3c61d0065bf54e70a44550ef127349/grpcio-1.26.0-cp37-cp37m-manylinux2010_x86_64.whl (2.4MB)\n",
      "\u001b[K     |████████████████████████████████| 2.4MB 5.0MB/s eta 0:00:01\n",
      "\u001b[?25hCollecting keras-preprocessing>=1.0.5\n",
      "\u001b[?25l  Downloading https://files.pythonhosted.org/packages/28/6a/8c1f62c37212d9fc441a7e26736df51ce6f0e38455816445471f10da4f0a/Keras_Preprocessing-1.1.0-py2.py3-none-any.whl (41kB)\n",
      "\u001b[K     |████████████████████████████████| 51kB 11.4MB/s ta 0:00:011\n",
      "\u001b[?25hCollecting gast>=0.2.0\n",
      "  Downloading https://files.pythonhosted.org/packages/1f/04/4e36c33f8eb5c5b6c622a1f4859352a6acca7ab387257d4b3c191d23ec1d/gast-0.3.2.tar.gz\n",
      "Collecting absl-py>=0.7.0\n",
      "\u001b[?25l  Downloading https://files.pythonhosted.org/packages/1a/53/9243c600e047bd4c3df9e69cfabc1e8004a82cac2e0c484580a78a94ba2a/absl-py-0.9.0.tar.gz (104kB)\n",
      "\u001b[K     |████████████████████████████████| 112kB 4.2MB/s eta 0:00:01\n",
      "\u001b[?25hCollecting google-pasta>=0.1.6\n",
      "\u001b[?25l  Downloading https://files.pythonhosted.org/packages/c3/fd/1e86bc4837cc9a3a5faf3db9b1854aa04ad35b5f381f9648fbe81a6f94e4/google_pasta-0.1.8-py3-none-any.whl (57kB)\n",
      "\u001b[K     |████████████████████████████████| 61kB 8.7MB/s eta 0:00:011\n",
      "\u001b[?25hRequirement already satisfied: protobuf>=3.6.1 in /opt/conda/lib/python3.7/site-packages (from tensorflow==1.14.0) (3.9.2)\n",
      "Requirement already satisfied: h5py in /opt/conda/lib/python3.7/site-packages (from keras-applications>=1.0.6->tensorflow==1.14.0) (2.9.0)\n",
      "Collecting markdown>=2.6.8\n",
      "\u001b[?25l  Downloading https://files.pythonhosted.org/packages/c0/4e/fd492e91abdc2d2fcb70ef453064d980688762079397f779758e055f6575/Markdown-3.1.1-py2.py3-none-any.whl (87kB)\n",
      "\u001b[K     |████████████████████████████████| 92kB 7.1MB/s eta 0:00:011\n",
      "\u001b[?25hCollecting werkzeug>=0.11.15\n",
      "\u001b[?25l  Downloading https://files.pythonhosted.org/packages/ce/42/3aeda98f96e85fd26180534d36570e4d18108d62ae36f87694b476b83d6f/Werkzeug-0.16.0-py2.py3-none-any.whl (327kB)\n",
      "\u001b[K     |████████████████████████████████| 327kB 5.7MB/s eta 0:00:01\n",
      "\u001b[?25hRequirement already satisfied: setuptools>=41.0.0 in /opt/conda/lib/python3.7/site-packages (from tensorboard<1.15.0,>=1.14.0->tensorflow==1.14.0) (42.0.2.post20191201)\n",
      "Building wheels for collected packages: termcolor, wrapt, gast, absl-py\n",
      "\u001b[33m  WARNING: Building wheel for termcolor failed: [Errno 13] Permission denied: '/home/jovyan/.cache/pip/wheels/7c'\u001b[0m\n",
      "\u001b[33m  WARNING: Building wheel for wrapt failed: [Errno 13] Permission denied: '/home/jovyan/.cache/pip/wheels/d7'\u001b[0m\n",
      "\u001b[33m  WARNING: Building wheel for gast failed: [Errno 13] Permission denied: '/home/jovyan/.cache/pip/wheels/59'\u001b[0m\n",
      "\u001b[33m  WARNING: Building wheel for absl-py failed: [Errno 13] Permission denied: '/home/jovyan/.cache/pip/wheels/8e'\u001b[0m\n",
      "Failed to build termcolor wrapt gast absl-py\n",
      "Installing collected packages: astor, termcolor, keras-applications, wrapt, markdown, absl-py, grpcio, werkzeug, tensorboard, tensorflow-estimator, keras-preprocessing, gast, google-pasta, tensorflow\n",
      "    Running setup.py install for termcolor ... \u001b[?25ldone\n",
      "\u001b[?25h    Running setup.py install for wrapt ... \u001b[?25ldone\n",
      "\u001b[33m  WARNING: The script markdown_py is installed in '/home/jovyan/.local/bin' which is not on PATH.\n",
      "  Consider adding this directory to PATH or, if you prefer to suppress this warning, use --no-warn-script-location.\u001b[0m\n",
      "\u001b[?25h    Running setup.py install for absl-py ... \u001b[?25ldone\n",
      "\u001b[33m  WARNING: The script tensorboard is installed in '/home/jovyan/.local/bin' which is not on PATH.\n",
      "  Consider adding this directory to PATH or, if you prefer to suppress this warning, use --no-warn-script-location.\u001b[0m\n",
      "\u001b[?25h    Running setup.py install for gast ... \u001b[?25ldone\n",
      "\u001b[33m  WARNING: The scripts freeze_graph, saved_model_cli, tensorboard, tf_upgrade_v2, tflite_convert, toco and toco_from_protos are installed in '/home/jovyan/.local/bin' which is not on PATH.\n",
      "  Consider adding this directory to PATH or, if you prefer to suppress this warning, use --no-warn-script-location.\u001b[0m\n",
      "\u001b[?25hSuccessfully installed absl-py-0.9.0 astor-0.8.1 gast-0.3.2 google-pasta-0.1.8 grpcio-1.26.0 keras-applications-1.0.8 keras-preprocessing-1.1.0 markdown-3.1.1 tensorboard-1.14.0 tensorflow-1.14.0 tensorflow-estimator-1.14.0 termcolor-1.1.0 werkzeug-0.16.0 wrapt-1.11.2\n"
     ]
    }
   ],
   "source": [
    "!pip install tensorflow==1.14.0 --user"
   ]
  },
  {
   "cell_type": "code",
   "execution_count": 93,
   "metadata": {},
   "outputs": [
    {
     "ename": "ModuleNotFoundError",
     "evalue": "No module named 'tf_model'",
     "output_type": "error",
     "traceback": [
      "\u001b[0;31m---------------------------------------------------------------------------\u001b[0m",
      "\u001b[0;31mModuleNotFoundError\u001b[0m                       Traceback (most recent call last)",
      "\u001b[0;32m<ipython-input-93-15ef1c17b2fc>\u001b[0m in \u001b[0;36m<module>\u001b[0;34m\u001b[0m\n\u001b[0;32m----> 1\u001b[0;31m \u001b[0;32mfrom\u001b[0m \u001b[0mtf_model\u001b[0m \u001b[0;32mimport\u001b[0m \u001b[0mget_model\u001b[0m\u001b[0;34m,\u001b[0m \u001b[0mget_feature_arrays\u001b[0m\u001b[0;34m\u001b[0m\u001b[0;34m\u001b[0m\u001b[0m\n\u001b[0m\u001b[1;32m      2\u001b[0m \u001b[0;32mfrom\u001b[0m \u001b[0mutils\u001b[0m \u001b[0;32mimport\u001b[0m \u001b[0mget_n_epochs\u001b[0m\u001b[0;34m\u001b[0m\u001b[0;34m\u001b[0m\u001b[0m\n\u001b[1;32m      3\u001b[0m \u001b[0;34m\u001b[0m\u001b[0m\n\u001b[1;32m      4\u001b[0m \u001b[0mX_train\u001b[0m \u001b[0;34m=\u001b[0m \u001b[0mget_feature_arrays\u001b[0m\u001b[0;34m(\u001b[0m\u001b[0mdf_train_filtered\u001b[0m\u001b[0;34m)\u001b[0m\u001b[0;34m\u001b[0m\u001b[0;34m\u001b[0m\u001b[0m\n\u001b[1;32m      5\u001b[0m \u001b[0mmodel\u001b[0m \u001b[0;34m=\u001b[0m \u001b[0mget_model\u001b[0m\u001b[0;34m(\u001b[0m\u001b[0;34m)\u001b[0m\u001b[0;34m\u001b[0m\u001b[0;34m\u001b[0m\u001b[0m\n",
      "\u001b[0;31mModuleNotFoundError\u001b[0m: No module named 'tf_model'"
     ]
    }
   ],
   "source": [
    "from tf_model import get_model, get_feature_arrays\n",
    "from utils import get_n_epochs\n",
    "\n",
    "X_train = get_feature_arrays(df_train_filtered)\n",
    "model = get_model()\n",
    "batch_size = 64\n",
    "model.fit(X_train, probs_train_filtered, batch_size=batch_size, epochs=get_n_epochs())"
   ]
  },
  {
   "cell_type": "code",
   "execution_count": 77,
   "metadata": {},
   "outputs": [],
   "source": [
    "\n",
    "from snorkel.analysis import metric_score\n",
    "\n",
    "preds_dev = label_model.predict(L_dev)"
   ]
  },
  {
   "cell_type": "code",
   "execution_count": 78,
   "metadata": {},
   "outputs": [],
   "source": [
    "acc = metric_score(Y_dev, preds_dev, probs=None, metric=\"accuracy\")"
   ]
  },
  {
   "cell_type": "code",
   "execution_count": 79,
   "metadata": {},
   "outputs": [
    {
     "name": "stdout",
     "output_type": "stream",
     "text": [
      "LabelModel Accuracy: 0.782\n"
     ]
    }
   ],
   "source": [
    "print(f\"LabelModel Accuracy: {acc:.3f}\")"
   ]
  },
  {
   "cell_type": "code",
   "execution_count": 80,
   "metadata": {},
   "outputs": [
    {
     "name": "stdout",
     "output_type": "stream",
     "text": [
      "LabelModel F1: 0.725\n"
     ]
    }
   ],
   "source": [
    "f1 = metric_score(Y_dev, preds_dev, probs=None, metric='f1_macro')\n",
    "print(f\"LabelModel F1: {f1:.3f}\")"
   ]
  },
  {
   "cell_type": "code",
   "execution_count": 82,
   "metadata": {},
   "outputs": [
    {
     "data": {
      "text/html": [
       "<div>\n",
       "<style scoped>\n",
       "    .dataframe tbody tr th:only-of-type {\n",
       "        vertical-align: middle;\n",
       "    }\n",
       "\n",
       "    .dataframe tbody tr th {\n",
       "        vertical-align: top;\n",
       "    }\n",
       "\n",
       "    .dataframe thead th {\n",
       "        text-align: right;\n",
       "    }\n",
       "</style>\n",
       "<table border=\"1\" class=\"dataframe\">\n",
       "  <thead>\n",
       "    <tr style=\"text-align: right;\">\n",
       "      <th></th>\n",
       "      <th>j</th>\n",
       "      <th>Polarity</th>\n",
       "      <th>Coverage</th>\n",
       "      <th>Overlaps</th>\n",
       "      <th>Conflicts</th>\n",
       "      <th>Correct</th>\n",
       "      <th>Incorrect</th>\n",
       "      <th>Emp. Acc.</th>\n",
       "    </tr>\n",
       "  </thead>\n",
       "  <tbody>\n",
       "    <tr>\n",
       "      <th>crowd</th>\n",
       "      <td>0</td>\n",
       "      <td>[0, 1, 2, 3]</td>\n",
       "      <td>0.994413</td>\n",
       "      <td>0.916201</td>\n",
       "      <td>0.424581</td>\n",
       "      <td>201</td>\n",
       "      <td>155</td>\n",
       "      <td>0.564607</td>\n",
       "    </tr>\n",
       "    <tr>\n",
       "      <th>phrase_occur</th>\n",
       "      <td>1</td>\n",
       "      <td>[0, 1, 2, 3]</td>\n",
       "      <td>0.583799</td>\n",
       "      <td>0.583799</td>\n",
       "      <td>0.282123</td>\n",
       "      <td>166</td>\n",
       "      <td>43</td>\n",
       "      <td>0.794258</td>\n",
       "    </tr>\n",
       "    <tr>\n",
       "      <th>phrase_closeness</th>\n",
       "      <td>2</td>\n",
       "      <td>[0, 1, 2, 3]</td>\n",
       "      <td>0.921788</td>\n",
       "      <td>0.918994</td>\n",
       "      <td>0.424581</td>\n",
       "      <td>244</td>\n",
       "      <td>86</td>\n",
       "      <td>0.739394</td>\n",
       "    </tr>\n",
       "  </tbody>\n",
       "</table>\n",
       "</div>"
      ],
      "text/plain": [
       "                  j      Polarity  Coverage  Overlaps  Conflicts  Correct  \\\n",
       "crowd             0  [0, 1, 2, 3]  0.994413  0.916201   0.424581      201   \n",
       "phrase_occur      1  [0, 1, 2, 3]  0.583799  0.583799   0.282123      166   \n",
       "phrase_closeness  2  [0, 1, 2, 3]  0.921788  0.918994   0.424581      244   \n",
       "\n",
       "                  Incorrect  Emp. Acc.  \n",
       "crowd                   155   0.564607  \n",
       "phrase_occur             43   0.794258  \n",
       "phrase_closeness         86   0.739394  "
      ]
     },
     "execution_count": 82,
     "metadata": {},
     "output_type": "execute_result"
    }
   ],
   "source": [
    "from snorkel.labeling import LFAnalysis\n",
    "LFAnalysis(L_dev, lfs).lf_summary(Y_dev.values).head()"
   ]
  },
  {
   "cell_type": "code",
   "execution_count": null,
   "metadata": {},
   "outputs": [],
   "source": [
    "test_df.relation.value_counts()"
   ]
  },
  {
   "cell_type": "code",
   "execution_count": 327,
   "metadata": {},
   "outputs": [],
   "source": [
    "import numpy as np\n",
    "import torch\n",
    "from pytorch_transformers import BertModel, BertTokenizer\n"
   ]
  },
  {
   "cell_type": "code",
   "execution_count": 330,
   "metadata": {},
   "outputs": [
    {
     "ename": "SyntaxError",
     "evalue": "invalid syntax (<ipython-input-330-a8b65a08b151>, line 13)",
     "output_type": "error",
     "traceback": [
      "\u001b[0;36m  File \u001b[0;32m\"<ipython-input-330-a8b65a08b151>\"\u001b[0;36m, line \u001b[0;32m13\u001b[0m\n\u001b[0;31m    Model on labels\u001b[0m\n\u001b[0m           ^\u001b[0m\n\u001b[0;31mSyntaxError\u001b[0m\u001b[0;31m:\u001b[0m invalid syntax\n"
     ]
    }
   ],
   "source": [
    "model = BertModel.from_pretrained(\"/jupyter/bert/wwm_uncased_L-24_H-1024_A-16\")\n",
    "\n",
    "tokenizer = BertTokenizer.from_pretrained(\"/jupyter/bert/wwm_uncased_L-24_H-1024_A-16\")\n",
    "\n",
    "\n",
    "def encode_text(text):\n",
    "    input_ids = torch.tensor([tokenizer.encode(text)])\n",
    "    return model(input_ids)[0].mean(1)[0].detach().numpy()\n",
    "\n",
    "\n",
    "X_train = np.array(list(df_train.tweet_text.apply(encode_text).values))\n",
    "X_test = np.array(list(df_test.tweet_text.apply(encode_text).values))\n",
    "Model on labels"
   ]
  },
  {
   "cell_type": "code",
   "execution_count": 341,
   "metadata": {},
   "outputs": [
    {
     "name": "stdout",
     "output_type": "stream",
     "text": [
      "\u001b[33mWARNING: The directory '/home/jovyan/.cache/pip/http' or its parent directory is not owned by the current user and the cache has been disabled. Please check the permissions and owner of that directory. If executing pip with sudo, you may want sudo's -H flag.\u001b[0m\n",
      "\u001b[33mWARNING: The directory '/home/jovyan/.cache/pip' or its parent directory is not owned by the current user and caching wheels has been disabled. check the permissions and owner of that directory. If executing pip with sudo, you may want sudo's -H flag.\u001b[0m\n",
      "Collecting transformers\n",
      "\u001b[?25l  Downloading https://files.pythonhosted.org/packages/50/10/aeefced99c8a59d828a92cc11d213e2743212d3641c87c82d61b035a7d5c/transformers-2.3.0-py3-none-any.whl (447kB)\n",
      "\u001b[K     |████████████████████████████████| 450kB 3.1MB/s eta 0:00:01\n",
      "\u001b[?25hRequirement already satisfied: numpy in /opt/conda/lib/python3.7/site-packages (from transformers) (1.16.2)\n",
      "Requirement already satisfied: requests in /opt/conda/lib/python3.7/site-packages (from transformers) (2.22.0)\n",
      "Requirement already satisfied: tqdm in /opt/conda/lib/python3.7/site-packages (from transformers) (4.40.0)\n",
      "Requirement already satisfied: regex!=2019.12.17 in /opt/conda/lib/python3.7/site-packages (from transformers) (2020.1.8)\n",
      "Requirement already satisfied: sacremoses in /opt/conda/lib/python3.7/site-packages (from transformers) (0.0.38)\n",
      "Requirement already satisfied: boto3 in /home/jovyan/.local/lib/python3.7/site-packages (from transformers) (1.11.0)\n",
      "Requirement already satisfied: sentencepiece in /opt/conda/lib/python3.7/site-packages (from transformers) (0.1.85)\n",
      "Requirement already satisfied: certifi>=2017.4.17 in /opt/conda/lib/python3.7/site-packages (from requests->transformers) (2019.11.28)\n",
      "Requirement already satisfied: idna<2.9,>=2.5 in /opt/conda/lib/python3.7/site-packages (from requests->transformers) (2.8)\n",
      "Requirement already satisfied: chardet<3.1.0,>=3.0.2 in /opt/conda/lib/python3.7/site-packages (from requests->transformers) (3.0.4)\n",
      "Requirement already satisfied: urllib3!=1.25.0,!=1.25.1,<1.26,>=1.21.1 in /opt/conda/lib/python3.7/site-packages (from requests->transformers) (1.25.7)\n",
      "Requirement already satisfied: six in /opt/conda/lib/python3.7/site-packages (from sacremoses->transformers) (1.13.0)\n",
      "Requirement already satisfied: click in /opt/conda/lib/python3.7/site-packages (from sacremoses->transformers) (7.0)\n",
      "Requirement already satisfied: joblib in /opt/conda/lib/python3.7/site-packages (from sacremoses->transformers) (0.14.0)\n",
      "Requirement already satisfied: jmespath<1.0.0,>=0.7.1 in /opt/conda/lib/python3.7/site-packages (from boto3->transformers) (0.9.4)\n",
      "Requirement already satisfied: s3transfer<0.4.0,>=0.3.0 in /home/jovyan/.local/lib/python3.7/site-packages (from boto3->transformers) (0.3.0)\n",
      "Requirement already satisfied: botocore<1.15.0,>=1.14.0 in /home/jovyan/.local/lib/python3.7/site-packages (from boto3->transformers) (1.14.0)\n",
      "Requirement already satisfied: docutils<0.16,>=0.10 in /opt/conda/lib/python3.7/site-packages (from botocore<1.15.0,>=1.14.0->boto3->transformers) (0.15.2)\n",
      "Requirement already satisfied: python-dateutil<3.0.0,>=2.1 in /opt/conda/lib/python3.7/site-packages (from botocore<1.15.0,>=1.14.0->boto3->transformers) (2.8.1)\n",
      "Installing collected packages: transformers\n",
      "Successfully installed transformers-2.3.0\n"
     ]
    }
   ],
   "source": [
    "!pip install transformers --user"
   ]
  },
  {
   "cell_type": "code",
   "execution_count": 342,
   "metadata": {},
   "outputs": [
    {
     "name": "stdout",
     "output_type": "stream",
     "text": [
      "Loading BERT tokenizer...\n"
     ]
    }
   ],
   "source": [
    "from transformers import BertTokenizer\n",
    "\n",
    "# Load the BERT tokenizer.\n",
    "print('Loading BERT tokenizer...')\n",
    "tokenizer = BertTokenizer.from_pretrained('bert-base-uncased', do_lower_case=True)"
   ]
  },
  {
   "cell_type": "code",
   "execution_count": 347,
   "metadata": {},
   "outputs": [
    {
     "name": "stdout",
     "output_type": "stream",
     "text": [
      "For the management of moderately severe to severe essential hypertension and in uncomplicated cases of malignant hypertension.\n"
     ]
    }
   ],
   "source": [
    "text = train_df.loc[0,'Context']\n",
    "print (text)"
   ]
  },
  {
   "cell_type": "code",
   "execution_count": 348,
   "metadata": {},
   "outputs": [],
   "source": [
    "encoded_sent = tokenizer.encode(\n",
    "                        text,                      # Sentence to encode.\n",
    "                        add_special_tokens = True, # Add '[CLS]' and '[SEP]'\n",
    "\n",
    "                        # This function also supports truncation and conversion\n",
    "                        # to pytorch tensors, but we need to do padding, so we\n",
    "                        # can't use these features :( .\n",
    "                        #max_length = 128,          # Truncate all sentences.\n",
    "                        #return_tensors = 'pt',     # Return pytorch tensors.\n",
    "                   )"
   ]
  },
  {
   "cell_type": "code",
   "execution_count": 349,
   "metadata": {},
   "outputs": [
    {
     "data": {
      "text/plain": [
       "[101,\n",
       " 2005,\n",
       " 1996,\n",
       " 2968,\n",
       " 1997,\n",
       " 17844,\n",
       " 5729,\n",
       " 2000,\n",
       " 5729,\n",
       " 6827,\n",
       " 23760,\n",
       " 29048,\n",
       " 1998,\n",
       " 1999,\n",
       " 4895,\n",
       " 9006,\n",
       " 24759,\n",
       " 17872,\n",
       " 3572,\n",
       " 1997,\n",
       " 16007,\n",
       " 27881,\n",
       " 23760,\n",
       " 29048,\n",
       " 1012,\n",
       " 102]"
      ]
     },
     "execution_count": 349,
     "metadata": {},
     "output_type": "execute_result"
    }
   ],
   "source": [
    "encoded_sent"
   ]
  },
  {
   "cell_type": "code",
   "execution_count": null,
   "metadata": {},
   "outputs": [],
   "source": []
  }
 ],
 "metadata": {
  "kernelspec": {
   "display_name": "Python 3",
   "language": "python",
   "name": "python3"
  },
  "language_info": {
   "codemirror_mode": {
    "name": "ipython",
    "version": 3
   },
   "file_extension": ".py",
   "mimetype": "text/x-python",
   "name": "python",
   "nbconvert_exporter": "python",
   "pygments_lexer": "ipython3",
   "version": "3.6.12"
  }
 },
 "nbformat": 4,
 "nbformat_minor": 4
}
