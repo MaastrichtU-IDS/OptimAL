{
 "cells": [
  {
   "cell_type": "markdown",
   "metadata": {},
   "source": [
    "## Workers Answers Data Integration\n",
    "---"
   ]
  },
  {
   "cell_type": "code",
   "execution_count": 1,
   "metadata": {},
   "outputs": [],
   "source": [
    "import pandas as pd"
   ]
  },
  {
   "cell_type": "code",
   "execution_count": 3,
   "metadata": {},
   "outputs": [],
   "source": [
    "df_fig8 =  pd.read_excel('../data/crowd/OptimAL Crowdsourcing Microtasks - Drug Relations (May29).xlsx',sheet_name='Results_Full')\n",
    "df_amz_1 =  pd.read_excel('../data/crowd/OptimAL Crowdsourcing - Contraindications.xlsx',sheet_name='Results_500')\n",
    "df_amz_2 =  pd.read_excel('../data/crowd/OptimAL Crowdsourcing - Contraindications.xlsx',sheet_name='Results_500_1')\n",
    "df_fig8_2 =  pd.read_excel('../data/crowd/OptimALcrowdsourcing_relations_aggregated.xlsx',sheet_name='eachworker')\n",
    "#df_fig8_2[['disease_name','drug_name','context','Worker Answer','_started_at']] #more than 3 workers assessing"
   ]
  },
  {
   "cell_type": "code",
   "execution_count": 4,
   "metadata": {},
   "outputs": [],
   "source": [
    "def convert_crowd_df(raw):\n",
    "    raw.columns = ['disease_name','do_id','drug_name','drug_id','context','worker_label','worker_id','label_id']\n",
    "    return raw\n"
   ]
  },
  {
   "cell_type": "code",
   "execution_count": 5,
   "metadata": {},
   "outputs": [],
   "source": [
    "crowd1 = convert_crowd_df(df_fig8[['disease_name','do_id','drug_name','drug','context','Worker Answer','_worker_id','label_id']])\n",
    "crowd2 = convert_crowd_df(df_fig8_2[['disease_name','doid','drug_name','drug','context','Worker Answer','_worker_id','label']])\n",
    "crowd3 = convert_crowd_df(df_amz_1[['Input.annotation','Input.DO_ID','Input.drugname','Input.Drug','Input.context','Answer.category.label','WorkerId','Input.Label_ID']])\n",
    "crowd4 = convert_crowd_df(df_amz_2[['Input.annotation','Input.DO_ID','Input.drugname','Input.Drug','Input.context','Answer.category.label','WorkerId','Input.Label_ID']])"
   ]
  },
  {
   "cell_type": "markdown",
   "metadata": {},
   "source": [
    "#### Integrate"
   ]
  },
  {
   "cell_type": "code",
   "execution_count": 6,
   "metadata": {},
   "outputs": [],
   "source": [
    "crowd_df = pd.DataFrame()\n",
    "crowd_df = crowd_df.append(crowd1)\n",
    "crowd_df = crowd_df.append(crowd2)\n",
    "crowd_df = crowd_df.append(crowd3)\n",
    "crowd_df = crowd_df.append(crowd4)\n",
    "#crowd_df = crowd_df.groupby(['disease_name','drug_name','context']).head(3)"
   ]
  },
  {
   "cell_type": "code",
   "execution_count": 7,
   "metadata": {},
   "outputs": [
    {
     "data": {
      "text/plain": [
       "array(['effect', 'indication_treatment', 'contraindication',\n",
       "       'i_dont_know', 'indication_symptomatic_relief', 'unrelated',\n",
       "       'unsure', 'Effect', 'Indication: Symptomatic relief',\n",
       "       'Contraindication', 'Indication: treatment', 'I dont know', nan],\n",
       "      dtype=object)"
      ]
     },
     "execution_count": 7,
     "metadata": {},
     "output_type": "execute_result"
    }
   ],
   "source": [
    "crowd_df['worker_label'].unique()"
   ]
  },
  {
   "cell_type": "markdown",
   "metadata": {},
   "source": [
    "---\n",
    "## Gathering workers tabisna"
   ]
  },
  {
   "cell_type": "code",
   "execution_count": 13,
   "metadata": {},
   "outputs": [],
   "source": [
    "label_dict={'effect':'Effect',\n",
    "            'indication_treatment':'Indication: Treatment',\n",
    "            'Indication: treatment':'Indication: Treatment',\n",
    "           'contraindication':'Contraindication',\n",
    "            'indication_symptomatic_relief':'Indication: Symptomatic Relief', \n",
    "           'Indication: Symptomatic relief':'Indication: Symptomatic Relief',\n",
    "           'i_dont_know':'IDK', 'I dont know':'IDK','unrelated':'IDK','unsure':'IDK'}"
   ]
  },
  {
   "cell_type": "code",
   "execution_count": 14,
   "metadata": {},
   "outputs": [],
   "source": [
    "crowd_df['worker_label'].replace(label_dict, inplace=True)"
   ]
  },
  {
   "cell_type": "code",
   "execution_count": 15,
   "metadata": {},
   "outputs": [],
   "source": [
    "#crowd_df = pd.merge(crowd_df, labels, how='left', left_on ='worker_label', right_on ='text')\n",
    "#crowd_df = crowd_df.drop(columns=['text','worker_label']).rename(columns={'relation':'worker_label'})\n",
    "crowd_df['value'] = 1"
   ]
  },
  {
   "cell_type": "code",
   "execution_count": 16,
   "metadata": {},
   "outputs": [
    {
     "data": {
      "text/plain": [
       "array(['Effect', 'Indication: Treatment', 'Contraindication', 'IDK',\n",
       "       'Indication: Symptomatic Relief', nan], dtype=object)"
      ]
     },
     "execution_count": 16,
     "metadata": {},
     "output_type": "execute_result"
    }
   ],
   "source": [
    "crowd_df['worker_label'].unique()"
   ]
  },
  {
   "cell_type": "code",
   "execution_count": 17,
   "metadata": {},
   "outputs": [
    {
     "data": {
      "text/plain": [
       "8049"
      ]
     },
     "execution_count": 17,
     "metadata": {},
     "output_type": "execute_result"
    }
   ],
   "source": [
    "len(crowd_df)"
   ]
  },
  {
   "cell_type": "markdown",
   "metadata": {},
   "source": [
    "## Create a workers consensus table"
   ]
  },
  {
   "cell_type": "code",
   "execution_count": 36,
   "metadata": {},
   "outputs": [],
   "source": [
    "worker_table = pd.pivot_table(\n",
    "    crowd_df,\n",
    "    values='value',\n",
    "    index=['do_id','drug_id','label_id','context'],\n",
    "    columns=['worker_label'],\n",
    "    aggfunc='sum',\n",
    "    fill_value=0\n",
    ").reset_index()"
   ]
  },
  {
   "cell_type": "code",
   "execution_count": 37,
   "metadata": {},
   "outputs": [],
   "source": [
    "worker_table['worker_answers'] = worker_table.sum(axis=1)\n",
    "worker_table['Contraindication'] = worker_table['Contraindication']/worker_table['worker_answers']\n",
    "worker_table['Effect'] = worker_table['Effect']/worker_table['worker_answers']\n",
    "worker_table['IDK'] = worker_table['IDK']/worker_table['worker_answers']\n",
    "worker_table['Indication: Symptomatic Relief'] = worker_table['Indication: Symptomatic Relief']/worker_table['worker_answers']\n",
    "worker_table['Indication: Treatment'] = worker_table['Indication: Treatment']/worker_table['worker_answers']\n",
    "worker_table['inter_agree_workers'] = worker_table.drop(columns='worker_answers').max(axis=1)"
   ]
  },
  {
   "cell_type": "code",
   "execution_count": 42,
   "metadata": {},
   "outputs": [
    {
     "data": {
      "text/html": [
       "<div>\n",
       "<style scoped>\n",
       "    .dataframe tbody tr th:only-of-type {\n",
       "        vertical-align: middle;\n",
       "    }\n",
       "\n",
       "    .dataframe tbody tr th {\n",
       "        vertical-align: top;\n",
       "    }\n",
       "\n",
       "    .dataframe thead th {\n",
       "        text-align: right;\n",
       "    }\n",
       "</style>\n",
       "<table border=\"1\" class=\"dataframe\">\n",
       "  <thead>\n",
       "    <tr style=\"text-align: right;\">\n",
       "      <th>worker_label</th>\n",
       "      <th>do_id</th>\n",
       "      <th>drug_id</th>\n",
       "      <th>label_id</th>\n",
       "      <th>context</th>\n",
       "      <th>Contraindication</th>\n",
       "      <th>Effect</th>\n",
       "      <th>IDK</th>\n",
       "      <th>Indication: Symptomatic Relief</th>\n",
       "      <th>Indication: Treatment</th>\n",
       "      <th>worker_answers</th>\n",
       "      <th>inter_agree_workers</th>\n",
       "    </tr>\n",
       "  </thead>\n",
       "  <tbody>\n",
       "    <tr>\n",
       "      <th>0</th>\n",
       "      <td>DOID_0050214</td>\n",
       "      <td>DB00536</td>\n",
       "      <td>dfbcb78d-0758-4f15-9d9c-f4048b691d9d.xml</td>\n",
       "      <td>Guanidine is indicated for the reduction of th...</td>\n",
       "      <td>0.071429</td>\n",
       "      <td>0.0</td>\n",
       "      <td>0.000000</td>\n",
       "      <td>0.892857</td>\n",
       "      <td>0.035714</td>\n",
       "      <td>28</td>\n",
       "      <td>0.892857</td>\n",
       "    </tr>\n",
       "    <tr>\n",
       "      <th>1</th>\n",
       "      <td>DOID_0050425</td>\n",
       "      <td>DB00268</td>\n",
       "      <td>88db5bac-73c7-4b4f-a207-8f895223d778.xml</td>\n",
       "      <td>['\\n                     ', 'Parkinson‰Ûªs Dis...</td>\n",
       "      <td>0.000000</td>\n",
       "      <td>0.0</td>\n",
       "      <td>0.000000</td>\n",
       "      <td>0.333333</td>\n",
       "      <td>0.666667</td>\n",
       "      <td>3</td>\n",
       "      <td>0.666667</td>\n",
       "    </tr>\n",
       "    <tr>\n",
       "      <th>2</th>\n",
       "      <td>DOID_0050425</td>\n",
       "      <td>DB00413</td>\n",
       "      <td>b5504316-3907-444c-b604-ec9a18cdcd6d.xml</td>\n",
       "      <td>Mirapex (pramipexole dihydrochloride) tablets ...</td>\n",
       "      <td>0.000000</td>\n",
       "      <td>0.0</td>\n",
       "      <td>0.000000</td>\n",
       "      <td>0.000000</td>\n",
       "      <td>1.000000</td>\n",
       "      <td>3</td>\n",
       "      <td>1.000000</td>\n",
       "    </tr>\n",
       "    <tr>\n",
       "      <th>3</th>\n",
       "      <td>DOID_0050425</td>\n",
       "      <td>DB05271</td>\n",
       "      <td>a6964835-dc96-4b22-8b64-464a42f6cdf2.xml</td>\n",
       "      <td>NEUPRO is a dopamine agonist indicated for the...</td>\n",
       "      <td>0.000000</td>\n",
       "      <td>0.0</td>\n",
       "      <td>0.000000</td>\n",
       "      <td>0.000000</td>\n",
       "      <td>1.000000</td>\n",
       "      <td>3</td>\n",
       "      <td>1.000000</td>\n",
       "    </tr>\n",
       "    <tr>\n",
       "      <th>4</th>\n",
       "      <td>DOID_0050426</td>\n",
       "      <td>DB00495</td>\n",
       "      <td>../DailyMedExtracter/prescription/temp_xml/ba6...</td>\n",
       "      <td>[None, 'Zidovudine\\xa0oral solution\\xa0is cont...</td>\n",
       "      <td>0.333333</td>\n",
       "      <td>0.0</td>\n",
       "      <td>0.066667</td>\n",
       "      <td>0.400000</td>\n",
       "      <td>0.200000</td>\n",
       "      <td>15</td>\n",
       "      <td>0.400000</td>\n",
       "    </tr>\n",
       "  </tbody>\n",
       "</table>\n",
       "</div>"
      ],
      "text/plain": [
       "worker_label         do_id  drug_id  \\\n",
       "0             DOID_0050214  DB00536   \n",
       "1             DOID_0050425  DB00268   \n",
       "2             DOID_0050425  DB00413   \n",
       "3             DOID_0050425  DB05271   \n",
       "4             DOID_0050426  DB00495   \n",
       "\n",
       "worker_label                                           label_id  \\\n",
       "0                      dfbcb78d-0758-4f15-9d9c-f4048b691d9d.xml   \n",
       "1                      88db5bac-73c7-4b4f-a207-8f895223d778.xml   \n",
       "2                      b5504316-3907-444c-b604-ec9a18cdcd6d.xml   \n",
       "3                      a6964835-dc96-4b22-8b64-464a42f6cdf2.xml   \n",
       "4             ../DailyMedExtracter/prescription/temp_xml/ba6...   \n",
       "\n",
       "worker_label                                            context  \\\n",
       "0             Guanidine is indicated for the reduction of th...   \n",
       "1             ['\\n                     ', 'Parkinson‰Ûªs Dis...   \n",
       "2             Mirapex (pramipexole dihydrochloride) tablets ...   \n",
       "3             NEUPRO is a dopamine agonist indicated for the...   \n",
       "4             [None, 'Zidovudine\\xa0oral solution\\xa0is cont...   \n",
       "\n",
       "worker_label  Contraindication  Effect       IDK  \\\n",
       "0                     0.071429     0.0  0.000000   \n",
       "1                     0.000000     0.0  0.000000   \n",
       "2                     0.000000     0.0  0.000000   \n",
       "3                     0.000000     0.0  0.000000   \n",
       "4                     0.333333     0.0  0.066667   \n",
       "\n",
       "worker_label  Indication: Symptomatic Relief  Indication: Treatment  \\\n",
       "0                                   0.892857               0.035714   \n",
       "1                                   0.333333               0.666667   \n",
       "2                                   0.000000               1.000000   \n",
       "3                                   0.000000               1.000000   \n",
       "4                                   0.400000               0.200000   \n",
       "\n",
       "worker_label  worker_answers  inter_agree_workers  \n",
       "0                         28             0.892857  \n",
       "1                          3             0.666667  \n",
       "2                          3             1.000000  \n",
       "3                          3             1.000000  \n",
       "4                         15             0.400000  "
      ]
     },
     "execution_count": 42,
     "metadata": {},
     "output_type": "execute_result"
    }
   ],
   "source": [
    "worker_table.head()"
   ]
  },
  {
   "cell_type": "code",
   "execution_count": null,
   "metadata": {},
   "outputs": [],
   "source": []
  },
  {
   "cell_type": "code",
   "execution_count": 52,
   "metadata": {},
   "outputs": [
    {
     "name": "stdout",
     "output_type": "stream",
     "text": [
      "['Effect', 'Indication: Treatment', 'Contraindication', 'Indication: Symptomatic Relief']\n"
     ]
    }
   ],
   "source": [
    "label_list = ['Effect', 'Indication: Treatment', 'Contraindication',\n",
    "       'Indication: Symptomatic Relief']\n",
    "print (label_list)\n",
    "consensus = []\n",
    "for i in range(len(worker_table)):\n",
    "    if worker_table.loc[i].inter_agree_workers > .6:\n",
    "        consensus_label = worker_table.loc[i][label_list].astype(float).idxmax()\n",
    "        consensus.append(consensus_label)\n",
    "        continue\n",
    "    consensus.append('No consensus')\n",
    "\n",
    "worker_table['worker_consensus'] = consensus"
   ]
  },
  {
   "cell_type": "code",
   "execution_count": 25,
   "metadata": {},
   "outputs": [],
   "source": [
    "#len(worker_table.drop_duplicates(subset=['disease_name',\t'drug_name',\t'context']))"
   ]
  },
  {
   "cell_type": "code",
   "execution_count": 53,
   "metadata": {},
   "outputs": [
    {
     "data": {
      "text/plain": [
       "(1791, 12)"
      ]
     },
     "execution_count": 53,
     "metadata": {},
     "output_type": "execute_result"
    }
   ],
   "source": [
    "worker_table.shape"
   ]
  },
  {
   "cell_type": "code",
   "execution_count": 57,
   "metadata": {},
   "outputs": [],
   "source": [
    "worker_table.to_csv('../data/crowd/worker_table.csv', index=False)"
   ]
  },
  {
   "cell_type": "code",
   "execution_count": 58,
   "metadata": {},
   "outputs": [
    {
     "data": {
      "text/html": [
       "<div>\n",
       "<style scoped>\n",
       "    .dataframe tbody tr th:only-of-type {\n",
       "        vertical-align: middle;\n",
       "    }\n",
       "\n",
       "    .dataframe tbody tr th {\n",
       "        vertical-align: top;\n",
       "    }\n",
       "\n",
       "    .dataframe thead th {\n",
       "        text-align: right;\n",
       "    }\n",
       "</style>\n",
       "<table border=\"1\" class=\"dataframe\">\n",
       "  <thead>\n",
       "    <tr style=\"text-align: right;\">\n",
       "      <th>worker_label</th>\n",
       "      <th>do_id</th>\n",
       "      <th>drug_id</th>\n",
       "      <th>label_id</th>\n",
       "      <th>context</th>\n",
       "      <th>Contraindication</th>\n",
       "      <th>Effect</th>\n",
       "      <th>IDK</th>\n",
       "      <th>Indication: Symptomatic Relief</th>\n",
       "      <th>Indication: Treatment</th>\n",
       "      <th>worker_answers</th>\n",
       "      <th>inter_agree_workers</th>\n",
       "      <th>worker_consensus</th>\n",
       "    </tr>\n",
       "  </thead>\n",
       "  <tbody>\n",
       "    <tr>\n",
       "      <th>0</th>\n",
       "      <td>DOID_0050214</td>\n",
       "      <td>DB00536</td>\n",
       "      <td>dfbcb78d-0758-4f15-9d9c-f4048b691d9d.xml</td>\n",
       "      <td>Guanidine is indicated for the reduction of th...</td>\n",
       "      <td>0.071429</td>\n",
       "      <td>0.0</td>\n",
       "      <td>0.000000</td>\n",
       "      <td>0.892857</td>\n",
       "      <td>0.035714</td>\n",
       "      <td>28</td>\n",
       "      <td>0.892857</td>\n",
       "      <td>Indication: Symptomatic Relief</td>\n",
       "    </tr>\n",
       "    <tr>\n",
       "      <th>1</th>\n",
       "      <td>DOID_0050425</td>\n",
       "      <td>DB00268</td>\n",
       "      <td>88db5bac-73c7-4b4f-a207-8f895223d778.xml</td>\n",
       "      <td>['\\n                     ', 'Parkinson‰Ûªs Dis...</td>\n",
       "      <td>0.000000</td>\n",
       "      <td>0.0</td>\n",
       "      <td>0.000000</td>\n",
       "      <td>0.333333</td>\n",
       "      <td>0.666667</td>\n",
       "      <td>3</td>\n",
       "      <td>0.666667</td>\n",
       "      <td>Indication: Treatment</td>\n",
       "    </tr>\n",
       "    <tr>\n",
       "      <th>2</th>\n",
       "      <td>DOID_0050425</td>\n",
       "      <td>DB00413</td>\n",
       "      <td>b5504316-3907-444c-b604-ec9a18cdcd6d.xml</td>\n",
       "      <td>Mirapex (pramipexole dihydrochloride) tablets ...</td>\n",
       "      <td>0.000000</td>\n",
       "      <td>0.0</td>\n",
       "      <td>0.000000</td>\n",
       "      <td>0.000000</td>\n",
       "      <td>1.000000</td>\n",
       "      <td>3</td>\n",
       "      <td>1.000000</td>\n",
       "      <td>Indication: Treatment</td>\n",
       "    </tr>\n",
       "    <tr>\n",
       "      <th>3</th>\n",
       "      <td>DOID_0050425</td>\n",
       "      <td>DB05271</td>\n",
       "      <td>a6964835-dc96-4b22-8b64-464a42f6cdf2.xml</td>\n",
       "      <td>NEUPRO is a dopamine agonist indicated for the...</td>\n",
       "      <td>0.000000</td>\n",
       "      <td>0.0</td>\n",
       "      <td>0.000000</td>\n",
       "      <td>0.000000</td>\n",
       "      <td>1.000000</td>\n",
       "      <td>3</td>\n",
       "      <td>1.000000</td>\n",
       "      <td>Indication: Treatment</td>\n",
       "    </tr>\n",
       "    <tr>\n",
       "      <th>4</th>\n",
       "      <td>DOID_0050426</td>\n",
       "      <td>DB00495</td>\n",
       "      <td>../DailyMedExtracter/prescription/temp_xml/ba6...</td>\n",
       "      <td>[None, 'Zidovudine\\xa0oral solution\\xa0is cont...</td>\n",
       "      <td>0.333333</td>\n",
       "      <td>0.0</td>\n",
       "      <td>0.066667</td>\n",
       "      <td>0.400000</td>\n",
       "      <td>0.200000</td>\n",
       "      <td>15</td>\n",
       "      <td>0.400000</td>\n",
       "      <td>No consensus</td>\n",
       "    </tr>\n",
       "  </tbody>\n",
       "</table>\n",
       "</div>"
      ],
      "text/plain": [
       "worker_label         do_id  drug_id  \\\n",
       "0             DOID_0050214  DB00536   \n",
       "1             DOID_0050425  DB00268   \n",
       "2             DOID_0050425  DB00413   \n",
       "3             DOID_0050425  DB05271   \n",
       "4             DOID_0050426  DB00495   \n",
       "\n",
       "worker_label                                           label_id  \\\n",
       "0                      dfbcb78d-0758-4f15-9d9c-f4048b691d9d.xml   \n",
       "1                      88db5bac-73c7-4b4f-a207-8f895223d778.xml   \n",
       "2                      b5504316-3907-444c-b604-ec9a18cdcd6d.xml   \n",
       "3                      a6964835-dc96-4b22-8b64-464a42f6cdf2.xml   \n",
       "4             ../DailyMedExtracter/prescription/temp_xml/ba6...   \n",
       "\n",
       "worker_label                                            context  \\\n",
       "0             Guanidine is indicated for the reduction of th...   \n",
       "1             ['\\n                     ', 'Parkinson‰Ûªs Dis...   \n",
       "2             Mirapex (pramipexole dihydrochloride) tablets ...   \n",
       "3             NEUPRO is a dopamine agonist indicated for the...   \n",
       "4             [None, 'Zidovudine\\xa0oral solution\\xa0is cont...   \n",
       "\n",
       "worker_label  Contraindication  Effect       IDK  \\\n",
       "0                     0.071429     0.0  0.000000   \n",
       "1                     0.000000     0.0  0.000000   \n",
       "2                     0.000000     0.0  0.000000   \n",
       "3                     0.000000     0.0  0.000000   \n",
       "4                     0.333333     0.0  0.066667   \n",
       "\n",
       "worker_label  Indication: Symptomatic Relief  Indication: Treatment  \\\n",
       "0                                   0.892857               0.035714   \n",
       "1                                   0.333333               0.666667   \n",
       "2                                   0.000000               1.000000   \n",
       "3                                   0.000000               1.000000   \n",
       "4                                   0.400000               0.200000   \n",
       "\n",
       "worker_label  worker_answers  inter_agree_workers  \\\n",
       "0                         28             0.892857   \n",
       "1                          3             0.666667   \n",
       "2                          3             1.000000   \n",
       "3                          3             1.000000   \n",
       "4                         15             0.400000   \n",
       "\n",
       "worker_label                worker_consensus  \n",
       "0             Indication: Symptomatic Relief  \n",
       "1                      Indication: Treatment  \n",
       "2                      Indication: Treatment  \n",
       "3                      Indication: Treatment  \n",
       "4                               No consensus  "
      ]
     },
     "execution_count": 58,
     "metadata": {},
     "output_type": "execute_result"
    }
   ],
   "source": [
    "worker_table.head(5)"
   ]
  },
  {
   "cell_type": "code",
   "execution_count": null,
   "metadata": {},
   "outputs": [],
   "source": []
  }
 ],
 "metadata": {
  "kernelspec": {
   "display_name": "Python 3",
   "language": "python",
   "name": "python3"
  },
  "language_info": {
   "codemirror_mode": {
    "name": "ipython",
    "version": 3
   },
   "file_extension": ".py",
   "mimetype": "text/x-python",
   "name": "python",
   "nbconvert_exporter": "python",
   "pygments_lexer": "ipython3",
   "version": "3.8.3"
  }
 },
 "nbformat": 4,
 "nbformat_minor": 4
}
