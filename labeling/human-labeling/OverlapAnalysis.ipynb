{
 "cells": [
  {
   "cell_type": "markdown",
   "metadata": {},
   "source": [
    "## When do we need medical experts to annotate relations between drugs and diseases?\n",
    "---"
   ]
  },
  {
   "cell_type": "code",
   "execution_count": 1,
   "metadata": {},
   "outputs": [],
   "source": [
    "import pandas as pd"
   ]
  },
  {
   "cell_type": "code",
   "execution_count": 2,
   "metadata": {},
   "outputs": [],
   "source": [
    "expert_table = pd.read_csv('../data/expert/expert_table.csv')\n",
    "worker_table = pd.read_csv('../data/crowd/worker_table.csv')"
   ]
  },
  {
   "cell_type": "markdown",
   "metadata": {},
   "source": [
    "---\n",
    "## Workers vs experts (merging consensus tables)"
   ]
  },
  {
   "cell_type": "code",
   "execution_count": 3,
   "metadata": {},
   "outputs": [],
   "source": [
    "label_list = ['Contraindication','Effect','IDK','Indication: Symptomatic Relief','Indication: Treatment']\n",
    "label_list_expert = ['medical_expert1','medical_expert2','medical_expert3','workers_answers']\n",
    "match_table = pd.merge(worker_table.drop(columns=label_list),\n",
    "                       expert_table.drop(columns=label_list_expert),\n",
    "                       on=['do_id','drug_id','label_id'], how='inner')\n",
    "\n",
    "match_table['relation_match'] = match_table.worker_consensus == match_table.expert_consensus"
   ]
  },
  {
   "cell_type": "code",
   "execution_count": 4,
   "metadata": {},
   "outputs": [
    {
     "data": {
      "text/html": [
       "<div>\n",
       "<style scoped>\n",
       "    .dataframe tbody tr th:only-of-type {\n",
       "        vertical-align: middle;\n",
       "    }\n",
       "\n",
       "    .dataframe tbody tr th {\n",
       "        vertical-align: top;\n",
       "    }\n",
       "\n",
       "    .dataframe thead th {\n",
       "        text-align: right;\n",
       "    }\n",
       "</style>\n",
       "<table border=\"1\" class=\"dataframe\">\n",
       "  <thead>\n",
       "    <tr style=\"text-align: right;\">\n",
       "      <th></th>\n",
       "      <th>do_id</th>\n",
       "      <th>drug_id</th>\n",
       "      <th>label_id</th>\n",
       "      <th>context_x</th>\n",
       "      <th>worker_answers</th>\n",
       "      <th>inter_agree_workers</th>\n",
       "      <th>worker_consensus</th>\n",
       "      <th>#</th>\n",
       "      <th>context_y</th>\n",
       "      <th>disease_name</th>\n",
       "      <th>drug_name</th>\n",
       "      <th>drug_brand_name</th>\n",
       "      <th>sheet</th>\n",
       "      <th>expert_consensus</th>\n",
       "      <th>inter_agree_experts</th>\n",
       "      <th>relation_match</th>\n",
       "    </tr>\n",
       "  </thead>\n",
       "  <tbody>\n",
       "    <tr>\n",
       "      <th>0</th>\n",
       "      <td>DOID_0050451</td>\n",
       "      <td>DB01182</td>\n",
       "      <td>../DailyMedExtracter/prescription/temp_xml/71d...</td>\n",
       "      <td>['Propafenone hydrochloride is contraindicated...</td>\n",
       "      <td>6</td>\n",
       "      <td>0.333333</td>\n",
       "      <td>No consensus</td>\n",
       "      <td>84.0</td>\n",
       "      <td>['Propafenone hydrochloride is contraindicated...</td>\n",
       "      <td>BRUGADA SYNDROME</td>\n",
       "      <td>Propafenone HCl</td>\n",
       "      <td>NaN</td>\n",
       "      <td>indication_symptomatic_relief</td>\n",
       "      <td>Contraindication</td>\n",
       "      <td>2</td>\n",
       "      <td>False</td>\n",
       "    </tr>\n",
       "    <tr>\n",
       "      <th>1</th>\n",
       "      <td>DOID_0050700</td>\n",
       "      <td>DB00445</td>\n",
       "      <td>../DailyMedExtracter/prescription/temp_xml/4f9...</td>\n",
       "      <td>Patients should not be treated with epirubicin...</td>\n",
       "      <td>9</td>\n",
       "      <td>0.333333</td>\n",
       "      <td>No consensus</td>\n",
       "      <td>69.0</td>\n",
       "      <td>Patients should not be treated with epirubicin...</td>\n",
       "      <td>CARDIOMYOPATHY</td>\n",
       "      <td>Epirubicin Hydrochloride</td>\n",
       "      <td>NaN</td>\n",
       "      <td>indication_symptomatic_relief</td>\n",
       "      <td>Contraindication</td>\n",
       "      <td>2</td>\n",
       "      <td>False</td>\n",
       "    </tr>\n",
       "    <tr>\n",
       "      <th>2</th>\n",
       "      <td>DOID_0050820</td>\n",
       "      <td>DB01182</td>\n",
       "      <td>../DailyMedExtracter/prescription/temp_xml/71d...</td>\n",
       "      <td>['Propafenone hydrochloride is contraindicated...</td>\n",
       "      <td>3</td>\n",
       "      <td>0.666667</td>\n",
       "      <td>Effect</td>\n",
       "      <td>98.0</td>\n",
       "      <td>['Propafenone hydrochloride is contraindicated...</td>\n",
       "      <td>AV BLOCK</td>\n",
       "      <td>PROPAFENONE</td>\n",
       "      <td>Propafenone HCl</td>\n",
       "      <td>effect</td>\n",
       "      <td>Contraindication</td>\n",
       "      <td>2</td>\n",
       "      <td>False</td>\n",
       "    </tr>\n",
       "  </tbody>\n",
       "</table>\n",
       "</div>"
      ],
      "text/plain": [
       "          do_id  drug_id                                           label_id  \\\n",
       "0  DOID_0050451  DB01182  ../DailyMedExtracter/prescription/temp_xml/71d...   \n",
       "1  DOID_0050700  DB00445  ../DailyMedExtracter/prescription/temp_xml/4f9...   \n",
       "2  DOID_0050820  DB01182  ../DailyMedExtracter/prescription/temp_xml/71d...   \n",
       "\n",
       "                                           context_x  worker_answers  \\\n",
       "0  ['Propafenone hydrochloride is contraindicated...               6   \n",
       "1  Patients should not be treated with epirubicin...               9   \n",
       "2  ['Propafenone hydrochloride is contraindicated...               3   \n",
       "\n",
       "   inter_agree_workers worker_consensus     #  \\\n",
       "0             0.333333     No consensus  84.0   \n",
       "1             0.333333     No consensus  69.0   \n",
       "2             0.666667           Effect  98.0   \n",
       "\n",
       "                                           context_y      disease_name  \\\n",
       "0  ['Propafenone hydrochloride is contraindicated...  BRUGADA SYNDROME   \n",
       "1  Patients should not be treated with epirubicin...    CARDIOMYOPATHY   \n",
       "2  ['Propafenone hydrochloride is contraindicated...          AV BLOCK   \n",
       "\n",
       "                  drug_name  drug_brand_name                          sheet  \\\n",
       "0           Propafenone HCl              NaN  indication_symptomatic_relief   \n",
       "1  Epirubicin Hydrochloride              NaN  indication_symptomatic_relief   \n",
       "2               PROPAFENONE  Propafenone HCl                         effect   \n",
       "\n",
       "   expert_consensus  inter_agree_experts  relation_match  \n",
       "0  Contraindication                    2           False  \n",
       "1  Contraindication                    2           False  \n",
       "2  Contraindication                    2           False  "
      ]
     },
     "execution_count": 4,
     "metadata": {},
     "output_type": "execute_result"
    }
   ],
   "source": [
    "match_table.head(3)"
   ]
  },
  {
   "cell_type": "code",
   "execution_count": 5,
   "metadata": {},
   "outputs": [
    {
     "data": {
      "text/plain": [
       "(359, 16)"
      ]
     },
     "execution_count": 5,
     "metadata": {},
     "output_type": "execute_result"
    }
   ],
   "source": [
    "match_table.shape"
   ]
  },
  {
   "cell_type": "code",
   "execution_count": 6,
   "metadata": {},
   "outputs": [
    {
     "data": {
      "text/plain": [
       "array(['No consensus', 'Effect', 'Contraindication',\n",
       "       'Indication: Treatment', 'Indication: Symptomatic Relief'],\n",
       "      dtype=object)"
      ]
     },
     "execution_count": 6,
     "metadata": {},
     "output_type": "execute_result"
    }
   ],
   "source": [
    "match_table.worker_consensus.unique()"
   ]
  },
  {
   "cell_type": "code",
   "execution_count": 7,
   "metadata": {},
   "outputs": [
    {
     "data": {
      "text/plain": [
       "array(['Contraindication', 'Indication: Treatment', 'No consensus',\n",
       "       'Effect', 'Indication: Symptomatic Relief'], dtype=object)"
      ]
     },
     "execution_count": 7,
     "metadata": {},
     "output_type": "execute_result"
    }
   ],
   "source": [
    "match_table.expert_consensus.unique()"
   ]
  },
  {
   "cell_type": "markdown",
   "metadata": {},
   "source": [
    "---\n",
    "### Check matches and workers accuracy"
   ]
  },
  {
   "cell_type": "code",
   "execution_count": 8,
   "metadata": {},
   "outputs": [
    {
     "name": "stdout",
     "output_type": "stream",
     "text": [
      "Requirement already satisfied: pycm in /Users/remzicelebi/opt/anaconda3/lib/python3.8/site-packages (3.0)\n",
      "Requirement already satisfied: art>=1.8 in /Users/remzicelebi/opt/anaconda3/lib/python3.8/site-packages (from pycm) (4.9)\n",
      "Requirement already satisfied: numpy>=1.9.0 in /Users/remzicelebi/opt/anaconda3/lib/python3.8/site-packages (from pycm) (1.16.1)\n"
     ]
    }
   ],
   "source": [
    "!pip install pycm"
   ]
  },
  {
   "cell_type": "code",
   "execution_count": 9,
   "metadata": {},
   "outputs": [],
   "source": [
    "from pycm import *\n",
    "import seaborn as sns\n",
    "import matplotlib.pyplot as plt"
   ]
  },
  {
   "cell_type": "code",
   "execution_count": 10,
   "metadata": {},
   "outputs": [],
   "source": [
    "match_table_filtered = match_table[(match_table.worker_consensus != 'No consensus') & \n",
    "                                    (match_table.expert_consensus != 'No consensus') &\n",
    "                                    (match_table.worker_consensus != 'IDK') &\n",
    "                                    (match_table.expert_consensus != 'IDK')]"
   ]
  },
  {
   "cell_type": "code",
   "execution_count": 11,
   "metadata": {},
   "outputs": [],
   "source": [
    "y_actu = list(match_table_filtered.expert_consensus) #gold standard # X axis\n",
    "y_pred = list(match_table_filtered.worker_consensus) #workers answers Y axis\n",
    "cm = ConfusionMatrix(y_actu, y_pred) "
   ]
  },
  {
   "cell_type": "code",
   "execution_count": 12,
   "metadata": {},
   "outputs": [],
   "source": [
    "#plt.figure(figsize=(10,2))\n",
    "import matplotlib\n",
    "matplotlib.use('Agg')\n",
    "import matplotlib.pyplot as plt\n",
    "matplotlib.style.use('ggplot')\n",
    "import seaborn as sns\n",
    "sns.set()\n",
    "fig, ax = plt.subplots(figsize=(10,8))\n",
    "ax= sns.heatmap(pd.DataFrame(cm.table), annot=True, cmap=\"YlGnBu\")\n",
    "#plt.xlabel('Experts'); plt.ylabel('Workers');\n",
    "ax.set_xlabel('Experts');ax.set_ylabel('Workers'); \n",
    "plt.tight_layout()\n",
    "#plt.show()\n",
    "ax.get_figure().savefig('worker_vs_expert.png', dpi=200)\n",
    "#ax.get_figure().savefig('worker_vs_expert.png', dpi=200)\n",
    "\n",
    "#sns_plot.gesavefig('worker_vs_expert.jpg')"
   ]
  },
  {
   "cell_type": "code",
   "execution_count": 13,
   "metadata": {},
   "outputs": [
    {
     "data": {
      "image/png": "[encoded data removed]",
      "text/plain": [
       "<IPython.core.display.Image object>"
      ]
     },
     "execution_count": 13,
     "metadata": {},
     "output_type": "execute_result"
    }
   ],
   "source": [
    "from IPython.display import Image\n",
    "Image(filename='worker_vs_expert.png') "
   ]
  },
  {
   "cell_type": "code",
   "execution_count": 14,
   "metadata": {},
   "outputs": [
    {
     "data": {
      "text/plain": [
       "{'Contraindication': 0.8432835820895522,\n",
       " 'Effect': 0.8694029850746269,\n",
       " 'Indication: Symptomatic Relief': 0.8768656716417911,\n",
       " 'Indication: Treatment': 0.8656716417910447}"
      ]
     },
     "execution_count": 14,
     "metadata": {},
     "output_type": "execute_result"
    }
   ],
   "source": [
    "cm.ACC"
   ]
  },
  {
   "cell_type": "markdown",
   "metadata": {},
   "source": [
    "**Workers find more diffult to annotate contraindication the most**"
   ]
  },
  {
   "cell_type": "code",
   "execution_count": 15,
   "metadata": {},
   "outputs": [
    {
     "name": "stdout",
     "output_type": "stream",
     "text": [
      "Workers were as good as medical experts in 72.76% of the cases\n"
     ]
    }
   ],
   "source": [
    "print('Workers were as good as medical experts in {}% of the cases'.format(round(cm.Overall_ACC*100,2)))"
   ]
  },
  {
   "cell_type": "markdown",
   "metadata": {},
   "source": [
    "---\n",
    "## Questions:\n",
    "### - What are the characteristics of contexts that makes diffucult for the crowd to have consensus?\n",
    "### - Can we train a ML method that learns when the crowd will perform as good as the experts?"
   ]
  },
  {
   "cell_type": "markdown",
   "metadata": {},
   "source": [
    "Temptative features to be extracted\n",
    "- lenght of text\n",
    "- number of words\n",
    "- particular words used on medical domain misinterpreted\n",
    "- amount of medical terminology\n",
    "- multiple concepts at once\n",
    "- long distance between disease, drug and relation"
   ]
  },
  {
   "cell_type": "markdown",
   "metadata": {},
   "source": [
    "Tenmptative groups to analyze\n",
    "- Excluding the No concensus of the experts, analyze the miss match of workers\n",
    "- All those answers with match, compare the label match vs concensus match\n",
    "- Where do experts disagree but workers don't"
   ]
  },
  {
   "cell_type": "markdown",
   "metadata": {},
   "source": [
    "---"
   ]
  },
  {
   "cell_type": "code",
   "execution_count": 16,
   "metadata": {},
   "outputs": [],
   "source": [
    "#text lenght\n",
    "match_table['total_characters'] = [len(text) for text in match_table['context_x']]\n",
    "match_table['total_words'] = [len(text.replace('\\n',' ').split()) for text in match_table['context_x']]"
   ]
  },
  {
   "cell_type": "code",
   "execution_count": 17,
   "metadata": {},
   "outputs": [],
   "source": [
    "match_table.to_csv('../data/expert/experts_vs_crowd_working_table.csv',index=False)"
   ]
  },
  {
   "cell_type": "code",
   "execution_count": 18,
   "metadata": {},
   "outputs": [],
   "source": [
    "subset_consensus = match_table[(match_table.expert_consensus != 'No consensus') & (match_table.expert_consensus != 'IDK')]"
   ]
  },
  {
   "cell_type": "code",
   "execution_count": 19,
   "metadata": {},
   "outputs": [
    {
     "data": {
      "text/html": [
       "<div>\n",
       "<style scoped>\n",
       "    .dataframe tbody tr th:only-of-type {\n",
       "        vertical-align: middle;\n",
       "    }\n",
       "\n",
       "    .dataframe tbody tr th {\n",
       "        vertical-align: top;\n",
       "    }\n",
       "\n",
       "    .dataframe thead th {\n",
       "        text-align: right;\n",
       "    }\n",
       "</style>\n",
       "<table border=\"1\" class=\"dataframe\">\n",
       "  <thead>\n",
       "    <tr style=\"text-align: right;\">\n",
       "      <th></th>\n",
       "      <th>relation_match</th>\n",
       "      <th>False</th>\n",
       "      <th>True</th>\n",
       "    </tr>\n",
       "  </thead>\n",
       "  <tbody>\n",
       "    <tr>\n",
       "      <th rowspan=\"8\" valign=\"top\">worker_answers</th>\n",
       "      <th>count</th>\n",
       "      <td>136.000000</td>\n",
       "      <td>195.000000</td>\n",
       "    </tr>\n",
       "    <tr>\n",
       "      <th>mean</th>\n",
       "      <td>5.073529</td>\n",
       "      <td>4.466667</td>\n",
       "    </tr>\n",
       "    <tr>\n",
       "      <th>std</th>\n",
       "      <td>4.076368</td>\n",
       "      <td>5.384463</td>\n",
       "    </tr>\n",
       "    <tr>\n",
       "      <th>min</th>\n",
       "      <td>3.000000</td>\n",
       "      <td>3.000000</td>\n",
       "    </tr>\n",
       "    <tr>\n",
       "      <th>25%</th>\n",
       "      <td>3.000000</td>\n",
       "      <td>3.000000</td>\n",
       "    </tr>\n",
       "    <tr>\n",
       "      <th>50%</th>\n",
       "      <td>3.000000</td>\n",
       "      <td>3.000000</td>\n",
       "    </tr>\n",
       "    <tr>\n",
       "      <th>75%</th>\n",
       "      <td>6.000000</td>\n",
       "      <td>3.000000</td>\n",
       "    </tr>\n",
       "    <tr>\n",
       "      <th>max</th>\n",
       "      <td>25.000000</td>\n",
       "      <td>32.000000</td>\n",
       "    </tr>\n",
       "    <tr>\n",
       "      <th rowspan=\"8\" valign=\"top\">inter_agree_workers</th>\n",
       "      <th>count</th>\n",
       "      <td>136.000000</td>\n",
       "      <td>195.000000</td>\n",
       "    </tr>\n",
       "    <tr>\n",
       "      <th>mean</th>\n",
       "      <td>0.546467</td>\n",
       "      <td>0.878759</td>\n",
       "    </tr>\n",
       "    <tr>\n",
       "      <th>std</th>\n",
       "      <td>0.182771</td>\n",
       "      <td>0.160502</td>\n",
       "    </tr>\n",
       "    <tr>\n",
       "      <th>min</th>\n",
       "      <td>0.250000</td>\n",
       "      <td>0.555556</td>\n",
       "    </tr>\n",
       "    <tr>\n",
       "      <th>25%</th>\n",
       "      <td>0.333333</td>\n",
       "      <td>0.666667</td>\n",
       "    </tr>\n",
       "    <tr>\n",
       "      <th>50%</th>\n",
       "      <td>0.666667</td>\n",
       "      <td>1.000000</td>\n",
       "    </tr>\n",
       "    <tr>\n",
       "      <th>75%</th>\n",
       "      <td>0.666667</td>\n",
       "      <td>1.000000</td>\n",
       "    </tr>\n",
       "    <tr>\n",
       "      <th>max</th>\n",
       "      <td>1.000000</td>\n",
       "      <td>1.000000</td>\n",
       "    </tr>\n",
       "    <tr>\n",
       "      <th rowspan=\"8\" valign=\"top\">#</th>\n",
       "      <th>count</th>\n",
       "      <td>136.000000</td>\n",
       "      <td>195.000000</td>\n",
       "    </tr>\n",
       "    <tr>\n",
       "      <th>mean</th>\n",
       "      <td>53.838235</td>\n",
       "      <td>46.984615</td>\n",
       "    </tr>\n",
       "    <tr>\n",
       "      <th>std</th>\n",
       "      <td>32.829576</td>\n",
       "      <td>28.026217</td>\n",
       "    </tr>\n",
       "    <tr>\n",
       "      <th>min</th>\n",
       "      <td>1.000000</td>\n",
       "      <td>1.000000</td>\n",
       "    </tr>\n",
       "    <tr>\n",
       "      <th>25%</th>\n",
       "      <td>24.750000</td>\n",
       "      <td>21.500000</td>\n",
       "    </tr>\n",
       "    <tr>\n",
       "      <th>50%</th>\n",
       "      <td>59.500000</td>\n",
       "      <td>46.000000</td>\n",
       "    </tr>\n",
       "    <tr>\n",
       "      <th>75%</th>\n",
       "      <td>82.250000</td>\n",
       "      <td>69.000000</td>\n",
       "    </tr>\n",
       "    <tr>\n",
       "      <th>max</th>\n",
       "      <td>102.000000</td>\n",
       "      <td>101.000000</td>\n",
       "    </tr>\n",
       "    <tr>\n",
       "      <th rowspan=\"8\" valign=\"top\">inter_agree_experts</th>\n",
       "      <th>count</th>\n",
       "      <td>136.000000</td>\n",
       "      <td>195.000000</td>\n",
       "    </tr>\n",
       "    <tr>\n",
       "      <th>mean</th>\n",
       "      <td>2.330882</td>\n",
       "      <td>2.538462</td>\n",
       "    </tr>\n",
       "    <tr>\n",
       "      <th>std</th>\n",
       "      <td>0.472270</td>\n",
       "      <td>0.499802</td>\n",
       "    </tr>\n",
       "    <tr>\n",
       "      <th>min</th>\n",
       "      <td>2.000000</td>\n",
       "      <td>2.000000</td>\n",
       "    </tr>\n",
       "    <tr>\n",
       "      <th>25%</th>\n",
       "      <td>2.000000</td>\n",
       "      <td>2.000000</td>\n",
       "    </tr>\n",
       "    <tr>\n",
       "      <th>50%</th>\n",
       "      <td>2.000000</td>\n",
       "      <td>3.000000</td>\n",
       "    </tr>\n",
       "    <tr>\n",
       "      <th>75%</th>\n",
       "      <td>3.000000</td>\n",
       "      <td>3.000000</td>\n",
       "    </tr>\n",
       "    <tr>\n",
       "      <th>max</th>\n",
       "      <td>3.000000</td>\n",
       "      <td>3.000000</td>\n",
       "    </tr>\n",
       "    <tr>\n",
       "      <th rowspan=\"8\" valign=\"top\">total_characters</th>\n",
       "      <th>count</th>\n",
       "      <td>136.000000</td>\n",
       "      <td>195.000000</td>\n",
       "    </tr>\n",
       "    <tr>\n",
       "      <th>mean</th>\n",
       "      <td>998.882353</td>\n",
       "      <td>1003.774359</td>\n",
       "    </tr>\n",
       "    <tr>\n",
       "      <th>std</th>\n",
       "      <td>726.064257</td>\n",
       "      <td>755.038512</td>\n",
       "    </tr>\n",
       "    <tr>\n",
       "      <th>min</th>\n",
       "      <td>81.000000</td>\n",
       "      <td>126.000000</td>\n",
       "    </tr>\n",
       "    <tr>\n",
       "      <th>25%</th>\n",
       "      <td>410.500000</td>\n",
       "      <td>464.000000</td>\n",
       "    </tr>\n",
       "    <tr>\n",
       "      <th>50%</th>\n",
       "      <td>832.000000</td>\n",
       "      <td>756.000000</td>\n",
       "    </tr>\n",
       "    <tr>\n",
       "      <th>75%</th>\n",
       "      <td>1462.500000</td>\n",
       "      <td>1327.000000</td>\n",
       "    </tr>\n",
       "    <tr>\n",
       "      <th>max</th>\n",
       "      <td>3060.000000</td>\n",
       "      <td>3511.000000</td>\n",
       "    </tr>\n",
       "    <tr>\n",
       "      <th rowspan=\"8\" valign=\"top\">total_words</th>\n",
       "      <th>count</th>\n",
       "      <td>136.000000</td>\n",
       "      <td>195.000000</td>\n",
       "    </tr>\n",
       "    <tr>\n",
       "      <th>mean</th>\n",
       "      <td>134.183824</td>\n",
       "      <td>133.717949</td>\n",
       "    </tr>\n",
       "    <tr>\n",
       "      <th>std</th>\n",
       "      <td>98.404547</td>\n",
       "      <td>99.222428</td>\n",
       "    </tr>\n",
       "    <tr>\n",
       "      <th>min</th>\n",
       "      <td>11.000000</td>\n",
       "      <td>17.000000</td>\n",
       "    </tr>\n",
       "    <tr>\n",
       "      <th>25%</th>\n",
       "      <td>56.000000</td>\n",
       "      <td>60.500000</td>\n",
       "    </tr>\n",
       "    <tr>\n",
       "      <th>50%</th>\n",
       "      <td>110.000000</td>\n",
       "      <td>99.000000</td>\n",
       "    </tr>\n",
       "    <tr>\n",
       "      <th>75%</th>\n",
       "      <td>197.000000</td>\n",
       "      <td>175.500000</td>\n",
       "    </tr>\n",
       "    <tr>\n",
       "      <th>max</th>\n",
       "      <td>381.000000</td>\n",
       "      <td>393.000000</td>\n",
       "    </tr>\n",
       "  </tbody>\n",
       "</table>\n",
       "</div>"
      ],
      "text/plain": [
       "relation_match                   False        True \n",
       "worker_answers      count   136.000000   195.000000\n",
       "                    mean      5.073529     4.466667\n",
       "                    std       4.076368     5.384463\n",
       "                    min       3.000000     3.000000\n",
       "                    25%       3.000000     3.000000\n",
       "                    50%       3.000000     3.000000\n",
       "                    75%       6.000000     3.000000\n",
       "                    max      25.000000    32.000000\n",
       "inter_agree_workers count   136.000000   195.000000\n",
       "                    mean      0.546467     0.878759\n",
       "                    std       0.182771     0.160502\n",
       "                    min       0.250000     0.555556\n",
       "                    25%       0.333333     0.666667\n",
       "                    50%       0.666667     1.000000\n",
       "                    75%       0.666667     1.000000\n",
       "                    max       1.000000     1.000000\n",
       "#                   count   136.000000   195.000000\n",
       "                    mean     53.838235    46.984615\n",
       "                    std      32.829576    28.026217\n",
       "                    min       1.000000     1.000000\n",
       "                    25%      24.750000    21.500000\n",
       "                    50%      59.500000    46.000000\n",
       "                    75%      82.250000    69.000000\n",
       "                    max     102.000000   101.000000\n",
       "inter_agree_experts count   136.000000   195.000000\n",
       "                    mean      2.330882     2.538462\n",
       "                    std       0.472270     0.499802\n",
       "                    min       2.000000     2.000000\n",
       "                    25%       2.000000     2.000000\n",
       "                    50%       2.000000     3.000000\n",
       "                    75%       3.000000     3.000000\n",
       "                    max       3.000000     3.000000\n",
       "total_characters    count   136.000000   195.000000\n",
       "                    mean    998.882353  1003.774359\n",
       "                    std     726.064257   755.038512\n",
       "                    min      81.000000   126.000000\n",
       "                    25%     410.500000   464.000000\n",
       "                    50%     832.000000   756.000000\n",
       "                    75%    1462.500000  1327.000000\n",
       "                    max    3060.000000  3511.000000\n",
       "total_words         count   136.000000   195.000000\n",
       "                    mean    134.183824   133.717949\n",
       "                    std      98.404547    99.222428\n",
       "                    min      11.000000    17.000000\n",
       "                    25%      56.000000    60.500000\n",
       "                    50%     110.000000    99.000000\n",
       "                    75%     197.000000   175.500000\n",
       "                    max     381.000000   393.000000"
      ]
     },
     "execution_count": 19,
     "metadata": {},
     "output_type": "execute_result"
    }
   ],
   "source": [
    "subset_consensus.groupby('relation_match').describe().T#.reset_index()"
   ]
  },
  {
   "cell_type": "markdown",
   "metadata": {},
   "source": [
    "## Statistical difference in means"
   ]
  },
  {
   "cell_type": "code",
   "execution_count": 20,
   "metadata": {},
   "outputs": [],
   "source": [
    "subset_matches = subset_consensus[subset_consensus['relation_match']==True]\n",
    "subset_missmatches = subset_consensus[subset_consensus['relation_match']==False]"
   ]
  },
  {
   "cell_type": "code",
   "execution_count": 21,
   "metadata": {},
   "outputs": [],
   "source": [
    "from scipy import stats"
   ]
  },
  {
   "cell_type": "code",
   "execution_count": 22,
   "metadata": {},
   "outputs": [
    {
     "name": "stdout",
     "output_type": "stream",
     "text": [
      "average workers interate agreement on success: 0.8787588025787679\n",
      "average workers interate agreement on failure: 0.5464665032679741\n"
     ]
    },
    {
     "name": "stderr",
     "output_type": "stream",
     "text": [
      "/Users/remzicelebi/opt/anaconda3/lib/python3.8/site-packages/seaborn/distributions.py:347: UserWarning: Attempting to set identical bottom == top == 0 results in singular transformations; automatically expanding.\n",
      "  ax.set_ylim(0, auto=None)\n"
     ]
    },
    {
     "data": {
      "text/plain": [
       "Ttest_indResult(statistic=17.097245704059148, pvalue=1.0313095811028641e-44)"
      ]
     },
     "execution_count": 22,
     "metadata": {},
     "output_type": "execute_result"
    }
   ],
   "source": [
    "# T-test with different means, variance, and n:\n",
    "workers_succeed = subset_matches.inter_agree_workers\n",
    "workers_failed = subset_missmatches.inter_agree_workers\n",
    "sns.distplot(workers_succeed)\n",
    "sns.distplot(workers_failed, color='r')\n",
    "print('average workers interate agreement on success: {}\\naverage workers interate agreement on failure: {}'\\\n",
    "          .format(workers_succeed.mean(),workers_failed.mean()))\n",
    "stats.ttest_ind(workers_succeed, workers_failed, equal_var = False)"
   ]
  },
  {
   "cell_type": "markdown",
   "metadata": {},
   "source": [
    "**Workers perform as good as experts when there is more agreement among workers**"
   ]
  },
  {
   "cell_type": "code",
   "execution_count": 23,
   "metadata": {},
   "outputs": [
    {
     "name": "stdout",
     "output_type": "stream",
     "text": [
      "average experts interate agreement on success: 2.5384615384615383\n",
      "average experts interate agreement on failure: 2.3308823529411766\n"
     ]
    },
    {
     "data": {
      "text/plain": [
       "Ttest_indResult(statistic=3.840748614415999, pvalue=0.00014961692310083333)"
      ]
     },
     "execution_count": 23,
     "metadata": {},
     "output_type": "execute_result"
    }
   ],
   "source": [
    "# T-test with different means, variance, and n:\n",
    "workers_succeed = subset_matches.inter_agree_experts\n",
    "workers_failed = subset_missmatches.inter_agree_experts\n",
    "sns.distplot(workers_succeed)\n",
    "sns.distplot(workers_failed, color='r')\n",
    "print('average experts interate agreement on success: {}\\naverage experts interate agreement on failure: {}'\\\n",
    "          .format(workers_succeed.mean(),workers_failed.mean()))\n",
    "stats.ttest_ind(workers_succeed, workers_failed, equal_var = False)"
   ]
  },
  {
   "cell_type": "markdown",
   "metadata": {},
   "source": [
    "**Workers perform as good as experts when there is more agreement among experts also**"
   ]
  },
  {
   "cell_type": "code",
   "execution_count": 24,
   "metadata": {},
   "outputs": [
    {
     "name": "stdout",
     "output_type": "stream",
     "text": [
      "average total words on success: 133.71794871794873\n",
      "average total words on failure: 134.18382352941177\n"
     ]
    },
    {
     "data": {
      "text/plain": [
       "Ttest_indResult(statistic=-0.04223209722337519, pvalue=0.966342526462888)"
      ]
     },
     "execution_count": 24,
     "metadata": {},
     "output_type": "execute_result"
    }
   ],
   "source": [
    "# T-test with different means, variance, and n:\n",
    "workers_succeed = subset_matches.total_words\n",
    "workers_failed = subset_missmatches.total_words\n",
    "sns.distplot(workers_succeed)\n",
    "sns.distplot(workers_failed, color='r')\n",
    "print('average total words on success: {}\\naverage total words on failure: {}'\\\n",
    "          .format(workers_succeed.mean(),workers_failed.mean()))\n",
    "stats.ttest_ind(workers_succeed, workers_failed, equal_var = False)"
   ]
  },
  {
   "cell_type": "markdown",
   "metadata": {},
   "source": [
    "**It does not matter the number of words in the text on workers successes**"
   ]
  },
  {
   "cell_type": "code",
   "execution_count": 25,
   "metadata": {},
   "outputs": [
    {
     "name": "stdout",
     "output_type": "stream",
     "text": [
      "average total characters on success: 1003.774358974359\n",
      "average total characters on failure: 998.8823529411765\n"
     ]
    },
    {
     "data": {
      "text/plain": [
       "Ttest_indResult(statistic=0.05932538525026393, pvalue=0.9527327562649665)"
      ]
     },
     "execution_count": 25,
     "metadata": {},
     "output_type": "execute_result"
    }
   ],
   "source": [
    "# T-test with different means, variance, and n:\n",
    "workers_succeed = subset_matches.total_characters\n",
    "workers_failed = subset_missmatches.total_characters\n",
    "sns.distplot(workers_succeed)\n",
    "sns.distplot(workers_failed, color='r')\n",
    "print('average total characters on success: {}\\naverage total characters on failure: {}'\\\n",
    "          .format(workers_succeed.mean(),workers_failed.mean()))\n",
    "stats.ttest_ind(workers_succeed, workers_failed, equal_var = False)"
   ]
  },
  {
   "cell_type": "markdown",
   "metadata": {},
   "source": [
    "**It does not matter the lenght of characters in the text on workers successes**"
   ]
  },
  {
   "cell_type": "markdown",
   "metadata": {},
   "source": [
    "---\n",
    "### Can we predict the crowd will perform as good as an expert based on the features"
   ]
  },
  {
   "cell_type": "code",
   "execution_count": 27,
   "metadata": {},
   "outputs": [
    {
     "name": "stdout",
     "output_type": "stream",
     "text": [
      "Accuracy: 79.09%\n"
     ]
    },
    {
     "name": "stderr",
     "output_type": "stream",
     "text": [
      "/Users/remzicelebi/opt/anaconda3/lib/python3.8/site-packages/pandas/core/generic.py:5159: SettingWithCopyWarning: \n",
      "A value is trying to be set on a copy of a slice from a DataFrame.\n",
      "Try using .loc[row_indexer,col_indexer] = value instead\n",
      "\n",
      "See the caveats in the documentation: https://pandas.pydata.org/pandas-docs/stable/user_guide/indexing.html#returning-a-view-versus-a-copy\n",
      "  self[name] = value\n"
     ]
    }
   ],
   "source": [
    "# RandomForestClassifier\n",
    "from sklearn.model_selection import train_test_split\n",
    "from sklearn.ensemble import RandomForestClassifier\n",
    "from sklearn.metrics import accuracy_score\n",
    "# split data into X and y\n",
    "features = ['inter_agree_workers','total_characters','total_words','worker_consensus']\n",
    "X = subset_consensus[features]\n",
    "X.worker_consensus = X.worker_consensus.replace({'No consensus':0, 'Effect':1, 'Contraindication':2,\n",
    "       'Indication: Treatment':3, 'Indication: Symptomatic Relief':4})\n",
    "Y = subset_consensus['relation_match']\n",
    "# split data into train and test sets\n",
    "seed = 7\n",
    "test_size = 0.33\n",
    "X_train, X_test, y_train, y_test = train_test_split(X, Y, test_size=test_size, random_state=seed)\n",
    "# fit model no training data\n",
    "model = RandomForestClassifier()\n",
    "model.fit(X_train, y_train)\n",
    "# make predictions for test data\n",
    "y_pred = model.predict(X_test)\n",
    "predictions = [round(value) for value in y_pred]\n",
    "# evaluate predictions\n",
    "accuracy = accuracy_score(y_test, predictions)\n",
    "print(\"Accuracy: %.2f%%\" % (accuracy * 100.0))"
   ]
  },
  {
   "cell_type": "code",
   "execution_count": 28,
   "metadata": {},
   "outputs": [
    {
     "data": {
      "text/html": [
       "<div>\n",
       "<style scoped>\n",
       "    .dataframe tbody tr th:only-of-type {\n",
       "        vertical-align: middle;\n",
       "    }\n",
       "\n",
       "    .dataframe tbody tr th {\n",
       "        vertical-align: top;\n",
       "    }\n",
       "\n",
       "    .dataframe thead th {\n",
       "        text-align: right;\n",
       "    }\n",
       "</style>\n",
       "<table border=\"1\" class=\"dataframe\">\n",
       "  <thead>\n",
       "    <tr style=\"text-align: right;\">\n",
       "      <th></th>\n",
       "      <th>do_id</th>\n",
       "      <th>drug_id</th>\n",
       "      <th>label_id</th>\n",
       "      <th>context_x</th>\n",
       "      <th>worker_answers</th>\n",
       "      <th>inter_agree_workers</th>\n",
       "      <th>worker_consensus</th>\n",
       "      <th>#</th>\n",
       "      <th>context_y</th>\n",
       "      <th>disease_name</th>\n",
       "      <th>drug_name</th>\n",
       "      <th>drug_brand_name</th>\n",
       "      <th>sheet</th>\n",
       "      <th>expert_consensus</th>\n",
       "      <th>inter_agree_experts</th>\n",
       "      <th>relation_match</th>\n",
       "      <th>total_characters</th>\n",
       "      <th>total_words</th>\n",
       "    </tr>\n",
       "  </thead>\n",
       "  <tbody>\n",
       "    <tr>\n",
       "      <th>0</th>\n",
       "      <td>DOID_0050451</td>\n",
       "      <td>DB01182</td>\n",
       "      <td>../DailyMedExtracter/prescription/temp_xml/71d...</td>\n",
       "      <td>['Propafenone hydrochloride is contraindicated...</td>\n",
       "      <td>6</td>\n",
       "      <td>0.333333</td>\n",
       "      <td>No consensus</td>\n",
       "      <td>84.0</td>\n",
       "      <td>['Propafenone hydrochloride is contraindicated...</td>\n",
       "      <td>BRUGADA SYNDROME</td>\n",
       "      <td>Propafenone HCl</td>\n",
       "      <td>NaN</td>\n",
       "      <td>indication_symptomatic_relief</td>\n",
       "      <td>Contraindication</td>\n",
       "      <td>2</td>\n",
       "      <td>False</td>\n",
       "      <td>929</td>\n",
       "      <td>116</td>\n",
       "    </tr>\n",
       "    <tr>\n",
       "      <th>1</th>\n",
       "      <td>DOID_0050700</td>\n",
       "      <td>DB00445</td>\n",
       "      <td>../DailyMedExtracter/prescription/temp_xml/4f9...</td>\n",
       "      <td>Patients should not be treated with epirubicin...</td>\n",
       "      <td>9</td>\n",
       "      <td>0.333333</td>\n",
       "      <td>No consensus</td>\n",
       "      <td>69.0</td>\n",
       "      <td>Patients should not be treated with epirubicin...</td>\n",
       "      <td>CARDIOMYOPATHY</td>\n",
       "      <td>Epirubicin Hydrochloride</td>\n",
       "      <td>NaN</td>\n",
       "      <td>indication_symptomatic_relief</td>\n",
       "      <td>Contraindication</td>\n",
       "      <td>2</td>\n",
       "      <td>False</td>\n",
       "      <td>665</td>\n",
       "      <td>82</td>\n",
       "    </tr>\n",
       "    <tr>\n",
       "      <th>2</th>\n",
       "      <td>DOID_0050820</td>\n",
       "      <td>DB01182</td>\n",
       "      <td>../DailyMedExtracter/prescription/temp_xml/71d...</td>\n",
       "      <td>['Propafenone hydrochloride is contraindicated...</td>\n",
       "      <td>3</td>\n",
       "      <td>0.666667</td>\n",
       "      <td>Effect</td>\n",
       "      <td>98.0</td>\n",
       "      <td>['Propafenone hydrochloride is contraindicated...</td>\n",
       "      <td>AV BLOCK</td>\n",
       "      <td>PROPAFENONE</td>\n",
       "      <td>Propafenone HCl</td>\n",
       "      <td>effect</td>\n",
       "      <td>Contraindication</td>\n",
       "      <td>2</td>\n",
       "      <td>False</td>\n",
       "      <td>929</td>\n",
       "      <td>116</td>\n",
       "    </tr>\n",
       "    <tr>\n",
       "      <th>3</th>\n",
       "      <td>DOID_0050820</td>\n",
       "      <td>DB00187</td>\n",
       "      <td>../DailyMedExtracter/prescription/temp_xml/6bb...</td>\n",
       "      <td>['Esmolol hydrochloride injection is contraind...</td>\n",
       "      <td>3</td>\n",
       "      <td>0.666667</td>\n",
       "      <td>Contraindication</td>\n",
       "      <td>55.0</td>\n",
       "      <td>['Esmolol hydrochloride injection is contraind...</td>\n",
       "      <td>ATRIOVENTRICULAR BLOCK</td>\n",
       "      <td>ESMOLOL</td>\n",
       "      <td>Esmolol Hydrochloride</td>\n",
       "      <td>contraindication</td>\n",
       "      <td>Contraindication</td>\n",
       "      <td>2</td>\n",
       "      <td>True</td>\n",
       "      <td>1882</td>\n",
       "      <td>262</td>\n",
       "    </tr>\n",
       "    <tr>\n",
       "      <th>4</th>\n",
       "      <td>DOID_0050820</td>\n",
       "      <td>DB00343</td>\n",
       "      <td>../DailyMedExtracter/prescription/temp_xml/10d...</td>\n",
       "      <td>Diltiazem hydrochloride injection is contraind...</td>\n",
       "      <td>3</td>\n",
       "      <td>0.666667</td>\n",
       "      <td>Effect</td>\n",
       "      <td>98.0</td>\n",
       "      <td>Diltiazem hydrochloride injection is contraind...</td>\n",
       "      <td>AV BLOCK</td>\n",
       "      <td>DILTIAZEM</td>\n",
       "      <td>Diltiazem Hydrochloride</td>\n",
       "      <td>contraindication</td>\n",
       "      <td>Contraindication</td>\n",
       "      <td>3</td>\n",
       "      <td>False</td>\n",
       "      <td>1759</td>\n",
       "      <td>230</td>\n",
       "    </tr>\n",
       "  </tbody>\n",
       "</table>\n",
       "</div>"
      ],
      "text/plain": [
       "          do_id  drug_id                                           label_id  \\\n",
       "0  DOID_0050451  DB01182  ../DailyMedExtracter/prescription/temp_xml/71d...   \n",
       "1  DOID_0050700  DB00445  ../DailyMedExtracter/prescription/temp_xml/4f9...   \n",
       "2  DOID_0050820  DB01182  ../DailyMedExtracter/prescription/temp_xml/71d...   \n",
       "3  DOID_0050820  DB00187  ../DailyMedExtracter/prescription/temp_xml/6bb...   \n",
       "4  DOID_0050820  DB00343  ../DailyMedExtracter/prescription/temp_xml/10d...   \n",
       "\n",
       "                                           context_x  worker_answers  \\\n",
       "0  ['Propafenone hydrochloride is contraindicated...               6   \n",
       "1  Patients should not be treated with epirubicin...               9   \n",
       "2  ['Propafenone hydrochloride is contraindicated...               3   \n",
       "3  ['Esmolol hydrochloride injection is contraind...               3   \n",
       "4  Diltiazem hydrochloride injection is contraind...               3   \n",
       "\n",
       "   inter_agree_workers  worker_consensus     #  \\\n",
       "0             0.333333      No consensus  84.0   \n",
       "1             0.333333      No consensus  69.0   \n",
       "2             0.666667            Effect  98.0   \n",
       "3             0.666667  Contraindication  55.0   \n",
       "4             0.666667            Effect  98.0   \n",
       "\n",
       "                                           context_y            disease_name  \\\n",
       "0  ['Propafenone hydrochloride is contraindicated...        BRUGADA SYNDROME   \n",
       "1  Patients should not be treated with epirubicin...          CARDIOMYOPATHY   \n",
       "2  ['Propafenone hydrochloride is contraindicated...                AV BLOCK   \n",
       "3  ['Esmolol hydrochloride injection is contraind...  ATRIOVENTRICULAR BLOCK   \n",
       "4  Diltiazem hydrochloride injection is contraind...                AV BLOCK   \n",
       "\n",
       "                  drug_name          drug_brand_name  \\\n",
       "0           Propafenone HCl                      NaN   \n",
       "1  Epirubicin Hydrochloride                      NaN   \n",
       "2               PROPAFENONE          Propafenone HCl   \n",
       "3                   ESMOLOL    Esmolol Hydrochloride   \n",
       "4                 DILTIAZEM  Diltiazem Hydrochloride   \n",
       "\n",
       "                           sheet  expert_consensus  inter_agree_experts  \\\n",
       "0  indication_symptomatic_relief  Contraindication                    2   \n",
       "1  indication_symptomatic_relief  Contraindication                    2   \n",
       "2                         effect  Contraindication                    2   \n",
       "3               contraindication  Contraindication                    2   \n",
       "4               contraindication  Contraindication                    3   \n",
       "\n",
       "   relation_match  total_characters  total_words  \n",
       "0           False               929          116  \n",
       "1           False               665           82  \n",
       "2           False               929          116  \n",
       "3            True              1882          262  \n",
       "4           False              1759          230  "
      ]
     },
     "execution_count": 28,
     "metadata": {},
     "output_type": "execute_result"
    }
   ],
   "source": [
    "subset_consensus.head()"
   ]
  },
  {
   "cell_type": "code",
   "execution_count": 29,
   "metadata": {},
   "outputs": [],
   "source": [
    "cmx = ConfusionMatrix([float(i ==True) for i in y_test], list(predictions)) "
   ]
  },
  {
   "cell_type": "code",
   "execution_count": 30,
   "metadata": {},
   "outputs": [
    {
     "data": {
      "text/plain": [
       "<matplotlib.axes._subplots.AxesSubplot at 0x7fc27c2e24f0>"
      ]
     },
     "execution_count": 30,
     "metadata": {},
     "output_type": "execute_result"
    }
   ],
   "source": [
    "sns.heatmap(pd.DataFrame(cmx.table), annot=True, cmap=\"YlGnBu\")"
   ]
  },
  {
   "cell_type": "code",
   "execution_count": null,
   "metadata": {},
   "outputs": [],
   "source": []
  }
 ],
 "metadata": {
  "kernelspec": {
   "display_name": "Python 3",
   "language": "python",
   "name": "python3"
  },
  "language_info": {
   "codemirror_mode": {
    "name": "ipython",
    "version": 3
   },
   "file_extension": ".py",
   "mimetype": "text/x-python",
   "name": "python",
   "nbconvert_exporter": "python",
   "pygments_lexer": "ipython3",
   "version": "3.8.3"
  },
  "nteract": {
   "version": "0.15.0"
  }
 },
 "nbformat": 4,
 "nbformat_minor": 4
}
