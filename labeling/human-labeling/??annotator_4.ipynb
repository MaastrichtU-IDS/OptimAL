{
 "cells": [
  {
   "cell_type": "code",
   "execution_count": 1,
   "metadata": {},
   "outputs": [],
   "source": [
    "import pandas as pd"
   ]
  },
  {
   "cell_type": "code",
   "execution_count": 2,
   "metadata": {
    "scrolled": true
   },
   "outputs": [],
   "source": [
    "expert = pd.read_csv('../data/expert/expert_table.csv')\n",
    "marwa = pd.read_excel('../data/expert/Medical Expert Annotation 4.xlsx', sheet_name='Sheet1')\n",
    "\n",
    "#get the indices of the ones that 2 out of three agree\n",
    "two_out_of_three = expert.index[expert['inter_agree_experts'] == 2].tolist()"
   ]
  },
  {
   "cell_type": "code",
   "execution_count": 3,
   "metadata": {},
   "outputs": [
    {
     "data": {
      "text/plain": [
       "Indication: Treatment             128\n",
       "Contraindication                  107\n",
       "Indication: Symptomatic Relief     49\n",
       "Effect                             47\n",
       "No consensus                       28\n",
       "Name: expert_consensus, dtype: int64"
      ]
     },
     "execution_count": 3,
     "metadata": {},
     "output_type": "execute_result"
    }
   ],
   "source": [
    "# Check the names of the classes and make them the same for the two sets\n",
    "expert['expert_consensus'].value_counts()"
   ]
  },
  {
   "cell_type": "code",
   "execution_count": 4,
   "metadata": {},
   "outputs": [
    {
     "data": {
      "text/plain": [
       "contraindication                 43\n",
       "indication_treatment             39\n",
       "indication_symptomatic_relief    34\n",
       "Contraindication                 10\n",
       "effect                            9\n",
       "contraindicated                   5\n",
       "Effect                            3\n",
       "Name: Medical Expert, dtype: int64"
      ]
     },
     "execution_count": 4,
     "metadata": {},
     "output_type": "execute_result"
    }
   ],
   "source": [
    "#marwa = pd.read_csv('Medical Expert Annotation 4 - Sheet1.csv')\n",
    "marwa['Medical Expert'].value_counts()"
   ]
  },
  {
   "cell_type": "code",
   "execution_count": 5,
   "metadata": {},
   "outputs": [],
   "source": [
    "def rep(text):\n",
    "    a = text.replace('contraindication', 'Contraindication')\n",
    "    b = a.replace('contraindicated', 'Contraindication')\n",
    "    c = b.replace('indication_treatment', 'Indication: Treatment')\n",
    "    d = c.replace('indication_symptomatic_relief', 'Indication: Symptomatic Relief ')\n",
    "    e = d.replace('effect', 'Effect')\n",
    "    return e"
   ]
  },
  {
   "cell_type": "code",
   "execution_count": 6,
   "metadata": {},
   "outputs": [
    {
     "name": "stderr",
     "output_type": "stream",
     "text": [
      "<ipython-input-6-90e89bee7b81>:3: SettingWithCopyWarning: \n",
      "A value is trying to be set on a copy of a slice from a DataFrame\n",
      "\n",
      "See the caveats in the documentation: https://pandas.pydata.org/pandas-docs/stable/user_guide/indexing.html#returning-a-view-versus-a-copy\n",
      "  marwa['Medical Expert'][i] = rep(marwa['Medical Expert'])\n",
      "/Users/remzicelebi/opt/anaconda3/lib/python3.8/site-packages/pandas/core/missing.py:49: FutureWarning: elementwise comparison failed; returning scalar instead, but in the future will perform elementwise comparison\n",
      "  mask = arr == x\n"
     ]
    }
   ],
   "source": [
    "for i in range(len(marwa)):\n",
    "    try:\n",
    "        marwa['Medical Expert'][i] = rep(marwa['Medical Expert'])\n",
    "    except:\n",
    "        pass"
   ]
  },
  {
   "cell_type": "code",
   "execution_count": null,
   "metadata": {},
   "outputs": [
    {
     "ename": "TypeError",
     "evalue": "'Series' objects are mutable, thus they cannot be hashed",
     "output_type": "error",
     "traceback": [
      "\u001b[0;31m---------------------------------------------------------------------------\u001b[0m",
      "\u001b[0;31mTypeError\u001b[0m                                 Traceback (most recent call last)",
      "\u001b[0;32mpandas/_libs/hashtable_class_helper.pxi\u001b[0m in \u001b[0;36mpandas._libs.hashtable.PyObjectHashTable.map_locations\u001b[0;34m()\u001b[0m\n",
      "\u001b[0;32m~/opt/anaconda3/lib/python3.8/site-packages/pandas/core/generic.py\u001b[0m in \u001b[0;36m__hash__\u001b[0;34m(self)\u001b[0m\n\u001b[1;32m   1663\u001b[0m \u001b[0;34m\u001b[0m\u001b[0m\n\u001b[1;32m   1664\u001b[0m     \u001b[0;32mdef\u001b[0m \u001b[0m__hash__\u001b[0m\u001b[0;34m(\u001b[0m\u001b[0mself\u001b[0m\u001b[0;34m)\u001b[0m\u001b[0;34m:\u001b[0m\u001b[0;34m\u001b[0m\u001b[0;34m\u001b[0m\u001b[0m\n\u001b[0;32m-> 1665\u001b[0;31m         raise TypeError(\n\u001b[0m\u001b[1;32m   1666\u001b[0m             \u001b[0;34mf\"{repr(type(self).__name__)} objects are mutable, \"\u001b[0m\u001b[0;34m\u001b[0m\u001b[0;34m\u001b[0m\u001b[0m\n\u001b[1;32m   1667\u001b[0m             \u001b[0;34mf\"thus they cannot be hashed\"\u001b[0m\u001b[0;34m\u001b[0m\u001b[0;34m\u001b[0m\u001b[0m\n",
      "\u001b[0;31mTypeError\u001b[0m: 'Series' objects are mutable, thus they cannot be hashed"
     ]
    },
    {
     "name": "stderr",
     "output_type": "stream",
     "text": [
      "Exception ignored in: 'pandas._libs.index.IndexEngine._call_map_locations'\n",
      "Traceback (most recent call last):\n",
      "  File \"pandas/_libs/hashtable_class_helper.pxi\", line 1709, in pandas._libs.hashtable.PyObjectHashTable.map_locations\n",
      "  File \"/Users/remzicelebi/opt/anaconda3/lib/python3.8/site-packages/pandas/core/generic.py\", line 1665, in __hash__\n",
      "    raise TypeError(\n",
      "TypeError: 'Series' objects are mutable, thus they cannot be hashed\n"
     ]
    }
   ],
   "source": [
    "marwa['Medical Expert'].value_counts()"
   ]
  },
  {
   "cell_type": "code",
   "execution_count": null,
   "metadata": {},
   "outputs": [],
   "source": [
    "# Find the indices that the 4th curator does not agree with the 2 out of 3 and drop them from the initial \n",
    "to_be_discarted= []\n",
    "for i,j in zip(two_out_of_three, range(len(marwa))):\n",
    "    if expert['expert_consensus'][i] !=  marwa['Medical Expert'][j]:\n",
    "        to_be_discarted.append(i)\n",
    "        "
   ]
  },
  {
   "cell_type": "code",
   "execution_count": null,
   "metadata": {},
   "outputs": [],
   "source": [
    "expert = expert.drop(to_be_discarted).reset_index(drop = True)"
   ]
  },
  {
   "cell_type": "code",
   "execution_count": null,
   "metadata": {},
   "outputs": [],
   "source": []
  },
  {
   "cell_type": "code",
   "execution_count": null,
   "metadata": {},
   "outputs": [],
   "source": []
  }
 ],
 "metadata": {
  "kernelspec": {
   "display_name": "Python 3",
   "language": "python",
   "name": "python3"
  },
  "language_info": {
   "codemirror_mode": {
    "name": "ipython",
    "version": 3
   },
   "file_extension": ".py",
   "mimetype": "text/x-python",
   "name": "python",
   "nbconvert_exporter": "python",
   "pygments_lexer": "ipython3",
   "version": "3.8.3"
  }
 },
 "nbformat": 4,
 "nbformat_minor": 4
}
