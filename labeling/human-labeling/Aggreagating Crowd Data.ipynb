{
 "cells": [
  {
   "cell_type": "code",
   "execution_count": 1,
   "metadata": {},
   "outputs": [],
   "source": [
    "import pandas as pd"
   ]
  },
  {
   "cell_type": "code",
   "execution_count": 2,
   "metadata": {},
   "outputs": [],
   "source": [
    "#pd.set_option(\"display.max_colwidth\", 0)"
   ]
  },
  {
   "cell_type": "code",
   "execution_count": 3,
   "metadata": {},
   "outputs": [
    {
     "data": {
      "text/html": [
       "<div>\n",
       "<style scoped>\n",
       "    .dataframe tbody tr th:only-of-type {\n",
       "        vertical-align: middle;\n",
       "    }\n",
       "\n",
       "    .dataframe tbody tr th {\n",
       "        vertical-align: top;\n",
       "    }\n",
       "\n",
       "    .dataframe thead th {\n",
       "        text-align: right;\n",
       "    }\n",
       "</style>\n",
       "<table border=\"1\" class=\"dataframe\">\n",
       "  <thead>\n",
       "    <tr style=\"text-align: right;\">\n",
       "      <th></th>\n",
       "      <th>HITId</th>\n",
       "      <th>HITTypeId</th>\n",
       "      <th>Title</th>\n",
       "      <th>Description</th>\n",
       "      <th>Keywords</th>\n",
       "      <th>Reward</th>\n",
       "      <th>CreationTime</th>\n",
       "      <th>MaxAssignments</th>\n",
       "      <th>RequesterAnnotation</th>\n",
       "      <th>AssignmentDurationInSeconds</th>\n",
       "      <th>...</th>\n",
       "      <th>Input.Drug_Brand_Name</th>\n",
       "      <th>Input.atc_label</th>\n",
       "      <th>Input.ATC_LEVEL_0</th>\n",
       "      <th>Input.DieaseName</th>\n",
       "      <th>Input.WordCount</th>\n",
       "      <th>Input.Set_ID</th>\n",
       "      <th>Input.Section</th>\n",
       "      <th>Answer.category.label</th>\n",
       "      <th>Approve</th>\n",
       "      <th>Reject</th>\n",
       "    </tr>\n",
       "  </thead>\n",
       "  <tbody>\n",
       "    <tr>\n",
       "      <th>0</th>\n",
       "      <td>301KG0KX9CLEJJQDZTVL1TQJDT3H2D</td>\n",
       "      <td>35NE15Q62B2VZKMWZRZMWJ35EHVT7Y</td>\n",
       "      <td>Identify the relation between a drug and disease</td>\n",
       "      <td>We need your help in categorizing the type of ...</td>\n",
       "      <td>terms, classify, group</td>\n",
       "      <td>$0.05</td>\n",
       "      <td>Tue Dec 10 12:11:58 PST 2019</td>\n",
       "      <td>5</td>\n",
       "      <td>BatchId:3865212;OriginalHitTemplateId:920937336;</td>\n",
       "      <td>60</td>\n",
       "      <td>...</td>\n",
       "      <td>Ciclopirox</td>\n",
       "      <td>D01AE14</td>\n",
       "      <td>D</td>\n",
       "      <td>epilepsy</td>\n",
       "      <td>228</td>\n",
       "      <td>2c67dd09-ab1f-4ccf-97b5-421356f64f22</td>\n",
       "      <td>Indication</td>\n",
       "      <td>Indication: treatment</td>\n",
       "      <td>NaN</td>\n",
       "      <td>NaN</td>\n",
       "    </tr>\n",
       "    <tr>\n",
       "      <th>1</th>\n",
       "      <td>301KG0KX9CLEJJQDZTVL1TQJDT3H2D</td>\n",
       "      <td>35NE15Q62B2VZKMWZRZMWJ35EHVT7Y</td>\n",
       "      <td>Identify the relation between a drug and disease</td>\n",
       "      <td>We need your help in categorizing the type of ...</td>\n",
       "      <td>terms, classify, group</td>\n",
       "      <td>$0.05</td>\n",
       "      <td>Tue Dec 10 12:11:58 PST 2019</td>\n",
       "      <td>5</td>\n",
       "      <td>BatchId:3865212;OriginalHitTemplateId:920937336;</td>\n",
       "      <td>60</td>\n",
       "      <td>...</td>\n",
       "      <td>Ciclopirox</td>\n",
       "      <td>D01AE14</td>\n",
       "      <td>D</td>\n",
       "      <td>epilepsy</td>\n",
       "      <td>228</td>\n",
       "      <td>2c67dd09-ab1f-4ccf-97b5-421356f64f22</td>\n",
       "      <td>Indication</td>\n",
       "      <td>Contraindication</td>\n",
       "      <td>NaN</td>\n",
       "      <td>NaN</td>\n",
       "    </tr>\n",
       "    <tr>\n",
       "      <th>2</th>\n",
       "      <td>301KG0KX9CLEJJQDZTVL1TQJDT3H2D</td>\n",
       "      <td>35NE15Q62B2VZKMWZRZMWJ35EHVT7Y</td>\n",
       "      <td>Identify the relation between a drug and disease</td>\n",
       "      <td>We need your help in categorizing the type of ...</td>\n",
       "      <td>terms, classify, group</td>\n",
       "      <td>$0.05</td>\n",
       "      <td>Tue Dec 10 12:11:58 PST 2019</td>\n",
       "      <td>5</td>\n",
       "      <td>BatchId:3865212;OriginalHitTemplateId:920937336;</td>\n",
       "      <td>60</td>\n",
       "      <td>...</td>\n",
       "      <td>Ciclopirox</td>\n",
       "      <td>D01AE14</td>\n",
       "      <td>D</td>\n",
       "      <td>epilepsy</td>\n",
       "      <td>228</td>\n",
       "      <td>2c67dd09-ab1f-4ccf-97b5-421356f64f22</td>\n",
       "      <td>Indication</td>\n",
       "      <td>Effect</td>\n",
       "      <td>NaN</td>\n",
       "      <td>NaN</td>\n",
       "    </tr>\n",
       "    <tr>\n",
       "      <th>3</th>\n",
       "      <td>301KG0KX9CLEJJQDZTVL1TQJDT3H2D</td>\n",
       "      <td>35NE15Q62B2VZKMWZRZMWJ35EHVT7Y</td>\n",
       "      <td>Identify the relation between a drug and disease</td>\n",
       "      <td>We need your help in categorizing the type of ...</td>\n",
       "      <td>terms, classify, group</td>\n",
       "      <td>$0.05</td>\n",
       "      <td>Tue Dec 10 12:11:58 PST 2019</td>\n",
       "      <td>5</td>\n",
       "      <td>BatchId:3865212;OriginalHitTemplateId:920937336;</td>\n",
       "      <td>60</td>\n",
       "      <td>...</td>\n",
       "      <td>Ciclopirox</td>\n",
       "      <td>D01AE14</td>\n",
       "      <td>D</td>\n",
       "      <td>epilepsy</td>\n",
       "      <td>228</td>\n",
       "      <td>2c67dd09-ab1f-4ccf-97b5-421356f64f22</td>\n",
       "      <td>Indication</td>\n",
       "      <td>Contraindication</td>\n",
       "      <td>NaN</td>\n",
       "      <td>NaN</td>\n",
       "    </tr>\n",
       "    <tr>\n",
       "      <th>4</th>\n",
       "      <td>301KG0KX9CLEJJQDZTVL1TQJDT3H2D</td>\n",
       "      <td>35NE15Q62B2VZKMWZRZMWJ35EHVT7Y</td>\n",
       "      <td>Identify the relation between a drug and disease</td>\n",
       "      <td>We need your help in categorizing the type of ...</td>\n",
       "      <td>terms, classify, group</td>\n",
       "      <td>$0.05</td>\n",
       "      <td>Tue Dec 10 12:11:58 PST 2019</td>\n",
       "      <td>5</td>\n",
       "      <td>BatchId:3865212;OriginalHitTemplateId:920937336;</td>\n",
       "      <td>60</td>\n",
       "      <td>...</td>\n",
       "      <td>Ciclopirox</td>\n",
       "      <td>D01AE14</td>\n",
       "      <td>D</td>\n",
       "      <td>epilepsy</td>\n",
       "      <td>228</td>\n",
       "      <td>2c67dd09-ab1f-4ccf-97b5-421356f64f22</td>\n",
       "      <td>Indication</td>\n",
       "      <td>I dont know</td>\n",
       "      <td>NaN</td>\n",
       "      <td>NaN</td>\n",
       "    </tr>\n",
       "  </tbody>\n",
       "</table>\n",
       "<p>5 rows × 47 columns</p>\n",
       "</div>"
      ],
      "text/plain": [
       "                            HITId                       HITTypeId  \\\n",
       "0  301KG0KX9CLEJJQDZTVL1TQJDT3H2D  35NE15Q62B2VZKMWZRZMWJ35EHVT7Y   \n",
       "1  301KG0KX9CLEJJQDZTVL1TQJDT3H2D  35NE15Q62B2VZKMWZRZMWJ35EHVT7Y   \n",
       "2  301KG0KX9CLEJJQDZTVL1TQJDT3H2D  35NE15Q62B2VZKMWZRZMWJ35EHVT7Y   \n",
       "3  301KG0KX9CLEJJQDZTVL1TQJDT3H2D  35NE15Q62B2VZKMWZRZMWJ35EHVT7Y   \n",
       "4  301KG0KX9CLEJJQDZTVL1TQJDT3H2D  35NE15Q62B2VZKMWZRZMWJ35EHVT7Y   \n",
       "\n",
       "                                              Title  \\\n",
       "0  Identify the relation between a drug and disease   \n",
       "1  Identify the relation between a drug and disease   \n",
       "2  Identify the relation between a drug and disease   \n",
       "3  Identify the relation between a drug and disease   \n",
       "4  Identify the relation between a drug and disease   \n",
       "\n",
       "                                         Description                Keywords  \\\n",
       "0  We need your help in categorizing the type of ...  terms, classify, group   \n",
       "1  We need your help in categorizing the type of ...  terms, classify, group   \n",
       "2  We need your help in categorizing the type of ...  terms, classify, group   \n",
       "3  We need your help in categorizing the type of ...  terms, classify, group   \n",
       "4  We need your help in categorizing the type of ...  terms, classify, group   \n",
       "\n",
       "  Reward                  CreationTime  MaxAssignments  \\\n",
       "0  $0.05  Tue Dec 10 12:11:58 PST 2019               5   \n",
       "1  $0.05  Tue Dec 10 12:11:58 PST 2019               5   \n",
       "2  $0.05  Tue Dec 10 12:11:58 PST 2019               5   \n",
       "3  $0.05  Tue Dec 10 12:11:58 PST 2019               5   \n",
       "4  $0.05  Tue Dec 10 12:11:58 PST 2019               5   \n",
       "\n",
       "                                RequesterAnnotation  \\\n",
       "0  BatchId:3865212;OriginalHitTemplateId:920937336;   \n",
       "1  BatchId:3865212;OriginalHitTemplateId:920937336;   \n",
       "2  BatchId:3865212;OriginalHitTemplateId:920937336;   \n",
       "3  BatchId:3865212;OriginalHitTemplateId:920937336;   \n",
       "4  BatchId:3865212;OriginalHitTemplateId:920937336;   \n",
       "\n",
       "   AssignmentDurationInSeconds  ...  Input.Drug_Brand_Name Input.atc_label  \\\n",
       "0                           60  ...             Ciclopirox         D01AE14   \n",
       "1                           60  ...             Ciclopirox         D01AE14   \n",
       "2                           60  ...             Ciclopirox         D01AE14   \n",
       "3                           60  ...             Ciclopirox         D01AE14   \n",
       "4                           60  ...             Ciclopirox         D01AE14   \n",
       "\n",
       "   Input.ATC_LEVEL_0  Input.DieaseName Input.WordCount  \\\n",
       "0                  D          epilepsy             228   \n",
       "1                  D          epilepsy             228   \n",
       "2                  D          epilepsy             228   \n",
       "3                  D          epilepsy             228   \n",
       "4                  D          epilepsy             228   \n",
       "\n",
       "                           Input.Set_ID Input.Section  Answer.category.label  \\\n",
       "0  2c67dd09-ab1f-4ccf-97b5-421356f64f22    Indication  Indication: treatment   \n",
       "1  2c67dd09-ab1f-4ccf-97b5-421356f64f22    Indication       Contraindication   \n",
       "2  2c67dd09-ab1f-4ccf-97b5-421356f64f22    Indication                 Effect   \n",
       "3  2c67dd09-ab1f-4ccf-97b5-421356f64f22    Indication       Contraindication   \n",
       "4  2c67dd09-ab1f-4ccf-97b5-421356f64f22    Indication            I dont know   \n",
       "\n",
       "  Approve Reject  \n",
       "0     NaN    NaN  \n",
       "1     NaN    NaN  \n",
       "2     NaN    NaN  \n",
       "3     NaN    NaN  \n",
       "4     NaN    NaN  \n",
       "\n",
       "[5 rows x 47 columns]"
      ]
     },
     "execution_count": 3,
     "metadata": {},
     "output_type": "execute_result"
    }
   ],
   "source": [
    "crowd = pd.read_csv('../data/crowd/10JanRelationsResults.csv')\n",
    "crowd.head()"
   ]
  },
  {
   "cell_type": "code",
   "execution_count": 4,
   "metadata": {},
   "outputs": [
    {
     "data": {
      "text/plain": [
       "Index(['HITId', 'HITTypeId', 'Title', 'Description', 'Keywords', 'Reward',\n",
       "       'CreationTime', 'MaxAssignments', 'RequesterAnnotation',\n",
       "       'AssignmentDurationInSeconds', 'AutoApprovalDelayInSeconds',\n",
       "       'Expiration', 'NumberOfSimilarHITs', 'LifetimeInSeconds',\n",
       "       'AssignmentId', 'WorkerId', 'AssignmentStatus', 'AcceptTime',\n",
       "       'SubmitTime', 'AutoApprovalTime', 'ApprovalTime', 'RejectionTime',\n",
       "       'RequesterFeedback', 'WorkTimeInSeconds', 'LifetimeApprovalRate',\n",
       "       'Last30DaysApprovalRate', 'Last7DaysApprovalRate', 'Input.No',\n",
       "       'Input.Label_ID', 'Input.From', 'Input.To', 'Input.Type',\n",
       "       'Input.Annotation', 'Input.Context', 'Input.DO_ID', 'Input.DB_ID',\n",
       "       'Input.DrugName', 'Input.Drug_Brand_Name', 'Input.atc_label',\n",
       "       'Input.ATC_LEVEL_0', 'Input.DieaseName', 'Input.WordCount',\n",
       "       'Input.Set_ID', 'Input.Section', 'Answer.category.label', 'Approve',\n",
       "       'Reject'],\n",
       "      dtype='object')"
      ]
     },
     "execution_count": 4,
     "metadata": {},
     "output_type": "execute_result"
    }
   ],
   "source": [
    "crowd.columns"
   ]
  },
  {
   "cell_type": "code",
   "execution_count": 5,
   "metadata": {},
   "outputs": [
    {
     "name": "stdout",
     "output_type": "stream",
     "text": [
      "3865\n",
      "3865\n"
     ]
    }
   ],
   "source": [
    "print (len(crowd))\n",
    "#crowd = crowd.dropna(subset=['label_id'])\n",
    "print (len(crowd))"
   ]
  },
  {
   "cell_type": "code",
   "execution_count": 6,
   "metadata": {},
   "outputs": [],
   "source": [
    "columns= ['Input.Label_ID', 'Input.From', 'Input.To', 'Input.Type',\n",
    "       'Input.Annotation', 'Input.Context', 'Input.DO_ID', 'Input.DB_ID',\n",
    "       'Input.DrugName', 'Input.Drug_Brand_Name', 'Input.atc_label',\n",
    "       'Input.ATC_LEVEL_0', 'Input.DieaseName', 'Input.WordCount',\n",
    "       'Input.Set_ID', 'Input.Section']\n",
    "df = crowd.groupby(columns)['Answer.category.label'].apply(list).reset_index(name='merged')"
   ]
  },
  {
   "cell_type": "code",
   "execution_count": 7,
   "metadata": {},
   "outputs": [],
   "source": [
    "def num_answers_for_cat(x):\n",
    "    return (x.count('Indication: treatment'), x.count('Contraindication'),\n",
    "                    x.count('Indication: Symptomatic relief'), x.count('Effect'), x.count('I dont know'))\n",
    "\n",
    "df['votes'] =df.merged.apply(num_answers_for_cat)"
   ]
  },
  {
   "cell_type": "code",
   "execution_count": 8,
   "metadata": {},
   "outputs": [],
   "source": [
    "aggrements =[]\n",
    "labels = []\n",
    "for i, row in df.iterrows():\n",
    "    aggrements.append( max(row['votes'])/sum(row['votes']))\n",
    "    idx = row['votes'].index(max(row['votes']))\n",
    "    if idx==0:\n",
    "        label = 'treatment'\n",
    "    elif idx==1:\n",
    "        label = 'contraindication'\n",
    "    elif idx==2:\n",
    "        label = 'relief'\n",
    "    elif idx==3:\n",
    "        label = 'effect'\n",
    "    elif idx==4:\n",
    "        label = 'IDK'\n",
    "    labels.append(label)"
   ]
  },
  {
   "cell_type": "code",
   "execution_count": 9,
   "metadata": {},
   "outputs": [],
   "source": [
    "df['aggrement'] = aggrements\n",
    "df['relation'] = labels"
   ]
  },
  {
   "cell_type": "code",
   "execution_count": 10,
   "metadata": {},
   "outputs": [],
   "source": [
    "df_aggred = df[df.aggrement > 0.51].reset_index()\n",
    "df_aggred = df_aggred[df_aggred.relation != 'IDK'].reset_index()"
   ]
  },
  {
   "cell_type": "code",
   "execution_count": 11,
   "metadata": {},
   "outputs": [],
   "source": [
    "renamed_columns = { x:x.replace('Input.','') for x  in columns}"
   ]
  },
  {
   "cell_type": "code",
   "execution_count": 12,
   "metadata": {},
   "outputs": [
    {
     "data": {
      "text/plain": [
       "{'Input.Label_ID': 'Label_ID',\n",
       " 'Input.From': 'From',\n",
       " 'Input.To': 'To',\n",
       " 'Input.Type': 'Type',\n",
       " 'Input.Annotation': 'Annotation',\n",
       " 'Input.Context': 'Context',\n",
       " 'Input.DO_ID': 'DO_ID',\n",
       " 'Input.DB_ID': 'DB_ID',\n",
       " 'Input.DrugName': 'DrugName',\n",
       " 'Input.Drug_Brand_Name': 'Drug_Brand_Name',\n",
       " 'Input.atc_label': 'atc_label',\n",
       " 'Input.ATC_LEVEL_0': 'ATC_LEVEL_0',\n",
       " 'Input.DieaseName': 'DieaseName',\n",
       " 'Input.WordCount': 'WordCount',\n",
       " 'Input.Set_ID': 'Set_ID',\n",
       " 'Input.Section': 'Section'}"
      ]
     },
     "execution_count": 12,
     "metadata": {},
     "output_type": "execute_result"
    }
   ],
   "source": [
    "renamed_columns"
   ]
  },
  {
   "cell_type": "code",
   "execution_count": 13,
   "metadata": {},
   "outputs": [],
   "source": [
    "df_aggred =df_aggred.rename(columns=renamed_columns)"
   ]
  },
  {
   "cell_type": "code",
   "execution_count": 14,
   "metadata": {},
   "outputs": [
    {
     "data": {
      "text/plain": [
       "611"
      ]
     },
     "execution_count": 14,
     "metadata": {},
     "output_type": "execute_result"
    }
   ],
   "source": [
    "len(df_aggred)"
   ]
  },
  {
   "cell_type": "code",
   "execution_count": 15,
   "metadata": {},
   "outputs": [
    {
     "data": {
      "text/html": [
       "<div>\n",
       "<style scoped>\n",
       "    .dataframe tbody tr th:only-of-type {\n",
       "        vertical-align: middle;\n",
       "    }\n",
       "\n",
       "    .dataframe tbody tr th {\n",
       "        vertical-align: top;\n",
       "    }\n",
       "\n",
       "    .dataframe thead th {\n",
       "        text-align: right;\n",
       "    }\n",
       "</style>\n",
       "<table border=\"1\" class=\"dataframe\">\n",
       "  <thead>\n",
       "    <tr style=\"text-align: right;\">\n",
       "      <th></th>\n",
       "      <th>level_0</th>\n",
       "      <th>index</th>\n",
       "      <th>Label_ID</th>\n",
       "      <th>From</th>\n",
       "      <th>To</th>\n",
       "      <th>Type</th>\n",
       "      <th>Annotation</th>\n",
       "      <th>Context</th>\n",
       "      <th>DO_ID</th>\n",
       "      <th>DB_ID</th>\n",
       "      <th>...</th>\n",
       "      <th>atc_label</th>\n",
       "      <th>ATC_LEVEL_0</th>\n",
       "      <th>DieaseName</th>\n",
       "      <th>WordCount</th>\n",
       "      <th>Set_ID</th>\n",
       "      <th>Section</th>\n",
       "      <th>merged</th>\n",
       "      <th>votes</th>\n",
       "      <th>aggrement</th>\n",
       "      <th>relation</th>\n",
       "    </tr>\n",
       "  </thead>\n",
       "  <tbody>\n",
       "    <tr>\n",
       "      <th>526</th>\n",
       "      <td>526</td>\n",
       "      <td>717</td>\n",
       "      <td>d96823e2-bdbe-4186-95f5-dcfe539640e3.xml</td>\n",
       "      <td>858</td>\n",
       "      <td>868</td>\n",
       "      <td>PREF</td>\n",
       "      <td>THYROIDITIS</td>\n",
       "      <td>Levothyroxine sodium is used for the following...</td>\n",
       "      <td>DOID_7166</td>\n",
       "      <td>DB00451</td>\n",
       "      <td>...</td>\n",
       "      <td>H03AA01</td>\n",
       "      <td>H</td>\n",
       "      <td>thyroiditis</td>\n",
       "      <td>137</td>\n",
       "      <td>dddad621-c42a-45a1-b6af-8f0503f67474</td>\n",
       "      <td>Indication</td>\n",
       "      <td>[Indication: treatment, Indication: treatment,...</td>\n",
       "      <td>(3, 1, 0, 0, 0)</td>\n",
       "      <td>0.75</td>\n",
       "      <td>treatment</td>\n",
       "    </tr>\n",
       "  </tbody>\n",
       "</table>\n",
       "<p>1 rows × 22 columns</p>\n",
       "</div>"
      ],
      "text/plain": [
       "     level_0  index                                  Label_ID  From   To  \\\n",
       "526      526    717  d96823e2-bdbe-4186-95f5-dcfe539640e3.xml   858  868   \n",
       "\n",
       "     Type   Annotation                                            Context  \\\n",
       "526  PREF  THYROIDITIS  Levothyroxine sodium is used for the following...   \n",
       "\n",
       "         DO_ID    DB_ID  ... atc_label ATC_LEVEL_0   DieaseName WordCount  \\\n",
       "526  DOID_7166  DB00451  ...   H03AA01           H  thyroiditis       137   \n",
       "\n",
       "                                   Set_ID     Section  \\\n",
       "526  dddad621-c42a-45a1-b6af-8f0503f67474  Indication   \n",
       "\n",
       "                                                merged            votes  \\\n",
       "526  [Indication: treatment, Indication: treatment,...  (3, 1, 0, 0, 0)   \n",
       "\n",
       "    aggrement   relation  \n",
       "526      0.75  treatment  \n",
       "\n",
       "[1 rows x 22 columns]"
      ]
     },
     "execution_count": 15,
     "metadata": {},
     "output_type": "execute_result"
    }
   ],
   "source": [
    "df_aggred.sample()"
   ]
  },
  {
   "cell_type": "code",
   "execution_count": 16,
   "metadata": {},
   "outputs": [],
   "source": [
    "index= df_aggred['Section'] =='Indication'\n",
    "df_aggred.loc[index,'Section']=  'Indications'"
   ]
  },
  {
   "cell_type": "code",
   "execution_count": 17,
   "metadata": {},
   "outputs": [],
   "source": [
    "df_aggred = df_aggred[['DieaseName','DO_ID','DB_ID','DrugName','Annotation','Label_ID','Set_ID','Drug_Brand_Name','Context','Section','relation']]"
   ]
  },
  {
   "cell_type": "code",
   "execution_count": 18,
   "metadata": {},
   "outputs": [],
   "source": [
    "df_aggred.rename(columns={'DieaseName':'disease', 'DrugName':'Drug_name'}, inplace=True)"
   ]
  },
  {
   "cell_type": "code",
   "execution_count": 19,
   "metadata": {},
   "outputs": [],
   "source": [
    "df_aggred.to_csv('../data/crowd/crowd_2nd.csv')"
   ]
  },
  {
   "cell_type": "code",
   "execution_count": 20,
   "metadata": {},
   "outputs": [
    {
     "data": {
      "text/plain": [
       "treatment           356\n",
       "contraindication    214\n",
       "relief               29\n",
       "effect               12\n",
       "Name: relation, dtype: int64"
      ]
     },
     "execution_count": 20,
     "metadata": {},
     "output_type": "execute_result"
    }
   ],
   "source": [
    "df_aggred.relation.value_counts()"
   ]
  }
 ],
 "metadata": {
  "kernelspec": {
   "display_name": "Python 3",
   "language": "python",
   "name": "python3"
  },
  "language_info": {
   "codemirror_mode": {
    "name": "ipython",
    "version": 3
   },
   "file_extension": ".py",
   "mimetype": "text/x-python",
   "name": "python",
   "nbconvert_exporter": "python",
   "pygments_lexer": "ipython3",
   "version": "3.8.3"
  }
 },
 "nbformat": 4,
 "nbformat_minor": 4
}
