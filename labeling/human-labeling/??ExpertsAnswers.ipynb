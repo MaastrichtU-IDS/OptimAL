{
 "cells": [
  {
   "cell_type": "markdown",
   "metadata": {},
   "source": [
    "## Experts Answers Data Integration\n",
    "---"
   ]
  },
  {
   "cell_type": "code",
   "execution_count": 1,
   "metadata": {},
   "outputs": [],
   "source": [
    "import pandas as pd"
   ]
  },
  {
   "cell_type": "code",
   "execution_count": 2,
   "metadata": {},
   "outputs": [],
   "source": [
    "tables = []\n",
    "sheets = ['Indication_treatment','indication_symptomatic_relief','contraindication', 'effect']\n",
    "excel = 'Drug-disease relations annotations - Medical Expert Aggregated.xlsx'\n",
    "for sheet in sheets:\n",
    "    df = pd.read_excel(excel, sheet_name=sheet)\n",
    "    df['sheet'] = sheet\n",
    "    tables.append(df)"
   ]
  },
  {
   "cell_type": "markdown",
   "metadata": {},
   "source": [
    "#### Integrate"
   ]
  },
  {
   "cell_type": "code",
   "execution_count": 3,
   "metadata": {},
   "outputs": [],
   "source": [
    "merged_table = pd.DataFrame()\n",
    "for table in tables:\n",
    "    merged_table = merged_table.append(table, ignore_index=True, sort=False)"
   ]
  },
  {
   "cell_type": "code",
   "execution_count": 4,
   "metadata": {},
   "outputs": [
    {
     "data": {
      "text/plain": [
       "747"
      ]
     },
     "execution_count": 4,
     "metadata": {},
     "output_type": "execute_result"
    }
   ],
   "source": [
    "len(merged_table)"
   ]
  },
  {
   "cell_type": "code",
   "execution_count": 5,
   "metadata": {},
   "outputs": [
    {
     "data": {
      "text/html": [
       "<div>\n",
       "<style scoped>\n",
       "    .dataframe tbody tr th:only-of-type {\n",
       "        vertical-align: middle;\n",
       "    }\n",
       "\n",
       "    .dataframe tbody tr th {\n",
       "        vertical-align: top;\n",
       "    }\n",
       "\n",
       "    .dataframe thead th {\n",
       "        text-align: right;\n",
       "    }\n",
       "</style>\n",
       "<table border=\"1\" class=\"dataframe\">\n",
       "  <thead>\n",
       "    <tr style=\"text-align: right;\">\n",
       "      <th></th>\n",
       "      <th>#</th>\n",
       "      <th>context</th>\n",
       "      <th>disease_name</th>\n",
       "      <th>drug_name</th>\n",
       "      <th>workers_answers</th>\n",
       "      <th>medical_expert1</th>\n",
       "      <th>medical_expert2</th>\n",
       "      <th>medical_expert3</th>\n",
       "      <th>do_id</th>\n",
       "      <th>drug_brand_name</th>\n",
       "      <th>drug_id</th>\n",
       "      <th>label_id</th>\n",
       "      <th>sheet</th>\n",
       "    </tr>\n",
       "  </thead>\n",
       "  <tbody>\n",
       "    <tr>\n",
       "      <th>742</th>\n",
       "      <td>NaN</td>\n",
       "      <td>NaN</td>\n",
       "      <td>NaN</td>\n",
       "      <td>NaN</td>\n",
       "      <td>Effect</td>\n",
       "      <td>NaN</td>\n",
       "      <td>NaN</td>\n",
       "      <td>NaN</td>\n",
       "      <td>NaN</td>\n",
       "      <td>NaN</td>\n",
       "      <td>NaN</td>\n",
       "      <td>NaN</td>\n",
       "      <td>effect</td>\n",
       "    </tr>\n",
       "    <tr>\n",
       "      <th>743</th>\n",
       "      <td>NaN</td>\n",
       "      <td>NaN</td>\n",
       "      <td>NaN</td>\n",
       "      <td>NaN</td>\n",
       "      <td>I dont know</td>\n",
       "      <td>NaN</td>\n",
       "      <td>NaN</td>\n",
       "      <td>NaN</td>\n",
       "      <td>NaN</td>\n",
       "      <td>NaN</td>\n",
       "      <td>NaN</td>\n",
       "      <td>NaN</td>\n",
       "      <td>effect</td>\n",
       "    </tr>\n",
       "    <tr>\n",
       "      <th>744</th>\n",
       "      <td>101.0</td>\n",
       "      <td>Hypersensitivity to doxepin hydrochloride, ina...</td>\n",
       "      <td>GLAUCOMA</td>\n",
       "      <td>doxepin</td>\n",
       "      <td>Effect</td>\n",
       "      <td>effect</td>\n",
       "      <td>Contraindication</td>\n",
       "      <td>?</td>\n",
       "      <td>DOID_1686</td>\n",
       "      <td>Silenor</td>\n",
       "      <td>DB01142</td>\n",
       "      <td>../DailyMedExtracter/prescription/temp_xml/520...</td>\n",
       "      <td>effect</td>\n",
       "    </tr>\n",
       "    <tr>\n",
       "      <th>745</th>\n",
       "      <td>NaN</td>\n",
       "      <td>NaN</td>\n",
       "      <td>NaN</td>\n",
       "      <td>NaN</td>\n",
       "      <td>Effect</td>\n",
       "      <td>NaN</td>\n",
       "      <td>NaN</td>\n",
       "      <td>NaN</td>\n",
       "      <td>NaN</td>\n",
       "      <td>NaN</td>\n",
       "      <td>NaN</td>\n",
       "      <td>NaN</td>\n",
       "      <td>effect</td>\n",
       "    </tr>\n",
       "    <tr>\n",
       "      <th>746</th>\n",
       "      <td>NaN</td>\n",
       "      <td>NaN</td>\n",
       "      <td>NaN</td>\n",
       "      <td>NaN</td>\n",
       "      <td>Effect</td>\n",
       "      <td>NaN</td>\n",
       "      <td>NaN</td>\n",
       "      <td>NaN</td>\n",
       "      <td>NaN</td>\n",
       "      <td>NaN</td>\n",
       "      <td>NaN</td>\n",
       "      <td>NaN</td>\n",
       "      <td>effect</td>\n",
       "    </tr>\n",
       "  </tbody>\n",
       "</table>\n",
       "</div>"
      ],
      "text/plain": [
       "         #                                            context disease_name  \\\n",
       "742    NaN                                                NaN          NaN   \n",
       "743    NaN                                                NaN          NaN   \n",
       "744  101.0  Hypersensitivity to doxepin hydrochloride, ina...     GLAUCOMA   \n",
       "745    NaN                                                NaN          NaN   \n",
       "746    NaN                                                NaN          NaN   \n",
       "\n",
       "    drug_name workers_answers medical_expert1   medical_expert2  \\\n",
       "742       NaN          Effect             NaN               NaN   \n",
       "743       NaN     I dont know             NaN               NaN   \n",
       "744   doxepin          Effect          effect  Contraindication   \n",
       "745       NaN          Effect             NaN               NaN   \n",
       "746       NaN          Effect             NaN               NaN   \n",
       "\n",
       "    medical_expert3      do_id drug_brand_name  drug_id  \\\n",
       "742             NaN        NaN             NaN      NaN   \n",
       "743             NaN        NaN             NaN      NaN   \n",
       "744               ?  DOID_1686         Silenor  DB01142   \n",
       "745             NaN        NaN             NaN      NaN   \n",
       "746             NaN        NaN             NaN      NaN   \n",
       "\n",
       "                                              label_id   sheet  \n",
       "742                                                NaN  effect  \n",
       "743                                                NaN  effect  \n",
       "744  ../DailyMedExtracter/prescription/temp_xml/520...  effect  \n",
       "745                                                NaN  effect  \n",
       "746                                                NaN  effect  "
      ]
     },
     "execution_count": 5,
     "metadata": {},
     "output_type": "execute_result"
    }
   ],
   "source": [
    "merged_table.tail(5)"
   ]
  },
  {
   "cell_type": "code",
   "execution_count": 6,
   "metadata": {},
   "outputs": [],
   "source": [
    "merged_table = merged_table.dropna(subset=['medical_expert1','medical_expert2','medical_expert3'])"
   ]
  },
  {
   "cell_type": "markdown",
   "metadata": {},
   "source": [
    "---\n",
    "## Gathering experts tables"
   ]
  },
  {
   "cell_type": "code",
   "execution_count": 7,
   "metadata": {},
   "outputs": [],
   "source": [
    "labels = pd.read_csv('Expert2Relation_Mapping.csv',sep=',')"
   ]
  },
  {
   "cell_type": "code",
   "execution_count": 8,
   "metadata": {},
   "outputs": [],
   "source": [
    "label_dict=labels.set_index('text').to_dict()"
   ]
  },
  {
   "cell_type": "code",
   "execution_count": 9,
   "metadata": {},
   "outputs": [],
   "source": [
    "merged_table['medical_expert1'].replace(label_dict['relation'], inplace=True)"
   ]
  },
  {
   "cell_type": "code",
   "execution_count": 10,
   "metadata": {},
   "outputs": [],
   "source": [
    "merged_table['medical_expert2'].replace(label_dict['relation'], inplace=True)"
   ]
  },
  {
   "cell_type": "code",
   "execution_count": 11,
   "metadata": {},
   "outputs": [],
   "source": [
    "merged_table.medical_expert2= merged_table.medical_expert2.str.rstrip('\\n')"
   ]
  },
  {
   "cell_type": "code",
   "execution_count": 12,
   "metadata": {},
   "outputs": [],
   "source": [
    "merged_table['medical_expert3'].replace(label_dict['relation'], inplace=True)"
   ]
  },
  {
   "cell_type": "code",
   "execution_count": 13,
   "metadata": {},
   "outputs": [],
   "source": [
    "merged_table.drop_duplicates(subset=['label_id','do_id','drug_id'],inplace=True)"
   ]
  },
  {
   "cell_type": "code",
   "execution_count": 14,
   "metadata": {},
   "outputs": [],
   "source": [
    "merged_table = merged_table[merged_table.medical_expert3 != 'Duplicate']"
   ]
  },
  {
   "cell_type": "code",
   "execution_count": 15,
   "metadata": {},
   "outputs": [],
   "source": [
    "expert_consensus=[]\n",
    "inter_agree_experts =[]\n",
    "for index, row in merged_table.iterrows():\n",
    "    if row['medical_expert1'] == row['medical_expert2'] and row['medical_expert2'] == row['medical_expert3']:\n",
    "        expert_answer = row['medical_expert1']\n",
    "        inter_agree = 3\n",
    "    elif row['medical_expert1'] == row['medical_expert2']:\n",
    "        expert_answer = row['medical_expert1']\n",
    "        inter_agree = 2\n",
    "    elif row['medical_expert2'] == row['medical_expert3']:\n",
    "        expert_answer = row['medical_expert2']\n",
    "        inter_agree = 2\n",
    "    elif row['medical_expert1'] == row['medical_expert3']:\n",
    "        expert_answer = row['medical_expert1'] \n",
    "        inter_agree = 2\n",
    "    else:\n",
    "        expert_answer = 'No consensus'\n",
    "        inter_agree = 0\n",
    "\n",
    "    \n",
    "    if expert_answer in ['Indication: Treatment','Contraindication', 'Indication: Symptomatic Relief','Effect']:\n",
    "        expert_consensus.append(expert_answer)\n",
    "        inter_agree_experts.append(inter_agree)\n",
    "    else:\n",
    "        expert_consensus.append('No consensus')\n",
    "        inter_agree_experts.append(0)\n"
   ]
  },
  {
   "cell_type": "code",
   "execution_count": 16,
   "metadata": {},
   "outputs": [
    {
     "data": {
      "text/plain": [
       "359"
      ]
     },
     "execution_count": 16,
     "metadata": {},
     "output_type": "execute_result"
    }
   ],
   "source": [
    "len(merged_table)"
   ]
  },
  {
   "cell_type": "code",
   "execution_count": 17,
   "metadata": {},
   "outputs": [],
   "source": [
    "merged_table['expert_consensus'] = expert_consensus"
   ]
  },
  {
   "cell_type": "code",
   "execution_count": 18,
   "metadata": {},
   "outputs": [],
   "source": [
    "merged_table['inter_agree_experts'] =inter_agree_experts"
   ]
  },
  {
   "cell_type": "markdown",
   "metadata": {},
   "source": [
    "## Create an expert consensus tableaxis="
   ]
  },
  {
   "cell_type": "code",
   "execution_count": 19,
   "metadata": {},
   "outputs": [
    {
     "data": {
      "text/plain": [
       "(359, 15)"
      ]
     },
     "execution_count": 19,
     "metadata": {},
     "output_type": "execute_result"
    }
   ],
   "source": [
    "merged_table.shape"
   ]
  },
  {
   "cell_type": "code",
   "execution_count": 20,
   "metadata": {},
   "outputs": [],
   "source": [
    "merged_table.to_csv('expert_table.csv',index=False)"
   ]
  },
  {
   "cell_type": "code",
   "execution_count": 21,
   "metadata": {},
   "outputs": [
    {
     "data": {
      "text/plain": [
       "Indication: Treatment             128\n",
       "Contraindication                  107\n",
       "Indication: Symptomatic Relief     49\n",
       "Effect                             47\n",
       "No consensus                       28\n",
       "Name: expert_consensus, dtype: int64"
      ]
     },
     "execution_count": 21,
     "metadata": {},
     "output_type": "execute_result"
    }
   ],
   "source": [
    "merged_table.expert_consensus.value_counts()"
   ]
  },
  {
   "cell_type": "code",
   "execution_count": null,
   "metadata": {},
   "outputs": [],
   "source": []
  },
  {
   "cell_type": "code",
   "execution_count": null,
   "metadata": {},
   "outputs": [],
   "source": []
  }
 ],
 "metadata": {
  "kernelspec": {
   "display_name": "Python 3",
   "language": "python",
   "name": "python3"
  },
  "language_info": {
   "codemirror_mode": {
    "name": "ipython",
    "version": 3
   },
   "file_extension": ".py",
   "mimetype": "text/x-python",
   "name": "python",
   "nbconvert_exporter": "python",
   "pygments_lexer": "ipython3",
   "version": "3.7.4"
  },
  "nteract": {
   "version": "0.15.0"
  }
 },
 "nbformat": 4,
 "nbformat_minor": 4
}
