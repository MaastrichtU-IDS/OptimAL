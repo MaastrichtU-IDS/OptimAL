{
 "cells": [
  {
   "cell_type": "code",
   "execution_count": 2,
   "metadata": {},
   "outputs": [],
   "source": [
    "import pandas as pd"
   ]
  },
  {
   "cell_type": "code",
   "execution_count": 3,
   "metadata": {},
   "outputs": [
    {
     "data": {
      "text/html": [
       "<div>\n",
       "<style scoped>\n",
       "    .dataframe tbody tr th:only-of-type {\n",
       "        vertical-align: middle;\n",
       "    }\n",
       "\n",
       "    .dataframe tbody tr th {\n",
       "        vertical-align: top;\n",
       "    }\n",
       "\n",
       "    .dataframe thead th {\n",
       "        text-align: right;\n",
       "    }\n",
       "</style>\n",
       "<table border=\"1\" class=\"dataframe\">\n",
       "  <thead>\n",
       "    <tr style=\"text-align: right;\">\n",
       "      <th></th>\n",
       "      <th>#</th>\n",
       "      <th>context</th>\n",
       "      <th>disease_name</th>\n",
       "      <th>drug_name</th>\n",
       "      <th>workers_answers</th>\n",
       "      <th>medical_expert1</th>\n",
       "      <th>medical_expert2</th>\n",
       "      <th>medical_expert3</th>\n",
       "      <th>do_id</th>\n",
       "      <th>drug_brand_name</th>\n",
       "      <th>drug_id</th>\n",
       "      <th>label_id</th>\n",
       "      <th>sheet</th>\n",
       "      <th>expert_consensus</th>\n",
       "      <th>inter_agree_experts</th>\n",
       "    </tr>\n",
       "  </thead>\n",
       "  <tbody>\n",
       "    <tr>\n",
       "      <th>0</th>\n",
       "      <td>1.0</td>\n",
       "      <td>Nisoldipine extended-release tablets are indic...</td>\n",
       "      <td>HYPERTENSION</td>\n",
       "      <td>NISOLDIPINE</td>\n",
       "      <td>indication_treatment\\nindication_treatment\\nin...</td>\n",
       "      <td>Indication: Treatment</td>\n",
       "      <td>Indication: Treatment</td>\n",
       "      <td>Indication: Treatment</td>\n",
       "      <td>DOID_10763</td>\n",
       "      <td>NaN</td>\n",
       "      <td>DB00401</td>\n",
       "      <td>ce733b39-7857-4538-92d6-1c68a4e4eb75.xml</td>\n",
       "      <td>Indication_treatment</td>\n",
       "      <td>Indication: Treatment</td>\n",
       "      <td>3</td>\n",
       "    </tr>\n",
       "    <tr>\n",
       "      <th>1</th>\n",
       "      <td>2.0</td>\n",
       "      <td>[None, 'Bisoprolol fumarate tablets, USP are i...</td>\n",
       "      <td>HYPERTENSION</td>\n",
       "      <td>BISOPROLOL</td>\n",
       "      <td>indication_treatment\\nindication_treatment\\nin...</td>\n",
       "      <td>Indication: Treatment</td>\n",
       "      <td>Indication: Treatment</td>\n",
       "      <td>Indication: Treatment</td>\n",
       "      <td>DOID_10763</td>\n",
       "      <td>NaN</td>\n",
       "      <td>DB00612</td>\n",
       "      <td>c818c38d-ee37-4ceb-b078-611483b4f743.xml</td>\n",
       "      <td>Indication_treatment</td>\n",
       "      <td>Indication: Treatment</td>\n",
       "      <td>3</td>\n",
       "    </tr>\n",
       "    <tr>\n",
       "      <th>2</th>\n",
       "      <td>3.0</td>\n",
       "      <td>Pindolol tablets are indicated in the manageme...</td>\n",
       "      <td>HYPERTENSION</td>\n",
       "      <td>PINDOLOL</td>\n",
       "      <td>indication_treatment\\nindication_treatment\\nin...</td>\n",
       "      <td>Indication: Treatment</td>\n",
       "      <td>Indication: Treatment</td>\n",
       "      <td>Indication: Treatment</td>\n",
       "      <td>DOID_10763</td>\n",
       "      <td>NaN</td>\n",
       "      <td>DB00960</td>\n",
       "      <td>d4078b63-30ad-435b-a081-4d90562962b5.xml</td>\n",
       "      <td>Indication_treatment</td>\n",
       "      <td>Indication: Treatment</td>\n",
       "      <td>3</td>\n",
       "    </tr>\n",
       "    <tr>\n",
       "      <th>3</th>\n",
       "      <td>4.0</td>\n",
       "      <td>Eprosartan mesylate tablets are indicated for ...</td>\n",
       "      <td>HYPERTENSION</td>\n",
       "      <td>EPROSARTAN</td>\n",
       "      <td>indication_treatment\\nindication_treatment\\nin...</td>\n",
       "      <td>Indication: Treatment</td>\n",
       "      <td>Indication: Treatment</td>\n",
       "      <td>Indication: Treatment</td>\n",
       "      <td>DOID_10763</td>\n",
       "      <td>NaN</td>\n",
       "      <td>DB00876</td>\n",
       "      <td>ab531d28-345b-4113-9fde-00cd63ad5b1a.xml</td>\n",
       "      <td>Indication_treatment</td>\n",
       "      <td>Indication: Treatment</td>\n",
       "      <td>3</td>\n",
       "    </tr>\n",
       "    <tr>\n",
       "      <th>4</th>\n",
       "      <td>5.0</td>\n",
       "      <td>[None, 'Labetalol hydrochloride tablets, USP a...</td>\n",
       "      <td>HYPERTENSION</td>\n",
       "      <td>LABETALOL</td>\n",
       "      <td>indication_treatment\\nindication_treatment\\nin...</td>\n",
       "      <td>Indication: Treatment</td>\n",
       "      <td>Indication: Treatment</td>\n",
       "      <td>Indication: Treatment</td>\n",
       "      <td>DOID_10763</td>\n",
       "      <td>NaN</td>\n",
       "      <td>DB00598</td>\n",
       "      <td>78765cc3-27dc-0373-e053-2991aa0a7fe1.xml</td>\n",
       "      <td>Indication_treatment</td>\n",
       "      <td>Indication: Treatment</td>\n",
       "      <td>3</td>\n",
       "    </tr>\n",
       "  </tbody>\n",
       "</table>\n",
       "</div>"
      ],
      "text/plain": [
       "     #                                            context  disease_name  \\\n",
       "0  1.0  Nisoldipine extended-release tablets are indic...  HYPERTENSION   \n",
       "1  2.0  [None, 'Bisoprolol fumarate tablets, USP are i...  HYPERTENSION   \n",
       "2  3.0  Pindolol tablets are indicated in the manageme...  HYPERTENSION   \n",
       "3  4.0  Eprosartan mesylate tablets are indicated for ...  HYPERTENSION   \n",
       "4  5.0  [None, 'Labetalol hydrochloride tablets, USP a...  HYPERTENSION   \n",
       "\n",
       "     drug_name                                    workers_answers  \\\n",
       "0  NISOLDIPINE  indication_treatment\\nindication_treatment\\nin...   \n",
       "1   BISOPROLOL  indication_treatment\\nindication_treatment\\nin...   \n",
       "2     PINDOLOL  indication_treatment\\nindication_treatment\\nin...   \n",
       "3   EPROSARTAN  indication_treatment\\nindication_treatment\\nin...   \n",
       "4    LABETALOL  indication_treatment\\nindication_treatment\\nin...   \n",
       "\n",
       "         medical_expert1        medical_expert2        medical_expert3  \\\n",
       "0  Indication: Treatment  Indication: Treatment  Indication: Treatment   \n",
       "1  Indication: Treatment  Indication: Treatment  Indication: Treatment   \n",
       "2  Indication: Treatment  Indication: Treatment  Indication: Treatment   \n",
       "3  Indication: Treatment  Indication: Treatment  Indication: Treatment   \n",
       "4  Indication: Treatment  Indication: Treatment  Indication: Treatment   \n",
       "\n",
       "        do_id drug_brand_name  drug_id  \\\n",
       "0  DOID_10763             NaN  DB00401   \n",
       "1  DOID_10763             NaN  DB00612   \n",
       "2  DOID_10763             NaN  DB00960   \n",
       "3  DOID_10763             NaN  DB00876   \n",
       "4  DOID_10763             NaN  DB00598   \n",
       "\n",
       "                                   label_id                 sheet  \\\n",
       "0  ce733b39-7857-4538-92d6-1c68a4e4eb75.xml  Indication_treatment   \n",
       "1  c818c38d-ee37-4ceb-b078-611483b4f743.xml  Indication_treatment   \n",
       "2  d4078b63-30ad-435b-a081-4d90562962b5.xml  Indication_treatment   \n",
       "3  ab531d28-345b-4113-9fde-00cd63ad5b1a.xml  Indication_treatment   \n",
       "4  78765cc3-27dc-0373-e053-2991aa0a7fe1.xml  Indication_treatment   \n",
       "\n",
       "        expert_consensus  inter_agree_experts  \n",
       "0  Indication: Treatment                    3  \n",
       "1  Indication: Treatment                    3  \n",
       "2  Indication: Treatment                    3  \n",
       "3  Indication: Treatment                    3  \n",
       "4  Indication: Treatment                    3  "
      ]
     },
     "execution_count": 3,
     "metadata": {},
     "output_type": "execute_result"
    }
   ],
   "source": [
    "expert_all = pd.read_csv('../data/expert/expert_table.csv')\n",
    "expert_all.head()"
   ]
  },
  {
   "cell_type": "code",
   "execution_count": 4,
   "metadata": {},
   "outputs": [
    {
     "data": {
      "text/plain": [
       "array(['Indication: Treatment', 'No consensus',\n",
       "       'Indication: Symptomatic Relief', 'Contraindication', 'Effect'],\n",
       "      dtype=object)"
      ]
     },
     "execution_count": 4,
     "metadata": {},
     "output_type": "execute_result"
    }
   ],
   "source": [
    "expert_all.expert_consensus.unique()"
   ]
  },
  {
   "cell_type": "code",
   "execution_count": 5,
   "metadata": {},
   "outputs": [
    {
     "data": {
      "text/html": [
       "<div>\n",
       "<style scoped>\n",
       "    .dataframe tbody tr th:only-of-type {\n",
       "        vertical-align: middle;\n",
       "    }\n",
       "\n",
       "    .dataframe tbody tr th {\n",
       "        vertical-align: top;\n",
       "    }\n",
       "\n",
       "    .dataframe thead th {\n",
       "        text-align: right;\n",
       "    }\n",
       "</style>\n",
       "<table border=\"1\" class=\"dataframe\">\n",
       "  <thead>\n",
       "    <tr style=\"text-align: right;\">\n",
       "      <th></th>\n",
       "      <th>#</th>\n",
       "      <th>context</th>\n",
       "      <th>disease_name</th>\n",
       "      <th>drug_name</th>\n",
       "      <th>workers_answers</th>\n",
       "      <th>Medical Expert</th>\n",
       "      <th>do_id</th>\n",
       "      <th>drug_brand_name</th>\n",
       "      <th>drug_id</th>\n",
       "      <th>label_id</th>\n",
       "      <th>sheet</th>\n",
       "    </tr>\n",
       "  </thead>\n",
       "  <tbody>\n",
       "    <tr>\n",
       "      <th>0</th>\n",
       "      <td>7</td>\n",
       "      <td>\\n                     \\nHypertension\\nTimolol...</td>\n",
       "      <td>HYPERTENSION</td>\n",
       "      <td>TIMOLOL ANHYDROUS</td>\n",
       "      <td>indication_treatment\\nindication_treatment\\nin...</td>\n",
       "      <td>indication_treatment</td>\n",
       "      <td>DOID_10763</td>\n",
       "      <td>NaN</td>\n",
       "      <td>DB00373</td>\n",
       "      <td>87fe4811-1f32-ae9e-e053-2a95a90a9f1d.xml</td>\n",
       "      <td>Indication_treatment</td>\n",
       "    </tr>\n",
       "    <tr>\n",
       "      <th>1</th>\n",
       "      <td>17</td>\n",
       "      <td>Fosinopril sodium tablets are indicated for th...</td>\n",
       "      <td>HYPERTENSION</td>\n",
       "      <td>FOSINOPRIL</td>\n",
       "      <td>indication_treatment\\nindication_treatment\\nin...</td>\n",
       "      <td>indication_treatment</td>\n",
       "      <td>DOID_10763</td>\n",
       "      <td>NaN</td>\n",
       "      <td>DB00492</td>\n",
       "      <td>29914956-c794-4806-b038-f0784b9db3d3.xml</td>\n",
       "      <td>Indication_treatment</td>\n",
       "    </tr>\n",
       "    <tr>\n",
       "      <th>2</th>\n",
       "      <td>19</td>\n",
       "      <td>['\\n                     ', '1.1 Supraventricu...</td>\n",
       "      <td>HYPERTENSION</td>\n",
       "      <td>ESMOLOL</td>\n",
       "      <td>indication_treatment\\nindication_treatment\\nin...</td>\n",
       "      <td>indication_treatment</td>\n",
       "      <td>DOID_10763</td>\n",
       "      <td>NaN</td>\n",
       "      <td>DB00187</td>\n",
       "      <td>e296498d-530b-4346-af09-43008d65c46a.xml</td>\n",
       "      <td>Indication_treatment</td>\n",
       "    </tr>\n",
       "    <tr>\n",
       "      <th>3</th>\n",
       "      <td>20</td>\n",
       "      <td>['Amiloride HCl tablets are indicated as adjun...</td>\n",
       "      <td>HYPERTENSION</td>\n",
       "      <td>AMILORIDE</td>\n",
       "      <td>indication_treatment\\nindication_treatment\\nin...</td>\n",
       "      <td>NaN</td>\n",
       "      <td>DOID_10763</td>\n",
       "      <td>NaN</td>\n",
       "      <td>DB00594</td>\n",
       "      <td>62d4c259-7915-719c-e053-2a91aa0a35de.xml</td>\n",
       "      <td>Indication_treatment</td>\n",
       "    </tr>\n",
       "    <tr>\n",
       "      <th>4</th>\n",
       "      <td>21</td>\n",
       "      <td>['Carvedilol is an alpha/beta-adrenergic block...</td>\n",
       "      <td>HYPERTENSION</td>\n",
       "      <td>CARVEDILOL</td>\n",
       "      <td>indication_treatment\\nindication_treatment\\ni_...</td>\n",
       "      <td>indication_treatment</td>\n",
       "      <td>DOID_10763</td>\n",
       "      <td>NaN</td>\n",
       "      <td>DB01136</td>\n",
       "      <td>674ef26b-f8c1-2373-e053-2991aa0a20f6.xml</td>\n",
       "      <td>Indication_treatment</td>\n",
       "    </tr>\n",
       "  </tbody>\n",
       "</table>\n",
       "</div>"
      ],
      "text/plain": [
       "    #                                            context  disease_name  \\\n",
       "0   7  \\n                     \\nHypertension\\nTimolol...  HYPERTENSION   \n",
       "1  17  Fosinopril sodium tablets are indicated for th...  HYPERTENSION   \n",
       "2  19  ['\\n                     ', '1.1 Supraventricu...  HYPERTENSION   \n",
       "3  20  ['Amiloride HCl tablets are indicated as adjun...  HYPERTENSION   \n",
       "4  21  ['Carvedilol is an alpha/beta-adrenergic block...  HYPERTENSION   \n",
       "\n",
       "           drug_name                                    workers_answers  \\\n",
       "0  TIMOLOL ANHYDROUS  indication_treatment\\nindication_treatment\\nin...   \n",
       "1         FOSINOPRIL  indication_treatment\\nindication_treatment\\nin...   \n",
       "2            ESMOLOL  indication_treatment\\nindication_treatment\\nin...   \n",
       "3          AMILORIDE  indication_treatment\\nindication_treatment\\nin...   \n",
       "4         CARVEDILOL  indication_treatment\\nindication_treatment\\ni_...   \n",
       "\n",
       "         Medical Expert       do_id drug_brand_name  drug_id  \\\n",
       "0  indication_treatment  DOID_10763             NaN  DB00373   \n",
       "1  indication_treatment  DOID_10763             NaN  DB00492   \n",
       "2  indication_treatment  DOID_10763             NaN  DB00187   \n",
       "3                   NaN  DOID_10763             NaN  DB00594   \n",
       "4  indication_treatment  DOID_10763             NaN  DB01136   \n",
       "\n",
       "                                   label_id                 sheet  \n",
       "0  87fe4811-1f32-ae9e-e053-2a95a90a9f1d.xml  Indication_treatment  \n",
       "1  29914956-c794-4806-b038-f0784b9db3d3.xml  Indication_treatment  \n",
       "2  e296498d-530b-4346-af09-43008d65c46a.xml  Indication_treatment  \n",
       "3  62d4c259-7915-719c-e053-2a91aa0a35de.xml  Indication_treatment  \n",
       "4  674ef26b-f8c1-2373-e053-2991aa0a20f6.xml  Indication_treatment  "
      ]
     },
     "execution_count": 5,
     "metadata": {},
     "output_type": "execute_result"
    }
   ],
   "source": [
    "expert4 = pd.read_excel('../data/expert/Medical Expert Annotation 4.xlsx', sheet_name='Sheet1')\n",
    "expert4.head()"
   ]
  },
  {
   "cell_type": "code",
   "execution_count": 6,
   "metadata": {},
   "outputs": [
    {
     "data": {
      "text/plain": [
       "181"
      ]
     },
     "execution_count": 6,
     "metadata": {},
     "output_type": "execute_result"
    }
   ],
   "source": [
    "len(expert4)"
   ]
  },
  {
   "cell_type": "code",
   "execution_count": 7,
   "metadata": {},
   "outputs": [],
   "source": [
    "expert4.rename(columns={'Medical Expert':'medical_expert4'}, inplace=True)"
   ]
  },
  {
   "cell_type": "code",
   "execution_count": 8,
   "metadata": {},
   "outputs": [],
   "source": [
    "expert4.medical_expert4.replace({'indication_treatment':'Indication: Treatment',\n",
    "                                'indication_symptomatic_relief':'Indication: Symptomatic Relief',\n",
    "                                'contraindication':'Contraindication',\n",
    "                                'contraindicated':'Contraindication',\n",
    "                                'effect':'Effect'}, inplace=True)"
   ]
  },
  {
   "cell_type": "code",
   "execution_count": 9,
   "metadata": {},
   "outputs": [
    {
     "data": {
      "text/plain": [
       "array(['Indication: Treatment', nan, 'Indication: Symptomatic Relief',\n",
       "       'Effect', 'Contraindication'], dtype=object)"
      ]
     },
     "execution_count": 9,
     "metadata": {},
     "output_type": "execute_result"
    }
   ],
   "source": [
    "expert4.medical_expert4.unique()"
   ]
  },
  {
   "cell_type": "code",
   "execution_count": 10,
   "metadata": {},
   "outputs": [
    {
     "data": {
      "text/plain": [
       "359"
      ]
     },
     "execution_count": 10,
     "metadata": {},
     "output_type": "execute_result"
    }
   ],
   "source": [
    "match =expert_all.merge(expert4[['medical_expert4','label_id','do_id']], how='outer', on=['label_id','do_id'])\n",
    "len(match)"
   ]
  },
  {
   "cell_type": "code",
   "execution_count": 11,
   "metadata": {},
   "outputs": [
    {
     "data": {
      "text/plain": [
       "2    181\n",
       "3    150\n",
       "0     28\n",
       "Name: inter_agree_experts, dtype: int64"
      ]
     },
     "execution_count": 11,
     "metadata": {},
     "output_type": "execute_result"
    }
   ],
   "source": [
    "match.inter_agree_experts.value_counts()"
   ]
  },
  {
   "cell_type": "code",
   "execution_count": 12,
   "metadata": {},
   "outputs": [
    {
     "name": "stdout",
     "output_type": "stream",
     "text": [
      "resolved 143\n"
     ]
    }
   ],
   "source": [
    "consesus = [] \n",
    "resolved = 0\n",
    "for i, row in match.iterrows():\n",
    "    if (row['inter_agree_experts']) == 2:\n",
    "        if str(row['medical_expert4']) != 'nan':\n",
    "            consesus.append(row['medical_expert4'])\n",
    "            #print (row['medical_expert4'])\n",
    "            resolved +=1\n",
    "            #print ('droping', row['label_id'],row['do_id'])\n",
    "        else:\n",
    "            consesus.append(row['expert_consensus'])\n",
    "    else:\n",
    "        consesus.append(row['expert_consensus']) \n",
    "print ('resolved',resolved)"
   ]
  },
  {
   "cell_type": "code",
   "execution_count": 13,
   "metadata": {},
   "outputs": [],
   "source": [
    "match.expert_consensus = consesus"
   ]
  },
  {
   "cell_type": "code",
   "execution_count": 14,
   "metadata": {},
   "outputs": [
    {
     "data": {
      "text/plain": [
       "Indication: Treatment             118\n",
       "Contraindication                  116\n",
       "Indication: Symptomatic Relief     58\n",
       "Effect                             39\n",
       "No consensus                       28\n",
       "Name: expert_consensus, dtype: int64"
      ]
     },
     "execution_count": 14,
     "metadata": {},
     "output_type": "execute_result"
    }
   ],
   "source": [
    "match.expert_consensus.value_counts()"
   ]
  },
  {
   "cell_type": "code",
   "execution_count": 16,
   "metadata": {},
   "outputs": [],
   "source": [
    "meta_expert = pd.read_excel('../data/expert/experts_all_disagree_review.xlsx', sheet_name='experts_all_disagree')"
   ]
  },
  {
   "cell_type": "code",
   "execution_count": 17,
   "metadata": {},
   "outputs": [],
   "source": [
    "meta_expert['Final \\n(closest option)'].replace({'Indication_treatment':'Indication: Treatment',\n",
    "                                'Indication: Symptomatic relief':'Indication: Symptomatic Relief',\n",
    "                                'Treatment: Symptomatic relief':'Indication: Symptomatic Relief',\n",
    "                                 'contraindication':'Contraindication',\n",
    "                                'contraindicated':'Contraindication',\n",
    "                                'effect':'Effect'}, inplace=True)"
   ]
  },
  {
   "cell_type": "code",
   "execution_count": 18,
   "metadata": {},
   "outputs": [
    {
     "data": {
      "text/plain": [
       "array(['Indication: Treatment', 'Indication: Symptomatic Relief',\n",
       "       'Contraindication'], dtype=object)"
      ]
     },
     "execution_count": 18,
     "metadata": {},
     "output_type": "execute_result"
    }
   ],
   "source": [
    "meta_expert['Final \\n(closest option)'].unique()"
   ]
  },
  {
   "cell_type": "code",
   "execution_count": 19,
   "metadata": {},
   "outputs": [],
   "source": [
    "match= match.merge(meta_expert[['Final \\n(closest option)','label_id','do_id']], how='outer', on=['label_id','do_id'])\n"
   ]
  },
  {
   "cell_type": "code",
   "execution_count": 20,
   "metadata": {},
   "outputs": [
    {
     "data": {
      "text/html": [
       "<div>\n",
       "<style scoped>\n",
       "    .dataframe tbody tr th:only-of-type {\n",
       "        vertical-align: middle;\n",
       "    }\n",
       "\n",
       "    .dataframe tbody tr th {\n",
       "        vertical-align: top;\n",
       "    }\n",
       "\n",
       "    .dataframe thead th {\n",
       "        text-align: right;\n",
       "    }\n",
       "</style>\n",
       "<table border=\"1\" class=\"dataframe\">\n",
       "  <thead>\n",
       "    <tr style=\"text-align: right;\">\n",
       "      <th></th>\n",
       "      <th>#</th>\n",
       "      <th>context</th>\n",
       "      <th>disease_name</th>\n",
       "      <th>drug_name</th>\n",
       "      <th>workers_answers</th>\n",
       "      <th>medical_expert1</th>\n",
       "      <th>medical_expert2</th>\n",
       "      <th>medical_expert3</th>\n",
       "      <th>do_id</th>\n",
       "      <th>drug_brand_name</th>\n",
       "      <th>drug_id</th>\n",
       "      <th>label_id</th>\n",
       "      <th>sheet</th>\n",
       "      <th>expert_consensus</th>\n",
       "      <th>inter_agree_experts</th>\n",
       "      <th>medical_expert4</th>\n",
       "      <th>Final \\n(closest option)</th>\n",
       "    </tr>\n",
       "  </thead>\n",
       "  <tbody>\n",
       "    <tr>\n",
       "      <th>0</th>\n",
       "      <td>1.0</td>\n",
       "      <td>Nisoldipine extended-release tablets are indic...</td>\n",
       "      <td>HYPERTENSION</td>\n",
       "      <td>NISOLDIPINE</td>\n",
       "      <td>indication_treatment\\nindication_treatment\\nin...</td>\n",
       "      <td>Indication: Treatment</td>\n",
       "      <td>Indication: Treatment</td>\n",
       "      <td>Indication: Treatment</td>\n",
       "      <td>DOID_10763</td>\n",
       "      <td>NaN</td>\n",
       "      <td>DB00401</td>\n",
       "      <td>ce733b39-7857-4538-92d6-1c68a4e4eb75.xml</td>\n",
       "      <td>Indication_treatment</td>\n",
       "      <td>Indication: Treatment</td>\n",
       "      <td>3</td>\n",
       "      <td>NaN</td>\n",
       "      <td>NaN</td>\n",
       "    </tr>\n",
       "    <tr>\n",
       "      <th>1</th>\n",
       "      <td>2.0</td>\n",
       "      <td>[None, 'Bisoprolol fumarate tablets, USP are i...</td>\n",
       "      <td>HYPERTENSION</td>\n",
       "      <td>BISOPROLOL</td>\n",
       "      <td>indication_treatment\\nindication_treatment\\nin...</td>\n",
       "      <td>Indication: Treatment</td>\n",
       "      <td>Indication: Treatment</td>\n",
       "      <td>Indication: Treatment</td>\n",
       "      <td>DOID_10763</td>\n",
       "      <td>NaN</td>\n",
       "      <td>DB00612</td>\n",
       "      <td>c818c38d-ee37-4ceb-b078-611483b4f743.xml</td>\n",
       "      <td>Indication_treatment</td>\n",
       "      <td>Indication: Treatment</td>\n",
       "      <td>3</td>\n",
       "      <td>NaN</td>\n",
       "      <td>NaN</td>\n",
       "    </tr>\n",
       "    <tr>\n",
       "      <th>2</th>\n",
       "      <td>3.0</td>\n",
       "      <td>Pindolol tablets are indicated in the manageme...</td>\n",
       "      <td>HYPERTENSION</td>\n",
       "      <td>PINDOLOL</td>\n",
       "      <td>indication_treatment\\nindication_treatment\\nin...</td>\n",
       "      <td>Indication: Treatment</td>\n",
       "      <td>Indication: Treatment</td>\n",
       "      <td>Indication: Treatment</td>\n",
       "      <td>DOID_10763</td>\n",
       "      <td>NaN</td>\n",
       "      <td>DB00960</td>\n",
       "      <td>d4078b63-30ad-435b-a081-4d90562962b5.xml</td>\n",
       "      <td>Indication_treatment</td>\n",
       "      <td>Indication: Treatment</td>\n",
       "      <td>3</td>\n",
       "      <td>NaN</td>\n",
       "      <td>NaN</td>\n",
       "    </tr>\n",
       "    <tr>\n",
       "      <th>3</th>\n",
       "      <td>4.0</td>\n",
       "      <td>Eprosartan mesylate tablets are indicated for ...</td>\n",
       "      <td>HYPERTENSION</td>\n",
       "      <td>EPROSARTAN</td>\n",
       "      <td>indication_treatment\\nindication_treatment\\nin...</td>\n",
       "      <td>Indication: Treatment</td>\n",
       "      <td>Indication: Treatment</td>\n",
       "      <td>Indication: Treatment</td>\n",
       "      <td>DOID_10763</td>\n",
       "      <td>NaN</td>\n",
       "      <td>DB00876</td>\n",
       "      <td>ab531d28-345b-4113-9fde-00cd63ad5b1a.xml</td>\n",
       "      <td>Indication_treatment</td>\n",
       "      <td>Indication: Treatment</td>\n",
       "      <td>3</td>\n",
       "      <td>NaN</td>\n",
       "      <td>NaN</td>\n",
       "    </tr>\n",
       "    <tr>\n",
       "      <th>4</th>\n",
       "      <td>5.0</td>\n",
       "      <td>[None, 'Labetalol hydrochloride tablets, USP a...</td>\n",
       "      <td>HYPERTENSION</td>\n",
       "      <td>LABETALOL</td>\n",
       "      <td>indication_treatment\\nindication_treatment\\nin...</td>\n",
       "      <td>Indication: Treatment</td>\n",
       "      <td>Indication: Treatment</td>\n",
       "      <td>Indication: Treatment</td>\n",
       "      <td>DOID_10763</td>\n",
       "      <td>NaN</td>\n",
       "      <td>DB00598</td>\n",
       "      <td>78765cc3-27dc-0373-e053-2991aa0a7fe1.xml</td>\n",
       "      <td>Indication_treatment</td>\n",
       "      <td>Indication: Treatment</td>\n",
       "      <td>3</td>\n",
       "      <td>NaN</td>\n",
       "      <td>NaN</td>\n",
       "    </tr>\n",
       "  </tbody>\n",
       "</table>\n",
       "</div>"
      ],
      "text/plain": [
       "     #                                            context  disease_name  \\\n",
       "0  1.0  Nisoldipine extended-release tablets are indic...  HYPERTENSION   \n",
       "1  2.0  [None, 'Bisoprolol fumarate tablets, USP are i...  HYPERTENSION   \n",
       "2  3.0  Pindolol tablets are indicated in the manageme...  HYPERTENSION   \n",
       "3  4.0  Eprosartan mesylate tablets are indicated for ...  HYPERTENSION   \n",
       "4  5.0  [None, 'Labetalol hydrochloride tablets, USP a...  HYPERTENSION   \n",
       "\n",
       "     drug_name                                    workers_answers  \\\n",
       "0  NISOLDIPINE  indication_treatment\\nindication_treatment\\nin...   \n",
       "1   BISOPROLOL  indication_treatment\\nindication_treatment\\nin...   \n",
       "2     PINDOLOL  indication_treatment\\nindication_treatment\\nin...   \n",
       "3   EPROSARTAN  indication_treatment\\nindication_treatment\\nin...   \n",
       "4    LABETALOL  indication_treatment\\nindication_treatment\\nin...   \n",
       "\n",
       "         medical_expert1        medical_expert2        medical_expert3  \\\n",
       "0  Indication: Treatment  Indication: Treatment  Indication: Treatment   \n",
       "1  Indication: Treatment  Indication: Treatment  Indication: Treatment   \n",
       "2  Indication: Treatment  Indication: Treatment  Indication: Treatment   \n",
       "3  Indication: Treatment  Indication: Treatment  Indication: Treatment   \n",
       "4  Indication: Treatment  Indication: Treatment  Indication: Treatment   \n",
       "\n",
       "        do_id drug_brand_name  drug_id  \\\n",
       "0  DOID_10763             NaN  DB00401   \n",
       "1  DOID_10763             NaN  DB00612   \n",
       "2  DOID_10763             NaN  DB00960   \n",
       "3  DOID_10763             NaN  DB00876   \n",
       "4  DOID_10763             NaN  DB00598   \n",
       "\n",
       "                                   label_id                 sheet  \\\n",
       "0  ce733b39-7857-4538-92d6-1c68a4e4eb75.xml  Indication_treatment   \n",
       "1  c818c38d-ee37-4ceb-b078-611483b4f743.xml  Indication_treatment   \n",
       "2  d4078b63-30ad-435b-a081-4d90562962b5.xml  Indication_treatment   \n",
       "3  ab531d28-345b-4113-9fde-00cd63ad5b1a.xml  Indication_treatment   \n",
       "4  78765cc3-27dc-0373-e053-2991aa0a7fe1.xml  Indication_treatment   \n",
       "\n",
       "        expert_consensus  inter_agree_experts medical_expert4  \\\n",
       "0  Indication: Treatment                    3             NaN   \n",
       "1  Indication: Treatment                    3             NaN   \n",
       "2  Indication: Treatment                    3             NaN   \n",
       "3  Indication: Treatment                    3             NaN   \n",
       "4  Indication: Treatment                    3             NaN   \n",
       "\n",
       "  Final \\n(closest option)  \n",
       "0                      NaN  \n",
       "1                      NaN  \n",
       "2                      NaN  \n",
       "3                      NaN  \n",
       "4                      NaN  "
      ]
     },
     "execution_count": 20,
     "metadata": {},
     "output_type": "execute_result"
    }
   ],
   "source": [
    "match.head()"
   ]
  },
  {
   "cell_type": "code",
   "execution_count": 21,
   "metadata": {},
   "outputs": [],
   "source": [
    "indx = match[~match['Final \\n(closest option)'].isna()].index\n",
    "indx\n",
    "match.loc[indx,'expert_consensus'] = match.loc[indx,'Final \\n(closest option)']"
   ]
  },
  {
   "cell_type": "code",
   "execution_count": 22,
   "metadata": {},
   "outputs": [
    {
     "data": {
      "text/plain": [
       "Contraindication                  133\n",
       "Indication: Treatment             122\n",
       "Indication: Symptomatic Relief     65\n",
       "Effect                             39\n",
       "Name: expert_consensus, dtype: int64"
      ]
     },
     "execution_count": 22,
     "metadata": {},
     "output_type": "execute_result"
    }
   ],
   "source": [
    "match.expert_consensus.value_counts()"
   ]
  },
  {
   "cell_type": "code",
   "execution_count": 23,
   "metadata": {},
   "outputs": [
    {
     "data": {
      "text/plain": [
       "0"
      ]
     },
     "execution_count": 23,
     "metadata": {},
     "output_type": "execute_result"
    }
   ],
   "source": [
    "len(match[match.expert_consensus=='No consensus'])"
   ]
  },
  {
   "cell_type": "code",
   "execution_count": 24,
   "metadata": {},
   "outputs": [
    {
     "data": {
      "text/plain": [
       "359"
      ]
     },
     "execution_count": 24,
     "metadata": {},
     "output_type": "execute_result"
    }
   ],
   "source": [
    "match = match[match.expert_consensus!='No consensus']\n",
    "len(match)"
   ]
  },
  {
   "cell_type": "code",
   "execution_count": 25,
   "metadata": {},
   "outputs": [],
   "source": [
    "match.to_csv('../data/expert/expert_resolved_all.csv', index=False)"
   ]
  },
  {
   "cell_type": "code",
   "execution_count": null,
   "metadata": {},
   "outputs": [],
   "source": []
  }
 ],
 "metadata": {
  "kernelspec": {
   "display_name": "Python 3",
   "language": "python",
   "name": "python3"
  },
  "language_info": {
   "codemirror_mode": {
    "name": "ipython",
    "version": 3
   },
   "file_extension": ".py",
   "mimetype": "text/x-python",
   "name": "python",
   "nbconvert_exporter": "python",
   "pygments_lexer": "ipython3",
   "version": "3.8.3"
  }
 },
 "nbformat": 4,
 "nbformat_minor": 4
}
