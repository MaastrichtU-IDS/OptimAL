{
 "cells": [
  {
   "cell_type": "code",
   "execution_count": 1,
   "metadata": {},
   "outputs": [],
   "source": [
    "import pandas as pd"
   ]
  },
  {
   "cell_type": "markdown",
   "metadata": {},
   "source": [
    "### What is overlap between extracted drugs and the drugs in DrugCentral database?"
   ]
  },
  {
   "cell_type": "code",
   "execution_count": 2,
   "metadata": {},
   "outputs": [],
   "source": [
    "#import drug indications from drugcentral\n",
    "df_dcent = pd.read_csv('../data/input/drugcentral-contraindications.csv')"
   ]
  },
  {
   "cell_type": "code",
   "execution_count": 3,
   "metadata": {},
   "outputs": [
    {
     "data": {
      "text/html": [
       "<div>\n",
       "<style scoped>\n",
       "    .dataframe tbody tr th:only-of-type {\n",
       "        vertical-align: middle;\n",
       "    }\n",
       "\n",
       "    .dataframe tbody tr th {\n",
       "        vertical-align: top;\n",
       "    }\n",
       "\n",
       "    .dataframe thead th {\n",
       "        text-align: right;\n",
       "    }\n",
       "</style>\n",
       "<table border=\"1\" class=\"dataframe\">\n",
       "  <thead>\n",
       "    <tr style=\"text-align: right;\">\n",
       "      <th></th>\n",
       "      <th>id</th>\n",
       "      <th>struct_id</th>\n",
       "      <th>concept_id</th>\n",
       "      <th>relationship_name</th>\n",
       "      <th>concept_name</th>\n",
       "      <th>umls_cui</th>\n",
       "      <th>snomed_full_name</th>\n",
       "      <th>cui_semantic_type</th>\n",
       "      <th>snomed_conceptid</th>\n",
       "      <th>id-2</th>\n",
       "      <th>doid</th>\n",
       "      <th>source</th>\n",
       "      <th>xref</th>\n",
       "      <th>id-3</th>\n",
       "      <th>identifier</th>\n",
       "      <th>id_type</th>\n",
       "      <th>struct_id-2</th>\n",
       "      <th>parent_match</th>\n",
       "    </tr>\n",
       "  </thead>\n",
       "  <tbody>\n",
       "    <tr>\n",
       "      <th>0</th>\n",
       "      <td>173361</td>\n",
       "      <td>5237</td>\n",
       "      <td>21000154</td>\n",
       "      <td>contraindication</td>\n",
       "      <td>Bacterial infectious disease</td>\n",
       "      <td>C0004623</td>\n",
       "      <td>Bacterial infectious disease</td>\n",
       "      <td>T047</td>\n",
       "      <td>87628006</td>\n",
       "      <td>564836</td>\n",
       "      <td>DOID:104</td>\n",
       "      <td>UMLS_CUI</td>\n",
       "      <td>C0004623</td>\n",
       "      <td>1342674</td>\n",
       "      <td>DB11767</td>\n",
       "      <td>DRUGBANK_ID</td>\n",
       "      <td>5237</td>\n",
       "      <td>NaN</td>\n",
       "    </tr>\n",
       "    <tr>\n",
       "      <th>1</th>\n",
       "      <td>132838</td>\n",
       "      <td>4881</td>\n",
       "      <td>21001119</td>\n",
       "      <td>contraindication</td>\n",
       "      <td>Narcolepsy</td>\n",
       "      <td>C0027404</td>\n",
       "      <td>Narcolepsy</td>\n",
       "      <td>T047</td>\n",
       "      <td>60380001</td>\n",
       "      <td>553904</td>\n",
       "      <td>DOID:8986</td>\n",
       "      <td>UMLS_CUI</td>\n",
       "      <td>C0027404</td>\n",
       "      <td>1342174</td>\n",
       "      <td>DB09034</td>\n",
       "      <td>DRUGBANK_ID</td>\n",
       "      <td>4881</td>\n",
       "      <td>NaN</td>\n",
       "    </tr>\n",
       "    <tr>\n",
       "      <th>2</th>\n",
       "      <td>132852</td>\n",
       "      <td>1810</td>\n",
       "      <td>40249114</td>\n",
       "      <td>contraindication</td>\n",
       "      <td>Sjogren-Larsson syndrome</td>\n",
       "      <td>C0037231</td>\n",
       "      <td>Sjogren-Larsson syndrome</td>\n",
       "      <td>T019</td>\n",
       "      <td>111303009</td>\n",
       "      <td>555298</td>\n",
       "      <td>DOID:14501</td>\n",
       "      <td>UMLS_CUI</td>\n",
       "      <td>C0037231</td>\n",
       "      <td>1342172</td>\n",
       "      <td>DB09031</td>\n",
       "      <td>DRUGBANK_ID</td>\n",
       "      <td>1810</td>\n",
       "      <td>NaN</td>\n",
       "    </tr>\n",
       "    <tr>\n",
       "      <th>3</th>\n",
       "      <td>132882</td>\n",
       "      <td>4382</td>\n",
       "      <td>21001432</td>\n",
       "      <td>contraindication</td>\n",
       "      <td>Hypertensive disorder</td>\n",
       "      <td>C0020538</td>\n",
       "      <td>Hypertensive disorder</td>\n",
       "      <td>T047</td>\n",
       "      <td>38341003</td>\n",
       "      <td>567463</td>\n",
       "      <td>DOID:10763</td>\n",
       "      <td>UMLS_CUI</td>\n",
       "      <td>C0020538</td>\n",
       "      <td>1342049</td>\n",
       "      <td>DB08893</td>\n",
       "      <td>DRUGBANK_ID</td>\n",
       "      <td>4382</td>\n",
       "      <td>NaN</td>\n",
       "    </tr>\n",
       "    <tr>\n",
       "      <th>4</th>\n",
       "      <td>132898</td>\n",
       "      <td>4867</td>\n",
       "      <td>21002202</td>\n",
       "      <td>contraindication</td>\n",
       "      <td>Disease of liver</td>\n",
       "      <td>C0023895</td>\n",
       "      <td>Disease of liver</td>\n",
       "      <td>T047</td>\n",
       "      <td>235856003</td>\n",
       "      <td>544427</td>\n",
       "      <td>DOID:409</td>\n",
       "      <td>UMLS_CUI</td>\n",
       "      <td>C0023895</td>\n",
       "      <td>1343448</td>\n",
       "      <td>DB13762</td>\n",
       "      <td>DRUGBANK_ID</td>\n",
       "      <td>4867</td>\n",
       "      <td>NaN</td>\n",
       "    </tr>\n",
       "  </tbody>\n",
       "</table>\n",
       "</div>"
      ],
      "text/plain": [
       "       id  struct_id  concept_id relationship_name  \\\n",
       "0  173361       5237    21000154  contraindication   \n",
       "1  132838       4881    21001119  contraindication   \n",
       "2  132852       1810    40249114  contraindication   \n",
       "3  132882       4382    21001432  contraindication   \n",
       "4  132898       4867    21002202  contraindication   \n",
       "\n",
       "                   concept_name  umls_cui              snomed_full_name  \\\n",
       "0  Bacterial infectious disease  C0004623  Bacterial infectious disease   \n",
       "1                    Narcolepsy  C0027404                    Narcolepsy   \n",
       "2      Sjogren-Larsson syndrome  C0037231      Sjogren-Larsson syndrome   \n",
       "3         Hypertensive disorder  C0020538         Hypertensive disorder   \n",
       "4              Disease of liver  C0023895              Disease of liver   \n",
       "\n",
       "  cui_semantic_type  snomed_conceptid    id-2        doid    source      xref  \\\n",
       "0              T047          87628006  564836    DOID:104  UMLS_CUI  C0004623   \n",
       "1              T047          60380001  553904   DOID:8986  UMLS_CUI  C0027404   \n",
       "2              T019         111303009  555298  DOID:14501  UMLS_CUI  C0037231   \n",
       "3              T047          38341003  567463  DOID:10763  UMLS_CUI  C0020538   \n",
       "4              T047         235856003  544427    DOID:409  UMLS_CUI  C0023895   \n",
       "\n",
       "      id-3 identifier      id_type  struct_id-2 parent_match  \n",
       "0  1342674    DB11767  DRUGBANK_ID         5237          NaN  \n",
       "1  1342174    DB09034  DRUGBANK_ID         4881          NaN  \n",
       "2  1342172    DB09031  DRUGBANK_ID         1810          NaN  \n",
       "3  1342049    DB08893  DRUGBANK_ID         4382          NaN  \n",
       "4  1343448    DB13762  DRUGBANK_ID         4867          NaN  "
      ]
     },
     "execution_count": 3,
     "metadata": {},
     "output_type": "execute_result"
    }
   ],
   "source": [
    "df_dcent.head()"
   ]
  },
  {
   "cell_type": "code",
   "execution_count": 4,
   "metadata": {},
   "outputs": [
    {
     "data": {
      "text/plain": [
       "11889"
      ]
     },
     "execution_count": 4,
     "metadata": {},
     "output_type": "execute_result"
    }
   ],
   "source": [
    "len(df_dcent)"
   ]
  },
  {
   "cell_type": "code",
   "execution_count": 5,
   "metadata": {},
   "outputs": [],
   "source": [
    "df_dcent =df_dcent[['identifier', 'doid']]"
   ]
  },
  {
   "cell_type": "code",
   "execution_count": 6,
   "metadata": {},
   "outputs": [],
   "source": [
    "df_dcent= df_dcent.rename(columns={'identifier':'DB_ID','doid':'DO_ID'})"
   ]
  },
  {
   "cell_type": "code",
   "execution_count": 7,
   "metadata": {},
   "outputs": [],
   "source": [
    "df_dcent.DO_ID= df_dcent.DO_ID.str.replace(':','_')"
   ]
  },
  {
   "cell_type": "code",
   "execution_count": 8,
   "metadata": {},
   "outputs": [],
   "source": [
    "df_dcent= df_dcent.drop_duplicates()"
   ]
  },
  {
   "cell_type": "code",
   "execution_count": 9,
   "metadata": {},
   "outputs": [
    {
     "data": {
      "text/html": [
       "<div>\n",
       "<style scoped>\n",
       "    .dataframe tbody tr th:only-of-type {\n",
       "        vertical-align: middle;\n",
       "    }\n",
       "\n",
       "    .dataframe tbody tr th {\n",
       "        vertical-align: top;\n",
       "    }\n",
       "\n",
       "    .dataframe thead th {\n",
       "        text-align: right;\n",
       "    }\n",
       "</style>\n",
       "<table border=\"1\" class=\"dataframe\">\n",
       "  <thead>\n",
       "    <tr style=\"text-align: right;\">\n",
       "      <th></th>\n",
       "      <th>DB_ID</th>\n",
       "      <th>DO_ID</th>\n",
       "    </tr>\n",
       "  </thead>\n",
       "  <tbody>\n",
       "    <tr>\n",
       "      <th>0</th>\n",
       "      <td>DB11767</td>\n",
       "      <td>DOID_104</td>\n",
       "    </tr>\n",
       "    <tr>\n",
       "      <th>1</th>\n",
       "      <td>DB09034</td>\n",
       "      <td>DOID_8986</td>\n",
       "    </tr>\n",
       "    <tr>\n",
       "      <th>2</th>\n",
       "      <td>DB09031</td>\n",
       "      <td>DOID_14501</td>\n",
       "    </tr>\n",
       "    <tr>\n",
       "      <th>3</th>\n",
       "      <td>DB08893</td>\n",
       "      <td>DOID_10763</td>\n",
       "    </tr>\n",
       "    <tr>\n",
       "      <th>4</th>\n",
       "      <td>DB13762</td>\n",
       "      <td>DOID_409</td>\n",
       "    </tr>\n",
       "  </tbody>\n",
       "</table>\n",
       "</div>"
      ],
      "text/plain": [
       "     DB_ID       DO_ID\n",
       "0  DB11767    DOID_104\n",
       "1  DB09034   DOID_8986\n",
       "2  DB09031  DOID_14501\n",
       "3  DB08893  DOID_10763\n",
       "4  DB13762    DOID_409"
      ]
     },
     "execution_count": 9,
     "metadata": {},
     "output_type": "execute_result"
    }
   ],
   "source": [
    "df_dcent.head()"
   ]
  },
  {
   "cell_type": "code",
   "execution_count": 10,
   "metadata": {},
   "outputs": [
    {
     "name": "stdout",
     "output_type": "stream",
     "text": [
      "#Drugs: 1292 #Diseases: 427 #Indications: 11350 in DrugCentral\n"
     ]
    }
   ],
   "source": [
    "print (f\"#Drugs: {len(df_dcent['DB_ID'].unique())} #Diseases: {len(df_dcent['DO_ID'].unique())} #Indications: {len(df_dcent)} in DrugCentral\")"
   ]
  },
  {
   "cell_type": "code",
   "execution_count": 11,
   "metadata": {},
   "outputs": [],
   "source": [
    "CATEGORY= {'Effect': 0,\n",
    "'Contraindication': 1,\n",
    "'Symptomatic Relief': 2,\n",
    "'Treatment':3}"
   ]
  },
  {
   "cell_type": "code",
   "execution_count": 12,
   "metadata": {},
   "outputs": [],
   "source": [
    "df2_full = pd.read_csv('../data/output/train_data.csv')"
   ]
  },
  {
   "cell_type": "code",
   "execution_count": 13,
   "metadata": {},
   "outputs": [],
   "source": [
    "df3_full = pd.read_csv('../data/output/test_data.csv')"
   ]
  },
  {
   "cell_type": "code",
   "execution_count": 14,
   "metadata": {},
   "outputs": [
    {
     "data": {
      "text/html": [
       "<div>\n",
       "<style scoped>\n",
       "    .dataframe tbody tr th:only-of-type {\n",
       "        vertical-align: middle;\n",
       "    }\n",
       "\n",
       "    .dataframe tbody tr th {\n",
       "        vertical-align: top;\n",
       "    }\n",
       "\n",
       "    .dataframe thead th {\n",
       "        text-align: right;\n",
       "    }\n",
       "</style>\n",
       "<table border=\"1\" class=\"dataframe\">\n",
       "  <thead>\n",
       "    <tr style=\"text-align: right;\">\n",
       "      <th></th>\n",
       "      <th>Context</th>\n",
       "      <th>DB_ID</th>\n",
       "      <th>DO_ID</th>\n",
       "      <th>Drug_name</th>\n",
       "      <th>Label_ID</th>\n",
       "      <th>Section</th>\n",
       "      <th>Set_ID</th>\n",
       "      <th>disease</th>\n",
       "      <th>crowd_label</th>\n",
       "      <th>noisy_labels</th>\n",
       "    </tr>\n",
       "  </thead>\n",
       "  <tbody>\n",
       "    <tr>\n",
       "      <th>0</th>\n",
       "      <td>concomitant use or use in rapid succession wit...</td>\n",
       "      <td>DB00752</td>\n",
       "      <td>DOID_0050773</td>\n",
       "      <td>TRANYLCYPROMINE</td>\n",
       "      <td>9f3ad5aa-8e9d-4512-88a5-15cfd50293f9.xml</td>\n",
       "      <td>Contraindication</td>\n",
       "      <td>NaN</td>\n",
       "      <td>paraganglioma</td>\n",
       "      <td>NaN</td>\n",
       "      <td>0</td>\n",
       "    </tr>\n",
       "    <tr>\n",
       "      <th>1</th>\n",
       "      <td>concomitant use or use in rapid succession wit...</td>\n",
       "      <td>DB00752</td>\n",
       "      <td>DOID_225</td>\n",
       "      <td>TRANYLCYPROMINE</td>\n",
       "      <td>9f3ad5aa-8e9d-4512-88a5-15cfd50293f9.xml</td>\n",
       "      <td>Contraindication</td>\n",
       "      <td>NaN</td>\n",
       "      <td>syndrome</td>\n",
       "      <td>NaN</td>\n",
       "      <td>0</td>\n",
       "    </tr>\n",
       "  </tbody>\n",
       "</table>\n",
       "</div>"
      ],
      "text/plain": [
       "                                             Context    DB_ID         DO_ID  \\\n",
       "0  concomitant use or use in rapid succession wit...  DB00752  DOID_0050773   \n",
       "1  concomitant use or use in rapid succession wit...  DB00752      DOID_225   \n",
       "\n",
       "         Drug_name                                  Label_ID  \\\n",
       "0  TRANYLCYPROMINE  9f3ad5aa-8e9d-4512-88a5-15cfd50293f9.xml   \n",
       "1  TRANYLCYPROMINE  9f3ad5aa-8e9d-4512-88a5-15cfd50293f9.xml   \n",
       "\n",
       "            Section Set_ID        disease  crowd_label  noisy_labels  \n",
       "0  Contraindication    NaN  paraganglioma          NaN             0  \n",
       "1  Contraindication    NaN       syndrome          NaN             0  "
      ]
     },
     "execution_count": 14,
     "metadata": {},
     "output_type": "execute_result"
    }
   ],
   "source": [
    "df2_full.head(2)"
   ]
  },
  {
   "cell_type": "code",
   "execution_count": 15,
   "metadata": {},
   "outputs": [
    {
     "data": {
      "text/html": [
       "<div>\n",
       "<style scoped>\n",
       "    .dataframe tbody tr th:only-of-type {\n",
       "        vertical-align: middle;\n",
       "    }\n",
       "\n",
       "    .dataframe tbody tr th {\n",
       "        vertical-align: top;\n",
       "    }\n",
       "\n",
       "    .dataframe thead th {\n",
       "        text-align: right;\n",
       "    }\n",
       "</style>\n",
       "<table border=\"1\" class=\"dataframe\">\n",
       "  <thead>\n",
       "    <tr style=\"text-align: right;\">\n",
       "      <th></th>\n",
       "      <th>DB_ID</th>\n",
       "      <th>DO_ID</th>\n",
       "      <th>disease</th>\n",
       "      <th>Label_ID</th>\n",
       "      <th>Set_ID</th>\n",
       "      <th>crowd_label</th>\n",
       "      <th>Drug_name</th>\n",
       "      <th>Context</th>\n",
       "      <th>Section</th>\n",
       "      <th>noisy_labels</th>\n",
       "      <th>label</th>\n",
       "    </tr>\n",
       "  </thead>\n",
       "  <tbody>\n",
       "    <tr>\n",
       "      <th>0</th>\n",
       "      <td>DB00657</td>\n",
       "      <td>DOID_10824</td>\n",
       "      <td>malignant hypertension</td>\n",
       "      <td>976f404f-4857-4bad-9a3c-9bf3d5ca9f5b.xml</td>\n",
       "      <td>c6822ce4-e741-4366-b72a-5f5146354f97</td>\n",
       "      <td>NaN</td>\n",
       "      <td>Mecamylamine</td>\n",
       "      <td>for the management of moderately severe to sev...</td>\n",
       "      <td>Indications</td>\n",
       "      <td>3</td>\n",
       "      <td>3</td>\n",
       "    </tr>\n",
       "    <tr>\n",
       "      <th>1</th>\n",
       "      <td>DB00401</td>\n",
       "      <td>DOID_10763</td>\n",
       "      <td>hypertension</td>\n",
       "      <td>ce733b39-7857-4538-92d6-1c68a4e4eb75.xml</td>\n",
       "      <td>a6a8a8ba-3966-4f37-a58b-44d3b05bdc4e</td>\n",
       "      <td>treatment</td>\n",
       "      <td>Nisoldipine</td>\n",
       "      <td>nisoldipine extended release tablets are indic...</td>\n",
       "      <td>Indications</td>\n",
       "      <td>3</td>\n",
       "      <td>3</td>\n",
       "    </tr>\n",
       "  </tbody>\n",
       "</table>\n",
       "</div>"
      ],
      "text/plain": [
       "     DB_ID       DO_ID                 disease  \\\n",
       "0  DB00657  DOID_10824  malignant hypertension   \n",
       "1  DB00401  DOID_10763            hypertension   \n",
       "\n",
       "                                   Label_ID  \\\n",
       "0  976f404f-4857-4bad-9a3c-9bf3d5ca9f5b.xml   \n",
       "1  ce733b39-7857-4538-92d6-1c68a4e4eb75.xml   \n",
       "\n",
       "                                 Set_ID crowd_label     Drug_name  \\\n",
       "0  c6822ce4-e741-4366-b72a-5f5146354f97         NaN  Mecamylamine   \n",
       "1  a6a8a8ba-3966-4f37-a58b-44d3b05bdc4e   treatment   Nisoldipine   \n",
       "\n",
       "                                             Context      Section  \\\n",
       "0  for the management of moderately severe to sev...  Indications   \n",
       "1  nisoldipine extended release tablets are indic...  Indications   \n",
       "\n",
       "   noisy_labels  label  \n",
       "0             3      3  \n",
       "1             3      3  "
      ]
     },
     "execution_count": 15,
     "metadata": {},
     "output_type": "execute_result"
    }
   ],
   "source": [
    "df3_full.head(2)"
   ]
  },
  {
   "cell_type": "code",
   "execution_count": 16,
   "metadata": {},
   "outputs": [],
   "source": [
    "df2= df2_full[['DB_ID' ,'DO_ID']]"
   ]
  },
  {
   "cell_type": "code",
   "execution_count": 17,
   "metadata": {},
   "outputs": [],
   "source": [
    "df3= df3_full[['DB_ID' ,'DO_ID']]"
   ]
  },
  {
   "cell_type": "code",
   "execution_count": 18,
   "metadata": {},
   "outputs": [],
   "source": [
    "df2= df2.append(df3)"
   ]
  },
  {
   "cell_type": "code",
   "execution_count": 19,
   "metadata": {},
   "outputs": [],
   "source": [
    "df_extracted =df2.drop_duplicates()"
   ]
  },
  {
   "cell_type": "code",
   "execution_count": 20,
   "metadata": {},
   "outputs": [
    {
     "data": {
      "text/plain": [
       "4688"
      ]
     },
     "execution_count": 20,
     "metadata": {},
     "output_type": "execute_result"
    }
   ],
   "source": [
    "len(df_extracted)"
   ]
  },
  {
   "cell_type": "code",
   "execution_count": 21,
   "metadata": {},
   "outputs": [],
   "source": [
    "def get_common_drugs(df1, df2, drug_column):\n",
    "    merged =df1.merge(df2,on=[drug_column])\n",
    "    return merged[drug_column].unique()"
   ]
  },
  {
   "cell_type": "code",
   "execution_count": 22,
   "metadata": {},
   "outputs": [
    {
     "data": {
      "text/plain": [
       "752"
      ]
     },
     "execution_count": 22,
     "metadata": {},
     "output_type": "execute_result"
    }
   ],
   "source": [
    "len(get_common_drugs(df_dcent, df_extracted, 'DB_ID'))"
   ]
  },
  {
   "cell_type": "code",
   "execution_count": 23,
   "metadata": {},
   "outputs": [],
   "source": [
    "common_drugs = get_common_drugs(df_dcent, df_extracted, 'DB_ID')"
   ]
  },
  {
   "cell_type": "code",
   "execution_count": 24,
   "metadata": {},
   "outputs": [
    {
     "data": {
      "text/plain": [
       "3812"
      ]
     },
     "execution_count": 24,
     "metadata": {},
     "output_type": "execute_result"
    }
   ],
   "source": [
    "len(df_extracted[df_extracted.DB_ID.isin(common_drugs)])"
   ]
  },
  {
   "cell_type": "code",
   "execution_count": null,
   "metadata": {},
   "outputs": [],
   "source": []
  },
  {
   "cell_type": "code",
   "execution_count": 25,
   "metadata": {},
   "outputs": [],
   "source": [
    "def get_number_of_common_indications(df1, df2, drug_col, disease_col):\n",
    "    merged =df1.merge(df2,on=[drug_col,disease_col])\n",
    "    return len(merged)"
   ]
  },
  {
   "cell_type": "markdown",
   "metadata": {},
   "source": [
    "### number of extracted relations that match with contraindications"
   ]
  },
  {
   "cell_type": "code",
   "execution_count": 26,
   "metadata": {},
   "outputs": [
    {
     "data": {
      "text/plain": [
       "369"
      ]
     },
     "execution_count": 26,
     "metadata": {},
     "output_type": "execute_result"
    }
   ],
   "source": [
    "get_number_of_common_indications(df_dcent, df_extracted, 'DB_ID', 'DO_ID')"
   ]
  },
  {
   "cell_type": "code",
   "execution_count": 27,
   "metadata": {},
   "outputs": [],
   "source": [
    "#only relation with label 'contraindication'\n",
    "df2 =df2_full[df2_full.noisy_labels.isin( [1]) ]"
   ]
  },
  {
   "cell_type": "code",
   "execution_count": 28,
   "metadata": {},
   "outputs": [],
   "source": [
    "#only relation with label 'contraindication'\n",
    "df3 = df3_full[df3_full.noisy_labels.isin( [1]) ]"
   ]
  },
  {
   "cell_type": "code",
   "execution_count": 29,
   "metadata": {},
   "outputs": [],
   "source": [
    "df2= df2[['DB_ID' ,'DO_ID']]\n",
    "df3= df3[['DB_ID' ,'DO_ID']]\n",
    "df2= df2.append(df3)"
   ]
  },
  {
   "cell_type": "code",
   "execution_count": 30,
   "metadata": {},
   "outputs": [
    {
     "data": {
      "text/plain": [
       "10081"
      ]
     },
     "execution_count": 30,
     "metadata": {},
     "output_type": "execute_result"
    }
   ],
   "source": [
    "df_extracted =df2.drop_duplicates()\n",
    "len(df2)"
   ]
  },
  {
   "cell_type": "markdown",
   "metadata": {},
   "source": [
    "### number of extracted relations that correctly match with the DrrugCentral indications"
   ]
  },
  {
   "cell_type": "code",
   "execution_count": 31,
   "metadata": {},
   "outputs": [
    {
     "data": {
      "text/plain": [
       "262"
      ]
     },
     "execution_count": 31,
     "metadata": {},
     "output_type": "execute_result"
    }
   ],
   "source": [
    "get_number_of_common_indications(df_dcent, df_extracted, 'DB_ID', 'DO_ID')"
   ]
  },
  {
   "cell_type": "code",
   "execution_count": null,
   "metadata": {},
   "outputs": [],
   "source": []
  }
 ],
 "metadata": {
  "kernelspec": {
   "display_name": "Python 3",
   "language": "python",
   "name": "python3"
  },
  "language_info": {
   "codemirror_mode": {
    "name": "ipython",
    "version": 3
   },
   "file_extension": ".py",
   "mimetype": "text/x-python",
   "name": "python",
   "nbconvert_exporter": "python",
   "pygments_lexer": "ipython3",
   "version": "3.8.3"
  }
 },
 "nbformat": 4,
 "nbformat_minor": 4
}
