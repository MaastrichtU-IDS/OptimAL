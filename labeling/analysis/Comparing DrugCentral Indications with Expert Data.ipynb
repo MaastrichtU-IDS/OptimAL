{
 "cells": [
  {
   "cell_type": "code",
   "execution_count": 1,
   "metadata": {},
   "outputs": [],
   "source": [
    "import pandas as pd"
   ]
  },
  {
   "cell_type": "markdown",
   "metadata": {},
   "source": [
    "### What is overlap between extracted drugs and the drugs in DrugCentral database?"
   ]
  },
  {
   "cell_type": "code",
   "execution_count": 2,
   "metadata": {},
   "outputs": [],
   "source": [
    "#import drug indications from drugcentral\n",
    "df_dcent = pd.read_csv('../data/input/indications_wih_doid_drugbankid.csv')"
   ]
  },
  {
   "cell_type": "code",
   "execution_count": 3,
   "metadata": {},
   "outputs": [
    {
     "data": {
      "text/html": [
       "<div>\n",
       "<style scoped>\n",
       "    .dataframe tbody tr th:only-of-type {\n",
       "        vertical-align: middle;\n",
       "    }\n",
       "\n",
       "    .dataframe tbody tr th {\n",
       "        vertical-align: top;\n",
       "    }\n",
       "\n",
       "    .dataframe thead th {\n",
       "        text-align: right;\n",
       "    }\n",
       "</style>\n",
       "<table border=\"1\" class=\"dataframe\">\n",
       "  <thead>\n",
       "    <tr style=\"text-align: right;\">\n",
       "      <th></th>\n",
       "      <th>id</th>\n",
       "      <th>struct_id</th>\n",
       "      <th>concept_id</th>\n",
       "      <th>relationship_name</th>\n",
       "      <th>concept_name</th>\n",
       "      <th>umls_cui</th>\n",
       "      <th>snomed_full_name</th>\n",
       "      <th>cui_semantic_type</th>\n",
       "      <th>snomed_conceptid</th>\n",
       "      <th>id-2</th>\n",
       "      <th>doid</th>\n",
       "      <th>source</th>\n",
       "      <th>xref</th>\n",
       "      <th>id-3</th>\n",
       "      <th>identifier</th>\n",
       "      <th>id_type</th>\n",
       "      <th>struct_id-2</th>\n",
       "      <th>parent_match</th>\n",
       "    </tr>\n",
       "  </thead>\n",
       "  <tbody>\n",
       "    <tr>\n",
       "      <th>0</th>\n",
       "      <td>173432</td>\n",
       "      <td>965</td>\n",
       "      <td>40249340</td>\n",
       "      <td>indication</td>\n",
       "      <td>Malignant tumor of breast</td>\n",
       "      <td>C0006142</td>\n",
       "      <td>Malignant tumor of breast</td>\n",
       "      <td>T191</td>\n",
       "      <td>254837009</td>\n",
       "      <td>570664</td>\n",
       "      <td>DOID:1612</td>\n",
       "      <td>UMLS_CUI</td>\n",
       "      <td>C0006142</td>\n",
       "      <td>1343872</td>\n",
       "      <td>DB00858</td>\n",
       "      <td>DRUGBANK_ID</td>\n",
       "      <td>965</td>\n",
       "      <td>True</td>\n",
       "    </tr>\n",
       "    <tr>\n",
       "      <th>1</th>\n",
       "      <td>173432</td>\n",
       "      <td>965</td>\n",
       "      <td>40249340</td>\n",
       "      <td>indication</td>\n",
       "      <td>Malignant tumor of breast</td>\n",
       "      <td>C0006142</td>\n",
       "      <td>Malignant tumor of breast</td>\n",
       "      <td>T191</td>\n",
       "      <td>254837009</td>\n",
       "      <td>570664</td>\n",
       "      <td>DOID:1612</td>\n",
       "      <td>UMLS_CUI</td>\n",
       "      <td>C0006142</td>\n",
       "      <td>1343651</td>\n",
       "      <td>DB14655</td>\n",
       "      <td>DRUGBANK_ID</td>\n",
       "      <td>965</td>\n",
       "      <td>NaN</td>\n",
       "    </tr>\n",
       "    <tr>\n",
       "      <th>2</th>\n",
       "      <td>173433</td>\n",
       "      <td>318</td>\n",
       "      <td>21000716</td>\n",
       "      <td>indication</td>\n",
       "      <td>Gout</td>\n",
       "      <td>C0018099</td>\n",
       "      <td>Gout</td>\n",
       "      <td>T047</td>\n",
       "      <td>90560007</td>\n",
       "      <td>556791</td>\n",
       "      <td>DOID:13189</td>\n",
       "      <td>UMLS_CUI</td>\n",
       "      <td>C0018099</td>\n",
       "      <td>1342779</td>\n",
       "      <td>DB12319</td>\n",
       "      <td>DRUGBANK_ID</td>\n",
       "      <td>318</td>\n",
       "      <td>NaN</td>\n",
       "    </tr>\n",
       "    <tr>\n",
       "      <th>3</th>\n",
       "      <td>173434</td>\n",
       "      <td>318</td>\n",
       "      <td>21003276</td>\n",
       "      <td>indication</td>\n",
       "      <td>Hyperuricemia</td>\n",
       "      <td>C0740394</td>\n",
       "      <td>Hyperuricemia</td>\n",
       "      <td>T047</td>\n",
       "      <td>35885006</td>\n",
       "      <td>561599</td>\n",
       "      <td>DOID:1920</td>\n",
       "      <td>UMLS_CUI</td>\n",
       "      <td>C0740394</td>\n",
       "      <td>1342779</td>\n",
       "      <td>DB12319</td>\n",
       "      <td>DRUGBANK_ID</td>\n",
       "      <td>318</td>\n",
       "      <td>NaN</td>\n",
       "    </tr>\n",
       "    <tr>\n",
       "      <th>4</th>\n",
       "      <td>173435</td>\n",
       "      <td>1031</td>\n",
       "      <td>21001432</td>\n",
       "      <td>indication</td>\n",
       "      <td>Hypertensive disorder</td>\n",
       "      <td>C0020538</td>\n",
       "      <td>Hypertensive disorder</td>\n",
       "      <td>T047</td>\n",
       "      <td>38341003</td>\n",
       "      <td>567463</td>\n",
       "      <td>DOID:10763</td>\n",
       "      <td>UMLS_CUI</td>\n",
       "      <td>C0020538</td>\n",
       "      <td>1343568</td>\n",
       "      <td>DB13989</td>\n",
       "      <td>DRUGBANK_ID</td>\n",
       "      <td>1031</td>\n",
       "      <td>NaN</td>\n",
       "    </tr>\n",
       "  </tbody>\n",
       "</table>\n",
       "</div>"
      ],
      "text/plain": [
       "       id  struct_id  concept_id relationship_name               concept_name  \\\n",
       "0  173432        965    40249340        indication  Malignant tumor of breast   \n",
       "1  173432        965    40249340        indication  Malignant tumor of breast   \n",
       "2  173433        318    21000716        indication                       Gout   \n",
       "3  173434        318    21003276        indication              Hyperuricemia   \n",
       "4  173435       1031    21001432        indication      Hypertensive disorder   \n",
       "\n",
       "   umls_cui           snomed_full_name cui_semantic_type  snomed_conceptid  \\\n",
       "0  C0006142  Malignant tumor of breast              T191         254837009   \n",
       "1  C0006142  Malignant tumor of breast              T191         254837009   \n",
       "2  C0018099                       Gout              T047          90560007   \n",
       "3  C0740394              Hyperuricemia              T047          35885006   \n",
       "4  C0020538      Hypertensive disorder              T047          38341003   \n",
       "\n",
       "     id-2        doid    source      xref     id-3 identifier      id_type  \\\n",
       "0  570664   DOID:1612  UMLS_CUI  C0006142  1343872    DB00858  DRUGBANK_ID   \n",
       "1  570664   DOID:1612  UMLS_CUI  C0006142  1343651    DB14655  DRUGBANK_ID   \n",
       "2  556791  DOID:13189  UMLS_CUI  C0018099  1342779    DB12319  DRUGBANK_ID   \n",
       "3  561599   DOID:1920  UMLS_CUI  C0740394  1342779    DB12319  DRUGBANK_ID   \n",
       "4  567463  DOID:10763  UMLS_CUI  C0020538  1343568    DB13989  DRUGBANK_ID   \n",
       "\n",
       "   struct_id-2 parent_match  \n",
       "0          965         True  \n",
       "1          965          NaN  \n",
       "2          318          NaN  \n",
       "3          318          NaN  \n",
       "4         1031          NaN  "
      ]
     },
     "execution_count": 3,
     "metadata": {},
     "output_type": "execute_result"
    }
   ],
   "source": [
    "df_dcent.head()"
   ]
  },
  {
   "cell_type": "code",
   "execution_count": 4,
   "metadata": {},
   "outputs": [
    {
     "data": {
      "text/plain": [
       "3732"
      ]
     },
     "execution_count": 4,
     "metadata": {},
     "output_type": "execute_result"
    }
   ],
   "source": [
    "len(df_dcent)"
   ]
  },
  {
   "cell_type": "code",
   "execution_count": 5,
   "metadata": {},
   "outputs": [],
   "source": [
    "df_dcent =df_dcent[['identifier', 'doid']]"
   ]
  },
  {
   "cell_type": "code",
   "execution_count": 6,
   "metadata": {},
   "outputs": [],
   "source": [
    "df_dcent= df_dcent.rename(columns={'identifier':'DB_ID','doid':'DO_ID'})"
   ]
  },
  {
   "cell_type": "code",
   "execution_count": 7,
   "metadata": {},
   "outputs": [],
   "source": [
    "df_dcent.DO_ID= df_dcent.DO_ID.str.replace(':','_')"
   ]
  },
  {
   "cell_type": "code",
   "execution_count": 8,
   "metadata": {},
   "outputs": [],
   "source": [
    "df_dcent= df_dcent.drop_duplicates()"
   ]
  },
  {
   "cell_type": "code",
   "execution_count": 9,
   "metadata": {},
   "outputs": [
    {
     "data": {
      "text/html": [
       "<div>\n",
       "<style scoped>\n",
       "    .dataframe tbody tr th:only-of-type {\n",
       "        vertical-align: middle;\n",
       "    }\n",
       "\n",
       "    .dataframe tbody tr th {\n",
       "        vertical-align: top;\n",
       "    }\n",
       "\n",
       "    .dataframe thead th {\n",
       "        text-align: right;\n",
       "    }\n",
       "</style>\n",
       "<table border=\"1\" class=\"dataframe\">\n",
       "  <thead>\n",
       "    <tr style=\"text-align: right;\">\n",
       "      <th></th>\n",
       "      <th>DB_ID</th>\n",
       "      <th>DO_ID</th>\n",
       "    </tr>\n",
       "  </thead>\n",
       "  <tbody>\n",
       "    <tr>\n",
       "      <th>0</th>\n",
       "      <td>DB00858</td>\n",
       "      <td>DOID_1612</td>\n",
       "    </tr>\n",
       "    <tr>\n",
       "      <th>1</th>\n",
       "      <td>DB14655</td>\n",
       "      <td>DOID_1612</td>\n",
       "    </tr>\n",
       "    <tr>\n",
       "      <th>2</th>\n",
       "      <td>DB12319</td>\n",
       "      <td>DOID_13189</td>\n",
       "    </tr>\n",
       "    <tr>\n",
       "      <th>3</th>\n",
       "      <td>DB12319</td>\n",
       "      <td>DOID_1920</td>\n",
       "    </tr>\n",
       "    <tr>\n",
       "      <th>4</th>\n",
       "      <td>DB13989</td>\n",
       "      <td>DOID_10763</td>\n",
       "    </tr>\n",
       "  </tbody>\n",
       "</table>\n",
       "</div>"
      ],
      "text/plain": [
       "     DB_ID       DO_ID\n",
       "0  DB00858   DOID_1612\n",
       "1  DB14655   DOID_1612\n",
       "2  DB12319  DOID_13189\n",
       "3  DB12319   DOID_1920\n",
       "4  DB13989  DOID_10763"
      ]
     },
     "execution_count": 9,
     "metadata": {},
     "output_type": "execute_result"
    }
   ],
   "source": [
    "df_dcent.head()"
   ]
  },
  {
   "cell_type": "code",
   "execution_count": 10,
   "metadata": {},
   "outputs": [
    {
     "name": "stdout",
     "output_type": "stream",
     "text": [
      "#Drugs: 1475 #Diseases: 542 #Indications: 3412 in DrugCentral\n"
     ]
    }
   ],
   "source": [
    "print (f\"#Drugs: {len(df_dcent['DB_ID'].unique())} #Diseases: {len(df_dcent['DO_ID'].unique())} #Indications: {len(df_dcent)} in DrugCentral\")"
   ]
  },
  {
   "cell_type": "code",
   "execution_count": 11,
   "metadata": {},
   "outputs": [],
   "source": [
    "CATEGORY= {'Effect': 0,\n",
    "'Contrainduniqueion': 1,\n",
    "'Symptomatic Relief': 2,\n",
    "'Treatment':3}"
   ]
  },
  {
   "cell_type": "code",
   "execution_count": 12,
   "metadata": {},
   "outputs": [],
   "source": [
    "df3_full = pd.read_csv('../data/output/test_data.csv')"
   ]
  },
  {
   "cell_type": "code",
   "execution_count": 14,
   "metadata": {},
   "outputs": [
    {
     "data": {
      "text/html": [
       "<div>\n",
       "<style scoped>\n",
       "    .dataframe tbody tr th:only-of-type {\n",
       "        vertical-align: middle;\n",
       "    }\n",
       "\n",
       "    .dataframe tbody tr th {\n",
       "        vertical-align: top;\n",
       "    }\n",
       "\n",
       "    .dataframe thead th {\n",
       "        text-align: right;\n",
       "    }\n",
       "</style>\n",
       "<table border=\"1\" class=\"dataframe\">\n",
       "  <thead>\n",
       "    <tr style=\"text-align: right;\">\n",
       "      <th></th>\n",
       "      <th>DB_ID</th>\n",
       "      <th>DO_ID</th>\n",
       "      <th>disease</th>\n",
       "      <th>Label_ID</th>\n",
       "      <th>Set_ID</th>\n",
       "      <th>crowd_label</th>\n",
       "      <th>Drug_name</th>\n",
       "      <th>Context</th>\n",
       "      <th>Section</th>\n",
       "      <th>noisy_labels</th>\n",
       "      <th>label</th>\n",
       "    </tr>\n",
       "  </thead>\n",
       "  <tbody>\n",
       "    <tr>\n",
       "      <th>0</th>\n",
       "      <td>DB00657</td>\n",
       "      <td>DOID_10824</td>\n",
       "      <td>malignant hypertension</td>\n",
       "      <td>976f404f-4857-4bad-9a3c-9bf3d5ca9f5b.xml</td>\n",
       "      <td>c6822ce4-e741-4366-b72a-5f5146354f97</td>\n",
       "      <td>NaN</td>\n",
       "      <td>Mecamylamine</td>\n",
       "      <td>for the management of moderately severe to sev...</td>\n",
       "      <td>Indications</td>\n",
       "      <td>3</td>\n",
       "      <td>3</td>\n",
       "    </tr>\n",
       "    <tr>\n",
       "      <th>1</th>\n",
       "      <td>DB00401</td>\n",
       "      <td>DOID_10763</td>\n",
       "      <td>hypertension</td>\n",
       "      <td>ce733b39-7857-4538-92d6-1c68a4e4eb75.xml</td>\n",
       "      <td>a6a8a8ba-3966-4f37-a58b-44d3b05bdc4e</td>\n",
       "      <td>treatment</td>\n",
       "      <td>Nisoldipine</td>\n",
       "      <td>nisoldipine extended release tablets are indic...</td>\n",
       "      <td>Indications</td>\n",
       "      <td>3</td>\n",
       "      <td>3</td>\n",
       "    </tr>\n",
       "  </tbody>\n",
       "</table>\n",
       "</div>"
      ],
      "text/plain": [
       "     DB_ID       DO_ID                 disease  \\\n",
       "0  DB00657  DOID_10824  malignant hypertension   \n",
       "1  DB00401  DOID_10763            hypertension   \n",
       "\n",
       "                                   Label_ID  \\\n",
       "0  976f404f-4857-4bad-9a3c-9bf3d5ca9f5b.xml   \n",
       "1  ce733b39-7857-4538-92d6-1c68a4e4eb75.xml   \n",
       "\n",
       "                                 Set_ID crowd_label     Drug_name  \\\n",
       "0  c6822ce4-e741-4366-b72a-5f5146354f97         NaN  Mecamylamine   \n",
       "1  a6a8a8ba-3966-4f37-a58b-44d3b05bdc4e   treatment   Nisoldipine   \n",
       "\n",
       "                                             Context      Section  \\\n",
       "0  for the management of moderately severe to sev...  Indications   \n",
       "1  nisoldipine extended release tablets are indic...  Indications   \n",
       "\n",
       "   noisy_labels  label  \n",
       "0             3      3  \n",
       "1             3      3  "
      ]
     },
     "execution_count": 14,
     "metadata": {},
     "output_type": "execute_result"
    }
   ],
   "source": [
    "df3_full.head(2)"
   ]
  },
  {
   "cell_type": "code",
   "execution_count": 15,
   "metadata": {},
   "outputs": [],
   "source": [
    "df3= df3_full[['DB_ID' ,'DO_ID']]"
   ]
  },
  {
   "cell_type": "code",
   "execution_count": 16,
   "metadata": {},
   "outputs": [],
   "source": [
    "df_extracted =df3.drop_duplicates()"
   ]
  },
  {
   "cell_type": "code",
   "execution_count": 17,
   "metadata": {},
   "outputs": [
    {
     "data": {
      "text/plain": [
       "281"
      ]
     },
     "execution_count": 17,
     "metadata": {},
     "output_type": "execute_result"
    }
   ],
   "source": [
    "len(df_extracted)"
   ]
  },
  {
   "cell_type": "code",
   "execution_count": 18,
   "metadata": {},
   "outputs": [],
   "source": [
    "def get_common_drugs(df1, df2, drug_column):\n",
    "    merged =df1.merge(df2,on=[drug_column])\n",
    "    return merged[drug_column].unique()"
   ]
  },
  {
   "cell_type": "code",
   "execution_count": 19,
   "metadata": {},
   "outputs": [
    {
     "data": {
      "text/plain": [
       "179"
      ]
     },
     "execution_count": 19,
     "metadata": {},
     "output_type": "execute_result"
    }
   ],
   "source": [
    "len(get_common_drugs(df_dcent, df_extracted, 'DB_ID'))"
   ]
  },
  {
   "cell_type": "code",
   "execution_count": 20,
   "metadata": {},
   "outputs": [],
   "source": [
    "common_drugs = get_common_drugs(df_dcent, df_extracted, 'DB_ID')"
   ]
  },
  {
   "cell_type": "code",
   "execution_count": 21,
   "metadata": {},
   "outputs": [
    {
     "data": {
      "text/plain": [
       "233"
      ]
     },
     "execution_count": 21,
     "metadata": {},
     "output_type": "execute_result"
    }
   ],
   "source": [
    "len(df_extracted[df_extracted.DB_ID.isin(common_drugs)])"
   ]
  },
  {
   "cell_type": "code",
   "execution_count": 22,
   "metadata": {},
   "outputs": [],
   "source": [
    "def get_number_of_common_indications(df1, df2, drug_col, disease_col):\n",
    "    merged =df1.merge(df2,on=[drug_col,disease_col])\n",
    "    return len(merged)"
   ]
  },
  {
   "cell_type": "markdown",
   "metadata": {},
   "source": [
    "### number of extracted relations that match with indications"
   ]
  },
  {
   "cell_type": "code",
   "execution_count": 23,
   "metadata": {},
   "outputs": [
    {
     "data": {
      "text/plain": [
       "110"
      ]
     },
     "execution_count": 23,
     "metadata": {},
     "output_type": "execute_result"
    }
   ],
   "source": [
    "get_number_of_common_indications(df_dcent, df_extracted, 'DB_ID', 'DO_ID')"
   ]
  },
  {
   "cell_type": "code",
   "execution_count": 24,
   "metadata": {},
   "outputs": [],
   "source": [
    "#only relation with label 'treatement' and 'relief'\n",
    "df3 = df3_full[df3_full.label.isin( [2,3]) ]"
   ]
  },
  {
   "cell_type": "code",
   "execution_count": 29,
   "metadata": {},
   "outputs": [],
   "source": [
    "df3= df3[['DB_ID' ,'DO_ID']]\n"
   ]
  },
  {
   "cell_type": "code",
   "execution_count": 25,
   "metadata": {},
   "outputs": [
    {
     "data": {
      "text/plain": [
       "159"
      ]
     },
     "execution_count": 25,
     "metadata": {},
     "output_type": "execute_result"
    }
   ],
   "source": [
    "df_extracted =df3.drop_duplicates()\n",
    "len(df_extracted)"
   ]
  },
  {
   "cell_type": "markdown",
   "metadata": {},
   "source": [
    "### number of extracted relations that correctly match with the DrrugCentral indications"
   ]
  },
  {
   "cell_type": "code",
   "execution_count": 26,
   "metadata": {},
   "outputs": [
    {
     "data": {
      "text/plain": [
       "109"
      ]
     },
     "execution_count": 26,
     "metadata": {},
     "output_type": "execute_result"
    }
   ],
   "source": [
    "get_number_of_common_indications(df_dcent, df_extracted, 'DB_ID', 'DO_ID')"
   ]
  },
  {
   "cell_type": "code",
   "execution_count": null,
   "metadata": {},
   "outputs": [],
   "source": []
  }
 ],
 "metadata": {
  "kernelspec": {
   "display_name": "Python 3",
   "language": "python",
   "name": "python3"
  },
  "language_info": {
   "codemirror_mode": {
    "name": "ipython",
    "version": 3
   },
   "file_extension": ".py",
   "mimetype": "text/x-python",
   "name": "python",
   "nbconvert_exporter": "python",
   "pygments_lexer": "ipython3",
   "version": "3.6.12"
  }
 },
 "nbformat": 4,
 "nbformat_minor": 4
}
