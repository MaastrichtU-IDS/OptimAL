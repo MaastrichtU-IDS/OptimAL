{
 "cells": [
  {
   "cell_type": "code",
   "execution_count": 46,
   "metadata": {},
   "outputs": [
    {
     "name": "stdout",
     "output_type": "stream",
     "text": [
      "Collecting matplotlib-venn\n",
      "  Downloading matplotlib-venn-0.11.6.tar.gz (29 kB)\n",
      "Requirement already satisfied: matplotlib in /Users/remzicelebi/opt/anaconda3/lib/python3.8/site-packages (from matplotlib-venn) (3.2.2)\n",
      "Requirement already satisfied: numpy in /Users/remzicelebi/opt/anaconda3/lib/python3.8/site-packages (from matplotlib-venn) (1.16.1)\n",
      "Requirement already satisfied: scipy in /Users/remzicelebi/opt/anaconda3/lib/python3.8/site-packages (from matplotlib-venn) (1.5.0)\n",
      "Requirement already satisfied: pyparsing!=2.0.4,!=2.1.2,!=2.1.6,>=2.0.1 in /Users/remzicelebi/opt/anaconda3/lib/python3.8/site-packages (from matplotlib->matplotlib-venn) (2.4.7)\n",
      "Requirement already satisfied: kiwisolver>=1.0.1 in /Users/remzicelebi/opt/anaconda3/lib/python3.8/site-packages (from matplotlib->matplotlib-venn) (1.2.0)\n",
      "Requirement already satisfied: python-dateutil>=2.1 in /Users/remzicelebi/opt/anaconda3/lib/python3.8/site-packages (from matplotlib->matplotlib-venn) (2.8.1)\n",
      "Requirement already satisfied: cycler>=0.10 in /Users/remzicelebi/opt/anaconda3/lib/python3.8/site-packages (from matplotlib->matplotlib-venn) (0.10.0)\n",
      "Requirement already satisfied: six>=1.5 in /Users/remzicelebi/opt/anaconda3/lib/python3.8/site-packages (from python-dateutil>=2.1->matplotlib->matplotlib-venn) (1.15.0)\n",
      "Building wheels for collected packages: matplotlib-venn\n",
      "  Building wheel for matplotlib-venn (setup.py) ... \u001b[?25ldone\n",
      "\u001b[?25h  Created wheel for matplotlib-venn: filename=matplotlib_venn-0.11.6-py3-none-any.whl size=32061 sha256=8928f9957b457240069c6a1d35edeab07685e22a98b32bbe1953743a7c1348a1\n",
      "  Stored in directory: /Users/remzicelebi/Library/Caches/pip/wheels/82/e4/64/dd790d424818bc2f59c11471a1eee5dc8cfcd3f8ee8c4812fa\n",
      "Successfully built matplotlib-venn\n",
      "Installing collected packages: matplotlib-venn\n",
      "Successfully installed matplotlib-venn-0.11.6\n"
     ]
    }
   ],
   "source": [
    "!pip install matplotlib-venn"
   ]
  },
  {
   "cell_type": "code",
   "execution_count": 47,
   "metadata": {},
   "outputs": [
    {
     "data": {
      "image/png": "[encoded data removed]",
      "text/plain": [
       "<Figure size 432x288 with 1 Axes>"
      ]
     },
     "metadata": {},
     "output_type": "display_data"
    }
   ],
   "source": [
    "import matplotlib.pyplot as plt\n",
    "from matplotlib_venn import venn3\n",
    " \n",
    "# Make the diagram\n",
    "venn3(set_labels= ['Drug1','Drug2', 'Drug3'],subsets = (10, 8, 22, 6,9,4,2))\n",
    "plt.show()\n"
   ]
  },
  {
   "cell_type": "code",
   "execution_count": 1,
   "metadata": {},
   "outputs": [],
   "source": [
    "import pandas as pd"
   ]
  },
  {
   "cell_type": "code",
   "execution_count": 7,
   "metadata": {},
   "outputs": [],
   "source": [
    "sider_df = pd.read_csv('https://raw.githubusercontent.com/dhimmel/SIDER4/master/data/indications.tsv', sep='\\t')"
   ]
  },
  {
   "cell_type": "code",
   "execution_count": 8,
   "metadata": {},
   "outputs": [],
   "source": [
    "sider_df.to_csv('../data/input/sider_indications.csv')"
   ]
  },
  {
   "cell_type": "code",
   "execution_count": 13,
   "metadata": {},
   "outputs": [
    {
     "data": {
      "text/html": [
       "<div>\n",
       "<style scoped>\n",
       "    .dataframe tbody tr th:only-of-type {\n",
       "        vertical-align: middle;\n",
       "    }\n",
       "\n",
       "    .dataframe tbody tr th {\n",
       "        vertical-align: top;\n",
       "    }\n",
       "\n",
       "    .dataframe thead th {\n",
       "        text-align: right;\n",
       "    }\n",
       "</style>\n",
       "<table border=\"1\" class=\"dataframe\">\n",
       "  <thead>\n",
       "    <tr style=\"text-align: right;\">\n",
       "      <th></th>\n",
       "      <th>drugbank_id</th>\n",
       "      <th>drugbank_name</th>\n",
       "      <th>pubchem_id</th>\n",
       "      <th>stitch_id_flat</th>\n",
       "      <th>umls_cui_from_label</th>\n",
       "      <th>method</th>\n",
       "      <th>concept_name</th>\n",
       "      <th>meddra_type</th>\n",
       "      <th>umls_cui_from_meddra</th>\n",
       "      <th>meddra_name</th>\n",
       "    </tr>\n",
       "  </thead>\n",
       "  <tbody>\n",
       "    <tr>\n",
       "      <th>0</th>\n",
       "      <td>DB00014</td>\n",
       "      <td>Goserelin</td>\n",
       "      <td>47725</td>\n",
       "      <td>CID100047725</td>\n",
       "      <td>C0002871</td>\n",
       "      <td>text_mention</td>\n",
       "      <td>Anemia</td>\n",
       "      <td>PT</td>\n",
       "      <td>C0002871</td>\n",
       "      <td>Anaemia</td>\n",
       "    </tr>\n",
       "    <tr>\n",
       "      <th>1</th>\n",
       "      <td>DB00014</td>\n",
       "      <td>Goserelin</td>\n",
       "      <td>47725</td>\n",
       "      <td>CID100047725</td>\n",
       "      <td>C0006142</td>\n",
       "      <td>NLP_indication</td>\n",
       "      <td>Malignant neoplasm of breast</td>\n",
       "      <td>PT</td>\n",
       "      <td>C0006142</td>\n",
       "      <td>Breast cancer</td>\n",
       "    </tr>\n",
       "    <tr>\n",
       "      <th>2</th>\n",
       "      <td>DB00014</td>\n",
       "      <td>Goserelin</td>\n",
       "      <td>47725</td>\n",
       "      <td>CID100047725</td>\n",
       "      <td>C0006826</td>\n",
       "      <td>NLP_precondition</td>\n",
       "      <td>Malignant Neoplasms</td>\n",
       "      <td>PT</td>\n",
       "      <td>C0006826</td>\n",
       "      <td>Neoplasm malignant</td>\n",
       "    </tr>\n",
       "    <tr>\n",
       "      <th>3</th>\n",
       "      <td>DB00014</td>\n",
       "      <td>Goserelin</td>\n",
       "      <td>47725</td>\n",
       "      <td>CID100047725</td>\n",
       "      <td>C0014175</td>\n",
       "      <td>NLP_indication</td>\n",
       "      <td>Endometriosis</td>\n",
       "      <td>PT</td>\n",
       "      <td>C0014175</td>\n",
       "      <td>Endometriosis</td>\n",
       "    </tr>\n",
       "    <tr>\n",
       "      <th>4</th>\n",
       "      <td>DB00014</td>\n",
       "      <td>Goserelin</td>\n",
       "      <td>47725</td>\n",
       "      <td>CID100047725</td>\n",
       "      <td>C0025323</td>\n",
       "      <td>text_mention</td>\n",
       "      <td>Menorrhagia</td>\n",
       "      <td>PT</td>\n",
       "      <td>C0025323</td>\n",
       "      <td>Menorrhagia</td>\n",
       "    </tr>\n",
       "  </tbody>\n",
       "</table>\n",
       "</div>"
      ],
      "text/plain": [
       "  drugbank_id drugbank_name  pubchem_id stitch_id_flat umls_cui_from_label  \\\n",
       "0     DB00014     Goserelin       47725   CID100047725            C0002871   \n",
       "1     DB00014     Goserelin       47725   CID100047725            C0006142   \n",
       "2     DB00014     Goserelin       47725   CID100047725            C0006826   \n",
       "3     DB00014     Goserelin       47725   CID100047725            C0014175   \n",
       "4     DB00014     Goserelin       47725   CID100047725            C0025323   \n",
       "\n",
       "             method                  concept_name meddra_type  \\\n",
       "0      text_mention                        Anemia          PT   \n",
       "1    NLP_indication  Malignant neoplasm of breast          PT   \n",
       "2  NLP_precondition           Malignant Neoplasms          PT   \n",
       "3    NLP_indication                 Endometriosis          PT   \n",
       "4      text_mention                   Menorrhagia          PT   \n",
       "\n",
       "  umls_cui_from_meddra         meddra_name  \n",
       "0             C0002871             Anaemia  \n",
       "1             C0006142       Breast cancer  \n",
       "2             C0006826  Neoplasm malignant  \n",
       "3             C0014175       Endometriosis  \n",
       "4             C0025323         Menorrhagia  "
      ]
     },
     "execution_count": 13,
     "metadata": {},
     "output_type": "execute_result"
    }
   ],
   "source": [
    "sider_df.head()"
   ]
  },
  {
   "cell_type": "code",
   "execution_count": 14,
   "metadata": {},
   "outputs": [],
   "source": [
    "sider_df.rename(columns={'drugbank_id':'Drug','umls_cui_from_label':'Disease'}, inplace=True)"
   ]
  },
  {
   "cell_type": "code",
   "execution_count": 15,
   "metadata": {},
   "outputs": [],
   "source": [
    "gold1= sider_df[['Drug','Disease']]"
   ]
  },
  {
   "cell_type": "code",
   "execution_count": 16,
   "metadata": {},
   "outputs": [
    {
     "data": {
      "text/html": [
       "<div>\n",
       "<style scoped>\n",
       "    .dataframe tbody tr th:only-of-type {\n",
       "        vertical-align: middle;\n",
       "    }\n",
       "\n",
       "    .dataframe tbody tr th {\n",
       "        vertical-align: top;\n",
       "    }\n",
       "\n",
       "    .dataframe thead th {\n",
       "        text-align: right;\n",
       "    }\n",
       "</style>\n",
       "<table border=\"1\" class=\"dataframe\">\n",
       "  <thead>\n",
       "    <tr style=\"text-align: right;\">\n",
       "      <th></th>\n",
       "      <th>Drug</th>\n",
       "      <th>Disease</th>\n",
       "    </tr>\n",
       "  </thead>\n",
       "  <tbody>\n",
       "    <tr>\n",
       "      <th>0</th>\n",
       "      <td>DB00014</td>\n",
       "      <td>C0002871</td>\n",
       "    </tr>\n",
       "    <tr>\n",
       "      <th>1</th>\n",
       "      <td>DB00014</td>\n",
       "      <td>C0006142</td>\n",
       "    </tr>\n",
       "    <tr>\n",
       "      <th>2</th>\n",
       "      <td>DB00014</td>\n",
       "      <td>C0006826</td>\n",
       "    </tr>\n",
       "    <tr>\n",
       "      <th>3</th>\n",
       "      <td>DB00014</td>\n",
       "      <td>C0014175</td>\n",
       "    </tr>\n",
       "    <tr>\n",
       "      <th>4</th>\n",
       "      <td>DB00014</td>\n",
       "      <td>C0025323</td>\n",
       "    </tr>\n",
       "  </tbody>\n",
       "</table>\n",
       "</div>"
      ],
      "text/plain": [
       "      Drug   Disease\n",
       "0  DB00014  C0002871\n",
       "1  DB00014  C0006142\n",
       "2  DB00014  C0006826\n",
       "3  DB00014  C0014175\n",
       "4  DB00014  C0025323"
      ]
     },
     "execution_count": 16,
     "metadata": {},
     "output_type": "execute_result"
    }
   ],
   "source": [
    "gold1.head()"
   ]
  },
  {
   "cell_type": "code",
   "execution_count": 17,
   "metadata": {},
   "outputs": [
    {
     "data": {
      "text/plain": [
       "16528"
      ]
     },
     "execution_count": 17,
     "metadata": {},
     "output_type": "execute_result"
    }
   ],
   "source": [
    "len(gold1)"
   ]
  },
  {
   "cell_type": "code",
   "execution_count": 50,
   "metadata": {},
   "outputs": [],
   "source": [
    "gold2= pd.read_csv('../data/input/drugcentral_indications_umls.csv')"
   ]
  },
  {
   "cell_type": "code",
   "execution_count": 51,
   "metadata": {},
   "outputs": [
    {
     "data": {
      "text/html": [
       "<div>\n",
       "<style scoped>\n",
       "    .dataframe tbody tr th:only-of-type {\n",
       "        vertical-align: middle;\n",
       "    }\n",
       "\n",
       "    .dataframe tbody tr th {\n",
       "        vertical-align: top;\n",
       "    }\n",
       "\n",
       "    .dataframe thead th {\n",
       "        text-align: right;\n",
       "    }\n",
       "</style>\n",
       "<table border=\"1\" class=\"dataframe\">\n",
       "  <thead>\n",
       "    <tr style=\"text-align: right;\">\n",
       "      <th></th>\n",
       "      <th>id</th>\n",
       "      <th>struct_id</th>\n",
       "      <th>concept_id</th>\n",
       "      <th>relationship_name</th>\n",
       "      <th>concept_name</th>\n",
       "      <th>umls_cui</th>\n",
       "      <th>snomed_full_name</th>\n",
       "      <th>cui_semantic_type</th>\n",
       "      <th>snomed_conceptid</th>\n",
       "      <th>id-2</th>\n",
       "      <th>identifier</th>\n",
       "      <th>id_type</th>\n",
       "      <th>struct_id-2</th>\n",
       "      <th>parent_match</th>\n",
       "    </tr>\n",
       "  </thead>\n",
       "  <tbody>\n",
       "    <tr>\n",
       "      <th>0</th>\n",
       "      <td>173432</td>\n",
       "      <td>965</td>\n",
       "      <td>40249340</td>\n",
       "      <td>indication</td>\n",
       "      <td>Malignant tumor of breast</td>\n",
       "      <td>C0006142</td>\n",
       "      <td>Malignant tumor of breast</td>\n",
       "      <td>T191</td>\n",
       "      <td>254837009.0</td>\n",
       "      <td>1343872</td>\n",
       "      <td>DB00858</td>\n",
       "      <td>DRUGBANK_ID</td>\n",
       "      <td>965</td>\n",
       "      <td>True</td>\n",
       "    </tr>\n",
       "    <tr>\n",
       "      <th>1</th>\n",
       "      <td>173432</td>\n",
       "      <td>965</td>\n",
       "      <td>40249340</td>\n",
       "      <td>indication</td>\n",
       "      <td>Malignant tumor of breast</td>\n",
       "      <td>C0006142</td>\n",
       "      <td>Malignant tumor of breast</td>\n",
       "      <td>T191</td>\n",
       "      <td>254837009.0</td>\n",
       "      <td>1343651</td>\n",
       "      <td>DB14655</td>\n",
       "      <td>DRUGBANK_ID</td>\n",
       "      <td>965</td>\n",
       "      <td>NaN</td>\n",
       "    </tr>\n",
       "    <tr>\n",
       "      <th>2</th>\n",
       "      <td>173433</td>\n",
       "      <td>318</td>\n",
       "      <td>21000716</td>\n",
       "      <td>indication</td>\n",
       "      <td>Gout</td>\n",
       "      <td>C0018099</td>\n",
       "      <td>Gout</td>\n",
       "      <td>T047</td>\n",
       "      <td>90560007.0</td>\n",
       "      <td>1342779</td>\n",
       "      <td>DB12319</td>\n",
       "      <td>DRUGBANK_ID</td>\n",
       "      <td>318</td>\n",
       "      <td>NaN</td>\n",
       "    </tr>\n",
       "    <tr>\n",
       "      <th>3</th>\n",
       "      <td>173434</td>\n",
       "      <td>318</td>\n",
       "      <td>21003276</td>\n",
       "      <td>indication</td>\n",
       "      <td>Hyperuricemia</td>\n",
       "      <td>C0740394</td>\n",
       "      <td>Hyperuricemia</td>\n",
       "      <td>T047</td>\n",
       "      <td>35885006.0</td>\n",
       "      <td>1342779</td>\n",
       "      <td>DB12319</td>\n",
       "      <td>DRUGBANK_ID</td>\n",
       "      <td>318</td>\n",
       "      <td>NaN</td>\n",
       "    </tr>\n",
       "    <tr>\n",
       "      <th>4</th>\n",
       "      <td>173435</td>\n",
       "      <td>1031</td>\n",
       "      <td>21001432</td>\n",
       "      <td>indication</td>\n",
       "      <td>Hypertensive disorder</td>\n",
       "      <td>C0020538</td>\n",
       "      <td>Hypertensive disorder</td>\n",
       "      <td>T047</td>\n",
       "      <td>38341003.0</td>\n",
       "      <td>1343568</td>\n",
       "      <td>DB13989</td>\n",
       "      <td>DRUGBANK_ID</td>\n",
       "      <td>1031</td>\n",
       "      <td>NaN</td>\n",
       "    </tr>\n",
       "  </tbody>\n",
       "</table>\n",
       "</div>"
      ],
      "text/plain": [
       "       id  struct_id  concept_id relationship_name               concept_name  \\\n",
       "0  173432        965    40249340        indication  Malignant tumor of breast   \n",
       "1  173432        965    40249340        indication  Malignant tumor of breast   \n",
       "2  173433        318    21000716        indication                       Gout   \n",
       "3  173434        318    21003276        indication              Hyperuricemia   \n",
       "4  173435       1031    21001432        indication      Hypertensive disorder   \n",
       "\n",
       "   umls_cui           snomed_full_name cui_semantic_type  snomed_conceptid  \\\n",
       "0  C0006142  Malignant tumor of breast              T191       254837009.0   \n",
       "1  C0006142  Malignant tumor of breast              T191       254837009.0   \n",
       "2  C0018099                       Gout              T047        90560007.0   \n",
       "3  C0740394              Hyperuricemia              T047        35885006.0   \n",
       "4  C0020538      Hypertensive disorder              T047        38341003.0   \n",
       "\n",
       "      id-2 identifier      id_type  struct_id-2 parent_match  \n",
       "0  1343872    DB00858  DRUGBANK_ID          965         True  \n",
       "1  1343651    DB14655  DRUGBANK_ID          965          NaN  \n",
       "2  1342779    DB12319  DRUGBANK_ID          318          NaN  \n",
       "3  1342779    DB12319  DRUGBANK_ID          318          NaN  \n",
       "4  1343568    DB13989  DRUGBANK_ID         1031          NaN  "
      ]
     },
     "execution_count": 51,
     "metadata": {},
     "output_type": "execute_result"
    }
   ],
   "source": [
    "gold2.head()"
   ]
  },
  {
   "cell_type": "code",
   "execution_count": 52,
   "metadata": {},
   "outputs": [],
   "source": [
    "gold2.rename(columns={'identifier':'Drug','umls_cui':'Disease'}, inplace=True)"
   ]
  },
  {
   "cell_type": "code",
   "execution_count": 53,
   "metadata": {},
   "outputs": [
    {
     "data": {
      "text/html": [
       "<div>\n",
       "<style scoped>\n",
       "    .dataframe tbody tr th:only-of-type {\n",
       "        vertical-align: middle;\n",
       "    }\n",
       "\n",
       "    .dataframe tbody tr th {\n",
       "        vertical-align: top;\n",
       "    }\n",
       "\n",
       "    .dataframe thead th {\n",
       "        text-align: right;\n",
       "    }\n",
       "</style>\n",
       "<table border=\"1\" class=\"dataframe\">\n",
       "  <thead>\n",
       "    <tr style=\"text-align: right;\">\n",
       "      <th></th>\n",
       "      <th>Drug</th>\n",
       "      <th>Disease</th>\n",
       "    </tr>\n",
       "  </thead>\n",
       "  <tbody>\n",
       "    <tr>\n",
       "      <th>0</th>\n",
       "      <td>DB00858</td>\n",
       "      <td>C0006142</td>\n",
       "    </tr>\n",
       "    <tr>\n",
       "      <th>1</th>\n",
       "      <td>DB14655</td>\n",
       "      <td>C0006142</td>\n",
       "    </tr>\n",
       "    <tr>\n",
       "      <th>2</th>\n",
       "      <td>DB12319</td>\n",
       "      <td>C0018099</td>\n",
       "    </tr>\n",
       "    <tr>\n",
       "      <th>3</th>\n",
       "      <td>DB12319</td>\n",
       "      <td>C0740394</td>\n",
       "    </tr>\n",
       "    <tr>\n",
       "      <th>4</th>\n",
       "      <td>DB13989</td>\n",
       "      <td>C0020538</td>\n",
       "    </tr>\n",
       "  </tbody>\n",
       "</table>\n",
       "</div>"
      ],
      "text/plain": [
       "      Drug   Disease\n",
       "0  DB00858  C0006142\n",
       "1  DB14655  C0006142\n",
       "2  DB12319  C0018099\n",
       "3  DB12319  C0740394\n",
       "4  DB13989  C0020538"
      ]
     },
     "execution_count": 53,
     "metadata": {},
     "output_type": "execute_result"
    }
   ],
   "source": [
    "gold2= gold2[['Drug','Disease']]\n",
    "gold2.head()"
   ]
  },
  {
   "cell_type": "code",
   "execution_count": 22,
   "metadata": {},
   "outputs": [],
   "source": [
    "gold3= pd.read_csv('../data/input/predict_indications_umls.tsv',sep='\\t')"
   ]
  },
  {
   "cell_type": "code",
   "execution_count": 26,
   "metadata": {},
   "outputs": [],
   "source": [
    "gold3.rename(columns={'drug':'Drug','indication':'Disease'}, inplace=True)"
   ]
  },
  {
   "cell_type": "code",
   "execution_count": 27,
   "metadata": {},
   "outputs": [
    {
     "data": {
      "text/html": [
       "<div>\n",
       "<style scoped>\n",
       "    .dataframe tbody tr th:only-of-type {\n",
       "        vertical-align: middle;\n",
       "    }\n",
       "\n",
       "    .dataframe tbody tr th {\n",
       "        vertical-align: top;\n",
       "    }\n",
       "\n",
       "    .dataframe thead th {\n",
       "        text-align: right;\n",
       "    }\n",
       "</style>\n",
       "<table border=\"1\" class=\"dataframe\">\n",
       "  <thead>\n",
       "    <tr style=\"text-align: right;\">\n",
       "      <th></th>\n",
       "      <th>Drug</th>\n",
       "      <th>Disease</th>\n",
       "    </tr>\n",
       "  </thead>\n",
       "  <tbody>\n",
       "    <tr>\n",
       "      <th>0</th>\n",
       "      <td>DB00659</td>\n",
       "      <td>C0001973</td>\n",
       "    </tr>\n",
       "    <tr>\n",
       "      <th>1</th>\n",
       "      <td>DB00284</td>\n",
       "      <td>C0011860</td>\n",
       "    </tr>\n",
       "    <tr>\n",
       "      <th>2</th>\n",
       "      <td>DB00284</td>\n",
       "      <td>C1852093</td>\n",
       "    </tr>\n",
       "    <tr>\n",
       "      <th>3</th>\n",
       "      <td>DB00284</td>\n",
       "      <td>C1841962</td>\n",
       "    </tr>\n",
       "    <tr>\n",
       "      <th>4</th>\n",
       "      <td>DB00284</td>\n",
       "      <td>C1838100</td>\n",
       "    </tr>\n",
       "  </tbody>\n",
       "</table>\n",
       "</div>"
      ],
      "text/plain": [
       "      Drug   Disease\n",
       "0  DB00659  C0001973\n",
       "1  DB00284  C0011860\n",
       "2  DB00284  C1852093\n",
       "3  DB00284  C1841962\n",
       "4  DB00284  C1838100"
      ]
     },
     "execution_count": 27,
     "metadata": {},
     "output_type": "execute_result"
    }
   ],
   "source": [
    "gold3.head()"
   ]
  },
  {
   "cell_type": "code",
   "execution_count": 54,
   "metadata": {},
   "outputs": [],
   "source": [
    "a = gold2[['Drug','Disease']].values\n",
    "b = gold3[['Drug','Disease']].values"
   ]
  },
  {
   "cell_type": "code",
   "execution_count": 55,
   "metadata": {},
   "outputs": [],
   "source": [
    "s1 = pd.merge(gold2, gold3, how='inner', on=['Drug','Disease'])\n",
    "s1.dropna(inplace=True)"
   ]
  },
  {
   "cell_type": "code",
   "execution_count": 56,
   "metadata": {},
   "outputs": [
    {
     "data": {
      "text/plain": [
       "348"
      ]
     },
     "execution_count": 56,
     "metadata": {},
     "output_type": "execute_result"
    }
   ],
   "source": [
    "len(s1)"
   ]
  },
  {
   "cell_type": "code",
   "execution_count": 72,
   "metadata": {},
   "outputs": [],
   "source": [
    "#SIDER\n",
    "a = {tuple((dr,dis)) for dr,dis in gold1[['Drug','Disease']].values }"
   ]
  },
  {
   "cell_type": "code",
   "execution_count": 73,
   "metadata": {},
   "outputs": [],
   "source": [
    "#DrugCentral\n",
    "b = {tuple((dr,dis)) for dr,dis in gold2[['Drug','Disease']].values }"
   ]
  },
  {
   "cell_type": "code",
   "execution_count": 74,
   "metadata": {},
   "outputs": [],
   "source": [
    "#PREDICT\n",
    "c = {tuple((dr,dis)) for dr,dis in gold3[['Drug','Disease']].values }"
   ]
  },
  {
   "cell_type": "code",
   "execution_count": 90,
   "metadata": {},
   "outputs": [],
   "source": [
    "a1= len (a.difference(b.union(c))) #SIDER different then others"
   ]
  },
  {
   "cell_type": "code",
   "execution_count": 91,
   "metadata": {},
   "outputs": [],
   "source": [
    "b1= len (b.difference(a.union(c))) #DrugCentral different then others"
   ]
  },
  {
   "cell_type": "code",
   "execution_count": 92,
   "metadata": {},
   "outputs": [],
   "source": [
    "c1= len (c.difference(b.union(a))) #PREDICT different then others"
   ]
  },
  {
   "cell_type": "code",
   "execution_count": 93,
   "metadata": {},
   "outputs": [
    {
     "data": {
      "text/plain": [
       "(14685, 9074, 1781)"
      ]
     },
     "execution_count": 93,
     "metadata": {},
     "output_type": "execute_result"
    }
   ],
   "source": [
    "len(a),len(b),len(c) #(SIDER, DrugCentral, (PREDICT)"
   ]
  },
  {
   "cell_type": "code",
   "execution_count": 94,
   "metadata": {},
   "outputs": [],
   "source": [
    "anbuc =len(b.intersection(a).difference(c)) # (SIDER and DrugCentral) diff (PREDICT)"
   ]
  },
  {
   "cell_type": "code",
   "execution_count": 95,
   "metadata": {},
   "outputs": [],
   "source": [
    "bncua = len(c.intersection(b).difference(a)) # (PREDICT and DrugCentral) diff (SIDER)"
   ]
  },
  {
   "cell_type": "code",
   "execution_count": 96,
   "metadata": {},
   "outputs": [],
   "source": [
    "ancub = len(c.intersection(a).difference(b)) # (PREDICT and SIDER) diff (DrugCentral)"
   ]
  },
  {
   "cell_type": "code",
   "execution_count": 97,
   "metadata": {},
   "outputs": [],
   "source": [
    "anbnc = len(c.intersection(b).intersection(a)) # (PREDICT and NDFRT and DrugCentral)"
   ]
  },
  {
   "cell_type": "code",
   "execution_count": 98,
   "metadata": {},
   "outputs": [
    {
     "data": {
      "image/png": "[encoded data removed]",
      "text/plain": [
       "<Figure size 432x288 with 1 Axes>"
      ]
     },
     "metadata": {},
     "output_type": "display_data"
    }
   ],
   "source": [
    "# Make the diagram\n",
    "#fig = plt.figure(figsize=[400, 500])\n",
    "venn3(set_labels= ['SIDER [14685]','DrugCentral [9074]', 'PREDICT [1781]'],subsets = (a1, b1, anbuc, c1,ancub, bncua,anbnc))\n",
    "plt.savefig('../data/figures/coverage.png', dpi=500)\n",
    "#plt.show()"
   ]
  },
  {
   "cell_type": "code",
   "execution_count": 88,
   "metadata": {},
   "outputs": [
    {
     "data": {
      "text/plain": [
       "10330"
      ]
     },
     "execution_count": 88,
     "metadata": {},
     "output_type": "execute_result"
    }
   ],
   "source": [
    "a= [2128, 5829, 592, 1401,103,124,153]\n",
    "sum(a)"
   ]
  },
  {
   "cell_type": "code",
   "execution_count": 89,
   "metadata": {},
   "outputs": [
    {
     "data": {
      "text/plain": [
       "0.014811229428848015"
      ]
     },
     "execution_count": 89,
     "metadata": {},
     "output_type": "execute_result"
    }
   ],
   "source": [
    "153/10330"
   ]
  },
  {
   "cell_type": "code",
   "execution_count": 108,
   "metadata": {},
   "outputs": [
    {
     "data": {
      "text/plain": [
       "2997"
      ]
     },
     "execution_count": 108,
     "metadata": {},
     "output_type": "execute_result"
    }
   ],
   "source": [
    "2128+592+153+124"
   ]
  },
  {
   "cell_type": "code",
   "execution_count": 107,
   "metadata": {},
   "outputs": [
    {
     "data": {
      "text/plain": [
       "6677"
      ]
     },
     "execution_count": 107,
     "metadata": {},
     "output_type": "execute_result"
    }
   ],
   "source": [
    "5829+592+153+103"
   ]
  },
  {
   "cell_type": "code",
   "execution_count": 92,
   "metadata": {},
   "outputs": [
    {
     "data": {
      "text/plain": [
       "1781"
      ]
     },
     "execution_count": 92,
     "metadata": {},
     "output_type": "execute_result"
    }
   ],
   "source": [
    "1401+103+153+124"
   ]
  },
  {
   "cell_type": "code",
   "execution_count": 3,
   "metadata": {},
   "outputs": [
    {
     "data": {
      "image/png": "[encoded data removed]",
      "text/plain": [
       "<Figure size 432x288 with 1 Axes>"
      ]
     },
     "metadata": {},
     "output_type": "display_data"
    }
   ],
   "source": [
    "venn3(subsets = (2128, 5829, 592, 1401,124,103,153))\n",
    "plt.savefig('indications/coverage.png', dpi=500)\n",
    "#plt.show()"
   ]
  },
  {
   "cell_type": "code",
   "execution_count": null,
   "metadata": {},
   "outputs": [],
   "source": []
  }
 ],
 "metadata": {
  "kernelspec": {
   "display_name": "Python 3",
   "language": "python",
   "name": "python3"
  },
  "language_info": {
   "codemirror_mode": {
    "name": "ipython",
    "version": 3
   },
   "file_extension": ".py",
   "mimetype": "text/x-python",
   "name": "python",
   "nbconvert_exporter": "python",
   "pygments_lexer": "ipython3",
   "version": "3.8.3"
  }
 },
 "nbformat": 4,
 "nbformat_minor": 4
}
