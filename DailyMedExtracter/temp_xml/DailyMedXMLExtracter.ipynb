{
 "cells": [
  {
   "cell_type": "code",
   "execution_count": 485,
   "metadata": {},
   "outputs": [],
   "source": [
    "\n",
    "from lxml import etree\n",
    "from datetime import date\n",
    "import pandas as pd\n",
    "\n",
    "#http://www.accessdata.fda.gov/spl/stylesheet/spl-common.xsl\n",
    "namespaces={\"v3\":\"urn:hl7-org:v3\",}\n",
    "\n",
    "def normalize_date(date_string):\n",
    "    year = int(date_string[0:4])\n",
    "    month = int(date_string[4:6])\n",
    "    day = int(date_string[6:8])\n",
    "    return date(year,month,day).strftime(\"%b %d, %Y\")\n",
    "\n",
    "class DrugLabel(object):\n",
    "    \"\"\"represents a Drug Label in the SPL format.\n",
    "    takes one argument, spl_label, which can be either an url or a file path\"\"\"\n",
    "\n",
    "    def __init__(self, spl_label):\n",
    "        self.label_data = spl_label\n",
    "        self.xml = etree.parse(spl_label)\n",
    "\n",
    "    def actives(self): #UNII code\n",
    "        \"\"\"returns a list of active compounds\"\"\"\n",
    "        #here converting to a set removes duplicates\n",
    "        return sorted(list(set(active.text for active in self.xml.xpath(\"//v3:ingredientSubstance/v3:activeMoiety/v3:activeMoiety/v3:name\",namespaces=namespaces))))\n",
    "    actives.label = \"active cmpds\"\n",
    "\n",
    "\n",
    "    def unii(self): #UNII code\n",
    "        \"\"\"returns the drug's NDC number\"\"\"\n",
    "        #this xpath query is NOT from the SPL xsl file\n",
    "        return sorted(list(set(self.xml.xpath(\"//v3:ingredientSubstance/v3:activeMoiety/v3:activeMoiety/v3:code/@code\",namespaces=namespaces))))\n",
    "    unii.label = \"unii\"\n",
    "\n",
    "    def iau(self):\n",
    "        \"\"\"returns the indications and usage section\"\"\"\n",
    "        #here converting to a set removes duplicates\n",
    "        return sorted(list(set(active.text for active in self.xml.xpath(\"//v3:structuredBody/\",namespaces=namespaces))))\n",
    "    actives.label = \"active cmpds\"\n",
    "    \n",
    "\n",
    "    def start_date(self):\n",
    "        \"\"\"returns start marketing date as a strftime formatted python date object\"\"\"\n",
    "        date_string = self.xml.xpath(\"//v3:subjectOf/v3:marketingAct/v3:effectiveTime/v3:low/@value\",namespaces=namespaces)[0]\n",
    "        return normalize_date(date_string)\n",
    "    start_date.label = \"marketing start date\"\n",
    "\n",
    "    # don't bother - it's None for all labels\n",
    "    # end_date.label = \"marketing end date\"\n",
    "    # def end_date(self):\n",
    "    # \t\"\"\"returns end marketing date as a strftime formatted python date object or the string \"None if not defined\n",
    "    # \trefers to the expiration date of the last lot released to the market\n",
    "    # \t(from http://spl-work-group.wikispaces.com/file/view/creating_otc_sp_documentsl.pdf)\"\"\"\n",
    "    # \ttry:\n",
    "    # \t\tdate_string = self.xml.xpath(\"//v3:subjectOf/v3:marketingAct/v3:effectiveTime/v3:high/@value\",namespaces=namespaces)[0]\n",
    "    # \t\treturn normalize_date(datestring)\n",
    "    # \texcept:\n",
    "    # \t\treturn \"None\"\n",
    "\n",
    "    def marketing_category(self):\n",
    "        \"\"\"returns the marketing category\"\"\"\n",
    "        return self.xml.xpath(\"//v3:subjectOf/v3:approval/v3:code/@displayName\",namespaces=namespaces)[0]\n",
    "    marketing_category.label = \"marketing category\"\n",
    "\n",
    "    def revision_date(self):\n",
    "        \"\"\"returns label revision date\"\"\"\n",
    "        date_string = self.xml.xpath(\"/v3:document/v3:effectiveTime/@value\",namespaces=namespaces)[0]\n",
    "        return normalize_date(date_string)\n",
    "    revision_date.label = \"revision date\"\n",
    "\n",
    "    def label_type(self):\n",
    "        \"\"\"returns the drug label type, typically 'HUMAN OTC DRUG LABEL' or 'HUMAN PRESCRIPTION DRUG LABEL' \"\"\"\n",
    "        return self.xml.xpath(\"//v3:code/@displayName\",namespaces=namespaces)[0]\n",
    "    label_type.label = \"label type\"\n",
    "\n",
    "\n",
    "    def ndc(self):\n",
    "        \"\"\"returns the drug's NDC number\"\"\"\n",
    "        #this xpath query is NOT from the SPL xsl file\n",
    "        return self.xml.xpath(\"//v3:manufacturedProduct/v3:manufacturedProduct/v3:code/@code\",namespaces=namespaces)[0]\n",
    "    ndc.label = \"ndc\"\n",
    "\n",
    "    def name(self):\n",
    "        \"\"\"returns the drug's name\"\"\"\n",
    "        return self.xml.xpath(\"//v3:manufacturedProduct/v3:manufacturedProduct/v3:name\",namespaces=namespaces)[0].text.replace(\"\\t\",\"\").replace(\"\\n\",\"\")\n",
    "    name.label = \"name\"\n",
    "\n",
    "    def distributor(self):\n",
    "        \"\"\"returns the drug's distributor\"\"\"\n",
    "        return self.xml.xpath(\"//v3:author/v3:assignedEntity/v3:representedOrganization/v3:name\",namespaces=namespaces)[0].text\n",
    "    distributor.label = \"distributor\"\n",
    "\n",
    "    def dosage_form(self):\n",
    "        \"\"\"returns the drug's dosage form\"\"\"\n",
    "        return self.xml.xpath(\"//v3:manufacturedProduct/v3:manufacturedProduct/v3:formCode/@displayName\",namespaces=namespaces)[0]\n",
    "    dosage_form.label = \"dosage form\"\n",
    "\n",
    "    #just a helper function for the next two functions, so no label\n",
    "    def _get_word_list(self, word):\n",
    "        \"\"\"returns a list of etree instances of all occurances of 'word','Word' or 'WORD' \"\"\"\n",
    "        word = str(word)\n",
    "        #this query also NOT from the SPL xsl file\n",
    "        query = \"//*[text()[contains(.,'%s') or contains(.,'%s') or contains(.,'%s')]]\" %(word.lower(),word.upper(),word.capitalize())\n",
    "        return self.xml.xpath(query,namespaces=namespaces)\n",
    "\n",
    "    def test_word(self, word):\n",
    "        if self._get_word_list(word): return 1\n",
    "        else: return 0\n",
    "    #TODO test_word.label = \"%s?\" %self.test_word.word\n",
    "\n",
    "    def get_word_section(self, word):\n",
    "        #finds the first ancestor section and returns section/code/@displayName\n",
    "        word_section_list = []\n",
    "        for word in self._get_word_list(word):\n",
    "            word_section_list.extend(word.xpath(\"ancestor::v3:section[1]/v3:code/@displayName\",namespaces=namespaces))\n",
    "        if not word_section_list:\n",
    "            return \"n/a\"\n",
    "        return list(set(word_section_list))\n",
    "\n",
    "    def get_text(self):\n",
    "        \"\"\"returns the drug's label\"\"\"\n",
    "        text = self.xml.xpath('//v3:section/v3:code[@code=\"34067-9\"]/..//v3:paragraph',namespaces=namespaces)\n",
    "        length = len(text)\n",
    "        newText = []\n",
    "        for row in range(length):\n",
    "            newText.append(text[row].text)\n",
    "        return newText\n",
    "    \n",
    "    def get_fullText(self):\n",
    "        \"\"\"returns the drug's label\"\"\"\n",
    "        text = self.xml.xpath('//v3:section/v3:code[@code=\"34067-9\"]/..//v3:text//*',namespaces=namespaces)\n",
    "        length = len(text)\n",
    "        newText = []\n",
    "        for row in range(length):\n",
    "            newText.append(text[row].text)\n",
    "        return newText\n",
    "\n",
    "    def get_word_time(self, word):\n",
    "        \"\"\"\n",
    "        returns the LATEST effectiveTime/@date for all of the instances of \"word\" mentioned\n",
    "        \"\"\"\n",
    "        word_time_list = []\n",
    "        for word in self._get_word_list(word):\n",
    "            word_time_list += word.xpath(\"ancestor::v3:section/v3:effectiveTime/@value\",namespaces=namespaces)\n",
    "        if not word_time_list:\n",
    "            return \"n/a\"\n",
    "        try:\n",
    "            return max(list(set(normalize_date(date) for date in word_time_list)))\n",
    "        except:\n",
    "            return max(list(normalize_date(date) for date in word_time_list))\n",
    "\n",
    "    def build_url(self):\n",
    "        \"\"\"helper function that builds and returns the accessdata.fda.gov URL given the XML file name/directory\"\"\"\n",
    "        #maybe won't work on windows because slash direction?\n",
    "        uuid = self.label_data.split(\"/\")[-1].split(\".\")[0]\n",
    "        return \"http://www.accessdata.fda.gov/spl/data/%s/%s.xml\" %(uuid,uuid)\n",
    "\n",
    "    def indications(self, xml):\n",
    "        indications = []\n",
    "        drugN = self.name()\n",
    "        activeC = self.actives()\n",
    "        uniiC = self.unii()\n",
    "        label = self.get_text()\n",
    "        try:\n",
    "            text = '|'.join(label)\n",
    "        except:\n",
    "            text = label\n",
    "        \n",
    "        full_Label = self.get_fullText()\n",
    "        try:\n",
    "            context = '|'.join(full_Label)\n",
    "        except:\n",
    "            context = full_Label\n",
    "        \n",
    "        data = [xml, drugN, activeC[0], uniiC[0], text, context]\n",
    "        inidcations = indications.append(data)  \n",
    "        return indications\n"
   ]
  },
  {
   "cell_type": "code",
   "execution_count": 487,
   "metadata": {},
   "outputs": [],
   "source": [
    "DL = DrugLabel(\"001e2ecb-0849-475b-812f-33db6800f7c7.xml\")\n",
    "indications = DL.indications(\"001e2ecb-0849-475b-812f-33db6800f7c7.xml\")"
   ]
  },
  {
   "cell_type": "code",
   "execution_count": 488,
   "metadata": {},
   "outputs": [
    {
     "data": {
      "text/plain": [
       "[['001e2ecb-0849-475b-812f-33db6800f7c7.xml',\n",
       "  'CARISOPRODOL',\n",
       "  'CARISOPRODOL',\n",
       "  '21925K482H',\n",
       "  'CARISOPRODOL is indicated for the relief of discomfort associated with acute, painful musculoskeletal conditions in adults. CARISOPRODOL should only be used for short periods (up to two or three weeks) because adequate evidence of effectiveness for more prolonged use has not been established and because acute, painful musculoskeletal conditions are generally of short duration. [|CARISOPRODOL is indicated for the relief of discomfort associated with acute, painful musculoskeletal conditions. ',\n",
       "  ['CARISOPRODOL is indicated for the relief of discomfort associated with acute, painful musculoskeletal conditions in adults. CARISOPRODOL should only be used for short periods (up to two or three weeks) because adequate evidence of effectiveness for more prolonged use has not been established and because acute, painful musculoskeletal conditions are generally of short duration. [',\n",
       "   '\\n                        ',\n",
       "   'see Dosage and Administration (2)',\n",
       "   'CARISOPRODOL is indicated for the relief of discomfort associated with acute, painful musculoskeletal conditions. ',\n",
       "   '(1)',\n",
       "   None,\n",
       "   None,\n",
       "   '\\n                           ',\n",
       "   'Should only be used for acute treatment periods up to two or three weeks',\n",
       "   '(1)',\n",
       "   'Not recommended in pediatric patients less than 16 years of age',\n",
       "   '(8.4)']]]"
      ]
     },
     "execution_count": 488,
     "metadata": {},
     "output_type": "execute_result"
    }
   ],
   "source": [
    "indications"
   ]
  },
  {
   "cell_type": "code",
   "execution_count": 459,
   "metadata": {},
   "outputs": [
    {
     "data": {
      "text/html": [
       "<div>\n",
       "<style scoped>\n",
       "    .dataframe tbody tr th:only-of-type {\n",
       "        vertical-align: middle;\n",
       "    }\n",
       "\n",
       "    .dataframe tbody tr th {\n",
       "        vertical-align: top;\n",
       "    }\n",
       "\n",
       "    .dataframe thead th {\n",
       "        text-align: right;\n",
       "    }\n",
       "</style>\n",
       "<table border=\"1\" class=\"dataframe\">\n",
       "  <thead>\n",
       "    <tr style=\"text-align: right;\">\n",
       "      <th></th>\n",
       "      <th>Drug Brand Name</th>\n",
       "      <th>Active ingredient</th>\n",
       "      <th>UNII ID</th>\n",
       "      <th>Text</th>\n",
       "    </tr>\n",
       "  </thead>\n",
       "  <tbody>\n",
       "    <tr>\n",
       "      <th>0</th>\n",
       "      <td>CARISOPRODOL</td>\n",
       "      <td>CARISOPRODOL</td>\n",
       "      <td>21925K482H</td>\n",
       "      <td>CARISOPRODOL is indicated for the relief of di...</td>\n",
       "    </tr>\n",
       "  </tbody>\n",
       "</table>\n",
       "</div>"
      ],
      "text/plain": [
       "  Drug Brand Name  Active ingredient     UNII ID  \\\n",
       "0     CARISOPRODOL      CARISOPRODOL  21925K482H   \n",
       "\n",
       "                                                Text  \n",
       "0  CARISOPRODOL is indicated for the relief of di...  "
      ]
     },
     "execution_count": 459,
     "metadata": {},
     "output_type": "execute_result"
    }
   ],
   "source": [
    "pd.DataFrame(indications, columns=['Drug Brand Name ', 'Active ingredient', 'UNII ID', 'Text'])"
   ]
  },
  {
   "cell_type": "code",
   "execution_count": 493,
   "metadata": {},
   "outputs": [],
   "source": [
    "import os\n",
    "import xmltodict\n",
    "import pprint\n",
    "import json\n",
    "import xml.etree.ElementTree as ET\n",
    "\n",
    "count = 0\n",
    "\n",
    "for filename in os.listdir('.'):\n",
    "    if filename.endswith('.xml'):\n",
    "        \n",
    "        count = count +1\n",
    "        try:\n",
    "            DL = DrugLabel(filename)\n",
    "        except:\n",
    "            pass\n",
    "        \n",
    "        indications = DL.indications(filename)\n",
    "        \n",
    "        if count == 1:\n",
    "            ind = pd.DataFrame(indications, columns=['Label_ID','Drug Brand Name', 'Active ingredient', 'UNII ID', 'Formatted Text','Text'])\n",
    "        else:\n",
    "            newind = pd.DataFrame(indications, columns=['Label_ID','Drug Brand Name', 'Active ingredient', 'UNII ID', 'Formatted Text','Text'])\n",
    "            ind = ind.append(newind)\n",
    "            \n",
    "\n",
    "            \n",
    "#//component/section/code[@code='34067-9']/..//text"
   ]
  },
  {
   "cell_type": "code",
   "execution_count": 435,
   "metadata": {},
   "outputs": [],
   "source": [
    "name = DL.name()\n",
    "active = DL.actives()\n",
    "uniiC = DL.unii()\n",
    "ind = pd.DataFrame()\n",
    "ind  = ind.append([[name, active[0], uniiC[0]]])"
   ]
  },
  {
   "cell_type": "code",
   "execution_count": null,
   "metadata": {},
   "outputs": [],
   "source": []
  },
  {
   "cell_type": "code",
   "execution_count": 416,
   "metadata": {},
   "outputs": [],
   "source": []
  },
  {
   "cell_type": "code",
   "execution_count": 417,
   "metadata": {},
   "outputs": [],
   "source": []
  },
  {
   "cell_type": "code",
   "execution_count": 432,
   "metadata": {},
   "outputs": [],
   "source": []
  },
  {
   "cell_type": "code",
   "execution_count": 494,
   "metadata": {},
   "outputs": [
    {
     "data": {
      "text/plain": [
       "3229"
      ]
     },
     "execution_count": 494,
     "metadata": {},
     "output_type": "execute_result"
    }
   ],
   "source": []
  },
  {
   "cell_type": "code",
   "execution_count": 495,
   "metadata": {},
   "outputs": [],
   "source": [
    "ind.to_csv(\"DailyMedXML2CSV.csv\")"
   ]
  },
  {
   "cell_type": "code",
   "execution_count": 303,
   "metadata": {},
   "outputs": [
    {
     "data": {
      "text/plain": [
       "'Because of the risks of addiction, abuse, and misuse, with opioids, even at recommended doses [see '"
      ]
     },
     "execution_count": 303,
     "metadata": {},
     "output_type": "execute_result"
    }
   ],
   "source": [
    "text = DL.xml.xpath('//v3:section/v3:code[@code=\"34067-9\"]/..//v3:paragraph',namespaces=namespaces)\n"
   ]
  },
  {
   "cell_type": "code",
   "execution_count": 307,
   "metadata": {},
   "outputs": [
    {
     "ename": "AttributeError",
     "evalue": "'list' object has no attribute 'text'",
     "output_type": "error",
     "traceback": [
      "\u001b[1;31m---------------------------------------------------------------------------\u001b[0m",
      "\u001b[1;31mAttributeError\u001b[0m                            Traceback (most recent call last)",
      "\u001b[1;32m<ipython-input-307-dc2ac0d52813>\u001b[0m in \u001b[0;36m<module>\u001b[1;34m\u001b[0m\n\u001b[1;32m----> 1\u001b[1;33m \u001b[0mtext\u001b[0m \u001b[1;33m=\u001b[0m \u001b[0mDL\u001b[0m\u001b[1;33m.\u001b[0m\u001b[0mget_text\u001b[0m\u001b[1;33m(\u001b[0m\u001b[1;33m)\u001b[0m\u001b[1;33m\u001b[0m\u001b[1;33m\u001b[0m\u001b[0m\n\u001b[0m\u001b[0;32m      2\u001b[0m \u001b[0mtext\u001b[0m\u001b[1;33m[\u001b[0m\u001b[1;36m0\u001b[0m\u001b[1;33m]\u001b[0m\u001b[1;33m.\u001b[0m\u001b[0mtext\u001b[0m\u001b[1;33m\u001b[0m\u001b[1;33m\u001b[0m\u001b[0m\n",
      "\u001b[1;32m<ipython-input-299-845021ef9567>\u001b[0m in \u001b[0;36mget_text\u001b[1;34m(self)\u001b[0m\n\u001b[0;32m    121\u001b[0m         \u001b[1;32mdef\u001b[0m \u001b[0mget_text\u001b[0m\u001b[1;33m(\u001b[0m\u001b[0mself\u001b[0m\u001b[1;33m)\u001b[0m\u001b[1;33m:\u001b[0m\u001b[1;33m\u001b[0m\u001b[1;33m\u001b[0m\u001b[0m\n\u001b[0;32m    122\u001b[0m                 \u001b[1;34m\"\"\"returns the drug's label\"\"\"\u001b[0m\u001b[1;33m\u001b[0m\u001b[1;33m\u001b[0m\u001b[0m\n\u001b[1;32m--> 123\u001b[1;33m                 \u001b[0mtext\u001b[0m \u001b[1;33m=\u001b[0m \u001b[0mself\u001b[0m\u001b[1;33m.\u001b[0m\u001b[0mxml\u001b[0m\u001b[1;33m.\u001b[0m\u001b[0mxpath\u001b[0m\u001b[1;33m(\u001b[0m\u001b[1;34m'//v3:section/v3:code[@code=\"34067-9\"]/..//v3:paragraph'\u001b[0m\u001b[1;33m,\u001b[0m\u001b[0mnamespaces\u001b[0m\u001b[1;33m=\u001b[0m\u001b[0mnamespaces\u001b[0m\u001b[1;33m)\u001b[0m\u001b[1;33m.\u001b[0m\u001b[0mtext\u001b[0m\u001b[1;33m\u001b[0m\u001b[1;33m\u001b[0m\u001b[0m\n\u001b[0m\u001b[0;32m    124\u001b[0m \u001b[1;33m\u001b[0m\u001b[0m\n\u001b[0;32m    125\u001b[0m                 \u001b[1;32mreturn\u001b[0m \u001b[0mtext\u001b[0m\u001b[1;33m\u001b[0m\u001b[1;33m\u001b[0m\u001b[0m\n",
      "\u001b[1;31mAttributeError\u001b[0m: 'list' object has no attribute 'text'"
     ]
    }
   ],
   "source": [
    "text = DL.get_text()\n",
    "text[0].text"
   ]
  },
  {
   "cell_type": "code",
   "execution_count": 272,
   "metadata": {},
   "outputs": [
    {
     "data": {
      "text/plain": [
       "'CD35PMG570'"
      ]
     },
     "execution_count": 272,
     "metadata": {},
     "output_type": "execute_result"
    }
   ],
   "source": [
    "DL.unii()"
   ]
  },
  {
   "cell_type": "code",
   "execution_count": 128,
   "metadata": {},
   "outputs": [
    {
     "name": "stdout",
     "output_type": "stream",
     "text": [
      "['SEVELAMER']\n"
     ]
    }
   ],
   "source": [
    "print(DL.actives())"
   ]
  },
  {
   "cell_type": "code",
   "execution_count": 129,
   "metadata": {},
   "outputs": [
    {
     "name": "stdout",
     "output_type": "stream",
     "text": [
      "Sevelamer Carbonate\n"
     ]
    }
   ],
   "source": [
    "print(DL.name())"
   ]
  },
  {
   "cell_type": "code",
   "execution_count": 130,
   "metadata": {},
   "outputs": [
    {
     "data": {
      "text/plain": [
       "['RECENT MAJOR CHANGES SECTION',\n",
       " 'CONTRAINDICATIONS SECTION',\n",
       " 'INDICATIONS & USAGE SECTION',\n",
       " 'DESCRIPTION SECTION']"
      ]
     },
     "execution_count": 130,
     "metadata": {},
     "output_type": "execute_result"
    }
   ],
   "source": [
    "DL.get_word_section(\"indicat\")"
   ]
  },
  {
   "cell_type": "code",
   "execution_count": 291,
   "metadata": {},
   "outputs": [
    {
     "data": {
      "text/plain": [
       "'10702-184'"
      ]
     },
     "execution_count": 291,
     "metadata": {},
     "output_type": "execute_result"
    }
   ],
   "source": [
    "DL.ndc()"
   ]
  },
  {
   "cell_type": "code",
   "execution_count": null,
   "metadata": {},
   "outputs": [],
   "source": []
  }
 ],
 "metadata": {
  "kernelspec": {
   "display_name": "Python 3",
   "language": "python",
   "name": "python3"
  },
  "language_info": {
   "codemirror_mode": {
    "name": "ipython",
    "version": 3
   },
   "file_extension": ".py",
   "mimetype": "text/x-python",
   "name": "python",
   "nbconvert_exporter": "python",
   "pygments_lexer": "ipython3",
   "version": "3.6.8"
  }
 },
 "nbformat": 4,
 "nbformat_minor": 2
}
