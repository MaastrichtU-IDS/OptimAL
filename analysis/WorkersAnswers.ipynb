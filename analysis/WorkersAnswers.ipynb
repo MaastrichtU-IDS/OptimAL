{
 "cells": [
  {
   "cell_type": "markdown",
   "metadata": {},
   "source": [
    "## Workers Answers Data Integration\n",
    "---"
   ]
  },
  {
   "cell_type": "code",
   "execution_count": 1,
   "metadata": {},
   "outputs": [],
   "source": [
    "# def freq(answers):\n",
    "#     freq_answ = { a:answers.count(a) for a in  set(answers)}\n",
    "#     return freq_answ\n",
    "# def get_aggregated_results_amazon(dfx):\n",
    "#     rows =[]\n",
    "#     for g,df in dfx.groupby('HITId'):\n",
    "#         answers =df['Answer.category.label']\n",
    "#         value_counts = answers.value_counts()\n",
    "#         disease = df['Input.Disease']\n",
    "#         doid = df['Input.DO_ID']\n",
    "#         drug = df['Input.Drug_Brand_Name']\n",
    "#         db_id = df['Input.Drug']\n",
    "#         text = df['Input.context']\n",
    "#         label = df['Input.Label_ID']\n",
    "#         worker_id= df['WorkerId']\n",
    "#         rows.append([value_counts.index[0], value_counts.values[0], len(answers), disease.values[0], doid.values[0],drug.values[0], \\\n",
    "#                          db_id.values[0], text.values[0], label.values[0], worker_id.values[0]  ])\n",
    "            \n",
    "#     res_df = pd.DataFrame(rows, columns=['relation_type','count','total_count','disease_name','do_id','drug_name','drugbank_id','text', 'label_id','worker_id'])\n",
    "#     res_df['inter_agree'] = res_df.apply( lambda row: row['count']/row['total_count'], axis=1)\n",
    "#     return res_df\n",
    "# def get_aggregated_results_figure8(dfx):\n",
    "#     rows =[]\n",
    "#     for g,df in dfx.groupby('_unit_id'):\n",
    "#         answers =df['choose_one_of_the_following_relations_between_the_given_drug_and_disease']\n",
    "#         value_counts = answers.value_counts()\n",
    "#         disease = df['disease_name']\n",
    "#         doid = df['do_id']\n",
    "#         drug = df['drug_name']\n",
    "#         text = df['context']\n",
    "#         db_id = df['drug']\n",
    "#         label = df['label_id']\n",
    "#         worker_id= df['_worker_id']\n",
    "#         rows.append([value_counts.index[0], value_counts.values[0], len(answers), disease.values[0], doid.values[0],drug.values[0], \\\n",
    "#                      db_id.values[0], text.values[0], label.values[0], worker_id.values[0] ])\n",
    "    \n",
    "#     res_df = pd.DataFrame(rows, columns=['relation_type','count','total_count','disease_name','do_id','drug_name','drugbank_id','text', 'label_id','worker_id'])\n",
    "#     res_df['inter_agree'] = res_df.apply( lambda row: row['count']/row['total_count'], axis=1)\n",
    "#     return res_df\n",
    "\n",
    "# def get_aggregated_results_figure8_2(dfx):\n",
    "#     rows =[]\n",
    "#     for g,df in dfx.groupby('_unit_id'):\n",
    "#         answers =df['Worker Answer']\n",
    "#         value_counts = answers.value_counts()\n",
    "#         disease = df['disease_name']\n",
    "#         doid = df['doid']\n",
    "#         drug = df['drug_name']\n",
    "#         text = df['context']\n",
    "#         db_id = df['drug']\n",
    "#         label = df['label']\n",
    "#         worker_id= df['_worker_id']\n",
    "#         rows.append([value_counts.index[0], value_counts.values[0], len(answers), disease.values[0], doid.values[0],drug.values[0], \\\n",
    "#                      db_id.values[0], text.values[0], label.values[0], worker_id.values[0] ])\n",
    "    \n",
    "#     res_df = pd.DataFrame(rows, columns=['relation_type','count','total_count','disease_name','do_id','drug_name','drugbank_id','text', 'label_id','worker_id'])\n",
    "#     res_df['inter_agree'] = res_df.apply( lambda row: row['count']/row['total_count'], axis=1)\n",
    "#     return res_df"
   ]
  },
  {
   "cell_type": "code",
   "execution_count": 3,
   "metadata": {},
   "outputs": [],
   "source": [
    "import pandas as pd"
   ]
  },
  {
   "cell_type": "code",
   "execution_count": 4,
   "metadata": {},
   "outputs": [],
   "source": [
    "df_fig8 =  pd.read_excel('OptimAL Crowdsourcing Microtasks - Drug Relations (May29).xlsx',sheet_name='Results_Full')\n",
    "df_amz_1 =  pd.read_excel('OptimAL Crowdsourcing - Contraindications.xlsx',sheet_name='Results_500')\n",
    "df_amz_2 =  pd.read_excel('OptimAL Crowdsourcing - Contraindications.xlsx',sheet_name='Results_500_1')\n",
    "df_fig8_2 =  pd.read_excel('OptimALcrowdsourcing_relations_aggregated.xlsx',sheet_name='eachworker')\n",
    "#df_fig8_2[['disease_name','drug_name','context','Worker Answer','_started_at']] #more than 3 workers assessing"
   ]
  },
  {
   "cell_type": "code",
   "execution_count": 6,
   "metadata": {},
   "outputs": [],
   "source": [
    "def convert_crowd_df(raw):\n",
    "    raw.columns = ['disease_name','drug_name','context','worker_label','time']\n",
    "    top3 = raw.groupby(['disease_name','drug_name','context'])['time']\\\n",
    "        .nlargest(3).reset_index()\n",
    "    return pd.merge(top3, raw['worker_label'].reset_index(), \n",
    "                           left_on='level_3', right_on='index', how='left').drop(columns=['level_3','index','time'])"
   ]
  },
  {
   "cell_type": "code",
   "execution_count": 7,
   "metadata": {},
   "outputs": [],
   "source": [
    "crowd1 = convert_crowd_df(df_fig8[['disease_name','drug_name','context','Worker Answer','_started_at']])\n",
    "crowd2 = convert_crowd_df(df_fig8_2[['disease_name','drug_name','context','Worker Answer','_started_at']])\n",
    "crowd3 = convert_crowd_df(df_amz_1[['Input.annotation','Input.drugname','Input.context','Answer.category.label','WorkTimeInSeconds']])\n",
    "crowd4 = convert_crowd_df(df_amz_2[['Input.annotation','Input.drugname','Input.context','Answer.category.label','WorkTimeInSeconds']])"
   ]
  },
  {
   "cell_type": "markdown",
   "metadata": {},
   "source": [
    "#### Integrate"
   ]
  },
  {
   "cell_type": "code",
   "execution_count": 8,
   "metadata": {},
   "outputs": [],
   "source": [
    "crowd_df = pd.DataFrame()\n",
    "crowd_df = crowd_df.append(crowd1)\n",
    "crowd_df = crowd_df.append(crowd2)\n",
    "crowd_df = crowd_df.append(crowd3)\n",
    "crowd_df = crowd_df.append(crowd4)\n",
    "crowd_df = crowd_df.groupby(['disease_name','drug_name','context']).head(3)"
   ]
  },
  {
   "cell_type": "markdown",
   "metadata": {},
   "source": [
    "---\n",
    "## Gathering workers tables"
   ]
  },
  {
   "cell_type": "code",
   "execution_count": 10,
   "metadata": {},
   "outputs": [],
   "source": [
    "labels = pd.read_csv('Expert2Relation_Mapping.csv',sep='\\t')"
   ]
  },
  {
   "cell_type": "code",
   "execution_count": 12,
   "metadata": {},
   "outputs": [],
   "source": [
    "crowd_df = pd.merge(crowd_df, labels, how='left', left_on ='worker_label', right_on ='text')\n",
    "crowd_df = crowd_df.drop(columns=['text','worker_label']).rename(columns={'relation':'worker_label'})\n",
    "crowd_df['value'] = 1"
   ]
  },
  {
   "cell_type": "code",
   "execution_count": 13,
   "metadata": {},
   "outputs": [
    {
     "data": {
      "text/plain": [
       "array(['Effect', 'IDK', 'Indication: Symptomatic Relief',\n",
       "       'Indication: Treatment', 'Contraindication', nan], dtype=object)"
      ]
     },
     "execution_count": 13,
     "metadata": {},
     "output_type": "execute_result"
    }
   ],
   "source": [
    "crowd_df['worker_label'].unique()"
   ]
  },
  {
   "cell_type": "markdown",
   "metadata": {},
   "source": [
    "## Create a workers consensus table"
   ]
  },
  {
   "cell_type": "code",
   "execution_count": 14,
   "metadata": {},
   "outputs": [],
   "source": [
    "worker_table = pd.pivot_table(\n",
    "    crowd_df,\n",
    "    values='value',\n",
    "    index=['disease_name','drug_name','context'],\n",
    "    columns=['worker_label'],\n",
    "    aggfunc='sum',\n",
    "    fill_value=0\n",
    ").reset_index()"
   ]
  },
  {
   "cell_type": "code",
   "execution_count": 15,
   "metadata": {},
   "outputs": [],
   "source": [
    "worker_table['worker_answers'] = worker_table.sum(axis=1)\n",
    "worker_table['Contraindication'] = worker_table['Contraindication']/worker_table['worker_answers']\n",
    "worker_table['Effect'] = worker_table['Effect']/worker_table['worker_answers']\n",
    "worker_table['IDK'] = worker_table['IDK']/worker_table['worker_answers']\n",
    "worker_table['Indication: Symptomatic Relief'] = worker_table['Indication: Symptomatic Relief']/worker_table['worker_answers']\n",
    "worker_table['Indication: Treatment'] = worker_table['Indication: Treatment']/worker_table['worker_answers']\n",
    "worker_table['inter_agree_workers'] = worker_table.drop(columns='worker_answers').max(axis=1)"
   ]
  },
  {
   "cell_type": "code",
   "execution_count": 17,
   "metadata": {},
   "outputs": [],
   "source": [
    "label_list = list(labels.relation.unique())\n",
    "label_list.remove('Inconsistent'); label_list.remove('Duplicate')\n",
    "consensus = []\n",
    "for i in range(len(worker_table)):\n",
    "    if worker_table.loc[i].inter_agree_workers > .51:\n",
    "        for r in label_list:\n",
    "            if worker_table.loc[i].inter_agree_workers == worker_table.loc[i][str(r)]:\n",
    "                consensus.append(str(r))\n",
    "    else:\n",
    "        consensus.append('No consensus')\n",
    "\n",
    "worker_table['worker_consensus'] = consensus"
   ]
  },
  {
   "cell_type": "code",
   "execution_count": 18,
   "metadata": {},
   "outputs": [
    {
     "data": {
      "text/html": [
       "<div>\n",
       "<style scoped>\n",
       "    .dataframe tbody tr th:only-of-type {\n",
       "        vertical-align: middle;\n",
       "    }\n",
       "\n",
       "    .dataframe tbody tr th {\n",
       "        vertical-align: top;\n",
       "    }\n",
       "\n",
       "    .dataframe thead th {\n",
       "        text-align: right;\n",
       "    }\n",
       "</style>\n",
       "<table border=\"1\" class=\"dataframe\">\n",
       "  <thead>\n",
       "    <tr style=\"text-align: right;\">\n",
       "      <th>worker_label</th>\n",
       "      <th>disease_name</th>\n",
       "      <th>drug_name</th>\n",
       "      <th>context</th>\n",
       "      <th>Contraindication</th>\n",
       "      <th>Effect</th>\n",
       "      <th>IDK</th>\n",
       "      <th>Indication: Symptomatic Relief</th>\n",
       "      <th>Indication: Treatment</th>\n",
       "      <th>worker_answers</th>\n",
       "      <th>inter_agree_workers</th>\n",
       "      <th>worker_consensus</th>\n",
       "    </tr>\n",
       "  </thead>\n",
       "  <tbody>\n",
       "    <tr>\n",
       "      <th>0</th>\n",
       "      <td>ABRUPTIO PLACENTAE</td>\n",
       "      <td>Aminocaproic Acid</td>\n",
       "      <td>INDICATIONS AND USAGE\\n AMICAR is useful in en...</td>\n",
       "      <td>0.000000</td>\n",
       "      <td>0.333333</td>\n",
       "      <td>0.666667</td>\n",
       "      <td>0.0</td>\n",
       "      <td>0.0</td>\n",
       "      <td>3</td>\n",
       "      <td>0.666667</td>\n",
       "      <td>IDK</td>\n",
       "    </tr>\n",
       "    <tr>\n",
       "      <th>1</th>\n",
       "      <td>ABRUPTIO PLACENTAE</td>\n",
       "      <td>Aminocaproic Acid</td>\n",
       "      <td>INDICATIONS AND USAGE\\nAMICAR is useful in enh...</td>\n",
       "      <td>0.000000</td>\n",
       "      <td>1.000000</td>\n",
       "      <td>0.000000</td>\n",
       "      <td>0.0</td>\n",
       "      <td>0.0</td>\n",
       "      <td>3</td>\n",
       "      <td>1.000000</td>\n",
       "      <td>Effect</td>\n",
       "    </tr>\n",
       "    <tr>\n",
       "      <th>2</th>\n",
       "      <td>ACHALASIA</td>\n",
       "      <td>IBANDRONIC ACID</td>\n",
       "      <td>[None, 'Ibandronate sodium tablets are contrai...</td>\n",
       "      <td>0.666667</td>\n",
       "      <td>0.333333</td>\n",
       "      <td>0.000000</td>\n",
       "      <td>0.0</td>\n",
       "      <td>0.0</td>\n",
       "      <td>3</td>\n",
       "      <td>0.666667</td>\n",
       "      <td>Contraindication</td>\n",
       "    </tr>\n",
       "  </tbody>\n",
       "</table>\n",
       "</div>"
      ],
      "text/plain": [
       "worker_label        disease_name          drug_name  \\\n",
       "0             ABRUPTIO PLACENTAE  Aminocaproic Acid   \n",
       "1             ABRUPTIO PLACENTAE  Aminocaproic Acid   \n",
       "2                      ACHALASIA    IBANDRONIC ACID   \n",
       "\n",
       "worker_label                                            context  \\\n",
       "0             INDICATIONS AND USAGE\\n AMICAR is useful in en...   \n",
       "1             INDICATIONS AND USAGE\\nAMICAR is useful in enh...   \n",
       "2             [None, 'Ibandronate sodium tablets are contrai...   \n",
       "\n",
       "worker_label  Contraindication    Effect       IDK  \\\n",
       "0                     0.000000  0.333333  0.666667   \n",
       "1                     0.000000  1.000000  0.000000   \n",
       "2                     0.666667  0.333333  0.000000   \n",
       "\n",
       "worker_label  Indication: Symptomatic Relief  Indication: Treatment  \\\n",
       "0                                        0.0                    0.0   \n",
       "1                                        0.0                    0.0   \n",
       "2                                        0.0                    0.0   \n",
       "\n",
       "worker_label  worker_answers  inter_agree_workers  worker_consensus  \n",
       "0                          3             0.666667               IDK  \n",
       "1                          3             1.000000            Effect  \n",
       "2                          3             0.666667  Contraindication  "
      ]
     },
     "execution_count": 18,
     "metadata": {},
     "output_type": "execute_result"
    }
   ],
   "source": [
    "worker_table.head(3)"
   ]
  },
  {
   "cell_type": "code",
   "execution_count": 20,
   "metadata": {},
   "outputs": [
    {
     "data": {
      "text/plain": [
       "(1922, 11)"
      ]
     },
     "execution_count": 20,
     "metadata": {},
     "output_type": "execute_result"
    }
   ],
   "source": [
    "worker_table.shape"
   ]
  },
  {
   "cell_type": "code",
   "execution_count": 21,
   "metadata": {},
   "outputs": [],
   "source": [
    "worker_table.to_csv('worker_table.csv', index=False)"
   ]
  },
  {
   "cell_type": "code",
   "execution_count": null,
   "metadata": {},
   "outputs": [],
   "source": []
  }
 ],
 "metadata": {
  "kernelspec": {
   "display_name": "Python 3",
   "language": "python",
   "name": "python3"
  },
  "language_info": {
   "codemirror_mode": {
    "name": "ipython",
    "version": 3
   },
   "file_extension": ".py",
   "mimetype": "text/x-python",
   "name": "python",
   "nbconvert_exporter": "python",
   "pygments_lexer": "ipython3",
   "version": "3.7.3"
  }
 },
 "nbformat": 4,
 "nbformat_minor": 2
}
