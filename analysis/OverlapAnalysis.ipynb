{
 "cells": [
  {
   "cell_type": "markdown",
   "metadata": {},
   "source": [
    "## When do we need medical experts to annotate relations between drugs and diseases?\n",
    "---"
   ]
  },
  {
   "cell_type": "code",
   "execution_count": 1,
   "metadata": {},
   "outputs": [],
   "source": [
    "import pandas as pd"
   ]
  },
  {
   "cell_type": "code",
   "execution_count": 2,
   "metadata": {},
   "outputs": [],
   "source": [
    "expert_table = pd.read_csv('expert_table.csv')\n",
    "worker_table = pd.read_csv('worker_table.csv')"
   ]
  },
  {
   "cell_type": "markdown",
   "metadata": {},
   "source": [
    "---\n",
    "## Workers vs experts (merging consensus tables)"
   ]
  },
  {
   "cell_type": "code",
   "execution_count": 3,
   "metadata": {},
   "outputs": [],
   "source": [
    "label_list = ['Contraindication','Effect','IDK','Indication: Symptomatic Relief','Indication: Treatment']\n",
    "match_table = pd.merge(worker_table.drop(columns=label_list),\n",
    "                       expert_table.drop(columns=label_list),\n",
    "                       on=['disease_name','drug_name','context'], how='inner')\n",
    "\n",
    "match_table['relation_match'] = match_table.worker_consensus == match_table.expert_consensus"
   ]
  },
  {
   "cell_type": "code",
   "execution_count": 4,
   "metadata": {},
   "outputs": [
    {
     "data": {
      "text/html": [
       "<div>\n",
       "<style scoped>\n",
       "    .dataframe tbody tr th:only-of-type {\n",
       "        vertical-align: middle;\n",
       "    }\n",
       "\n",
       "    .dataframe tbody tr th {\n",
       "        vertical-align: top;\n",
       "    }\n",
       "\n",
       "    .dataframe thead th {\n",
       "        text-align: right;\n",
       "    }\n",
       "</style>\n",
       "<table border=\"1\" class=\"dataframe\">\n",
       "  <thead>\n",
       "    <tr style=\"text-align: right;\">\n",
       "      <th></th>\n",
       "      <th>disease_name</th>\n",
       "      <th>drug_name</th>\n",
       "      <th>context</th>\n",
       "      <th>worker_answers</th>\n",
       "      <th>inter_agree_workers</th>\n",
       "      <th>worker_consensus</th>\n",
       "      <th>expert_answers</th>\n",
       "      <th>inter_agree_experts</th>\n",
       "      <th>expert_consensus</th>\n",
       "      <th>relation_match</th>\n",
       "    </tr>\n",
       "  </thead>\n",
       "  <tbody>\n",
       "    <tr>\n",
       "      <th>0</th>\n",
       "      <td>ACNE</td>\n",
       "      <td>TAZAROTENE</td>\n",
       "      <td>Retinoids may cause fetal harm when administer...</td>\n",
       "      <td>3</td>\n",
       "      <td>0.666667</td>\n",
       "      <td>Effect</td>\n",
       "      <td>2</td>\n",
       "      <td>1.000000</td>\n",
       "      <td>Indication: Treatment</td>\n",
       "      <td>False</td>\n",
       "    </tr>\n",
       "    <tr>\n",
       "      <th>1</th>\n",
       "      <td>ACUTE CERVICITIS</td>\n",
       "      <td>LEVONORGESTREL</td>\n",
       "      <td>['The use of LILETTA is contraindicated when o...</td>\n",
       "      <td>3</td>\n",
       "      <td>0.666667</td>\n",
       "      <td>Contraindication</td>\n",
       "      <td>3</td>\n",
       "      <td>1.000000</td>\n",
       "      <td>Contraindication</td>\n",
       "      <td>True</td>\n",
       "    </tr>\n",
       "    <tr>\n",
       "      <th>2</th>\n",
       "      <td>ACUTE INTERMITTENT PORPHYRIA</td>\n",
       "      <td>Hemin</td>\n",
       "      <td>PANHEMATIN is a hemin for injection indicated ...</td>\n",
       "      <td>3</td>\n",
       "      <td>0.666667</td>\n",
       "      <td>Indication: Symptomatic Relief</td>\n",
       "      <td>3</td>\n",
       "      <td>0.666667</td>\n",
       "      <td>Indication: Symptomatic Relief</td>\n",
       "      <td>True</td>\n",
       "    </tr>\n",
       "  </tbody>\n",
       "</table>\n",
       "</div>"
      ],
      "text/plain": [
       "                   disease_name       drug_name  \\\n",
       "0                          ACNE      TAZAROTENE   \n",
       "1              ACUTE CERVICITIS  LEVONORGESTREL   \n",
       "2  ACUTE INTERMITTENT PORPHYRIA           Hemin   \n",
       "\n",
       "                                             context  worker_answers  \\\n",
       "0  Retinoids may cause fetal harm when administer...               3   \n",
       "1  ['The use of LILETTA is contraindicated when o...               3   \n",
       "2  PANHEMATIN is a hemin for injection indicated ...               3   \n",
       "\n",
       "   inter_agree_workers                worker_consensus  expert_answers  \\\n",
       "0             0.666667                          Effect               2   \n",
       "1             0.666667                Contraindication               3   \n",
       "2             0.666667  Indication: Symptomatic Relief               3   \n",
       "\n",
       "   inter_agree_experts                expert_consensus  relation_match  \n",
       "0             1.000000           Indication: Treatment           False  \n",
       "1             1.000000                Contraindication            True  \n",
       "2             0.666667  Indication: Symptomatic Relief            True  "
      ]
     },
     "execution_count": 4,
     "metadata": {},
     "output_type": "execute_result"
    }
   ],
   "source": [
    "match_table.head(3)"
   ]
  },
  {
   "cell_type": "code",
   "execution_count": 5,
   "metadata": {},
   "outputs": [
    {
     "data": {
      "text/plain": [
       "(334, 10)"
      ]
     },
     "execution_count": 5,
     "metadata": {},
     "output_type": "execute_result"
    }
   ],
   "source": [
    "match_table.shape"
   ]
  },
  {
   "cell_type": "code",
   "execution_count": 6,
   "metadata": {},
   "outputs": [
    {
     "data": {
      "text/plain": [
       "array(['Effect', 'Contraindication', 'Indication: Symptomatic Relief',\n",
       "       'Indication: Treatment', 'No consensus'], dtype=object)"
      ]
     },
     "execution_count": 6,
     "metadata": {},
     "output_type": "execute_result"
    }
   ],
   "source": [
    "match_table.worker_consensus.unique()"
   ]
  },
  {
   "cell_type": "code",
   "execution_count": 7,
   "metadata": {},
   "outputs": [
    {
     "data": {
      "text/plain": [
       "array(['Indication: Treatment', 'Contraindication',\n",
       "       'Indication: Symptomatic Relief', 'Effect', 'No consensus', 'IDK'],\n",
       "      dtype=object)"
      ]
     },
     "execution_count": 7,
     "metadata": {},
     "output_type": "execute_result"
    }
   ],
   "source": [
    "match_table.expert_consensus.unique()"
   ]
  },
  {
   "cell_type": "markdown",
   "metadata": {},
   "source": [
    "---\n",
    "### Check matches and workers accuracy"
   ]
  },
  {
   "cell_type": "code",
   "execution_count": 8,
   "metadata": {},
   "outputs": [],
   "source": [
    "from pycm import *\n",
    "import seaborn as sns\n",
    "import matplotlib.pyplot as plt"
   ]
  },
  {
   "cell_type": "code",
   "execution_count": 9,
   "metadata": {},
   "outputs": [],
   "source": [
    "match_table_filtered = match_table[(match_table.worker_consensus != 'No consensus') & \n",
    "                                    (match_table.expert_consensus != 'No consensus') &\n",
    "                                    (match_table.worker_consensus != 'IDK') &\n",
    "                                    (match_table.expert_consensus != 'IDK')]"
   ]
  },
  {
   "cell_type": "code",
   "execution_count": 10,
   "metadata": {},
   "outputs": [],
   "source": [
    "y_actu = list(match_table_filtered.expert_consensus) #gold standard # X axis\n",
    "y_pred = list(match_table_filtered.worker_consensus) #workers answers Y axis\n",
    "cm = ConfusionMatrix(y_actu, y_pred) "
   ]
  },
  {
   "cell_type": "code",
   "execution_count": 11,
   "metadata": {},
   "outputs": [
    {
     "data": {
      "image/png": "[encoded data removed]",
      "text/plain": [
       "<Figure size 432x288 with 2 Axes>"
      ]
     },
     "metadata": {
      "needs_background": "light"
     },
     "output_type": "display_data"
    }
   ],
   "source": [
    "#plt.figure(figsize=(10,8))\n",
    "sns.heatmap(pd.DataFrame(cm.table), annot=True, cmap=\"YlGnBu\")\n",
    "plt.xlabel('Experts'); plt.ylabel('Workers'); plt.show()"
   ]
  },
  {
   "cell_type": "code",
   "execution_count": 12,
   "metadata": {},
   "outputs": [
    {
     "data": {
      "text/plain": [
       "{'Contraindication': 0.852589641434263,\n",
       " 'Effect': 0.8844621513944223,\n",
       " 'Indication: Symptomatic Relief': 0.9083665338645418,\n",
       " 'Indication: Treatment': 0.900398406374502}"
      ]
     },
     "execution_count": 12,
     "metadata": {},
     "output_type": "execute_result"
    }
   ],
   "source": [
    "cm.ACC"
   ]
  },
  {
   "cell_type": "markdown",
   "metadata": {},
   "source": [
    "**Workers find more diffult to annotate contraindication the most**"
   ]
  },
  {
   "cell_type": "code",
   "execution_count": 13,
   "metadata": {},
   "outputs": [
    {
     "name": "stdout",
     "output_type": "stream",
     "text": [
      "Workers were as good as medical experts in 77.29% of the cases\n"
     ]
    }
   ],
   "source": [
    "print('Workers were as good as medical experts in {}% of the cases'.format(round(cm.Overall_ACC*100,2)))"
   ]
  },
  {
   "cell_type": "markdown",
   "metadata": {},
   "source": [
    "---\n",
    "## Questions:\n",
    "### - What are the characteristics of contexts that makes diffucult for the crowd to have consensus?\n",
    "### - Can we train a ML method that learns when the crowd will perform as good as the experts?"
   ]
  },
  {
   "cell_type": "markdown",
   "metadata": {},
   "source": [
    "Temptative features to be extracted\n",
    "- lenght of text\n",
    "- number of words\n",
    "- particular words used on medical domain misinterpreted\n",
    "- amount of medical terminology\n",
    "- multiple concepts at once\n",
    "- long distance between disease, drug and relation"
   ]
  },
  {
   "cell_type": "markdown",
   "metadata": {},
   "source": [
    "Tenmptative groups to analyze\n",
    "- Excluding the No concensus of the experts, analyze the miss match of workers\n",
    "- All those answers with match, compare the label match vs concensus match\n",
    "- Where do experts disagree but workers don't"
   ]
  },
  {
   "cell_type": "markdown",
   "metadata": {},
   "source": [
    "---"
   ]
  },
  {
   "cell_type": "code",
   "execution_count": 14,
   "metadata": {},
   "outputs": [],
   "source": [
    "#text lenght\n",
    "match_table['total_characters'] = [len(text) for text in match_table['context']]\n",
    "match_table['total_words'] = [len(text.replace('\\n',' ').split()) for text in match_table['context']]"
   ]
  },
  {
   "cell_type": "code",
   "execution_count": 15,
   "metadata": {},
   "outputs": [],
   "source": [
    "match_table.to_csv('experts_vs_crowd_working_table.csv',index=False)"
   ]
  },
  {
   "cell_type": "code",
   "execution_count": 16,
   "metadata": {},
   "outputs": [],
   "source": [
    "subset_consensus = match_table[(match_table.expert_consensus != 'No consensus') & (match_table.expert_consensus != 'IDK')]"
   ]
  },
  {
   "cell_type": "code",
   "execution_count": 17,
   "metadata": {},
   "outputs": [
    {
     "data": {
      "text/html": [
       "<div>\n",
       "<style scoped>\n",
       "    .dataframe tbody tr th:only-of-type {\n",
       "        vertical-align: middle;\n",
       "    }\n",
       "\n",
       "    .dataframe tbody tr th {\n",
       "        vertical-align: top;\n",
       "    }\n",
       "\n",
       "    .dataframe thead th {\n",
       "        text-align: right;\n",
       "    }\n",
       "</style>\n",
       "<table border=\"1\" class=\"dataframe\">\n",
       "  <thead>\n",
       "    <tr style=\"text-align: right;\">\n",
       "      <th></th>\n",
       "      <th>relation_match</th>\n",
       "      <th>False</th>\n",
       "      <th>True</th>\n",
       "    </tr>\n",
       "  </thead>\n",
       "  <tbody>\n",
       "    <tr>\n",
       "      <th rowspan=\"8\" valign=\"top\">worker_answers</th>\n",
       "      <th>count</th>\n",
       "      <td>88.000000</td>\n",
       "      <td>194.000000</td>\n",
       "    </tr>\n",
       "    <tr>\n",
       "      <th>mean</th>\n",
       "      <td>3.000000</td>\n",
       "      <td>3.000000</td>\n",
       "    </tr>\n",
       "    <tr>\n",
       "      <th>std</th>\n",
       "      <td>0.000000</td>\n",
       "      <td>0.000000</td>\n",
       "    </tr>\n",
       "    <tr>\n",
       "      <th>min</th>\n",
       "      <td>3.000000</td>\n",
       "      <td>3.000000</td>\n",
       "    </tr>\n",
       "    <tr>\n",
       "      <th>25%</th>\n",
       "      <td>3.000000</td>\n",
       "      <td>3.000000</td>\n",
       "    </tr>\n",
       "    <tr>\n",
       "      <th>50%</th>\n",
       "      <td>3.000000</td>\n",
       "      <td>3.000000</td>\n",
       "    </tr>\n",
       "    <tr>\n",
       "      <th>75%</th>\n",
       "      <td>3.000000</td>\n",
       "      <td>3.000000</td>\n",
       "    </tr>\n",
       "    <tr>\n",
       "      <th>max</th>\n",
       "      <td>3.000000</td>\n",
       "      <td>3.000000</td>\n",
       "    </tr>\n",
       "    <tr>\n",
       "      <th rowspan=\"8\" valign=\"top\">inter_agree_workers</th>\n",
       "      <th>count</th>\n",
       "      <td>88.000000</td>\n",
       "      <td>194.000000</td>\n",
       "    </tr>\n",
       "    <tr>\n",
       "      <th>mean</th>\n",
       "      <td>0.571970</td>\n",
       "      <td>0.881443</td>\n",
       "    </tr>\n",
       "    <tr>\n",
       "      <th>std</th>\n",
       "      <td>0.195406</td>\n",
       "      <td>0.159985</td>\n",
       "    </tr>\n",
       "    <tr>\n",
       "      <th>min</th>\n",
       "      <td>0.333333</td>\n",
       "      <td>0.666667</td>\n",
       "    </tr>\n",
       "    <tr>\n",
       "      <th>25%</th>\n",
       "      <td>0.333333</td>\n",
       "      <td>0.666667</td>\n",
       "    </tr>\n",
       "    <tr>\n",
       "      <th>50%</th>\n",
       "      <td>0.666667</td>\n",
       "      <td>1.000000</td>\n",
       "    </tr>\n",
       "    <tr>\n",
       "      <th>75%</th>\n",
       "      <td>0.666667</td>\n",
       "      <td>1.000000</td>\n",
       "    </tr>\n",
       "    <tr>\n",
       "      <th>max</th>\n",
       "      <td>1.000000</td>\n",
       "      <td>1.000000</td>\n",
       "    </tr>\n",
       "    <tr>\n",
       "      <th rowspan=\"8\" valign=\"top\">expert_answers</th>\n",
       "      <th>count</th>\n",
       "      <td>88.000000</td>\n",
       "      <td>194.000000</td>\n",
       "    </tr>\n",
       "    <tr>\n",
       "      <th>mean</th>\n",
       "      <td>2.829545</td>\n",
       "      <td>2.175258</td>\n",
       "    </tr>\n",
       "    <tr>\n",
       "      <th>std</th>\n",
       "      <td>0.551312</td>\n",
       "      <td>0.690578</td>\n",
       "    </tr>\n",
       "    <tr>\n",
       "      <th>min</th>\n",
       "      <td>1.000000</td>\n",
       "      <td>1.000000</td>\n",
       "    </tr>\n",
       "    <tr>\n",
       "      <th>25%</th>\n",
       "      <td>3.000000</td>\n",
       "      <td>2.000000</td>\n",
       "    </tr>\n",
       "    <tr>\n",
       "      <th>50%</th>\n",
       "      <td>3.000000</td>\n",
       "      <td>2.000000</td>\n",
       "    </tr>\n",
       "    <tr>\n",
       "      <th>75%</th>\n",
       "      <td>3.000000</td>\n",
       "      <td>3.000000</td>\n",
       "    </tr>\n",
       "    <tr>\n",
       "      <th>max</th>\n",
       "      <td>5.000000</td>\n",
       "      <td>4.000000</td>\n",
       "    </tr>\n",
       "    <tr>\n",
       "      <th rowspan=\"8\" valign=\"top\">inter_agree_experts</th>\n",
       "      <th>count</th>\n",
       "      <td>88.000000</td>\n",
       "      <td>194.000000</td>\n",
       "    </tr>\n",
       "    <tr>\n",
       "      <th>mean</th>\n",
       "      <td>0.824242</td>\n",
       "      <td>0.955756</td>\n",
       "    </tr>\n",
       "    <tr>\n",
       "      <th>std</th>\n",
       "      <td>0.169194</td>\n",
       "      <td>0.112911</td>\n",
       "    </tr>\n",
       "    <tr>\n",
       "      <th>min</th>\n",
       "      <td>0.600000</td>\n",
       "      <td>0.666667</td>\n",
       "    </tr>\n",
       "    <tr>\n",
       "      <th>25%</th>\n",
       "      <td>0.666667</td>\n",
       "      <td>1.000000</td>\n",
       "    </tr>\n",
       "    <tr>\n",
       "      <th>50%</th>\n",
       "      <td>0.666667</td>\n",
       "      <td>1.000000</td>\n",
       "    </tr>\n",
       "    <tr>\n",
       "      <th>75%</th>\n",
       "      <td>1.000000</td>\n",
       "      <td>1.000000</td>\n",
       "    </tr>\n",
       "    <tr>\n",
       "      <th>max</th>\n",
       "      <td>1.000000</td>\n",
       "      <td>1.000000</td>\n",
       "    </tr>\n",
       "    <tr>\n",
       "      <th rowspan=\"8\" valign=\"top\">total_characters</th>\n",
       "      <th>count</th>\n",
       "      <td>88.000000</td>\n",
       "      <td>194.000000</td>\n",
       "    </tr>\n",
       "    <tr>\n",
       "      <th>mean</th>\n",
       "      <td>980.068182</td>\n",
       "      <td>973.912371</td>\n",
       "    </tr>\n",
       "    <tr>\n",
       "      <th>std</th>\n",
       "      <td>686.037109</td>\n",
       "      <td>752.534583</td>\n",
       "    </tr>\n",
       "    <tr>\n",
       "      <th>min</th>\n",
       "      <td>126.000000</td>\n",
       "      <td>81.000000</td>\n",
       "    </tr>\n",
       "    <tr>\n",
       "      <th>25%</th>\n",
       "      <td>452.000000</td>\n",
       "      <td>430.250000</td>\n",
       "    </tr>\n",
       "    <tr>\n",
       "      <th>50%</th>\n",
       "      <td>828.000000</td>\n",
       "      <td>704.500000</td>\n",
       "    </tr>\n",
       "    <tr>\n",
       "      <th>75%</th>\n",
       "      <td>1435.750000</td>\n",
       "      <td>1323.250000</td>\n",
       "    </tr>\n",
       "    <tr>\n",
       "      <th>max</th>\n",
       "      <td>3060.000000</td>\n",
       "      <td>3511.000000</td>\n",
       "    </tr>\n",
       "    <tr>\n",
       "      <th rowspan=\"8\" valign=\"top\">total_words</th>\n",
       "      <th>count</th>\n",
       "      <td>88.000000</td>\n",
       "      <td>194.000000</td>\n",
       "    </tr>\n",
       "    <tr>\n",
       "      <th>mean</th>\n",
       "      <td>130.500000</td>\n",
       "      <td>130.742268</td>\n",
       "    </tr>\n",
       "    <tr>\n",
       "      <th>std</th>\n",
       "      <td>90.025156</td>\n",
       "      <td>99.810471</td>\n",
       "    </tr>\n",
       "    <tr>\n",
       "      <th>min</th>\n",
       "      <td>19.000000</td>\n",
       "      <td>11.000000</td>\n",
       "    </tr>\n",
       "    <tr>\n",
       "      <th>25%</th>\n",
       "      <td>60.500000</td>\n",
       "      <td>54.750000</td>\n",
       "    </tr>\n",
       "    <tr>\n",
       "      <th>50%</th>\n",
       "      <td>111.000000</td>\n",
       "      <td>98.500000</td>\n",
       "    </tr>\n",
       "    <tr>\n",
       "      <th>75%</th>\n",
       "      <td>179.000000</td>\n",
       "      <td>175.750000</td>\n",
       "    </tr>\n",
       "    <tr>\n",
       "      <th>max</th>\n",
       "      <td>371.000000</td>\n",
       "      <td>393.000000</td>\n",
       "    </tr>\n",
       "  </tbody>\n",
       "</table>\n",
       "</div>"
      ],
      "text/plain": [
       "relation_match                   False        True \n",
       "worker_answers      count    88.000000   194.000000\n",
       "                    mean      3.000000     3.000000\n",
       "                    std       0.000000     0.000000\n",
       "                    min       3.000000     3.000000\n",
       "                    25%       3.000000     3.000000\n",
       "                    50%       3.000000     3.000000\n",
       "                    75%       3.000000     3.000000\n",
       "                    max       3.000000     3.000000\n",
       "inter_agree_workers count    88.000000   194.000000\n",
       "                    mean      0.571970     0.881443\n",
       "                    std       0.195406     0.159985\n",
       "                    min       0.333333     0.666667\n",
       "                    25%       0.333333     0.666667\n",
       "                    50%       0.666667     1.000000\n",
       "                    75%       0.666667     1.000000\n",
       "                    max       1.000000     1.000000\n",
       "expert_answers      count    88.000000   194.000000\n",
       "                    mean      2.829545     2.175258\n",
       "                    std       0.551312     0.690578\n",
       "                    min       1.000000     1.000000\n",
       "                    25%       3.000000     2.000000\n",
       "                    50%       3.000000     2.000000\n",
       "                    75%       3.000000     3.000000\n",
       "                    max       5.000000     4.000000\n",
       "inter_agree_experts count    88.000000   194.000000\n",
       "                    mean      0.824242     0.955756\n",
       "                    std       0.169194     0.112911\n",
       "                    min       0.600000     0.666667\n",
       "                    25%       0.666667     1.000000\n",
       "                    50%       0.666667     1.000000\n",
       "                    75%       1.000000     1.000000\n",
       "                    max       1.000000     1.000000\n",
       "total_characters    count    88.000000   194.000000\n",
       "                    mean    980.068182   973.912371\n",
       "                    std     686.037109   752.534583\n",
       "                    min     126.000000    81.000000\n",
       "                    25%     452.000000   430.250000\n",
       "                    50%     828.000000   704.500000\n",
       "                    75%    1435.750000  1323.250000\n",
       "                    max    3060.000000  3511.000000\n",
       "total_words         count    88.000000   194.000000\n",
       "                    mean    130.500000   130.742268\n",
       "                    std      90.025156    99.810471\n",
       "                    min      19.000000    11.000000\n",
       "                    25%      60.500000    54.750000\n",
       "                    50%     111.000000    98.500000\n",
       "                    75%     179.000000   175.750000\n",
       "                    max     371.000000   393.000000"
      ]
     },
     "execution_count": 17,
     "metadata": {},
     "output_type": "execute_result"
    }
   ],
   "source": [
    "subset_consensus.groupby('relation_match').describe().T#.reset_index()"
   ]
  },
  {
   "cell_type": "markdown",
   "metadata": {},
   "source": [
    "## Statistical difference in means"
   ]
  },
  {
   "cell_type": "code",
   "execution_count": 18,
   "metadata": {},
   "outputs": [],
   "source": [
    "subset_matches = subset_consensus[subset_consensus['relation_match']==True]\n",
    "subset_missmatches = subset_consensus[subset_consensus['relation_match']==False]"
   ]
  },
  {
   "cell_type": "code",
   "execution_count": 19,
   "metadata": {},
   "outputs": [],
   "source": [
    "from scipy import stats"
   ]
  },
  {
   "cell_type": "code",
   "execution_count": 20,
   "metadata": {},
   "outputs": [
    {
     "name": "stdout",
     "output_type": "stream",
     "text": [
      "average workers interate agreement on success: 0.8814432989690721\n",
      "average workers interate agreement on failure: 0.571969696969697\n"
     ]
    },
    {
     "data": {
      "text/plain": [
       "Ttest_indResult(statistic=13.010009881547083, pvalue=5.673571132214459e-26)"
      ]
     },
     "execution_count": 20,
     "metadata": {},
     "output_type": "execute_result"
    },
    {
     "data": {
      "image/png": "[encoded data removed]",
      "text/plain": [
       "<Figure size 432x288 with 1 Axes>"
      ]
     },
     "metadata": {
      "needs_background": "light"
     },
     "output_type": "display_data"
    }
   ],
   "source": [
    "# T-test with different means, variance, and n:\n",
    "workers_succeed = subset_matches.inter_agree_workers\n",
    "workers_failed = subset_missmatches.inter_agree_workers\n",
    "sns.distplot(workers_succeed)\n",
    "sns.distplot(workers_failed, color='r')\n",
    "print('average workers interate agreement on success: {}\\naverage workers interate agreement on failure: {}'\\\n",
    "          .format(workers_succeed.mean(),workers_failed.mean()))\n",
    "stats.ttest_ind(workers_succeed, workers_failed, equal_var = False)"
   ]
  },
  {
   "cell_type": "markdown",
   "metadata": {},
   "source": [
    "**Workers perform as good as experts when there is more agreement among workers**"
   ]
  },
  {
   "cell_type": "code",
   "execution_count": 21,
   "metadata": {},
   "outputs": [
    {
     "name": "stdout",
     "output_type": "stream",
     "text": [
      "average experts interate agreement on success: 0.9557560137457045\n",
      "average experts interate agreement on failure: 0.8242424242424242\n"
     ]
    },
    {
     "data": {
      "text/plain": [
       "Ttest_indResult(statistic=6.650787757548445, pvalue=8.441111361272022e-10)"
      ]
     },
     "execution_count": 21,
     "metadata": {},
     "output_type": "execute_result"
    },
    {
     "data": {
      "image/png": "[encoded data removed]",
      "text/plain": [
       "<Figure size 432x288 with 1 Axes>"
      ]
     },
     "metadata": {
      "needs_background": "light"
     },
     "output_type": "display_data"
    }
   ],
   "source": [
    "# T-test with different means, variance, and n:\n",
    "workers_succeed = subset_matches.inter_agree_experts\n",
    "workers_failed = subset_missmatches.inter_agree_experts\n",
    "sns.distplot(workers_succeed)\n",
    "sns.distplot(workers_failed, color='r')\n",
    "print('average experts interate agreement on success: {}\\naverage experts interate agreement on failure: {}'\\\n",
    "          .format(workers_succeed.mean(),workers_failed.mean()))\n",
    "stats.ttest_ind(workers_succeed, workers_failed, equal_var = False)"
   ]
  },
  {
   "cell_type": "markdown",
   "metadata": {},
   "source": [
    "**Workers perform as good as experts when there is more agreement among experts also**"
   ]
  },
  {
   "cell_type": "code",
   "execution_count": 22,
   "metadata": {},
   "outputs": [
    {
     "name": "stdout",
     "output_type": "stream",
     "text": [
      "average total words on success: 130.7422680412371\n",
      "average total words on failure: 130.5\n"
     ]
    },
    {
     "data": {
      "text/plain": [
       "Ttest_indResult(statistic=0.020227803325365754, pvalue=0.983883433846657)"
      ]
     },
     "execution_count": 22,
     "metadata": {},
     "output_type": "execute_result"
    },
    {
     "data": {
      "image/png": "[encoded data removed]",
      "text/plain": [
       "<Figure size 432x288 with 1 Axes>"
      ]
     },
     "metadata": {
      "needs_background": "light"
     },
     "output_type": "display_data"
    }
   ],
   "source": [
    "# T-test with different means, variance, and n:\n",
    "workers_succeed = subset_matches.total_words\n",
    "workers_failed = subset_missmatches.total_words\n",
    "sns.distplot(workers_succeed)\n",
    "sns.distplot(workers_failed, color='r')\n",
    "print('average total words on success: {}\\naverage total words on failure: {}'\\\n",
    "          .format(workers_succeed.mean(),workers_failed.mean()))\n",
    "stats.ttest_ind(workers_succeed, workers_failed, equal_var = False)"
   ]
  },
  {
   "cell_type": "markdown",
   "metadata": {},
   "source": [
    "**It does not matter the number of words in the text on workers successes**"
   ]
  },
  {
   "cell_type": "code",
   "execution_count": 23,
   "metadata": {},
   "outputs": [
    {
     "name": "stdout",
     "output_type": "stream",
     "text": [
      "average total characters on success: 973.9123711340206\n",
      "average total characters on failure: 980.0681818181819\n"
     ]
    },
    {
     "data": {
      "text/plain": [
       "Ttest_indResult(statistic=-0.06770198896467464, pvalue=0.9460966678116258)"
      ]
     },
     "execution_count": 23,
     "metadata": {},
     "output_type": "execute_result"
    },
    {
     "data": {
      "image/png": "[encoded data removed]",
      "text/plain": [
       "<Figure size 432x288 with 1 Axes>"
      ]
     },
     "metadata": {
      "needs_background": "light"
     },
     "output_type": "display_data"
    }
   ],
   "source": [
    "# T-test with different means, variance, and n:\n",
    "workers_succeed = subset_matches.total_characters\n",
    "workers_failed = subset_missmatches.total_characters\n",
    "sns.distplot(workers_succeed)\n",
    "sns.distplot(workers_failed, color='r')\n",
    "print('average total characters on success: {}\\naverage total characters on failure: {}'\\\n",
    "          .format(workers_succeed.mean(),workers_failed.mean()))\n",
    "stats.ttest_ind(workers_succeed, workers_failed, equal_var = False)"
   ]
  },
  {
   "cell_type": "markdown",
   "metadata": {},
   "source": [
    "**It does not matter the lenght of characters in the text on workers successes**"
   ]
  },
  {
   "cell_type": "markdown",
   "metadata": {},
   "source": [
    "---\n",
    "### Can we predict the crowd will perform as good as an expert based on the features"
   ]
  },
  {
   "cell_type": "code",
   "execution_count": 24,
   "metadata": {},
   "outputs": [
    {
     "name": "stdout",
     "output_type": "stream",
     "text": [
      "Accuracy: 76.60%\n"
     ]
    }
   ],
   "source": [
    "from xgboost import XGBClassifier\n",
    "from sklearn.model_selection import train_test_split\n",
    "from sklearn.metrics import accuracy_score\n",
    "# split data into X and y\n",
    "X = subset_consensus._get_numeric_data().drop(columns=['relation_match','inter_agree_experts','expert_answers'])\n",
    "Y = subset_consensus['relation_match']\n",
    "# split data into train and test sets\n",
    "seed = 7\n",
    "test_size = 0.33\n",
    "X_train, X_test, y_train, y_test = train_test_split(X, Y, test_size=test_size, random_state=seed)\n",
    "# fit model no training data\n",
    "model = XGBClassifier()\n",
    "model.fit(X_train, y_train)\n",
    "# make predictions for test data\n",
    "y_pred = model.predict(X_test)\n",
    "predictions = [round(value) for value in y_pred]\n",
    "# evaluate predictions\n",
    "accuracy = accuracy_score(y_test, predictions)\n",
    "print(\"Accuracy: %.2f%%\" % (accuracy * 100.0))"
   ]
  },
  {
   "cell_type": "code",
   "execution_count": 25,
   "metadata": {},
   "outputs": [],
   "source": [
    "cmx = ConfusionMatrix([float(i ==True) for i in y_test], list(predictions)) "
   ]
  },
  {
   "cell_type": "code",
   "execution_count": 26,
   "metadata": {},
   "outputs": [
    {
     "data": {
      "text/plain": [
       "<matplotlib.axes._subplots.AxesSubplot at 0x119d878d0>"
      ]
     },
     "execution_count": 26,
     "metadata": {},
     "output_type": "execute_result"
    },
    {
     "data": {
      "image/png": "[encoded data removed]",
      "text/plain": [
       "<Figure size 432x288 with 2 Axes>"
      ]
     },
     "metadata": {
      "needs_background": "light"
     },
     "output_type": "display_data"
    }
   ],
   "source": [
    "sns.heatmap(pd.DataFrame(cmx.table), annot=True, cmap=\"YlGnBu\")"
   ]
  },
  {
   "cell_type": "code",
   "execution_count": null,
   "metadata": {},
   "outputs": [],
   "source": []
  }
 ],
 "metadata": {
  "kernelspec": {
   "display_name": "Python 3",
   "language": "python",
   "name": "python3"
  },
  "language_info": {
   "codemirror_mode": {
    "name": "ipython",
    "version": 3
   },
   "file_extension": ".py",
   "mimetype": "text/x-python",
   "name": "python",
   "nbconvert_exporter": "python",
   "pygments_lexer": "ipython3",
   "version": "3.7.3"
  },
  "nteract": {
   "version": "0.15.0"
  }
 },
 "nbformat": 4,
 "nbformat_minor": 2
}
