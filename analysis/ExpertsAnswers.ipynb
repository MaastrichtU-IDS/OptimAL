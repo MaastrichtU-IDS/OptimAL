{
 "cells": [
  {
   "cell_type": "markdown",
   "metadata": {},
   "source": [
    "## Experts Answers Data Integration\n",
    "---"
   ]
  },
  {
   "cell_type": "code",
   "execution_count": 1,
   "metadata": {},
   "outputs": [],
   "source": [
    "import pandas as pd"
   ]
  },
  {
   "cell_type": "code",
   "execution_count": 2,
   "metadata": {},
   "outputs": [],
   "source": [
    "excels = ['Drug-disease relations annotations - Medical Expert 1.xlsx',\n",
    "          'Drug-disease relations annotations - Medical Expert 2.xlsx',\n",
    "          'Drug-disease relations annotations - Medical Expert 3.xlsx']\n",
    "sheets = ['Indication_treatment','indication_symptomatic_relief','contraindication', 'effect']\n",
    "tables = []\n",
    "for excel in excels:\n",
    "    for sheet in sheets:\n",
    "        df = pd.read_excel(excel, sheet_name=sheet)\n",
    "        df['expert'] = excel[37:53]\n",
    "        df['sheet'] = sheet\n",
    "        tables.append(df)"
   ]
  },
  {
   "cell_type": "markdown",
   "metadata": {},
   "source": [
    "#### Integrate"
   ]
  },
  {
   "cell_type": "code",
   "execution_count": 3,
   "metadata": {},
   "outputs": [],
   "source": [
    "merged_table = pd.DataFrame()\n",
    "for table in tables:\n",
    "    merged_table = merged_table.append(table, ignore_index=True, sort=False)"
   ]
  },
  {
   "cell_type": "markdown",
   "metadata": {},
   "source": [
    "---\n",
    "## Gathering experts tables"
   ]
  },
  {
   "cell_type": "code",
   "execution_count": 4,
   "metadata": {},
   "outputs": [],
   "source": [
    "labels = pd.read_csv('Expert2Relation_Mapping.csv',sep='\\t')"
   ]
  },
  {
   "cell_type": "code",
   "execution_count": 5,
   "metadata": {},
   "outputs": [
    {
     "data": {
      "text/plain": [
       "array(['Medical Expert 1', 'Medical Expert 2', 'Medical Expert 3'],\n",
       "      dtype=object)"
      ]
     },
     "execution_count": 5,
     "metadata": {},
     "output_type": "execute_result"
    }
   ],
   "source": [
    "merged_table.expert.unique()"
   ]
  },
  {
   "cell_type": "code",
   "execution_count": 6,
   "metadata": {},
   "outputs": [],
   "source": [
    "merged_table = pd.merge(merged_table, labels, \n",
    "                        how='left', left_on ='medical_expert', right_on ='text') #add the correct labels"
   ]
  },
  {
   "cell_type": "code",
   "execution_count": 7,
   "metadata": {},
   "outputs": [
    {
     "data": {
      "text/plain": [
       "array([nan, 'Indication: Symptomatic Relief', 'Indication: Treatment',\n",
       "       'Contraindication', 'Inconsistent', 'Effect', 'Duplicate', 'IDK'],\n",
       "      dtype=object)"
      ]
     },
     "execution_count": 7,
     "metadata": {},
     "output_type": "execute_result"
    }
   ],
   "source": [
    "merged_table.relation.unique()"
   ]
  },
  {
   "cell_type": "code",
   "execution_count": 8,
   "metadata": {},
   "outputs": [],
   "source": [
    "subset = merged_table[['disease_name','drug_name','context','expert','relation']]\\\n",
    "    .rename(columns={'relation':'expert_label'})\\\n",
    "    .dropna()\n",
    "subset['value'] = 1\n",
    "subset.drop_duplicates(keep='first', inplace=True)"
   ]
  },
  {
   "cell_type": "markdown",
   "metadata": {},
   "source": [
    "## Create an expert consensus table"
   ]
  },
  {
   "cell_type": "code",
   "execution_count": 9,
   "metadata": {},
   "outputs": [],
   "source": [
    "expert_table = pd.pivot_table(\n",
    "    subset,\n",
    "    values='value',\n",
    "    index=['disease_name','drug_name','context'],\n",
    "    columns=['expert_label'],\n",
    "    aggfunc='sum',\n",
    "    fill_value=0\n",
    ").reset_index().drop(columns=['Inconsistent','Duplicate'])"
   ]
  },
  {
   "cell_type": "code",
   "execution_count": 10,
   "metadata": {},
   "outputs": [],
   "source": [
    "expert_table['expert_answers'] = expert_table.sum(axis=1)\n",
    "expert_table['Contraindication'] = expert_table['Contraindication']/expert_table['expert_answers']\n",
    "expert_table['Effect'] = expert_table['Effect']/expert_table['expert_answers']\n",
    "expert_table['IDK'] = expert_table['IDK']/expert_table['expert_answers']\n",
    "expert_table['Indication: Symptomatic Relief'] = expert_table['Indication: Symptomatic Relief']/expert_table['expert_answers']\n",
    "expert_table['Indication: Treatment'] = expert_table['Indication: Treatment']/expert_table['expert_answers']\n",
    "expert_table['inter_agree_experts'] = expert_table.drop(columns='expert_answers').max(axis=1)"
   ]
  },
  {
   "cell_type": "code",
   "execution_count": 11,
   "metadata": {},
   "outputs": [],
   "source": [
    "label_list = list(labels.relation.unique())\n",
    "label_list.remove('Inconsistent'); label_list.remove('Duplicate')\n",
    "consensus = []\n",
    "for i in range(len(expert_table)):\n",
    "    if expert_table.loc[i].inter_agree_experts > .51:\n",
    "        for r in label_list:\n",
    "            if expert_table.loc[i].inter_agree_experts == expert_table.loc[i][str(r)]:\n",
    "                consensus.append(str(r))\n",
    "    else:\n",
    "        consensus.append('No consensus')\n",
    "\n",
    "expert_table['expert_consensus'] = consensus"
   ]
  },
  {
   "cell_type": "code",
   "execution_count": 12,
   "metadata": {},
   "outputs": [
    {
     "data": {
      "text/html": [
       "<div>\n",
       "<style scoped>\n",
       "    .dataframe tbody tr th:only-of-type {\n",
       "        vertical-align: middle;\n",
       "    }\n",
       "\n",
       "    .dataframe tbody tr th {\n",
       "        vertical-align: top;\n",
       "    }\n",
       "\n",
       "    .dataframe thead th {\n",
       "        text-align: right;\n",
       "    }\n",
       "</style>\n",
       "<table border=\"1\" class=\"dataframe\">\n",
       "  <thead>\n",
       "    <tr style=\"text-align: right;\">\n",
       "      <th>expert_label</th>\n",
       "      <th>disease_name</th>\n",
       "      <th>drug_name</th>\n",
       "      <th>context</th>\n",
       "      <th>Contraindication</th>\n",
       "      <th>Effect</th>\n",
       "      <th>IDK</th>\n",
       "      <th>Indication: Symptomatic Relief</th>\n",
       "      <th>Indication: Treatment</th>\n",
       "      <th>expert_answers</th>\n",
       "      <th>inter_agree_experts</th>\n",
       "      <th>expert_consensus</th>\n",
       "    </tr>\n",
       "  </thead>\n",
       "  <tbody>\n",
       "    <tr>\n",
       "      <th>0</th>\n",
       "      <td>ACNE</td>\n",
       "      <td>TAZAROTENE</td>\n",
       "      <td>Retinoids may cause fetal harm when administer...</td>\n",
       "      <td>0.0</td>\n",
       "      <td>0.0</td>\n",
       "      <td>0.0</td>\n",
       "      <td>0.000000</td>\n",
       "      <td>1.000000</td>\n",
       "      <td>2</td>\n",
       "      <td>1.000000</td>\n",
       "      <td>Indication: Treatment</td>\n",
       "    </tr>\n",
       "    <tr>\n",
       "      <th>1</th>\n",
       "      <td>ACUTE CERVICITIS</td>\n",
       "      <td>LEVONORGESTREL</td>\n",
       "      <td>['The use of LILETTA is contraindicated when o...</td>\n",
       "      <td>1.0</td>\n",
       "      <td>0.0</td>\n",
       "      <td>0.0</td>\n",
       "      <td>0.000000</td>\n",
       "      <td>0.000000</td>\n",
       "      <td>3</td>\n",
       "      <td>1.000000</td>\n",
       "      <td>Contraindication</td>\n",
       "    </tr>\n",
       "    <tr>\n",
       "      <th>2</th>\n",
       "      <td>ACUTE INTERMITTENT PORPHYRIA</td>\n",
       "      <td>Hemin</td>\n",
       "      <td>PANHEMATIN is a hemin for injection indicated ...</td>\n",
       "      <td>0.0</td>\n",
       "      <td>0.0</td>\n",
       "      <td>0.0</td>\n",
       "      <td>0.666667</td>\n",
       "      <td>0.333333</td>\n",
       "      <td>3</td>\n",
       "      <td>0.666667</td>\n",
       "      <td>Indication: Symptomatic Relief</td>\n",
       "    </tr>\n",
       "    <tr>\n",
       "      <th>3</th>\n",
       "      <td>ACUTE LYMPHOBLASTIC LEUKEMIA</td>\n",
       "      <td>Vincristine</td>\n",
       "      <td>Marqibo is a vinca alkaloid indicated for the ...</td>\n",
       "      <td>0.0</td>\n",
       "      <td>0.0</td>\n",
       "      <td>0.0</td>\n",
       "      <td>0.000000</td>\n",
       "      <td>1.000000</td>\n",
       "      <td>2</td>\n",
       "      <td>1.000000</td>\n",
       "      <td>Indication: Treatment</td>\n",
       "    </tr>\n",
       "    <tr>\n",
       "      <th>4</th>\n",
       "      <td>ACUTE LYMPHOCYTIC LEUKEMIA</td>\n",
       "      <td>CYTARABINE</td>\n",
       "      <td>Cytarabine Injection in combination with other...</td>\n",
       "      <td>0.0</td>\n",
       "      <td>0.0</td>\n",
       "      <td>0.0</td>\n",
       "      <td>0.000000</td>\n",
       "      <td>1.000000</td>\n",
       "      <td>2</td>\n",
       "      <td>1.000000</td>\n",
       "      <td>Indication: Treatment</td>\n",
       "    </tr>\n",
       "  </tbody>\n",
       "</table>\n",
       "</div>"
      ],
      "text/plain": [
       "expert_label                  disease_name       drug_name  \\\n",
       "0                                     ACNE      TAZAROTENE   \n",
       "1                         ACUTE CERVICITIS  LEVONORGESTREL   \n",
       "2             ACUTE INTERMITTENT PORPHYRIA           Hemin   \n",
       "3             ACUTE LYMPHOBLASTIC LEUKEMIA     Vincristine   \n",
       "4               ACUTE LYMPHOCYTIC LEUKEMIA      CYTARABINE   \n",
       "\n",
       "expert_label                                            context  \\\n",
       "0             Retinoids may cause fetal harm when administer...   \n",
       "1             ['The use of LILETTA is contraindicated when o...   \n",
       "2             PANHEMATIN is a hemin for injection indicated ...   \n",
       "3             Marqibo is a vinca alkaloid indicated for the ...   \n",
       "4             Cytarabine Injection in combination with other...   \n",
       "\n",
       "expert_label  Contraindication  Effect  IDK  Indication: Symptomatic Relief  \\\n",
       "0                          0.0     0.0  0.0                        0.000000   \n",
       "1                          1.0     0.0  0.0                        0.000000   \n",
       "2                          0.0     0.0  0.0                        0.666667   \n",
       "3                          0.0     0.0  0.0                        0.000000   \n",
       "4                          0.0     0.0  0.0                        0.000000   \n",
       "\n",
       "expert_label  Indication: Treatment  expert_answers  inter_agree_experts  \\\n",
       "0                          1.000000               2             1.000000   \n",
       "1                          0.000000               3             1.000000   \n",
       "2                          0.333333               3             0.666667   \n",
       "3                          1.000000               2             1.000000   \n",
       "4                          1.000000               2             1.000000   \n",
       "\n",
       "expert_label                expert_consensus  \n",
       "0                      Indication: Treatment  \n",
       "1                           Contraindication  \n",
       "2             Indication: Symptomatic Relief  \n",
       "3                      Indication: Treatment  \n",
       "4                      Indication: Treatment  "
      ]
     },
     "execution_count": 12,
     "metadata": {},
     "output_type": "execute_result"
    }
   ],
   "source": [
    "expert_table.head()"
   ]
  },
  {
   "cell_type": "code",
   "execution_count": 13,
   "metadata": {},
   "outputs": [
    {
     "data": {
      "text/plain": [
       "(368, 11)"
      ]
     },
     "execution_count": 13,
     "metadata": {},
     "output_type": "execute_result"
    }
   ],
   "source": [
    "expert_table.shape"
   ]
  },
  {
   "cell_type": "code",
   "execution_count": 14,
   "metadata": {},
   "outputs": [],
   "source": [
    "expert_table.to_csv('expert_table.csv',index=False)"
   ]
  },
  {
   "cell_type": "code",
   "execution_count": null,
   "metadata": {},
   "outputs": [],
   "source": []
  }
 ],
 "metadata": {
  "kernelspec": {
   "display_name": "Python 3",
   "language": "python",
   "name": "python3"
  },
  "language_info": {
   "codemirror_mode": {
    "name": "ipython",
    "version": 3
   },
   "file_extension": ".py",
   "mimetype": "text/x-python",
   "name": "python",
   "nbconvert_exporter": "python",
   "pygments_lexer": "ipython3",
   "version": "3.7.3"
  },
  "nteract": {
   "version": "0.15.0"
  }
 },
 "nbformat": 4,
 "nbformat_minor": 2
}
