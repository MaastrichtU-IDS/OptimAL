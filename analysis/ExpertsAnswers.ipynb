{
 "cells": [
  {
   "cell_type": "markdown",
   "metadata": {},
   "source": [
    "## When do we need medical experts to annotate relations between drugs and diseases?\n",
    "---"
   ]
  },
  {
   "cell_type": "code",
   "execution_count": 1,
   "metadata": {},
   "outputs": [],
   "source": [
    "import pandas as pd"
   ]
  },
  {
   "cell_type": "code",
   "execution_count": 2,
   "metadata": {},
   "outputs": [],
   "source": [
    "labels = pd.read_csv('Expert2Relation_Mapping.csv')\n",
    "excels = ['Drug-disease relations annotations - Medical Expert 1.xlsx',\n",
    "          'Drug-disease relations annotations - Medical Expert 2.xlsx',\n",
    "          'Drug-disease relations annotations - Medical Expert 3.xlsx']\n",
    "sheets = ['Indication_treatment','indication_symptomatic_relief','contraindication', 'effect']\n",
    "tables = []\n",
    "for excel in excels:\n",
    "    for sheet in sheets:\n",
    "        df = pd.read_excel(excel, sheet_name=sheet)\n",
    "        df['expert'] = excel[37:53]\n",
    "        df['sheet'] = sheet\n",
    "        tables.append(df)"
   ]
  },
  {
   "cell_type": "markdown",
   "metadata": {},
   "source": [
    "#### Integrate"
   ]
  },
  {
   "cell_type": "code",
   "execution_count": 3,
   "metadata": {},
   "outputs": [],
   "source": [
    "merged_table = pd.DataFrame()\n",
    "for table in tables:\n",
    "    merged_table = merged_table.append(table, ignore_index=True, sort=False)"
   ]
  },
  {
   "cell_type": "markdown",
   "metadata": {},
   "source": [
    "---\n",
    "### Cleaning workers inter-rate table"
   ]
  },
  {
   "cell_type": "markdown",
   "metadata": {},
   "source": [
    "#### Extend worker answers from the same cell"
   ]
  },
  {
   "cell_type": "code",
   "execution_count": 4,
   "metadata": {},
   "outputs": [],
   "source": [
    "#taking just one excel spreadsheet since the rest are a copy\n",
    "data = merged_table[merged_table['expert']=='Medical Expert 1']"
   ]
  },
  {
   "cell_type": "code",
   "execution_count": 5,
   "metadata": {},
   "outputs": [],
   "source": [
    "#rows to split\n",
    "save_index = []\n",
    "for idx, row in enumerate(data.iterrows()): \n",
    "    if '\\n' in row[1].workers_answers:\n",
    "        save_index.append(idx)"
   ]
  },
  {
   "cell_type": "code",
   "execution_count": 6,
   "metadata": {},
   "outputs": [],
   "source": [
    "temp = data[data.index.isin(save_index)]\n",
    "dataA = pd.merge(temp.reset_index(), \n",
    "         temp['workers_answers'].str.split('\\n',expand=True).stack().rename('new').reset_index(), \n",
    "         left_on='index', \n",
    "         right_on='level_0', \n",
    "         how='outer')\n",
    "\n",
    "dataA = dataA.drop(columns=['index','level_0','level_1','workers_answers'])\\\n",
    "    .rename(columns={'new':'workers_answers'})"
   ]
  },
  {
   "cell_type": "markdown",
   "metadata": {},
   "source": [
    "#### Extend worker answers rows when the cell is extended"
   ]
  },
  {
   "cell_type": "code",
   "execution_count": 7,
   "metadata": {},
   "outputs": [],
   "source": [
    "#now take the rest of the indexes\n",
    "rest_index = list(set(list(data.index)) - set(save_index))"
   ]
  },
  {
   "cell_type": "code",
   "execution_count": 8,
   "metadata": {},
   "outputs": [],
   "source": [
    "dataB = data[data.index.isin(rest_index)]\\\n",
    "        .fillna(method='ffill')"
   ]
  },
  {
   "cell_type": "markdown",
   "metadata": {},
   "source": [
    "#### Integrate again"
   ]
  },
  {
   "cell_type": "code",
   "execution_count": 9,
   "metadata": {},
   "outputs": [],
   "source": [
    "data = dataA.reset_index(drop=True).append(dataB.reset_index(drop=True), sort=False)\n",
    "data = data\\\n",
    "    .merge(labels, how='left', left_on ='workers_answers', right_on ='Text')\\\n",
    "    .rename(columns={'Relation':'worker_label'})\n",
    "data['value'] = 1"
   ]
  },
  {
   "cell_type": "code",
   "execution_count": 10,
   "metadata": {},
   "outputs": [
    {
     "data": {
      "text/plain": [
       "array(['Indication: Treatment', 'IDK', 'Contraindication',\n",
       "       'Indication: Symptomatic Relief', 'Effect'], dtype=object)"
      ]
     },
     "execution_count": 10,
     "metadata": {},
     "output_type": "execute_result"
    }
   ],
   "source": [
    "data.worker_label.unique()"
   ]
  },
  {
   "cell_type": "markdown",
   "metadata": {},
   "source": [
    "## Create a worker consensus table"
   ]
  },
  {
   "cell_type": "code",
   "execution_count": 11,
   "metadata": {},
   "outputs": [],
   "source": [
    "worker_table = pd.pivot_table(\n",
    "    data,\n",
    "    values='value',\n",
    "    index=['disease_name','drug_name','context'],\n",
    "    columns=['worker_label'],\n",
    "    aggfunc='sum',\n",
    "    fill_value=0\n",
    ").reset_index()"
   ]
  },
  {
   "cell_type": "code",
   "execution_count": 12,
   "metadata": {},
   "outputs": [],
   "source": [
    "worker_table['worker_answers'] = worker_table.sum(axis=1)\n",
    "worker_table['Contraindication'] = worker_table['Contraindication']/worker_table['worker_answers']\n",
    "worker_table['Effect'] = worker_table['Effect']/worker_table['worker_answers']\n",
    "worker_table['IDK'] = worker_table['IDK']/worker_table['worker_answers']\n",
    "worker_table['Indication: Symptomatic Relief'] = worker_table['Indication: Symptomatic Relief']/worker_table['worker_answers']\n",
    "worker_table['Indication: Treatment'] = worker_table['Indication: Treatment']/worker_table['worker_answers']\n",
    "worker_table['perc_workers_consensus'] = worker_table.drop(columns='worker_answers').max(axis=1)"
   ]
  },
  {
   "cell_type": "code",
   "execution_count": 13,
   "metadata": {},
   "outputs": [],
   "source": [
    "label_list = list(labels.Relation.unique())\n",
    "label_list.remove('Inconsistent')\n",
    "consensus = []\n",
    "for i in range(len(worker_table)):\n",
    "    if worker_table.loc[i].perc_workers_consensus > .51:\n",
    "        for r in label_list:\n",
    "            if worker_table.loc[i].perc_workers_consensus == worker_table.loc[i][str(r)]:\n",
    "                consensus.append(str(r))\n",
    "    else:\n",
    "        consensus.append('No consensus')\n",
    "\n",
    "worker_table['worker_consensus'] = consensus"
   ]
  },
  {
   "cell_type": "code",
   "execution_count": 14,
   "metadata": {},
   "outputs": [
    {
     "data": {
      "text/html": [
       "<div>\n",
       "<style scoped>\n",
       "    .dataframe tbody tr th:only-of-type {\n",
       "        vertical-align: middle;\n",
       "    }\n",
       "\n",
       "    .dataframe tbody tr th {\n",
       "        vertical-align: top;\n",
       "    }\n",
       "\n",
       "    .dataframe thead th {\n",
       "        text-align: right;\n",
       "    }\n",
       "</style>\n",
       "<table border=\"1\" class=\"dataframe\">\n",
       "  <thead>\n",
       "    <tr style=\"text-align: right;\">\n",
       "      <th>worker_label</th>\n",
       "      <th>disease_name</th>\n",
       "      <th>drug_name</th>\n",
       "      <th>context</th>\n",
       "      <th>Contraindication</th>\n",
       "      <th>Effect</th>\n",
       "      <th>IDK</th>\n",
       "      <th>Indication: Symptomatic Relief</th>\n",
       "      <th>Indication: Treatment</th>\n",
       "      <th>worker_answers</th>\n",
       "      <th>perc_workers_consensus</th>\n",
       "      <th>worker_consensus</th>\n",
       "    </tr>\n",
       "  </thead>\n",
       "  <tbody>\n",
       "    <tr>\n",
       "      <th>0</th>\n",
       "      <td>ACNE</td>\n",
       "      <td>TAZAROTENE</td>\n",
       "      <td>Retinoids may cause fetal harm when administer...</td>\n",
       "      <td>0.333333</td>\n",
       "      <td>0.666667</td>\n",
       "      <td>0.0</td>\n",
       "      <td>0.0</td>\n",
       "      <td>0.000000</td>\n",
       "      <td>3</td>\n",
       "      <td>0.666667</td>\n",
       "      <td>Effect</td>\n",
       "    </tr>\n",
       "    <tr>\n",
       "      <th>1</th>\n",
       "      <td>ACUTE CERVICITIS</td>\n",
       "      <td>LEVONORGESTREL</td>\n",
       "      <td>['The use of LILETTA is contraindicated when o...</td>\n",
       "      <td>0.666667</td>\n",
       "      <td>0.000000</td>\n",
       "      <td>0.0</td>\n",
       "      <td>0.0</td>\n",
       "      <td>0.333333</td>\n",
       "      <td>3</td>\n",
       "      <td>0.666667</td>\n",
       "      <td>Contraindication</td>\n",
       "    </tr>\n",
       "    <tr>\n",
       "      <th>2</th>\n",
       "      <td>ACUTE INTERMITTENT PORPHYRIA</td>\n",
       "      <td>Hemin</td>\n",
       "      <td>PANHEMATIN is a hemin for injection indicated ...</td>\n",
       "      <td>0.000000</td>\n",
       "      <td>0.000000</td>\n",
       "      <td>0.0</td>\n",
       "      <td>0.5</td>\n",
       "      <td>0.500000</td>\n",
       "      <td>4</td>\n",
       "      <td>0.500000</td>\n",
       "      <td>No consensus</td>\n",
       "    </tr>\n",
       "    <tr>\n",
       "      <th>3</th>\n",
       "      <td>ACUTE LYMPHOBLASTIC LEUKEMIA</td>\n",
       "      <td>Vincristine</td>\n",
       "      <td>Marqibo is a vinca alkaloid indicated for the ...</td>\n",
       "      <td>0.000000</td>\n",
       "      <td>0.000000</td>\n",
       "      <td>0.0</td>\n",
       "      <td>0.0</td>\n",
       "      <td>1.000000</td>\n",
       "      <td>6</td>\n",
       "      <td>1.000000</td>\n",
       "      <td>Indication: Treatment</td>\n",
       "    </tr>\n",
       "    <tr>\n",
       "      <th>4</th>\n",
       "      <td>ACUTE LYMPHOCYTIC LEUKEMIA</td>\n",
       "      <td>CYTARABINE</td>\n",
       "      <td>Cytarabine Injection in combination with other...</td>\n",
       "      <td>0.000000</td>\n",
       "      <td>0.000000</td>\n",
       "      <td>0.0</td>\n",
       "      <td>0.0</td>\n",
       "      <td>1.000000</td>\n",
       "      <td>6</td>\n",
       "      <td>1.000000</td>\n",
       "      <td>Indication: Treatment</td>\n",
       "    </tr>\n",
       "  </tbody>\n",
       "</table>\n",
       "</div>"
      ],
      "text/plain": [
       "worker_label                  disease_name       drug_name  \\\n",
       "0                                     ACNE      TAZAROTENE   \n",
       "1                         ACUTE CERVICITIS  LEVONORGESTREL   \n",
       "2             ACUTE INTERMITTENT PORPHYRIA           Hemin   \n",
       "3             ACUTE LYMPHOBLASTIC LEUKEMIA     Vincristine   \n",
       "4               ACUTE LYMPHOCYTIC LEUKEMIA      CYTARABINE   \n",
       "\n",
       "worker_label                                            context  \\\n",
       "0             Retinoids may cause fetal harm when administer...   \n",
       "1             ['The use of LILETTA is contraindicated when o...   \n",
       "2             PANHEMATIN is a hemin for injection indicated ...   \n",
       "3             Marqibo is a vinca alkaloid indicated for the ...   \n",
       "4             Cytarabine Injection in combination with other...   \n",
       "\n",
       "worker_label  Contraindication    Effect  IDK  Indication: Symptomatic Relief  \\\n",
       "0                     0.333333  0.666667  0.0                             0.0   \n",
       "1                     0.666667  0.000000  0.0                             0.0   \n",
       "2                     0.000000  0.000000  0.0                             0.5   \n",
       "3                     0.000000  0.000000  0.0                             0.0   \n",
       "4                     0.000000  0.000000  0.0                             0.0   \n",
       "\n",
       "worker_label  Indication: Treatment  worker_answers  perc_workers_consensus  \\\n",
       "0                          0.000000               3                0.666667   \n",
       "1                          0.333333               3                0.666667   \n",
       "2                          0.500000               4                0.500000   \n",
       "3                          1.000000               6                1.000000   \n",
       "4                          1.000000               6                1.000000   \n",
       "\n",
       "worker_label       worker_consensus  \n",
       "0                            Effect  \n",
       "1                  Contraindication  \n",
       "2                      No consensus  \n",
       "3             Indication: Treatment  \n",
       "4             Indication: Treatment  "
      ]
     },
     "execution_count": 14,
     "metadata": {},
     "output_type": "execute_result"
    }
   ],
   "source": [
    "worker_table.head()"
   ]
  },
  {
   "cell_type": "code",
   "execution_count": 15,
   "metadata": {},
   "outputs": [
    {
     "data": {
      "text/plain": [
       "(367, 11)"
      ]
     },
     "execution_count": 15,
     "metadata": {},
     "output_type": "execute_result"
    }
   ],
   "source": [
    "worker_table.shape"
   ]
  },
  {
   "cell_type": "markdown",
   "metadata": {},
   "source": [
    "---\n",
    "## Gathering experts tables"
   ]
  },
  {
   "cell_type": "code",
   "execution_count": 16,
   "metadata": {},
   "outputs": [
    {
     "data": {
      "text/plain": [
       "array(['Medical Expert 1', 'Medical Expert 2', 'Medical Expert 3'],\n",
       "      dtype=object)"
      ]
     },
     "execution_count": 16,
     "metadata": {},
     "output_type": "execute_result"
    }
   ],
   "source": [
    "merged_table.expert.unique()"
   ]
  },
  {
   "cell_type": "code",
   "execution_count": 17,
   "metadata": {},
   "outputs": [],
   "source": [
    "merged_table = merged_table.merge(labels, \n",
    "           how='left', left_on ='medical_expert', right_on ='Text') #add the correct labels"
   ]
  },
  {
   "cell_type": "code",
   "execution_count": 18,
   "metadata": {},
   "outputs": [
    {
     "data": {
      "text/plain": [
       "array(['Indication: Treatment', 'Indication: Symptomatic Relief',\n",
       "       'Contraindication', 'Inconsistent', nan, 'Effect', 'IDK'],\n",
       "      dtype=object)"
      ]
     },
     "execution_count": 18,
     "metadata": {},
     "output_type": "execute_result"
    }
   ],
   "source": [
    "merged_table.Relation.unique()"
   ]
  },
  {
   "cell_type": "code",
   "execution_count": 19,
   "metadata": {},
   "outputs": [],
   "source": [
    "subset = merged_table[['disease_name','drug_name','context','expert','Relation']]\\\n",
    "    .rename(columns={'Relation':'expert_label'})\\\n",
    "    .dropna()\n",
    "subset['value'] = 1\n",
    "subset.drop_duplicates(keep='first', inplace=True)"
   ]
  },
  {
   "cell_type": "markdown",
   "metadata": {},
   "source": [
    "## Create an expert consensus table"
   ]
  },
  {
   "cell_type": "code",
   "execution_count": 20,
   "metadata": {},
   "outputs": [],
   "source": [
    "expert_table = pd.pivot_table(\n",
    "    subset,\n",
    "    values='value',\n",
    "    index=['disease_name','drug_name','context'],\n",
    "    columns=['expert_label'],\n",
    "    aggfunc='sum',\n",
    "    fill_value=0\n",
    ").reset_index().drop(columns=['Inconsistent'])"
   ]
  },
  {
   "cell_type": "code",
   "execution_count": 21,
   "metadata": {},
   "outputs": [],
   "source": [
    "expert_table['expert_answers'] = expert_table.sum(axis=1)\n",
    "expert_table['Contraindication'] = expert_table['Contraindication']/expert_table['expert_answers']\n",
    "expert_table['Effect'] = expert_table['Effect']/expert_table['expert_answers']\n",
    "expert_table['IDK'] = expert_table['IDK']/expert_table['expert_answers']\n",
    "expert_table['Indication: Symptomatic Relief'] = expert_table['Indication: Symptomatic Relief']/expert_table['expert_answers']\n",
    "expert_table['Indication: Treatment'] = expert_table['Indication: Treatment']/expert_table['expert_answers']\n",
    "expert_table['perc_experts_consensus'] = expert_table.drop(columns='expert_answers').max(axis=1)"
   ]
  },
  {
   "cell_type": "code",
   "execution_count": 22,
   "metadata": {},
   "outputs": [],
   "source": [
    "label_list = list(labels.Relation.unique())\n",
    "label_list.remove('Inconsistent')\n",
    "consensusE = []\n",
    "for i in range(len(expert_table)):\n",
    "    if expert_table.loc[i].perc_experts_consensus > .51:\n",
    "        for r in label_list:\n",
    "            if expert_table.loc[i].perc_experts_consensus == expert_table.loc[i][str(r)]:\n",
    "                consensusE.append(str(r))\n",
    "    else:\n",
    "        consensusE.append('No consensus')\n",
    "\n",
    "expert_table['expert_consensus'] = consensusE"
   ]
  },
  {
   "cell_type": "code",
   "execution_count": 23,
   "metadata": {},
   "outputs": [
    {
     "data": {
      "text/html": [
       "<div>\n",
       "<style scoped>\n",
       "    .dataframe tbody tr th:only-of-type {\n",
       "        vertical-align: middle;\n",
       "    }\n",
       "\n",
       "    .dataframe tbody tr th {\n",
       "        vertical-align: top;\n",
       "    }\n",
       "\n",
       "    .dataframe thead th {\n",
       "        text-align: right;\n",
       "    }\n",
       "</style>\n",
       "<table border=\"1\" class=\"dataframe\">\n",
       "  <thead>\n",
       "    <tr style=\"text-align: right;\">\n",
       "      <th>expert_label</th>\n",
       "      <th>disease_name</th>\n",
       "      <th>drug_name</th>\n",
       "      <th>context</th>\n",
       "      <th>Contraindication</th>\n",
       "      <th>Effect</th>\n",
       "      <th>IDK</th>\n",
       "      <th>Indication: Symptomatic Relief</th>\n",
       "      <th>Indication: Treatment</th>\n",
       "      <th>expert_answers</th>\n",
       "      <th>perc_experts_consensus</th>\n",
       "      <th>expert_consensus</th>\n",
       "    </tr>\n",
       "  </thead>\n",
       "  <tbody>\n",
       "    <tr>\n",
       "      <th>0</th>\n",
       "      <td>ACNE</td>\n",
       "      <td>TAZAROTENE</td>\n",
       "      <td>Retinoids may cause fetal harm when administer...</td>\n",
       "      <td>0.0</td>\n",
       "      <td>0.0</td>\n",
       "      <td>0.0</td>\n",
       "      <td>0.000000</td>\n",
       "      <td>1.000000</td>\n",
       "      <td>2</td>\n",
       "      <td>1.000000</td>\n",
       "      <td>Indication: Treatment</td>\n",
       "    </tr>\n",
       "    <tr>\n",
       "      <th>1</th>\n",
       "      <td>ACUTE CERVICITIS</td>\n",
       "      <td>LEVONORGESTREL</td>\n",
       "      <td>['The use of LILETTA is contraindicated when o...</td>\n",
       "      <td>1.0</td>\n",
       "      <td>0.0</td>\n",
       "      <td>0.0</td>\n",
       "      <td>0.000000</td>\n",
       "      <td>0.000000</td>\n",
       "      <td>2</td>\n",
       "      <td>1.000000</td>\n",
       "      <td>Contraindication</td>\n",
       "    </tr>\n",
       "    <tr>\n",
       "      <th>2</th>\n",
       "      <td>ACUTE INTERMITTENT PORPHYRIA</td>\n",
       "      <td>Hemin</td>\n",
       "      <td>PANHEMATIN is a hemin for injection indicated ...</td>\n",
       "      <td>0.0</td>\n",
       "      <td>0.0</td>\n",
       "      <td>0.0</td>\n",
       "      <td>0.666667</td>\n",
       "      <td>0.333333</td>\n",
       "      <td>3</td>\n",
       "      <td>0.666667</td>\n",
       "      <td>Indication: Symptomatic Relief</td>\n",
       "    </tr>\n",
       "    <tr>\n",
       "      <th>3</th>\n",
       "      <td>ACUTE LYMPHOBLASTIC LEUKEMIA</td>\n",
       "      <td>Vincristine</td>\n",
       "      <td>Marqibo is a vinca alkaloid indicated for the ...</td>\n",
       "      <td>0.0</td>\n",
       "      <td>0.0</td>\n",
       "      <td>0.0</td>\n",
       "      <td>0.000000</td>\n",
       "      <td>1.000000</td>\n",
       "      <td>3</td>\n",
       "      <td>1.000000</td>\n",
       "      <td>Indication: Treatment</td>\n",
       "    </tr>\n",
       "    <tr>\n",
       "      <th>4</th>\n",
       "      <td>ACUTE LYMPHOCYTIC LEUKEMIA</td>\n",
       "      <td>CYTARABINE</td>\n",
       "      <td>Cytarabine Injection in combination with other...</td>\n",
       "      <td>0.0</td>\n",
       "      <td>0.0</td>\n",
       "      <td>0.0</td>\n",
       "      <td>0.000000</td>\n",
       "      <td>1.000000</td>\n",
       "      <td>3</td>\n",
       "      <td>1.000000</td>\n",
       "      <td>Indication: Treatment</td>\n",
       "    </tr>\n",
       "  </tbody>\n",
       "</table>\n",
       "</div>"
      ],
      "text/plain": [
       "expert_label                  disease_name       drug_name  \\\n",
       "0                                     ACNE      TAZAROTENE   \n",
       "1                         ACUTE CERVICITIS  LEVONORGESTREL   \n",
       "2             ACUTE INTERMITTENT PORPHYRIA           Hemin   \n",
       "3             ACUTE LYMPHOBLASTIC LEUKEMIA     Vincristine   \n",
       "4               ACUTE LYMPHOCYTIC LEUKEMIA      CYTARABINE   \n",
       "\n",
       "expert_label                                            context  \\\n",
       "0             Retinoids may cause fetal harm when administer...   \n",
       "1             ['The use of LILETTA is contraindicated when o...   \n",
       "2             PANHEMATIN is a hemin for injection indicated ...   \n",
       "3             Marqibo is a vinca alkaloid indicated for the ...   \n",
       "4             Cytarabine Injection in combination with other...   \n",
       "\n",
       "expert_label  Contraindication  Effect  IDK  Indication: Symptomatic Relief  \\\n",
       "0                          0.0     0.0  0.0                        0.000000   \n",
       "1                          1.0     0.0  0.0                        0.000000   \n",
       "2                          0.0     0.0  0.0                        0.666667   \n",
       "3                          0.0     0.0  0.0                        0.000000   \n",
       "4                          0.0     0.0  0.0                        0.000000   \n",
       "\n",
       "expert_label  Indication: Treatment  expert_answers  perc_experts_consensus  \\\n",
       "0                          1.000000               2                1.000000   \n",
       "1                          0.000000               2                1.000000   \n",
       "2                          0.333333               3                0.666667   \n",
       "3                          1.000000               3                1.000000   \n",
       "4                          1.000000               3                1.000000   \n",
       "\n",
       "expert_label                expert_consensus  \n",
       "0                      Indication: Treatment  \n",
       "1                           Contraindication  \n",
       "2             Indication: Symptomatic Relief  \n",
       "3                      Indication: Treatment  \n",
       "4                      Indication: Treatment  "
      ]
     },
     "execution_count": 23,
     "metadata": {},
     "output_type": "execute_result"
    }
   ],
   "source": [
    "expert_table.head()"
   ]
  },
  {
   "cell_type": "code",
   "execution_count": 24,
   "metadata": {},
   "outputs": [
    {
     "data": {
      "text/plain": [
       "(367, 11)"
      ]
     },
     "execution_count": 24,
     "metadata": {},
     "output_type": "execute_result"
    }
   ],
   "source": [
    "expert_table.shape"
   ]
  },
  {
   "cell_type": "markdown",
   "metadata": {},
   "source": [
    "---\n",
    "## Workers vs experts (merging consensus tables)"
   ]
  },
  {
   "cell_type": "code",
   "execution_count": 25,
   "metadata": {},
   "outputs": [],
   "source": [
    "match_table = pd.merge(worker_table.drop(columns=label_list),\n",
    "                       expert_table.drop(columns=label_list),\n",
    "                       on=['disease_name','drug_name','context'], how='inner')\n",
    "\n",
    "match_table['relation_match'] = match_table.worker_consensus == match_table.expert_consensus"
   ]
  },
  {
   "cell_type": "code",
   "execution_count": 26,
   "metadata": {},
   "outputs": [
    {
     "data": {
      "text/html": [
       "<div>\n",
       "<style scoped>\n",
       "    .dataframe tbody tr th:only-of-type {\n",
       "        vertical-align: middle;\n",
       "    }\n",
       "\n",
       "    .dataframe tbody tr th {\n",
       "        vertical-align: top;\n",
       "    }\n",
       "\n",
       "    .dataframe thead th {\n",
       "        text-align: right;\n",
       "    }\n",
       "</style>\n",
       "<table border=\"1\" class=\"dataframe\">\n",
       "  <thead>\n",
       "    <tr style=\"text-align: right;\">\n",
       "      <th></th>\n",
       "      <th>disease_name</th>\n",
       "      <th>drug_name</th>\n",
       "      <th>context</th>\n",
       "      <th>worker_answers</th>\n",
       "      <th>perc_workers_consensus</th>\n",
       "      <th>worker_consensus</th>\n",
       "      <th>expert_answers</th>\n",
       "      <th>perc_experts_consensus</th>\n",
       "      <th>expert_consensus</th>\n",
       "      <th>relation_match</th>\n",
       "    </tr>\n",
       "  </thead>\n",
       "  <tbody>\n",
       "    <tr>\n",
       "      <th>0</th>\n",
       "      <td>ACNE</td>\n",
       "      <td>TAZAROTENE</td>\n",
       "      <td>Retinoids may cause fetal harm when administer...</td>\n",
       "      <td>3</td>\n",
       "      <td>0.666667</td>\n",
       "      <td>Effect</td>\n",
       "      <td>2</td>\n",
       "      <td>1.000000</td>\n",
       "      <td>Indication: Treatment</td>\n",
       "      <td>False</td>\n",
       "    </tr>\n",
       "    <tr>\n",
       "      <th>1</th>\n",
       "      <td>ACUTE CERVICITIS</td>\n",
       "      <td>LEVONORGESTREL</td>\n",
       "      <td>['The use of LILETTA is contraindicated when o...</td>\n",
       "      <td>3</td>\n",
       "      <td>0.666667</td>\n",
       "      <td>Contraindication</td>\n",
       "      <td>2</td>\n",
       "      <td>1.000000</td>\n",
       "      <td>Contraindication</td>\n",
       "      <td>True</td>\n",
       "    </tr>\n",
       "    <tr>\n",
       "      <th>2</th>\n",
       "      <td>ACUTE INTERMITTENT PORPHYRIA</td>\n",
       "      <td>Hemin</td>\n",
       "      <td>PANHEMATIN is a hemin for injection indicated ...</td>\n",
       "      <td>4</td>\n",
       "      <td>0.500000</td>\n",
       "      <td>No consensus</td>\n",
       "      <td>3</td>\n",
       "      <td>0.666667</td>\n",
       "      <td>Indication: Symptomatic Relief</td>\n",
       "      <td>False</td>\n",
       "    </tr>\n",
       "    <tr>\n",
       "      <th>3</th>\n",
       "      <td>ACUTE LYMPHOBLASTIC LEUKEMIA</td>\n",
       "      <td>Vincristine</td>\n",
       "      <td>Marqibo is a vinca alkaloid indicated for the ...</td>\n",
       "      <td>6</td>\n",
       "      <td>1.000000</td>\n",
       "      <td>Indication: Treatment</td>\n",
       "      <td>3</td>\n",
       "      <td>1.000000</td>\n",
       "      <td>Indication: Treatment</td>\n",
       "      <td>True</td>\n",
       "    </tr>\n",
       "  </tbody>\n",
       "</table>\n",
       "</div>"
      ],
      "text/plain": [
       "                   disease_name       drug_name  \\\n",
       "0                          ACNE      TAZAROTENE   \n",
       "1              ACUTE CERVICITIS  LEVONORGESTREL   \n",
       "2  ACUTE INTERMITTENT PORPHYRIA           Hemin   \n",
       "3  ACUTE LYMPHOBLASTIC LEUKEMIA     Vincristine   \n",
       "\n",
       "                                             context  worker_answers  \\\n",
       "0  Retinoids may cause fetal harm when administer...               3   \n",
       "1  ['The use of LILETTA is contraindicated when o...               3   \n",
       "2  PANHEMATIN is a hemin for injection indicated ...               4   \n",
       "3  Marqibo is a vinca alkaloid indicated for the ...               6   \n",
       "\n",
       "   perc_workers_consensus       worker_consensus  expert_answers  \\\n",
       "0                0.666667                 Effect               2   \n",
       "1                0.666667       Contraindication               2   \n",
       "2                0.500000           No consensus               3   \n",
       "3                1.000000  Indication: Treatment               3   \n",
       "\n",
       "   perc_experts_consensus                expert_consensus  relation_match  \n",
       "0                1.000000           Indication: Treatment           False  \n",
       "1                1.000000                Contraindication            True  \n",
       "2                0.666667  Indication: Symptomatic Relief           False  \n",
       "3                1.000000           Indication: Treatment            True  "
      ]
     },
     "execution_count": 26,
     "metadata": {},
     "output_type": "execute_result"
    }
   ],
   "source": [
    "match_table.head(4)"
   ]
  },
  {
   "cell_type": "code",
   "execution_count": 27,
   "metadata": {},
   "outputs": [
    {
     "data": {
      "text/plain": [
       "(367, 10)"
      ]
     },
     "execution_count": 27,
     "metadata": {},
     "output_type": "execute_result"
    }
   ],
   "source": [
    "match_table.shape"
   ]
  },
  {
   "cell_type": "markdown",
   "metadata": {},
   "source": [
    "---\n",
    "### Check matches and workers accuracy"
   ]
  },
  {
   "cell_type": "code",
   "execution_count": 28,
   "metadata": {},
   "outputs": [],
   "source": [
    "from pycm import *\n",
    "import seaborn as sns\n",
    "import matplotlib.pyplot as plt"
   ]
  },
  {
   "cell_type": "code",
   "execution_count": 29,
   "metadata": {},
   "outputs": [],
   "source": [
    "match_table_filtered = match_table[(match_table.worker_consensus != 'No consensus') & \n",
    "                                    (match_table.expert_consensus != 'No consensus') &\n",
    "                                    (match_table.worker_consensus != 'IDK') &\n",
    "                                    (match_table.expert_consensus != 'IDK')]"
   ]
  },
  {
   "cell_type": "code",
   "execution_count": 30,
   "metadata": {},
   "outputs": [],
   "source": [
    "y_actu = list(match_table_filtered.expert_consensus) #gold standard # X axis\n",
    "y_pred = list(match_table_filtered.worker_consensus) #workers answers Y axis\n",
    "cm = ConfusionMatrix(y_actu, y_pred) "
   ]
  },
  {
   "cell_type": "code",
   "execution_count": 31,
   "metadata": {},
   "outputs": [
    {
     "data": {
      "image/png": "[encoded data removed]",
      "text/plain": [
       "<Figure size 432x288 with 2 Axes>"
      ]
     },
     "metadata": {
      "needs_background": "light"
     },
     "output_type": "display_data"
    }
   ],
   "source": [
    "sns.heatmap(pd.DataFrame(cm.table), annot=True, cmap=\"YlGnBu\")\n",
    "plt.xlabel('Experts'); plt.ylabel('Workers'); plt.show()"
   ]
  },
  {
   "cell_type": "code",
   "execution_count": 32,
   "metadata": {},
   "outputs": [
    {
     "data": {
      "text/plain": [
       "{'Contraindication': 0.8095238095238095,\n",
       " 'Effect': 0.922077922077922,\n",
       " 'Indication: Symptomatic Relief': 0.8614718614718615,\n",
       " 'Indication: Treatment': 0.948051948051948}"
      ]
     },
     "execution_count": 32,
     "metadata": {},
     "output_type": "execute_result"
    }
   ],
   "source": [
    "cm.ACC"
   ]
  },
  {
   "cell_type": "markdown",
   "metadata": {},
   "source": [
    "**Workers find more diffult to annotate contraindication the most**"
   ]
  },
  {
   "cell_type": "code",
   "execution_count": 33,
   "metadata": {},
   "outputs": [
    {
     "name": "stdout",
     "output_type": "stream",
     "text": [
      "Workers were as good as medical experts in 77.06% of the cases\n"
     ]
    }
   ],
   "source": [
    "print('Workers were as good as medical experts in {}% of the cases'.format(round(cm.Overall_ACC*100,2)))"
   ]
  },
  {
   "cell_type": "markdown",
   "metadata": {},
   "source": [
    "---\n",
    "## Questions:\n",
    "### - What are the characteristics of contexts that makes diffucult for the crowd to have consensus?\n",
    "### - Can we train a ML method that learns when the crowd will perform as good as the experts?"
   ]
  },
  {
   "cell_type": "markdown",
   "metadata": {},
   "source": [
    "Temptative features to be extracted\n",
    "- lenght of text\n",
    "- number of words\n",
    "- particular words used on medical domain misinterpreted\n",
    "- amount of medical terminology\n",
    "- multiple concepts at once\n",
    "- long distance between disease, drug and relation"
   ]
  },
  {
   "cell_type": "markdown",
   "metadata": {},
   "source": [
    "Tenmptative groups to analyze\n",
    "- Excluding the No concensus of the experts, analyze the miss match of workers\n",
    "- All those answers with match, compare the label match vs concensus match\n",
    "- Where do experts disagree but workers don't"
   ]
  },
  {
   "cell_type": "markdown",
   "metadata": {},
   "source": [
    "---"
   ]
  },
  {
   "cell_type": "code",
   "execution_count": 34,
   "metadata": {},
   "outputs": [],
   "source": [
    "#text lenght\n",
    "match_table['total_characters'] = [len(text) for text in match_table['context']]\n",
    "match_table['total_words'] = [len(text.replace('\\n',' ').split()) for text in match_table['context']]"
   ]
  },
  {
   "cell_type": "code",
   "execution_count": 35,
   "metadata": {},
   "outputs": [],
   "source": [
    "#match_table.to_csv('experts_vs_crowd_working_table.csv',index=False)"
   ]
  },
  {
   "cell_type": "code",
   "execution_count": 36,
   "metadata": {},
   "outputs": [],
   "source": [
    "subset_consensus = match_table[(match_table.expert_consensus != 'No consensus') & (match_table.expert_consensus != 'IDK')]"
   ]
  },
  {
   "cell_type": "code",
   "execution_count": 37,
   "metadata": {},
   "outputs": [
    {
     "data": {
      "text/html": [
       "<div>\n",
       "<style scoped>\n",
       "    .dataframe tbody tr th:only-of-type {\n",
       "        vertical-align: middle;\n",
       "    }\n",
       "\n",
       "    .dataframe tbody tr th {\n",
       "        vertical-align: top;\n",
       "    }\n",
       "\n",
       "    .dataframe thead th {\n",
       "        text-align: right;\n",
       "    }\n",
       "</style>\n",
       "<table border=\"1\" class=\"dataframe\">\n",
       "  <thead>\n",
       "    <tr style=\"text-align: right;\">\n",
       "      <th></th>\n",
       "      <th>relation_match</th>\n",
       "      <th>False</th>\n",
       "      <th>True</th>\n",
       "    </tr>\n",
       "  </thead>\n",
       "  <tbody>\n",
       "    <tr>\n",
       "      <th rowspan=\"8\" valign=\"top\">worker_answers</th>\n",
       "      <th>count</th>\n",
       "      <td>113.000000</td>\n",
       "      <td>178.000000</td>\n",
       "    </tr>\n",
       "    <tr>\n",
       "      <th>mean</th>\n",
       "      <td>3.637168</td>\n",
       "      <td>5.084270</td>\n",
       "    </tr>\n",
       "    <tr>\n",
       "      <th>std</th>\n",
       "      <td>1.225196</td>\n",
       "      <td>3.197577</td>\n",
       "    </tr>\n",
       "    <tr>\n",
       "      <th>min</th>\n",
       "      <td>3.000000</td>\n",
       "      <td>3.000000</td>\n",
       "    </tr>\n",
       "    <tr>\n",
       "      <th>25%</th>\n",
       "      <td>3.000000</td>\n",
       "      <td>3.000000</td>\n",
       "    </tr>\n",
       "    <tr>\n",
       "      <th>50%</th>\n",
       "      <td>3.000000</td>\n",
       "      <td>6.000000</td>\n",
       "    </tr>\n",
       "    <tr>\n",
       "      <th>75%</th>\n",
       "      <td>4.000000</td>\n",
       "      <td>6.000000</td>\n",
       "    </tr>\n",
       "    <tr>\n",
       "      <th>max</th>\n",
       "      <td>12.000000</td>\n",
       "      <td>34.000000</td>\n",
       "    </tr>\n",
       "    <tr>\n",
       "      <th rowspan=\"8\" valign=\"top\">perc_workers_consensus</th>\n",
       "      <th>count</th>\n",
       "      <td>113.000000</td>\n",
       "      <td>178.000000</td>\n",
       "    </tr>\n",
       "    <tr>\n",
       "      <th>mean</th>\n",
       "      <td>0.626991</td>\n",
       "      <td>0.915927</td>\n",
       "    </tr>\n",
       "    <tr>\n",
       "      <th>std</th>\n",
       "      <td>0.244039</td>\n",
       "      <td>0.140984</td>\n",
       "    </tr>\n",
       "    <tr>\n",
       "      <th>min</th>\n",
       "      <td>0.333333</td>\n",
       "      <td>0.666667</td>\n",
       "    </tr>\n",
       "    <tr>\n",
       "      <th>25%</th>\n",
       "      <td>0.500000</td>\n",
       "      <td>0.800000</td>\n",
       "    </tr>\n",
       "    <tr>\n",
       "      <th>50%</th>\n",
       "      <td>0.500000</td>\n",
       "      <td>1.000000</td>\n",
       "    </tr>\n",
       "    <tr>\n",
       "      <th>75%</th>\n",
       "      <td>0.800000</td>\n",
       "      <td>1.000000</td>\n",
       "    </tr>\n",
       "    <tr>\n",
       "      <th>max</th>\n",
       "      <td>1.000000</td>\n",
       "      <td>1.000000</td>\n",
       "    </tr>\n",
       "    <tr>\n",
       "      <th rowspan=\"8\" valign=\"top\">expert_answers</th>\n",
       "      <th>count</th>\n",
       "      <td>113.000000</td>\n",
       "      <td>178.000000</td>\n",
       "    </tr>\n",
       "    <tr>\n",
       "      <th>mean</th>\n",
       "      <td>2.495575</td>\n",
       "      <td>2.505618</td>\n",
       "    </tr>\n",
       "    <tr>\n",
       "      <th>std</th>\n",
       "      <td>0.628546</td>\n",
       "      <td>0.544590</td>\n",
       "    </tr>\n",
       "    <tr>\n",
       "      <th>min</th>\n",
       "      <td>1.000000</td>\n",
       "      <td>1.000000</td>\n",
       "    </tr>\n",
       "    <tr>\n",
       "      <th>25%</th>\n",
       "      <td>2.000000</td>\n",
       "      <td>2.000000</td>\n",
       "    </tr>\n",
       "    <tr>\n",
       "      <th>50%</th>\n",
       "      <td>3.000000</td>\n",
       "      <td>3.000000</td>\n",
       "    </tr>\n",
       "    <tr>\n",
       "      <th>75%</th>\n",
       "      <td>3.000000</td>\n",
       "      <td>3.000000</td>\n",
       "    </tr>\n",
       "    <tr>\n",
       "      <th>max</th>\n",
       "      <td>5.000000</td>\n",
       "      <td>3.000000</td>\n",
       "    </tr>\n",
       "    <tr>\n",
       "      <th rowspan=\"8\" valign=\"top\">perc_experts_consensus</th>\n",
       "      <th>count</th>\n",
       "      <td>113.000000</td>\n",
       "      <td>178.000000</td>\n",
       "    </tr>\n",
       "    <tr>\n",
       "      <th>mean</th>\n",
       "      <td>0.899115</td>\n",
       "      <td>0.971910</td>\n",
       "    </tr>\n",
       "    <tr>\n",
       "      <th>std</th>\n",
       "      <td>0.154590</td>\n",
       "      <td>0.092858</td>\n",
       "    </tr>\n",
       "    <tr>\n",
       "      <th>min</th>\n",
       "      <td>0.600000</td>\n",
       "      <td>0.666667</td>\n",
       "    </tr>\n",
       "    <tr>\n",
       "      <th>25%</th>\n",
       "      <td>0.666667</td>\n",
       "      <td>1.000000</td>\n",
       "    </tr>\n",
       "    <tr>\n",
       "      <th>50%</th>\n",
       "      <td>1.000000</td>\n",
       "      <td>1.000000</td>\n",
       "    </tr>\n",
       "    <tr>\n",
       "      <th>75%</th>\n",
       "      <td>1.000000</td>\n",
       "      <td>1.000000</td>\n",
       "    </tr>\n",
       "    <tr>\n",
       "      <th>max</th>\n",
       "      <td>1.000000</td>\n",
       "      <td>1.000000</td>\n",
       "    </tr>\n",
       "    <tr>\n",
       "      <th rowspan=\"8\" valign=\"top\">total_characters</th>\n",
       "      <th>count</th>\n",
       "      <td>113.000000</td>\n",
       "      <td>178.000000</td>\n",
       "    </tr>\n",
       "    <tr>\n",
       "      <th>mean</th>\n",
       "      <td>990.619469</td>\n",
       "      <td>963.039326</td>\n",
       "    </tr>\n",
       "    <tr>\n",
       "      <th>std</th>\n",
       "      <td>725.005435</td>\n",
       "      <td>748.894963</td>\n",
       "    </tr>\n",
       "    <tr>\n",
       "      <th>min</th>\n",
       "      <td>109.000000</td>\n",
       "      <td>81.000000</td>\n",
       "    </tr>\n",
       "    <tr>\n",
       "      <th>25%</th>\n",
       "      <td>435.000000</td>\n",
       "      <td>409.750000</td>\n",
       "    </tr>\n",
       "    <tr>\n",
       "      <th>50%</th>\n",
       "      <td>805.000000</td>\n",
       "      <td>680.000000</td>\n",
       "    </tr>\n",
       "    <tr>\n",
       "      <th>75%</th>\n",
       "      <td>1427.000000</td>\n",
       "      <td>1260.500000</td>\n",
       "    </tr>\n",
       "    <tr>\n",
       "      <th>max</th>\n",
       "      <td>3060.000000</td>\n",
       "      <td>3511.000000</td>\n",
       "    </tr>\n",
       "    <tr>\n",
       "      <th rowspan=\"8\" valign=\"top\">total_words</th>\n",
       "      <th>count</th>\n",
       "      <td>113.000000</td>\n",
       "      <td>178.000000</td>\n",
       "    </tr>\n",
       "    <tr>\n",
       "      <th>mean</th>\n",
       "      <td>131.345133</td>\n",
       "      <td>129.528090</td>\n",
       "    </tr>\n",
       "    <tr>\n",
       "      <th>std</th>\n",
       "      <td>96.390275</td>\n",
       "      <td>98.882638</td>\n",
       "    </tr>\n",
       "    <tr>\n",
       "      <th>min</th>\n",
       "      <td>13.000000</td>\n",
       "      <td>11.000000</td>\n",
       "    </tr>\n",
       "    <tr>\n",
       "      <th>25%</th>\n",
       "      <td>58.000000</td>\n",
       "      <td>54.000000</td>\n",
       "    </tr>\n",
       "    <tr>\n",
       "      <th>50%</th>\n",
       "      <td>99.000000</td>\n",
       "      <td>98.500000</td>\n",
       "    </tr>\n",
       "    <tr>\n",
       "      <th>75%</th>\n",
       "      <td>183.000000</td>\n",
       "      <td>172.000000</td>\n",
       "    </tr>\n",
       "    <tr>\n",
       "      <th>max</th>\n",
       "      <td>380.000000</td>\n",
       "      <td>393.000000</td>\n",
       "    </tr>\n",
       "  </tbody>\n",
       "</table>\n",
       "</div>"
      ],
      "text/plain": [
       "relation_match                      False        True \n",
       "worker_answers         count   113.000000   178.000000\n",
       "                       mean      3.637168     5.084270\n",
       "                       std       1.225196     3.197577\n",
       "                       min       3.000000     3.000000\n",
       "                       25%       3.000000     3.000000\n",
       "                       50%       3.000000     6.000000\n",
       "                       75%       4.000000     6.000000\n",
       "                       max      12.000000    34.000000\n",
       "perc_workers_consensus count   113.000000   178.000000\n",
       "                       mean      0.626991     0.915927\n",
       "                       std       0.244039     0.140984\n",
       "                       min       0.333333     0.666667\n",
       "                       25%       0.500000     0.800000\n",
       "                       50%       0.500000     1.000000\n",
       "                       75%       0.800000     1.000000\n",
       "                       max       1.000000     1.000000\n",
       "expert_answers         count   113.000000   178.000000\n",
       "                       mean      2.495575     2.505618\n",
       "                       std       0.628546     0.544590\n",
       "                       min       1.000000     1.000000\n",
       "                       25%       2.000000     2.000000\n",
       "                       50%       3.000000     3.000000\n",
       "                       75%       3.000000     3.000000\n",
       "                       max       5.000000     3.000000\n",
       "perc_experts_consensus count   113.000000   178.000000\n",
       "                       mean      0.899115     0.971910\n",
       "                       std       0.154590     0.092858\n",
       "                       min       0.600000     0.666667\n",
       "                       25%       0.666667     1.000000\n",
       "                       50%       1.000000     1.000000\n",
       "                       75%       1.000000     1.000000\n",
       "                       max       1.000000     1.000000\n",
       "total_characters       count   113.000000   178.000000\n",
       "                       mean    990.619469   963.039326\n",
       "                       std     725.005435   748.894963\n",
       "                       min     109.000000    81.000000\n",
       "                       25%     435.000000   409.750000\n",
       "                       50%     805.000000   680.000000\n",
       "                       75%    1427.000000  1260.500000\n",
       "                       max    3060.000000  3511.000000\n",
       "total_words            count   113.000000   178.000000\n",
       "                       mean    131.345133   129.528090\n",
       "                       std      96.390275    98.882638\n",
       "                       min      13.000000    11.000000\n",
       "                       25%      58.000000    54.000000\n",
       "                       50%      99.000000    98.500000\n",
       "                       75%     183.000000   172.000000\n",
       "                       max     380.000000   393.000000"
      ]
     },
     "execution_count": 37,
     "metadata": {},
     "output_type": "execute_result"
    }
   ],
   "source": [
    "subset_consensus.groupby('relation_match').describe().T#.reset_index()"
   ]
  },
  {
   "cell_type": "markdown",
   "metadata": {},
   "source": [
    "## Statistical difference in means"
   ]
  },
  {
   "cell_type": "code",
   "execution_count": 38,
   "metadata": {},
   "outputs": [],
   "source": [
    "subset_matches = subset_consensus[subset_consensus['relation_match']==True]\n",
    "subset_missmatches = subset_consensus[subset_consensus['relation_match']==False]"
   ]
  },
  {
   "cell_type": "code",
   "execution_count": 39,
   "metadata": {},
   "outputs": [],
   "source": [
    "from scipy import stats"
   ]
  },
  {
   "cell_type": "code",
   "execution_count": 40,
   "metadata": {},
   "outputs": [
    {
     "data": {
      "text/plain": [
       "Ttest_indResult(statistic=0.0, pvalue=1.0)"
      ]
     },
     "execution_count": 40,
     "metadata": {},
     "output_type": "execute_result"
    },
    {
     "data": {
      "image/png": "[encoded data removed]",
      "text/plain": [
       "<Figure size 432x288 with 1 Axes>"
      ]
     },
     "metadata": {
      "needs_background": "light"
     },
     "output_type": "display_data"
    }
   ],
   "source": [
    "# T-test with different means, variance, and n:\n",
    "workers_succeed = subset_consensus.worker_answers\n",
    "workers_failed = subset_consensus.worker_answers\n",
    "sns.distplot(workers_succeed)\n",
    "sns.distplot(workers_failed, color='r')\n",
    "stats.ttest_ind(workers_succeed, workers_failed, equal_var = False)"
   ]
  },
  {
   "cell_type": "markdown",
   "metadata": {},
   "source": [
    "**Workers perform as good as experts when more people answer the same task**"
   ]
  },
  {
   "cell_type": "code",
   "execution_count": 41,
   "metadata": {},
   "outputs": [
    {
     "data": {
      "text/plain": [
       "Ttest_indResult(statistic=0.0, pvalue=1.0)"
      ]
     },
     "execution_count": 41,
     "metadata": {},
     "output_type": "execute_result"
    },
    {
     "data": {
      "image/png": "[encoded data removed]",
      "text/plain": [
       "<Figure size 432x288 with 1 Axes>"
      ]
     },
     "metadata": {
      "needs_background": "light"
     },
     "output_type": "display_data"
    }
   ],
   "source": [
    "# T-test with different means, variance, and n:\n",
    "workers_succeed = subset_consensus.perc_workers_consensus\n",
    "workers_failed = subset_consensus.perc_workers_consensus\n",
    "sns.distplot(workers_succeed)\n",
    "sns.distplot(workers_failed, color='r')\n",
    "stats.ttest_ind(workers_succeed, workers_failed, equal_var = False)"
   ]
  },
  {
   "cell_type": "markdown",
   "metadata": {},
   "source": [
    "**Workers perform as good as experts when there is more agreement among workers**"
   ]
  },
  {
   "cell_type": "code",
   "execution_count": 42,
   "metadata": {},
   "outputs": [
    {
     "data": {
      "text/plain": [
       "Ttest_indResult(statistic=0.0, pvalue=1.0)"
      ]
     },
     "execution_count": 42,
     "metadata": {},
     "output_type": "execute_result"
    },
    {
     "data": {
      "image/png": "[encoded data removed]",
      "text/plain": [
       "<Figure size 432x288 with 1 Axes>"
      ]
     },
     "metadata": {
      "needs_background": "light"
     },
     "output_type": "display_data"
    }
   ],
   "source": [
    "# T-test with different means, variance, and n:\n",
    "workers_succeed = subset_consensus.perc_experts_consensus\n",
    "workers_failed = subset_consensus.perc_experts_consensus\n",
    "sns.distplot(workers_succeed)\n",
    "sns.distplot(workers_failed, color='r')\n",
    "stats.ttest_ind(workers_succeed, workers_failed, equal_var = False)"
   ]
  },
  {
   "cell_type": "markdown",
   "metadata": {},
   "source": [
    "**It does not matter the level of agreement of the experts on workers successes**"
   ]
  },
  {
   "cell_type": "code",
   "execution_count": 43,
   "metadata": {},
   "outputs": [
    {
     "data": {
      "text/plain": [
       "Ttest_indResult(statistic=0.0, pvalue=1.0)"
      ]
     },
     "execution_count": 43,
     "metadata": {},
     "output_type": "execute_result"
    },
    {
     "data": {
      "image/png": "[encoded data removed]",
      "text/plain": [
       "<Figure size 432x288 with 1 Axes>"
      ]
     },
     "metadata": {
      "needs_background": "light"
     },
     "output_type": "display_data"
    }
   ],
   "source": [
    "# T-test with different means, variance, and n:\n",
    "workers_succeed = subset_consensus.total_words\n",
    "workers_failed = subset_consensus.total_words\n",
    "sns.distplot(workers_succeed)\n",
    "sns.distplot(workers_failed, color='r')\n",
    "stats.ttest_ind(workers_succeed, workers_failed, equal_var = False)"
   ]
  },
  {
   "cell_type": "markdown",
   "metadata": {},
   "source": [
    "**It does not matter the number of words in the text on workers successes**"
   ]
  },
  {
   "cell_type": "code",
   "execution_count": 44,
   "metadata": {},
   "outputs": [
    {
     "data": {
      "text/plain": [
       "Ttest_indResult(statistic=0.0, pvalue=1.0)"
      ]
     },
     "execution_count": 44,
     "metadata": {},
     "output_type": "execute_result"
    },
    {
     "data": {
      "image/png": "[encoded data removed]",
      "text/plain": [
       "<Figure size 432x288 with 1 Axes>"
      ]
     },
     "metadata": {
      "needs_background": "light"
     },
     "output_type": "display_data"
    }
   ],
   "source": [
    "# T-test with different means, variance, and n:\n",
    "workers_succeed = subset_consensus.total_characters\n",
    "workers_failed = subset_consensus.total_characters\n",
    "sns.distplot(workers_succeed)\n",
    "sns.distplot(workers_failed, color='r')\n",
    "stats.ttest_ind(workers_succeed, workers_failed, equal_var = False)"
   ]
  },
  {
   "cell_type": "markdown",
   "metadata": {},
   "source": [
    "**It does not matter the lenght of characters in the text on workers successes**"
   ]
  },
  {
   "cell_type": "markdown",
   "metadata": {},
   "source": [
    "---\n",
    "### Can we predict the crowd will perform as good as an expert based on the features"
   ]
  },
  {
   "cell_type": "code",
   "execution_count": 45,
   "metadata": {},
   "outputs": [
    {
     "name": "stdout",
     "output_type": "stream",
     "text": [
      "Accuracy: 75.26%\n"
     ]
    }
   ],
   "source": [
    "from xgboost import XGBClassifier\n",
    "from sklearn.model_selection import train_test_split\n",
    "from sklearn.metrics import accuracy_score\n",
    "# split data into X and y\n",
    "X = subset_consensus._get_numeric_data().drop(columns=['relation_match','perc_experts_consensus','expert_answers'])\n",
    "Y = subset_consensus['relation_match']\n",
    "# split data into train and test sets\n",
    "seed = 7\n",
    "test_size = 0.33\n",
    "X_train, X_test, y_train, y_test = train_test_split(X, Y, test_size=test_size, random_state=seed)\n",
    "# fit model no training data\n",
    "model = XGBClassifier()\n",
    "model.fit(X_train, y_train)\n",
    "# make predictions for test data\n",
    "y_pred = model.predict(X_test)\n",
    "predictions = [round(value) for value in y_pred]\n",
    "# evaluate predictions\n",
    "accuracy = accuracy_score(y_test, predictions)\n",
    "print(\"Accuracy: %.2f%%\" % (accuracy * 100.0))"
   ]
  },
  {
   "cell_type": "code",
   "execution_count": 46,
   "metadata": {},
   "outputs": [],
   "source": [
    "cmx = ConfusionMatrix([float(i ==True) for i in y_test], list(predictions)) "
   ]
  },
  {
   "cell_type": "code",
   "execution_count": 47,
   "metadata": {},
   "outputs": [
    {
     "data": {
      "text/plain": [
       "<matplotlib.axes._subplots.AxesSubplot at 0x121f8de48>"
      ]
     },
     "execution_count": 47,
     "metadata": {},
     "output_type": "execute_result"
    },
    {
     "data": {
      "image/png": "[encoded data removed]",
      "text/plain": [
       "<Figure size 432x288 with 2 Axes>"
      ]
     },
     "metadata": {
      "needs_background": "light"
     },
     "output_type": "display_data"
    }
   ],
   "source": [
    "sns.heatmap(pd.DataFrame(cmx.table), annot=True, cmap=\"YlGnBu\")"
   ]
  },
  {
   "cell_type": "code",
   "execution_count": null,
   "metadata": {},
   "outputs": [],
   "source": []
  }
 ],
 "metadata": {
  "kernelspec": {
   "display_name": "Python 3",
   "language": "python",
   "name": "python3"
  },
  "language_info": {
   "codemirror_mode": {
    "name": "ipython",
    "version": 3
   },
   "file_extension": ".py",
   "mimetype": "text/x-python",
   "name": "python",
   "nbconvert_exporter": "python",
   "pygments_lexer": "ipython3",
   "version": "3.7.3"
  }
 },
 "nbformat": 4,
 "nbformat_minor": 2
}
