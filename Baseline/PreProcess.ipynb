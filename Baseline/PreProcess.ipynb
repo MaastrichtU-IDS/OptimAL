{
 "cells": [
  {
   "cell_type": "code",
   "execution_count": 246,
   "metadata": {},
   "outputs": [],
   "source": [
    "# Import data set\n",
    "\n",
    "import pandas as pd\n",
    "import numpy as np\n",
    "\n",
    "data = pd.read_csv('data.csv')\n",
    "text =  data['text']\n",
    "labels = data['relation_type']\n",
    "disease = data['disease_name']\n",
    "drug = data['drug_name']\n"
   ]
  },
  {
   "cell_type": "code",
   "execution_count": 247,
   "metadata": {},
   "outputs": [],
   "source": [
    "# Functions for cleaning \n",
    "\n",
    "def remove (x):\n",
    "    no_punct = \"\"\n",
    "    for char in x:\n",
    "            if char in '''qwertyuiopasdfghjklzxcvbnmQWERTYUIOPASDFGHJKLZXCVBNM ''':\n",
    "                    no_punct = no_punct + char\n",
    "    return no_punct\n",
    "\n",
    "def remove_non_digits (x):\n",
    "    no_punct = \"\"\n",
    "    for char in x:\n",
    "            if char in '''1234567890qwertyuiopasdfghjklzxcvbnmQWERTYUIOPASDFGHJKLZXCVBNM ''':\n",
    "                    no_punct = no_punct + char\n",
    "    return no_punct\n",
    "\n",
    "def lower (x):\n",
    "    return x.lower()"
   ]
  },
  {
   "cell_type": "markdown",
   "metadata": {},
   "source": [
    "# Preprocess"
   ]
  },
  {
   "cell_type": "code",
   "execution_count": 248,
   "metadata": {},
   "outputs": [],
   "source": [
    "# --- Encode Labels ---\n",
    "\n",
    "from sklearn import preprocessing\n",
    "le = preprocessing.LabelEncoder()\n",
    "le.fit(labels)\n",
    "le.classes_\n",
    "labels_en = le.transform(labels) \n",
    "\n",
    "# --- Encode Drugs ---\n",
    "drug_new = drug.apply(lower)\n",
    "le.fit(drug_new)\n",
    "le.classes_\n",
    "drugs_labbeled = le.transform(drug_new) \n",
    "\n",
    "# --- Encode Disease ---\n",
    "disease_new = disease.apply(lower)\n",
    "le.fit(disease_new)\n",
    "le.classes_\n",
    "disease_labbeled = le.transform(disease_new) "
   ]
  },
  {
   "cell_type": "code",
   "execution_count": 249,
   "metadata": {},
   "outputs": [],
   "source": [
    "# --- Remove stop words and clean the Text ---\n",
    "\n",
    "from nltk.corpus import stopwords \n",
    "from nltk.tokenize import word_tokenize \n",
    "\n",
    "stop_words = set(stopwords.words('english'))\n",
    "text_new = text.apply(remove)\n",
    "text_new = text_new.apply(lower)\n",
    "\n",
    "def remove_stopwords(sentence):\n",
    "    word_tokens = word_tokenize(sentence)\n",
    "    filtered_sentence = []\n",
    "    for w in word_tokens:\n",
    "        if w not in stop_words and len(w)>=2:\n",
    "            filtered_sentence.append(w)\n",
    "    return filtered_sentence"
   ]
  },
  {
   "cell_type": "code",
   "execution_count": 250,
   "metadata": {},
   "outputs": [],
   "source": [
    "corpus = text_new.apply(remove_stopwords)"
   ]
  },
  {
   "cell_type": "code",
   "execution_count": 251,
   "metadata": {},
   "outputs": [],
   "source": [
    "# New Data Frame with tokenized and clean sentences\n",
    "\n",
    "d = {'label': labels_en, 'text': corpus, 'disease': disease_labbeled, 'drug':drugs_labbeled}\n",
    "df = pd.DataFrame(data=d)"
   ]
  },
  {
   "cell_type": "markdown",
   "metadata": {},
   "source": [
    "# Embeddings"
   ]
  },
  {
   "cell_type": "markdown",
   "metadata": {},
   "source": [
    "## Word2Vec"
   ]
  },
  {
   "cell_type": "code",
   "execution_count": 252,
   "metadata": {},
   "outputs": [],
   "source": [
    "# Word2Vec\n",
    "from gensim.models import Word2Vec\n",
    "\n",
    "# Encode the labels \n",
    "y = labels_en\n"
   ]
  },
  {
   "cell_type": "code",
   "execution_count": 253,
   "metadata": {},
   "outputs": [],
   "source": [
    "# Train the model of vector representation\n",
    "model = Word2Vec(sentences = corpus, size = 100, sg = 1, window = 3, \n",
    "                 min_count = 1, iter = 10, workers = 3)"
   ]
  },
  {
   "cell_type": "code",
   "execution_count": 254,
   "metadata": {},
   "outputs": [],
   "source": [
    "# Create a copy of the initial df so that we work on that \n",
    "df_en = df.copy()"
   ]
  },
  {
   "cell_type": "code",
   "execution_count": 255,
   "metadata": {},
   "outputs": [],
   "source": [
    "# For each instance/sentence compute the average of all the words \n",
    "\n",
    "def avg_vector(list_of_words):\n",
    "    vector_sum = model.wv[list_of_words[0]]\n",
    "    for i in range(1,len(list_of_words)):\n",
    "        vector_sum = vector_sum +  model.wv[list_of_words[i]]\n",
    "    return vector_sum/len(list_of_words)"
   ]
  },
  {
   "cell_type": "code",
   "execution_count": 256,
   "metadata": {},
   "outputs": [],
   "source": [
    "df_en['text'] = df_en['text'].apply(avg_vector)"
   ]
  },
  {
   "cell_type": "code",
   "execution_count": 257,
   "metadata": {},
   "outputs": [],
   "source": [
    "# Create a data frame with the embedded text\n",
    "d2 = {'label': y, 'text':df_en['text'] , 'disease': disease_labbeled, 'drug':drugs_labbeled}\n",
    "df2 = pd.DataFrame(data=d2)\n",
    "embedded = df2.to_csv('embedded.csv')"
   ]
  },
  {
   "cell_type": "code",
   "execution_count": 258,
   "metadata": {},
   "outputs": [],
   "source": [
    "# Create the features\n",
    "\n",
    "X_features = []\n",
    "for i in range(len(df_en['text'])):\n",
    "    a = df_en['text'][i].tolist()\n",
    "    b = int(drugs_labbeled[i])\n",
    "    c = int(disease_labbeled[i])\n",
    "    a.append(b)\n",
    "    d = a\n",
    "    d.append(c)\n",
    "    e = d\n",
    "    X_features.append(e)\n"
   ]
  },
  {
   "cell_type": "markdown",
   "metadata": {},
   "source": [
    "# Baseline Models"
   ]
  },
  {
   "cell_type": "code",
   "execution_count": 259,
   "metadata": {},
   "outputs": [],
   "source": [
    "# Scaling\n",
    "\n",
    "from sklearn.preprocessing import StandardScaler\n",
    "from sklearn.metrics import confusion_matrix,classification_report\n",
    "from sklearn.model_selection import cross_val_score, GridSearchCV\n",
    "\n",
    "scaler = StandardScaler()\n",
    "\n",
    "# Plotting\n",
    "import seaborn as sns"
   ]
  },
  {
   "cell_type": "markdown",
   "metadata": {},
   "source": [
    "## SVM"
   ]
  },
  {
   "cell_type": "code",
   "execution_count": 260,
   "metadata": {},
   "outputs": [],
   "source": [
    "from sklearn import svm \n",
    "from sklearn.svm import SVC\n",
    "\n",
    "from sklearn.model_selection import StratifiedKFold, KFold\n",
    "from pycm import *\n",
    "\n",
    "skf = StratifiedKFold(n_splits=5)\n",
    "X = scaler.fit_transform(X_features)\n",
    "#X = X_features #or not scaled\n",
    "\n",
    "all_cm = []\n",
    "\n",
    "for train_index, test_index in skf.split(X, y):\n",
    "    X_train, X_test = X[train_index], X[test_index]\n",
    "    y_train, y_test = y[train_index], y[test_index]\n",
    "    #print (len(X_train), len(X_test))\n",
    "    \n",
    "    \n",
    "    model = svm.SVC(gamma= 'scale')\n",
    "    model.fit(X_train, y_train)\n",
    "    y_pred = model.predict(X_test)\n",
    "    \n",
    "    cm = ConfusionMatrix(y_test, y_pred)\n",
    "    \n",
    "    all_cm.append(cm)\n",
    "    "
   ]
  },
  {
   "cell_type": "code",
   "execution_count": 261,
   "metadata": {},
   "outputs": [
    {
     "name": "stdout",
     "output_type": "stream",
     "text": [
      "{0: {0: 1, 1: 0, 2: 0, 3: 15}, 1: {0: 0, 1: 5, 2: 0, 3: 7}, 2: {0: 0, 1: 0, 2: 18, 3: 16}, 3: {0: 2, 1: 12, 2: 1, 3: 188}}\n",
      "{0: {0: 1, 1: 0, 2: 1, 3: 14}, 1: {0: 0, 1: 2, 2: 0, 3: 10}, 2: {0: 1, 1: 0, 2: 16, 3: 17}, 3: {0: 6, 1: 0, 2: 0, 3: 197}}\n",
      "{0: {0: 1, 1: 1, 2: 0, 3: 14}, 1: {0: 0, 1: 7, 2: 0, 3: 5}, 2: {0: 0, 1: 0, 2: 16, 3: 18}, 3: {0: 0, 1: 14, 2: 1, 3: 187}}\n",
      "{0: {0: 2, 1: 0, 2: 1, 3: 13}, 1: {0: 0, 1: 1, 2: 0, 3: 11}, 2: {0: 1, 1: 0, 2: 16, 3: 17}, 3: {0: 5, 1: 0, 2: 0, 3: 197}}\n",
      "{0: {0: 2, 1: 0, 2: 0, 3: 14}, 1: {0: 0, 1: 4, 2: 0, 3: 8}, 2: {0: 0, 1: 0, 2: 14, 3: 20}, 3: {0: 2, 1: 0, 2: 0, 3: 200}}\n"
     ]
    }
   ],
   "source": [
    "for i in range(5):\n",
    "    print(all_cm[i].table)"
   ]
  },
  {
   "cell_type": "code",
   "execution_count": 262,
   "metadata": {},
   "outputs": [
    {
     "data": {
      "text/html": [
       "<div>\n",
       "<style scoped>\n",
       "    .dataframe tbody tr th:only-of-type {\n",
       "        vertical-align: middle;\n",
       "    }\n",
       "\n",
       "    .dataframe tbody tr th {\n",
       "        vertical-align: top;\n",
       "    }\n",
       "\n",
       "    .dataframe thead th {\n",
       "        text-align: right;\n",
       "    }\n",
       "</style>\n",
       "<table border=\"1\" class=\"dataframe\">\n",
       "  <thead>\n",
       "    <tr style=\"text-align: right;\">\n",
       "      <th></th>\n",
       "      <th>Contraindication</th>\n",
       "      <th>Effect</th>\n",
       "      <th>Syptomatic Relief</th>\n",
       "      <th>Treatment</th>\n",
       "    </tr>\n",
       "  </thead>\n",
       "  <tbody>\n",
       "    <tr>\n",
       "      <th>Contraindication</th>\n",
       "      <td>7</td>\n",
       "      <td>0</td>\n",
       "      <td>2</td>\n",
       "      <td>15</td>\n",
       "    </tr>\n",
       "    <tr>\n",
       "      <th>Effect</th>\n",
       "      <td>1</td>\n",
       "      <td>19</td>\n",
       "      <td>0</td>\n",
       "      <td>26</td>\n",
       "    </tr>\n",
       "    <tr>\n",
       "      <th>Syptomatic Relief</th>\n",
       "      <td>2</td>\n",
       "      <td>0</td>\n",
       "      <td>80</td>\n",
       "      <td>2</td>\n",
       "    </tr>\n",
       "    <tr>\n",
       "      <th>Treatment</th>\n",
       "      <td>70</td>\n",
       "      <td>41</td>\n",
       "      <td>88</td>\n",
       "      <td>969</td>\n",
       "    </tr>\n",
       "  </tbody>\n",
       "</table>\n",
       "</div>"
      ],
      "text/plain": [
       "                   Contraindication  Effect  Syptomatic Relief  Treatment\n",
       "Contraindication                  7       0                  2         15\n",
       "Effect                            1      19                  0         26\n",
       "Syptomatic Relief                 2       0                 80          2\n",
       "Treatment                        70      41                 88        969"
      ]
     },
     "execution_count": 262,
     "metadata": {},
     "output_type": "execute_result"
    }
   ],
   "source": [
    "# Combine the different confusion matrices from the k validation sets\n",
    "\n",
    "confusion_matrix = pd.DataFrame()\n",
    "for i in range(len(all_cm)):\n",
    "      confusion_matrix= confusion_matrix.append(pd.DataFrame(all_cm[i].table))\n",
    "        \n",
    "confusion_matrix = confusion_matrix.groupby(confusion_matrix.index).sum()\n",
    "confusion_matrix.columns=['Contraindication', 'Effect', 'Syptomatic Relief', 'Treatment']\n",
    "confusion_matrix.index = ['Contraindication', 'Effect', 'Syptomatic Relief', 'Treatment']\n",
    "confusion_matrix\n"
   ]
  },
  {
   "cell_type": "code",
   "execution_count": 263,
   "metadata": {},
   "outputs": [],
   "source": [
    "# The output matrix is: Predicted/Actual; "
   ]
  },
  {
   "cell_type": "code",
   "execution_count": 264,
   "metadata": {},
   "outputs": [],
   "source": [
    "# Metrics from confusion matrix\n",
    "FP = confusion_matrix.sum(axis=0) - np.diag(confusion_matrix)  \n",
    "FN = confusion_matrix.sum(axis=1) - np.diag(confusion_matrix)\n",
    "TP = np.diag(confusion_matrix)\n",
    "TN = confusion_matrix.values.sum() - (FP + FN + TP)\n",
    "\n",
    "# Overall accuracy\n",
    "ACC = (TP+TN)/(TP+FP+FN+TN)\n",
    "PRE = (TP)/(TP+FP)\n",
    "REC = (TP)/(TP+FN)\n",
    "F1 = 2*(TP)/(2*TP+FP+FN)"
   ]
  },
  {
   "cell_type": "code",
   "execution_count": 269,
   "metadata": {},
   "outputs": [
    {
     "data": {
      "text/plain": [
       "Contraindication     0.291667\n",
       "Effect               0.413043\n",
       "Syptomatic Relief    0.952381\n",
       "Treatment            0.829623\n",
       "dtype: float64"
      ]
     },
     "execution_count": 269,
     "metadata": {},
     "output_type": "execute_result"
    }
   ],
   "source": [
    "REC"
   ]
  },
  {
   "cell_type": "markdown",
   "metadata": {},
   "source": [
    "## Decision Tree"
   ]
  },
  {
   "cell_type": "code",
   "execution_count": 270,
   "metadata": {},
   "outputs": [],
   "source": [
    "from sklearn.tree import DecisionTreeClassifier\n",
    "from sklearn import metrics\n",
    "from sklearn.model_selection import StratifiedKFold\n",
    "from pycm import *"
   ]
  },
  {
   "cell_type": "code",
   "execution_count": 271,
   "metadata": {},
   "outputs": [],
   "source": [
    "skf = StratifiedKFold(n_splits=5)\n",
    "dt_model = DecisionTreeClassifier()\n",
    "\n",
    "X = scaler.fit_transform(X_features)\n",
    "#X = X_features\n",
    "all_cm = []\n",
    "\n",
    "\n",
    "for train_index, test_index in skf.split(X, y):\n",
    "    X_train, X_test = X[train_index], X[test_index]\n",
    "    y_train, y_test = y[train_index], y[test_index]\n",
    "    #print (len(X_train), len(X_test))\n",
    "    \n",
    "    dt_model = DecisionTreeClassifier()\n",
    "    dt_model = dt_model.fit(X_train, y_train)\n",
    "    \n",
    "    \n",
    "    y_pred = dt_model.predict(X_test)\n",
    "    \n",
    "    cm = ConfusionMatrix(y_test, y_pred)\n",
    "    \n",
    "    all_cm.append(cm)"
   ]
  },
  {
   "cell_type": "code",
   "execution_count": 272,
   "metadata": {},
   "outputs": [
    {
     "name": "stdout",
     "output_type": "stream",
     "text": [
      "{0: {0: 16, 1: 0, 2: 0, 3: 0}, 1: {0: 0, 1: 12, 2: 0, 3: 0}, 2: {0: 0, 1: 0, 2: 34, 3: 0}, 3: {0: 0, 1: 0, 2: 0, 3: 203}}\n",
      "{0: {0: 16, 1: 0, 2: 0, 3: 0}, 1: {0: 0, 1: 12, 2: 0, 3: 0}, 2: {0: 0, 1: 0, 2: 34, 3: 0}, 3: {0: 0, 1: 0, 2: 0, 3: 203}}\n",
      "{0: {0: 16, 1: 0, 2: 0, 3: 0}, 1: {0: 0, 1: 12, 2: 0, 3: 0}, 2: {0: 0, 1: 0, 2: 34, 3: 0}, 3: {0: 0, 1: 0, 2: 0, 3: 202}}\n",
      "{0: {0: 16, 1: 0, 2: 0, 3: 0}, 1: {0: 0, 1: 12, 2: 0, 3: 0}, 2: {0: 0, 1: 0, 2: 34, 3: 0}, 3: {0: 0, 1: 0, 2: 0, 3: 202}}\n",
      "{0: {0: 15, 1: 0, 2: 0, 3: 1}, 1: {0: 0, 1: 12, 2: 0, 3: 0}, 2: {0: 0, 1: 0, 2: 34, 3: 0}, 3: {0: 0, 1: 0, 2: 0, 3: 202}}\n"
     ]
    }
   ],
   "source": [
    "for i in range(5):\n",
    "    print(all_cm[i].table)"
   ]
  },
  {
   "cell_type": "code",
   "execution_count": 273,
   "metadata": {},
   "outputs": [
    {
     "data": {
      "text/html": [
       "<div>\n",
       "<style scoped>\n",
       "    .dataframe tbody tr th:only-of-type {\n",
       "        vertical-align: middle;\n",
       "    }\n",
       "\n",
       "    .dataframe tbody tr th {\n",
       "        vertical-align: top;\n",
       "    }\n",
       "\n",
       "    .dataframe thead th {\n",
       "        text-align: right;\n",
       "    }\n",
       "</style>\n",
       "<table border=\"1\" class=\"dataframe\">\n",
       "  <thead>\n",
       "    <tr style=\"text-align: right;\">\n",
       "      <th></th>\n",
       "      <th>Contraindication</th>\n",
       "      <th>Effect</th>\n",
       "      <th>Syptomatic Relief</th>\n",
       "      <th>Treatment</th>\n",
       "    </tr>\n",
       "  </thead>\n",
       "  <tbody>\n",
       "    <tr>\n",
       "      <th>Contraindication</th>\n",
       "      <td>79</td>\n",
       "      <td>0</td>\n",
       "      <td>0</td>\n",
       "      <td>0</td>\n",
       "    </tr>\n",
       "    <tr>\n",
       "      <th>Effect</th>\n",
       "      <td>0</td>\n",
       "      <td>60</td>\n",
       "      <td>0</td>\n",
       "      <td>0</td>\n",
       "    </tr>\n",
       "    <tr>\n",
       "      <th>Syptomatic Relief</th>\n",
       "      <td>0</td>\n",
       "      <td>0</td>\n",
       "      <td>170</td>\n",
       "      <td>0</td>\n",
       "    </tr>\n",
       "    <tr>\n",
       "      <th>Treatment</th>\n",
       "      <td>1</td>\n",
       "      <td>0</td>\n",
       "      <td>0</td>\n",
       "      <td>1012</td>\n",
       "    </tr>\n",
       "  </tbody>\n",
       "</table>\n",
       "</div>"
      ],
      "text/plain": [
       "                   Contraindication  Effect  Syptomatic Relief  Treatment\n",
       "Contraindication                 79       0                  0          0\n",
       "Effect                            0      60                  0          0\n",
       "Syptomatic Relief                 0       0                170          0\n",
       "Treatment                         1       0                  0       1012"
      ]
     },
     "execution_count": 273,
     "metadata": {},
     "output_type": "execute_result"
    }
   ],
   "source": [
    "# Combine the different confusion matrices from the k validation sets\n",
    "\n",
    "confusion_matrix = pd.DataFrame()\n",
    "for i in range(len(all_cm)):\n",
    "      confusion_matrix= confusion_matrix.append(pd.DataFrame(all_cm[i].table))\n",
    "        \n",
    "confusion_matrix = confusion_matrix.groupby(confusion_matrix.index).sum()\n",
    "confusion_matrix.columns=['Contraindication', 'Effect', 'Syptomatic Relief', 'Treatment']\n",
    "confusion_matrix.index = ['Contraindication', 'Effect', 'Syptomatic Relief', 'Treatment']\n",
    "confusion_matrix"
   ]
  },
  {
   "cell_type": "code",
   "execution_count": 274,
   "metadata": {},
   "outputs": [],
   "source": [
    "# Metrics from confusion matrix\n",
    "FP = confusion_matrix.sum(axis=0) - np.diag(confusion_matrix)  \n",
    "FN = confusion_matrix.sum(axis=1) - np.diag(confusion_matrix)\n",
    "TP = np.diag(confusion_matrix)\n",
    "TN = confusion_matrix.values.sum() - (FP + FN + TP)\n",
    "\n",
    "# Overall accuracy\n",
    "ACC = (TP+TN)/(TP+FP+FN+TN)\n",
    "PRE = (TP)/(TP+FP)\n",
    "REC = (TP)/(TP+FN)\n",
    "F1 = 2*(TP)/(2*TP+FP+FN)"
   ]
  },
  {
   "cell_type": "code",
   "execution_count": 275,
   "metadata": {},
   "outputs": [
    {
     "data": {
      "text/plain": [
       "Contraindication     0.999244\n",
       "Effect               1.000000\n",
       "Syptomatic Relief    1.000000\n",
       "Treatment            0.999244\n",
       "dtype: float64"
      ]
     },
     "execution_count": 275,
     "metadata": {},
     "output_type": "execute_result"
    }
   ],
   "source": [
    "ACC"
   ]
  },
  {
   "cell_type": "markdown",
   "metadata": {},
   "source": [
    "## Random forest"
   ]
  },
  {
   "cell_type": "code",
   "execution_count": 281,
   "metadata": {},
   "outputs": [],
   "source": [
    "from sklearn.ensemble import RandomForestClassifier\n",
    "X = scaler.fit_transform(X_features)\n",
    "#X = X_features\n",
    "all_cm = []\n",
    "\n",
    "\n",
    "for train_index, test_index in skf.split(X, y):\n",
    "    X_train, X_test = X[train_index], X[test_index]\n",
    "    y_train, y_test = y[train_index], y[test_index]\n",
    "    #print (len(X_train), len(X_test))\n",
    "    \n",
    "    rf_model = RandomForestClassifier(n_estimators = 10, criterion = 'entropy', random_state = 42)\n",
    "    rf_model = rf_model.fit(X_train, y_train)\n",
    "    \n",
    "    \n",
    "    y_pred = rf_model.predict(X_test)\n",
    "    cm = ConfusionMatrix(y_test, y_pred)\n",
    "    \n",
    "    all_cm.append(cm)"
   ]
  },
  {
   "cell_type": "code",
   "execution_count": 282,
   "metadata": {},
   "outputs": [
    {
     "name": "stdout",
     "output_type": "stream",
     "text": [
      "{0: {0: 13, 1: 0, 2: 1, 3: 2}, 1: {0: 0, 1: 12, 2: 0, 3: 0}, 2: {0: 0, 1: 0, 2: 32, 3: 2}, 3: {0: 0, 1: 2, 2: 2, 3: 199}}\n",
      "{0: {0: 15, 1: 0, 2: 0, 3: 1}, 1: {0: 0, 1: 12, 2: 0, 3: 0}, 2: {0: 0, 1: 1, 2: 32, 3: 1}, 3: {0: 2, 1: 0, 2: 1, 3: 200}}\n",
      "{0: {0: 15, 1: 0, 2: 0, 3: 1}, 1: {0: 0, 1: 12, 2: 0, 3: 0}, 2: {0: 0, 1: 0, 2: 31, 3: 3}, 3: {0: 0, 1: 2, 2: 3, 3: 197}}\n",
      "{0: {0: 14, 1: 1, 2: 0, 3: 1}, 1: {0: 0, 1: 11, 2: 1, 3: 0}, 2: {0: 1, 1: 0, 2: 33, 3: 0}, 3: {0: 0, 1: 0, 2: 0, 3: 202}}\n",
      "{0: {0: 10, 1: 0, 2: 2, 3: 4}, 1: {0: 0, 1: 12, 2: 0, 3: 0}, 2: {0: 0, 1: 0, 2: 32, 3: 2}, 3: {0: 2, 1: 0, 2: 0, 3: 200}}\n"
     ]
    }
   ],
   "source": [
    "for i in range(5):\n",
    "    print(all_cm[i].table)"
   ]
  },
  {
   "cell_type": "code",
   "execution_count": 283,
   "metadata": {},
   "outputs": [
    {
     "data": {
      "text/html": [
       "<div>\n",
       "<style scoped>\n",
       "    .dataframe tbody tr th:only-of-type {\n",
       "        vertical-align: middle;\n",
       "    }\n",
       "\n",
       "    .dataframe tbody tr th {\n",
       "        vertical-align: top;\n",
       "    }\n",
       "\n",
       "    .dataframe thead th {\n",
       "        text-align: right;\n",
       "    }\n",
       "</style>\n",
       "<table border=\"1\" class=\"dataframe\">\n",
       "  <thead>\n",
       "    <tr style=\"text-align: right;\">\n",
       "      <th></th>\n",
       "      <th>Contraindication</th>\n",
       "      <th>Effect</th>\n",
       "      <th>Syptomatic Relief</th>\n",
       "      <th>Treatment</th>\n",
       "    </tr>\n",
       "  </thead>\n",
       "  <tbody>\n",
       "    <tr>\n",
       "      <th>Contraindication</th>\n",
       "      <td>67</td>\n",
       "      <td>0</td>\n",
       "      <td>1</td>\n",
       "      <td>4</td>\n",
       "    </tr>\n",
       "    <tr>\n",
       "      <th>Effect</th>\n",
       "      <td>1</td>\n",
       "      <td>59</td>\n",
       "      <td>1</td>\n",
       "      <td>4</td>\n",
       "    </tr>\n",
       "    <tr>\n",
       "      <th>Syptomatic Relief</th>\n",
       "      <td>3</td>\n",
       "      <td>1</td>\n",
       "      <td>160</td>\n",
       "      <td>6</td>\n",
       "    </tr>\n",
       "    <tr>\n",
       "      <th>Treatment</th>\n",
       "      <td>9</td>\n",
       "      <td>0</td>\n",
       "      <td>8</td>\n",
       "      <td>998</td>\n",
       "    </tr>\n",
       "  </tbody>\n",
       "</table>\n",
       "</div>"
      ],
      "text/plain": [
       "                   Contraindication  Effect  Syptomatic Relief  Treatment\n",
       "Contraindication                 67       0                  1          4\n",
       "Effect                            1      59                  1          4\n",
       "Syptomatic Relief                 3       1                160          6\n",
       "Treatment                         9       0                  8        998"
      ]
     },
     "execution_count": 283,
     "metadata": {},
     "output_type": "execute_result"
    }
   ],
   "source": [
    "# Combine the different confusion matrices from the k validation sets\n",
    "\n",
    "confusion_matrix = pd.DataFrame()\n",
    "for i in range(len(all_cm)):\n",
    "      confusion_matrix= confusion_matrix.append(pd.DataFrame(all_cm[i].table))\n",
    "        \n",
    "confusion_matrix = confusion_matrix.groupby(confusion_matrix.index).sum()\n",
    "confusion_matrix.columns=['Contraindication', 'Effect', 'Syptomatic Relief', 'Treatment']\n",
    "confusion_matrix.index = ['Contraindication', 'Effect', 'Syptomatic Relief', 'Treatment']\n",
    "confusion_matrix"
   ]
  },
  {
   "cell_type": "code",
   "execution_count": 284,
   "metadata": {},
   "outputs": [],
   "source": [
    "# Metrics from confusion matrix\n",
    "FP = confusion_matrix.sum(axis=0) - np.diag(confusion_matrix)  \n",
    "FN = confusion_matrix.sum(axis=1) - np.diag(confusion_matrix)\n",
    "TP = np.diag(confusion_matrix)\n",
    "TN = confusion_matrix.values.sum() - (FP + FN + TP)\n",
    "\n",
    "# Overall accuracy\n",
    "ACC = (TP+TN)/(TP+FP+FN+TN)\n",
    "PRE = (TP)/(TP+FP)\n",
    "REC = (TP)/(TP+FN)\n",
    "F1 = 2*(TP)/(2*TP+FP+FN)"
   ]
  },
  {
   "cell_type": "code",
   "execution_count": 285,
   "metadata": {},
   "outputs": [
    {
     "data": {
      "text/plain": [
       "Contraindication     0.986384\n",
       "Effect               0.994705\n",
       "Syptomatic Relief    0.984871\n",
       "Treatment            0.976551\n",
       "dtype: float64"
      ]
     },
     "execution_count": 285,
     "metadata": {},
     "output_type": "execute_result"
    }
   ],
   "source": [
    "ACC"
   ]
  }
 ],
 "metadata": {
  "kernelspec": {
   "display_name": "Python 3",
   "language": "python",
   "name": "python3"
  },
  "language_info": {
   "codemirror_mode": {
    "name": "ipython",
    "version": 3
   },
   "file_extension": ".py",
   "mimetype": "text/x-python",
   "name": "python",
   "nbconvert_exporter": "python",
   "pygments_lexer": "ipython3",
   "version": "3.7.3"
  }
 },
 "nbformat": 4,
 "nbformat_minor": 4
}
