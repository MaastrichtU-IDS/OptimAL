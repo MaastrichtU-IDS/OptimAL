{
 "cells": [
  {
   "cell_type": "code",
   "execution_count": 69,
   "metadata": {},
   "outputs": [],
   "source": [
    "# Import train_data set\n",
    "\n",
    "import pandas as pd\n",
    "import numpy as np\n",
    "import matplotlib.pyplot as plt\n",
    "\n",
    "train_data = pd.read_csv('crowd_final.csv')\n",
    "test_data = pd.read_csv('experts.csv')"
   ]
  },
  {
   "cell_type": "code",
   "execution_count": 70,
   "metadata": {},
   "outputs": [],
   "source": [
    "def rep(text):\n",
    "    a = text.replace('Indication: Treatment', 'treatment')\n",
    "    b = a.replace('Contraindication', 'contraindication')\n",
    "    c = b.replace('Indication: Symptomatic Relief', 'relief')\n",
    "    d = c.replace('Effect', 'effect')\n",
    "    return d\n",
    "\n",
    "def rep2(text):\n",
    "    a = text.replace('INDICATION AND USAGE', '')\n",
    "\n",
    "    return a\n",
    "\n",
    "def lower (x):\n",
    "    return x.lower()\n",
    "\n",
    "\n",
    "# Functions for cleaning \n",
    "\n",
    "def remove (x):\n",
    "    no_punct = \"\"\n",
    "    for char in x:\n",
    "            if char in '''qwertyuiopasdfghjklzxcvbnmQWERTYUIOPASDFGHJKLZXCVBNM ''':\n",
    "                    no_punct = no_punct + char\n",
    "    return no_punct\n",
    "\n",
    "def remove_non_digits (x):\n",
    "    no_punct = \"\"\n",
    "    for char in x:\n",
    "            if char in '''1234567890qwertyuiopasdfghjklzxcvbnmQWERTYUIOPASDFGHJKLZXCVBNM ''':\n",
    "                    no_punct = no_punct + char\n",
    "    return no_punct\n",
    "\n",
    "def lower (x):\n",
    "    return x.lower()"
   ]
  },
  {
   "cell_type": "markdown",
   "metadata": {},
   "source": [
    "## Test Data "
   ]
  },
  {
   "cell_type": "code",
   "execution_count": 71,
   "metadata": {},
   "outputs": [
    {
     "name": "stdout",
     "output_type": "stream",
     "text": [
      "107    NaN\n",
      "Name: context, dtype: object\n",
      "Series([], Name: disease_name, dtype: object)\n",
      "Series([], Name: expert_consensus, dtype: object)\n"
     ]
    }
   ],
   "source": [
    "print(test_data[test_data['context'].isnull()]['context'])\n",
    "print(test_data[test_data['disease_name'].isnull()]['disease_name'])\n",
    "print(test_data[test_data['expert_consensus'].isnull()]['expert_consensus'])"
   ]
  },
  {
   "cell_type": "code",
   "execution_count": 72,
   "metadata": {},
   "outputs": [],
   "source": [
    "test_data = test_data.drop(test_data.index[107]).reset_index()\n",
    "\n",
    "test_data['expert_consensus'] = test_data['expert_consensus'].apply(rep)\n",
    "test_data['disease_name'] = test_data['disease_name'].apply(lower)\n",
    "test_data['context'] = test_data['context'].apply(lower)\n",
    "test_data['context'] = test_data['context'].apply(remove_non_digits)\n",
    "\n",
    "test_data = test_data[test_data['expert_consensus'] != 'No consensus'].reset_index()\n",
    "test_data = test_data[['context', 'do_id','drug_id', 'expert_consensus' ]]\n",
    "test_data = test_data.rename(columns={\"context\": \"text\", \"do_id\": \"disease\", \"drug_id\": \"drug\", \"expert_consensus\": \"label\"})"
   ]
  },
  {
   "cell_type": "markdown",
   "metadata": {},
   "source": [
    "## Train Data"
   ]
  },
  {
   "cell_type": "code",
   "execution_count": 73,
   "metadata": {},
   "outputs": [
    {
     "name": "stdout",
     "output_type": "stream",
     "text": [
      "Series([], Name: text, dtype: object)\n",
      "Series([], Name: relation, dtype: object)\n",
      "Series([], Name: disease, dtype: object)\n"
     ]
    }
   ],
   "source": [
    "print(train_data[train_data['text'].isnull()]['text'])\n",
    "print(train_data[train_data['relation'].isnull()]['relation'])\n",
    "print(train_data[train_data['disease'].isnull()]['disease'])"
   ]
  },
  {
   "cell_type": "code",
   "execution_count": 74,
   "metadata": {},
   "outputs": [],
   "source": [
    "train_data['text'] = train_data['text'].apply(rep2)\n",
    "train_data['text'] = train_data['text'].apply(lower)\n",
    "test_data['text'] = test_data['text'].apply(remove_non_digits)\n",
    "train_data = train_data[train_data['relation'] != 'IDK'].reset_index()\n",
    "train_data = train_data[['text', 'DOID','DBID', 'relation' ]]\n",
    "train_data = train_data.rename(columns={ \"DOID\": \"disease\", \"DBID\": \"drug\", \"relation\": \"label\"})"
   ]
  },
  {
   "cell_type": "markdown",
   "metadata": {},
   "source": [
    "# Preprocess"
   ]
  },
  {
   "cell_type": "code",
   "execution_count": 12,
   "metadata": {},
   "outputs": [],
   "source": [
    "# Merge them to have consistent encoding \n",
    "frames = [train_data, test_data]\n",
    "\n",
    "merged_data = pd.concat(frames).reset_index()"
   ]
  },
  {
   "cell_type": "code",
   "execution_count": 14,
   "metadata": {},
   "outputs": [],
   "source": [
    "data = merged_data.copy()"
   ]
  },
  {
   "cell_type": "code",
   "execution_count": 15,
   "metadata": {},
   "outputs": [],
   "source": [
    "# Encode labels \n",
    "from sklearn import preprocessing\n",
    "le = preprocessing.LabelEncoder()\n",
    "\n",
    "le.fit(data['label'])\n",
    "le.classes_\n",
    "labels_en = le.transform(data['label']) \n",
    "\n",
    "# --- Encode Disease ---\n",
    "\n",
    "le.fit(data['disease'])\n",
    "le.classes_\n",
    "disease_encoded = le.transform(data['disease'])\n",
    "\n",
    "# --- Encode Drugs ---\n",
    "\n",
    "le.fit(data['drug'])\n",
    "le.classes_\n",
    "drug_encoded = le.transform(data['drug']) \n",
    "\n",
    "# --- Remove stop words and clean the Text ---\n",
    "\n",
    "from nltk.corpus import stopwords \n",
    "from nltk.tokenize import word_tokenize \n",
    "\n",
    "stop_words = set(stopwords.words('english'))\n",
    "data['text'] = data['text'].apply(remove)\n",
    "data['text'] = data['text'].apply(lower)\n",
    "\n",
    "def remove_stopwords(sentence):\n",
    "    word_tokens = word_tokenize(sentence)\n",
    "    filtered_sentence = []\n",
    "    for w in word_tokens:\n",
    "        if w not in stop_words and len(w)>=2:\n",
    "            filtered_sentence.append(w)\n",
    "    return filtered_sentence\n",
    "\n",
    "data['text'] = merged_data['text'].apply(remove_stopwords)\n",
    "\n",
    "# The final Set\n",
    "\n",
    "d = {'index':data['index'], 'label': labels_en, 'text': data['text'], 'disease': disease_encoded, 'drug':drug_encoded }\n",
    "df = pd.DataFrame(data=d)"
   ]
  },
  {
   "cell_type": "markdown",
   "metadata": {},
   "source": [
    "# Embeddings"
   ]
  },
  {
   "cell_type": "markdown",
   "metadata": {},
   "source": [
    "## Word2Vec"
   ]
  },
  {
   "cell_type": "code",
   "execution_count": 19,
   "metadata": {},
   "outputs": [],
   "source": [
    "import gensim\n",
    "# Word2Vec\n",
    "from gensim.models import Word2Vec"
   ]
  },
  {
   "cell_type": "code",
   "execution_count": 20,
   "metadata": {},
   "outputs": [],
   "source": [
    "# Encode the labels \n",
    "y = labels_en"
   ]
  },
  {
   "cell_type": "code",
   "execution_count": 21,
   "metadata": {},
   "outputs": [],
   "source": [
    "# Train the model of vector representation\n",
    "model = Word2Vec(sentences = data['text'], size = 100, sg = 1, window = 3, \n",
    "                 min_count = 1, iter = 10, workers = 3)"
   ]
  },
  {
   "cell_type": "code",
   "execution_count": 22,
   "metadata": {},
   "outputs": [],
   "source": [
    "# For each instance/sentence compute the average of all the words \n",
    "\n",
    "def avg_vector(list_of_words):\n",
    "    vector_sum = model.wv[list_of_words[0]]\n",
    "    for i in range(1,len(list_of_words)):\n",
    "        vector_sum = vector_sum +  model.wv[list_of_words[i]]\n",
    "    return vector_sum/len(list_of_words)"
   ]
  },
  {
   "cell_type": "code",
   "execution_count": 23,
   "metadata": {},
   "outputs": [],
   "source": [
    "df['text'] = df['text'].apply(avg_vector)"
   ]
  },
  {
   "cell_type": "code",
   "execution_count": 24,
   "metadata": {},
   "outputs": [],
   "source": [
    "# Create the features\n",
    "\n",
    "X_features = []\n",
    "for i in range(len(df['text'])):\n",
    "    a = df['text'][i].tolist()\n",
    "    b = int(df['disease'][i])\n",
    "    c = int(df['drug'][i])\n",
    "    a.append(b)\n",
    "    d = a\n",
    "    d.append(c)\n",
    "    e = d\n",
    "    X_features.append(e)\n"
   ]
  },
  {
   "cell_type": "markdown",
   "metadata": {},
   "source": [
    "# Baseline Models"
   ]
  },
  {
   "cell_type": "code",
   "execution_count": 25,
   "metadata": {},
   "outputs": [],
   "source": [
    "# Scaling\n",
    "\n",
    "from sklearn.preprocessing import StandardScaler\n",
    "from sklearn.metrics import confusion_matrix,classification_report\n",
    "from sklearn.model_selection import cross_val_score, GridSearchCV\n",
    "\n",
    "scaler = StandardScaler()\n",
    "\n",
    "# Plotting\n",
    "import seaborn as sns"
   ]
  },
  {
   "cell_type": "code",
   "execution_count": 26,
   "metadata": {},
   "outputs": [
    {
     "data": {
      "text/plain": [
       "0          0\n",
       "1          1\n",
       "2          2\n",
       "3          3\n",
       "4          4\n",
       "        ... \n",
       "3575    3575\n",
       "3576    3576\n",
       "3577    3577\n",
       "3578    3578\n",
       "3579       0\n",
       "Name: index, Length: 3580, dtype: int64"
      ]
     },
     "execution_count": 26,
     "metadata": {},
     "output_type": "execute_result"
    }
   ],
   "source": [
    "df['index'][0:3580]"
   ]
  },
  {
   "cell_type": "markdown",
   "metadata": {},
   "source": [
    "## SVM"
   ]
  },
  {
   "cell_type": "code",
   "execution_count": 31,
   "metadata": {},
   "outputs": [],
   "source": [
    "from sklearn import svm \n",
    "from sklearn.svm import SVC\n",
    "\n",
    "from sklearn.model_selection import StratifiedKFold, KFold\n",
    "import pycm\n",
    "from pycm import *\n",
    "\n",
    "\n",
    "X = scaler.fit_transform(X_features)\n",
    "\n",
    "X_train, X_test = X[0:3579], X[3580:]\n",
    "y_train, y_test = y[0:3579], y[3580:]\n",
    "\n",
    "class_weight = dict({0:4, 1:5, 2:4, 3:1})\n",
    "#, class_weight = class_weight\n",
    "\n",
    "\n",
    "model = svm.SVC(gamma= 'scale')\n",
    "model.fit(X_train, y_train)\n",
    "y_pred = model.predict(X_test)\n",
    "\n",
    "cm = ConfusionMatrix(y_pred, y_test)"
   ]
  },
  {
   "cell_type": "code",
   "execution_count": null,
   "metadata": {},
   "outputs": [],
   "source": [
    "confusion_matrix = pd.DataFrame(data=cm.table)\n",
    "confusion_matrix.columns=['Contraindication', 'Effect', 'Relief', 'Treatment']\n",
    "confusion_matrix.index = ['Contraindication', 'Effect', 'Relief', 'Treatment']\n",
    "confusion_matrix"
   ]
  },
  {
   "cell_type": "code",
   "execution_count": null,
   "metadata": {},
   "outputs": [],
   "source": [
    "# Metrics from confusion matrix\n",
    "FP = confusion_matrix.sum(axis=0) - np.diag(confusion_matrix)  \n",
    "FN = confusion_matrix.sum(axis=1) - np.diag(confusion_matrix)\n",
    "TP = np.diag(confusion_matrix)\n",
    "TN = confusion_matrix.values.sum() - (FP + FN + TP)\n",
    "\n",
    "# Overall accuracy\n",
    "ACC = (TP+TN)/(TP+FP+FN+TN)\n",
    "PRE = (TP)/(TP+FP)\n",
    "REC = (TP)/(TP+FN)\n",
    "F1 = 2*(TP)/(2*TP+FP+FN)\n",
    "\n",
    "\n",
    "print('---Accuracy---')\n",
    "print(ACC)\n",
    "print('---Precision---')\n",
    "print(PRE)\n",
    "print('---Recall---')\n",
    "print(REC)\n",
    "print('---F1-score---')\n",
    "print(F1)"
   ]
  },
  {
   "cell_type": "code",
   "execution_count": null,
   "metadata": {},
   "outputs": [],
   "source": [
    "mistakes  = FP.sum()\n",
    "mistakes"
   ]
  },
  {
   "cell_type": "markdown",
   "metadata": {},
   "source": [
    "## Decision Tree"
   ]
  },
  {
   "cell_type": "code",
   "execution_count": 36,
   "metadata": {},
   "outputs": [],
   "source": [
    "from sklearn.tree import DecisionTreeClassifier\n",
    "from sklearn import metrics\n",
    "from sklearn.model_selection import StratifiedKFold\n",
    "from pycm import *\n",
    "\n",
    "dt_model = DecisionTreeClassifier()\n",
    "\n",
    "X = scaler.fit_transform(X_features)\n",
    "#X = X_features\n",
    "\n",
    "X_train, X_test = X[0:3579], X[3580:]\n",
    "y_train, y_test = y[0:3579], y[3580:]\n",
    "\n",
    "class_weight = dict({0:4, 1:5, 2:4, 3:1})\n",
    "    #, class_weight = class_weight\n",
    "    \n",
    "dt_model = DecisionTreeClassifier( criterion = 'entropy', random_state = 42, class_weight = class_weight)\n",
    "dt_model = dt_model.fit(X_train, y_train)\n",
    "    \n",
    "y_pred = dt_model.predict(X_test)\n",
    "\n",
    "cm = ConfusionMatrix(y_test, y_pred)\n",
    "\n",
    "confusion_matrix = pd.DataFrame(data=cm.table)\n",
    "confusion_matrix.columns=['Contraindication', 'Effect', 'Relief', 'Treatment']\n",
    "confusion_matrix.index = ['Contraindication', 'Effect', 'Relief', 'Treatment']\n",
    "confusion_matrix"
   ]
  },
  {
   "cell_type": "code",
   "execution_count": 44,
   "metadata": {},
   "outputs": [],
   "source": [
    "# Metrics from confusion matrix\n",
    "FP = confusion_matrix.sum(axis=0) - np.diag(confusion_matrix)  \n",
    "FN = confusion_matrix.sum(axis=1) - np.diag(confusion_matrix)\n",
    "TP = np.diag(confusion_matrix)\n",
    "TN = confusion_matrix.values.sum() - (FP + FN + TP)\n",
    "\n",
    "# Overall accuracy\n",
    "ACC = (TP+TN)/(TP+FP+FN+TN)\n",
    "PRE = (TP)/(TP+FP)\n",
    "REC = (TP)/(TP+FN)\n",
    "F1 = 2*(TP)/(2*TP+FP+FN)"
   ]
  },
  {
   "cell_type": "code",
   "execution_count": null,
   "metadata": {},
   "outputs": [],
   "source": [
    "print('---Accuracy---')\n",
    "print(ACC)\n",
    "print('---Precision---')\n",
    "print(PRE)\n",
    "print('---Recall---')\n",
    "print(REC)\n",
    "print('---F1-score---')\n",
    "print(F1)"
   ]
  },
  {
   "cell_type": "code",
   "execution_count": 46,
   "metadata": {},
   "outputs": [
    {
     "data": {
      "text/plain": [
       "132"
      ]
     },
     "execution_count": 46,
     "metadata": {},
     "output_type": "execute_result"
    }
   ],
   "source": [
    "mistakes  = FP.sum()\n",
    "mistakes"
   ]
  },
  {
   "cell_type": "markdown",
   "metadata": {},
   "source": [
    "## Random forest"
   ]
  },
  {
   "cell_type": "code",
   "execution_count": 79,
   "metadata": {},
   "outputs": [],
   "source": [
    "from sklearn.ensemble import RandomForestClassifier\n",
    "X = scaler.fit_transform(X_features)\n",
    "\n",
    "X_train, X_test = X[0:3579], X[3580:]\n",
    "y_train, y_test = y[0:3579], y[3580:]\n",
    "    \n",
    "class_weight = dict({0:4, 1:5, 2:4, 3:1})\n",
    "   \n",
    "rf_model = RandomForestClassifier(n_estimators = 10, criterion = 'entropy', random_state = 42, class_weight = class_weight)\n",
    "rf_model = rf_model.fit(X_train, y_train)\n",
    "\n",
    "\n",
    "y_pred = rf_model.predict(X_test)\n",
    "cm = ConfusionMatrix(y_test, y_pred)\n",
    "\n",
    "confusion_matrix = pd.DataFrame(data=cm.table)\n",
    "confusion_matrix.columns=['Contraindication', 'Effect', 'Relief', 'Treatment']\n",
    "confusion_matrix.index = ['Contraindication', 'Effect', 'Relief', 'Treatment']\n",
    "confusion_matrix"
   ]
  },
  {
   "cell_type": "code",
   "execution_count": null,
   "metadata": {},
   "outputs": [],
   "source": [
    "# Compute Accuracy\n",
    "FP = confusion_matrix.sum(axis=0) - np.diag(confusion_matrix)  \n",
    "FN = confusion_matrix.sum(axis=1) - np.diag(confusion_matrix)\n",
    "TP = np.diag(confusion_matrix)\n",
    "TN = confusion_matrix.values.sum() - (FP + FN + TP)\n",
    "\n",
    "# Overall accuracy\n",
    "ACC = (TP+TN)/(TP+FP+FN+TN)\n",
    "PRE = (TP)/(TP+FP)\n",
    "REC = (TP)/(TP+FN)\n",
    "F1 = 2*(TP)/(2*TP+FP+FN)\n",
    "\n",
    "print('---Accuracy---')\n",
    "print(ACC)\n",
    "print('---Precision---')\n",
    "print(PRE)\n",
    "print('---Recall---')\n",
    "print(REC)\n",
    "print('---F1-score---')\n",
    "print(F1)"
   ]
  },
  {
   "cell_type": "code",
   "execution_count": 82,
   "metadata": {},
   "outputs": [
    {
     "data": {
      "text/plain": [
       "120"
      ]
     },
     "execution_count": 82,
     "metadata": {},
     "output_type": "execute_result"
    }
   ],
   "source": [
    "mistakes  = FP.sum()\n",
    "mistakes"
   ]
  },
  {
   "cell_type": "code",
   "execution_count": null,
   "metadata": {},
   "outputs": [],
   "source": []
  }
 ],
 "metadata": {
  "kernelspec": {
   "display_name": "Python 3",
   "language": "python",
   "name": "python3"
  },
  "language_info": {
   "codemirror_mode": {
    "name": "ipython",
    "version": 3
   },
   "file_extension": ".py",
   "mimetype": "text/x-python",
   "name": "python",
   "nbconvert_exporter": "python",
   "pygments_lexer": "ipython3",
   "version": "3.7.4"
  }
 },
 "nbformat": 4,
 "nbformat_minor": 4
}
