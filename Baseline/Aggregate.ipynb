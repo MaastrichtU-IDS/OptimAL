{
 "cells": [
  {
   "cell_type": "code",
   "execution_count": 142,
   "metadata": {},
   "outputs": [],
   "source": [
    "import pandas as pd\n",
    "import matplotlib.pyplot as plt"
   ]
  },
  {
   "cell_type": "code",
   "execution_count": 98,
   "metadata": {},
   "outputs": [],
   "source": [
    "data1 = pd.read_csv('data.csv')\n",
    "data2 = pd.read_csv('merged_crowd_results.csv')"
   ]
  },
  {
   "cell_type": "code",
   "execution_count": 103,
   "metadata": {},
   "outputs": [],
   "source": [
    "# Preprocess the first dataset\n",
    "def remove (x):\n",
    "    no_punct = \"\"\n",
    "    for char in x:\n",
    "            if char in '''qwertyuiopasdfghjklzxcvbnmQWERTYUIOPASDFGHJKLZXCVBNM ''':\n",
    "                    no_punct = no_punct + char\n",
    "    return no_punct\n",
    "\n",
    "\n",
    "def lower (x):\n",
    "    return x.lower()\n",
    "\n",
    "def rep (text):\n",
    "    a = text.replace('Indication: Symptomatic relief','indication_symptomatic_relief')\n",
    "    b = a.replace('Indication: treatment','indication_treatment')\n",
    "    c = b.replace('Effect','effect')\n",
    "    d = c.replace('Contraindication', 'contraindication')\n",
    "    return d\n",
    "    "
   ]
  },
  {
   "cell_type": "code",
   "execution_count": 104,
   "metadata": {},
   "outputs": [],
   "source": [
    "data3 = data2.drop(data2[(data2.relation_type =='i_dont_know' ) | (data2.relation_type =='unrelated') | (data2.relation_type == 'I dont know')].index)"
   ]
  },
  {
   "cell_type": "code",
   "execution_count": 124,
   "metadata": {},
   "outputs": [],
   "source": [
    "data1['disease_name'] = data1['disease_name'].apply(lower)\n",
    "data1['drug_name'] = data1['drug_name'].apply(lower)\n",
    "data3['disease_name'] = data3['disease_name'].apply(lower)\n",
    "data3['drug_name'] = data3['drug_name'].apply(lower)\n",
    "data3['relation_type'] = data3['relation_type'].apply(rep)\n",
    "data3 = data3.drop(['worker_id'], axis=1)\n",
    "\n",
    "data_agg = pd.concat([data1, data3], sort=True)\n"
   ]
  },
  {
   "cell_type": "code",
   "execution_count": 137,
   "metadata": {},
   "outputs": [
    {
     "name": "stdout",
     "output_type": "stream",
     "text": [
      "(1322, 10)\n",
      "(2163, 10)\n",
      "(3485, 10)\n",
      "(337, 10)\n"
     ]
    }
   ],
   "source": [
    "print(data1.shape)\n",
    "print(data3.shape)\n",
    "print(data_agg.shape)\n",
    "print(data5.shape)"
   ]
  },
  {
   "cell_type": "code",
   "execution_count": 149,
   "metadata": {},
   "outputs": [
    {
     "data": {
      "text/plain": [
       "indication_treatment             2149\n",
       "indication_symptomatic_relief     596\n",
       "contraindication                  440\n",
       "effect                            300\n",
       "Name: relation_type, dtype: int64"
      ]
     },
     "execution_count": 149,
     "metadata": {},
     "output_type": "execute_result"
    },
    {
     "data": {
      "image/png": "[encoded data removed]",
      "text/plain": [
       "<Figure size 432x288 with 1 Axes>"
      ]
     },
     "metadata": {
      "needs_background": "light"
     },
     "output_type": "display_data"
    }
   ],
   "source": [
    "pd.value_counts(data_agg['relation_type']).plot.bar()\n",
    "plt.title('Classes')\n",
    "plt.xlabel('Class')\n",
    "plt.ylabel('Frequency')\n",
    "data_agg['relation_type'].value_counts()"
   ]
  },
  {
   "cell_type": "code",
   "execution_count": null,
   "metadata": {},
   "outputs": [],
   "source": []
  }
 ],
 "metadata": {
  "kernelspec": {
   "display_name": "Python 3",
   "language": "python",
   "name": "python3"
  },
  "language_info": {
   "codemirror_mode": {
    "name": "ipython",
    "version": 3
   },
   "file_extension": ".py",
   "mimetype": "text/x-python",
   "name": "python",
   "nbconvert_exporter": "python",
   "pygments_lexer": "ipython3",
   "version": "3.7.3"
  }
 },
 "nbformat": 4,
 "nbformat_minor": 4
}
