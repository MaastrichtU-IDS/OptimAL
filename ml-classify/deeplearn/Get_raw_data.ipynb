{
 "cells": [
  {
   "cell_type": "code",
   "execution_count": 2,
   "metadata": {},
   "outputs": [],
   "source": [
    "import pandas as pd"
   ]
  },
  {
   "cell_type": "code",
   "execution_count": 26,
   "metadata": {},
   "outputs": [
    {
     "name": "stdout",
     "output_type": "stream",
     "text": [
      "contraindication first: 59748\n",
      "contraindication second: 41795\n"
     ]
    },
    {
     "data": {
      "text/html": [
       "<div>\n",
       "<style scoped>\n",
       "    .dataframe tbody tr th:only-of-type {\n",
       "        vertical-align: middle;\n",
       "    }\n",
       "\n",
       "    .dataframe tbody tr th {\n",
       "        vertical-align: top;\n",
       "    }\n",
       "\n",
       "    .dataframe thead th {\n",
       "        text-align: right;\n",
       "    }\n",
       "</style>\n",
       "<table border=\"1\" class=\"dataframe\">\n",
       "  <thead>\n",
       "    <tr style=\"text-align: right;\">\n",
       "      <th></th>\n",
       "      <th>Label_ID</th>\n",
       "      <th>From</th>\n",
       "      <th>To</th>\n",
       "      <th>Type</th>\n",
       "      <th>Annotation</th>\n",
       "      <th>Context</th>\n",
       "      <th>DO_ID</th>\n",
       "      <th>DB_ID</th>\n",
       "      <th>DrugName</th>\n",
       "      <th>Drug_Brand_Name</th>\n",
       "      <th>Set_ID</th>\n",
       "      <th>Section</th>\n",
       "    </tr>\n",
       "  </thead>\n",
       "  <tbody>\n",
       "    <tr>\n",
       "      <th>13386</th>\n",
       "      <td>e870a709-d13f-4ec3-86b1-cf3d8d79e113.xml</td>\n",
       "      <td>308</td>\n",
       "      <td>315</td>\n",
       "      <td>PREF</td>\n",
       "      <td>SYNDROME</td>\n",
       "      <td>Hypersensitivity to venlafaxine hydrochloride ...</td>\n",
       "      <td>DOID_225</td>\n",
       "      <td>DB00285</td>\n",
       "      <td>VENLAFAXINE</td>\n",
       "      <td>Venlafaxine Hydrochloride</td>\n",
       "      <td>e5a31f69-c237-49b7-83a2-d04eebbc30ce</td>\n",
       "      <td>Contraindication</td>\n",
       "    </tr>\n",
       "  </tbody>\n",
       "</table>\n",
       "</div>"
      ],
      "text/plain": [
       "                                       Label_ID  From   To  Type Annotation  \\\n",
       "13386  e870a709-d13f-4ec3-86b1-cf3d8d79e113.xml   308  315  PREF   SYNDROME   \n",
       "\n",
       "                                                 Context     DO_ID    DB_ID  \\\n",
       "13386  Hypersensitivity to venlafaxine hydrochloride ...  DOID_225  DB00285   \n",
       "\n",
       "          DrugName            Drug_Brand_Name  \\\n",
       "13386  VENLAFAXINE  Venlafaxine Hydrochloride   \n",
       "\n",
       "                                     Set_ID           Section  \n",
       "13386  e5a31f69-c237-49b7-83a2-d04eebbc30ce  Contraindication  "
      ]
     },
     "execution_count": 26,
     "metadata": {},
     "output_type": "execute_result"
    }
   ],
   "source": [
    "contra1 = pd.read_csv('unlabeled/XMLProduct_contrainidcations.csv')\n",
    "print(\"contraindication first:\",len(contra1))\n",
    "contra = contra1.drop_duplicates(subset=['Label_ID', 'DO_ID'], keep = 'first').reset_index(drop = True)\n",
    "print(\"contraindication second:\",len(contra))\n",
    "contra.sample()"
   ]
  },
  {
   "cell_type": "code",
   "execution_count": 17,
   "metadata": {},
   "outputs": [
    {
     "name": "stdout",
     "output_type": "stream",
     "text": [
      "indication first: 127326\n",
      "indication second: 36198\n"
     ]
    }
   ],
   "source": [
    "treat1 = pd.read_csv('unlabeled/XMLProduct_indications.csv')\n",
    "print(\"indication first:\",len(treat1))\n",
    "treat = treat1.drop_duplicates(subset=['Context' ,'DO_ID', 'DB_ID'], keep = 'first').reset_index(drop = True)\n",
    "print(\"indication second:\",len(treat))"
   ]
  },
  {
   "cell_type": "code",
   "execution_count": 45,
   "metadata": {},
   "outputs": [],
   "source": [
    "#treat[treat.duplicated(subset=['Context', 'DO_ID'],keep=False)].sort_values(by=['Annotation'])"
   ]
  },
  {
   "cell_type": "code",
   "execution_count": 44,
   "metadata": {},
   "outputs": [
    {
     "data": {
      "text/plain": [
       "PREF    30224\n",
       "SYN      5974\n",
       "Name: Type, dtype: int64"
      ]
     },
     "execution_count": 44,
     "metadata": {},
     "output_type": "execute_result"
    }
   ],
   "source": [
    "treat.Type.value_counts()"
   ]
  },
  {
   "cell_type": "code",
   "execution_count": 3,
   "metadata": {},
   "outputs": [
    {
     "name": "stdout",
     "output_type": "stream",
     "text": [
      "contraindication first: 59748\n",
      "indication first: 127326\n",
      "0\n",
      "0\n",
      "contraindication after 17850\n",
      "indication after 36192\n",
      "0\n",
      "0\n"
     ]
    }
   ],
   "source": [
    "contra = pd.read_csv('unlabeled/XMLProduct_contrainidcations.csv')\n",
    "treat = pd.read_csv('unlabeled/XMLProduct_indications.csv')\n",
    "print(\"contraindication first:\",len(contra))\n",
    "print(\"indication first:\",len(treat))\n",
    "print(contra['DO_ID'].isna().sum())\n",
    "print(treat['DO_ID'].isna().sum())\n",
    "contra = contra.drop_duplicates(subset=['Context', 'DO_ID'], keep = 'first').reset_index()\n",
    "treat = treat.drop_duplicates(subset=['Context', 'DO_ID'], keep = 'first').reset_index()\n",
    "print(\"contraindication after\",len(contra))\n",
    "print(\"indication after\",len(treat))\n",
    "print(contra['DO_ID'].isna().sum())\n",
    "print(treat['DO_ID'].isna().sum())"
   ]
  },
  {
   "cell_type": "code",
   "execution_count": 4,
   "metadata": {
    "scrolled": true
   },
   "outputs": [],
   "source": [
    "frames = [contra, treat]\n",
    "\n",
    "merged= pd.concat(frames).reset_index(drop = True)"
   ]
  },
  {
   "cell_type": "code",
   "execution_count": 5,
   "metadata": {},
   "outputs": [
    {
     "data": {
      "text/plain": [
       "(54042, 13)"
      ]
     },
     "execution_count": 5,
     "metadata": {},
     "output_type": "execute_result"
    }
   ],
   "source": [
    "merged.shape"
   ]
  },
  {
   "cell_type": "code",
   "execution_count": 6,
   "metadata": {
    "scrolled": true
   },
   "outputs": [],
   "source": [
    "#merged = merged[['Label_ID', 'Annotation', 'Context', 'DO_ID','DB_ID', 'DrugName', 'Drug_Brand_Name', 'Section']]\n",
    "#merged.sample()"
   ]
  },
  {
   "cell_type": "code",
   "execution_count": 7,
   "metadata": {},
   "outputs": [
    {
     "data": {
      "text/plain": [
       "(54040, 14)"
      ]
     },
     "execution_count": 7,
     "metadata": {},
     "output_type": "execute_result"
    }
   ],
   "source": [
    "df = merged.drop_duplicates(subset=['Context', 'DO_ID'], keep='first').reset_index()\n",
    "df.shape"
   ]
  },
  {
   "cell_type": "code",
   "execution_count": 12,
   "metadata": {},
   "outputs": [],
   "source": [
    "# Clean the text\n",
    "\n",
    "def lower (x):\n",
    "    return x.lower()\n",
    "\n",
    "# remove punctuation\n",
    "def remove_symbols(x):\n",
    "    for char in x:\n",
    "            if char not in ['1','2','3','4','5','6','7','8','9','q','Q','w','W', 'e','E','r','R','t','T','y','Y','U','u','i','I','O','o','P','p','A','a','S','s','D','d','F','f','G','g','H','h','J','j','K','k','L','l','Z','z','X','x','C','c','V','v','B','b','N','n','M','m']:\n",
    "                x = x.replace(char, ' ')\n",
    "    return x\n",
    "\n",
    "def check(x, text):\n",
    "    return x in text\n",
    "\n",
    "def remove_xml_symbols(text):\n",
    "    text1 = text.replace('\\n', '  ')\n",
    "    clean_text = text1.replace('\\r', '  ')\n",
    "    return clean_text\n",
    "\n",
    "def remove_spaces(text):\n",
    "    clean_text = ' '.join(text.split())\n",
    "    return clean_text\n"
   ]
  },
  {
   "cell_type": "code",
   "execution_count": 13,
   "metadata": {},
   "outputs": [],
   "source": []
  },
  {
   "cell_type": "code",
   "execution_count": 58,
   "metadata": {},
   "outputs": [],
   "source": [
    "def disease_mention(x):\n",
    "    f= int(x['From'])\n",
    "    t= int(x['To'])\n",
    "    text = x['Context']\n",
    "    return text[f-1:t]"
   ]
  },
  {
   "cell_type": "code",
   "execution_count": 59,
   "metadata": {},
   "outputs": [
    {
     "data": {
      "text/html": [
       "<div>\n",
       "<style scoped>\n",
       "    .dataframe tbody tr th:only-of-type {\n",
       "        vertical-align: middle;\n",
       "    }\n",
       "\n",
       "    .dataframe tbody tr th {\n",
       "        vertical-align: top;\n",
       "    }\n",
       "\n",
       "    .dataframe thead th {\n",
       "        text-align: right;\n",
       "    }\n",
       "</style>\n",
       "<table border=\"1\" class=\"dataframe\">\n",
       "  <thead>\n",
       "    <tr style=\"text-align: right;\">\n",
       "      <th></th>\n",
       "      <th>level_0</th>\n",
       "      <th>index</th>\n",
       "      <th>Label_ID</th>\n",
       "      <th>From</th>\n",
       "      <th>To</th>\n",
       "      <th>Type</th>\n",
       "      <th>Annotation</th>\n",
       "      <th>Context</th>\n",
       "      <th>DO_ID</th>\n",
       "      <th>DB_ID</th>\n",
       "      <th>DrugName</th>\n",
       "      <th>Drug_Brand_Name</th>\n",
       "      <th>Set_ID</th>\n",
       "      <th>Section</th>\n",
       "    </tr>\n",
       "  </thead>\n",
       "  <tbody>\n",
       "    <tr>\n",
       "      <th>37729</th>\n",
       "      <td>37729</td>\n",
       "      <td>73246</td>\n",
       "      <td>75b26af4-19fb-cf08-e053-2991aa0a556d.xml</td>\n",
       "      <td>952</td>\n",
       "      <td>958</td>\n",
       "      <td>PREF</td>\n",
       "      <td>DISEASE</td>\n",
       "      <td>Therapy with lipid-altering agents should be o...</td>\n",
       "      <td>DOID_4</td>\n",
       "      <td>DB00627</td>\n",
       "      <td>NIACIN</td>\n",
       "      <td>NIACIN</td>\n",
       "      <td>09bccfc6-71eb-420f-92d3-cd21789a0dbc</td>\n",
       "      <td>Indication</td>\n",
       "    </tr>\n",
       "  </tbody>\n",
       "</table>\n",
       "</div>"
      ],
      "text/plain": [
       "       level_0  index                                  Label_ID  From   To  \\\n",
       "37729    37729  73246  75b26af4-19fb-cf08-e053-2991aa0a556d.xml   952  958   \n",
       "\n",
       "       Type Annotation                                            Context  \\\n",
       "37729  PREF    DISEASE  Therapy with lipid-altering agents should be o...   \n",
       "\n",
       "        DO_ID    DB_ID DrugName Drug_Brand_Name  \\\n",
       "37729  DOID_4  DB00627   NIACIN          NIACIN   \n",
       "\n",
       "                                     Set_ID     Section  \n",
       "37729  09bccfc6-71eb-420f-92d3-cd21789a0dbc  Indication  "
      ]
     },
     "execution_count": 59,
     "metadata": {},
     "output_type": "execute_result"
    }
   ],
   "source": [
    "df.sample()"
   ]
  },
  {
   "cell_type": "code",
   "execution_count": 61,
   "metadata": {},
   "outputs": [],
   "source": [
    "df['disease'] = df.apply(disease_mention, axis='columns')"
   ]
  },
  {
   "cell_type": "code",
   "execution_count": 62,
   "metadata": {},
   "outputs": [],
   "source": [
    "df['Context'] = df['Context'].apply(remove_xml_symbols)\n",
    "df['Context'] = df['Context'].apply(remove_symbols)\n",
    "df['Context'] = df['Context'].apply(remove_spaces)\n",
    "df['Context'] = df['Context'].apply(lower)\n",
    "\n",
    "df['disease'] = df['disease'].apply(remove_xml_symbols)\n",
    "df['disease'] = df['disease'].apply(remove_symbols)\n",
    "df['disease'] = df['disease'].apply(remove_spaces)\n",
    "df['disease'] = df['disease'].apply(lower)\n"
   ]
  },
  {
   "cell_type": "code",
   "execution_count": 64,
   "metadata": {},
   "outputs": [],
   "source": [
    "df.to_csv('unlabeled/raw_cleaned.csv')"
   ]
  },
  {
   "cell_type": "code",
   "execution_count": null,
   "metadata": {},
   "outputs": [],
   "source": []
  }
 ],
 "metadata": {
  "kernelspec": {
   "display_name": "Python 3",
   "language": "python",
   "name": "python3"
  },
  "language_info": {
   "codemirror_mode": {
    "name": "ipython",
    "version": 3
   },
   "file_extension": ".py",
   "mimetype": "text/x-python",
   "name": "python",
   "nbconvert_exporter": "python",
   "pygments_lexer": "ipython3",
   "version": "3.7.3"
  }
 },
 "nbformat": 4,
 "nbformat_minor": 4
}
