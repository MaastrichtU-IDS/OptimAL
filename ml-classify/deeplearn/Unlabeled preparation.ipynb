{
 "cells": [
  {
   "cell_type": "code",
   "execution_count": 1,
   "metadata": {},
   "outputs": [],
   "source": [
    "import pandas as pd"
   ]
  },
  {
   "cell_type": "code",
   "execution_count": 17,
   "metadata": {},
   "outputs": [
    {
     "data": {
      "text/plain": [
       "248541"
      ]
     },
     "execution_count": 17,
     "metadata": {},
     "output_type": "execute_result"
    }
   ],
   "source": [
    "unlabelled = pd.read_csv('../deeplearn/unlabeled/XMLProduct_annotations.csv')\n",
    "len(unlabelled)"
   ]
  },
  {
   "cell_type": "code",
   "execution_count": 18,
   "metadata": {},
   "outputs": [],
   "source": [
    "unlabelled.DO_ID = unlabelled.DO_ID.str.replace('http://purl.obolibrary.org/obo/','')"
   ]
  },
  {
   "cell_type": "code",
   "execution_count": 19,
   "metadata": {},
   "outputs": [],
   "source": [
    "unlabelled= unlabelled.drop_duplicates(subset=['Context','DO_ID'], keep='first')"
   ]
  },
  {
   "cell_type": "code",
   "execution_count": 20,
   "metadata": {},
   "outputs": [
    {
     "data": {
      "text/plain": [
       "73054"
      ]
     },
     "execution_count": 20,
     "metadata": {},
     "output_type": "execute_result"
    }
   ],
   "source": [
    "len(unlabelled)"
   ]
  },
  {
   "cell_type": "code",
   "execution_count": 21,
   "metadata": {},
   "outputs": [
    {
     "data": {
      "text/html": [
       "<div>\n",
       "<style scoped>\n",
       "    .dataframe tbody tr th:only-of-type {\n",
       "        vertical-align: middle;\n",
       "    }\n",
       "\n",
       "    .dataframe tbody tr th {\n",
       "        vertical-align: top;\n",
       "    }\n",
       "\n",
       "    .dataframe thead th {\n",
       "        text-align: right;\n",
       "    }\n",
       "</style>\n",
       "<table border=\"1\" class=\"dataframe\">\n",
       "  <thead>\n",
       "    <tr style=\"text-align: right;\">\n",
       "      <th></th>\n",
       "      <th>Label_ID</th>\n",
       "      <th>Set_ID</th>\n",
       "      <th>Drug_Brand_Name</th>\n",
       "      <th>Active_ingredient</th>\n",
       "      <th>UNII_ID</th>\n",
       "      <th>Section</th>\n",
       "      <th>Text</th>\n",
       "      <th>WordCount</th>\n",
       "      <th>DB_ID</th>\n",
       "      <th>Drug_name</th>\n",
       "    </tr>\n",
       "  </thead>\n",
       "  <tbody>\n",
       "    <tr>\n",
       "      <th>0</th>\n",
       "      <td>9fb5dedd-b589-42b7-850a-41dfc5bd8688.xml</td>\n",
       "      <td>3fa9bff0-676b-45d9-9d77-a6363c63395f</td>\n",
       "      <td>Omnipaque</td>\n",
       "      <td>Iohexol</td>\n",
       "      <td>4419T9MX03</td>\n",
       "      <td>Indications</td>\n",
       "      <td>OMNIPAQUE 300 is indicated for intrathecal adm...</td>\n",
       "      <td>4207</td>\n",
       "      <td>DB01362</td>\n",
       "      <td>Iohexol</td>\n",
       "    </tr>\n",
       "    <tr>\n",
       "      <th>1</th>\n",
       "      <td>2e8a4140-97a5-4031-a6df-4b2663b5bf83.xml</td>\n",
       "      <td>442aed6e-6242-4a96-90aa-d988b62d55e8</td>\n",
       "      <td>Omnipaque</td>\n",
       "      <td>Iohexol</td>\n",
       "      <td>4419T9MX03</td>\n",
       "      <td>Indications</td>\n",
       "      <td>OMNIPAQUE 300 is indicated for intrathecal adm...</td>\n",
       "      <td>4207</td>\n",
       "      <td>DB01362</td>\n",
       "      <td>Iohexol</td>\n",
       "    </tr>\n",
       "    <tr>\n",
       "      <th>2</th>\n",
       "      <td>e653596f-6792-4e6b-a50f-2d02b5159a8a.xml</td>\n",
       "      <td>f9e9d558-064c-4b86-8d96-2f8a678c89f9</td>\n",
       "      <td>OMNIPAQUE</td>\n",
       "      <td>Iohexol</td>\n",
       "      <td>4419T9MX03</td>\n",
       "      <td>Indications</td>\n",
       "      <td>OMNIPAQUE (iohexol) injection is a radiographi...</td>\n",
       "      <td>365</td>\n",
       "      <td>DB01362</td>\n",
       "      <td>Iohexol</td>\n",
       "    </tr>\n",
       "    <tr>\n",
       "      <th>3</th>\n",
       "      <td>daf75b73-a930-4baa-8b04-703c9f89e2e7.xml</td>\n",
       "      <td>eee15ebe-d349-4497-acef-6abe7a8247fb</td>\n",
       "      <td>OMNIPAQUE</td>\n",
       "      <td>Iohexol</td>\n",
       "      <td>4419T9MX03</td>\n",
       "      <td>Indications</td>\n",
       "      <td>OMNIPAQUE (iohexol) injection is a radiographi...</td>\n",
       "      <td>365</td>\n",
       "      <td>DB01362</td>\n",
       "      <td>Iohexol</td>\n",
       "    </tr>\n",
       "    <tr>\n",
       "      <th>4</th>\n",
       "      <td>9fb5dedd-b589-42b7-850a-41dfc5bd8688.xml</td>\n",
       "      <td>3fa9bff0-676b-45d9-9d77-a6363c63395f</td>\n",
       "      <td>Omnipaque</td>\n",
       "      <td>Iohexol</td>\n",
       "      <td>4419T9MX03</td>\n",
       "      <td>Contraindications</td>\n",
       "      <td>OMNIPAQUE should not be administered to patien...</td>\n",
       "      <td>157</td>\n",
       "      <td>DB01362</td>\n",
       "      <td>Iohexol</td>\n",
       "    </tr>\n",
       "  </tbody>\n",
       "</table>\n",
       "</div>"
      ],
      "text/plain": [
       "                                   Label_ID  \\\n",
       "0  9fb5dedd-b589-42b7-850a-41dfc5bd8688.xml   \n",
       "1  2e8a4140-97a5-4031-a6df-4b2663b5bf83.xml   \n",
       "2  e653596f-6792-4e6b-a50f-2d02b5159a8a.xml   \n",
       "3  daf75b73-a930-4baa-8b04-703c9f89e2e7.xml   \n",
       "4  9fb5dedd-b589-42b7-850a-41dfc5bd8688.xml   \n",
       "\n",
       "                                 Set_ID Drug_Brand_Name Active_ingredient  \\\n",
       "0  3fa9bff0-676b-45d9-9d77-a6363c63395f       Omnipaque           Iohexol   \n",
       "1  442aed6e-6242-4a96-90aa-d988b62d55e8       Omnipaque           Iohexol   \n",
       "2  f9e9d558-064c-4b86-8d96-2f8a678c89f9       OMNIPAQUE           Iohexol   \n",
       "3  eee15ebe-d349-4497-acef-6abe7a8247fb       OMNIPAQUE           Iohexol   \n",
       "4  3fa9bff0-676b-45d9-9d77-a6363c63395f       Omnipaque           Iohexol   \n",
       "\n",
       "      UNII_ID            Section  \\\n",
       "0  4419T9MX03        Indications   \n",
       "1  4419T9MX03        Indications   \n",
       "2  4419T9MX03        Indications   \n",
       "3  4419T9MX03        Indications   \n",
       "4  4419T9MX03  Contraindications   \n",
       "\n",
       "                                                Text  WordCount    DB_ID  \\\n",
       "0  OMNIPAQUE 300 is indicated for intrathecal adm...       4207  DB01362   \n",
       "1  OMNIPAQUE 300 is indicated for intrathecal adm...       4207  DB01362   \n",
       "2  OMNIPAQUE (iohexol) injection is a radiographi...        365  DB01362   \n",
       "3  OMNIPAQUE (iohexol) injection is a radiographi...        365  DB01362   \n",
       "4  OMNIPAQUE should not be administered to patien...        157  DB01362   \n",
       "\n",
       "  Drug_name  \n",
       "0   Iohexol  \n",
       "1   Iohexol  \n",
       "2   Iohexol  \n",
       "3   Iohexol  \n",
       "4   Iohexol  "
      ]
     },
     "execution_count": 21,
     "metadata": {},
     "output_type": "execute_result"
    }
   ],
   "source": [
    "xml_df = pd.read_csv('../deeplearn/unlabeled/XMLProduct_DBID_2.csv')\n",
    "xml_df.head()"
   ]
  },
  {
   "cell_type": "code",
   "execution_count": 22,
   "metadata": {},
   "outputs": [],
   "source": [
    "xml_df = xml_df[['Label_ID','Set_ID','UNII_ID','Section','Text']]"
   ]
  },
  {
   "cell_type": "code",
   "execution_count": 23,
   "metadata": {},
   "outputs": [],
   "source": [
    "xml_df.rename(columns={'Text':'Context'}, inplace=True)"
   ]
  },
  {
   "cell_type": "code",
   "execution_count": 24,
   "metadata": {},
   "outputs": [],
   "source": [
    "unlabelled =unlabelled.merge(xml_df, on=['Label_ID','Context'])"
   ]
  },
  {
   "cell_type": "code",
   "execution_count": 25,
   "metadata": {},
   "outputs": [
    {
     "data": {
      "text/plain": [
       "73057"
      ]
     },
     "execution_count": 25,
     "metadata": {},
     "output_type": "execute_result"
    }
   ],
   "source": [
    "len(unlabelled)"
   ]
  },
  {
   "cell_type": "code",
   "execution_count": 38,
   "metadata": {},
   "outputs": [],
   "source": [
    "def add_disease_term(x):\n",
    "    text= x['Context']\n",
    "    from_=x['From']\n",
    "    to_=x['To']\n",
    "    return text[from_-1:to_]"
   ]
  },
  {
   "cell_type": "code",
   "execution_count": 39,
   "metadata": {},
   "outputs": [],
   "source": [
    "unlabelled['disease']=unlabelled.apply(add_disease_term, axis='columns')"
   ]
  },
  {
   "cell_type": "code",
   "execution_count": 40,
   "metadata": {},
   "outputs": [
    {
     "data": {
      "text/html": [
       "<div>\n",
       "<style scoped>\n",
       "    .dataframe tbody tr th:only-of-type {\n",
       "        vertical-align: middle;\n",
       "    }\n",
       "\n",
       "    .dataframe tbody tr th {\n",
       "        vertical-align: top;\n",
       "    }\n",
       "\n",
       "    .dataframe thead th {\n",
       "        text-align: right;\n",
       "    }\n",
       "</style>\n",
       "<table border=\"1\" class=\"dataframe\">\n",
       "  <thead>\n",
       "    <tr style=\"text-align: right;\">\n",
       "      <th></th>\n",
       "      <th>Label_ID</th>\n",
       "      <th>From</th>\n",
       "      <th>To</th>\n",
       "      <th>Type</th>\n",
       "      <th>Annotation</th>\n",
       "      <th>Context</th>\n",
       "      <th>DO_ID</th>\n",
       "      <th>DB_ID</th>\n",
       "      <th>DrugName</th>\n",
       "      <th>Drug_Brand_Name</th>\n",
       "      <th>Set_ID</th>\n",
       "      <th>UNII_ID</th>\n",
       "      <th>Section</th>\n",
       "      <th>disease</th>\n",
       "    </tr>\n",
       "  </thead>\n",
       "  <tbody>\n",
       "    <tr>\n",
       "      <th>0</th>\n",
       "      <td>9fb5dedd-b589-42b7-850a-41dfc5bd8688.xml</td>\n",
       "      <td>63</td>\n",
       "      <td>78</td>\n",
       "      <td>SYN</td>\n",
       "      <td>HYPERSENSITIVITY</td>\n",
       "      <td>OMNIPAQUE should not be administered to patien...</td>\n",
       "      <td>DOID_1205</td>\n",
       "      <td>DB01362</td>\n",
       "      <td>Iohexol</td>\n",
       "      <td>Omnipaque</td>\n",
       "      <td>3fa9bff0-676b-45d9-9d77-a6363c63395f</td>\n",
       "      <td>4419T9MX03</td>\n",
       "      <td>Contraindications</td>\n",
       "      <td>hypersensitivity</td>\n",
       "    </tr>\n",
       "    <tr>\n",
       "      <th>1</th>\n",
       "      <td>96b03338-adb6-ffc8-e053-2995a90a90a6.xml</td>\n",
       "      <td>53</td>\n",
       "      <td>68</td>\n",
       "      <td>SYN</td>\n",
       "      <td>HYPERSENSITIVITY</td>\n",
       "      <td>Oraltag is contraindicated in patients with a ...</td>\n",
       "      <td>DOID_1205</td>\n",
       "      <td>DB01362</td>\n",
       "      <td>IOHEXOL</td>\n",
       "      <td>ORALTAG</td>\n",
       "      <td>fdeb1668-7126-48f7-aaf9-1dc3beb90bac</td>\n",
       "      <td>4419T9MX03</td>\n",
       "      <td>Contraindications</td>\n",
       "      <td>hypersensitivity</td>\n",
       "    </tr>\n",
       "    <tr>\n",
       "      <th>2</th>\n",
       "      <td>cbb7cff7-62dd-4bb5-aee5-4202eb730940.xml</td>\n",
       "      <td>349</td>\n",
       "      <td>364</td>\n",
       "      <td>SYN</td>\n",
       "      <td>HYPERSENSITIVITY</td>\n",
       "      <td>Ribavirin capsules may cause birth defects and...</td>\n",
       "      <td>DOID_1205</td>\n",
       "      <td>DB00811</td>\n",
       "      <td>RIBAVIRIN</td>\n",
       "      <td>Ribavirin</td>\n",
       "      <td>3b8b0c65-e466-4662-9e85-5a253d31ebe8</td>\n",
       "      <td>49717AWG6K</td>\n",
       "      <td>Contraindications</td>\n",
       "      <td>hypersensitivity</td>\n",
       "    </tr>\n",
       "    <tr>\n",
       "      <th>3</th>\n",
       "      <td>cbb7cff7-62dd-4bb5-aee5-4202eb730940.xml</td>\n",
       "      <td>427</td>\n",
       "      <td>446</td>\n",
       "      <td>PREF</td>\n",
       "      <td>AUTOIMMUNE HEPATITIS</td>\n",
       "      <td>Ribavirin capsules may cause birth defects and...</td>\n",
       "      <td>DOID_2048</td>\n",
       "      <td>DB00811</td>\n",
       "      <td>RIBAVIRIN</td>\n",
       "      <td>Ribavirin</td>\n",
       "      <td>3b8b0c65-e466-4662-9e85-5a253d31ebe8</td>\n",
       "      <td>49717AWG6K</td>\n",
       "      <td>Contraindications</td>\n",
       "      <td>autoimmune hepatitis</td>\n",
       "    </tr>\n",
       "    <tr>\n",
       "      <th>4</th>\n",
       "      <td>cbb7cff7-62dd-4bb5-aee5-4202eb730940.xml</td>\n",
       "      <td>555</td>\n",
       "      <td>563</td>\n",
       "      <td>PREF</td>\n",
       "      <td>HEPATITIS</td>\n",
       "      <td>Ribavirin capsules may cause birth defects and...</td>\n",
       "      <td>DOID_2237</td>\n",
       "      <td>DB00811</td>\n",
       "      <td>RIBAVIRIN</td>\n",
       "      <td>Ribavirin</td>\n",
       "      <td>3b8b0c65-e466-4662-9e85-5a253d31ebe8</td>\n",
       "      <td>49717AWG6K</td>\n",
       "      <td>Contraindications</td>\n",
       "      <td>hepatitis</td>\n",
       "    </tr>\n",
       "  </tbody>\n",
       "</table>\n",
       "</div>"
      ],
      "text/plain": [
       "                                   Label_ID  From   To  Type  \\\n",
       "0  9fb5dedd-b589-42b7-850a-41dfc5bd8688.xml    63   78   SYN   \n",
       "1  96b03338-adb6-ffc8-e053-2995a90a90a6.xml    53   68   SYN   \n",
       "2  cbb7cff7-62dd-4bb5-aee5-4202eb730940.xml   349  364   SYN   \n",
       "3  cbb7cff7-62dd-4bb5-aee5-4202eb730940.xml   427  446  PREF   \n",
       "4  cbb7cff7-62dd-4bb5-aee5-4202eb730940.xml   555  563  PREF   \n",
       "\n",
       "             Annotation                                            Context  \\\n",
       "0      HYPERSENSITIVITY  OMNIPAQUE should not be administered to patien...   \n",
       "1      HYPERSENSITIVITY  Oraltag is contraindicated in patients with a ...   \n",
       "2      HYPERSENSITIVITY  Ribavirin capsules may cause birth defects and...   \n",
       "3  AUTOIMMUNE HEPATITIS  Ribavirin capsules may cause birth defects and...   \n",
       "4             HEPATITIS  Ribavirin capsules may cause birth defects and...   \n",
       "\n",
       "       DO_ID    DB_ID   DrugName Drug_Brand_Name  \\\n",
       "0  DOID_1205  DB01362    Iohexol       Omnipaque   \n",
       "1  DOID_1205  DB01362    IOHEXOL         ORALTAG   \n",
       "2  DOID_1205  DB00811  RIBAVIRIN       Ribavirin   \n",
       "3  DOID_2048  DB00811  RIBAVIRIN       Ribavirin   \n",
       "4  DOID_2237  DB00811  RIBAVIRIN       Ribavirin   \n",
       "\n",
       "                                 Set_ID     UNII_ID            Section  \\\n",
       "0  3fa9bff0-676b-45d9-9d77-a6363c63395f  4419T9MX03  Contraindications   \n",
       "1  fdeb1668-7126-48f7-aaf9-1dc3beb90bac  4419T9MX03  Contraindications   \n",
       "2  3b8b0c65-e466-4662-9e85-5a253d31ebe8  49717AWG6K  Contraindications   \n",
       "3  3b8b0c65-e466-4662-9e85-5a253d31ebe8  49717AWG6K  Contraindications   \n",
       "4  3b8b0c65-e466-4662-9e85-5a253d31ebe8  49717AWG6K  Contraindications   \n",
       "\n",
       "                disease  \n",
       "0      hypersensitivity  \n",
       "1      hypersensitivity  \n",
       "2      hypersensitivity  \n",
       "3  autoimmune hepatitis  \n",
       "4             hepatitis  "
      ]
     },
     "execution_count": 40,
     "metadata": {},
     "output_type": "execute_result"
    }
   ],
   "source": [
    "unlabelled.head()"
   ]
  },
  {
   "cell_type": "code",
   "execution_count": 43,
   "metadata": {},
   "outputs": [],
   "source": [
    "unlabelled.to_csv('../deeplearn/unlabeled/unlabelled_data.csv', index=False)"
   ]
  },
  {
   "cell_type": "code",
   "execution_count": null,
   "metadata": {},
   "outputs": [],
   "source": []
  }
 ],
 "metadata": {
  "kernelspec": {
   "display_name": "Python 3",
   "language": "python",
   "name": "python3"
  },
  "language_info": {
   "codemirror_mode": {
    "name": "ipython",
    "version": 3
   },
   "file_extension": ".py",
   "mimetype": "text/x-python",
   "name": "python",
   "nbconvert_exporter": "python",
   "pygments_lexer": "ipython3",
   "version": "3.8.3"
  }
 },
 "nbformat": 4,
 "nbformat_minor": 4
}
