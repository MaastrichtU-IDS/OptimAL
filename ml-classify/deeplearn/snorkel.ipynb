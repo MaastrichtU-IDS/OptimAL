{
 "cells": [
  {
   "cell_type": "code",
   "execution_count": 1,
   "metadata": {},
   "outputs": [],
   "source": [
    "import snorkel"
   ]
  },
  {
   "cell_type": "code",
   "execution_count": 2,
   "metadata": {},
   "outputs": [],
   "source": [
    "import pandas as pd"
   ]
  },
  {
   "cell_type": "code",
   "execution_count": 3,
   "metadata": {},
   "outputs": [
    {
     "data": {
      "text/html": [
       "<div>\n",
       "<style scoped>\n",
       "    .dataframe tbody tr th:only-of-type {\n",
       "        vertical-align: middle;\n",
       "    }\n",
       "\n",
       "    .dataframe tbody tr th {\n",
       "        vertical-align: top;\n",
       "    }\n",
       "\n",
       "    .dataframe thead th {\n",
       "        text-align: right;\n",
       "    }\n",
       "</style>\n",
       "<table border=\"1\" class=\"dataframe\">\n",
       "  <thead>\n",
       "    <tr style=\"text-align: right;\">\n",
       "      <th></th>\n",
       "      <th>Unnamed: 0</th>\n",
       "      <th>DB_ID</th>\n",
       "      <th>DO_ID</th>\n",
       "      <th>disease</th>\n",
       "      <th>Label_ID</th>\n",
       "      <th>relation</th>\n",
       "      <th>Section</th>\n",
       "      <th>Set_ID</th>\n",
       "      <th>Drug_Brand_Name</th>\n",
       "      <th>Active_ingredient</th>\n",
       "      <th>UNII_ID</th>\n",
       "      <th>Context</th>\n",
       "      <th>WordCount</th>\n",
       "      <th>Drug_name</th>\n",
       "    </tr>\n",
       "  </thead>\n",
       "  <tbody>\n",
       "    <tr>\n",
       "      <th>251</th>\n",
       "      <td>100</td>\n",
       "      <td>DB00850</td>\n",
       "      <td>DOID_5419</td>\n",
       "      <td>schizophrenia</td>\n",
       "      <td>84141783-43f3-ddfd-e053-2991aa0a907a.xml</td>\n",
       "      <td>treatment</td>\n",
       "      <td>Indications</td>\n",
       "      <td>a827ab2d-ab1c-46eb-bc52-8bae5115a481</td>\n",
       "      <td>Perphenazine</td>\n",
       "      <td>PERPHENAZINE</td>\n",
       "      <td>FTA7XXY4EZ</td>\n",
       "      <td>Perphenazine tablets are indicated for use in ...</td>\n",
       "      <td>40</td>\n",
       "      <td>Perphenazine</td>\n",
       "    </tr>\n",
       "  </tbody>\n",
       "</table>\n",
       "</div>"
      ],
      "text/plain": [
       "     Unnamed: 0    DB_ID      DO_ID        disease  \\\n",
       "251         100  DB00850  DOID_5419  schizophrenia   \n",
       "\n",
       "                                     Label_ID   relation      Section  \\\n",
       "251  84141783-43f3-ddfd-e053-2991aa0a907a.xml  treatment  Indications   \n",
       "\n",
       "                                   Set_ID Drug_Brand_Name Active_ingredient  \\\n",
       "251  a827ab2d-ab1c-46eb-bc52-8bae5115a481    Perphenazine      PERPHENAZINE   \n",
       "\n",
       "        UNII_ID                                            Context  WordCount  \\\n",
       "251  FTA7XXY4EZ  Perphenazine tablets are indicated for use in ...         40   \n",
       "\n",
       "        Drug_name  \n",
       "251  Perphenazine  "
      ]
     },
     "execution_count": 3,
     "metadata": {},
     "output_type": "execute_result"
    }
   ],
   "source": [
    "crowd_df_1 =pd.read_csv('crowd/match_crowd_data.csv')\n",
    "crowd_df_1.sample()"
   ]
  },
  {
   "cell_type": "code",
   "execution_count": 4,
   "metadata": {},
   "outputs": [
    {
     "data": {
      "text/html": [
       "<div>\n",
       "<style scoped>\n",
       "    .dataframe tbody tr th:only-of-type {\n",
       "        vertical-align: middle;\n",
       "    }\n",
       "\n",
       "    .dataframe tbody tr th {\n",
       "        vertical-align: top;\n",
       "    }\n",
       "\n",
       "    .dataframe thead th {\n",
       "        text-align: right;\n",
       "    }\n",
       "</style>\n",
       "<table border=\"1\" class=\"dataframe\">\n",
       "  <thead>\n",
       "    <tr style=\"text-align: right;\">\n",
       "      <th></th>\n",
       "      <th>DB_ID</th>\n",
       "      <th>DO_ID</th>\n",
       "      <th>disease</th>\n",
       "      <th>Label_ID</th>\n",
       "      <th>Set_ID</th>\n",
       "      <th>relation</th>\n",
       "      <th>Drug_name</th>\n",
       "      <th>Context</th>\n",
       "      <th>Section</th>\n",
       "    </tr>\n",
       "  </thead>\n",
       "  <tbody>\n",
       "    <tr>\n",
       "      <th>582</th>\n",
       "      <td>DB00152</td>\n",
       "      <td>DOID_13725</td>\n",
       "      <td>beriberi</td>\n",
       "      <td>e8bd17b1-1729-4c98-9467-d8a74e1e5b6e.xml</td>\n",
       "      <td>5982cf83-01d6-4acb-8373-339079b8a76e</td>\n",
       "      <td>treatment</td>\n",
       "      <td>Thiamine</td>\n",
       "      <td>Thiamine Hydrochloride Injection is effective ...</td>\n",
       "      <td>Indications</td>\n",
       "    </tr>\n",
       "  </tbody>\n",
       "</table>\n",
       "</div>"
      ],
      "text/plain": [
       "       DB_ID       DO_ID   disease                                  Label_ID  \\\n",
       "582  DB00152  DOID_13725  beriberi  e8bd17b1-1729-4c98-9467-d8a74e1e5b6e.xml   \n",
       "\n",
       "                                   Set_ID   relation Drug_name  \\\n",
       "582  5982cf83-01d6-4acb-8373-339079b8a76e  treatment  Thiamine   \n",
       "\n",
       "                                               Context      Section  \n",
       "582  Thiamine Hydrochloride Injection is effective ...  Indications  "
      ]
     },
     "execution_count": 4,
     "metadata": {},
     "output_type": "execute_result"
    }
   ],
   "source": [
    "\n",
    "crowd_df_1 = crowd_df_1[['DB_ID', 'DO_ID','disease', 'Label_ID','Set_ID', 'relation', 'Drug_name', 'Context','Section' ]]\n",
    "crowd_df_1.sample()"
   ]
  },
  {
   "cell_type": "code",
   "execution_count": 5,
   "metadata": {},
   "outputs": [
    {
     "data": {
      "text/html": [
       "<div>\n",
       "<style scoped>\n",
       "    .dataframe tbody tr th:only-of-type {\n",
       "        vertical-align: middle;\n",
       "    }\n",
       "\n",
       "    .dataframe tbody tr th {\n",
       "        vertical-align: top;\n",
       "    }\n",
       "\n",
       "    .dataframe thead th {\n",
       "        text-align: right;\n",
       "    }\n",
       "</style>\n",
       "<table border=\"1\" class=\"dataframe\">\n",
       "  <thead>\n",
       "    <tr style=\"text-align: right;\">\n",
       "      <th></th>\n",
       "      <th>DB_ID</th>\n",
       "      <th>DO_ID</th>\n",
       "      <th>disease</th>\n",
       "      <th>Label_ID</th>\n",
       "      <th>Set_ID</th>\n",
       "      <th>relation</th>\n",
       "      <th>Drug_name</th>\n",
       "      <th>Context</th>\n",
       "      <th>Section</th>\n",
       "    </tr>\n",
       "  </thead>\n",
       "  <tbody>\n",
       "    <tr>\n",
       "      <th>201</th>\n",
       "      <td>DB01234</td>\n",
       "      <td>DOID_2773</td>\n",
       "      <td>contact dermatitis</td>\n",
       "      <td>537cd838-05f2-44f4-aeb2-89c42f153e3c.xml</td>\n",
       "      <td>e5c28db5-efce-49a7-9e5f-12338d1f216b</td>\n",
       "      <td>treatment</td>\n",
       "      <td>DEXAMETHASONE</td>\n",
       "      <td>Control of severe or incapacitating allergic c...</td>\n",
       "      <td>Indications</td>\n",
       "    </tr>\n",
       "  </tbody>\n",
       "</table>\n",
       "</div>"
      ],
      "text/plain": [
       "       DB_ID      DO_ID             disease  \\\n",
       "201  DB01234  DOID_2773  contact dermatitis   \n",
       "\n",
       "                                     Label_ID  \\\n",
       "201  537cd838-05f2-44f4-aeb2-89c42f153e3c.xml   \n",
       "\n",
       "                                   Set_ID   relation      Drug_name  \\\n",
       "201  e5c28db5-efce-49a7-9e5f-12338d1f216b  treatment  DEXAMETHASONE   \n",
       "\n",
       "                                               Context      Section  \n",
       "201  Control of severe or incapacitating allergic c...  Indications  "
      ]
     },
     "execution_count": 5,
     "metadata": {},
     "output_type": "execute_result"
    }
   ],
   "source": [
    "crowd_df_plus = pd.read_csv('crowd/crowd_2nd.csv')\n",
    "crowd_df_plus = crowd_df_plus[['DB_ID', 'DO_ID','disease', 'Label_ID', 'Set_ID','relation', 'Drug_name', 'Context','Section' ]]\n",
    "crowd_df_plus.sample()"
   ]
  },
  {
   "cell_type": "code",
   "execution_count": 6,
   "metadata": {},
   "outputs": [
    {
     "data": {
      "text/plain": [
       "2185"
      ]
     },
     "execution_count": 6,
     "metadata": {},
     "output_type": "execute_result"
    }
   ],
   "source": [
    "\n",
    "crowd_df = crowd_df_1.append(crowd_df_plus)\n",
    "len(crowd_df)"
   ]
  },
  {
   "cell_type": "code",
   "execution_count": 7,
   "metadata": {},
   "outputs": [
    {
     "data": {
      "text/plain": [
       "2162"
      ]
     },
     "execution_count": 7,
     "metadata": {},
     "output_type": "execute_result"
    }
   ],
   "source": [
    "crowd_df= crowd_df.drop_duplicates(subset=['Label_ID','DO_ID','Section'], keep='last')\n",
    "len(crowd_df)"
   ]
  },
  {
   "cell_type": "code",
   "execution_count": 8,
   "metadata": {},
   "outputs": [
    {
     "data": {
      "text/plain": [
       "54040"
      ]
     },
     "execution_count": 8,
     "metadata": {},
     "output_type": "execute_result"
    }
   ],
   "source": [
    "unlabeled_df  = pd.read_csv('unlabeled/raw_cleaned.csv')\n",
    "unlabeled_df = unlabeled_df[['DB_ID', 'DO_ID','disease', 'Label_ID', 'DrugName', 'Context','Section' ]]\n",
    "len(unlabeled_df)"
   ]
  },
  {
   "cell_type": "code",
   "execution_count": 9,
   "metadata": {},
   "outputs": [],
   "source": [
    "unlabeled_df= unlabeled_df.rename(columns={'DrugName':'Drug_name'})"
   ]
  },
  {
   "cell_type": "code",
   "execution_count": 10,
   "metadata": {},
   "outputs": [
    {
     "data": {
      "text/plain": [
       "39810"
      ]
     },
     "execution_count": 10,
     "metadata": {},
     "output_type": "execute_result"
    }
   ],
   "source": [
    "unlabeled_df.drop_duplicates(subset=['Context','DO_ID'], keep='first', inplace=True)\n",
    "len(unlabeled_df)"
   ]
  },
  {
   "cell_type": "code",
   "execution_count": 11,
   "metadata": {},
   "outputs": [
    {
     "data": {
      "text/html": [
       "<div>\n",
       "<style scoped>\n",
       "    .dataframe tbody tr th:only-of-type {\n",
       "        vertical-align: middle;\n",
       "    }\n",
       "\n",
       "    .dataframe tbody tr th {\n",
       "        vertical-align: top;\n",
       "    }\n",
       "\n",
       "    .dataframe thead th {\n",
       "        text-align: right;\n",
       "    }\n",
       "</style>\n",
       "<table border=\"1\" class=\"dataframe\">\n",
       "  <thead>\n",
       "    <tr style=\"text-align: right;\">\n",
       "      <th></th>\n",
       "      <th>DB_ID</th>\n",
       "      <th>DO_ID</th>\n",
       "      <th>disease</th>\n",
       "      <th>Label_ID</th>\n",
       "      <th>Set_ID</th>\n",
       "      <th>relation</th>\n",
       "      <th>Drug_name</th>\n",
       "      <th>Context</th>\n",
       "      <th>Section</th>\n",
       "    </tr>\n",
       "  </thead>\n",
       "  <tbody>\n",
       "    <tr>\n",
       "      <th>31</th>\n",
       "      <td>DB00999</td>\n",
       "      <td>DOID_10763</td>\n",
       "      <td>HYPERTENSION</td>\n",
       "      <td>414a7bf2-7435-0d18-e054-00144ff8d46c.xml</td>\n",
       "      <td>414a7bf2-7434-0d18-e054-00144ff8d46c</td>\n",
       "      <td>Indication: Treatment</td>\n",
       "      <td>Hydrochlorothiazide</td>\n",
       "      <td>Hydrochlorothiazide Tablets are indicated as a...</td>\n",
       "      <td>Indications</td>\n",
       "    </tr>\n",
       "  </tbody>\n",
       "</table>\n",
       "</div>"
      ],
      "text/plain": [
       "      DB_ID       DO_ID       disease  \\\n",
       "31  DB00999  DOID_10763  HYPERTENSION   \n",
       "\n",
       "                                    Label_ID  \\\n",
       "31  414a7bf2-7435-0d18-e054-00144ff8d46c.xml   \n",
       "\n",
       "                                  Set_ID               relation  \\\n",
       "31  414a7bf2-7434-0d18-e054-00144ff8d46c  Indication: Treatment   \n",
       "\n",
       "              Drug_name                                            Context  \\\n",
       "31  Hydrochlorothiazide  Hydrochlorothiazide Tablets are indicated as a...   \n",
       "\n",
       "        Section  \n",
       "31  Indications  "
      ]
     },
     "execution_count": 11,
     "metadata": {},
     "output_type": "execute_result"
    }
   ],
   "source": [
    "experts = pd.read_csv('expert/clean_expert_resolved.csv')\n",
    "experts = experts[['DB_ID', 'DO_ID','disease', 'Label_ID', 'Set_ID','relation', 'Drug_name', 'Context','Section']]\n",
    "experts.sample()"
   ]
  },
  {
   "cell_type": "code",
   "execution_count": 12,
   "metadata": {},
   "outputs": [
    {
     "data": {
      "text/plain": [
       "284"
      ]
     },
     "execution_count": 12,
     "metadata": {},
     "output_type": "execute_result"
    }
   ],
   "source": [
    "len(experts)"
   ]
  },
  {
   "cell_type": "code",
   "execution_count": 13,
   "metadata": {},
   "outputs": [],
   "source": [
    "def rep(text):\n",
    "    a = text.replace('Contraindication', 'contraindication')\n",
    "    b = a.replace('Indication: Treatment', 'treatment')\n",
    "    c = b.replace('Indication: Symptomatic Relief', 'relief')\n",
    "    d = c.replace('Effect', 'effect')\n",
    "    return d\n",
    "\n",
    "def lower (x):\n",
    "    return x.lower()\n",
    "\n",
    "# remove punctuation\n",
    "def remove_symbols(x):\n",
    "    for char in x:\n",
    "            if char not in ['1','2','3','4','5','6','7','8','9','q','Q','w','W', 'e','E','r','R','t','T','y','Y','U','u','i','I','O','o','P','p','A','a','S','s','D','d','F','f','G','g','H','h','J','j','K','k','L','l','Z','z','X','x','C','c','V','v','B','b','N','n','M','m']:\n",
    "                x = x.replace(char, ' ')\n",
    "    return x\n",
    "\n",
    "def check(x, text):\n",
    "    return x in text\n",
    "\n",
    "def remove_xml_symbols(text):\n",
    "    text1 = text.replace('\\n', '  ')\n",
    "    clean_text = text1.replace('\\r', '  ')\n",
    "    return clean_text\n",
    "\n",
    "def remove_spaces(text):\n",
    "    clean_text = ' '.join(text.split())\n",
    "    return clean_text\n",
    "\n",
    "experts['relation'] =experts['relation'].apply(rep)\n",
    "\n",
    "experts['Context'] = experts['Context'].apply(remove_xml_symbols)\n",
    "experts['Context'] = experts['Context'].apply(remove_symbols)\n",
    "experts['Context'] = experts['Context'].apply(remove_spaces)\n",
    "experts['Context'] = experts['Context'].apply(lower)\n",
    "\n",
    "experts['disease'] = experts['disease'].apply(remove_xml_symbols)\n",
    "experts['disease'] = experts['disease'].apply(remove_symbols)\n",
    "experts['disease'] = experts['disease'].apply(remove_spaces)\n",
    "experts['disease'] = experts['disease'].apply(lower)\n"
   ]
  },
  {
   "cell_type": "code",
   "execution_count": 14,
   "metadata": {},
   "outputs": [],
   "source": [
    "crowd_df['Context'] = crowd_df['Context'].apply(remove_xml_symbols)\n",
    "crowd_df['Context'] = crowd_df['Context'].apply(remove_symbols)\n",
    "crowd_df['Context'] = crowd_df['Context'].apply(remove_spaces)\n",
    "crowd_df['Context'] = crowd_df['Context'].apply(lower)\n",
    "\n",
    "crowd_df['disease'] = crowd_df['disease'].apply(remove_xml_symbols)\n",
    "crowd_df['disease'] = crowd_df['disease'].apply(remove_symbols)\n",
    "crowd_df['disease'] = crowd_df['disease'].apply(remove_spaces)\n",
    "crowd_df['disease'] = crowd_df['disease'].apply(lower)\n",
    "\n"
   ]
  },
  {
   "cell_type": "code",
   "execution_count": 15,
   "metadata": {},
   "outputs": [
    {
     "data": {
      "text/html": [
       "<div>\n",
       "<style scoped>\n",
       "    .dataframe tbody tr th:only-of-type {\n",
       "        vertical-align: middle;\n",
       "    }\n",
       "\n",
       "    .dataframe tbody tr th {\n",
       "        vertical-align: top;\n",
       "    }\n",
       "\n",
       "    .dataframe thead th {\n",
       "        text-align: right;\n",
       "    }\n",
       "</style>\n",
       "<table border=\"1\" class=\"dataframe\">\n",
       "  <thead>\n",
       "    <tr style=\"text-align: right;\">\n",
       "      <th></th>\n",
       "      <th>DB_ID</th>\n",
       "      <th>DO_ID</th>\n",
       "      <th>disease</th>\n",
       "      <th>Label_ID</th>\n",
       "      <th>Set_ID</th>\n",
       "      <th>relation</th>\n",
       "      <th>Drug_name</th>\n",
       "      <th>Context</th>\n",
       "      <th>Section</th>\n",
       "    </tr>\n",
       "  </thead>\n",
       "  <tbody>\n",
       "    <tr>\n",
       "      <th>1277</th>\n",
       "      <td>DB00693</td>\n",
       "      <td>DOID_4481</td>\n",
       "      <td>allergic rhinitis</td>\n",
       "      <td>362ba67f-abf9-4210-a994-3814ca7bbb06.xml</td>\n",
       "      <td>ebb3883c-71f6-4fd0-a7e6-0ba8e1136dd9</td>\n",
       "      <td>effect</td>\n",
       "      <td>Fluorescein</td>\n",
       "      <td>fluorescite r see warnings and precautions 5 1...</td>\n",
       "      <td>Contraindications</td>\n",
       "    </tr>\n",
       "    <tr>\n",
       "      <th>85</th>\n",
       "      <td>DB00877</td>\n",
       "      <td>DOID_3319</td>\n",
       "      <td>lymphangioleiomyomatosis</td>\n",
       "      <td>26c745ce-ed4e-4b5f-9704-b6f3842c7881.xml</td>\n",
       "      <td>5908cd1a-fc5a-462f-99ed-1d8983e253c9</td>\n",
       "      <td>treatment</td>\n",
       "      <td>SIROLIMUS</td>\n",
       "      <td>sirolimus is an mtor inhibitor immunosuppressa...</td>\n",
       "      <td>Indications</td>\n",
       "    </tr>\n",
       "  </tbody>\n",
       "</table>\n",
       "</div>"
      ],
      "text/plain": [
       "        DB_ID      DO_ID                   disease  \\\n",
       "1277  DB00693  DOID_4481         allergic rhinitis   \n",
       "85    DB00877  DOID_3319  lymphangioleiomyomatosis   \n",
       "\n",
       "                                      Label_ID  \\\n",
       "1277  362ba67f-abf9-4210-a994-3814ca7bbb06.xml   \n",
       "85    26c745ce-ed4e-4b5f-9704-b6f3842c7881.xml   \n",
       "\n",
       "                                    Set_ID   relation    Drug_name  \\\n",
       "1277  ebb3883c-71f6-4fd0-a7e6-0ba8e1136dd9     effect  Fluorescein   \n",
       "85    5908cd1a-fc5a-462f-99ed-1d8983e253c9  treatment    SIROLIMUS   \n",
       "\n",
       "                                                Context            Section  \n",
       "1277  fluorescite r see warnings and precautions 5 1...  Contraindications  \n",
       "85    sirolimus is an mtor inhibitor immunosuppressa...        Indications  "
      ]
     },
     "execution_count": 15,
     "metadata": {},
     "output_type": "execute_result"
    }
   ],
   "source": [
    "crowd_df.sample(2)"
   ]
  },
  {
   "cell_type": "code",
   "execution_count": 16,
   "metadata": {},
   "outputs": [
    {
     "data": {
      "text/html": [
       "<div>\n",
       "<style scoped>\n",
       "    .dataframe tbody tr th:only-of-type {\n",
       "        vertical-align: middle;\n",
       "    }\n",
       "\n",
       "    .dataframe tbody tr th {\n",
       "        vertical-align: top;\n",
       "    }\n",
       "\n",
       "    .dataframe thead th {\n",
       "        text-align: right;\n",
       "    }\n",
       "</style>\n",
       "<table border=\"1\" class=\"dataframe\">\n",
       "  <thead>\n",
       "    <tr style=\"text-align: right;\">\n",
       "      <th></th>\n",
       "      <th>DB_ID</th>\n",
       "      <th>DO_ID</th>\n",
       "      <th>disease</th>\n",
       "      <th>Label_ID</th>\n",
       "      <th>Set_ID</th>\n",
       "      <th>relation</th>\n",
       "      <th>Drug_name</th>\n",
       "      <th>Context</th>\n",
       "      <th>Section</th>\n",
       "    </tr>\n",
       "  </thead>\n",
       "  <tbody>\n",
       "    <tr>\n",
       "      <th>137</th>\n",
       "      <td>DB00829</td>\n",
       "      <td>DOID_11338</td>\n",
       "      <td>tetanus</td>\n",
       "      <td>4e800d0d-2181-49b1-a2c8-4c6c49edd83a.xml</td>\n",
       "      <td>41044928-dd1f-40bf-1fa6-709dff559124</td>\n",
       "      <td>relief</td>\n",
       "      <td>Diazepam</td>\n",
       "      <td>diazepam is indicated for the management of an...</td>\n",
       "      <td>Indications</td>\n",
       "    </tr>\n",
       "    <tr>\n",
       "      <th>86</th>\n",
       "      <td>DB05271</td>\n",
       "      <td>DOID_14330</td>\n",
       "      <td>parkinson s disease</td>\n",
       "      <td>a6964835-dc96-4b22-8b64-464a42f6cdf2.xml</td>\n",
       "      <td>939e28c5-f3a9-42c0-9a2d-8d471d82a6e0</td>\n",
       "      <td>treatment</td>\n",
       "      <td>Rotigotine</td>\n",
       "      <td>neupro is a dopamine agonist indicated for the...</td>\n",
       "      <td>Indications</td>\n",
       "    </tr>\n",
       "    <tr>\n",
       "      <th>68</th>\n",
       "      <td>DB08882</td>\n",
       "      <td>DOID_9352</td>\n",
       "      <td>type 2 diabetes mellitus</td>\n",
       "      <td>1135e6c8-c2ae-d958-20ba-6c1eda889aa2.xml</td>\n",
       "      <td>c797ea5c-cab7-494b-9044-27eba0cfe40f</td>\n",
       "      <td>treatment</td>\n",
       "      <td>Linagliptin</td>\n",
       "      <td>tradjenta is a dipeptidyl peptidase 4 dpp 4 in...</td>\n",
       "      <td>Indications</td>\n",
       "    </tr>\n",
       "    <tr>\n",
       "      <th>228</th>\n",
       "      <td>DB00989</td>\n",
       "      <td>DOID_3042</td>\n",
       "      <td>allergic contact dermatitis</td>\n",
       "      <td>35787807-49b2-6034-dcb0-36037574fb42.xml</td>\n",
       "      <td>ca943349-53ea-2b6e-53c3-0265b1a81f8a</td>\n",
       "      <td>effect</td>\n",
       "      <td>Rivastigmine</td>\n",
       "      <td>rivastigmine tartrate capsules are contraindic...</td>\n",
       "      <td>Contraindications</td>\n",
       "    </tr>\n",
       "  </tbody>\n",
       "</table>\n",
       "</div>"
      ],
      "text/plain": [
       "       DB_ID       DO_ID                      disease  \\\n",
       "137  DB00829  DOID_11338                      tetanus   \n",
       "86   DB05271  DOID_14330          parkinson s disease   \n",
       "68   DB08882   DOID_9352     type 2 diabetes mellitus   \n",
       "228  DB00989   DOID_3042  allergic contact dermatitis   \n",
       "\n",
       "                                     Label_ID  \\\n",
       "137  4e800d0d-2181-49b1-a2c8-4c6c49edd83a.xml   \n",
       "86   a6964835-dc96-4b22-8b64-464a42f6cdf2.xml   \n",
       "68   1135e6c8-c2ae-d958-20ba-6c1eda889aa2.xml   \n",
       "228  35787807-49b2-6034-dcb0-36037574fb42.xml   \n",
       "\n",
       "                                   Set_ID   relation     Drug_name  \\\n",
       "137  41044928-dd1f-40bf-1fa6-709dff559124     relief      Diazepam   \n",
       "86   939e28c5-f3a9-42c0-9a2d-8d471d82a6e0  treatment    Rotigotine   \n",
       "68   c797ea5c-cab7-494b-9044-27eba0cfe40f  treatment   Linagliptin   \n",
       "228  ca943349-53ea-2b6e-53c3-0265b1a81f8a     effect  Rivastigmine   \n",
       "\n",
       "                                               Context            Section  \n",
       "137  diazepam is indicated for the management of an...        Indications  \n",
       "86   neupro is a dopamine agonist indicated for the...        Indications  \n",
       "68   tradjenta is a dipeptidyl peptidase 4 dpp 4 in...        Indications  \n",
       "228  rivastigmine tartrate capsules are contraindic...  Contraindications  "
      ]
     },
     "execution_count": 16,
     "metadata": {},
     "output_type": "execute_result"
    }
   ],
   "source": [
    "test_df = experts\n",
    "test_df.sample(4)"
   ]
  },
  {
   "cell_type": "code",
   "execution_count": 17,
   "metadata": {},
   "outputs": [
    {
     "data": {
      "text/plain": [
       "282"
      ]
     },
     "execution_count": 17,
     "metadata": {},
     "output_type": "execute_result"
    }
   ],
   "source": [
    "experts = experts.drop_duplicates(subset=['Context','DO_ID'], keep='last')\n",
    "len(experts)"
   ]
  },
  {
   "cell_type": "code",
   "execution_count": 18,
   "metadata": {},
   "outputs": [],
   "source": [
    "on_col =['DO_ID', 'Label_ID', 'Set_ID','Section']\n"
   ]
  },
  {
   "cell_type": "code",
   "execution_count": 19,
   "metadata": {},
   "outputs": [
    {
     "data": {
      "text/plain": [
       "1881"
      ]
     },
     "execution_count": 19,
     "metadata": {},
     "output_type": "execute_result"
    }
   ],
   "source": [
    "train_df = crowd_df[~crowd_df[on_col].apply(tuple,1).isin(experts[on_col].apply(tuple,1))]\n",
    "len(train_df)"
   ]
  },
  {
   "cell_type": "code",
   "execution_count": 20,
   "metadata": {},
   "outputs": [
    {
     "data": {
      "text/plain": [
       "281"
      ]
     },
     "execution_count": 20,
     "metadata": {},
     "output_type": "execute_result"
    }
   ],
   "source": [
    "test_df =crowd_df.merge(experts[on_col], on=on_col)\n",
    "len(test_df)"
   ]
  },
  {
   "cell_type": "code",
   "execution_count": 21,
   "metadata": {},
   "outputs": [
    {
     "data": {
      "text/html": [
       "<div>\n",
       "<style scoped>\n",
       "    .dataframe tbody tr th:only-of-type {\n",
       "        vertical-align: middle;\n",
       "    }\n",
       "\n",
       "    .dataframe tbody tr th {\n",
       "        vertical-align: top;\n",
       "    }\n",
       "\n",
       "    .dataframe thead th {\n",
       "        text-align: right;\n",
       "    }\n",
       "</style>\n",
       "<table border=\"1\" class=\"dataframe\">\n",
       "  <thead>\n",
       "    <tr style=\"text-align: right;\">\n",
       "      <th></th>\n",
       "      <th>DB_ID</th>\n",
       "      <th>DO_ID</th>\n",
       "      <th>disease</th>\n",
       "      <th>Label_ID</th>\n",
       "      <th>Set_ID</th>\n",
       "      <th>relation</th>\n",
       "      <th>Drug_name</th>\n",
       "      <th>Context</th>\n",
       "      <th>Section</th>\n",
       "    </tr>\n",
       "  </thead>\n",
       "  <tbody>\n",
       "    <tr>\n",
       "      <th>0</th>\n",
       "      <td>DB00657</td>\n",
       "      <td>DOID_10824</td>\n",
       "      <td>malignant hypertension</td>\n",
       "      <td>976f404f-4857-4bad-9a3c-9bf3d5ca9f5b.xml</td>\n",
       "      <td>c6822ce4-e741-4366-b72a-5f5146354f97</td>\n",
       "      <td>treatment</td>\n",
       "      <td>Mecamylamine</td>\n",
       "      <td>for the management of moderately severe to sev...</td>\n",
       "      <td>Indications</td>\n",
       "    </tr>\n",
       "    <tr>\n",
       "      <th>1</th>\n",
       "      <td>DB00401</td>\n",
       "      <td>DOID_10763</td>\n",
       "      <td>hypertension</td>\n",
       "      <td>ce733b39-7857-4538-92d6-1c68a4e4eb75.xml</td>\n",
       "      <td>a6a8a8ba-3966-4f37-a58b-44d3b05bdc4e</td>\n",
       "      <td>treatment</td>\n",
       "      <td>Nisoldipine</td>\n",
       "      <td>nisoldipine extended release tablets are indic...</td>\n",
       "      <td>Indications</td>\n",
       "    </tr>\n",
       "    <tr>\n",
       "      <th>2</th>\n",
       "      <td>DB00612</td>\n",
       "      <td>DOID_10763</td>\n",
       "      <td>hypertension</td>\n",
       "      <td>c818c38d-ee37-4ceb-b078-611483b4f743.xml</td>\n",
       "      <td>c818c38d-ee37-4ceb-b078-611483b4f743</td>\n",
       "      <td>treatment</td>\n",
       "      <td>Bisoprolol</td>\n",
       "      <td>bisoprolol fumarate tablets usp are indicated ...</td>\n",
       "      <td>Indications</td>\n",
       "    </tr>\n",
       "    <tr>\n",
       "      <th>3</th>\n",
       "      <td>DB00960</td>\n",
       "      <td>DOID_10763</td>\n",
       "      <td>hypertension</td>\n",
       "      <td>d4078b63-30ad-435b-a081-4d90562962b5.xml</td>\n",
       "      <td>b5a5a1e9-ee9b-41b1-b2d5-5f5834b816a7</td>\n",
       "      <td>treatment</td>\n",
       "      <td>Pindolol</td>\n",
       "      <td>pindolol tablets are indicated in the manageme...</td>\n",
       "      <td>Indications</td>\n",
       "    </tr>\n",
       "    <tr>\n",
       "      <th>4</th>\n",
       "      <td>DB00876</td>\n",
       "      <td>DOID_10763</td>\n",
       "      <td>hypertension</td>\n",
       "      <td>ab531d28-345b-4113-9fde-00cd63ad5b1a.xml</td>\n",
       "      <td>64fbc500-3b77-4c9c-8576-b3ec5f6655a5</td>\n",
       "      <td>treatment</td>\n",
       "      <td>Eprosartan</td>\n",
       "      <td>eprosartan mesylate tablets are indicated for ...</td>\n",
       "      <td>Indications</td>\n",
       "    </tr>\n",
       "  </tbody>\n",
       "</table>\n",
       "</div>"
      ],
      "text/plain": [
       "     DB_ID       DO_ID                 disease  \\\n",
       "0  DB00657  DOID_10824  malignant hypertension   \n",
       "1  DB00401  DOID_10763            hypertension   \n",
       "2  DB00612  DOID_10763            hypertension   \n",
       "3  DB00960  DOID_10763            hypertension   \n",
       "4  DB00876  DOID_10763            hypertension   \n",
       "\n",
       "                                   Label_ID  \\\n",
       "0  976f404f-4857-4bad-9a3c-9bf3d5ca9f5b.xml   \n",
       "1  ce733b39-7857-4538-92d6-1c68a4e4eb75.xml   \n",
       "2  c818c38d-ee37-4ceb-b078-611483b4f743.xml   \n",
       "3  d4078b63-30ad-435b-a081-4d90562962b5.xml   \n",
       "4  ab531d28-345b-4113-9fde-00cd63ad5b1a.xml   \n",
       "\n",
       "                                 Set_ID   relation     Drug_name  \\\n",
       "0  c6822ce4-e741-4366-b72a-5f5146354f97  treatment  Mecamylamine   \n",
       "1  a6a8a8ba-3966-4f37-a58b-44d3b05bdc4e  treatment   Nisoldipine   \n",
       "2  c818c38d-ee37-4ceb-b078-611483b4f743  treatment    Bisoprolol   \n",
       "3  b5a5a1e9-ee9b-41b1-b2d5-5f5834b816a7  treatment      Pindolol   \n",
       "4  64fbc500-3b77-4c9c-8576-b3ec5f6655a5  treatment    Eprosartan   \n",
       "\n",
       "                                             Context      Section  \n",
       "0  for the management of moderately severe to sev...  Indications  \n",
       "1  nisoldipine extended release tablets are indic...  Indications  \n",
       "2  bisoprolol fumarate tablets usp are indicated ...  Indications  \n",
       "3  pindolol tablets are indicated in the manageme...  Indications  \n",
       "4  eprosartan mesylate tablets are indicated for ...  Indications  "
      ]
     },
     "execution_count": 21,
     "metadata": {},
     "output_type": "execute_result"
    }
   ],
   "source": [
    "test_df.head()"
   ]
  },
  {
   "cell_type": "code",
   "execution_count": 22,
   "metadata": {},
   "outputs": [
    {
     "name": "stdout",
     "output_type": "stream",
     "text": [
      "41691\n",
      "40516\n"
     ]
    },
    {
     "name": "stderr",
     "output_type": "stream",
     "text": [
      "/home/jovyan/.local/lib/python3.7/site-packages/pandas/core/frame.py:7138: FutureWarning: Sorting because non-concatenation axis is not aligned. A future version\n",
      "of pandas will change to not sort by default.\n",
      "\n",
      "To accept the future behavior, pass 'sort=False'.\n",
      "\n",
      "To retain the current behavior and silence the warning, pass 'sort=True'.\n",
      "\n",
      "  sort=sort,\n"
     ]
    }
   ],
   "source": [
    "train_df =unlabeled_df.append(train_df)\n",
    "print (len(train_df))\n",
    "train_df.drop_duplicates(subset=['Context','DO_ID'], keep='last', inplace=True)\n",
    "print (len(train_df))"
   ]
  },
  {
   "cell_type": "code",
   "execution_count": 23,
   "metadata": {},
   "outputs": [],
   "source": [
    "dev_df = test_df"
   ]
  },
  {
   "cell_type": "code",
   "execution_count": 40,
   "metadata": {},
   "outputs": [],
   "source": [
    "import numpy as np\n",
    "indx = dev_df.sample(140).index\n",
    "dev_df.loc[indx,'relation'] = np.nan\n",
    "#temp_df['relation'] = "
   ]
  },
  {
   "cell_type": "code",
   "execution_count": 41,
   "metadata": {},
   "outputs": [
    {
     "data": {
      "text/html": [
       "<div>\n",
       "<style scoped>\n",
       "    .dataframe tbody tr th:only-of-type {\n",
       "        vertical-align: middle;\n",
       "    }\n",
       "\n",
       "    .dataframe tbody tr th {\n",
       "        vertical-align: top;\n",
       "    }\n",
       "\n",
       "    .dataframe thead th {\n",
       "        text-align: right;\n",
       "    }\n",
       "</style>\n",
       "<table border=\"1\" class=\"dataframe\">\n",
       "  <thead>\n",
       "    <tr style=\"text-align: right;\">\n",
       "      <th></th>\n",
       "      <th>DB_ID</th>\n",
       "      <th>DO_ID</th>\n",
       "      <th>disease</th>\n",
       "      <th>Label_ID</th>\n",
       "      <th>Set_ID</th>\n",
       "      <th>relation</th>\n",
       "      <th>Drug_name</th>\n",
       "      <th>Context</th>\n",
       "      <th>Section</th>\n",
       "    </tr>\n",
       "  </thead>\n",
       "  <tbody>\n",
       "    <tr>\n",
       "      <th>20</th>\n",
       "      <td>DB00187</td>\n",
       "      <td>DOID_0060224</td>\n",
       "      <td>atrial fibrillation</td>\n",
       "      <td>e296498d-530b-4346-af09-43008d65c46a.xml</td>\n",
       "      <td>d8e97b4a-0846-4a3f-872f-1893eeb25175</td>\n",
       "      <td>relief</td>\n",
       "      <td>Esmolol</td>\n",
       "      <td>1 1 supraventricular tachycardia or noncompens...</td>\n",
       "      <td>Indications</td>\n",
       "    </tr>\n",
       "    <tr>\n",
       "      <th>73</th>\n",
       "      <td>DB00541</td>\n",
       "      <td>DOID_9952</td>\n",
       "      <td>acute lymphocytic leukemia</td>\n",
       "      <td>768cd59b-38a2-4af5-ab91-4d46ae808ab3.xml</td>\n",
       "      <td>a1869e23-b93b-4407-843b-4b830319d82e</td>\n",
       "      <td>treatment</td>\n",
       "      <td>Vincristine</td>\n",
       "      <td>marqibo is a vinca alkaloid indicated for the ...</td>\n",
       "      <td>Indications</td>\n",
       "    </tr>\n",
       "    <tr>\n",
       "      <th>187</th>\n",
       "      <td>DB09126</td>\n",
       "      <td>DOID_305</td>\n",
       "      <td>carcinoma</td>\n",
       "      <td>7bd326f0-5c4c-2c4a-e053-2a91aa0a2752.xml</td>\n",
       "      <td>ac6918ff-9dc3-40d9-8619-54b26e4bdfc8</td>\n",
       "      <td>treatment</td>\n",
       "      <td>Chorionic Gonadotropin (Human)</td>\n",
       "      <td>precocious puberty prostatic carcinoma or othe...</td>\n",
       "      <td>Contraindications</td>\n",
       "    </tr>\n",
       "    <tr>\n",
       "      <th>88</th>\n",
       "      <td>DB05271</td>\n",
       "      <td>DOID_14330</td>\n",
       "      <td>parkinson s disease</td>\n",
       "      <td>a6964835-dc96-4b22-8b64-464a42f6cdf2.xml</td>\n",
       "      <td>939e28c5-f3a9-42c0-9a2d-8d471d82a6e0</td>\n",
       "      <td>treatment</td>\n",
       "      <td>Rotigotine</td>\n",
       "      <td>neupro is a dopamine agonist indicated for the...</td>\n",
       "      <td>Indications</td>\n",
       "    </tr>\n",
       "    <tr>\n",
       "      <th>194</th>\n",
       "      <td>DB01219</td>\n",
       "      <td>DOID_2237</td>\n",
       "      <td>hepatitis</td>\n",
       "      <td>cbece5e5-72b3-433f-84ae-03013ce93454.xml</td>\n",
       "      <td>ade5fe9c-7601-490a-ac6f-31e63fbd3f8d</td>\n",
       "      <td>relief</td>\n",
       "      <td>Dantrolene</td>\n",
       "      <td>active hepatic disease such as hepatitis and c...</td>\n",
       "      <td>Contraindications</td>\n",
       "    </tr>\n",
       "    <tr>\n",
       "      <th>165</th>\n",
       "      <td>DB01050</td>\n",
       "      <td>DOID_7148</td>\n",
       "      <td>rheumatoid arthritis</td>\n",
       "      <td>d2e35cfc-1c17-456f-8608-5d2c6f7bcb02.xml</td>\n",
       "      <td>758eeb45-e599-4c1a-969d-8fa33f27bf14</td>\n",
       "      <td>NaN</td>\n",
       "      <td>Ibuprofen</td>\n",
       "      <td>carefully consider the potential benefits and ...</td>\n",
       "      <td>Indications</td>\n",
       "    </tr>\n",
       "    <tr>\n",
       "      <th>11</th>\n",
       "      <td>DB00542</td>\n",
       "      <td>DOID_10763</td>\n",
       "      <td>hypertension</td>\n",
       "      <td>8fdc8bda-635a-401f-a9b5-8a2a514b429e.xml</td>\n",
       "      <td>8fdc8bda-635a-401f-a9b5-8a2a514b429e</td>\n",
       "      <td>NaN</td>\n",
       "      <td>Benazepril</td>\n",
       "      <td>benazepril hydrochloride tablets usp are indic...</td>\n",
       "      <td>Indications</td>\n",
       "    </tr>\n",
       "    <tr>\n",
       "      <th>188</th>\n",
       "      <td>DB14713</td>\n",
       "      <td>DOID_2921</td>\n",
       "      <td>glomerulonephritis</td>\n",
       "      <td>922740f6-e540-49cc-8ecd-a705913fd8c4.xml</td>\n",
       "      <td>8513207e-b55f-417b-9473-af785146a543</td>\n",
       "      <td>NaN</td>\n",
       "      <td>Inotersen</td>\n",
       "      <td>tegsedi is contraindicated in patients with pl...</td>\n",
       "      <td>Contraindications</td>\n",
       "    </tr>\n",
       "    <tr>\n",
       "      <th>235</th>\n",
       "      <td>DB00524</td>\n",
       "      <td>DOID_2983</td>\n",
       "      <td>anuria</td>\n",
       "      <td>20d39fb1-12c2-4010-8010-ef55d8f48a08.xml</td>\n",
       "      <td>78105e5c-5d36-426c-9f79-f2e085460b75</td>\n",
       "      <td>contraindication</td>\n",
       "      <td>Metolazone</td>\n",
       "      <td>anuria hepatic coma or precoma known allergy o...</td>\n",
       "      <td>Contraindications</td>\n",
       "    </tr>\n",
       "    <tr>\n",
       "      <th>168</th>\n",
       "      <td>DB01345</td>\n",
       "      <td>DOID_0060319</td>\n",
       "      <td>cardiac arrest</td>\n",
       "      <td>09893986-19e0-4364-93ba-5fbc7e7d3eed.xml</td>\n",
       "      <td>d2c923d5-85c1-4bbb-9f93-556080a5ef87</td>\n",
       "      <td>relief</td>\n",
       "      <td>Potassium cation</td>\n",
       "      <td>urocit r in patients with hyperkalemia or who ...</td>\n",
       "      <td>Contraindications</td>\n",
       "    </tr>\n",
       "  </tbody>\n",
       "</table>\n",
       "</div>"
      ],
      "text/plain": [
       "       DB_ID         DO_ID                     disease  \\\n",
       "20   DB00187  DOID_0060224         atrial fibrillation   \n",
       "73   DB00541     DOID_9952  acute lymphocytic leukemia   \n",
       "187  DB09126      DOID_305                   carcinoma   \n",
       "88   DB05271    DOID_14330         parkinson s disease   \n",
       "194  DB01219     DOID_2237                   hepatitis   \n",
       "165  DB01050     DOID_7148        rheumatoid arthritis   \n",
       "11   DB00542    DOID_10763                hypertension   \n",
       "188  DB14713     DOID_2921          glomerulonephritis   \n",
       "235  DB00524     DOID_2983                      anuria   \n",
       "168  DB01345  DOID_0060319              cardiac arrest   \n",
       "\n",
       "                                     Label_ID  \\\n",
       "20   e296498d-530b-4346-af09-43008d65c46a.xml   \n",
       "73   768cd59b-38a2-4af5-ab91-4d46ae808ab3.xml   \n",
       "187  7bd326f0-5c4c-2c4a-e053-2a91aa0a2752.xml   \n",
       "88   a6964835-dc96-4b22-8b64-464a42f6cdf2.xml   \n",
       "194  cbece5e5-72b3-433f-84ae-03013ce93454.xml   \n",
       "165  d2e35cfc-1c17-456f-8608-5d2c6f7bcb02.xml   \n",
       "11   8fdc8bda-635a-401f-a9b5-8a2a514b429e.xml   \n",
       "188  922740f6-e540-49cc-8ecd-a705913fd8c4.xml   \n",
       "235  20d39fb1-12c2-4010-8010-ef55d8f48a08.xml   \n",
       "168  09893986-19e0-4364-93ba-5fbc7e7d3eed.xml   \n",
       "\n",
       "                                   Set_ID          relation  \\\n",
       "20   d8e97b4a-0846-4a3f-872f-1893eeb25175            relief   \n",
       "73   a1869e23-b93b-4407-843b-4b830319d82e         treatment   \n",
       "187  ac6918ff-9dc3-40d9-8619-54b26e4bdfc8         treatment   \n",
       "88   939e28c5-f3a9-42c0-9a2d-8d471d82a6e0         treatment   \n",
       "194  ade5fe9c-7601-490a-ac6f-31e63fbd3f8d            relief   \n",
       "165  758eeb45-e599-4c1a-969d-8fa33f27bf14               NaN   \n",
       "11   8fdc8bda-635a-401f-a9b5-8a2a514b429e               NaN   \n",
       "188  8513207e-b55f-417b-9473-af785146a543               NaN   \n",
       "235  78105e5c-5d36-426c-9f79-f2e085460b75  contraindication   \n",
       "168  d2c923d5-85c1-4bbb-9f93-556080a5ef87            relief   \n",
       "\n",
       "                          Drug_name  \\\n",
       "20                          Esmolol   \n",
       "73                      Vincristine   \n",
       "187  Chorionic Gonadotropin (Human)   \n",
       "88                       Rotigotine   \n",
       "194                      Dantrolene   \n",
       "165                       Ibuprofen   \n",
       "11                       Benazepril   \n",
       "188                       Inotersen   \n",
       "235                      Metolazone   \n",
       "168                Potassium cation   \n",
       "\n",
       "                                               Context            Section  \n",
       "20   1 1 supraventricular tachycardia or noncompens...        Indications  \n",
       "73   marqibo is a vinca alkaloid indicated for the ...        Indications  \n",
       "187  precocious puberty prostatic carcinoma or othe...  Contraindications  \n",
       "88   neupro is a dopamine agonist indicated for the...        Indications  \n",
       "194  active hepatic disease such as hepatitis and c...  Contraindications  \n",
       "165  carefully consider the potential benefits and ...        Indications  \n",
       "11   benazepril hydrochloride tablets usp are indic...        Indications  \n",
       "188  tegsedi is contraindicated in patients with pl...  Contraindications  \n",
       "235  anuria hepatic coma or precoma known allergy o...  Contraindications  \n",
       "168  urocit r in patients with hyperkalemia or who ...  Contraindications  "
      ]
     },
     "execution_count": 41,
     "metadata": {},
     "output_type": "execute_result"
    }
   ],
   "source": [
    "dev_df.sample(10)"
   ]
  },
  {
   "cell_type": "code",
   "execution_count": 42,
   "metadata": {},
   "outputs": [
    {
     "data": {
      "text/plain": [
       "40516"
      ]
     },
     "execution_count": 42,
     "metadata": {},
     "output_type": "execute_result"
    }
   ],
   "source": [
    "len(train_df)"
   ]
  },
  {
   "cell_type": "code",
   "execution_count": 43,
   "metadata": {},
   "outputs": [
    {
     "data": {
      "text/html": [
       "<div>\n",
       "<style scoped>\n",
       "    .dataframe tbody tr th:only-of-type {\n",
       "        vertical-align: middle;\n",
       "    }\n",
       "\n",
       "    .dataframe tbody tr th {\n",
       "        vertical-align: top;\n",
       "    }\n",
       "\n",
       "    .dataframe thead th {\n",
       "        text-align: right;\n",
       "    }\n",
       "</style>\n",
       "<table border=\"1\" class=\"dataframe\">\n",
       "  <thead>\n",
       "    <tr style=\"text-align: right;\">\n",
       "      <th></th>\n",
       "      <th>relation_x</th>\n",
       "      <th>relation_y</th>\n",
       "    </tr>\n",
       "  </thead>\n",
       "  <tbody>\n",
       "    <tr>\n",
       "      <th>0</th>\n",
       "      <td>NaN</td>\n",
       "      <td>treatment</td>\n",
       "    </tr>\n",
       "    <tr>\n",
       "      <th>1</th>\n",
       "      <td>treatment</td>\n",
       "      <td>treatment</td>\n",
       "    </tr>\n",
       "    <tr>\n",
       "      <th>2</th>\n",
       "      <td>treatment</td>\n",
       "      <td>treatment</td>\n",
       "    </tr>\n",
       "    <tr>\n",
       "      <th>3</th>\n",
       "      <td>treatment</td>\n",
       "      <td>treatment</td>\n",
       "    </tr>\n",
       "    <tr>\n",
       "      <th>4</th>\n",
       "      <td>NaN</td>\n",
       "      <td>treatment</td>\n",
       "    </tr>\n",
       "    <tr>\n",
       "      <th>...</th>\n",
       "      <td>...</td>\n",
       "      <td>...</td>\n",
       "    </tr>\n",
       "    <tr>\n",
       "      <th>276</th>\n",
       "      <td>effect</td>\n",
       "      <td>contraindication</td>\n",
       "    </tr>\n",
       "    <tr>\n",
       "      <th>277</th>\n",
       "      <td>NaN</td>\n",
       "      <td>contraindication</td>\n",
       "    </tr>\n",
       "    <tr>\n",
       "      <th>278</th>\n",
       "      <td>effect</td>\n",
       "      <td>contraindication</td>\n",
       "    </tr>\n",
       "    <tr>\n",
       "      <th>279</th>\n",
       "      <td>NaN</td>\n",
       "      <td>contraindication</td>\n",
       "    </tr>\n",
       "    <tr>\n",
       "      <th>280</th>\n",
       "      <td>effect</td>\n",
       "      <td>contraindication</td>\n",
       "    </tr>\n",
       "  </tbody>\n",
       "</table>\n",
       "<p>281 rows × 2 columns</p>\n",
       "</div>"
      ],
      "text/plain": [
       "    relation_x        relation_y\n",
       "0          NaN         treatment\n",
       "1    treatment         treatment\n",
       "2    treatment         treatment\n",
       "3    treatment         treatment\n",
       "4          NaN         treatment\n",
       "..         ...               ...\n",
       "276     effect  contraindication\n",
       "277        NaN  contraindication\n",
       "278     effect  contraindication\n",
       "279        NaN  contraindication\n",
       "280     effect  contraindication\n",
       "\n",
       "[281 rows x 2 columns]"
      ]
     },
     "execution_count": 43,
     "metadata": {},
     "output_type": "execute_result"
    }
   ],
   "source": [
    "dev_df.merge(experts, on=['Label_ID','DO_ID'])[['relation_x','relation_y']]"
   ]
  },
  {
   "cell_type": "code",
   "execution_count": 44,
   "metadata": {},
   "outputs": [],
   "source": [
    "Y_dev = dev_df.merge(experts, on=['Label_ID','DO_ID'])['relation_y']"
   ]
  },
  {
   "cell_type": "code",
   "execution_count": 45,
   "metadata": {},
   "outputs": [],
   "source": [
    "classes_y = {\n",
    "'effect': 0,\n",
    "'contraindication': 1,\n",
    "'relief': 2,\n",
    "'treatment':3 \n",
    "}\n",
    "Y_dev =Y_dev.map(classes_y)"
   ]
  },
  {
   "cell_type": "code",
   "execution_count": 46,
   "metadata": {},
   "outputs": [],
   "source": [
    "from snorkel.labeling import LFAnalysis"
   ]
  },
  {
   "cell_type": "code",
   "execution_count": 47,
   "metadata": {},
   "outputs": [],
   "source": [
    "my_phrases = { 'effect': \n",
    "[\"hypersensitivity reactions\",\n",
    "\"associated with the risk of\",\n",
    "\"to the risk of\",\n",
    "\"a high risk for\",\n",
    "\"a high risk of\",\n",
    "\"high incidence of\", \n",
    "\"higher incidence of\", \n",
    "\" cause \",\n",
    "\" causes \",\n",
    "\"symptoms occure\",\n",
    "\"teratogenic\",\n",
    "\"site reaction\",\n",
    "\"the risk of development\",\n",
    "\"is associated with a risk of\",\n",
    "\"symptoms of the poisoning\",\n",
    "\"symptoms of poisoning\" \n",
    "],\n",
    "\n",
    " 'contraindication': \n",
    "[\"not administrated to\",\n",
    "\"contraindicated in\",\n",
    "\"contraindicatedin\",\n",
    "\"should not be used\",\n",
    "\"is contraindication for\",\n",
    "\"is contraindication when\",\n",
    "\"is contraindicated when\",\n",
    "\"must not be used for\",\n",
    "\"do not administer\",\n",
    "\"should not initiate\",\n",
    "\"not be administered to\",\n",
    "\"do not initiate patients\",\n",
    "\"contraindication for\",\n",
    "\"should not be given\",\n",
    "\"do not use\"],\n",
    "              \n",
    " 'relief': \n",
    "[\"relief of the signs\",\n",
    "\"relief of signs\",\n",
    "\"relief of symptoms\",\n",
    "\"relief of the symptoms\",\n",
    "\"help\",\n",
    "\"helps\",\n",
    "\"relief of signs and symptoms of\",\n",
    "\"reduction of symptoms of\",\n",
    "\"treatment of the symptoms of\",\n",
    "\"for the relief\",\n",
    "\"management of the signs and symptoms of\"], \n",
    "\n",
    " 'treatment':\n",
    "[\" indicated for the treatment of\",\n",
    "\" indicated in the management of\",\n",
    "\" indicated for the management of\",\n",
    "\"for the management of\",\n",
    "\"management of\",\n",
    "\" indicated for the maintenance of remission\", \n",
    "\"or the treatment of\",\n",
    "\"in the treatment of\",\n",
    "\" indicated as\",\n",
    "\" indicated in\",\n",
    "\"be effective\",\n",
    "\"active treatment of\",\n",
    "\" indicated for\",\n",
    "\"treatment of\",\n",
    "\" indicated as an adjunct\",\n",
    "\" indicated for use in the treatment of\", \n",
    "\" indicated for the intermittent treatment\", \n",
    "\" indicated to reduce the rate of\",\n",
    "\" indicated for the rapid control\",\n",
    "\" indicated for the control\",\n",
    "\"reduce the risk of\",\n",
    "\" indicated as adjunctive treatment\",\n",
    "\"for the treatment of\",\n",
    "\" indicated as an adjunct\"]\n",
    "           }\n",
    "\n",
    "phrases = pd.DataFrame({ key:pd.Series(value) for key, value in my_phrases.items() })\n",
    "\n",
    "effect = { 'phrases': \n",
    "[\"hypersensitivity reactions\",\n",
    "\"associated with the risk of\",\n",
    "\"to the risk of\",\n",
    "\"a high risk for\",\n",
    "\"a high risk of\",\n",
    "\"high incidence of\", \n",
    "\"higher incidence of\", \n",
    "\" cause \",\n",
    "\" causes \",\n",
    "\"symptoms occure\",\n",
    "\"teratogenic\",\n",
    "\"site reaction\",\n",
    "\"the risk of development\",\n",
    "\"is associated with a risk of\",\n",
    "\"symptoms of the poisoning\",\n",
    "\"symptoms of poisoning\" \n",
    "]}\n",
    "effect_df = pd.DataFrame(effect)\n",
    "\n",
    " \n",
    "contraindication = {'phrases': \n",
    "[\"not administrated to\",\n",
    "\"contraindicated in\",\n",
    "\"contraindicatedin\",\n",
    "\"should not be used\",\n",
    "\"is contraindication for\",\n",
    "\"is contraindication when\",\n",
    "\"is contraindicated when\",\n",
    "\"must not be used for\",\n",
    "\"do not administer\",\n",
    "\"should not initiate\",\n",
    "\"not be administered to\",\n",
    "\"do not initiate patients\",\n",
    "\"contraindication for\",\n",
    "\"should not be given\",\n",
    "\"do not use\"]}\n",
    "contraindication_df = pd.DataFrame(contraindication)\n",
    "              \n",
    "relief = {'phrases': \n",
    "[\"relief of the signs\",\n",
    "\"relief of signs\",\n",
    "\"relief of symptoms\",\n",
    "\"relief of the symptoms\",\n",
    "\"help\",\n",
    "\"helps\",\n",
    "\"relief of signs and symptoms of\",\n",
    "\"reduction of symptoms of\",\n",
    "\"treatment of the symptoms of\",\n",
    "\"for the relief\",\n",
    "\"management of the signs and symptoms of\"]} \n",
    "relief_df = pd.DataFrame(relief)\n",
    "\n",
    "treatment = {'phrases':\n",
    "[\" indicated for the treatment of\",\n",
    "\" indicated in the management of\",\n",
    "\" indicated for the management of\",\n",
    "\"for the management of\",\n",
    "\"management of\",\n",
    "\" indicated for the maintenance of remission\", \n",
    "\"or the treatment of\",\n",
    "\"in the treatment of\",\n",
    "\" indicated as\",\n",
    "\" indicated in\",\n",
    "\"be effective\",\n",
    "\"active treatment of\",\n",
    "\" indicated for\",\n",
    "\"treatment of\",\n",
    "\" indicated as an adjunct\",\n",
    "\" indicated for use in the treatment of\", \n",
    "\" indicated for the intermittent treatment\", \n",
    "\" indicated to reduce the rate of\",\n",
    "\" indicated for the rapid control\",\n",
    "\" indicated for the control\",\n",
    "\"reduce the risk of\",\n",
    "\" indicated as adjunctive treatment\",\n",
    "\"for the treatment of\"]}\n",
    "treatment_df = pd.DataFrame(treatment)"
   ]
  },
  {
   "cell_type": "code",
   "execution_count": 48,
   "metadata": {},
   "outputs": [],
   "source": [
    "from snorkel.labeling import labeling_function\n",
    "from snorkel.preprocess import preprocessor\n",
    "\n",
    "\n",
    "def check(x, string):\n",
    "    return x in string\n",
    "\n",
    "\n",
    "def find_phrases(text):\n",
    "    # Find which phrases appear in the sentence\n",
    "    class_effect = effect_df['phrases'].apply(lambda num : check(num,text))\n",
    "    class_contraindication = contraindication_df['phrases'].apply(lambda num : check(num,text))\n",
    "    class_relief = relief_df['phrases'].apply(lambda num : check(num,text))\n",
    "    class_treatment = treatment_df['phrases'].apply(lambda num : check(num,text))\n",
    "    \n",
    "    #Create a dataset from them\n",
    "    classes = {\n",
    "    'effect': class_effect,\n",
    "    'contraindication': class_contraindication,\n",
    "    'relief': class_relief,\n",
    "    'treatment':class_treatment \n",
    "    }\n",
    "\n",
    "    classes = pd.DataFrame(classes)\n",
    "    \n",
    "    a = class_effect.index[class_effect == True].tolist()\n",
    "    b = class_contraindication.index[class_contraindication == True].tolist()\n",
    "    c = class_relief.index[class_relief == True].tolist()\n",
    "    d = class_treatment.index[class_treatment == True].tolist()\n",
    "    return classes, a, b, c, d\n",
    "                                                 \n",
    "\n",
    "# return the position of a phrase/word in a sentence\n",
    "def pos_of_phrase(string, substring):\n",
    "    substring_length = len(substring)    \n",
    "    def recurse(locations_found, start):\n",
    "        location = string.find(substring, start)\n",
    "        if location != -1:\n",
    "            return recurse(locations_found + [location], location+substring_length)\n",
    "        else:\n",
    "            return locations_found\n",
    "\n",
    "    return recurse([], 0)\n",
    "\n",
    "# return the minimum distance of all phrase/word from the target disease\n",
    "def get_diff_of_pos(classes, column, pos, string):\n",
    "    name = classes.columns[column]\n",
    "    my_col = classes[name]\n",
    "    x = [k for k,v in enumerate(my_col) if v == True]\n",
    "    \n",
    "    candidate = []\n",
    "    distances = []\n",
    "    for i in range(len(x)):\n",
    "        word = phrases[classes.columns[column]][x[i]]\n",
    "        \n",
    "        for i in range(len(pos_of_phrase(string, word))):\n",
    "            distances.append( abs(pos -   pos_of_phrase(string, word)[i]) )\n",
    "\n",
    "    return min(distances)\n",
    "\n",
    "\n",
    "@labeling_function()\n",
    "def phrases_claas(x):\n",
    "    \n",
    "    text = x.Context\n",
    "\n",
    "    classes, a, b, c, d =find_phrases(text)\n",
    "\n",
    "\n",
    "    # Check if you have unique class and label based on that \n",
    "    if len(a)!=0 and len(b)==len(c)==len(d)==0:\n",
    "        #print('effect')\n",
    "        return RELATION_CLASSES['effect']\n",
    "    elif len(b)!=0 and len(a)==len(c)==len(d)==0:\n",
    "        #print('contraindication')\n",
    "        return RELATION_CLASSES['contraindication']\n",
    "    elif len(c)!=0 and len(a)==len(b)==len(d)==0:\n",
    "        #print('relief')\n",
    "        return  RELATION_CLASSES['relief']\n",
    "    elif len(d)!=0 and len(a)==len(b)==len(c)==0:\n",
    "        #print('treatment')\n",
    "        return  RELATION_CLASSES['treatment']\n",
    "    elif len(a)==len(b)==len(c)==len(d)==0:\n",
    "        #print('IDK')\n",
    "        return ABSTAIN\n",
    "    return ABSTAIN\n",
    "\n",
    "@labeling_function()\n",
    "def phrase_closeness(x):\n",
    "    text = x.Context\n",
    "    pos1 = text.find(x.disease)\n",
    "    dis_len = len(x.disease)\n",
    "    classes, a, b, c, d = find_phrases(text)\n",
    "    \n",
    "    minDist = len(text.split())\n",
    "    category = ABSTAIN\n",
    "    for class_,found_phrases in {'effect':a, 'contraindication':b, 'relief':c, 'treatment':d}.items():\n",
    "        for phrase_index in found_phrases:\n",
    "            phrase =phrases.loc[phrase_index,class_]\n",
    "            pos2 = text.find(phrase)\n",
    "            phr_len = len(phrase)\n",
    "            if pos1 > pos2:\n",
    "                span = text[pos2+phr_len:pos1]\n",
    "            else:\n",
    "                span = text[pos1+dis_len:pos2]\n",
    "            words = span.split()\n",
    "            distance = len(words)\n",
    "            if minDist > distance:\n",
    "                minDist = distance\n",
    "                category = class_\n",
    "    \n",
    "    if category == ABSTAIN:\n",
    "        return ABSTAIN\n",
    "    return RELATION_CLASSES[category]\n",
    "\n",
    "@labeling_function()\n",
    "def crowd(x):\n",
    "    #print (x.relation_type)\n",
    "    if x.relation in RELATION_CLASSES:\n",
    "        return RELATION_CLASSES[x.relation]\n",
    "    return ABSTAIN\n"
   ]
  },
  {
   "cell_type": "code",
   "execution_count": 49,
   "metadata": {},
   "outputs": [
    {
     "data": {
      "text/plain": [
       "{'effect': 0, 'contraindication': 1, 'relief': 2, 'treatment': 3}"
      ]
     },
     "execution_count": 49,
     "metadata": {},
     "output_type": "execute_result"
    }
   ],
   "source": [
    "ABSTAIN = -1\n",
    "\n",
    "RELATION_CLASSES = {\n",
    "'effect': 0,\n",
    "'contraindication': 1,\n",
    "'relief': 2,\n",
    "'treatment':3 \n",
    "} \n",
    "RELATION_CLASSES"
   ]
  },
  {
   "cell_type": "code",
   "execution_count": 50,
   "metadata": {},
   "outputs": [],
   "source": [
    "from snorkel.labeling import PandasLFApplier\n",
    "\n",
    "lfs = [crowd, phrases_claas, phrase_closeness]\n",
    "applier = PandasLFApplier(lfs)"
   ]
  },
  {
   "cell_type": "code",
   "execution_count": 53,
   "metadata": {
    "scrolled": true
   },
   "outputs": [
    {
     "name": "stderr",
     "output_type": "stream",
     "text": [
      "100%|██████████| 40516/40516 [05:03<00:00, 133.60it/s]\n"
     ]
    }
   ],
   "source": [
    "L_train = applier.apply(train_df)"
   ]
  },
  {
   "cell_type": "code",
   "execution_count": 51,
   "metadata": {
    "scrolled": true
   },
   "outputs": [
    {
     "name": "stderr",
     "output_type": "stream",
     "text": [
      "/opt/conda/lib/python3.7/site-packages/tqdm/std.py:654: FutureWarning: The Panel class is removed from pandas. Accessing it from the top-level namespace will also be removed in the next version\n",
      "  from pandas import Panel\n",
      "100%|██████████| 281/281 [00:02<00:00, 130.50it/s]\n"
     ]
    }
   ],
   "source": [
    "L_dev = applier.apply(dev_df)"
   ]
  },
  {
   "cell_type": "code",
   "execution_count": 52,
   "metadata": {},
   "outputs": [
    {
     "data": {
      "text/plain": [
       "array([3, 0, 2, 1])"
      ]
     },
     "execution_count": 52,
     "metadata": {},
     "output_type": "execute_result"
    }
   ],
   "source": [
    "Y_dev.unique()"
   ]
  },
  {
   "cell_type": "code",
   "execution_count": 54,
   "metadata": {},
   "outputs": [],
   "source": [
    "from snorkel.labeling import LabelModel\n",
    "# Train LabelModel.\n",
    "label_model = LabelModel(cardinality=4, verbose=True)\n",
    "label_model.fit(L_train, n_epochs=100, seed=123, log_freq=20, l2=0.1, lr=0.01)"
   ]
  },
  {
   "cell_type": "code",
   "execution_count": 55,
   "metadata": {},
   "outputs": [],
   "source": [
    "from snorkel.analysis import metric_score\n",
    "\n",
    "preds_dev = label_model.predict(L_dev)"
   ]
  },
  {
   "cell_type": "code",
   "execution_count": 56,
   "metadata": {},
   "outputs": [
    {
     "data": {
      "text/plain": [
       "0.800711743772242"
      ]
     },
     "execution_count": 56,
     "metadata": {},
     "output_type": "execute_result"
    }
   ],
   "source": [
    "acc = metric_score(Y_dev, preds_dev, probs=None, metric=\"accuracy\")\n",
    "acc"
   ]
  },
  {
   "cell_type": "code",
   "execution_count": 57,
   "metadata": {},
   "outputs": [
    {
     "data": {
      "text/html": [
       "<div>\n",
       "<style scoped>\n",
       "    .dataframe tbody tr th:only-of-type {\n",
       "        vertical-align: middle;\n",
       "    }\n",
       "\n",
       "    .dataframe tbody tr th {\n",
       "        vertical-align: top;\n",
       "    }\n",
       "\n",
       "    .dataframe thead th {\n",
       "        text-align: right;\n",
       "    }\n",
       "</style>\n",
       "<table border=\"1\" class=\"dataframe\">\n",
       "  <thead>\n",
       "    <tr style=\"text-align: right;\">\n",
       "      <th></th>\n",
       "      <th>j</th>\n",
       "      <th>Polarity</th>\n",
       "      <th>Coverage</th>\n",
       "      <th>Overlaps</th>\n",
       "      <th>Conflicts</th>\n",
       "      <th>Correct</th>\n",
       "      <th>Incorrect</th>\n",
       "      <th>Emp. Acc.</th>\n",
       "    </tr>\n",
       "  </thead>\n",
       "  <tbody>\n",
       "    <tr>\n",
       "      <th>crowd</th>\n",
       "      <td>0</td>\n",
       "      <td>[0, 1, 2, 3]</td>\n",
       "      <td>0.501779</td>\n",
       "      <td>0.473310</td>\n",
       "      <td>0.209964</td>\n",
       "      <td>84</td>\n",
       "      <td>57</td>\n",
       "      <td>0.595745</td>\n",
       "    </tr>\n",
       "    <tr>\n",
       "      <th>phrases_claas</th>\n",
       "      <td>1</td>\n",
       "      <td>[0, 1, 2, 3]</td>\n",
       "      <td>0.576512</td>\n",
       "      <td>0.576512</td>\n",
       "      <td>0.156584</td>\n",
       "      <td>142</td>\n",
       "      <td>20</td>\n",
       "      <td>0.876543</td>\n",
       "    </tr>\n",
       "    <tr>\n",
       "      <th>phrase_closeness</th>\n",
       "      <td>2</td>\n",
       "      <td>[0, 1, 2, 3]</td>\n",
       "      <td>0.946619</td>\n",
       "      <td>0.743772</td>\n",
       "      <td>0.209964</td>\n",
       "      <td>219</td>\n",
       "      <td>47</td>\n",
       "      <td>0.823308</td>\n",
       "    </tr>\n",
       "  </tbody>\n",
       "</table>\n",
       "</div>"
      ],
      "text/plain": [
       "                  j      Polarity  Coverage  Overlaps  Conflicts  Correct  \\\n",
       "crowd             0  [0, 1, 2, 3]  0.501779  0.473310   0.209964       84   \n",
       "phrases_claas     1  [0, 1, 2, 3]  0.576512  0.576512   0.156584      142   \n",
       "phrase_closeness  2  [0, 1, 2, 3]  0.946619  0.743772   0.209964      219   \n",
       "\n",
       "                  Incorrect  Emp. Acc.  \n",
       "crowd                    57   0.595745  \n",
       "phrases_claas            20   0.876543  \n",
       "phrase_closeness         47   0.823308  "
      ]
     },
     "execution_count": 57,
     "metadata": {},
     "output_type": "execute_result"
    }
   ],
   "source": [
    "LFAnalysis(L_dev, lfs).lf_summary(Y_dev.values).head()"
   ]
  },
  {
   "cell_type": "markdown",
   "metadata": {},
   "source": [
    "# New"
   ]
  },
  {
   "cell_type": "code",
   "execution_count": 294,
   "metadata": {},
   "outputs": [],
   "source": [
    "from snorkel.labeling import filter_unlabeled_dataframe\n",
    "\n",
    "probs_train = label_model.predict_proba(L_train)\n",
    "pred_train =label_model.predict(L_train)\n",
    "df_train_filtered, probs_train_filtered = filter_unlabeled_dataframe(\n",
    "    X=train_df, y=pred_train, L=L_train\n",
    ")"
   ]
  },
  {
   "cell_type": "code",
   "execution_count": 295,
   "metadata": {},
   "outputs": [
    {
     "name": "stderr",
     "output_type": "stream",
     "text": [
      "/opt/conda/lib/python3.7/site-packages/ipykernel_launcher.py:1: SettingWithCopyWarning: \n",
      "A value is trying to be set on a copy of a slice from a DataFrame.\n",
      "Try using .loc[row_indexer,col_indexer] = value instead\n",
      "\n",
      "See the caveats in the documentation: http://pandas.pydata.org/pandas-docs/stable/user_guide/indexing.html#returning-a-view-versus-a-copy\n",
      "  \"\"\"Entry point for launching an IPython kernel.\n"
     ]
    }
   ],
   "source": [
    "df_train_filtered['noisy_labels'] =probs_train_filtered "
   ]
  },
  {
   "cell_type": "code",
   "execution_count": 296,
   "metadata": {},
   "outputs": [
    {
     "name": "stderr",
     "output_type": "stream",
     "text": [
      "/home/jovyan/.local/lib/python3.7/site-packages/pandas/core/generic.py:5208: SettingWithCopyWarning: \n",
      "A value is trying to be set on a copy of a slice from a DataFrame.\n",
      "Try using .loc[row_indexer,col_indexer] = value instead\n",
      "\n",
      "See the caveats in the documentation: http://pandas.pydata.org/pandas-docs/stable/user_guide/indexing.html#returning-a-view-versus-a-copy\n",
      "  self[name] = value\n"
     ]
    }
   ],
   "source": [
    "df_train_filtered.relation = df_train_filtered.relation.replace(RELATION_CLASSES)"
   ]
  },
  {
   "cell_type": "code",
   "execution_count": 297,
   "metadata": {},
   "outputs": [
    {
     "name": "stderr",
     "output_type": "stream",
     "text": [
      "/home/jovyan/.local/lib/python3.7/site-packages/pandas/core/frame.py:4238: SettingWithCopyWarning: \n",
      "A value is trying to be set on a copy of a slice from a DataFrame\n",
      "\n",
      "See the caveats in the documentation: http://pandas.pydata.org/pandas-docs/stable/user_guide/indexing.html#returning-a-view-versus-a-copy\n",
      "  return super().rename(**kwargs)\n"
     ]
    }
   ],
   "source": [
    "df_train_filtered.rename(columns={'relation':'crowd_label'}, inplace=True)\n",
    "df_train_filtered.to_csv('train_data.csv',index=False)"
   ]
  },
  {
   "cell_type": "code",
   "execution_count": 298,
   "metadata": {},
   "outputs": [],
   "source": [
    "test_df['label']= Y_dev\n",
    "test_df.rename(columns={'relation':'crowd_label'}, inplace=True)\n",
    "test_df.to_csv('test_data.csv',index=False)"
   ]
  },
  {
   "cell_type": "code",
   "execution_count": 301,
   "metadata": {},
   "outputs": [
    {
     "data": {
      "text/plain": [
       "38772"
      ]
     },
     "execution_count": 301,
     "metadata": {},
     "output_type": "execute_result"
    }
   ],
   "source": [
    "len(df_train_filtered)"
   ]
  },
  {
   "cell_type": "code",
   "execution_count": null,
   "metadata": {},
   "outputs": [],
   "source": []
  }
 ],
 "metadata": {
  "kernelspec": {
   "display_name": "Python 3",
   "language": "python",
   "name": "python3"
  },
  "language_info": {
   "codemirror_mode": {
    "name": "ipython",
    "version": 3
   },
   "file_extension": ".py",
   "mimetype": "text/x-python",
   "name": "python",
   "nbconvert_exporter": "python",
   "pygments_lexer": "ipython3",
   "version": "3.7.3"
  }
 },
 "nbformat": 4,
 "nbformat_minor": 4
}
