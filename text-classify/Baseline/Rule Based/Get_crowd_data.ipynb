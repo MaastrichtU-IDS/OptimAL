{
 "cells": [
  {
   "cell_type": "code",
   "execution_count": null,
   "metadata": {},
   "outputs": [],
   "source": [
    "# Here we are going to collect all the d"
   ]
  },
  {
   "cell_type": "code",
   "execution_count": 608,
   "metadata": {},
   "outputs": [],
   "source": [
    "import pandas as pd"
   ]
  },
  {
   "cell_type": "code",
   "execution_count": 609,
   "metadata": {},
   "outputs": [],
   "source": [
    "## Functions for getting consistent names of the four classes\n",
    "def rep1 (text):\n",
    "    d = text.replace('indication_treatment', 'treatment')\n",
    "    e = d.replace('indication_symptomatic_relief', 'relief')\n",
    "    return e\n",
    "\n",
    "def rep2 (text):\n",
    "    d = text.replace('INDICATIONS AND USAGE', '')\n",
    "    e = d.replace('\\n', '')\n",
    "    return e\n",
    "\n",
    "\n",
    "def rep3 (text):\n",
    "    a = text.replace('indication_treatment','treatment')\n",
    "    b = a.replace('indication_symptomatic_relief','relief')\n",
    "    c = b.replace('i_dont_know', 'IDK')\n",
    "    d = c.replace('unrelated', 'IDK')\n",
    "    e = d.replace('Indication: Symptomatic relief', 'relief')\n",
    "    f = e.replace('Indication: treatment', 'treatment')\n",
    "    g = f.replace('I dont know', 'IDK')\n",
    "    h = g.replace('Effect', 'effect')\n",
    "    m = h.replace('Contraindication', 'contraindication')\n",
    "    return m\n",
    "\n",
    "\n",
    "def rep4 (text):\n",
    "    a = text.replace('Indication: Treatment','treatment')\n",
    "    b = a.replace('Indication: Symptomatic Relief','relief')\n",
    "    c = b.replace('No consensus', 'IDK')\n",
    "    d = c.replace('IDK', 'IDK')\n",
    "    e = d.replace('Effect', 'effect')\n",
    "    f = e.replace('Contraindication', 'contraindication')\n",
    "    return f\n",
    "\n",
    "# get everything in lowercase\n",
    "def lower (x):\n",
    "    return x.lower()\n",
    "\n",
    "# functions for mapping DOID with disease names\n",
    "def map_doid (code):\n",
    "    ind = doid['DOID'].index[ doid['DOID']== code].tolist()\n",
    "    name = doid['disease'][ind[0]]\n",
    "    return name\n",
    "\n",
    "# functions for mapping DBID with drug names\n",
    "def map_db (code):\n",
    "    ind = db['DBID'].index[ db['DBID']== code].tolist()\n",
    "    name = db['drug'][ind[0]]\n",
    "    return name"
   ]
  },
  {
   "cell_type": "code",
   "execution_count": 610,
   "metadata": {},
   "outputs": [],
   "source": [
    "# The datasets of the DOID and DBID codes \n",
    "\n",
    "doid = pd.read_csv('DOID - Sheet1.csv')\n",
    "doid = doid.rename(columns={\"Disease Name\": \"disease\",})\n",
    "\n",
    "db = pd.read_csv('DB - Sheet1.csv')\n",
    "db = db.rename(columns={\"Drug Name\": \"drug\", \"DrugBank ID\":\"DBID\"})"
   ]
  },
  {
   "cell_type": "markdown",
   "metadata": {},
   "source": [
    "## SET ONE (with label id)"
   ]
  },
  {
   "cell_type": "code",
   "execution_count": 626,
   "metadata": {},
   "outputs": [
    {
     "name": "stdout",
     "output_type": "stream",
     "text": [
      "lenght of first set: 1248\n"
     ]
    },
    {
     "data": {
      "text/html": [
       "<div>\n",
       "<style scoped>\n",
       "    .dataframe tbody tr th:only-of-type {\n",
       "        vertical-align: middle;\n",
       "    }\n",
       "\n",
       "    .dataframe tbody tr th {\n",
       "        vertical-align: top;\n",
       "    }\n",
       "\n",
       "    .dataframe thead th {\n",
       "        text-align: right;\n",
       "    }\n",
       "</style>\n",
       "<table border=\"1\" class=\"dataframe\">\n",
       "  <thead>\n",
       "    <tr style=\"text-align: right;\">\n",
       "      <th></th>\n",
       "      <th>text</th>\n",
       "      <th>disease</th>\n",
       "      <th>DOID</th>\n",
       "      <th>drug</th>\n",
       "      <th>DBID</th>\n",
       "      <th>relation</th>\n",
       "      <th>label_id</th>\n",
       "    </tr>\n",
       "  </thead>\n",
       "  <tbody>\n",
       "    <tr>\n",
       "      <th>373</th>\n",
       "      <td>Dantrolene sodium capsules are indicated in co...</td>\n",
       "      <td>multiple sclerosis</td>\n",
       "      <td>DOID_2377</td>\n",
       "      <td>Dantrolene</td>\n",
       "      <td>DB01219</td>\n",
       "      <td>relief</td>\n",
       "      <td>cbece5e5-72b3-433f-84ae-03013ce93454.xml</td>\n",
       "    </tr>\n",
       "  </tbody>\n",
       "</table>\n",
       "</div>"
      ],
      "text/plain": [
       "                                                  text             disease  \\\n",
       "373  Dantrolene sodium capsules are indicated in co...  multiple sclerosis   \n",
       "\n",
       "          DOID        drug     DBID relation  \\\n",
       "373  DOID_2377  Dantrolene  DB01219   relief   \n",
       "\n",
       "                                     label_id  \n",
       "373  cbece5e5-72b3-433f-84ae-03013ce93454.xml  "
      ]
     },
     "execution_count": 626,
     "metadata": {},
     "output_type": "execute_result"
    }
   ],
   "source": [
    "crowd1 = pd.read_csv('new_data.csv')\n",
    "crowd1 = crowd1[['text' ,'disease_name', 'do_id', 'drug_name','drugbank_id', 'relation_type', 'label_id']]\n",
    "crowd1 = crowd1.rename(columns={\"disease_name\": \"disease\", \"do_id\": \"DOID\", \"drugbank_id\": \"DBID\", \"relation_type\": \"relation\", \"drug_name\": \"drug\"})\n",
    "crowd1['relation'] = crowd1['relation'].apply(rep1)\n",
    "crowd1['disease'] = crowd1['disease'].apply(lower)\n",
    "\n",
    "# delete the empty rows \n",
    "crowd1 = crowd1.dropna(subset=['DOID', 'DBID']).reset_index()\n",
    "crowd1 = crowd1.drop(crowd1.index[1213]).reset_index(drop=True)\n",
    "\n",
    "# keep the columns that we need\n",
    "crowd1 = crowd1[['text' ,'disease', 'DOID', 'drug','DBID', 'relation', 'label_id']]\n",
    "\n",
    "# map the ids\n",
    "crowd1['disease'] = crowd1['DOID'].apply(map_doid)\n",
    "crowd1['drug'] = crowd1['DBID'].apply(map_db)\n",
    "\n",
    "print('lenght of first set:', len(crowd1))\n",
    "crowd1.sample()"
   ]
  },
  {
   "cell_type": "markdown",
   "metadata": {},
   "source": [
    "## SET TWO (with same label id)"
   ]
  },
  {
   "cell_type": "code",
   "execution_count": 627,
   "metadata": {},
   "outputs": [
    {
     "name": "stdout",
     "output_type": "stream",
     "text": [
      "lenght of second set: 2141\n"
     ]
    },
    {
     "data": {
      "text/html": [
       "<div>\n",
       "<style scoped>\n",
       "    .dataframe tbody tr th:only-of-type {\n",
       "        vertical-align: middle;\n",
       "    }\n",
       "\n",
       "    .dataframe tbody tr th {\n",
       "        vertical-align: top;\n",
       "    }\n",
       "\n",
       "    .dataframe thead th {\n",
       "        text-align: right;\n",
       "    }\n",
       "</style>\n",
       "<table border=\"1\" class=\"dataframe\">\n",
       "  <thead>\n",
       "    <tr style=\"text-align: right;\">\n",
       "      <th></th>\n",
       "      <th>text</th>\n",
       "      <th>disease</th>\n",
       "      <th>DOID</th>\n",
       "      <th>drug</th>\n",
       "      <th>DBID</th>\n",
       "      <th>relation</th>\n",
       "      <th>label_id</th>\n",
       "    </tr>\n",
       "  </thead>\n",
       "  <tbody>\n",
       "    <tr>\n",
       "      <th>306</th>\n",
       "      <td>RETAVASE is indicated for use in acute ST-elev...</td>\n",
       "      <td>myocardial infarction</td>\n",
       "      <td>DOID_5844</td>\n",
       "      <td>Reteplase</td>\n",
       "      <td>DB00015</td>\n",
       "      <td>treatment</td>\n",
       "      <td>966dcb73-29d5-4119-ba97-3298e384b83a.xml</td>\n",
       "    </tr>\n",
       "  </tbody>\n",
       "</table>\n",
       "</div>"
      ],
      "text/plain": [
       "                                                  text                disease  \\\n",
       "306  RETAVASE is indicated for use in acute ST-elev...  myocardial infarction   \n",
       "\n",
       "          DOID       drug     DBID   relation  \\\n",
       "306  DOID_5844  Reteplase  DB00015  treatment   \n",
       "\n",
       "                                     label_id  \n",
       "306  966dcb73-29d5-4119-ba97-3298e384b83a.xml  "
      ]
     },
     "execution_count": 627,
     "metadata": {},
     "output_type": "execute_result"
    }
   ],
   "source": [
    "crowd2 = pd.read_csv('collect_data.csv')\n",
    "crowd2 = crowd2.dropna(subset=['do_id']).reset_index()\n",
    "\n",
    "# Delete the empty rows\n",
    "crowd2 = crowd2.drop(crowd2.index[1540]).reset_index(drop=True)\n",
    "crowd2 = crowd2.drop(crowd2.index[2039]).reset_index(drop=True)\n",
    "\n",
    "# keep the columns that we need and change names for consistency \n",
    "crowd2 = crowd2[['text' ,'disease_name', 'do_id', 'drugbank_id', 'relation_type', 'label_id']]\n",
    "crowd2 = crowd2.rename(columns={\"disease_name\": \"disease\", \"do_id\": \"DOID\", \"drugbank_id\": \"DBID\", \"relation_type\": \"relation\" })\n",
    "\n",
    "# clean the columns\n",
    "crowd2['text'] = crowd2['text'].apply(rep2)\n",
    "crowd2['relation'] = crowd2['relation'].apply(rep3)\n",
    "crowd2['disease'] = crowd2['disease'].apply(lower)\n",
    "\n",
    "data2 = {\n",
    "'text': crowd2['text'],\n",
    "'disease': crowd2['disease'],\n",
    "'DOID': crowd2['DOID'],\n",
    "'drug': 'drug',\n",
    "'DBID': crowd2['DBID'],\n",
    "'relation': crowd2['relation'],\n",
    "'label_id': crowd2['label_id']}\n",
    "\n",
    "# map the ids\n",
    "df2 = pd.DataFrame(data2)\n",
    "df2['disease'] = df2['DOID'].apply(map_doid)\n",
    "df2['drug'] = df2['DBID'].apply(map_db)\n",
    "\n",
    "print('lenght of second set:', len(df2))\n",
    "df2.sample()"
   ]
  },
  {
   "cell_type": "markdown",
   "metadata": {},
   "source": [
    "## SET THREE (with label id)"
   ]
  },
  {
   "cell_type": "code",
   "execution_count": 628,
   "metadata": {},
   "outputs": [
    {
     "name": "stdout",
     "output_type": "stream",
     "text": [
      "lenght of third set: 1790\n"
     ]
    },
    {
     "data": {
      "text/html": [
       "<div>\n",
       "<style scoped>\n",
       "    .dataframe tbody tr th:only-of-type {\n",
       "        vertical-align: middle;\n",
       "    }\n",
       "\n",
       "    .dataframe tbody tr th {\n",
       "        vertical-align: top;\n",
       "    }\n",
       "\n",
       "    .dataframe thead th {\n",
       "        text-align: right;\n",
       "    }\n",
       "</style>\n",
       "<table border=\"1\" class=\"dataframe\">\n",
       "  <thead>\n",
       "    <tr style=\"text-align: right;\">\n",
       "      <th></th>\n",
       "      <th>text</th>\n",
       "      <th>disease</th>\n",
       "      <th>DOID</th>\n",
       "      <th>drug</th>\n",
       "      <th>DBID</th>\n",
       "      <th>relation</th>\n",
       "      <th>label_id</th>\n",
       "    </tr>\n",
       "  </thead>\n",
       "  <tbody>\n",
       "    <tr>\n",
       "      <th>597</th>\n",
       "      <td>Allergenic extracts should not be used if the ...</td>\n",
       "      <td>allergic hypersensitivity disease</td>\n",
       "      <td>DOID_1205</td>\n",
       "      <td>Artemisia douglasiana pollen</td>\n",
       "      <td>DB10761</td>\n",
       "      <td>treatment</td>\n",
       "      <td>../DailyMedExtracter/prescription/temp_xml/35b...</td>\n",
       "    </tr>\n",
       "  </tbody>\n",
       "</table>\n",
       "</div>"
      ],
      "text/plain": [
       "                                                  text  \\\n",
       "597  Allergenic extracts should not be used if the ...   \n",
       "\n",
       "                               disease       DOID  \\\n",
       "597  allergic hypersensitivity disease  DOID_1205   \n",
       "\n",
       "                             drug     DBID   relation  \\\n",
       "597  Artemisia douglasiana pollen  DB10761  treatment   \n",
       "\n",
       "                                              label_id  \n",
       "597  ../DailyMedExtracter/prescription/temp_xml/35b...  "
      ]
     },
     "execution_count": 628,
     "metadata": {},
     "output_type": "execute_result"
    }
   ],
   "source": [
    "crowd3 = pd.read_csv('crowd.csv')\n",
    "crowd3 = crowd3[['context' , 'do_id', 'drug_id', 'worker_consensus', 'label_id']]\n",
    "\n",
    "# Delete the empty rows\n",
    "crowd3 = crowd3.dropna(subset=['do_id']).reset_index()\n",
    "crowd3 = crowd3.drop(crowd3.index[813]).reset_index(drop=True)\n",
    "crowd3 = crowd3.rename(columns={ \"do_id\": \"DOID\", \"drug_id\": \"DBID\", \"worker_consensus\": \"relation\", \"context\": \"text\" })\n",
    "crowd3['relation'] = crowd3['relation'].apply(rep4)\n",
    "\n",
    "data3 = {\n",
    "'text': crowd3['text'],\n",
    "'disease': 'disease',\n",
    "'DOID': crowd3['DOID'],\n",
    "'drug': 'drug',\n",
    "'DBID': crowd3['DBID'],\n",
    "'relation': crowd3['relation'],\n",
    "'label_id': crowd3['label_id']}\n",
    "\n",
    "df3 = pd.DataFrame(data3)\n",
    "\n",
    "# map the ids\n",
    "df3['disease'] = df3['DOID'].apply(map_doid)\n",
    "df3['drug'] = df3['DBID'].apply(map_db)\n",
    "\n",
    "print('lenght of third set:', len(df3))\n",
    "df3.sample()"
   ]
  },
  {
   "cell_type": "markdown",
   "metadata": {},
   "source": [
    "## SET FOUR (no label id)"
   ]
  },
  {
   "cell_type": "code",
   "execution_count": 629,
   "metadata": {},
   "outputs": [
    {
     "name": "stdout",
     "output_type": "stream",
     "text": [
      "lenght of third set: 1354\n"
     ]
    },
    {
     "data": {
      "text/html": [
       "<div>\n",
       "<style scoped>\n",
       "    .dataframe tbody tr th:only-of-type {\n",
       "        vertical-align: middle;\n",
       "    }\n",
       "\n",
       "    .dataframe tbody tr th {\n",
       "        vertical-align: top;\n",
       "    }\n",
       "\n",
       "    .dataframe thead th {\n",
       "        text-align: right;\n",
       "    }\n",
       "</style>\n",
       "<table border=\"1\" class=\"dataframe\">\n",
       "  <thead>\n",
       "    <tr style=\"text-align: right;\">\n",
       "      <th></th>\n",
       "      <th>text</th>\n",
       "      <th>disease</th>\n",
       "      <th>DOID</th>\n",
       "      <th>drug</th>\n",
       "      <th>DBID</th>\n",
       "      <th>relation</th>\n",
       "    </tr>\n",
       "  </thead>\n",
       "  <tbody>\n",
       "    <tr>\n",
       "      <th>44</th>\n",
       "      <td>Glaucoma; obstructive uropathy (e.g., bladder ...</td>\n",
       "      <td>colitis</td>\n",
       "      <td>DOID_0060180</td>\n",
       "      <td>Methscopolamine</td>\n",
       "      <td>DB11315</td>\n",
       "      <td>effect</td>\n",
       "    </tr>\n",
       "  </tbody>\n",
       "</table>\n",
       "</div>"
      ],
      "text/plain": [
       "                                                 text  disease          DOID  \\\n",
       "44  Glaucoma; obstructive uropathy (e.g., bladder ...  colitis  DOID_0060180   \n",
       "\n",
       "               drug     DBID relation  \n",
       "44  Methscopolamine  DB11315   effect  "
      ]
     },
     "execution_count": 629,
     "metadata": {},
     "output_type": "execute_result"
    }
   ],
   "source": [
    "crowd4 = pd.read_csv('crowd2.csv')\n",
    "crowd4 = crowd4[['context' , 'do_id', 'drug_id', 'worker_consensus']]\n",
    "crowd4 = crowd4.rename(columns={ \"do_id\": \"DOID\", \"drug_id\": \"DBID\", \"worker_consensus\": \"relation\", \"context\": \"text\" })\n",
    "crowd4['relation'] = crowd4['relation'].apply(rep4)\n",
    "\n",
    "data4 = {\n",
    "'text': crowd4['text'],\n",
    "'disease': 'disease',\n",
    "'DOID': crowd4['DOID'],\n",
    "'drug': 'drug',\n",
    "'DBID': crowd4['DBID'],\n",
    "'relation': crowd4['relation']}\n",
    "\n",
    "df4 = pd.DataFrame(data4)\n",
    "\n",
    "df4['disease'] = df4['DOID'].apply(map_doid)\n",
    "df4['drug'] = df4['DBID'].apply(map_db)\n",
    "\n",
    "print('lenght of third set:', len(df4))\n",
    "df4.sample()"
   ]
  },
  {
   "cell_type": "markdown",
   "metadata": {},
   "source": [
    "## Merge all the sets"
   ]
  },
  {
   "cell_type": "code",
   "execution_count": 634,
   "metadata": {},
   "outputs": [
    {
     "name": "stdout",
     "output_type": "stream",
     "text": [
      "lenght of all: 6533\n",
      "lenght of final set: 4046\n"
     ]
    },
    {
     "data": {
      "text/html": [
       "<div>\n",
       "<style scoped>\n",
       "    .dataframe tbody tr th:only-of-type {\n",
       "        vertical-align: middle;\n",
       "    }\n",
       "\n",
       "    .dataframe tbody tr th {\n",
       "        vertical-align: top;\n",
       "    }\n",
       "\n",
       "    .dataframe thead th {\n",
       "        text-align: right;\n",
       "    }\n",
       "</style>\n",
       "<table border=\"1\" class=\"dataframe\">\n",
       "  <thead>\n",
       "    <tr style=\"text-align: right;\">\n",
       "      <th></th>\n",
       "      <th>DBID</th>\n",
       "      <th>DOID</th>\n",
       "      <th>disease</th>\n",
       "      <th>drug</th>\n",
       "      <th>label_id</th>\n",
       "      <th>relation</th>\n",
       "      <th>text</th>\n",
       "    </tr>\n",
       "  </thead>\n",
       "  <tbody>\n",
       "    <tr>\n",
       "      <th>564</th>\n",
       "      <td>DB00995</td>\n",
       "      <td>DOID_7148</td>\n",
       "      <td>rheumatoid arthritis</td>\n",
       "      <td>Auranofin</td>\n",
       "      <td>6008addc-7f8e-45bb-8aec-54dd54a788ac.xml</td>\n",
       "      <td>treatment</td>\n",
       "      <td>RIDAURA (auranofin) is indicated in the manage...</td>\n",
       "    </tr>\n",
       "  </tbody>\n",
       "</table>\n",
       "</div>"
      ],
      "text/plain": [
       "        DBID       DOID               disease       drug  \\\n",
       "564  DB00995  DOID_7148  rheumatoid arthritis  Auranofin   \n",
       "\n",
       "                                     label_id   relation  \\\n",
       "564  6008addc-7f8e-45bb-8aec-54dd54a788ac.xml  treatment   \n",
       "\n",
       "                                                  text  \n",
       "564  RIDAURA (auranofin) is indicated in the manage...  "
      ]
     },
     "execution_count": 634,
     "metadata": {},
     "output_type": "execute_result"
    }
   ],
   "source": [
    "sets = [crowd1, df2, df3, df4]\n",
    "merged = pd.concat(sets, ignore_index=True,  sort=True)\n",
    "print('lenght of all:', len(merged))\n",
    "\n",
    "# Delete the dublicates rows\n",
    "df = merged.drop_duplicates(subset=['text', 'DOID', 'DBID','relation' ], keep=\"first\",).reset_index()\n",
    "cleaned = df.drop(df.columns[0], axis = 1)\n",
    "print('lenght of final set:', len(cleaned))\n",
    "cleaned.sample()"
   ]
  },
  {
   "cell_type": "code",
   "execution_count": 637,
   "metadata": {},
   "outputs": [],
   "source": [
    "# Save the set in a new data frame \n",
    "\n",
    "cleaned.to_csv('crowd_all.csv')"
   ]
  },
  {
   "cell_type": "code",
   "execution_count": null,
   "metadata": {},
   "outputs": [],
   "source": []
  }
 ],
 "metadata": {
  "kernelspec": {
   "display_name": "Python 3",
   "language": "python",
   "name": "python3"
  },
  "language_info": {
   "codemirror_mode": {
    "name": "ipython",
    "version": 3
   },
   "file_extension": ".py",
   "mimetype": "text/x-python",
   "name": "python",
   "nbconvert_exporter": "python",
   "pygments_lexer": "ipython3",
   "version": "3.8.3"
  }
 },
 "nbformat": 4,
 "nbformat_minor": 4
}
