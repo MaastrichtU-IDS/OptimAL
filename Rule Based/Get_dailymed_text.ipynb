{
 "cells": [
  {
   "cell_type": "code",
   "execution_count": 152,
   "metadata": {},
   "outputs": [],
   "source": [
    "# Here we are going to replace the raw text for crowd and experts \n",
    "# with the clean text extracted from DailyMed"
   ]
  },
  {
   "cell_type": "code",
   "execution_count": 153,
   "metadata": {},
   "outputs": [],
   "source": [
    "import pandas as pd"
   ]
  },
  {
   "cell_type": "markdown",
   "metadata": {},
   "source": [
    "## Experts data"
   ]
  },
  {
   "cell_type": "code",
   "execution_count": 155,
   "metadata": {},
   "outputs": [],
   "source": [
    "raw = pd.read_csv('expert.csv')\n",
    "dailymed = pd.read_csv('dailymed.csv')"
   ]
  },
  {
   "cell_type": "code",
   "execution_count": 156,
   "metadata": {
    "scrolled": true
   },
   "outputs": [
    {
     "name": "stdout",
     "output_type": "stream",
     "text": [
      "number of texts matched: 129\n"
     ]
    },
    {
     "name": "stderr",
     "output_type": "stream",
     "text": [
      "/Users/kristshingjergji/opt/anaconda3/lib/python3.7/site-packages/ipykernel_launcher.py:11: SettingWithCopyWarning: \n",
      "A value is trying to be set on a copy of a slice from a DataFrame\n",
      "\n",
      "See the caveats in the documentation: http://pandas.pydata.org/pandas-docs/stable/user_guide/indexing.html#returning-a-view-versus-a-copy\n",
      "  # This is added back by InteractiveShellApp.init_path()\n"
     ]
    }
   ],
   "source": [
    "changed = 0\n",
    "for i in range(len(raw)):\n",
    "    index_dailymed_disease = dailymed['DO_ID'].index[ dailymed['DO_ID'] == raw['DOID'][i] ].tolist()\n",
    "    index_dailymed_drug = dailymed['DB_ID'].index[ dailymed['DB_ID'] == raw['DBID'][i]].tolist()\n",
    "    both_matched = list(set(index_dailymed_disease).intersection(index_dailymed_drug))\n",
    "    \n",
    "    if len(both_matched) > 0 :\n",
    "        #print(i)\n",
    "        changed = changed +1\n",
    "        index_of_text = both_matched[0]\n",
    "        raw['text'][i] = dailymed['Context'][index_of_text]  \n",
    "        \n",
    "\n",
    "print('number of texts matched:', changed)"
   ]
  },
  {
   "cell_type": "code",
   "execution_count": 157,
   "metadata": {},
   "outputs": [],
   "source": [
    "raw.to_csv('experts_dailymed.csv')"
   ]
  },
  {
   "cell_type": "markdown",
   "metadata": {},
   "source": [
    "## Crowd Data "
   ]
  },
  {
   "cell_type": "code",
   "execution_count": 158,
   "metadata": {},
   "outputs": [],
   "source": [
    "crowd = pd.read_csv('crowd_all.csv')"
   ]
  },
  {
   "cell_type": "code",
   "execution_count": 160,
   "metadata": {},
   "outputs": [
    {
     "name": "stdout",
     "output_type": "stream",
     "text": [
      "number of texts matched: 80\n"
     ]
    },
    {
     "name": "stderr",
     "output_type": "stream",
     "text": [
      "/Users/kristshingjergji/opt/anaconda3/lib/python3.7/site-packages/ipykernel_launcher.py:11: SettingWithCopyWarning: \n",
      "A value is trying to be set on a copy of a slice from a DataFrame\n",
      "\n",
      "See the caveats in the documentation: http://pandas.pydata.org/pandas-docs/stable/user_guide/indexing.html#returning-a-view-versus-a-copy\n",
      "  # This is added back by InteractiveShellApp.init_path()\n"
     ]
    }
   ],
   "source": [
    "changed = 0\n",
    "for i in range(len(raw)):\n",
    "    index_dailymed_disease = dailymed['DO_ID'].index[ dailymed['DO_ID'] == crowd['DOID'][i] ].tolist()\n",
    "    index_dailymed_drug = dailymed['DB_ID'].index[ dailymed['DB_ID'] == crowd['DBID'][i]].tolist()\n",
    "    both_matched = list(set(index_dailymed_disease).intersection(index_dailymed_drug))\n",
    "    \n",
    "    if len(both_matched) > 0 :\n",
    "        #print(i)\n",
    "        changed = changed +1\n",
    "        index_of_text = both_matched[0]\n",
    "        crowd['text'][i] = dailymed['Context'][index_of_text]  \n",
    "        \n",
    "\n",
    "print('number of texts matched:', changed)"
   ]
  },
  {
   "cell_type": "code",
   "execution_count": 161,
   "metadata": {},
   "outputs": [],
   "source": [
    "crowd.to_csv('crowd_dailymed.csv')"
   ]
  },
  {
   "cell_type": "code",
   "execution_count": null,
   "metadata": {},
   "outputs": [],
   "source": []
  }
 ],
 "metadata": {
  "kernelspec": {
   "display_name": "Python 3",
   "language": "python",
   "name": "python3"
  },
  "language_info": {
   "codemirror_mode": {
    "name": "ipython",
    "version": 3
   },
   "file_extension": ".py",
   "mimetype": "text/x-python",
   "name": "python",
   "nbconvert_exporter": "python",
   "pygments_lexer": "ipython3",
   "version": "3.7.4"
  }
 },
 "nbformat": 4,
 "nbformat_minor": 4
}
