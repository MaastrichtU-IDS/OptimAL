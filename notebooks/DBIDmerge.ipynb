{
 "cells": [
  {
   "cell_type": "code",
   "execution_count": 1,
   "metadata": {},
   "outputs": [],
   "source": [
    "import pandas as pd\n"
   ]
  },
  {
   "cell_type": "code",
   "execution_count": 2,
   "metadata": {},
   "outputs": [],
   "source": [
    "DM = pd.read_csv('../data/XMLProduct.csv')\n"
   ]
  },
  {
   "cell_type": "code",
   "execution_count": 3,
   "metadata": {},
   "outputs": [
    {
     "data": {
      "text/html": [
       "<div>\n",
       "<style scoped>\n",
       "    .dataframe tbody tr th:only-of-type {\n",
       "        vertical-align: middle;\n",
       "    }\n",
       "\n",
       "    .dataframe tbody tr th {\n",
       "        vertical-align: top;\n",
       "    }\n",
       "\n",
       "    .dataframe thead th {\n",
       "        text-align: right;\n",
       "    }\n",
       "</style>\n",
       "<table border=\"1\" class=\"dataframe\">\n",
       "  <thead>\n",
       "    <tr style=\"text-align: right;\">\n",
       "      <th></th>\n",
       "      <th>Unnamed: 0</th>\n",
       "      <th>Label_ID</th>\n",
       "      <th>Drug_Brand_Name</th>\n",
       "      <th>Active_ingredient</th>\n",
       "      <th>UNII_ID</th>\n",
       "      <th>Formatted_Text</th>\n",
       "      <th>Text</th>\n",
       "    </tr>\n",
       "  </thead>\n",
       "  <tbody>\n",
       "    <tr>\n",
       "      <th>0</th>\n",
       "      <td>0</td>\n",
       "      <td>00163875-879b-4fe0-9a38-143a58bb8993.xml</td>\n",
       "      <td>Buprenorphine and Naloxone</td>\n",
       "      <td>BUPRENORPHINE|NALOXONE</td>\n",
       "      <td>36B82AMQ7N|40D3SCR4GZ</td>\n",
       "      <td>Buprenorphine and naloxone sublingual tablets ...</td>\n",
       "      <td>['Buprenorphine and naloxone sublingual tablet...</td>\n",
       "    </tr>\n",
       "    <tr>\n",
       "      <th>1</th>\n",
       "      <td>0</td>\n",
       "      <td>00352228-39a9-4cef-9e91-16c5cd009dad.xml</td>\n",
       "      <td>DIGITEK</td>\n",
       "      <td>DIGOXIN</td>\n",
       "      <td>73K4184T59</td>\n",
       "      <td>DIGITEK|DIGITEK|DIGITEK|DIGITEK</td>\n",
       "      <td>DIGITEK|®|\\n                           |\\n    ...</td>\n",
       "    </tr>\n",
       "    <tr>\n",
       "      <th>2</th>\n",
       "      <td>0</td>\n",
       "      <td>003fd587-d9d8-4bd7-b629-153c319b2fbe.xml</td>\n",
       "      <td>Lovastatin</td>\n",
       "      <td>LOVASTATIN</td>\n",
       "      <td>9LHU78OQFD</td>\n",
       "      <td>Therapy with lovastatin tablets USP should be ...</td>\n",
       "      <td>['Therapy with lovastatin tablets USP should b...</td>\n",
       "    </tr>\n",
       "    <tr>\n",
       "      <th>3</th>\n",
       "      <td>0</td>\n",
       "      <td>0072f42c-3a03-4f49-86ba-399cc73f608e.xml</td>\n",
       "      <td>KETOROLAC TROMETHAMINE</td>\n",
       "      <td>KETOROLAC</td>\n",
       "      <td>YZI5105V0L</td>\n",
       "      <td>Carefully consider the potential benefits and ...</td>\n",
       "      <td>Carefully consider the potential benefits and ...</td>\n",
       "    </tr>\n",
       "    <tr>\n",
       "      <th>4</th>\n",
       "      <td>0</td>\n",
       "      <td>0095d799-2964-4b4d-a602-b65df6f00878.xml</td>\n",
       "      <td>Morphine Sulfate</td>\n",
       "      <td>Morphine</td>\n",
       "      <td>76I7G6D29C</td>\n",
       "      <td>Morphine sulfate extended-release capsules are...</td>\n",
       "      <td>Morphine sulfate extended-release capsules are...</td>\n",
       "    </tr>\n",
       "  </tbody>\n",
       "</table>\n",
       "</div>"
      ],
      "text/plain": [
       "   Unnamed: 0                                  Label_ID  \\\n",
       "0           0  00163875-879b-4fe0-9a38-143a58bb8993.xml   \n",
       "1           0  00352228-39a9-4cef-9e91-16c5cd009dad.xml   \n",
       "2           0  003fd587-d9d8-4bd7-b629-153c319b2fbe.xml   \n",
       "3           0  0072f42c-3a03-4f49-86ba-399cc73f608e.xml   \n",
       "4           0  0095d799-2964-4b4d-a602-b65df6f00878.xml   \n",
       "\n",
       "              Drug_Brand_Name       Active_ingredient                UNII_ID  \\\n",
       "0  Buprenorphine and Naloxone  BUPRENORPHINE|NALOXONE  36B82AMQ7N|40D3SCR4GZ   \n",
       "1                     DIGITEK                 DIGOXIN             73K4184T59   \n",
       "2                  Lovastatin              LOVASTATIN             9LHU78OQFD   \n",
       "3      KETOROLAC TROMETHAMINE               KETOROLAC             YZI5105V0L   \n",
       "4            Morphine Sulfate                Morphine             76I7G6D29C   \n",
       "\n",
       "                                      Formatted_Text  \\\n",
       "0  Buprenorphine and naloxone sublingual tablets ...   \n",
       "1                    DIGITEK|DIGITEK|DIGITEK|DIGITEK   \n",
       "2  Therapy with lovastatin tablets USP should be ...   \n",
       "3  Carefully consider the potential benefits and ...   \n",
       "4  Morphine sulfate extended-release capsules are...   \n",
       "\n",
       "                                                Text  \n",
       "0  ['Buprenorphine and naloxone sublingual tablet...  \n",
       "1  DIGITEK|®|\\n                           |\\n    ...  \n",
       "2  ['Therapy with lovastatin tablets USP should b...  \n",
       "3  Carefully consider the potential benefits and ...  \n",
       "4  Morphine sulfate extended-release capsules are...  "
      ]
     },
     "execution_count": 3,
     "metadata": {},
     "output_type": "execute_result"
    }
   ],
   "source": [
    "DM.head()"
   ]
  },
  {
   "cell_type": "code",
   "execution_count": 11,
   "metadata": {},
   "outputs": [
    {
     "data": {
      "text/plain": [
       "4224"
      ]
     },
     "execution_count": 11,
     "metadata": {},
     "output_type": "execute_result"
    }
   ],
   "source": [
    "len(DM)"
   ]
  },
  {
   "cell_type": "code",
   "execution_count": 4,
   "metadata": {},
   "outputs": [],
   "source": [
    "DB = pd.read_csv('../data/input/drugbank vocabulary.csv')\n"
   ]
  },
  {
   "cell_type": "code",
   "execution_count": 5,
   "metadata": {},
   "outputs": [
    {
     "data": {
      "text/html": [
       "<div>\n",
       "<style scoped>\n",
       "    .dataframe tbody tr th:only-of-type {\n",
       "        vertical-align: middle;\n",
       "    }\n",
       "\n",
       "    .dataframe tbody tr th {\n",
       "        vertical-align: top;\n",
       "    }\n",
       "\n",
       "    .dataframe thead th {\n",
       "        text-align: right;\n",
       "    }\n",
       "</style>\n",
       "<table border=\"1\" class=\"dataframe\">\n",
       "  <thead>\n",
       "    <tr style=\"text-align: right;\">\n",
       "      <th></th>\n",
       "      <th>DrugBank ID</th>\n",
       "      <th>Accession Numbers</th>\n",
       "      <th>Common name</th>\n",
       "      <th>CAS</th>\n",
       "      <th>UNII</th>\n",
       "      <th>Synonyms</th>\n",
       "      <th>Standard InChI Key</th>\n",
       "    </tr>\n",
       "  </thead>\n",
       "  <tbody>\n",
       "    <tr>\n",
       "      <th>0</th>\n",
       "      <td>DB00001</td>\n",
       "      <td>BIOD00024 | BTD00024</td>\n",
       "      <td>Lepirudin</td>\n",
       "      <td>138068-37-8</td>\n",
       "      <td>Y43GF64R34</td>\n",
       "      <td>Hirudin variant-1 | Lepirudin recombinant</td>\n",
       "      <td>NaN</td>\n",
       "    </tr>\n",
       "    <tr>\n",
       "      <th>1</th>\n",
       "      <td>DB00002</td>\n",
       "      <td>BIOD00071 | BTD00071</td>\n",
       "      <td>Cetuximab</td>\n",
       "      <td>205923-56-4</td>\n",
       "      <td>PQX0D8J21J</td>\n",
       "      <td>Cetuximab | Cétuximab | Cetuximabum | Immunogl...</td>\n",
       "      <td>NaN</td>\n",
       "    </tr>\n",
       "    <tr>\n",
       "      <th>2</th>\n",
       "      <td>DB00003</td>\n",
       "      <td>BIOD00001 | BTD00001</td>\n",
       "      <td>Dornase alfa</td>\n",
       "      <td>143831-71-4</td>\n",
       "      <td>953A26OA1Y</td>\n",
       "      <td>Deoxyribonuclease (human clone 18-1 protein mo...</td>\n",
       "      <td>NaN</td>\n",
       "    </tr>\n",
       "    <tr>\n",
       "      <th>3</th>\n",
       "      <td>DB00004</td>\n",
       "      <td>BIOD00084 | BTD00084</td>\n",
       "      <td>Denileukin diftitox</td>\n",
       "      <td>173146-27-5</td>\n",
       "      <td>25E79B5CTM</td>\n",
       "      <td>Denileukin | Interleukin-2/diptheria toxin fus...</td>\n",
       "      <td>NaN</td>\n",
       "    </tr>\n",
       "    <tr>\n",
       "      <th>4</th>\n",
       "      <td>DB00005</td>\n",
       "      <td>BIOD00052 | BTD00052</td>\n",
       "      <td>Etanercept</td>\n",
       "      <td>185243-69-0</td>\n",
       "      <td>OP401G7OJC</td>\n",
       "      <td>Etanercept-szzs | RHU TNFR:FC | RHU-TNFR:FC | ...</td>\n",
       "      <td>NaN</td>\n",
       "    </tr>\n",
       "  </tbody>\n",
       "</table>\n",
       "</div>"
      ],
      "text/plain": [
       "  DrugBank ID     Accession Numbers          Common name          CAS  \\\n",
       "0     DB00001  BIOD00024 | BTD00024            Lepirudin  138068-37-8   \n",
       "1     DB00002  BIOD00071 | BTD00071            Cetuximab  205923-56-4   \n",
       "2     DB00003  BIOD00001 | BTD00001         Dornase alfa  143831-71-4   \n",
       "3     DB00004  BIOD00084 | BTD00084  Denileukin diftitox  173146-27-5   \n",
       "4     DB00005  BIOD00052 | BTD00052           Etanercept  185243-69-0   \n",
       "\n",
       "         UNII                                           Synonyms  \\\n",
       "0  Y43GF64R34          Hirudin variant-1 | Lepirudin recombinant   \n",
       "1  PQX0D8J21J  Cetuximab | Cétuximab | Cetuximabum | Immunogl...   \n",
       "2  953A26OA1Y  Deoxyribonuclease (human clone 18-1 protein mo...   \n",
       "3  25E79B5CTM  Denileukin | Interleukin-2/diptheria toxin fus...   \n",
       "4  OP401G7OJC  Etanercept-szzs | RHU TNFR:FC | RHU-TNFR:FC | ...   \n",
       "\n",
       "  Standard InChI Key  \n",
       "0                NaN  \n",
       "1                NaN  \n",
       "2                NaN  \n",
       "3                NaN  \n",
       "4                NaN  "
      ]
     },
     "execution_count": 5,
     "metadata": {},
     "output_type": "execute_result"
    }
   ],
   "source": [
    "DB.head()"
   ]
  },
  {
   "cell_type": "code",
   "execution_count": 7,
   "metadata": {},
   "outputs": [],
   "source": [
    "DB = DB[['DrugBank ID', 'UNII']]\n",
    "DB.rename(columns={'DrugBank ID':'DB_ID', 'UNII':'UNII_ID'},inplace=True)"
   ]
  },
  {
   "cell_type": "code",
   "execution_count": 8,
   "metadata": {},
   "outputs": [],
   "source": [
    "#These two datasets should have the same name\n",
    "newDM = DM.merge(DB, on=[\"UNII_ID\"], how = 'inner')\n"
   ]
  },
  {
   "cell_type": "code",
   "execution_count": 12,
   "metadata": {},
   "outputs": [
    {
     "name": "stdout",
     "output_type": "stream",
     "text": [
      "The number of drug labels are reduced from  4224  to 3726\n"
     ]
    }
   ],
   "source": [
    "print (\"The number of drug labels are reduced from \",len(DM),\" to\", len(newDM))"
   ]
  },
  {
   "cell_type": "code",
   "execution_count": 14,
   "metadata": {},
   "outputs": [],
   "source": [
    "newDM.to_csv(\"../data/unlabeled_withDBID.csv\", index=False)"
   ]
  },
  {
   "cell_type": "code",
   "execution_count": null,
   "metadata": {},
   "outputs": [],
   "source": []
  }
 ],
 "metadata": {
  "kernelspec": {
   "display_name": "Python 3",
   "language": "python",
   "name": "python3"
  },
  "language_info": {
   "codemirror_mode": {
    "name": "ipython",
    "version": 3
   },
   "file_extension": ".py",
   "mimetype": "text/x-python",
   "name": "python",
   "nbconvert_exporter": "python",
   "pygments_lexer": "ipython3",
   "version": "3.7.3"
  }
 },
 "nbformat": 4,
 "nbformat_minor": 2
}
