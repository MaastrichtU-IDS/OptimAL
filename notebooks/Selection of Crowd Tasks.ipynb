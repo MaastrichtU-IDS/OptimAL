{
 "cells": [
  {
   "cell_type": "code",
   "execution_count": 137,
   "metadata": {},
   "outputs": [],
   "source": [
    "import pandas as pd"
   ]
  },
  {
   "cell_type": "code",
   "execution_count": 138,
   "metadata": {},
   "outputs": [],
   "source": [
    "import matplotlib.pyplot as plt"
   ]
  },
  {
   "cell_type": "code",
   "execution_count": 139,
   "metadata": {},
   "outputs": [],
   "source": [
    "df= pd.read_csv('all_indi/XMLProduct_annotations.csv')"
   ]
  },
  {
   "cell_type": "code",
   "execution_count": 140,
   "metadata": {},
   "outputs": [],
   "source": [
    "df = df[~df.Annotation.isin(['DISEASE','CANCER','SYNDROME'])]"
   ]
  },
  {
   "cell_type": "code",
   "execution_count": 141,
   "metadata": {
    "scrolled": true
   },
   "outputs": [
    {
     "data": {
      "text/plain": [
       "HYPERTENSION                       7688\n",
       "STROKE                             4254\n",
       "BIPOLAR I DISORDER                 3984\n",
       "MYOCARDIAL INFARCTION              3696\n",
       "SCHIZOPHRENIA                      3476\n",
       "ANXIETY                            2493\n",
       "CORONARY HEART DISEASE             2338\n",
       "MAJOR DEPRESSIVE DISORDER          2119\n",
       "PANIC DISORDER                     2119\n",
       "CHLAMYDIA                          2014\n",
       "PNEUMONIA                          1846\n",
       "HYPERCHOLESTEROLEMIA               1652\n",
       "GERD                               1650\n",
       "FAMILIAL HYPERCHOLESTEROLEMIA      1618\n",
       "DYSLIPIDEMIA                       1440\n",
       "GENERALIZED ANXIETY DISORDER       1396\n",
       "KIDNEY DISEASE                     1353\n",
       "DUODENAL ULCER                     1208\n",
       "ESOPHAGITIS                        1107\n",
       "GASTRIC ULCER                      1097\n",
       "MIGRAINE                           1048\n",
       "BREAST CANCER                      1009\n",
       "EPILEPSY                            991\n",
       "INFLUENZA                           953\n",
       "BIPOLAR DISORDER                    901\n",
       "VASCULAR DISEASE                    849\n",
       "ACUTE MYOCARDIAL INFARCTION         792\n",
       "PROTEINURIA                         769\n",
       "HYPOKALEMIA                         763\n",
       "OTITIS MEDIA                        747\n",
       "                                   ... \n",
       "LETTERER-SIWE DISEASE                 1\n",
       "CONSTIPATION                          1\n",
       "FAMILIAL ADENOMATOUS POLYPOSIS        1\n",
       "VAGINAL DISCHARGE                     1\n",
       "PYELITIS                              1\n",
       "SUBACUTE BACTERIAL ENDOCARDITIS       1\n",
       "VIRAL HEPATITIS                       1\n",
       "HCC                                   1\n",
       "CVID                                  1\n",
       "SARCOMA                               1\n",
       "RENAL TUBULAR ACIDOSIS                1\n",
       "DIPLOPIA                              1\n",
       "RETINAL VEIN OCCLUSION                1\n",
       "ALLERGY                               1\n",
       "COLLAGEN DISEASE                      1\n",
       "CHRONIC PYELONEPHRITIS                1\n",
       "NEPHROLITHIASIS                       1\n",
       "FLU                                   1\n",
       "MITRAL VALVE PROLAPSE                 1\n",
       "MACULAR EDEMA                         1\n",
       "ECZEMA                                1\n",
       "ALOPECIA                              1\n",
       "LABYRINTHITIS                         1\n",
       "METABOLIC ACIDOSIS                    1\n",
       "GROUP B                               1\n",
       "EMBRYONAL CARCINOMA                   1\n",
       "SCID                                  1\n",
       "KAPOSI'S SARCOMA                      1\n",
       "ERYSIPELOID                           1\n",
       "TUBEROUS SCLEROSIS                    1\n",
       "Name: Annotation, Length: 637, dtype: int64"
      ]
     },
     "execution_count": 141,
     "metadata": {},
     "output_type": "execute_result"
    }
   ],
   "source": [
    "df.Annotation.value_counts()"
   ]
  },
  {
   "cell_type": "code",
   "execution_count": 142,
   "metadata": {},
   "outputs": [
    {
     "data": {
      "text/html": [
       "<div>\n",
       "<style scoped>\n",
       "    .dataframe tbody tr th:only-of-type {\n",
       "        vertical-align: middle;\n",
       "    }\n",
       "\n",
       "    .dataframe tbody tr th {\n",
       "        vertical-align: top;\n",
       "    }\n",
       "\n",
       "    .dataframe thead th {\n",
       "        text-align: right;\n",
       "    }\n",
       "</style>\n",
       "<table border=\"1\" class=\"dataframe\">\n",
       "  <thead>\n",
       "    <tr style=\"text-align: right;\">\n",
       "      <th></th>\n",
       "      <th>Label_ID</th>\n",
       "      <th>From</th>\n",
       "      <th>To</th>\n",
       "      <th>Type</th>\n",
       "      <th>Annotation</th>\n",
       "      <th>Context</th>\n",
       "      <th>DO_ID</th>\n",
       "      <th>DB_ID</th>\n",
       "      <th>DrugName</th>\n",
       "      <th>Drug_Brand_Name</th>\n",
       "    </tr>\n",
       "  </thead>\n",
       "  <tbody>\n",
       "    <tr>\n",
       "      <th>1</th>\n",
       "      <td>1bd850c4-a638-4143-b6be-0c50521a0449.xml</td>\n",
       "      <td>1036</td>\n",
       "      <td>1058</td>\n",
       "      <td>SYN</td>\n",
       "      <td>CARDIOPULMONARY DISEASE</td>\n",
       "      <td>Ribavirin for Inhalation Solution, USP is indi...</td>\n",
       "      <td>http://purl.obolibrary.org/obo/DOID_8515</td>\n",
       "      <td>DB00811</td>\n",
       "      <td>Ribavirin</td>\n",
       "      <td>Ribavirin</td>\n",
       "    </tr>\n",
       "    <tr>\n",
       "      <th>2</th>\n",
       "      <td>1bd850c4-a638-4143-b6be-0c50521a0449.xml</td>\n",
       "      <td>1908</td>\n",
       "      <td>1926</td>\n",
       "      <td>PREF</td>\n",
       "      <td>BACTERIAL PNEUMONIA</td>\n",
       "      <td>Ribavirin for Inhalation Solution, USP is indi...</td>\n",
       "      <td>http://purl.obolibrary.org/obo/DOID_874</td>\n",
       "      <td>DB00811</td>\n",
       "      <td>Ribavirin</td>\n",
       "      <td>Ribavirin</td>\n",
       "    </tr>\n",
       "    <tr>\n",
       "      <th>4</th>\n",
       "      <td>0028a8d7-5329-4faf-a7e0-ba3abb26b9b4.xml</td>\n",
       "      <td>1036</td>\n",
       "      <td>1058</td>\n",
       "      <td>SYN</td>\n",
       "      <td>CARDIOPULMONARY DISEASE</td>\n",
       "      <td>Ribavirin for inhalation solution, USP is indi...</td>\n",
       "      <td>http://purl.obolibrary.org/obo/DOID_8515</td>\n",
       "      <td>DB00811</td>\n",
       "      <td>RIBAVIRIN</td>\n",
       "      <td>RIBAVIRIN</td>\n",
       "    </tr>\n",
       "    <tr>\n",
       "      <th>5</th>\n",
       "      <td>0028a8d7-5329-4faf-a7e0-ba3abb26b9b4.xml</td>\n",
       "      <td>1891</td>\n",
       "      <td>1909</td>\n",
       "      <td>PREF</td>\n",
       "      <td>BACTERIAL PNEUMONIA</td>\n",
       "      <td>Ribavirin for inhalation solution, USP is indi...</td>\n",
       "      <td>http://purl.obolibrary.org/obo/DOID_874</td>\n",
       "      <td>DB00811</td>\n",
       "      <td>RIBAVIRIN</td>\n",
       "      <td>RIBAVIRIN</td>\n",
       "    </tr>\n",
       "    <tr>\n",
       "      <th>6</th>\n",
       "      <td>3fa42a10-6874-4b83-945f-10d7668d2138.xml</td>\n",
       "      <td>67</td>\n",
       "      <td>85</td>\n",
       "      <td>SYN</td>\n",
       "      <td>CHRONIC HEPATITIS C</td>\n",
       "      <td>Ribavirin is a nucleoside analogue indicated f...</td>\n",
       "      <td>http://purl.obolibrary.org/obo/DOID_1883</td>\n",
       "      <td>DB00811</td>\n",
       "      <td>RIBAVIRIN</td>\n",
       "      <td>Ribavirin</td>\n",
       "    </tr>\n",
       "  </tbody>\n",
       "</table>\n",
       "</div>"
      ],
      "text/plain": [
       "                                   Label_ID  From    To  Type  \\\n",
       "1  1bd850c4-a638-4143-b6be-0c50521a0449.xml  1036  1058   SYN   \n",
       "2  1bd850c4-a638-4143-b6be-0c50521a0449.xml  1908  1926  PREF   \n",
       "4  0028a8d7-5329-4faf-a7e0-ba3abb26b9b4.xml  1036  1058   SYN   \n",
       "5  0028a8d7-5329-4faf-a7e0-ba3abb26b9b4.xml  1891  1909  PREF   \n",
       "6  3fa42a10-6874-4b83-945f-10d7668d2138.xml    67    85   SYN   \n",
       "\n",
       "                Annotation                                            Context  \\\n",
       "1  CARDIOPULMONARY DISEASE  Ribavirin for Inhalation Solution, USP is indi...   \n",
       "2      BACTERIAL PNEUMONIA  Ribavirin for Inhalation Solution, USP is indi...   \n",
       "4  CARDIOPULMONARY DISEASE  Ribavirin for inhalation solution, USP is indi...   \n",
       "5      BACTERIAL PNEUMONIA  Ribavirin for inhalation solution, USP is indi...   \n",
       "6      CHRONIC HEPATITIS C  Ribavirin is a nucleoside analogue indicated f...   \n",
       "\n",
       "                                      DO_ID    DB_ID   DrugName  \\\n",
       "1  http://purl.obolibrary.org/obo/DOID_8515  DB00811  Ribavirin   \n",
       "2   http://purl.obolibrary.org/obo/DOID_874  DB00811  Ribavirin   \n",
       "4  http://purl.obolibrary.org/obo/DOID_8515  DB00811  RIBAVIRIN   \n",
       "5   http://purl.obolibrary.org/obo/DOID_874  DB00811  RIBAVIRIN   \n",
       "6  http://purl.obolibrary.org/obo/DOID_1883  DB00811  RIBAVIRIN   \n",
       "\n",
       "  Drug_Brand_Name  \n",
       "1       Ribavirin  \n",
       "2       Ribavirin  \n",
       "4       RIBAVIRIN  \n",
       "5       RIBAVIRIN  \n",
       "6       Ribavirin  "
      ]
     },
     "execution_count": 142,
     "metadata": {},
     "output_type": "execute_result"
    }
   ],
   "source": [
    "df.head()"
   ]
  },
  {
   "cell_type": "code",
   "execution_count": 143,
   "metadata": {},
   "outputs": [
    {
     "data": {
      "text/plain": [
       "122190"
      ]
     },
     "execution_count": 143,
     "metadata": {},
     "output_type": "execute_result"
    }
   ],
   "source": [
    "len(df)"
   ]
  },
  {
   "cell_type": "code",
   "execution_count": 144,
   "metadata": {},
   "outputs": [],
   "source": [
    "db_atc = pd.read_csv('data/input/drugbank_atc_codes.csv') "
   ]
  },
  {
   "cell_type": "code",
   "execution_count": 145,
   "metadata": {},
   "outputs": [
    {
     "data": {
      "text/plain": [
       "4963"
      ]
     },
     "execution_count": 145,
     "metadata": {},
     "output_type": "execute_result"
    }
   ],
   "source": [
    "len(db_atc)"
   ]
  },
  {
   "cell_type": "code",
   "execution_count": 146,
   "metadata": {},
   "outputs": [],
   "source": [
    "db_atc = db_atc.drop_duplicates(subset=['dbid'],keep='first')"
   ]
  },
  {
   "cell_type": "code",
   "execution_count": 147,
   "metadata": {},
   "outputs": [
    {
     "data": {
      "text/plain": [
       "3145"
      ]
     },
     "execution_count": 147,
     "metadata": {},
     "output_type": "execute_result"
    }
   ],
   "source": [
    "len(db_atc)"
   ]
  },
  {
   "cell_type": "code",
   "execution_count": 148,
   "metadata": {},
   "outputs": [],
   "source": [
    "db_atc = db_atc.rename(columns={'dbid':'DB_ID'})"
   ]
  },
  {
   "cell_type": "code",
   "execution_count": 149,
   "metadata": {},
   "outputs": [],
   "source": [
    "df = df.merge(db_atc,on=['DB_ID'])"
   ]
  },
  {
   "cell_type": "code",
   "execution_count": 150,
   "metadata": {},
   "outputs": [
    {
     "data": {
      "text/plain": [
       "119067"
      ]
     },
     "execution_count": 150,
     "metadata": {},
     "output_type": "execute_result"
    }
   ],
   "source": [
    "len(df)"
   ]
  },
  {
   "cell_type": "code",
   "execution_count": 151,
   "metadata": {},
   "outputs": [
    {
     "data": {
      "text/html": [
       "<div>\n",
       "<style scoped>\n",
       "    .dataframe tbody tr th:only-of-type {\n",
       "        vertical-align: middle;\n",
       "    }\n",
       "\n",
       "    .dataframe tbody tr th {\n",
       "        vertical-align: top;\n",
       "    }\n",
       "\n",
       "    .dataframe thead th {\n",
       "        text-align: right;\n",
       "    }\n",
       "</style>\n",
       "<table border=\"1\" class=\"dataframe\">\n",
       "  <thead>\n",
       "    <tr style=\"text-align: right;\">\n",
       "      <th></th>\n",
       "      <th>Label_ID</th>\n",
       "      <th>From</th>\n",
       "      <th>To</th>\n",
       "      <th>Type</th>\n",
       "      <th>Annotation</th>\n",
       "      <th>Context</th>\n",
       "      <th>DO_ID</th>\n",
       "      <th>DB_ID</th>\n",
       "      <th>DrugName</th>\n",
       "      <th>Drug_Brand_Name</th>\n",
       "      <th>atc_label</th>\n",
       "    </tr>\n",
       "  </thead>\n",
       "  <tbody>\n",
       "    <tr>\n",
       "      <th>0</th>\n",
       "      <td>1bd850c4-a638-4143-b6be-0c50521a0449.xml</td>\n",
       "      <td>1036</td>\n",
       "      <td>1058</td>\n",
       "      <td>SYN</td>\n",
       "      <td>CARDIOPULMONARY DISEASE</td>\n",
       "      <td>Ribavirin for Inhalation Solution, USP is indi...</td>\n",
       "      <td>http://purl.obolibrary.org/obo/DOID_8515</td>\n",
       "      <td>DB00811</td>\n",
       "      <td>Ribavirin</td>\n",
       "      <td>Ribavirin</td>\n",
       "      <td>J05AP01</td>\n",
       "    </tr>\n",
       "    <tr>\n",
       "      <th>1</th>\n",
       "      <td>1bd850c4-a638-4143-b6be-0c50521a0449.xml</td>\n",
       "      <td>1908</td>\n",
       "      <td>1926</td>\n",
       "      <td>PREF</td>\n",
       "      <td>BACTERIAL PNEUMONIA</td>\n",
       "      <td>Ribavirin for Inhalation Solution, USP is indi...</td>\n",
       "      <td>http://purl.obolibrary.org/obo/DOID_874</td>\n",
       "      <td>DB00811</td>\n",
       "      <td>Ribavirin</td>\n",
       "      <td>Ribavirin</td>\n",
       "      <td>J05AP01</td>\n",
       "    </tr>\n",
       "    <tr>\n",
       "      <th>2</th>\n",
       "      <td>0028a8d7-5329-4faf-a7e0-ba3abb26b9b4.xml</td>\n",
       "      <td>1036</td>\n",
       "      <td>1058</td>\n",
       "      <td>SYN</td>\n",
       "      <td>CARDIOPULMONARY DISEASE</td>\n",
       "      <td>Ribavirin for inhalation solution, USP is indi...</td>\n",
       "      <td>http://purl.obolibrary.org/obo/DOID_8515</td>\n",
       "      <td>DB00811</td>\n",
       "      <td>RIBAVIRIN</td>\n",
       "      <td>RIBAVIRIN</td>\n",
       "      <td>J05AP01</td>\n",
       "    </tr>\n",
       "    <tr>\n",
       "      <th>3</th>\n",
       "      <td>0028a8d7-5329-4faf-a7e0-ba3abb26b9b4.xml</td>\n",
       "      <td>1891</td>\n",
       "      <td>1909</td>\n",
       "      <td>PREF</td>\n",
       "      <td>BACTERIAL PNEUMONIA</td>\n",
       "      <td>Ribavirin for inhalation solution, USP is indi...</td>\n",
       "      <td>http://purl.obolibrary.org/obo/DOID_874</td>\n",
       "      <td>DB00811</td>\n",
       "      <td>RIBAVIRIN</td>\n",
       "      <td>RIBAVIRIN</td>\n",
       "      <td>J05AP01</td>\n",
       "    </tr>\n",
       "    <tr>\n",
       "      <th>4</th>\n",
       "      <td>3fa42a10-6874-4b83-945f-10d7668d2138.xml</td>\n",
       "      <td>67</td>\n",
       "      <td>85</td>\n",
       "      <td>SYN</td>\n",
       "      <td>CHRONIC HEPATITIS C</td>\n",
       "      <td>Ribavirin is a nucleoside analogue indicated f...</td>\n",
       "      <td>http://purl.obolibrary.org/obo/DOID_1883</td>\n",
       "      <td>DB00811</td>\n",
       "      <td>RIBAVIRIN</td>\n",
       "      <td>Ribavirin</td>\n",
       "      <td>J05AP01</td>\n",
       "    </tr>\n",
       "  </tbody>\n",
       "</table>\n",
       "</div>"
      ],
      "text/plain": [
       "                                   Label_ID  From    To  Type  \\\n",
       "0  1bd850c4-a638-4143-b6be-0c50521a0449.xml  1036  1058   SYN   \n",
       "1  1bd850c4-a638-4143-b6be-0c50521a0449.xml  1908  1926  PREF   \n",
       "2  0028a8d7-5329-4faf-a7e0-ba3abb26b9b4.xml  1036  1058   SYN   \n",
       "3  0028a8d7-5329-4faf-a7e0-ba3abb26b9b4.xml  1891  1909  PREF   \n",
       "4  3fa42a10-6874-4b83-945f-10d7668d2138.xml    67    85   SYN   \n",
       "\n",
       "                Annotation                                            Context  \\\n",
       "0  CARDIOPULMONARY DISEASE  Ribavirin for Inhalation Solution, USP is indi...   \n",
       "1      BACTERIAL PNEUMONIA  Ribavirin for Inhalation Solution, USP is indi...   \n",
       "2  CARDIOPULMONARY DISEASE  Ribavirin for inhalation solution, USP is indi...   \n",
       "3      BACTERIAL PNEUMONIA  Ribavirin for inhalation solution, USP is indi...   \n",
       "4      CHRONIC HEPATITIS C  Ribavirin is a nucleoside analogue indicated f...   \n",
       "\n",
       "                                      DO_ID    DB_ID   DrugName  \\\n",
       "0  http://purl.obolibrary.org/obo/DOID_8515  DB00811  Ribavirin   \n",
       "1   http://purl.obolibrary.org/obo/DOID_874  DB00811  Ribavirin   \n",
       "2  http://purl.obolibrary.org/obo/DOID_8515  DB00811  RIBAVIRIN   \n",
       "3   http://purl.obolibrary.org/obo/DOID_874  DB00811  RIBAVIRIN   \n",
       "4  http://purl.obolibrary.org/obo/DOID_1883  DB00811  RIBAVIRIN   \n",
       "\n",
       "  Drug_Brand_Name atc_label  \n",
       "0       Ribavirin   J05AP01  \n",
       "1       Ribavirin   J05AP01  \n",
       "2       RIBAVIRIN   J05AP01  \n",
       "3       RIBAVIRIN   J05AP01  \n",
       "4       Ribavirin   J05AP01  "
      ]
     },
     "execution_count": 151,
     "metadata": {},
     "output_type": "execute_result"
    }
   ],
   "source": [
    "df.head()"
   ]
  },
  {
   "cell_type": "code",
   "execution_count": 152,
   "metadata": {},
   "outputs": [],
   "source": [
    "df['ATC_LEVEL_0']= df['atc_label'].str[0]"
   ]
  },
  {
   "cell_type": "code",
   "execution_count": 153,
   "metadata": {},
   "outputs": [],
   "source": [
    "groups = df.groupby('ATC_LEVEL_0')"
   ]
  },
  {
   "cell_type": "code",
   "execution_count": 154,
   "metadata": {},
   "outputs": [
    {
     "name": "stdout",
     "output_type": "stream",
     "text": [
      "A\n",
      "B\n",
      "C\n",
      "D\n",
      "G\n",
      "H\n",
      "J\n",
      "L\n",
      "M\n",
      "N\n",
      "R\n",
      "S\n",
      "V\n"
     ]
    }
   ],
   "source": [
    "selected = pd.DataFrame()\n",
    "for name, group in groups:\n",
    "    print(name)\n",
    "    if len(group) > 50:\n",
    "        selected= selected.append(group.sample(n=50))\n",
    "    else:\n",
    "        selected= selected.append(group)"
   ]
  },
  {
   "cell_type": "code",
   "execution_count": 155,
   "metadata": {},
   "outputs": [
    {
     "data": {
      "text/plain": [
       "650"
      ]
     },
     "execution_count": 155,
     "metadata": {},
     "output_type": "execute_result"
    }
   ],
   "source": [
    "len(selected)"
   ]
  },
  {
   "cell_type": "code",
   "execution_count": 157,
   "metadata": {},
   "outputs": [],
   "source": [
    "def getDiseaseTerm(row):\n",
    "   #print (row)\n",
    "    from_ = row['From']\n",
    "    to_ = row['To']\n",
    "    return row['Context'][from_-1:to_]\n",
    "\n",
    "selected['DieaseName']= selected.apply(getDiseaseTerm, axis='columns')"
   ]
  },
  {
   "cell_type": "code",
   "execution_count": 158,
   "metadata": {},
   "outputs": [],
   "source": [
    "counter = []\n",
    "for index, row in selected.iterrows():\n",
    "    test = row['Context']\n",
    "    #Counts the number of entries at row x and adds it to the counter list\n",
    "    counter.append(len(test.split()))\n",
    "\n",
    "#df.Text.str.split('\\n', expand=True).stack()\n",
    "#The word count list is now appended to the context file\n",
    "selected['WordCount'] = counter"
   ]
  },
  {
   "cell_type": "code",
   "execution_count": 159,
   "metadata": {},
   "outputs": [],
   "source": [
    "selected =selected[selected.WordCount > 200]"
   ]
  },
  {
   "cell_type": "code",
   "execution_count": 160,
   "metadata": {},
   "outputs": [
    {
     "data": {
      "text/html": [
       "<div>\n",
       "<style scoped>\n",
       "    .dataframe tbody tr th:only-of-type {\n",
       "        vertical-align: middle;\n",
       "    }\n",
       "\n",
       "    .dataframe tbody tr th {\n",
       "        vertical-align: top;\n",
       "    }\n",
       "\n",
       "    .dataframe thead th {\n",
       "        text-align: right;\n",
       "    }\n",
       "</style>\n",
       "<table border=\"1\" class=\"dataframe\">\n",
       "  <thead>\n",
       "    <tr style=\"text-align: right;\">\n",
       "      <th></th>\n",
       "      <th>Label_ID</th>\n",
       "      <th>From</th>\n",
       "      <th>To</th>\n",
       "      <th>Type</th>\n",
       "      <th>Annotation</th>\n",
       "      <th>Context</th>\n",
       "      <th>DO_ID</th>\n",
       "      <th>DB_ID</th>\n",
       "      <th>DrugName</th>\n",
       "      <th>Drug_Brand_Name</th>\n",
       "      <th>atc_label</th>\n",
       "      <th>ATC_LEVEL_0</th>\n",
       "      <th>DieaseName</th>\n",
       "      <th>WordCount</th>\n",
       "    </tr>\n",
       "  </thead>\n",
       "  <tbody>\n",
       "    <tr>\n",
       "      <th>58204</th>\n",
       "      <td>4c9c1111-c13e-42fc-9c1d-5f9c54c86515.xml</td>\n",
       "      <td>74</td>\n",
       "      <td>87</td>\n",
       "      <td>PREF</td>\n",
       "      <td>DUODENAL ULCER</td>\n",
       "      <td>Omeprazole is a proton pump inhibitor indicate...</td>\n",
       "      <td>http://purl.obolibrary.org/obo/DOID_1724</td>\n",
       "      <td>DB00338</td>\n",
       "      <td>OMEPRAZOLE</td>\n",
       "      <td>Omeprazole</td>\n",
       "      <td>A02BC01</td>\n",
       "      <td>A</td>\n",
       "      <td>duodenal ulcer</td>\n",
       "      <td>397</td>\n",
       "    </tr>\n",
       "    <tr>\n",
       "      <th>96543</th>\n",
       "      <td>899a4340-9049-29a3-e053-2995a90a8e7f.xml</td>\n",
       "      <td>1187</td>\n",
       "      <td>1195</td>\n",
       "      <td>PREF</td>\n",
       "      <td>PSORIASIS</td>\n",
       "      <td>Prednisone tablets are indicated in the follow...</td>\n",
       "      <td>http://purl.obolibrary.org/obo/DOID_8893</td>\n",
       "      <td>DB00635</td>\n",
       "      <td>PREDNISONE</td>\n",
       "      <td>Prednisone</td>\n",
       "      <td>A07EA03</td>\n",
       "      <td>A</td>\n",
       "      <td>psoriasis</td>\n",
       "      <td>326</td>\n",
       "    </tr>\n",
       "    <tr>\n",
       "      <th>95881</th>\n",
       "      <td>280c9fe8-339a-177a-e054-00144ff88e88.xml</td>\n",
       "      <td>1155</td>\n",
       "      <td>1164</td>\n",
       "      <td>PREF</td>\n",
       "      <td>DERMATITIS</td>\n",
       "      <td>Prednisone Tablets, USP are indicated in the f...</td>\n",
       "      <td>http://purl.obolibrary.org/obo/DOID_2723</td>\n",
       "      <td>DB00635</td>\n",
       "      <td>PREDNISONE</td>\n",
       "      <td>Prednisone</td>\n",
       "      <td>A07EA03</td>\n",
       "      <td>A</td>\n",
       "      <td>dermatitis</td>\n",
       "      <td>328</td>\n",
       "    </tr>\n",
       "    <tr>\n",
       "      <th>95179</th>\n",
       "      <td>5092299c-3782-4ee5-b3e7-4e80bf378e3b.xml</td>\n",
       "      <td>1821</td>\n",
       "      <td>1834</td>\n",
       "      <td>PREF</td>\n",
       "      <td>OPTIC NEURITIS</td>\n",
       "      <td>Prednisone tablets and solutions are indicated...</td>\n",
       "      <td>http://purl.obolibrary.org/obo/DOID_1210</td>\n",
       "      <td>DB00635</td>\n",
       "      <td>PREDNISONE</td>\n",
       "      <td>PredniSONE</td>\n",
       "      <td>A07EA03</td>\n",
       "      <td>A</td>\n",
       "      <td>optic neuritis</td>\n",
       "      <td>328</td>\n",
       "    </tr>\n",
       "    <tr>\n",
       "      <th>91987</th>\n",
       "      <td>bd6475fb-0a6a-44af-a99c-6c40766adf5e.xml</td>\n",
       "      <td>1308</td>\n",
       "      <td>1328</td>\n",
       "      <td>PREF</td>\n",
       "      <td>SEBORRHEIC DERMATITIS</td>\n",
       "      <td>Prednisone tablets, USP are indicated in the f...</td>\n",
       "      <td>http://purl.obolibrary.org/obo/DOID_8741</td>\n",
       "      <td>DB00635</td>\n",
       "      <td>PREDNISONE</td>\n",
       "      <td>Prednisone</td>\n",
       "      <td>A07EA03</td>\n",
       "      <td>A</td>\n",
       "      <td>seborrheic dermatitis</td>\n",
       "      <td>351</td>\n",
       "    </tr>\n",
       "  </tbody>\n",
       "</table>\n",
       "</div>"
      ],
      "text/plain": [
       "                                       Label_ID  From    To  Type  \\\n",
       "58204  4c9c1111-c13e-42fc-9c1d-5f9c54c86515.xml    74    87  PREF   \n",
       "96543  899a4340-9049-29a3-e053-2995a90a8e7f.xml  1187  1195  PREF   \n",
       "95881  280c9fe8-339a-177a-e054-00144ff88e88.xml  1155  1164  PREF   \n",
       "95179  5092299c-3782-4ee5-b3e7-4e80bf378e3b.xml  1821  1834  PREF   \n",
       "91987  bd6475fb-0a6a-44af-a99c-6c40766adf5e.xml  1308  1328  PREF   \n",
       "\n",
       "                  Annotation  \\\n",
       "58204         DUODENAL ULCER   \n",
       "96543              PSORIASIS   \n",
       "95881             DERMATITIS   \n",
       "95179         OPTIC NEURITIS   \n",
       "91987  SEBORRHEIC DERMATITIS   \n",
       "\n",
       "                                                 Context  \\\n",
       "58204  Omeprazole is a proton pump inhibitor indicate...   \n",
       "96543  Prednisone tablets are indicated in the follow...   \n",
       "95881  Prednisone Tablets, USP are indicated in the f...   \n",
       "95179  Prednisone tablets and solutions are indicated...   \n",
       "91987  Prednisone tablets, USP are indicated in the f...   \n",
       "\n",
       "                                          DO_ID    DB_ID    DrugName  \\\n",
       "58204  http://purl.obolibrary.org/obo/DOID_1724  DB00338  OMEPRAZOLE   \n",
       "96543  http://purl.obolibrary.org/obo/DOID_8893  DB00635  PREDNISONE   \n",
       "95881  http://purl.obolibrary.org/obo/DOID_2723  DB00635  PREDNISONE   \n",
       "95179  http://purl.obolibrary.org/obo/DOID_1210  DB00635  PREDNISONE   \n",
       "91987  http://purl.obolibrary.org/obo/DOID_8741  DB00635  PREDNISONE   \n",
       "\n",
       "      Drug_Brand_Name atc_label ATC_LEVEL_0             DieaseName  WordCount  \n",
       "58204      Omeprazole   A02BC01           A         duodenal ulcer        397  \n",
       "96543      Prednisone   A07EA03           A              psoriasis        326  \n",
       "95881      Prednisone   A07EA03           A             dermatitis        328  \n",
       "95179      PredniSONE   A07EA03           A         optic neuritis        328  \n",
       "91987      Prednisone   A07EA03           A  seborrheic dermatitis        351  "
      ]
     },
     "execution_count": 160,
     "metadata": {},
     "output_type": "execute_result"
    }
   ],
   "source": [
    "selected.head()"
   ]
  },
  {
   "cell_type": "code",
   "execution_count": 161,
   "metadata": {},
   "outputs": [
    {
     "data": {
      "text/plain": [
       "494"
      ]
     },
     "execution_count": 161,
     "metadata": {},
     "output_type": "execute_result"
    }
   ],
   "source": [
    "len(selected)"
   ]
  },
  {
   "cell_type": "code",
   "execution_count": null,
   "metadata": {},
   "outputs": [],
   "source": []
  }
 ],
 "metadata": {
  "kernelspec": {
   "display_name": "Python 3",
   "language": "python",
   "name": "python3"
  },
  "language_info": {
   "codemirror_mode": {
    "name": "ipython",
    "version": 3
   },
   "file_extension": ".py",
   "mimetype": "text/x-python",
   "name": "python",
   "nbconvert_exporter": "python",
   "pygments_lexer": "ipython3",
   "version": "3.7.3"
  }
 },
 "nbformat": 4,
 "nbformat_minor": 2
}
