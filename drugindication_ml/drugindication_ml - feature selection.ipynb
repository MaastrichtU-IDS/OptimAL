{
 "cells": [
  {
   "cell_type": "code",
   "execution_count": 1,
   "metadata": {
    "collapsed": true
   },
   "outputs": [],
   "source": [
    "from sklearn import tree, ensemble\n",
    "from sklearn.externals import joblib\n",
    "from sklearn.feature_selection import VarianceThreshold,SelectFromModel\n",
    "from sklearn import svm, linear_model, neighbors\n",
    "from sklearn import metrics\n",
    "\n",
    "\n",
    "import numpy\n",
    "from sklearn import model_selection as cross_validation\n",
    "from sklearn import preprocessing\n",
    "from sklearn.model_selection import cross_val_score\n",
    "\n",
    "import argparse\n",
    "import random\n",
    "import csv\n",
    "import numbers\n",
    "import gc\n",
    "\n",
    "import pandas as pd\n",
    "from sklearn.metrics.scorer import _check_multimetric_scoring"
   ]
  },
  {
   "cell_type": "code",
   "execution_count": 2,
   "metadata": {
    "collapsed": true
   },
   "outputs": [],
   "source": [
    "def createFeatureMat(pairs, classes, drug_df, disease_df, featureMatfile=None):\n",
    "    totalNumFeatures=drug_df.shape[1] + disease_df.shape[1]-2\n",
    "    drug_features = drug_df.columns.difference( ['Drug'] )\n",
    "    disease_features = disease_df.columns.difference( ['Disease'])\n",
    "    featureMatrix = numpy.empty((0,totalNumFeatures), int)\n",
    "    for pair,cls in zip(pairs,classes):\n",
    "        (dr,di)=pair\n",
    "        values1 = drug_df.loc[drug_df['Drug'] == dr][drug_features].values\n",
    "        values2 = disease_df.loc[disease_df['Disease']==di][disease_features].values\n",
    "        featureArray =numpy.append(values1,values2 )\n",
    "        featureMatrix=numpy.vstack([featureMatrix, featureArray])\n",
    "    return featureMatrix\n",
    "\n",
    "def multimetric_score(estimator, X_test, y_test, scorers):\n",
    "    \"\"\"Return a dict of score for multimetric scoring\"\"\"\n",
    "    scores = {}\n",
    "    for name, scorer in scorers.items():\n",
    "        if y_test is None:\n",
    "            score = scorer(estimator, X_test)\n",
    "        else:\n",
    "            score = scorer(estimator, X_test, y_test)\n",
    "\n",
    "        if hasattr(score, 'item'):\n",
    "            try:\n",
    "                # e.g. unwrap memmapped scalars\n",
    "                score = score.item()\n",
    "            except ValueError:\n",
    "                # non-scalar?\n",
    "                pass\n",
    "        scores[name] = score\n",
    "\n",
    "        if not isinstance(score, numbers.Number):\n",
    "            raise ValueError(\"scoring must return a number, got %s (%s) \"\n",
    "                             \"instead. (scorer=%s)\"\n",
    "                             % (str(score), type(score), name))\n",
    "    return scores\n",
    "\n",
    "\n",
    "def getData(goldindfile, drugfeatfiles, diseasefeatfiles, selectedFeatures=None):\n",
    "    if selectedFeatures != None:\n",
    "        selectedFeatures += ['Drug','Disease']\n",
    "\n",
    "        \n",
    "    #Use delimiter with txt files, not with csv files. Remove delimiter with csv\n",
    "    gold_df= pd.read_csv(goldindfile, delimiter='\\t')\n",
    "\n",
    "    drugs=gold_df.Drug.unique()\n",
    "    diseases=gold_df.Disease.unique()\n",
    "\n",
    "    for i,featureFilename in enumerate(drugfeatfiles):\n",
    "        temp=pd.read_csv(featureFilename, delimiter='\\t')\n",
    "        if i != 0:\n",
    "            drug_df=drug_df.merge(temp,on='Drug')\n",
    "            #drug_df=drug_df.merge(temp,how='outer',on='Drug')\n",
    "        else:\n",
    "            drug_df =temp\n",
    "\n",
    "    #drug_df.fillna(0,inplace=True)\n",
    "\n",
    "    if selectedFeatures != None:\n",
    "        drug_feature_names = drug_df.columns.intersection(selectedFeatures)\n",
    "        drug_df=drug_df[drug_feature_names]\n",
    "\n",
    "    for i,featureFilename in enumerate(diseasefeatfiles):\n",
    "        temp=pd.read_csv(featureFilename, delimiter='\\t')\n",
    "        if i != 0:\n",
    "            disease_df=disease_df.merge(temp,on='Disease')\n",
    "        else:\n",
    "            disease_df =temp\n",
    "\n",
    "    if selectedFeatures != None:\n",
    "        disease_feature_names = disease_df.columns.intersection(selectedFeatures)\n",
    "        disease_df=disease_df[disease_feature_names]\n",
    "\n",
    "    print (\"number of drugs \",len(drug_df))\n",
    "    print (\"number of diseases \",len( disease_df))\n",
    "    commonDrugs=set(drug_df['Drug'].unique()).intersection(set(drugs))\n",
    "    commonDiseases=set(disease_df['Disease'].unique()).intersection(set(diseases))\n",
    "\n",
    "    gold_df=gold_df.loc[gold_df['Drug'].isin(commonDrugs) & gold_df['Disease'].isin(commonDiseases) ] \n",
    "    drug_df=drug_df.loc[drug_df['Drug'].isin(gold_df.Drug.unique())]\n",
    "    disease_df=disease_df.loc[disease_df['Disease'].isin(gold_df.Disease.unique())]\n",
    "    print (\"#drugs in gold \",len( drugs))\n",
    "    print (\"#diseases in gold \",len( diseases))\n",
    "    print (\"Used indications \",len(gold_df))\n",
    "       \n",
    "    return gold_df, drug_df, disease_df"
   ]
  },
  {
   "cell_type": "code",
   "execution_count": 3,
   "metadata": {
    "collapsed": true
   },
   "outputs": [],
   "source": [
    "\n",
    "\n",
    "def get_classification_model(model_type, model_fun = None, n_seed = None):\n",
    "    \"\"\"\n",
    "    model_type: custom | svm | logistic | knn | tree | rf | gbc\n",
    "    model_fun: the function implementing classifier when the model_type is custom\n",
    "    The allowed values for model_type are custom, svm, logistic, knn, tree, rf, gbc\n",
    "    corresponding to custom model provided in model_fun by the user or the default \n",
    "    models in Scikit-learn for support vector machine, k-nearest-neighbor, \n",
    "    decision tree, random forest and gradient boosting classifiers, respectively. \n",
    "    Returns the classifier object that provides fit and predict_proba methods.\n",
    "    \"\"\"\n",
    "    if model_type == \"svm\":\n",
    "        clf = svm.SVC(kernel='linear', probability=True, C=1)\n",
    "    elif model_type == \"logistic\":\n",
    "        clf = linear_model.LogisticRegression(penalty='l2', dual=False, tol=0.0001, C=1.0, random_state=n_seed) #, fit_intercept=True, intercept_scaling=1, class_weight=None, solver='liblinear', max_iter=100, multi_class='ovr', verbose=0, warm_start=False, n_jobs=1)\n",
    "    elif model_type == \"knn\":\n",
    "        clf = neighbors.KNeighborsClassifier(n_neighbors=5) #weights='uniform', algorithm='auto', leaf_size=30, p=2, metric='minkowski', metric_params=None, n_jobs=1)\n",
    "    elif model_type == \"tree\":\n",
    "        clf = tree.DecisionTreeClassifier(criterion='gini', random_state=n_seed) #splitter='best', max_depth=None, min_samples_split=2, min_samples_leaf=1, min_weight_fraction_leaf=0.0, max_features=None, max_leaf_nodes=None, class_weight=None, presort=False)\n",
    "    elif model_type == \"rf\":\n",
    "        clf = ensemble.RandomForestClassifier(n_estimators=100, criterion='gini', random_state=n_seed) #, max_depth=None, min_samples_split=2, min_samples_leaf=1, min_weight_fraction_leaf=0.0, max_features='auto', max_leaf_nodes=None, bootstrap=True, oob_score=False, n_jobs=1, verbose=0, warm_start=False, class_weight=None)\n",
    "    elif model_type == \"gbc\":\n",
    "        clf = ensemble.GradientBoostingClassifier(n_estimators= 100, max_depth= 5, random_state = n_seed, max_features=0.9)\n",
    "        #clf = ensemble.GradientBoostingClassifier(n_estimators=100, loss='deviance', learning_rate=0.1, subsample=1.0, random_state=n_seed) #, min_samples_split=2, min_samples_leaf=1, min_weight_fraction_leaf=0.0, max_depth=3, init=None, max_features=None, verbose=0, max_leaf_nodes=None, warm_start=False, presort='auto')\n",
    "    elif model_type == \"custom\":\n",
    "        if fun is None:\n",
    "            raise ValueError(\"Custom model requires fun argument to be defined!\")\n",
    "        clf = fun\n",
    "    else:\n",
    "        raise ValueError(\"Uknown model type: %s!\" % model_type)\n",
    "    return clf"
   ]
  },
  {
   "cell_type": "code",
   "execution_count": 4,
   "metadata": {},
   "outputs": [],
   "source": [
    "def getAbsoluteTrain(pairs, classes, n_proportion):\n",
    "   \n",
    "    classes = numpy.array(classes)\n",
    "    pairs = numpy.array(pairs)\n",
    "    idx_false_list = []\n",
    "    idx_true_list = []\n",
    "    for idx, (pair, class_) in enumerate(zip(pairs, classes)):\n",
    "        if class_ == 0:\n",
    "            idx_false_list.append(idx)\n",
    "        else:\n",
    "            idx_true_list.append(idx)\n",
    "\n",
    "    if n_proportion >= 1:\n",
    "            indicies_train_negative = random.sample(idx_false_list, n_proportion * len(idx_true_list))\n",
    "    else:\n",
    "            indicies_train_negative = idx_false_list\n",
    "    indices_train = idx_true_list + indicies_train_negative\n",
    "    return pairs,  classes, indices_train"
   ]
  },
  {
   "cell_type": "code",
   "execution_count": 5,
   "metadata": {},
   "outputs": [],
   "source": [
    "args = dict()\n",
    "args[\"goldindications\"] = \"data/input/unified-gold-standard-umls.txt\" \n",
    "args[\"predictions\"] = \"data/predictions/PREDICT-repositioned-drug-mapped.csv\" \n",
    "args[\"output\"] = \"data/predictions/PREDICT-repositioned-rf.csv\"\n",
    "args[\"modeltype\"] = \"rf\"\n",
    "args[\"drugfeat\"] = [\"data/features/drugs-targets.txt\",\"data/features/drugs-fingerprint.txt\",\"data/features/drugs-sider-se.txt\"]\n",
    "args[\"diseasefeat\"] = [\"data/features/diseases-ndfrt-meddra.txt\"]\n",
    "args[\"proportion\"]= 2"
   ]
  },
  {
   "cell_type": "code",
   "execution_count": 6,
   "metadata": {
    "collapsed": true
   },
   "outputs": [
    {
     "name": "stdout",
     "output_type": "stream",
     "text": [
      "number of drugs  816\n",
      "number of diseases  1393\n",
      "#drugs in gold  1594\n",
      "#diseases in gold  1611\n",
      "Used indications  4715\n",
      "commonDiseases 1103\n",
      "commonDrugs 788\n",
      "train # 14145\n"
     ]
    },
    {
     "data": {
      "text/plain": [
       "RandomForestClassifier(bootstrap=True, class_weight=None, criterion='gini',\n",
       "            max_depth=None, max_features='auto', max_leaf_nodes=None,\n",
       "            min_impurity_decrease=0.0, min_impurity_split=None,\n",
       "            min_samples_leaf=1, min_samples_split=2,\n",
       "            min_weight_fraction_leaf=0.0, n_estimators=100, n_jobs=None,\n",
       "            oob_score=False, random_state=205, verbose=0, warm_start=False)"
      ]
     },
     "execution_count": 6,
     "metadata": {},
     "output_type": "execute_result"
    }
   ],
   "source": [
    "goldindfile=args[\"goldindications\"]\n",
    "predictions=args[\"predictions\"]\n",
    "model_type=args[\"modeltype\"]\n",
    "drugfeatfiles=args[\"drugfeat\"]\n",
    "diseasefeatfiles=args[\"diseasefeat\"]\n",
    "n_proportion = int(args[\"proportion\"])\n",
    "output_file_name=args[\"output\"]\n",
    "#Get parameters\n",
    "n_seed = 205\n",
    "#random.seed(n_seed) # for reproducibility\n",
    "n_subset =-1\n",
    "\n",
    "#Use \", delimiter='\\t'\" delimiter with txt files, not with csv files. Remove delimiter with csv\n",
    "pred_df = pd.read_csv(predictions, delimiter='\\t')\n",
    "\n",
    "\n",
    "selectedFeatures =None\n",
    "\n",
    "#Gets goldstandard data and binary feature matrix for both the indicated drug and disease files\n",
    "gold_df, drug_df, disease_df = getData(goldindfile, drugfeatfiles, diseasefeatfiles, selectedFeatures)\n",
    "\n",
    "features=[ fn[fn.index('-')+1:fn.index('.txt')] for fn in drugfeatfiles+diseasefeatfiles]\n",
    "\n",
    "\n",
    "drugDiseaseKnown = set([tuple(x) for x in  gold_df[['Drug','Disease']].values])\n",
    "\n",
    "commonDrugs=drug_df['Drug'].unique()\n",
    "commonDiseases=disease_df['Disease'].unique()\n",
    "pairs=[]\n",
    "classes=[]\n",
    "print (\"commonDiseases\",len(commonDiseases))\n",
    "print (\"commonDrugs\",len(commonDrugs))\n",
    "for dr in commonDrugs:\n",
    "    for di in commonDiseases:\n",
    "        if (dr,di)  in drugDiseaseKnown:\n",
    "            cls=1\n",
    "        else:\n",
    "            cls=0\n",
    "        pairs.append((dr,di))\n",
    "        classes.append(cls)\n",
    "\n",
    "pairs,  classes, train_indicies  = getAbsoluteTrain(pairs, classes, n_proportion)\n",
    "pairs_train_df = pd.DataFrame( list(zip(pairs[train_indicies,0],pairs[train_indicies,1],classes[train_indicies])),columns=['Drug','Disease','Class'])\n",
    "\n",
    "train_df=pd.merge( pd.merge(drug_df,pairs_train_df, on='Drug'),disease_df,on='Disease')\n",
    "\n",
    "features= train_df.columns.difference(['Drug','Disease','Class'])\n",
    "\n",
    "print (\"train #\",len(train_df))\n",
    "X=train_df[features].values\n",
    "y=train_df['Class'].values.ravel()\n",
    "\n",
    "model_fun=None\n",
    "clf= get_classification_model(model_type, model_fun, n_seed)\n",
    "clf.fit(X,y)\n"
   ]
  },
  {
   "cell_type": "code",
   "execution_count": 7,
   "metadata": {},
   "outputs": [
    {
     "data": {
      "text/plain": [
       "array([0.00000000e+00, 0.00000000e+00, 4.27046926e-05, ...,\n",
       "       0.00000000e+00, 9.37895519e-09, 0.00000000e+00])"
      ]
     },
     "execution_count": 7,
     "metadata": {},
     "output_type": "execute_result"
    }
   ],
   "source": [
    "#This function (feature_importances_) only works when the modeltype is a Random forest (\"rf\"). This is used to collect the importance of each feature\n",
    "clf.feature_importances_"
   ]
  },
  {
   "cell_type": "code",
   "execution_count": 8,
   "metadata": {},
   "outputs": [],
   "source": [
    "#Contructs pandas dataframe of ascending importance\n",
    "feat_df = pd.DataFrame(list(zip(features, clf.feature_importances_)), columns=['feature','importance'])\n",
    "feat_df =feat_df.sort_values(by='importance',ascending=False)"
   ]
  },
  {
   "cell_type": "code",
   "execution_count": 9,
   "metadata": {},
   "outputs": [],
   "source": [
    "#Currently selects the best 100 features. This can be used to define the columns you wish to use for the model and the related datasets\n",
    "feat_df.head(100).to_csv('data/output/selected_features.csv',index=False)"
   ]
  },
  {
   "cell_type": "code",
   "execution_count": null,
   "metadata": {},
   "outputs": [],
   "source": []
  }
 ],
 "metadata": {
  "kernelspec": {
   "display_name": "Python 3",
   "language": "python",
   "name": "python3"
  },
  "language_info": {
   "codemirror_mode": {
    "name": "ipython",
    "version": 3
   },
   "file_extension": ".py",
   "mimetype": "text/x-python",
   "name": "python",
   "nbconvert_exporter": "python",
   "pygments_lexer": "ipython3",
   "version": "3.6.8"
  }
 },
 "nbformat": 4,
 "nbformat_minor": 2
}
