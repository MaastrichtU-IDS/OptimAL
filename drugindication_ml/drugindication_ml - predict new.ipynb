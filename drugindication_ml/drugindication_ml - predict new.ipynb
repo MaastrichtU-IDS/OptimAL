{
 "cells": [
  {
   "cell_type": "code",
   "execution_count": 1,
   "metadata": {
    "collapsed": true
   },
   "outputs": [],
   "source": [
    "from sklearn import tree, ensemble\n",
    "from sklearn.externals import joblib\n",
    "from sklearn.feature_selection import VarianceThreshold,SelectFromModel\n",
    "from sklearn import svm, linear_model, neighbors\n",
    "from sklearn import metrics\n",
    "\n",
    "\n",
    "import numpy\n",
    "from sklearn import model_selection as cross_validation\n",
    "from sklearn import preprocessing\n",
    "from sklearn.model_selection import cross_val_score\n",
    "\n",
    "import argparse\n",
    "import random\n",
    "import csv\n",
    "import numbers\n",
    "import gc\n",
    "\n",
    "import pandas as pd\n",
    "from sklearn.metrics.scorer import _check_multimetric_scoring"
   ]
  },
  {
   "cell_type": "code",
   "execution_count": 1,
   "metadata": {
    "collapsed": true
   },
   "outputs": [],
   "source": [
    "from src import train_and_test"
   ]
  },
  {
   "cell_type": "code",
   "execution_count": 3,
   "metadata": {},
   "outputs": [
    {
     "name": "stdout",
     "output_type": "stream",
     "text": [
      "number of drugs  816\n",
      "number of diseases  1393\n",
      "#drugs in gold  1594\n",
      "#diseases in gold  1611\n",
      "Used indications  4715\n",
      "commonDiseases 1103\n",
      "commonDrugs 788\n",
      "train # 14145\n",
      "#features 100\n",
      "test samples #: 3094\n"
     ]
    }
   ],
   "source": [
    "args = dict()\n",
    "args[\"goldindications\"] = \"data/input/unified-gold-standard-umls.txt\" \n",
    "args[\"predictions\"] = \"data/predictions/PREDICT-repositioned-drug-mapped.csv\" \n",
    "args[\"output\"] = \"data/predictions/PREDICT-repositioned-rf.csv\"\n",
    "args[\"modeltype\"] = \"rf\"\n",
    "args[\"featureselection\"] = \"data/output/selected_features.csv\"\n",
    "args[\"drugfeat\"] = [\"data/features/drugs-targets.txt\",\"data/features/drugs-fingerprint.txt\",\"data/features/drugs-sider-se.txt\"]\n",
    "args[\"diseasefeat\"] = [\"data/features/diseases-ndfrt-meddra.txt\"]\n",
    "args[\"proportion\"]= 2\n",
    "\n",
    "\n",
    "goldindfile=args[\"goldindications\"]\n",
    "predictions=args[\"predictions\"]\n",
    "model_type=args[\"modeltype\"]\n",
    "drugfeatfiles=args[\"drugfeat\"]\n",
    "diseasefeatfiles=args[\"diseasefeat\"]\n",
    "featureselectionfile =args[\"featureselection\"]\n",
    "n_proportion = int(args[\"proportion\"])\n",
    "output_file_name=args[\"output\"]\n",
    "#Get parameters\n",
    "n_seed = 205\n",
    "\n",
    "train_and_test.makePredictions(goldindfile, model_type, predictions, output_file_name, drugfeatfiles, diseasefeatfiles, featureselectionfile, n_proportion, n_seed )"
   ]
  },
  {
   "cell_type": "code",
   "execution_count": null,
   "metadata": {
    "collapsed": true
   },
   "outputs": [],
   "source": []
  },
  {
   "cell_type": "code",
   "execution_count": null,
   "metadata": {},
   "outputs": [],
   "source": []
  }
 ],
 "metadata": {
  "kernelspec": {
   "display_name": "Python 3",
   "language": "python",
   "name": "python3"
  },
  "language_info": {
   "codemirror_mode": {
    "name": "ipython",
    "version": 3
   },
   "file_extension": ".py",
   "mimetype": "text/x-python",
   "name": "python",
   "nbconvert_exporter": "python",
   "pygments_lexer": "ipython3",
   "version": "3.7.3"
  }
 },
 "nbformat": 4,
 "nbformat_minor": 2
}
